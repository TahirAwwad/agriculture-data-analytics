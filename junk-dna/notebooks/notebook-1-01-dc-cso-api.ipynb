{
 "cells": [
  {
   "cell_type": "markdown",
   "id": "9082566a",
   "metadata": {},
   "source": [
    "## Download datasets"
   ]
  },
  {
   "cell_type": "markdown",
   "id": "c7087a81",
   "metadata": {},
   "source": [
    "<!--\n",
    "import data_analytics.github as github\n",
    "print(github.create_jupyter_notebook_header(\"tahirawwad\", \"agriculture-data-analytics\", \"notebooks/notebook-1-01-dc-cso-api.ipynb\", \"master\"))\n",
    "-->\n",
    "<table style=\"margin: auto;\"><tr><td><a href=\"https://mybinder.org/v2/gh/tahirawwad/agriculture-data-analytics/master?filepath=notebooks/notebook-1-01-dc-cso-api.ipynb\" target=\"_parent\"><img src=\"https://mybinder.org/badge_logo.svg\" alt=\"Open In Binder\"/></a></td><td>online editors</td><td><a href=\"https://colab.research.google.com/github/tahirawwad/agriculture-data-analytics/blob/master/notebooks/notebook-1-01-dc-cso-api.ipynb\" target=\"_parent\"><img src=\"https://colab.research.google.com/assets/colab-badge.svg\" alt=\"Open In Colab\"/></a></td></tr></table>"
   ]
  },
  {
   "cell_type": "markdown",
   "id": "56febeee",
   "metadata": {},
   "source": [
    "### Objective"
   ]
  },
  {
   "cell_type": "markdown",
   "id": "7f54667f",
   "metadata": {},
   "source": [
    "The objective is to download the datasets with the listed in [asset-link-builder.xlsx](./../artifacts/asset-link-builder.xlsx) from [cso.ie](https://wwww.cso.ie).  "
   ]
  },
  {
   "cell_type": "markdown",
   "id": "61d9db23",
   "metadata": {},
   "source": [
    "### Setup"
   ]
  },
  {
   "cell_type": "markdown",
   "id": "97f765e1",
   "metadata": {},
   "source": [
    "Import required third party Python libraries, import supporting functions and sets up data source file paths."
   ]
  },
  {
   "cell_type": "code",
   "execution_count": 1,
   "id": "274eed0d",
   "metadata": {
    "ExecuteTime": {
     "end_time": "2022-01-27T04:58:19.470571Z",
     "start_time": "2022-01-27T04:58:19.455573Z"
    }
   },
   "outputs": [],
   "source": [
    "# Local\n",
    "#!pip install -r script/requirements.txt\n",
    "# Remote option\n",
    "#!pip install -r https://raw.githubusercontent.com/tahirawwad/agriculture-data-analytics/requirements.txt\n",
    "#Options: --quiet --user"
   ]
  },
  {
   "cell_type": "code",
   "execution_count": 2,
   "id": "0ca15e5d",
   "metadata": {
    "ExecuteTime": {
     "end_time": "2022-01-27T04:58:20.439772Z",
     "start_time": "2022-01-27T04:58:19.473572Z"
    }
   },
   "outputs": [],
   "source": [
    "from agriculture_data_analytics import cso_ie\n",
    "from pandas import DataFrame, ExcelFile"
   ]
  },
  {
   "cell_type": "markdown",
   "id": "0097e39f",
   "metadata": {},
   "source": [
    "### Download CSO Data sources"
   ]
  },
  {
   "cell_type": "code",
   "execution_count": 3,
   "id": "62f16ab3",
   "metadata": {
    "ExecuteTime": {
     "end_time": "2022-01-27T04:58:20.867760Z",
     "start_time": "2022-01-27T04:58:20.442763Z"
    }
   },
   "outputs": [],
   "source": [
    "filepath = './../artifacts/asset-link-builder.xlsx'\n",
    "\n",
    "excelWorkbook: ExcelFile = ExcelFile(filepath)\n",
    "\n",
    "cso_datasources_dataframe: DataFrame = excelWorkbook.parse('CSO Tables')\n",
    "excelWorkbook.close()"
   ]
  },
  {
   "cell_type": "code",
   "execution_count": 4,
   "id": "af6a956d",
   "metadata": {
    "ExecuteTime": {
     "end_time": "2022-01-27T04:58:20.913763Z",
     "start_time": "2022-01-27T04:58:20.869763Z"
    }
   },
   "outputs": [
    {
     "data": {
      "text/html": [
       "<div>\n",
       "<style scoped>\n",
       "    .dataframe tbody tr th:only-of-type {\n",
       "        vertical-align: middle;\n",
       "    }\n",
       "\n",
       "    .dataframe tbody tr th {\n",
       "        vertical-align: top;\n",
       "    }\n",
       "\n",
       "    .dataframe thead th {\n",
       "        text-align: right;\n",
       "    }\n",
       "</style>\n",
       "<table border=\"1\" class=\"dataframe\">\n",
       "  <thead>\n",
       "    <tr style=\"text-align: right;\">\n",
       "      <th></th>\n",
       "      <th>Code</th>\n",
       "      <th>Title</th>\n",
       "    </tr>\n",
       "  </thead>\n",
       "  <tbody>\n",
       "    <tr>\n",
       "      <th>2</th>\n",
       "      <td>AEA01</td>\n",
       "      <td>Value at Current Prices for Output, Input and ...</td>\n",
       "    </tr>\n",
       "    <tr>\n",
       "      <th>16</th>\n",
       "      <td>DAA01</td>\n",
       "      <td>Bovine Tuberculosis</td>\n",
       "    </tr>\n",
       "    <tr>\n",
       "      <th>19</th>\n",
       "      <td>TSA04</td>\n",
       "      <td>Exports of Cattle and Beef 1930-2020</td>\n",
       "    </tr>\n",
       "  </tbody>\n",
       "</table>\n",
       "</div>"
      ],
      "text/plain": [
       "     Code                                              Title\n",
       "2   AEA01  Value at Current Prices for Output, Input and ...\n",
       "16  DAA01                                Bovine Tuberculosis\n",
       "19  TSA04               Exports of Cattle and Beef 1930-2020"
      ]
     },
     "execution_count": 4,
     "metadata": {},
     "output_type": "execute_result"
    }
   ],
   "source": [
    "cso_datasources_dataframe = cso_datasources_dataframe[cso_datasources_dataframe['Download Date'] == '2022-01-19']\n",
    "cso_datasources_dataframe[['Code', 'Title']]"
   ]
  },
  {
   "cell_type": "code",
   "execution_count": 5,
   "id": "441a8960",
   "metadata": {
    "ExecuteTime": {
     "end_time": "2022-01-27T04:58:22.160570Z",
     "start_time": "2022-01-27T04:58:20.916762Z"
    }
   },
   "outputs": [
    {
     "name": "stdout",
     "output_type": "stream",
     "text": [
      "Get AEA01 Value at Current Prices for Output, Input and Income in Agriculture\n",
      "Downloaded https://data.cso.ie/table/AEA01\n",
      "       Statistic  Year  State          UNIT   VALUE\n",
      "0  All Livestock  1990  State  Euro Million  2201.9\n",
      "1  All Livestock  1991  State  Euro Million  2114.0\n",
      "2  All Livestock  1992  State  Euro Million  2262.5\n",
      "3  All Livestock  1993  State  Euro Million  2449.6\n",
      "4  All Livestock  1994  State  Euro Million  2319.3\n",
      "Saved to \"./../assets/cso-aea01-value-at-current-prices-for-output-input-and-income-in-agriculture.csv\"\n",
      "\n",
      "Get DAA01 Bovine Tuberculosis\n",
      "Downloaded https://data.cso.ie/table/DAA01\n",
      "         Statistic  Year Regional Veterinary Offices    UNIT     VALUE\n",
      "0  Herds in County  2010                       State  Number  116815.0\n",
      "1  Herds in County  2010                      Carlow  Number    1353.0\n",
      "2  Herds in County  2010                       Cavan  Number    4915.0\n",
      "3  Herds in County  2010                       Clare  Number    6282.0\n",
      "4  Herds in County  2010                  Cork North  Number    5986.0\n",
      "Saved to \"./../assets/cso-daa01-bovine-tuberculosis.csv\"\n",
      "\n",
      "Get TSA04 Exports of Cattle and Beef 1930-2020\n",
      "Downloaded https://data.cso.ie/table/TSA04\n",
      "           Statistic  Year  State      UNIT   VALUE\n",
      "0  Exports of Cattle  1930  State  Thousand  857.88\n",
      "1  Exports of Cattle  1931  State  Thousand  765.95\n",
      "2  Exports of Cattle  1932  State  Thousand  645.18\n",
      "3  Exports of Cattle  1933  State  Thousand  589.86\n",
      "4  Exports of Cattle  1934  State  Thousand  511.10\n",
      "Saved to \"./../assets/cso-tsa04-exports-of-cattle-and-beef-1930-2020.csv\"\n",
      "\n"
     ]
    }
   ],
   "source": [
    "for _, cso_datasource in cso_datasources_dataframe.iterrows():\n",
    "    print(\"Get\", cso_datasource['Code'], cso_datasource['Title'])\n",
    "    dataframe = cso_ie.download_cso_table_dataframe(cso_datasource['Code'])\n",
    "    filepath: str = f\"./../assets/{cso_datasource['Filename']}\"\n",
    "    dataframe.to_csv(filepath, index=False)\n",
    "    print(dataframe.head())\n",
    "    print(f'Saved to \"{filepath}\"')\n",
    "    print()"
   ]
  },
  {
   "cell_type": "markdown",
   "id": "6a0db62e",
   "metadata": {},
   "source": [
    "### Normalize CSO Data sources"
   ]
  },
  {
   "cell_type": "markdown",
   "id": "2676cd25",
   "metadata": {},
   "source": [
    "#### AEA01 Value at Current Prices for Output, Input and Income in Agriculture"
   ]
  },
  {
   "cell_type": "code",
   "execution_count": 6,
   "id": "c094ebd7",
   "metadata": {
    "ExecuteTime": {
     "end_time": "2022-01-27T04:58:22.239564Z",
     "start_time": "2022-01-27T04:58:22.163571Z"
    }
   },
   "outputs": [],
   "source": [
    "import pandas\n",
    "filepath: str = './../assets/cso-aea01-value-at-current-prices-for-output-input-and-income-in-agriculture.csv'\n",
    "prc_9021df = pandas.read_csv(filepath).pivot_table(columns=\"Statistic\",\n",
    "                                                   index=['Year', 'UNIT'],\n",
    "                                                   values='VALUE',\n",
    "                                                   dropna=True).reset_index()\n",
    "\n",
    "prc_9021df.to_csv('./../artifacts/TA_inputoutputvalue_1990_2021_CSO.csv')"
   ]
  },
  {
   "cell_type": "markdown",
   "id": "ebff3626",
   "metadata": {},
   "source": [
    "#### AEA05 Value at Current Prices for Subsidies on Products"
   ]
  },
  {
   "cell_type": "code",
   "execution_count": 7,
   "id": "01bc7047",
   "metadata": {
    "ExecuteTime": {
     "end_time": "2022-01-27T04:58:22.270567Z",
     "start_time": "2022-01-27T04:58:22.243574Z"
    }
   },
   "outputs": [],
   "source": [
    "filepath: str = './../assets/cso-aea05-value-at-current-prices-for-subsidies-on-products.csv'\n",
    "\n",
    "subsidies_df = pandas.read_csv(filepath).pivot_table(\n",
    "    columns=\"Statistic\", index=['Year', 'UNIT'], values='VALUE',\n",
    "    dropna=True).reset_index()\n",
    "\n",
    "#subsidies_df.to_csv('./../artifacts/TA_subsidies_1990_2020_CSO.csv')"
   ]
  },
  {
   "cell_type": "markdown",
   "id": "5fcd94ac",
   "metadata": {},
   "source": [
    "#### AHA01 Agricultural Input and Output Price Indices"
   ]
  },
  {
   "cell_type": "code",
   "execution_count": 8,
   "id": "f5575a9d",
   "metadata": {
    "ExecuteTime": {
     "end_time": "2022-01-27T04:58:22.318569Z",
     "start_time": "2022-01-27T04:58:22.273567Z"
    }
   },
   "outputs": [],
   "source": [
    "filepath: str = './../assets/cso-aha01-agricultural-input-and-output-price-indices.csv'\n",
    "\n",
    "prc_idx_9510_df = pandas.read_csv(filepath).pivot_table(\n",
    "    columns=\"Agricultural Product\",\n",
    "    index=['Year', 'UNIT'],\n",
    "    values='VALUE',\n",
    "    dropna=True).reset_index()\n",
    "\n",
    "#prc_idx_9510_df.to_csv(    './../artifacts/TA_inputoutputpriceIDX_1995_2010_CSO.csv')"
   ]
  },
  {
   "cell_type": "markdown",
   "id": "2a205e36",
   "metadata": {},
   "source": [
    "#### AHA03 Agricultural Input and Output Price Indices"
   ]
  },
  {
   "cell_type": "code",
   "execution_count": 9,
   "id": "345dd060",
   "metadata": {
    "ExecuteTime": {
     "end_time": "2022-01-27T04:58:22.349567Z",
     "start_time": "2022-01-27T04:58:22.320566Z"
    }
   },
   "outputs": [],
   "source": [
    "filepath: str = './../assets/cso-aha03-agricultural-input-and-output-price-indices.csv'\n",
    "\n",
    "prc_idx_0517_df = pandas.read_csv(filepath).pivot_table(\n",
    "    columns=\"Agricultural Product\",\n",
    "    index=['Year', 'UNIT'],\n",
    "    values='VALUE',\n",
    "    dropna=True).reset_index()\n",
    "\n",
    "#prc_idx_0517_df.to_csv('./../artifacts/TA_inputoutputpriceIDX_2005_2017_CSO.csv')"
   ]
  },
  {
   "cell_type": "markdown",
   "id": "bc8c78c0",
   "metadata": {},
   "source": [
    "#### AHA04 Agricultural Input and Output Price Indices (Base 2015=100)"
   ]
  },
  {
   "cell_type": "code",
   "execution_count": 10,
   "id": "355eb5a6",
   "metadata": {
    "ExecuteTime": {
     "end_time": "2022-01-27T04:58:22.380570Z",
     "start_time": "2022-01-27T04:58:22.351567Z"
    }
   },
   "outputs": [],
   "source": [
    "filepath: str = './../assets/cso-aha04-agricultural-input-and-output-price-indices.csv'\n",
    "\n",
    "prc_idx_1420_df = pandas.read_csv(filepath).pivot_table(\n",
    "    columns=\"Agricultural Product\",\n",
    "    index=['Year', 'UNIT'],\n",
    "    values='VALUE',\n",
    "    dropna=True).reset_index()\n",
    "\n",
    "#prc_idx_1420_df.to_csv('./../artifacts/TA_inputoutputpriceIDX_2014_2020_CSO.csv')"
   ]
  },
  {
   "cell_type": "markdown",
   "id": "5419373e",
   "metadata": {},
   "source": [
    "#### AQA03 Crop Yield 1985-2007"
   ]
  },
  {
   "cell_type": "code",
   "execution_count": 11,
   "id": "3b928add",
   "metadata": {
    "ExecuteTime": {
     "end_time": "2022-01-27T04:58:22.428566Z",
     "start_time": "2022-01-27T04:58:22.384571Z"
    }
   },
   "outputs": [],
   "source": [
    "filepath: str = './../assets/cso-aqa03-crop-yield-1985-2007.csv'\n",
    "\n",
    "crop_yield8507_df = pandas.read_csv(filepath).pivot_table(\n",
    "    columns=\"Statistic\",\n",
    "    index=['Year', 'Type of Crop', 'UNIT'],\n",
    "    values='VALUE',\n",
    "    dropna=True).reset_index()\n",
    "\n",
    "#crop_yield8507_df.to_csv('./../artifacts/TA_cropyield_1985_2007_CSO.csv')"
   ]
  },
  {
   "cell_type": "markdown",
   "id": "fbf8a5c9",
   "metadata": {},
   "source": [
    "#### AQA04 Crop Yield and Production"
   ]
  },
  {
   "cell_type": "code",
   "execution_count": 12,
   "id": "b5630167",
   "metadata": {
    "ExecuteTime": {
     "end_time": "2022-01-27T04:58:22.474564Z",
     "start_time": "2022-01-27T04:58:22.431568Z"
    }
   },
   "outputs": [],
   "source": [
    "filepath: str = './../assets/cso-aqa04-crop-yield-and-production.csv'\n",
    "\n",
    "crop_yield0820_df = pandas.read_csv(filepath).pivot_table(\n",
    "    columns=\"Statistic\",\n",
    "    index=['Year', 'Type of Crop', 'UNIT'],\n",
    "    values='VALUE',\n",
    "    dropna=True).reset_index().rename(\n",
    "        columns={\"Crop Production\": \"Crop Yield\"})\n",
    "\n",
    "#crop_yield0820_df.to_csv('./../artifacts/TA_cropyield_2008_2020_CSO.csv')"
   ]
  },
  {
   "cell_type": "markdown",
   "id": "9a0ea66a",
   "metadata": {},
   "source": [
    "Join Crop Yields from 1985 to 2020 into 1 dataframe"
   ]
  },
  {
   "cell_type": "code",
   "execution_count": 13,
   "id": "e1ec9373",
   "metadata": {
    "ExecuteTime": {
     "end_time": "2022-01-27T04:58:22.490567Z",
     "start_time": "2022-01-27T04:58:22.478568Z"
    }
   },
   "outputs": [],
   "source": [
    "# append crop yield from 1985 tp 2020\n",
    "crop_yield_ie_df = crop_yield8507_df.append(crop_yield0820_df)\n",
    "\n",
    "#crop_yield_ie_df.to_csv('./../artifacts/TA_cropyield_1985_2020_CSO.csv')"
   ]
  }
 ],
 "metadata": {
  "kernelspec": {
   "display_name": "Python 3 (ipykernel)",
   "language": "python",
   "name": "python3"
  },
  "language_info": {
   "codemirror_mode": {
    "name": "ipython",
    "version": 3
   },
   "file_extension": ".py",
   "mimetype": "text/x-python",
   "name": "python",
   "nbconvert_exporter": "python",
   "pygments_lexer": "ipython3",
   "version": "3.8.12"
  },
  "toc": {
   "base_numbering": 1,
   "nav_menu": {},
   "number_sections": false,
   "sideBar": true,
   "skip_h1_title": false,
   "title_cell": "Table of Contents",
   "title_sidebar": "Contents",
   "toc_cell": false,
   "toc_position": {
    "height": "calc(100% - 180px)",
    "left": "10px",
    "top": "150px",
    "width": "384px"
   },
   "toc_section_display": true,
   "toc_window_display": false
  }
 },
 "nbformat": 4,
 "nbformat_minor": 5
}
