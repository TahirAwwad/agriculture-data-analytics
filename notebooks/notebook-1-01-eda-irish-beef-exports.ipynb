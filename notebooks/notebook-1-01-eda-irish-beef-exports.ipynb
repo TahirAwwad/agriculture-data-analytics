{
 "cells": [
  {
   "cell_type": "markdown",
   "id": "f10f1dea",
   "metadata": {},
   "source": [
    "<style>\n",
    "*\n",
    "{\n",
    "\ttext-align: justify;\n",
    "\tline-height: 1.5;\n",
    "\tfont-family: \"Arial\", sans-serif;\n",
    "\tfont-size: 12px;\n",
    "}\n",
    "\n",
    "h2, h3, h4, h5, h6\n",
    "{\n",
    "\tfont-family: \"Arial\", sans-serif;\n",
    "\tfont-size: 12px;\n",
    "\tfont-weight: bold;\n",
    "}\n",
    "h2\n",
    "{\n",
    "\tfont-size: 14px;\n",
    "}\n",
    "h1\n",
    "{\n",
    "\tfont-family: \"Wingdings\", sans-serif;\n",
    "\tfont-size: 16px;\n",
    "}\n",
    "</style>"
   ]
  },
  {
   "cell_type": "markdown",
   "id": "bc595d50",
   "metadata": {},
   "source": [
    "## EDA of the cattle and beef exports (1930 - 2020)"
   ]
  },
  {
   "cell_type": "markdown",
   "id": "7a5bb8dc",
   "metadata": {},
   "source": [
    "<!--\n",
    "import data_analytics.github as github\n",
    "print(github.create_jupyter_notebook_header(\"markcrowe-com\", \"agriculture-data-analytics\", \"notebooks/notebook-1-01-eda-irish-beef-exports.ipynb\", \"master\"))\n",
    "-->\n",
    "<table style=\"margin: auto;\"><tr><td><a href=\"https://mybinder.org/v2/gh/markcrowe-com/agriculture-data-analytics/master?filepath=notebooks/notebook-1-01-eda-irish-beef-exports.ipynb\" target=\"_parent\"><img src=\"https://mybinder.org/badge_logo.svg\" alt=\"Open In Binder\"/></a></td><td>online editors</td><td><a href=\"https://colab.research.google.com/github/markcrowe-com/agriculture-data-analytics/blob/master/notebooks/notebook-1-01-eda-irish-beef-exports.ipynb\" target=\"_parent\"><img src=\"https://colab.research.google.com/assets/colab-badge.svg\" alt=\"Open In Colab\"/></a></td></tr></table>"
   ]
  },
  {
   "cell_type": "markdown",
   "id": "036f5aad",
   "metadata": {},
   "source": [
    "### Objective"
   ]
  },
  {
   "cell_type": "markdown",
   "id": "9cd4be9b",
   "metadata": {},
   "source": [
    "The objective is to provide an Exploratory Data Analysis (EDA) of the `cso-tsa04-exports-of-cattle-and-beef-1930-2020-2022-01Jan-13.csv` file provided by the <a href=\"https://data.cso.ie/table/TSA04\" target=\"_new\">CSO: TSA04 Table</a>. The EDA is performed to investigate and clean the data, to spot anomalies.  "
   ]
  },
  {
   "cell_type": "markdown",
   "id": "ff1ab85e",
   "metadata": {},
   "source": [
    "### Setup"
   ]
  },
  {
   "cell_type": "markdown",
   "id": "1caa871c",
   "metadata": {},
   "source": [
    "Import required third party Python libraries, import supporting functions and sets up data source file paths."
   ]
  },
  {
   "cell_type": "code",
   "execution_count": 1,
   "id": "9e3fdeee",
   "metadata": {},
   "outputs": [],
   "source": [
    "# Local\n",
    "#!pip install -r script/requirements.txt --quiet --user\n",
    "# Remote option\n",
    "#!pip install -r \"https://github.com/markcrowe-com/data-analytics-project-template/blob/master/notebooks/script/requirements.txt?raw=true\" --quiet --user"
   ]
  },
  {
   "cell_type": "code",
   "execution_count": 2,
   "id": "56370af1",
   "metadata": {},
   "outputs": [],
   "source": [
    "from agriculture_data_analytics.project_manager import *\n",
    "from agriculture_data_analytics.dataframe_labels import *\n",
    "from pandas import DataFrame\n",
    "import data_analytics.exploratory_data_analysis_reports as eda_reports\n",
    "import data_analytics.github as github\n",
    "import os\n",
    "import pandas"
   ]
  },
  {
   "cell_type": "code",
   "execution_count": 3,
   "id": "4d846147",
   "metadata": {},
   "outputs": [
    {
     "data": {
      "text/html": [
       "<strong>Data Sources</strong>"
      ],
      "text/plain": [
       "<IPython.core.display.HTML object>"
      ]
     },
     "metadata": {},
     "output_type": "display_data"
    },
    {
     "data": {
      "text/html": [
       "<p>Data Sources available at</p>"
      ],
      "text/plain": [
       "<IPython.core.display.HTML object>"
      ]
     },
     "metadata": {},
     "output_type": "display_data"
    },
    {
     "name": "stdout",
     "output_type": "stream",
     "text": [
      "https://github.com/markcrowe-com/agriculture-data-analytics/assets/cso-tsa04-exports-of-cattle-and-beef-1930-2020-2022-01Jan-13.csv?raw=true\n"
     ]
    }
   ],
   "source": [
    "artifact_manager: ProjectArtifactManager = ProjectArtifactManager()\n",
    "asset_manager: ProjectAssetManager = ProjectAssetManager()\n",
    "artifact_manager.is_remote = asset_manager.is_remote = True\n",
    "github.display_jupyter_notebook_data_sources(\n",
    "    [asset_manager.get_cattle_beef_exports_filepath()])\n",
    "artifact_manager.is_remote = asset_manager.is_remote = False"
   ]
  },
  {
   "cell_type": "markdown",
   "id": "59e82839",
   "metadata": {
    "heading_collapsed": true
   },
   "source": [
    "### Working with population estimates CSV file"
   ]
  },
  {
   "cell_type": "markdown",
   "id": "123516fd",
   "metadata": {
    "heading_collapsed": true,
    "hidden": true
   },
   "source": [
    "#### Create Data Frames"
   ]
  },
  {
   "cell_type": "code",
   "execution_count": 4,
   "id": "c2385c72",
   "metadata": {
    "hidden": true
   },
   "outputs": [],
   "source": [
    "filepath: str = asset_manager.get_cattle_beef_exports_filepath()\n",
    "beef_export_dataframe: DataFrame = pandas.read_csv(filepath)"
   ]
  },
  {
   "cell_type": "markdown",
   "id": "110223b5",
   "metadata": {
    "heading_collapsed": true,
    "hidden": true
   },
   "source": [
    "#### Renaming Columns"
   ]
  },
  {
   "cell_type": "code",
   "execution_count": 5,
   "id": "a3211836",
   "metadata": {
    "hidden": true
   },
   "outputs": [
    {
     "data": {
      "text/html": [
       "<div>\n",
       "<style scoped>\n",
       "    .dataframe tbody tr th:only-of-type {\n",
       "        vertical-align: middle;\n",
       "    }\n",
       "\n",
       "    .dataframe tbody tr th {\n",
       "        vertical-align: top;\n",
       "    }\n",
       "\n",
       "    .dataframe thead th {\n",
       "        text-align: right;\n",
       "    }\n",
       "</style>\n",
       "<table border=\"1\" class=\"dataframe\">\n",
       "  <thead>\n",
       "    <tr style=\"text-align: right;\">\n",
       "      <th></th>\n",
       "      <th>Statistic</th>\n",
       "      <th>Year</th>\n",
       "      <th>State</th>\n",
       "      <th>Unit</th>\n",
       "      <th>Value</th>\n",
       "    </tr>\n",
       "  </thead>\n",
       "  <tbody>\n",
       "  </tbody>\n",
       "</table>\n",
       "</div>"
      ],
      "text/plain": [
       "Empty DataFrame\n",
       "Columns: [Statistic, Year, State, Unit, Value]\n",
       "Index: []"
      ]
     },
     "execution_count": 5,
     "metadata": {},
     "output_type": "execute_result"
    }
   ],
   "source": [
    "old_to_new_column_names_dictionary = {\n",
    "    \"Exports of Beef\": BEEF_TONNES,\n",
    "    \"Exports of Cattle\": CATTLE,\n",
    "    UNIT.upper(): UNIT,\n",
    "    VALUE.upper(): VALUE,\n",
    "}\n",
    "beef_export_dataframe = beef_export_dataframe.rename(\n",
    "    columns=old_to_new_column_names_dictionary)\n",
    "beef_export_dataframe.head(0)"
   ]
  },
  {
   "cell_type": "markdown",
   "id": "a045d14d",
   "metadata": {
    "heading_collapsed": true
   },
   "source": [
    "### Data Type Analysis Quick View"
   ]
  },
  {
   "cell_type": "markdown",
   "id": "e1c59e56",
   "metadata": {
    "hidden": true
   },
   "source": [
    "Print an analysis report of each dataset.  \n",
    "- Show the top five rows of the data frame as a quick sample.\n",
    "- Show the data types of each column.\n",
    "- Report the count of any duplicate rows.\n",
    "- Report the counts of any missing values."
   ]
  },
  {
   "cell_type": "code",
   "execution_count": 6,
   "id": "aae771a0",
   "metadata": {
    "hidden": true
   },
   "outputs": [
    {
     "data": {
      "text/html": [
       "<h4>cso-tsa04-exports-of-cattle-and-beef-1930-2020-2022-01Jan-13.csv</h4>"
      ],
      "text/plain": [
       "<IPython.core.display.HTML object>"
      ]
     },
     "metadata": {},
     "output_type": "display_data"
    },
    {
     "data": {
      "text/html": [
       "<p>Row, Column Count: (182, 5)</p>"
      ],
      "text/plain": [
       "<IPython.core.display.HTML object>"
      ]
     },
     "metadata": {},
     "output_type": "display_data"
    },
    {
     "data": {
      "text/html": [
       "<h5>Sample: Top five rows</h5>"
      ],
      "text/plain": [
       "<IPython.core.display.HTML object>"
      ]
     },
     "metadata": {},
     "output_type": "display_data"
    },
    {
     "data": {
      "text/html": [
       "<div>\n",
       "<style scoped>\n",
       "    .dataframe tbody tr th:only-of-type {\n",
       "        vertical-align: middle;\n",
       "    }\n",
       "\n",
       "    .dataframe tbody tr th {\n",
       "        vertical-align: top;\n",
       "    }\n",
       "\n",
       "    .dataframe thead th {\n",
       "        text-align: right;\n",
       "    }\n",
       "</style>\n",
       "<table border=\"1\" class=\"dataframe\">\n",
       "  <thead>\n",
       "    <tr style=\"text-align: right;\">\n",
       "      <th></th>\n",
       "      <th>Statistic</th>\n",
       "      <th>Year</th>\n",
       "      <th>State</th>\n",
       "      <th>Unit</th>\n",
       "      <th>Value</th>\n",
       "    </tr>\n",
       "  </thead>\n",
       "  <tbody>\n",
       "    <tr>\n",
       "      <th>0</th>\n",
       "      <td>Exports of Cattle</td>\n",
       "      <td>1930</td>\n",
       "      <td>State</td>\n",
       "      <td>Thousand</td>\n",
       "      <td>857.88</td>\n",
       "    </tr>\n",
       "    <tr>\n",
       "      <th>1</th>\n",
       "      <td>Exports of Cattle</td>\n",
       "      <td>1931</td>\n",
       "      <td>State</td>\n",
       "      <td>Thousand</td>\n",
       "      <td>765.95</td>\n",
       "    </tr>\n",
       "    <tr>\n",
       "      <th>2</th>\n",
       "      <td>Exports of Cattle</td>\n",
       "      <td>1932</td>\n",
       "      <td>State</td>\n",
       "      <td>Thousand</td>\n",
       "      <td>645.18</td>\n",
       "    </tr>\n",
       "    <tr>\n",
       "      <th>3</th>\n",
       "      <td>Exports of Cattle</td>\n",
       "      <td>1933</td>\n",
       "      <td>State</td>\n",
       "      <td>Thousand</td>\n",
       "      <td>589.86</td>\n",
       "    </tr>\n",
       "    <tr>\n",
       "      <th>4</th>\n",
       "      <td>Exports of Cattle</td>\n",
       "      <td>1934</td>\n",
       "      <td>State</td>\n",
       "      <td>Thousand</td>\n",
       "      <td>511.10</td>\n",
       "    </tr>\n",
       "  </tbody>\n",
       "</table>\n",
       "</div>"
      ],
      "text/plain": [
       "           Statistic  Year  State      Unit   Value\n",
       "0  Exports of Cattle  1930  State  Thousand  857.88\n",
       "1  Exports of Cattle  1931  State  Thousand  765.95\n",
       "2  Exports of Cattle  1932  State  Thousand  645.18\n",
       "3  Exports of Cattle  1933  State  Thousand  589.86\n",
       "4  Exports of Cattle  1934  State  Thousand  511.10"
      ]
     },
     "metadata": {},
     "output_type": "display_data"
    },
    {
     "data": {
      "text/html": [
       "<h5>Data Types</h5>"
      ],
      "text/plain": [
       "<IPython.core.display.HTML object>"
      ]
     },
     "metadata": {},
     "output_type": "display_data"
    },
    {
     "data": {
      "text/plain": [
       "Statistic     object\n",
       "Year           int64\n",
       "State         object\n",
       "Unit          object\n",
       "Value        float64\n",
       "dtype: object"
      ]
     },
     "metadata": {},
     "output_type": "display_data"
    },
    {
     "data": {
      "text/html": [
       "<h5>Duplicates</h5>"
      ],
      "text/plain": [
       "<IPython.core.display.HTML object>"
      ]
     },
     "metadata": {},
     "output_type": "display_data"
    },
    {
     "data": {
      "text/html": [
       "<p>Number of duplicate rows: 0</p>"
      ],
      "text/plain": [
       "<IPython.core.display.HTML object>"
      ]
     },
     "metadata": {},
     "output_type": "display_data"
    },
    {
     "data": {
      "text/html": [
       "<h5>Null Values</h5>"
      ],
      "text/plain": [
       "<IPython.core.display.HTML object>"
      ]
     },
     "metadata": {},
     "output_type": "display_data"
    },
    {
     "name": "stdout",
     "output_type": "stream",
     "text": [
      "Statistic    0\n",
      "Year         0\n",
      "State        0\n",
      "Unit         0\n",
      "Value        0\n",
      "dtype: int64\n"
     ]
    },
    {
     "data": {
      "text/html": [
       "<h5>Single Value Columns</h5>"
      ],
      "text/plain": [
       "<IPython.core.display.HTML object>"
      ]
     },
     "metadata": {},
     "output_type": "display_data"
    },
    {
     "data": {
      "text/html": [
       "<ul><li>The column `State` has only one value. Recommend removing.</li></ul>"
      ],
      "text/plain": [
       "<IPython.core.display.HTML object>"
      ]
     },
     "metadata": {},
     "output_type": "display_data"
    },
    {
     "data": {
      "text/html": [
       "<h5>Columns: Unique value counts</h5>"
      ],
      "text/plain": [
       "<IPython.core.display.HTML object>"
      ]
     },
     "metadata": {},
     "output_type": "display_data"
    },
    {
     "data": {
      "text/html": [
       "<ul><li>The column \"Statistic\" has 2 unique values.</li><li>The column \"Year\" has 91 unique values.</li><li>The column \"State\" has 1 unique values.</li><li>The column \"Unit\" has 2 unique values.</li><li>The column \"Value\" has 174 unique values.</li></ul>"
      ],
      "text/plain": [
       "<IPython.core.display.HTML object>"
      ]
     },
     "metadata": {},
     "output_type": "display_data"
    },
    {
     "data": {
      "text/html": [
       "<h5>Outlier Analysis</h5>"
      ],
      "text/plain": [
       "<IPython.core.display.HTML object>"
      ]
     },
     "metadata": {},
     "output_type": "display_data"
    },
    {
     "data": {
      "text/html": [
       "<p>No columns with outliers found.</p>"
      ],
      "text/plain": [
       "<IPython.core.display.HTML object>"
      ]
     },
     "metadata": {},
     "output_type": "display_data"
    }
   ],
   "source": [
    "filename: str = os.path.basename(filepath)\n",
    "eda_reports.print_dataframe_analysis_report(beef_export_dataframe, filename)"
   ]
  },
  {
   "cell_type": "markdown",
   "id": "018c7783",
   "metadata": {
    "hidden": true
   },
   "source": [
    "I expected 91 records for the year range 1930-2020 but there are 182 records. The data has two records for each year.  The table is not normalized "
   ]
  },
  {
   "cell_type": "markdown",
   "id": "5646f3a6",
   "metadata": {},
   "source": [
    "### Normalizing the table"
   ]
  },
  {
   "cell_type": "code",
   "execution_count": 7,
   "id": "6f3ec0e2",
   "metadata": {},
   "outputs": [],
   "source": [
    "beef_export_dataframe = beef_export_dataframe.set_index(\n",
    "    [YEAR, STATISTIC])[VALUE].unstack().reset_index()\n",
    "beef_export_dataframe.columns = beef_export_dataframe.columns.tolist()\n",
    "beef_export_dataframe = beef_export_dataframe.rename(\n",
    "    columns=old_to_new_column_names_dictionary)"
   ]
  },
  {
   "cell_type": "markdown",
   "id": "28e22c1e",
   "metadata": {},
   "source": [
    "Standardize the Units of Measurement"
   ]
  },
  {
   "cell_type": "code",
   "execution_count": 8,
   "id": "53a2e5b3",
   "metadata": {},
   "outputs": [],
   "source": [
    "beef_export_dataframe[CATTLE] *= 1000\n",
    "beef_export_dataframe[BEEF_TONNES] *= 1000"
   ]
  },
  {
   "cell_type": "code",
   "execution_count": 9,
   "id": "b24f3ea5",
   "metadata": {},
   "outputs": [
    {
     "data": {
      "text/html": [
       "<div>\n",
       "<style scoped>\n",
       "    .dataframe tbody tr th:only-of-type {\n",
       "        vertical-align: middle;\n",
       "    }\n",
       "\n",
       "    .dataframe tbody tr th {\n",
       "        vertical-align: top;\n",
       "    }\n",
       "\n",
       "    .dataframe thead th {\n",
       "        text-align: right;\n",
       "    }\n",
       "</style>\n",
       "<table border=\"1\" class=\"dataframe\">\n",
       "  <thead>\n",
       "    <tr style=\"text-align: right;\">\n",
       "      <th></th>\n",
       "      <th>Year</th>\n",
       "      <th>Beef Tonnes</th>\n",
       "      <th>Cattle</th>\n",
       "    </tr>\n",
       "  </thead>\n",
       "  <tbody>\n",
       "    <tr>\n",
       "      <th>0</th>\n",
       "      <td>1930</td>\n",
       "      <td>1300.0</td>\n",
       "      <td>857880.0</td>\n",
       "    </tr>\n",
       "    <tr>\n",
       "      <th>1</th>\n",
       "      <td>1931</td>\n",
       "      <td>400.0</td>\n",
       "      <td>765950.0</td>\n",
       "    </tr>\n",
       "    <tr>\n",
       "      <th>2</th>\n",
       "      <td>1932</td>\n",
       "      <td>200.0</td>\n",
       "      <td>645180.0</td>\n",
       "    </tr>\n",
       "    <tr>\n",
       "      <th>3</th>\n",
       "      <td>1933</td>\n",
       "      <td>2000.0</td>\n",
       "      <td>589860.0</td>\n",
       "    </tr>\n",
       "    <tr>\n",
       "      <th>4</th>\n",
       "      <td>1934</td>\n",
       "      <td>0.0</td>\n",
       "      <td>511100.0</td>\n",
       "    </tr>\n",
       "  </tbody>\n",
       "</table>\n",
       "</div>"
      ],
      "text/plain": [
       "   Year  Beef Tonnes    Cattle\n",
       "0  1930       1300.0  857880.0\n",
       "1  1931        400.0  765950.0\n",
       "2  1932        200.0  645180.0\n",
       "3  1933       2000.0  589860.0\n",
       "4  1934          0.0  511100.0"
      ]
     },
     "execution_count": 9,
     "metadata": {},
     "output_type": "execute_result"
    }
   ],
   "source": [
    "beef_export_dataframe.head()"
   ]
  },
  {
   "cell_type": "markdown",
   "id": "46b999db",
   "metadata": {},
   "source": [
    "### Data Type Analysis Quick View"
   ]
  },
  {
   "cell_type": "code",
   "execution_count": 10,
   "id": "1e9b8b91",
   "metadata": {},
   "outputs": [
    {
     "data": {
      "text/html": [
       "<h4>cso-tsa04-exports-of-cattle-and-beef-1930-2020-2022-01Jan-13.csv</h4>"
      ],
      "text/plain": [
       "<IPython.core.display.HTML object>"
      ]
     },
     "metadata": {},
     "output_type": "display_data"
    },
    {
     "data": {
      "text/html": [
       "<p>Row, Column Count: (91, 3)</p>"
      ],
      "text/plain": [
       "<IPython.core.display.HTML object>"
      ]
     },
     "metadata": {},
     "output_type": "display_data"
    },
    {
     "data": {
      "text/html": [
       "<h5>Sample: Top five rows</h5>"
      ],
      "text/plain": [
       "<IPython.core.display.HTML object>"
      ]
     },
     "metadata": {},
     "output_type": "display_data"
    },
    {
     "data": {
      "text/html": [
       "<div>\n",
       "<style scoped>\n",
       "    .dataframe tbody tr th:only-of-type {\n",
       "        vertical-align: middle;\n",
       "    }\n",
       "\n",
       "    .dataframe tbody tr th {\n",
       "        vertical-align: top;\n",
       "    }\n",
       "\n",
       "    .dataframe thead th {\n",
       "        text-align: right;\n",
       "    }\n",
       "</style>\n",
       "<table border=\"1\" class=\"dataframe\">\n",
       "  <thead>\n",
       "    <tr style=\"text-align: right;\">\n",
       "      <th></th>\n",
       "      <th>Year</th>\n",
       "      <th>Beef Tonnes</th>\n",
       "      <th>Cattle</th>\n",
       "    </tr>\n",
       "  </thead>\n",
       "  <tbody>\n",
       "    <tr>\n",
       "      <th>0</th>\n",
       "      <td>1930</td>\n",
       "      <td>1300.0</td>\n",
       "      <td>857880.0</td>\n",
       "    </tr>\n",
       "    <tr>\n",
       "      <th>1</th>\n",
       "      <td>1931</td>\n",
       "      <td>400.0</td>\n",
       "      <td>765950.0</td>\n",
       "    </tr>\n",
       "    <tr>\n",
       "      <th>2</th>\n",
       "      <td>1932</td>\n",
       "      <td>200.0</td>\n",
       "      <td>645180.0</td>\n",
       "    </tr>\n",
       "    <tr>\n",
       "      <th>3</th>\n",
       "      <td>1933</td>\n",
       "      <td>2000.0</td>\n",
       "      <td>589860.0</td>\n",
       "    </tr>\n",
       "    <tr>\n",
       "      <th>4</th>\n",
       "      <td>1934</td>\n",
       "      <td>0.0</td>\n",
       "      <td>511100.0</td>\n",
       "    </tr>\n",
       "  </tbody>\n",
       "</table>\n",
       "</div>"
      ],
      "text/plain": [
       "   Year  Beef Tonnes    Cattle\n",
       "0  1930       1300.0  857880.0\n",
       "1  1931        400.0  765950.0\n",
       "2  1932        200.0  645180.0\n",
       "3  1933       2000.0  589860.0\n",
       "4  1934          0.0  511100.0"
      ]
     },
     "metadata": {},
     "output_type": "display_data"
    },
    {
     "data": {
      "text/html": [
       "<h5>Data Types</h5>"
      ],
      "text/plain": [
       "<IPython.core.display.HTML object>"
      ]
     },
     "metadata": {},
     "output_type": "display_data"
    },
    {
     "data": {
      "text/plain": [
       "Year             int64\n",
       "Beef Tonnes    float64\n",
       "Cattle         float64\n",
       "dtype: object"
      ]
     },
     "metadata": {},
     "output_type": "display_data"
    },
    {
     "data": {
      "text/html": [
       "<h5>Duplicates</h5>"
      ],
      "text/plain": [
       "<IPython.core.display.HTML object>"
      ]
     },
     "metadata": {},
     "output_type": "display_data"
    },
    {
     "data": {
      "text/html": [
       "<p>Number of duplicate rows: 0</p>"
      ],
      "text/plain": [
       "<IPython.core.display.HTML object>"
      ]
     },
     "metadata": {},
     "output_type": "display_data"
    },
    {
     "data": {
      "text/html": [
       "<h5>Null Values</h5>"
      ],
      "text/plain": [
       "<IPython.core.display.HTML object>"
      ]
     },
     "metadata": {},
     "output_type": "display_data"
    },
    {
     "name": "stdout",
     "output_type": "stream",
     "text": [
      "Year           0\n",
      "Beef Tonnes    0\n",
      "Cattle         0\n",
      "dtype: int64\n"
     ]
    },
    {
     "data": {
      "text/html": [
       "<h5>Single Value Columns</h5>"
      ],
      "text/plain": [
       "<IPython.core.display.HTML object>"
      ]
     },
     "metadata": {},
     "output_type": "display_data"
    },
    {
     "data": {
      "text/html": [
       "<p>No single value columns found.</p>"
      ],
      "text/plain": [
       "<IPython.core.display.HTML object>"
      ]
     },
     "metadata": {},
     "output_type": "display_data"
    },
    {
     "data": {
      "text/html": [
       "<h5>Columns: Unique value counts</h5>"
      ],
      "text/plain": [
       "<IPython.core.display.HTML object>"
      ]
     },
     "metadata": {},
     "output_type": "display_data"
    },
    {
     "data": {
      "text/html": [
       "<ul><li>The column \"Year\" has 91 unique values.</li><li>The column \"Beef Tonnes\" has 84 unique values.</li><li>The column \"Cattle\" has 91 unique values.</li></ul>"
      ],
      "text/plain": [
       "<IPython.core.display.HTML object>"
      ]
     },
     "metadata": {},
     "output_type": "display_data"
    },
    {
     "data": {
      "text/html": [
       "<h5>Outlier Analysis</h5>"
      ],
      "text/plain": [
       "<IPython.core.display.HTML object>"
      ]
     },
     "metadata": {},
     "output_type": "display_data"
    },
    {
     "data": {
      "text/html": [
       "<p>No columns with outliers found.</p>"
      ],
      "text/plain": [
       "<IPython.core.display.HTML object>"
      ]
     },
     "metadata": {},
     "output_type": "display_data"
    }
   ],
   "source": [
    "eda_reports.print_dataframe_analysis_report(beef_export_dataframe, filename)"
   ]
  },
  {
   "cell_type": "markdown",
   "id": "edc39f61",
   "metadata": {},
   "source": [
    "### Save Artifact"
   ]
  },
  {
   "cell_type": "markdown",
   "id": "74be102e",
   "metadata": {},
   "source": [
    "Saving the output of the notebook."
   ]
  },
  {
   "cell_type": "code",
   "execution_count": 11,
   "id": "a86813a1",
   "metadata": {},
   "outputs": [],
   "source": [
    "beef_export_dataframe.to_csv(artifact_manager.get_cattle_beef_exports_eda_filepath(),\n",
    "                             index=None)"
   ]
  },
  {
   "cell_type": "markdown",
   "id": "4ddde460",
   "metadata": {},
   "source": [
    "Author &copy; 2021 <a href=\"https://github.com/markcrowe-com\" target=\"_parent\">Mark Crowe</a>. All rights reserved."
   ]
  }
 ],
 "metadata": {
  "kernelspec": {
   "display_name": "Python 3 (ipykernel)",
   "language": "python",
   "name": "python3"
  },
  "language_info": {
   "codemirror_mode": {
    "name": "ipython",
    "version": 3
   },
   "file_extension": ".py",
   "mimetype": "text/x-python",
   "name": "python",
   "nbconvert_exporter": "python",
   "pygments_lexer": "ipython3",
   "version": "3.8.12"
  },
  "toc": {
   "base_numbering": 1,
   "nav_menu": {
    "height": "204px",
    "width": "371px"
   },
   "number_sections": false,
   "sideBar": true,
   "skip_h1_title": false,
   "title_cell": "Table of Contents",
   "title_sidebar": "Contents",
   "toc_cell": false,
   "toc_position": {
    "height": "calc(100% - 180px)",
    "left": "10px",
    "top": "150px",
    "width": "333px"
   },
   "toc_section_display": true,
   "toc_window_display": true
  }
 },
 "nbformat": 4,
 "nbformat_minor": 5
}
