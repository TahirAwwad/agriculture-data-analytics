{
 "cells": [
  {
   "cell_type": "markdown",
   "id": "f10f1dea",
   "metadata": {},
   "source": [
    "<style>\n",
    "*\n",
    "{\n",
    "\ttext-align: justify;\n",
    "\tline-height: 1.5;\n",
    "\tfont-family: \"Arial\", sans-serif;\n",
    "\tfont-size: 12px;\n",
    "}\n",
    "\n",
    "h2, h3, h4, h5, h6\n",
    "{\n",
    "\tfont-family: \"Arial\", sans-serif;\n",
    "\tfont-size: 12px;\n",
    "\tfont-weight: bold;\n",
    "}\n",
    "h2\n",
    "{\n",
    "\tfont-size: 14px;\n",
    "}\n",
    "h1\n",
    "{\n",
    "\tfont-family: \"Wingdings\", sans-serif;\n",
    "\tfont-size: 16px;\n",
    "}\n",
    "</style>"
   ]
  },
  {
   "cell_type": "markdown",
   "id": "bc595d50",
   "metadata": {},
   "source": [
    "## EDA of Irish Bovine Tuberculosis"
   ]
  },
  {
   "cell_type": "markdown",
   "id": "7a5bb8dc",
   "metadata": {},
   "source": [
    "<!--\n",
    "import data_analytics.github as github\n",
    "print(github.create_jupyter_notebook_header(\"tahirawwad\", \"agriculture-data-analytics\", \"notebooks/notebook-2-02-eda-irish-bovine-tuberculosis.ipynb\", \"master\"))\n",
    "-->\n",
    "<table style=\"margin: auto;\"><tr><td><a href=\"https://mybinder.org/v2/gh/tahirawwad/agriculture-data-analytics/master?filepath=notebooks/notebook-2-02-eda-irish-bovine-tuberculosis.ipynb\" target=\"_parent\"><img src=\"https://mybinder.org/badge_logo.svg\" alt=\"Open In Binder\"/></a></td><td>online editors</td><td><a href=\"https://colab.research.google.com/github/tahirawwad/agriculture-data-analytics/blob/master/notebooks/notebook-2-02-eda-irish-bovine-tuberculosis.ipynb\" target=\"_parent\"><img src=\"https://colab.research.google.com/assets/colab-badge.svg\" alt=\"Open In Colab\"/></a></td></tr></table>"
   ]
  },
  {
   "cell_type": "markdown",
   "id": "036f5aad",
   "metadata": {},
   "source": [
    "### Objective"
   ]
  },
  {
   "cell_type": "markdown",
   "id": "9cd4be9b",
   "metadata": {},
   "source": [
    "The objective is to provide an Exploratory Data Analysis (EDA) of the `cso-daa01-bovine-tuberculosis-2022-01-Jan-15.csv` file provided by the <a href=\"https://data.cso.ie/table/DAA01\" target=\"_new\">CSO: DAA01 Table</a>. The EDA is performed to investigate and clean the data, to spot anomalies.  "
   ]
  },
  {
   "cell_type": "markdown",
   "id": "ff1ab85e",
   "metadata": {},
   "source": [
    "### Setup"
   ]
  },
  {
   "cell_type": "markdown",
   "id": "1caa871c",
   "metadata": {},
   "source": [
    "Import required third party Python libraries, import supporting functions and sets up data source file paths."
   ]
  },
  {
   "cell_type": "code",
   "execution_count": 1,
   "id": "9e3fdeee",
   "metadata": {
    "ExecuteTime": {
     "end_time": "2022-01-30T16:27:18.397046Z",
     "start_time": "2022-01-30T16:27:18.380042Z"
    }
   },
   "outputs": [],
   "source": [
    "# Local\n",
    "#!pip install -r script/requirements.txt\n",
    "# Remote option\n",
    "#!pip install -r https://raw.githubusercontent.com/tahirawwad/agriculture-data-analytics/requirements.txt\n",
    "#Options: --quiet --user"
   ]
  },
  {
   "cell_type": "code",
   "execution_count": 2,
   "id": "56370af1",
   "metadata": {
    "ExecuteTime": {
     "end_time": "2022-01-30T16:27:21.017287Z",
     "start_time": "2022-01-30T16:27:18.399050Z"
    }
   },
   "outputs": [],
   "source": [
    "from agriculture_data_analytics.project_manager import *\n",
    "from agriculture_data_analytics.dataframe_labels import *\n",
    "from pandas import DataFrame\n",
    "import data_analytics.exploratory_data_analysis_reports as eda_reports\n",
    "import data_analytics.github as github\n",
    "import os\n",
    "import pandas"
   ]
  },
  {
   "cell_type": "code",
   "execution_count": 3,
   "id": "4d846147",
   "metadata": {
    "ExecuteTime": {
     "end_time": "2022-01-30T16:27:21.081291Z",
     "start_time": "2022-01-30T16:27:21.036291Z"
    }
   },
   "outputs": [
    {
     "data": {
      "text/html": [
       "<strong>Data Sources</strong>"
      ],
      "text/plain": [
       "<IPython.core.display.HTML object>"
      ]
     },
     "metadata": {},
     "output_type": "display_data"
    },
    {
     "data": {
      "text/html": [
       "<p>Data Sources available at</p>"
      ],
      "text/plain": [
       "<IPython.core.display.HTML object>"
      ]
     },
     "metadata": {},
     "output_type": "display_data"
    },
    {
     "name": "stdout",
     "output_type": "stream",
     "text": [
      "https://github.com/markcrowe-com/agriculture-data-analytics/assets/cso-daa01-bovine-tuberculosis-2022-01-Jan-15.csv?raw=true\n"
     ]
    }
   ],
   "source": [
    "artifact_manager: ProjectArtifactManager = ProjectArtifactManager()\n",
    "asset_manager: ProjectAssetManager = ProjectAssetManager()\n",
    "artifact_manager.is_remote = asset_manager.is_remote = True\n",
    "github.display_jupyter_notebook_data_sources(\n",
    "    [asset_manager.get_bovine_tuberculosis_filepath()])\n",
    "artifact_manager.is_remote = asset_manager.is_remote = False"
   ]
  },
  {
   "cell_type": "markdown",
   "id": "59e82839",
   "metadata": {},
   "source": [
    "### Loading the CSV file"
   ]
  },
  {
   "cell_type": "markdown",
   "id": "123516fd",
   "metadata": {},
   "source": [
    "#### Create Data Frames"
   ]
  },
  {
   "cell_type": "code",
   "execution_count": 4,
   "id": "c2385c72",
   "metadata": {
    "ExecuteTime": {
     "end_time": "2022-01-30T16:27:21.394400Z",
     "start_time": "2022-01-30T16:27:21.362794Z"
    }
   },
   "outputs": [],
   "source": [
    "filepath: str = \"./../assets/cso-daa01-bovine-tuberculosis.csv\"\n",
    "bovine_tuberculosis_dataframe: DataFrame = pandas.read_csv(filepath)"
   ]
  },
  {
   "cell_type": "markdown",
   "id": "110223b5",
   "metadata": {},
   "source": [
    "#### Renaming Columns"
   ]
  },
  {
   "cell_type": "code",
   "execution_count": 5,
   "id": "a3211836",
   "metadata": {
    "ExecuteTime": {
     "end_time": "2022-01-27T03:37:05.736429Z",
     "start_time": "2022-01-27T03:37:05.708431Z"
    }
   },
   "outputs": [
    {
     "data": {
      "text/html": [
       "<div>\n",
       "<style scoped>\n",
       "    .dataframe tbody tr th:only-of-type {\n",
       "        vertical-align: middle;\n",
       "    }\n",
       "\n",
       "    .dataframe tbody tr th {\n",
       "        vertical-align: top;\n",
       "    }\n",
       "\n",
       "    .dataframe thead th {\n",
       "        text-align: right;\n",
       "    }\n",
       "</style>\n",
       "<table border=\"1\" class=\"dataframe\">\n",
       "  <thead>\n",
       "    <tr style=\"text-align: right;\">\n",
       "      <th></th>\n",
       "      <th>Statistic</th>\n",
       "      <th>Year</th>\n",
       "      <th>Veterinary Office</th>\n",
       "      <th>Unit</th>\n",
       "      <th>Value</th>\n",
       "    </tr>\n",
       "  </thead>\n",
       "  <tbody>\n",
       "  </tbody>\n",
       "</table>\n",
       "</div>"
      ],
      "text/plain": [
       "Empty DataFrame\n",
       "Columns: [Statistic, Year, Veterinary Office, Unit, Value]\n",
       "Index: []"
      ]
     },
     "execution_count": 5,
     "metadata": {},
     "output_type": "execute_result"
    }
   ],
   "source": [
    "old_to_new_column_names_dictionary = {\n",
    "    \"Regional Veterinary Offices\": VETERINARY_OFFICE,\n",
    "    \"Herds in County\": HERDS_COUNT,\n",
    "    \"Animals in County\": ANIMAL_COUNT,\n",
    "    \"Herds Restricted since 1st of January\": RESTRICTED_HERDS_AT_START_OF_YEAR,\n",
    "    \"Herds Restricted by 31st of December\": RESTRICTED_HERDS_AT_END_OF_YEAR,\n",
    "    \"Herds Tested\": HERDS_TESTED,\n",
    "    \"Herd Incidence\": HERD_INCIDENCE_RATE,\n",
    "    \"Tests on Animals\": TESTS_ON_ANIMALS,\n",
    "    \"Reactors per 1000 Tests A.P.T.\": REACTORS_PER_1000_TESTS_APT,\n",
    "    \"Reactors to date\": REACTORS_TO_DATE,\n",
    "    UNIT.upper(): UNIT,\n",
    "    VALUE.upper(): VALUE,\n",
    "}\n",
    "bovine_tuberculosis_dataframe = bovine_tuberculosis_dataframe.rename(\n",
    "    columns=old_to_new_column_names_dictionary)\n",
    "bovine_tuberculosis_dataframe.head(0)"
   ]
  },
  {
   "cell_type": "markdown",
   "id": "a045d14d",
   "metadata": {},
   "source": [
    "#### Data Type Analysis Quick View"
   ]
  },
  {
   "cell_type": "markdown",
   "id": "e1c59e56",
   "metadata": {},
   "source": [
    "Print an analysis report of each dataset.  \n",
    "- Show the top five rows of the data frame as a quick sample.\n",
    "- Show the data types of each column.\n",
    "- Report the count of any duplicate rows.\n",
    "- Report the counts of any missing values."
   ]
  },
  {
   "cell_type": "code",
   "execution_count": 6,
   "id": "aae771a0",
   "metadata": {
    "ExecuteTime": {
     "end_time": "2022-01-27T03:37:05.816425Z",
     "start_time": "2022-01-27T03:37:05.739425Z"
    }
   },
   "outputs": [
    {
     "data": {
      "text/html": [
       "<h4>cso-daa01-bovine-tuberculosis-2022-01-Jan-15.csv</h4>"
      ],
      "text/plain": [
       "<IPython.core.display.HTML object>"
      ]
     },
     "metadata": {},
     "output_type": "display_data"
    },
    {
     "data": {
      "text/html": [
       "<p>Row, Column Count: (2970, 5)</p>"
      ],
      "text/plain": [
       "<IPython.core.display.HTML object>"
      ]
     },
     "metadata": {},
     "output_type": "display_data"
    },
    {
     "data": {
      "text/html": [
       "<h5>Sample: Top five rows</h5>"
      ],
      "text/plain": [
       "<IPython.core.display.HTML object>"
      ]
     },
     "metadata": {},
     "output_type": "display_data"
    },
    {
     "data": {
      "text/html": [
       "<div>\n",
       "<style scoped>\n",
       "    .dataframe tbody tr th:only-of-type {\n",
       "        vertical-align: middle;\n",
       "    }\n",
       "\n",
       "    .dataframe tbody tr th {\n",
       "        vertical-align: top;\n",
       "    }\n",
       "\n",
       "    .dataframe thead th {\n",
       "        text-align: right;\n",
       "    }\n",
       "</style>\n",
       "<table border=\"1\" class=\"dataframe\">\n",
       "  <thead>\n",
       "    <tr style=\"text-align: right;\">\n",
       "      <th></th>\n",
       "      <th>Statistic</th>\n",
       "      <th>Year</th>\n",
       "      <th>Veterinary Office</th>\n",
       "      <th>Unit</th>\n",
       "      <th>Value</th>\n",
       "    </tr>\n",
       "  </thead>\n",
       "  <tbody>\n",
       "    <tr>\n",
       "      <th>1504</th>\n",
       "      <td>Herds Restricted by 31st of December</td>\n",
       "      <td>2016</td>\n",
       "      <td>Cork North</td>\n",
       "      <td>Number</td>\n",
       "      <td>130.00</td>\n",
       "    </tr>\n",
       "    <tr>\n",
       "      <th>2874</th>\n",
       "      <td>Reactors per 1000 Tests A.P.T.</td>\n",
       "      <td>2017</td>\n",
       "      <td>Tipperary South</td>\n",
       "      <td>Number</td>\n",
       "      <td>0.91</td>\n",
       "    </tr>\n",
       "    <tr>\n",
       "      <th>941</th>\n",
       "      <td>Herds Restricted since 1st of January</td>\n",
       "      <td>2019</td>\n",
       "      <td>Kilkenny</td>\n",
       "      <td>Number</td>\n",
       "      <td>131.00</td>\n",
       "    </tr>\n",
       "    <tr>\n",
       "      <th>2075</th>\n",
       "      <td>Tests on Animals</td>\n",
       "      <td>2013</td>\n",
       "      <td>Cork South</td>\n",
       "      <td>Number</td>\n",
       "      <td>588299.00</td>\n",
       "    </tr>\n",
       "    <tr>\n",
       "      <th>1239</th>\n",
       "      <td>Herd Incidence</td>\n",
       "      <td>2018</td>\n",
       "      <td>Kerry</td>\n",
       "      <td>%</td>\n",
       "      <td>2.62</td>\n",
       "    </tr>\n",
       "  </tbody>\n",
       "</table>\n",
       "</div>"
      ],
      "text/plain": [
       "                                  Statistic  Year Veterinary Office    Unit  \\\n",
       "1504   Herds Restricted by 31st of December  2016        Cork North  Number   \n",
       "2874         Reactors per 1000 Tests A.P.T.  2017   Tipperary South  Number   \n",
       "941   Herds Restricted since 1st of January  2019          Kilkenny  Number   \n",
       "2075                       Tests on Animals  2013        Cork South  Number   \n",
       "1239                         Herd Incidence  2018             Kerry       %   \n",
       "\n",
       "          Value  \n",
       "1504     130.00  \n",
       "2874       0.91  \n",
       "941      131.00  \n",
       "2075  588299.00  \n",
       "1239       2.62  "
      ]
     },
     "metadata": {},
     "output_type": "display_data"
    },
    {
     "data": {
      "text/html": [
       "<h5>Data Types</h5>"
      ],
      "text/plain": [
       "<IPython.core.display.HTML object>"
      ]
     },
     "metadata": {},
     "output_type": "display_data"
    },
    {
     "data": {
      "text/plain": [
       "Statistic             object\n",
       "Year                   int64\n",
       "Veterinary Office     object\n",
       "Unit                  object\n",
       "Value                float64\n",
       "dtype: object"
      ]
     },
     "metadata": {},
     "output_type": "display_data"
    },
    {
     "data": {
      "text/html": [
       "<h5>Duplicates</h5>"
      ],
      "text/plain": [
       "<IPython.core.display.HTML object>"
      ]
     },
     "metadata": {},
     "output_type": "display_data"
    },
    {
     "data": {
      "text/html": [
       "<p>Number of duplicate rows: 0</p>"
      ],
      "text/plain": [
       "<IPython.core.display.HTML object>"
      ]
     },
     "metadata": {},
     "output_type": "display_data"
    },
    {
     "data": {
      "text/html": [
       "<h5>No Columns with Null values</h5>"
      ],
      "text/plain": [
       "<IPython.core.display.HTML object>"
      ]
     },
     "metadata": {},
     "output_type": "display_data"
    },
    {
     "data": {
      "text/html": [
       "<h5>Single Value Columns</h5>"
      ],
      "text/plain": [
       "<IPython.core.display.HTML object>"
      ]
     },
     "metadata": {},
     "output_type": "display_data"
    },
    {
     "data": {
      "text/html": [
       "<p>No single value columns found.</p>"
      ],
      "text/plain": [
       "<IPython.core.display.HTML object>"
      ]
     },
     "metadata": {},
     "output_type": "display_data"
    },
    {
     "data": {
      "text/html": [
       "<h5>Columns: Unique value counts</h5>"
      ],
      "text/plain": [
       "<IPython.core.display.HTML object>"
      ]
     },
     "metadata": {},
     "output_type": "display_data"
    },
    {
     "data": {
      "text/html": [
       "<ul><li>The column \"Statistic\" has 9 unique values.</li><li>The column \"Year\" has 11 unique values.</li><li>The column \"Veterinary Office\" has 30 unique values.</li><li>The column \"Unit\" has 2 unique values.</li><li>The column \"Value\" has 2139 unique values.</li></ul>"
      ],
      "text/plain": [
       "<IPython.core.display.HTML object>"
      ]
     },
     "metadata": {},
     "output_type": "display_data"
    },
    {
     "data": {
      "text/html": [
       "<h5>Outlier Analysis</h5>"
      ],
      "text/plain": [
       "<IPython.core.display.HTML object>"
      ]
     },
     "metadata": {},
     "output_type": "display_data"
    },
    {
     "data": {
      "text/html": [
       "<ul><li>The column \"Value\" has 689 outliers. Recommend removing outliers.</li></ul>"
      ],
      "text/plain": [
       "<IPython.core.display.HTML object>"
      ]
     },
     "metadata": {},
     "output_type": "display_data"
    }
   ],
   "source": [
    "filename: str = os.path.basename(filepath)\n",
    "eda_reports.print_dataframe_analysis_report(bovine_tuberculosis_dataframe, filename)"
   ]
  },
  {
   "cell_type": "markdown",
   "id": "5646f3a6",
   "metadata": {},
   "source": [
    "### Normalizing the table"
   ]
  },
  {
   "cell_type": "code",
   "execution_count": 7,
   "id": "6f3ec0e2",
   "metadata": {
    "ExecuteTime": {
     "end_time": "2022-01-27T03:37:05.848430Z",
     "start_time": "2022-01-27T03:37:05.818427Z"
    }
   },
   "outputs": [],
   "source": [
    "bovine_tuberculosis_dataframe = bovine_tuberculosis_dataframe.set_index(\n",
    "    [YEAR, VETERINARY_OFFICE, STATISTIC])[VALUE].unstack().reset_index()\n",
    "bovine_tuberculosis_dataframe.columns = bovine_tuberculosis_dataframe.columns.tolist()\n",
    "bovine_tuberculosis_dataframe = bovine_tuberculosis_dataframe.rename(\n",
    "    columns=old_to_new_column_names_dictionary)"
   ]
  },
  {
   "cell_type": "code",
   "execution_count": 8,
   "id": "b24f3ea5",
   "metadata": {
    "ExecuteTime": {
     "end_time": "2022-01-27T03:37:05.880433Z",
     "start_time": "2022-01-27T03:37:05.851429Z"
    }
   },
   "outputs": [
    {
     "data": {
      "text/html": [
       "<div>\n",
       "<style scoped>\n",
       "    .dataframe tbody tr th:only-of-type {\n",
       "        vertical-align: middle;\n",
       "    }\n",
       "\n",
       "    .dataframe tbody tr th {\n",
       "        vertical-align: top;\n",
       "    }\n",
       "\n",
       "    .dataframe thead th {\n",
       "        text-align: right;\n",
       "    }\n",
       "</style>\n",
       "<table border=\"1\" class=\"dataframe\">\n",
       "  <thead>\n",
       "    <tr style=\"text-align: right;\">\n",
       "      <th></th>\n",
       "      <th>Year</th>\n",
       "      <th>Veterinary Office</th>\n",
       "      <th>Animal Count</th>\n",
       "      <th>Herd Incidence Rate</th>\n",
       "      <th>Restricted Herds at end of Year</th>\n",
       "      <th>Restricted Herds at start of Year</th>\n",
       "      <th>Herds Tested</th>\n",
       "      <th>Herds Count</th>\n",
       "      <th>Reactors per 1000 Tests A.P.T.</th>\n",
       "      <th>Reactors to date</th>\n",
       "      <th>Tests on Animals</th>\n",
       "    </tr>\n",
       "  </thead>\n",
       "  <tbody>\n",
       "    <tr>\n",
       "      <th>0</th>\n",
       "      <td>2010</td>\n",
       "      <td>Carlow</td>\n",
       "      <td>86258.0</td>\n",
       "      <td>4.02</td>\n",
       "      <td>28.0</td>\n",
       "      <td>52.0</td>\n",
       "      <td>1295.0</td>\n",
       "      <td>1353.0</td>\n",
       "      <td>1.14</td>\n",
       "      <td>124.0</td>\n",
       "      <td>108584.0</td>\n",
       "    </tr>\n",
       "    <tr>\n",
       "      <th>1</th>\n",
       "      <td>2010</td>\n",
       "      <td>Cavan</td>\n",
       "      <td>202119.0</td>\n",
       "      <td>5.32</td>\n",
       "      <td>124.0</td>\n",
       "      <td>257.0</td>\n",
       "      <td>4832.0</td>\n",
       "      <td>4915.0</td>\n",
       "      <td>3.13</td>\n",
       "      <td>981.0</td>\n",
       "      <td>313822.0</td>\n",
       "    </tr>\n",
       "    <tr>\n",
       "      <th>2</th>\n",
       "      <td>2010</td>\n",
       "      <td>Clare</td>\n",
       "      <td>237260.0</td>\n",
       "      <td>5.71</td>\n",
       "      <td>175.0</td>\n",
       "      <td>350.0</td>\n",
       "      <td>6134.0</td>\n",
       "      <td>6282.0</td>\n",
       "      <td>5.05</td>\n",
       "      <td>1947.0</td>\n",
       "      <td>385705.0</td>\n",
       "    </tr>\n",
       "    <tr>\n",
       "      <th>3</th>\n",
       "      <td>2010</td>\n",
       "      <td>Cork North</td>\n",
       "      <td>462707.0</td>\n",
       "      <td>4.43</td>\n",
       "      <td>119.0</td>\n",
       "      <td>259.0</td>\n",
       "      <td>5849.0</td>\n",
       "      <td>5986.0</td>\n",
       "      <td>1.62</td>\n",
       "      <td>1078.0</td>\n",
       "      <td>664648.0</td>\n",
       "    </tr>\n",
       "    <tr>\n",
       "      <th>4</th>\n",
       "      <td>2010</td>\n",
       "      <td>Cork South</td>\n",
       "      <td>417478.0</td>\n",
       "      <td>6.30</td>\n",
       "      <td>216.0</td>\n",
       "      <td>385.0</td>\n",
       "      <td>6107.0</td>\n",
       "      <td>6310.0</td>\n",
       "      <td>2.72</td>\n",
       "      <td>1592.0</td>\n",
       "      <td>586105.0</td>\n",
       "    </tr>\n",
       "  </tbody>\n",
       "</table>\n",
       "</div>"
      ],
      "text/plain": [
       "   Year Veterinary Office  Animal Count  Herd Incidence Rate  \\\n",
       "0  2010            Carlow       86258.0                 4.02   \n",
       "1  2010             Cavan      202119.0                 5.32   \n",
       "2  2010             Clare      237260.0                 5.71   \n",
       "3  2010        Cork North      462707.0                 4.43   \n",
       "4  2010        Cork South      417478.0                 6.30   \n",
       "\n",
       "   Restricted Herds at end of Year  Restricted Herds at start of Year  \\\n",
       "0                             28.0                               52.0   \n",
       "1                            124.0                              257.0   \n",
       "2                            175.0                              350.0   \n",
       "3                            119.0                              259.0   \n",
       "4                            216.0                              385.0   \n",
       "\n",
       "   Herds Tested  Herds Count  Reactors per 1000 Tests A.P.T.  \\\n",
       "0        1295.0       1353.0                            1.14   \n",
       "1        4832.0       4915.0                            3.13   \n",
       "2        6134.0       6282.0                            5.05   \n",
       "3        5849.0       5986.0                            1.62   \n",
       "4        6107.0       6310.0                            2.72   \n",
       "\n",
       "   Reactors to date  Tests on Animals  \n",
       "0             124.0          108584.0  \n",
       "1             981.0          313822.0  \n",
       "2            1947.0          385705.0  \n",
       "3            1078.0          664648.0  \n",
       "4            1592.0          586105.0  "
      ]
     },
     "execution_count": 8,
     "metadata": {},
     "output_type": "execute_result"
    }
   ],
   "source": [
    "bovine_tuberculosis_dataframe.head()"
   ]
  },
  {
   "cell_type": "markdown",
   "id": "46b999db",
   "metadata": {},
   "source": [
    "#### Data Type Analysis Quick View"
   ]
  },
  {
   "cell_type": "code",
   "execution_count": 9,
   "id": "1e9b8b91",
   "metadata": {
    "ExecuteTime": {
     "end_time": "2022-01-27T03:37:06.011426Z",
     "start_time": "2022-01-27T03:37:05.884429Z"
    }
   },
   "outputs": [
    {
     "data": {
      "text/html": [
       "<h4>cso-daa01-bovine-tuberculosis-2022-01-Jan-15.csv</h4>"
      ],
      "text/plain": [
       "<IPython.core.display.HTML object>"
      ]
     },
     "metadata": {},
     "output_type": "display_data"
    },
    {
     "data": {
      "text/html": [
       "<p>Row, Column Count: (330, 11)</p>"
      ],
      "text/plain": [
       "<IPython.core.display.HTML object>"
      ]
     },
     "metadata": {},
     "output_type": "display_data"
    },
    {
     "data": {
      "text/html": [
       "<h5>Sample: Top five rows</h5>"
      ],
      "text/plain": [
       "<IPython.core.display.HTML object>"
      ]
     },
     "metadata": {},
     "output_type": "display_data"
    },
    {
     "data": {
      "text/html": [
       "<div>\n",
       "<style scoped>\n",
       "    .dataframe tbody tr th:only-of-type {\n",
       "        vertical-align: middle;\n",
       "    }\n",
       "\n",
       "    .dataframe tbody tr th {\n",
       "        vertical-align: top;\n",
       "    }\n",
       "\n",
       "    .dataframe thead th {\n",
       "        text-align: right;\n",
       "    }\n",
       "</style>\n",
       "<table border=\"1\" class=\"dataframe\">\n",
       "  <thead>\n",
       "    <tr style=\"text-align: right;\">\n",
       "      <th></th>\n",
       "      <th>Year</th>\n",
       "      <th>Veterinary Office</th>\n",
       "      <th>Animal Count</th>\n",
       "      <th>Herd Incidence Rate</th>\n",
       "      <th>Restricted Herds at end of Year</th>\n",
       "      <th>Restricted Herds at start of Year</th>\n",
       "      <th>Herds Tested</th>\n",
       "      <th>Herds Count</th>\n",
       "      <th>Reactors per 1000 Tests A.P.T.</th>\n",
       "      <th>Reactors to date</th>\n",
       "      <th>Tests on Animals</th>\n",
       "    </tr>\n",
       "  </thead>\n",
       "  <tbody>\n",
       "    <tr>\n",
       "      <th>53</th>\n",
       "      <td>2011</td>\n",
       "      <td>Tipperary North</td>\n",
       "      <td>261294.0</td>\n",
       "      <td>4.33</td>\n",
       "      <td>103.0</td>\n",
       "      <td>148.0</td>\n",
       "      <td>3419.0</td>\n",
       "      <td>3488.0</td>\n",
       "      <td>2.08</td>\n",
       "      <td>775.0</td>\n",
       "      <td>371880.0</td>\n",
       "    </tr>\n",
       "    <tr>\n",
       "      <th>165</th>\n",
       "      <td>2015</td>\n",
       "      <td>Louth</td>\n",
       "      <td>81508.0</td>\n",
       "      <td>3.95</td>\n",
       "      <td>21.0</td>\n",
       "      <td>47.0</td>\n",
       "      <td>1190.0</td>\n",
       "      <td>1228.0</td>\n",
       "      <td>1.14</td>\n",
       "      <td>120.0</td>\n",
       "      <td>105062.0</td>\n",
       "    </tr>\n",
       "    <tr>\n",
       "      <th>6</th>\n",
       "      <td>2010</td>\n",
       "      <td>Dublin</td>\n",
       "      <td>20455.0</td>\n",
       "      <td>7.16</td>\n",
       "      <td>16.0</td>\n",
       "      <td>28.0</td>\n",
       "      <td>391.0</td>\n",
       "      <td>398.0</td>\n",
       "      <td>1.99</td>\n",
       "      <td>60.0</td>\n",
       "      <td>30096.0</td>\n",
       "    </tr>\n",
       "    <tr>\n",
       "      <th>135</th>\n",
       "      <td>2014</td>\n",
       "      <td>Louth</td>\n",
       "      <td>81025.0</td>\n",
       "      <td>3.73</td>\n",
       "      <td>19.0</td>\n",
       "      <td>43.0</td>\n",
       "      <td>1153.0</td>\n",
       "      <td>1196.0</td>\n",
       "      <td>1.03</td>\n",
       "      <td>115.0</td>\n",
       "      <td>111171.0</td>\n",
       "    </tr>\n",
       "    <tr>\n",
       "      <th>7</th>\n",
       "      <td>2010</td>\n",
       "      <td>Galway</td>\n",
       "      <td>356143.0</td>\n",
       "      <td>3.98</td>\n",
       "      <td>221.0</td>\n",
       "      <td>463.0</td>\n",
       "      <td>11639.0</td>\n",
       "      <td>11796.0</td>\n",
       "      <td>3.15</td>\n",
       "      <td>1579.0</td>\n",
       "      <td>500797.0</td>\n",
       "    </tr>\n",
       "  </tbody>\n",
       "</table>\n",
       "</div>"
      ],
      "text/plain": [
       "     Year Veterinary Office  Animal Count  Herd Incidence Rate  \\\n",
       "53   2011   Tipperary North      261294.0                 4.33   \n",
       "165  2015             Louth       81508.0                 3.95   \n",
       "6    2010            Dublin       20455.0                 7.16   \n",
       "135  2014             Louth       81025.0                 3.73   \n",
       "7    2010            Galway      356143.0                 3.98   \n",
       "\n",
       "     Restricted Herds at end of Year  Restricted Herds at start of Year  \\\n",
       "53                             103.0                              148.0   \n",
       "165                             21.0                               47.0   \n",
       "6                               16.0                               28.0   \n",
       "135                             19.0                               43.0   \n",
       "7                              221.0                              463.0   \n",
       "\n",
       "     Herds Tested  Herds Count  Reactors per 1000 Tests A.P.T.  \\\n",
       "53         3419.0       3488.0                            2.08   \n",
       "165        1190.0       1228.0                            1.14   \n",
       "6           391.0        398.0                            1.99   \n",
       "135        1153.0       1196.0                            1.03   \n",
       "7         11639.0      11796.0                            3.15   \n",
       "\n",
       "     Reactors to date  Tests on Animals  \n",
       "53              775.0          371880.0  \n",
       "165             120.0          105062.0  \n",
       "6                60.0           30096.0  \n",
       "135             115.0          111171.0  \n",
       "7              1579.0          500797.0  "
      ]
     },
     "metadata": {},
     "output_type": "display_data"
    },
    {
     "data": {
      "text/html": [
       "<h5>Data Types</h5>"
      ],
      "text/plain": [
       "<IPython.core.display.HTML object>"
      ]
     },
     "metadata": {},
     "output_type": "display_data"
    },
    {
     "data": {
      "text/plain": [
       "Year                                   int64\n",
       "Veterinary Office                     object\n",
       "Animal Count                         float64\n",
       "Herd Incidence Rate                  float64\n",
       "Restricted Herds at end of Year      float64\n",
       "Restricted Herds at start of Year    float64\n",
       "Herds Tested                         float64\n",
       "Herds Count                          float64\n",
       "Reactors per 1000 Tests A.P.T.       float64\n",
       "Reactors to date                     float64\n",
       "Tests on Animals                     float64\n",
       "dtype: object"
      ]
     },
     "metadata": {},
     "output_type": "display_data"
    },
    {
     "data": {
      "text/html": [
       "<h5>Duplicates</h5>"
      ],
      "text/plain": [
       "<IPython.core.display.HTML object>"
      ]
     },
     "metadata": {},
     "output_type": "display_data"
    },
    {
     "data": {
      "text/html": [
       "<p>Number of duplicate rows: 0</p>"
      ],
      "text/plain": [
       "<IPython.core.display.HTML object>"
      ]
     },
     "metadata": {},
     "output_type": "display_data"
    },
    {
     "data": {
      "text/html": [
       "<h5>No Columns with Null values</h5>"
      ],
      "text/plain": [
       "<IPython.core.display.HTML object>"
      ]
     },
     "metadata": {},
     "output_type": "display_data"
    },
    {
     "data": {
      "text/html": [
       "<h5>Single Value Columns</h5>"
      ],
      "text/plain": [
       "<IPython.core.display.HTML object>"
      ]
     },
     "metadata": {},
     "output_type": "display_data"
    },
    {
     "data": {
      "text/html": [
       "<p>No single value columns found.</p>"
      ],
      "text/plain": [
       "<IPython.core.display.HTML object>"
      ]
     },
     "metadata": {},
     "output_type": "display_data"
    },
    {
     "data": {
      "text/html": [
       "<h5>Columns: Unique value counts</h5>"
      ],
      "text/plain": [
       "<IPython.core.display.HTML object>"
      ]
     },
     "metadata": {},
     "output_type": "display_data"
    },
    {
     "data": {
      "text/html": [
       "<ul><li>The column \"Year\" has 11 unique values.</li><li>The column \"Veterinary Office\" has 30 unique values.</li><li>The column \"Animal Count\" has 330 unique values.</li><li>The column \"Herd Incidence Rate\" has 254 unique values.</li><li>The column \"Restricted Herds at end of Year\" has 149 unique values.</li><li>The column \"Restricted Herds at start of Year\" has 199 unique values.</li><li>The column \"Herds Tested\" has 310 unique values.</li><li>The column \"Herds Count\" has 316 unique values.</li><li>The column \"Reactors per 1000 Tests A.P.T.\" has 209 unique values.</li><li>The column \"Reactors to date\" has 295 unique values.</li><li>The column \"Tests on Animals\" has 330 unique values.</li></ul>"
      ],
      "text/plain": [
       "<IPython.core.display.HTML object>"
      ]
     },
     "metadata": {},
     "output_type": "display_data"
    },
    {
     "data": {
      "text/html": [
       "<h5>Outlier Analysis</h5>"
      ],
      "text/plain": [
       "<IPython.core.display.HTML object>"
      ]
     },
     "metadata": {},
     "output_type": "display_data"
    },
    {
     "data": {
      "text/html": [
       "<ul><li>The column \"Animal Count\" has 12 outliers. Recommend removing outliers.</li><li>The column \"Herd Incidence Rate\" has 14 outliers. Recommend removing outliers.</li><li>The column \"Restricted Herds at end of Year\" has 16 outliers. Recommend removing outliers.</li><li>The column \"Restricted Herds at start of Year\" has 13 outliers. Recommend removing outliers.</li><li>The column \"Herds Tested\" has 22 outliers. Recommend removing outliers.</li><li>The column \"Herds Count\" has 22 outliers. Recommend removing outliers.</li><li>The column \"Reactors per 1000 Tests A.P.T.\" has 22 outliers. Recommend removing outliers.</li><li>The column \"Reactors to date\" has 15 outliers. Recommend removing outliers.</li><li>The column \"Tests on Animals\" has 12 outliers. Recommend removing outliers.</li></ul>"
      ],
      "text/plain": [
       "<IPython.core.display.HTML object>"
      ]
     },
     "metadata": {},
     "output_type": "display_data"
    }
   ],
   "source": [
    "eda_reports.print_dataframe_analysis_report(bovine_tuberculosis_dataframe, filename)"
   ]
  },
  {
   "cell_type": "markdown",
   "id": "7ecd54e1",
   "metadata": {},
   "source": [
    "The table contains both data for county level and state level an aggregate of the county level data"
   ]
  },
  {
   "cell_type": "code",
   "execution_count": 10,
   "id": "cd549d9b",
   "metadata": {
    "ExecuteTime": {
     "end_time": "2022-01-27T03:37:06.150427Z",
     "start_time": "2022-01-27T03:37:06.018428Z"
    }
   },
   "outputs": [
    {
     "data": {
      "text/html": [
       "<h4>cso-daa01-bovine-tuberculosis-2022-01-Jan-15.csv</h4>"
      ],
      "text/plain": [
       "<IPython.core.display.HTML object>"
      ]
     },
     "metadata": {},
     "output_type": "display_data"
    },
    {
     "data": {
      "text/html": [
       "<p>Row, Column Count: (319, 11)</p>"
      ],
      "text/plain": [
       "<IPython.core.display.HTML object>"
      ]
     },
     "metadata": {},
     "output_type": "display_data"
    },
    {
     "data": {
      "text/html": [
       "<h5>Sample: Top five rows</h5>"
      ],
      "text/plain": [
       "<IPython.core.display.HTML object>"
      ]
     },
     "metadata": {},
     "output_type": "display_data"
    },
    {
     "data": {
      "text/html": [
       "<div>\n",
       "<style scoped>\n",
       "    .dataframe tbody tr th:only-of-type {\n",
       "        vertical-align: middle;\n",
       "    }\n",
       "\n",
       "    .dataframe tbody tr th {\n",
       "        vertical-align: top;\n",
       "    }\n",
       "\n",
       "    .dataframe thead th {\n",
       "        text-align: right;\n",
       "    }\n",
       "</style>\n",
       "<table border=\"1\" class=\"dataframe\">\n",
       "  <thead>\n",
       "    <tr style=\"text-align: right;\">\n",
       "      <th></th>\n",
       "      <th>Year</th>\n",
       "      <th>Veterinary Office</th>\n",
       "      <th>Animal Count</th>\n",
       "      <th>Herd Incidence Rate</th>\n",
       "      <th>Restricted Herds at end of Year</th>\n",
       "      <th>Restricted Herds at start of Year</th>\n",
       "      <th>Herds Tested</th>\n",
       "      <th>Herds Count</th>\n",
       "      <th>Reactors per 1000 Tests A.P.T.</th>\n",
       "      <th>Reactors to date</th>\n",
       "      <th>Tests on Animals</th>\n",
       "    </tr>\n",
       "  </thead>\n",
       "  <tbody>\n",
       "    <tr>\n",
       "      <th>209</th>\n",
       "      <td>2016</td>\n",
       "      <td>Wicklow W</td>\n",
       "      <td>42015.0</td>\n",
       "      <td>12.52</td>\n",
       "      <td>34.0</td>\n",
       "      <td>69.0</td>\n",
       "      <td>551.0</td>\n",
       "      <td>554.0</td>\n",
       "      <td>6.72</td>\n",
       "      <td>470.0</td>\n",
       "      <td>69902.0</td>\n",
       "    </tr>\n",
       "    <tr>\n",
       "      <th>111</th>\n",
       "      <td>2013</td>\n",
       "      <td>Sligo</td>\n",
       "      <td>102421.0</td>\n",
       "      <td>2.91</td>\n",
       "      <td>48.0</td>\n",
       "      <td>104.0</td>\n",
       "      <td>3572.0</td>\n",
       "      <td>3615.0</td>\n",
       "      <td>1.51</td>\n",
       "      <td>213.0</td>\n",
       "      <td>140999.0</td>\n",
       "    </tr>\n",
       "    <tr>\n",
       "      <th>226</th>\n",
       "      <td>2017</td>\n",
       "      <td>Mayo</td>\n",
       "      <td>243720.0</td>\n",
       "      <td>2.20</td>\n",
       "      <td>101.0</td>\n",
       "      <td>197.0</td>\n",
       "      <td>8936.0</td>\n",
       "      <td>9033.0</td>\n",
       "      <td>1.54</td>\n",
       "      <td>507.0</td>\n",
       "      <td>329714.0</td>\n",
       "    </tr>\n",
       "    <tr>\n",
       "      <th>185</th>\n",
       "      <td>2016</td>\n",
       "      <td>Donegal</td>\n",
       "      <td>170385.0</td>\n",
       "      <td>2.21</td>\n",
       "      <td>56.0</td>\n",
       "      <td>117.0</td>\n",
       "      <td>5300.0</td>\n",
       "      <td>5375.0</td>\n",
       "      <td>1.15</td>\n",
       "      <td>249.0</td>\n",
       "      <td>217131.0</td>\n",
       "    </tr>\n",
       "    <tr>\n",
       "      <th>138</th>\n",
       "      <td>2014</td>\n",
       "      <td>Monaghan</td>\n",
       "      <td>190963.0</td>\n",
       "      <td>2.54</td>\n",
       "      <td>61.0</td>\n",
       "      <td>106.0</td>\n",
       "      <td>4166.0</td>\n",
       "      <td>4246.0</td>\n",
       "      <td>1.45</td>\n",
       "      <td>372.0</td>\n",
       "      <td>257034.0</td>\n",
       "    </tr>\n",
       "  </tbody>\n",
       "</table>\n",
       "</div>"
      ],
      "text/plain": [
       "     Year Veterinary Office  Animal Count  Herd Incidence Rate  \\\n",
       "209  2016         Wicklow W       42015.0                12.52   \n",
       "111  2013             Sligo      102421.0                 2.91   \n",
       "226  2017              Mayo      243720.0                 2.20   \n",
       "185  2016           Donegal      170385.0                 2.21   \n",
       "138  2014          Monaghan      190963.0                 2.54   \n",
       "\n",
       "     Restricted Herds at end of Year  Restricted Herds at start of Year  \\\n",
       "209                             34.0                               69.0   \n",
       "111                             48.0                              104.0   \n",
       "226                            101.0                              197.0   \n",
       "185                             56.0                              117.0   \n",
       "138                             61.0                              106.0   \n",
       "\n",
       "     Herds Tested  Herds Count  Reactors per 1000 Tests A.P.T.  \\\n",
       "209         551.0        554.0                            6.72   \n",
       "111        3572.0       3615.0                            1.51   \n",
       "226        8936.0       9033.0                            1.54   \n",
       "185        5300.0       5375.0                            1.15   \n",
       "138        4166.0       4246.0                            1.45   \n",
       "\n",
       "     Reactors to date  Tests on Animals  \n",
       "209             470.0           69902.0  \n",
       "111             213.0          140999.0  \n",
       "226             507.0          329714.0  \n",
       "185             249.0          217131.0  \n",
       "138             372.0          257034.0  "
      ]
     },
     "metadata": {},
     "output_type": "display_data"
    },
    {
     "data": {
      "text/html": [
       "<h5>Data Types</h5>"
      ],
      "text/plain": [
       "<IPython.core.display.HTML object>"
      ]
     },
     "metadata": {},
     "output_type": "display_data"
    },
    {
     "data": {
      "text/plain": [
       "Year                                   int64\n",
       "Veterinary Office                     object\n",
       "Animal Count                         float64\n",
       "Herd Incidence Rate                  float64\n",
       "Restricted Herds at end of Year      float64\n",
       "Restricted Herds at start of Year    float64\n",
       "Herds Tested                         float64\n",
       "Herds Count                          float64\n",
       "Reactors per 1000 Tests A.P.T.       float64\n",
       "Reactors to date                     float64\n",
       "Tests on Animals                     float64\n",
       "dtype: object"
      ]
     },
     "metadata": {},
     "output_type": "display_data"
    },
    {
     "data": {
      "text/html": [
       "<h5>Duplicates</h5>"
      ],
      "text/plain": [
       "<IPython.core.display.HTML object>"
      ]
     },
     "metadata": {},
     "output_type": "display_data"
    },
    {
     "data": {
      "text/html": [
       "<p>Number of duplicate rows: 0</p>"
      ],
      "text/plain": [
       "<IPython.core.display.HTML object>"
      ]
     },
     "metadata": {},
     "output_type": "display_data"
    },
    {
     "data": {
      "text/html": [
       "<h5>No Columns with Null values</h5>"
      ],
      "text/plain": [
       "<IPython.core.display.HTML object>"
      ]
     },
     "metadata": {},
     "output_type": "display_data"
    },
    {
     "data": {
      "text/html": [
       "<h5>Single Value Columns</h5>"
      ],
      "text/plain": [
       "<IPython.core.display.HTML object>"
      ]
     },
     "metadata": {},
     "output_type": "display_data"
    },
    {
     "data": {
      "text/html": [
       "<p>No single value columns found.</p>"
      ],
      "text/plain": [
       "<IPython.core.display.HTML object>"
      ]
     },
     "metadata": {},
     "output_type": "display_data"
    },
    {
     "data": {
      "text/html": [
       "<h5>Columns: Unique value counts</h5>"
      ],
      "text/plain": [
       "<IPython.core.display.HTML object>"
      ]
     },
     "metadata": {},
     "output_type": "display_data"
    },
    {
     "data": {
      "text/html": [
       "<ul><li>The column \"Year\" has 11 unique values.</li><li>The column \"Veterinary Office\" has 29 unique values.</li><li>The column \"Animal Count\" has 319 unique values.</li><li>The column \"Herd Incidence Rate\" has 250 unique values.</li><li>The column \"Restricted Herds at end of Year\" has 138 unique values.</li><li>The column \"Restricted Herds at start of Year\" has 188 unique values.</li><li>The column \"Herds Tested\" has 299 unique values.</li><li>The column \"Herds Count\" has 305 unique values.</li><li>The column \"Reactors per 1000 Tests A.P.T.\" has 207 unique values.</li><li>The column \"Reactors to date\" has 284 unique values.</li><li>The column \"Tests on Animals\" has 319 unique values.</li></ul>"
      ],
      "text/plain": [
       "<IPython.core.display.HTML object>"
      ]
     },
     "metadata": {},
     "output_type": "display_data"
    },
    {
     "data": {
      "text/html": [
       "<h5>Outlier Analysis</h5>"
      ],
      "text/plain": [
       "<IPython.core.display.HTML object>"
      ]
     },
     "metadata": {},
     "output_type": "display_data"
    },
    {
     "data": {
      "text/html": [
       "<ul><li>The column \"Animal Count\" has 1 outlier. Recommend removing outlier.</li><li>The column \"Herd Incidence Rate\" has 12 outliers. Recommend removing outliers.</li><li>The column \"Restricted Herds at end of Year\" has 7 outliers. Recommend removing outliers.</li><li>The column \"Restricted Herds at start of Year\" has 4 outliers. Recommend removing outliers.</li><li>The column \"Herds Tested\" has 11 outliers. Recommend removing outliers.</li><li>The column \"Herds Count\" has 11 outliers. Recommend removing outliers.</li><li>The column \"Reactors per 1000 Tests A.P.T.\" has 22 outliers. Recommend removing outliers.</li><li>The column \"Reactors to date\" has 4 outliers. Recommend removing outliers.</li><li>The column \"Tests on Animals\" has 2 outliers. Recommend removing outliers.</li></ul>"
      ],
      "text/plain": [
       "<IPython.core.display.HTML object>"
      ]
     },
     "metadata": {},
     "output_type": "display_data"
    }
   ],
   "source": [
    "county_bovine_tuberculosis_dataframe = bovine_tuberculosis_dataframe.drop(bovine_tuberculosis_dataframe[(bovine_tuberculosis_dataframe[VETERINARY_OFFICE] == \"State\")].index)\n",
    "eda_reports.print_dataframe_analysis_report(county_bovine_tuberculosis_dataframe, filename)"
   ]
  },
  {
   "cell_type": "code",
   "execution_count": 11,
   "id": "af8517e1",
   "metadata": {
    "ExecuteTime": {
     "end_time": "2022-01-27T03:37:06.276428Z",
     "start_time": "2022-01-27T03:37:06.152429Z"
    }
   },
   "outputs": [
    {
     "data": {
      "text/html": [
       "<h4>cso-daa01-bovine-tuberculosis-2022-01-Jan-15.csv</h4>"
      ],
      "text/plain": [
       "<IPython.core.display.HTML object>"
      ]
     },
     "metadata": {},
     "output_type": "display_data"
    },
    {
     "data": {
      "text/html": [
       "<p>Row, Column Count: (11, 11)</p>"
      ],
      "text/plain": [
       "<IPython.core.display.HTML object>"
      ]
     },
     "metadata": {},
     "output_type": "display_data"
    },
    {
     "data": {
      "text/html": [
       "<h5>Sample: Top five rows</h5>"
      ],
      "text/plain": [
       "<IPython.core.display.HTML object>"
      ]
     },
     "metadata": {},
     "output_type": "display_data"
    },
    {
     "data": {
      "text/html": [
       "<div>\n",
       "<style scoped>\n",
       "    .dataframe tbody tr th:only-of-type {\n",
       "        vertical-align: middle;\n",
       "    }\n",
       "\n",
       "    .dataframe tbody tr th {\n",
       "        vertical-align: top;\n",
       "    }\n",
       "\n",
       "    .dataframe thead th {\n",
       "        text-align: right;\n",
       "    }\n",
       "</style>\n",
       "<table border=\"1\" class=\"dataframe\">\n",
       "  <thead>\n",
       "    <tr style=\"text-align: right;\">\n",
       "      <th></th>\n",
       "      <th>Year</th>\n",
       "      <th>Veterinary Office</th>\n",
       "      <th>Animal Count</th>\n",
       "      <th>Herd Incidence Rate</th>\n",
       "      <th>Restricted Herds at end of Year</th>\n",
       "      <th>Restricted Herds at start of Year</th>\n",
       "      <th>Herds Tested</th>\n",
       "      <th>Herds Count</th>\n",
       "      <th>Reactors per 1000 Tests A.P.T.</th>\n",
       "      <th>Reactors to date</th>\n",
       "      <th>Tests on Animals</th>\n",
       "    </tr>\n",
       "  </thead>\n",
       "  <tbody>\n",
       "    <tr>\n",
       "      <th>262</th>\n",
       "      <td>2018</td>\n",
       "      <td>State</td>\n",
       "      <td>6398745.0</td>\n",
       "      <td>3.51</td>\n",
       "      <td>2176.0</td>\n",
       "      <td>3874.0</td>\n",
       "      <td>110454.0</td>\n",
       "      <td>112105.0</td>\n",
       "      <td>1.97</td>\n",
       "      <td>17491.0</td>\n",
       "      <td>8869856.0</td>\n",
       "    </tr>\n",
       "    <tr>\n",
       "      <th>292</th>\n",
       "      <td>2019</td>\n",
       "      <td>State</td>\n",
       "      <td>6363409.0</td>\n",
       "      <td>3.72</td>\n",
       "      <td>2273.0</td>\n",
       "      <td>4060.0</td>\n",
       "      <td>109175.0</td>\n",
       "      <td>111004.0</td>\n",
       "      <td>1.62</td>\n",
       "      <td>17058.0</td>\n",
       "      <td>8827682.0</td>\n",
       "    </tr>\n",
       "    <tr>\n",
       "      <th>112</th>\n",
       "      <td>2013</td>\n",
       "      <td>State</td>\n",
       "      <td>6146958.0</td>\n",
       "      <td>3.88</td>\n",
       "      <td>2512.0</td>\n",
       "      <td>4430.0</td>\n",
       "      <td>114051.0</td>\n",
       "      <td>115765.0</td>\n",
       "      <td>1.84</td>\n",
       "      <td>15612.0</td>\n",
       "      <td>8474961.0</td>\n",
       "    </tr>\n",
       "    <tr>\n",
       "      <th>142</th>\n",
       "      <td>2014</td>\n",
       "      <td>State</td>\n",
       "      <td>6115528.0</td>\n",
       "      <td>3.64</td>\n",
       "      <td>2177.0</td>\n",
       "      <td>4111.0</td>\n",
       "      <td>112937.0</td>\n",
       "      <td>114508.0</td>\n",
       "      <td>1.91</td>\n",
       "      <td>16145.0</td>\n",
       "      <td>8445262.0</td>\n",
       "    </tr>\n",
       "    <tr>\n",
       "      <th>82</th>\n",
       "      <td>2012</td>\n",
       "      <td>State</td>\n",
       "      <td>6145469.0</td>\n",
       "      <td>4.26</td>\n",
       "      <td>2665.0</td>\n",
       "      <td>4856.0</td>\n",
       "      <td>113887.0</td>\n",
       "      <td>115787.0</td>\n",
       "      <td>2.16</td>\n",
       "      <td>18476.0</td>\n",
       "      <td>8534677.0</td>\n",
       "    </tr>\n",
       "  </tbody>\n",
       "</table>\n",
       "</div>"
      ],
      "text/plain": [
       "     Year Veterinary Office  Animal Count  Herd Incidence Rate  \\\n",
       "262  2018             State     6398745.0                 3.51   \n",
       "292  2019             State     6363409.0                 3.72   \n",
       "112  2013             State     6146958.0                 3.88   \n",
       "142  2014             State     6115528.0                 3.64   \n",
       "82   2012             State     6145469.0                 4.26   \n",
       "\n",
       "     Restricted Herds at end of Year  Restricted Herds at start of Year  \\\n",
       "262                           2176.0                             3874.0   \n",
       "292                           2273.0                             4060.0   \n",
       "112                           2512.0                             4430.0   \n",
       "142                           2177.0                             4111.0   \n",
       "82                            2665.0                             4856.0   \n",
       "\n",
       "     Herds Tested  Herds Count  Reactors per 1000 Tests A.P.T.  \\\n",
       "262      110454.0     112105.0                            1.97   \n",
       "292      109175.0     111004.0                            1.62   \n",
       "112      114051.0     115765.0                            1.84   \n",
       "142      112937.0     114508.0                            1.91   \n",
       "82       113887.0     115787.0                            2.16   \n",
       "\n",
       "     Reactors to date  Tests on Animals  \n",
       "262           17491.0         8869856.0  \n",
       "292           17058.0         8827682.0  \n",
       "112           15612.0         8474961.0  \n",
       "142           16145.0         8445262.0  \n",
       "82            18476.0         8534677.0  "
      ]
     },
     "metadata": {},
     "output_type": "display_data"
    },
    {
     "data": {
      "text/html": [
       "<h5>Data Types</h5>"
      ],
      "text/plain": [
       "<IPython.core.display.HTML object>"
      ]
     },
     "metadata": {},
     "output_type": "display_data"
    },
    {
     "data": {
      "text/plain": [
       "Year                                   int64\n",
       "Veterinary Office                     object\n",
       "Animal Count                         float64\n",
       "Herd Incidence Rate                  float64\n",
       "Restricted Herds at end of Year      float64\n",
       "Restricted Herds at start of Year    float64\n",
       "Herds Tested                         float64\n",
       "Herds Count                          float64\n",
       "Reactors per 1000 Tests A.P.T.       float64\n",
       "Reactors to date                     float64\n",
       "Tests on Animals                     float64\n",
       "dtype: object"
      ]
     },
     "metadata": {},
     "output_type": "display_data"
    },
    {
     "data": {
      "text/html": [
       "<h5>Duplicates</h5>"
      ],
      "text/plain": [
       "<IPython.core.display.HTML object>"
      ]
     },
     "metadata": {},
     "output_type": "display_data"
    },
    {
     "data": {
      "text/html": [
       "<p>Number of duplicate rows: 0</p>"
      ],
      "text/plain": [
       "<IPython.core.display.HTML object>"
      ]
     },
     "metadata": {},
     "output_type": "display_data"
    },
    {
     "data": {
      "text/html": [
       "<h5>No Columns with Null values</h5>"
      ],
      "text/plain": [
       "<IPython.core.display.HTML object>"
      ]
     },
     "metadata": {},
     "output_type": "display_data"
    },
    {
     "data": {
      "text/html": [
       "<h5>Single Value Columns</h5>"
      ],
      "text/plain": [
       "<IPython.core.display.HTML object>"
      ]
     },
     "metadata": {},
     "output_type": "display_data"
    },
    {
     "data": {
      "text/html": [
       "<ul><li>The column `Veterinary Office` has only one value. Recommend removing.</li></ul>"
      ],
      "text/plain": [
       "<IPython.core.display.HTML object>"
      ]
     },
     "metadata": {},
     "output_type": "display_data"
    },
    {
     "data": {
      "text/html": [
       "<h5>Columns: Unique value counts</h5>"
      ],
      "text/plain": [
       "<IPython.core.display.HTML object>"
      ]
     },
     "metadata": {},
     "output_type": "display_data"
    },
    {
     "data": {
      "text/html": [
       "<ul><li>The column \"Year\" has 11 unique values.</li><li>The column \"Veterinary Office\" has 1 unique values.</li><li>The column \"Animal Count\" has 11 unique values.</li><li>The column \"Herd Incidence Rate\" has 11 unique values.</li><li>The column \"Restricted Herds at end of Year\" has 11 unique values.</li><li>The column \"Restricted Herds at start of Year\" has 11 unique values.</li><li>The column \"Herds Tested\" has 11 unique values.</li><li>The column \"Herds Count\" has 11 unique values.</li><li>The column \"Reactors per 1000 Tests A.P.T.\" has 10 unique values.</li><li>The column \"Reactors to date\" has 11 unique values.</li><li>The column \"Tests on Animals\" has 11 unique values.</li></ul>"
      ],
      "text/plain": [
       "<IPython.core.display.HTML object>"
      ]
     },
     "metadata": {},
     "output_type": "display_data"
    },
    {
     "data": {
      "text/html": [
       "<h5>Outlier Analysis</h5>"
      ],
      "text/plain": [
       "<IPython.core.display.HTML object>"
      ]
     },
     "metadata": {},
     "output_type": "display_data"
    },
    {
     "data": {
      "text/html": [
       "<ul><li>The column \"Animal Count\" has 1 outlier. Recommend removing outlier.</li><li>The column \"Reactors per 1000 Tests A.P.T.\" has 1 outlier. Recommend removing outlier.</li><li>The column \"Reactors to date\" has 1 outlier. Recommend removing outlier.</li></ul>"
      ],
      "text/plain": [
       "<IPython.core.display.HTML object>"
      ]
     },
     "metadata": {},
     "output_type": "display_data"
    }
   ],
   "source": [
    "bovine_tuberculosis_dataframe = bovine_tuberculosis_dataframe.drop(bovine_tuberculosis_dataframe[(bovine_tuberculosis_dataframe[VETERINARY_OFFICE] != \"State\")].index)\n",
    "eda_reports.print_dataframe_analysis_report(bovine_tuberculosis_dataframe, filename)"
   ]
  },
  {
   "cell_type": "markdown",
   "id": "edc39f61",
   "metadata": {},
   "source": [
    "### Save Artifacts"
   ]
  },
  {
   "cell_type": "markdown",
   "id": "74be102e",
   "metadata": {},
   "source": [
    "Saving the output of the notebook."
   ]
  },
  {
   "cell_type": "code",
   "execution_count": 12,
   "id": "117503dc",
   "metadata": {
    "ExecuteTime": {
     "end_time": "2022-01-27T03:37:06.308429Z",
     "start_time": "2022-01-27T03:37:06.279428Z"
    }
   },
   "outputs": [],
   "source": [
    "bovine_tuberculosis_dataframe.to_csv(\n",
    "    artifact_manager.get_bovine_tuberculosis_eda_filepath(), index=None)\n",
    "county_bovine_tuberculosis_dataframe.to_csv(\n",
    "    artifact_manager.get_county_bovine_tuberculosis_eda_filepath(), index=None)"
   ]
  },
  {
   "cell_type": "markdown",
   "id": "4ddde460",
   "metadata": {},
   "source": [
    "Author &copy; 2021 <a href=\"https://github.com/markcrowe-com\" target=\"_parent\">Mark Crowe</a>. All rights reserved."
   ]
  }
 ],
 "metadata": {
  "kernelspec": {
   "display_name": "Python 3 (ipykernel)",
   "language": "python",
   "name": "python3"
  },
  "language_info": {
   "codemirror_mode": {
    "name": "ipython",
    "version": 3
   },
   "file_extension": ".py",
   "mimetype": "text/x-python",
   "name": "python",
   "nbconvert_exporter": "python",
   "pygments_lexer": "ipython3",
   "version": "3.8.12"
  },
  "toc": {
   "base_numbering": 1,
   "nav_menu": {
    "height": "204px",
    "width": "371px"
   },
   "number_sections": false,
   "sideBar": true,
   "skip_h1_title": false,
   "title_cell": "Table of Contents",
   "title_sidebar": "Contents",
   "toc_cell": false,
   "toc_position": {
    "height": "calc(100% - 180px)",
    "left": "10px",
    "top": "150px",
    "width": "337.003px"
   },
   "toc_section_display": true,
   "toc_window_display": true
  }
 },
 "nbformat": 4,
 "nbformat_minor": 5
}
