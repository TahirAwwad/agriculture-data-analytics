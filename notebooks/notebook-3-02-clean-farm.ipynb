{
 "cells": [
  {
   "cell_type": "markdown",
   "id": "f266d1aa",
   "metadata": {},
   "source": [
    "## Sentiment Analysis"
   ]
  },
  {
   "cell_type": "markdown",
   "id": "7d70870c",
   "metadata": {},
   "source": [
    "<!--\n",
    "import data_analytics.github as github\n",
    "print(github.create_jupyter_notebook_header(\"markcrowe-com\", \"agriculture-data-analytics\", \"notebooks/notebook-3-02-clean-farm.ipynb\", \"master\")\n",
    "-->\n",
    "<table style=\"margin: auto;\"><tr><td><a href=\"https://mybinder.org/v2/gh/markcrowe-com/agriculture-data-analytics/master?filepath=notebooks/notebook-3-02-clean-farm.ipynb\" target=\"_parent\"><img src=\"https://mybinder.org/badge_logo.svg\" alt=\"Open In Binder\"/></a></td><td>online editors</td><td><a href=\"https://colab.research.google.com/github/markcrowe-com/agriculture-data-analytics/blob/master/notebooks/notebook-3-02-clean-farm.ipynb\" target=\"_parent\"><img src=\"https://colab.research.google.com/assets/colab-badge.svg\" alt=\"Open In Colab\"/></a></td></tr></table>"
   ]
  },
  {
   "cell_type": "markdown",
   "id": "ba048150",
   "metadata": {},
   "source": [
    "### Setup\n",
    "Import required third party Python libraries, import supporting functions and sets up data source file paths."
   ]
  },
  {
   "cell_type": "code",
   "execution_count": 1,
   "id": "d1b3607b",
   "metadata": {},
   "outputs": [],
   "source": [
    "# Local\n",
    "#!pip install -r script/requirements.txt --quiet\n",
    "# Remote option\n",
    "#!pip install -r https://github.com/tahirawwad/agriculture-data-analytics/blob/master/notebooks/script/requirements.txt --quiet"
   ]
  },
  {
   "cell_type": "code",
   "execution_count": 2,
   "id": "ea830e05",
   "metadata": {},
   "outputs": [],
   "source": [
    "from nltk.corpus import stopwords\n",
    "from pprint import pprint\n",
    "from textblob import TextBlob\n",
    "import importlib\n",
    "import pandas\n",
    "import numpy\n",
    "import spacy"
   ]
  },
  {
   "cell_type": "code",
   "execution_count": 3,
   "id": "a9aa014b",
   "metadata": {},
   "outputs": [],
   "source": [
    "nlp_functions = importlib.import_module(\"nlp_clean_functions\")"
   ]
  },
  {
   "cell_type": "code",
   "execution_count": 4,
   "id": "44349bbe",
   "metadata": {},
   "outputs": [],
   "source": [
    "#!python -m spacy download en_core_web_sm --quiet"
   ]
  },
  {
   "cell_type": "code",
   "execution_count": 6,
   "id": "21df0b84",
   "metadata": {},
   "outputs": [
    {
     "name": "stdout",
     "output_type": "stream",
     "text": [
      "Wall time: 42.4 s\n"
     ]
    }
   ],
   "source": [
    "%%time\n",
    "dataframe = pandas.read_csv(\"./../assets/agriculture-ie.csv\")\n",
    "dataframe = nlp_functions.add_clean_text_columns(dataframe)"
   ]
  },
  {
   "cell_type": "markdown",
   "id": "694143bd",
   "metadata": {},
   "source": [
    "### Save Artifact\n",
    "Saving the output of the notebook."
   ]
  },
  {
   "cell_type": "code",
   "execution_count": 9,
   "id": "f6bc5b19",
   "metadata": {},
   "outputs": [],
   "source": [
    "dataframe.to_csv(\"./../artifacts/agriculture-ie-clean.csv\")"
   ]
  },
  {
   "cell_type": "code",
   "execution_count": 7,
   "id": "afa3b1db",
   "metadata": {},
   "outputs": [
    {
     "data": {
      "text/html": [
       "<div>\n",
       "<style scoped>\n",
       "    .dataframe tbody tr th:only-of-type {\n",
       "        vertical-align: middle;\n",
       "    }\n",
       "\n",
       "    .dataframe tbody tr th {\n",
       "        vertical-align: top;\n",
       "    }\n",
       "\n",
       "    .dataframe thead th {\n",
       "        text-align: right;\n",
       "    }\n",
       "</style>\n",
       "<table border=\"1\" class=\"dataframe\">\n",
       "  <thead>\n",
       "    <tr style=\"text-align: right;\">\n",
       "      <th></th>\n",
       "      <th>id</th>\n",
       "      <th>created_at</th>\n",
       "      <th>favorite_count</th>\n",
       "      <th>retweet_count</th>\n",
       "      <th>text</th>\n",
       "      <th>clean_text</th>\n",
       "      <th>polarity_tokens</th>\n",
       "      <th>review_len</th>\n",
       "      <th>word_count</th>\n",
       "    </tr>\n",
       "  </thead>\n",
       "  <tbody>\n",
       "    <tr>\n",
       "      <th>0</th>\n",
       "      <td>1479016695171850244</td>\n",
       "      <td>2022-01-06 09:07:13+00:00</td>\n",
       "      <td>3</td>\n",
       "      <td>2</td>\n",
       "      <td>Minister @McConalogue talks on how the Irish f...</td>\n",
       "      <td>minister talk irish family farm model last tes...</td>\n",
       "      <td>-0.017857</td>\n",
       "      <td>109</td>\n",
       "      <td>16</td>\n",
       "    </tr>\n",
       "    <tr>\n",
       "      <th>1</th>\n",
       "      <td>1478777431871864839</td>\n",
       "      <td>2022-01-05 17:16:28+00:00</td>\n",
       "      <td>5</td>\n",
       "      <td>4</td>\n",
       "      <td>Here’s #BeWinterReady tips for farms:\\r\\n\\r\\n💡...</td>\n",
       "      <td>bewinterready tip farm ensure farm light train...</td>\n",
       "      <td>0.400000</td>\n",
       "      <td>135</td>\n",
       "      <td>20</td>\n",
       "    </tr>\n",
       "    <tr>\n",
       "      <th>2</th>\n",
       "      <td>1478305852868251653</td>\n",
       "      <td>2022-01-04 10:02:35+00:00</td>\n",
       "      <td>7</td>\n",
       "      <td>2</td>\n",
       "      <td>Extensions have been announced for a number of...</td>\n",
       "      <td>extension announce number european innovation ...</td>\n",
       "      <td>0.000000</td>\n",
       "      <td>135</td>\n",
       "      <td>17</td>\n",
       "    </tr>\n",
       "    <tr>\n",
       "      <th>3</th>\n",
       "      <td>1478303286604226565</td>\n",
       "      <td>2022-01-04 09:52:23+00:00</td>\n",
       "      <td>18</td>\n",
       "      <td>11</td>\n",
       "      <td>A range of public and stakeholder engagements ...</td>\n",
       "      <td>range public stakeholder engagement announce d...</td>\n",
       "      <td>0.045455</td>\n",
       "      <td>174</td>\n",
       "      <td>21</td>\n",
       "    </tr>\n",
       "    <tr>\n",
       "      <th>4</th>\n",
       "      <td>1477625220580085761</td>\n",
       "      <td>2022-01-02 12:58:00+00:00</td>\n",
       "      <td>13</td>\n",
       "      <td>3</td>\n",
       "      <td>If you missed any of our webinars during #Anim...</td>\n",
       "      <td>miss webinar animalhealth antimicrobialresista...</td>\n",
       "      <td>0.000000</td>\n",
       "      <td>119</td>\n",
       "      <td>14</td>\n",
       "    </tr>\n",
       "  </tbody>\n",
       "</table>\n",
       "</div>"
      ],
      "text/plain": [
       "                    id                 created_at  favorite_count  \\\n",
       "0  1479016695171850244  2022-01-06 09:07:13+00:00               3   \n",
       "1  1478777431871864839  2022-01-05 17:16:28+00:00               5   \n",
       "2  1478305852868251653  2022-01-04 10:02:35+00:00               7   \n",
       "3  1478303286604226565  2022-01-04 09:52:23+00:00              18   \n",
       "4  1477625220580085761  2022-01-02 12:58:00+00:00              13   \n",
       "\n",
       "   retweet_count                                               text  \\\n",
       "0              2  Minister @McConalogue talks on how the Irish f...   \n",
       "1              4  Here’s #BeWinterReady tips for farms:\\r\\n\\r\\n💡...   \n",
       "2              2  Extensions have been announced for a number of...   \n",
       "3             11  A range of public and stakeholder engagements ...   \n",
       "4              3  If you missed any of our webinars during #Anim...   \n",
       "\n",
       "                                          clean_text  polarity_tokens  \\\n",
       "0  minister talk irish family farm model last tes...        -0.017857   \n",
       "1  bewinterready tip farm ensure farm light train...         0.400000   \n",
       "2  extension announce number european innovation ...         0.000000   \n",
       "3  range public stakeholder engagement announce d...         0.045455   \n",
       "4  miss webinar animalhealth antimicrobialresista...         0.000000   \n",
       "\n",
       "   review_len  word_count  \n",
       "0         109          16  \n",
       "1         135          20  \n",
       "2         135          17  \n",
       "3         174          21  \n",
       "4         119          14  "
      ]
     },
     "execution_count": 7,
     "metadata": {},
     "output_type": "execute_result"
    }
   ],
   "source": [
    "dataframe.head()"
   ]
  }
 ],
 "metadata": {
  "kernelspec": {
   "display_name": "Python 3 (ipykernel)",
   "language": "python",
   "name": "python3"
  },
  "language_info": {
   "codemirror_mode": {
    "name": "ipython",
    "version": 3
   },
   "file_extension": ".py",
   "mimetype": "text/x-python",
   "name": "python",
   "nbconvert_exporter": "python",
   "pygments_lexer": "ipython3",
   "version": "3.8.12"
  }
 },
 "nbformat": 4,
 "nbformat_minor": 5
}
