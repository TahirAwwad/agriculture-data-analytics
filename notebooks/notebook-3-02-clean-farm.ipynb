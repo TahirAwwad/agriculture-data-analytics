{
 "cells": [
  {
   "cell_type": "markdown",
   "id": "f266d1aa",
   "metadata": {},
   "source": [
    "## Sentiment Analysis"
   ]
  },
  {
   "cell_type": "markdown",
   "id": "7d70870c",
   "metadata": {},
   "source": [
    "<!--\n",
    "import data_analytics.github as github\n",
    "print(github.create_jupyter_notebook_header(\"markcrowe-com\", \"agriculture-data-analytics\", \"notebooks/notebook-3-02-clean-farm.ipynb\", \"master\")\n",
    "-->\n",
    "<table style=\"margin: auto;\"><tr><td><a href=\"https://mybinder.org/v2/gh/markcrowe-com/agriculture-data-analytics/master?filepath=notebooks/notebook-3-02-clean-farm.ipynb\" target=\"_parent\"><img src=\"https://mybinder.org/badge_logo.svg\" alt=\"Open In Binder\"/></a></td><td>online editors</td><td><a href=\"https://colab.research.google.com/github/markcrowe-com/agriculture-data-analytics/blob/master/notebooks/notebook-3-02-clean-farm.ipynb\" target=\"_parent\"><img src=\"https://colab.research.google.com/assets/colab-badge.svg\" alt=\"Open In Colab\"/></a></td></tr></table>"
   ]
  },
  {
   "cell_type": "markdown",
   "id": "ba048150",
   "metadata": {},
   "source": [
    "### Setup\n",
    "Import required third party Python libraries, import supporting functions and sets up data source file paths."
   ]
  },
  {
   "cell_type": "code",
   "execution_count": 1,
   "id": "d1b3607b",
   "metadata": {},
   "outputs": [],
   "source": [
    "# Local\n",
    "#!pip install -r script/requirements.txt --quiet\n",
    "# Remote option\n",
    "#!pip install -r https://github.com/tahirawwad/agriculture-data-analytics/blob/master/notebooks/script/requirements.txt --quiet"
   ]
  },
  {
   "cell_type": "code",
   "execution_count": 2,
   "id": "ea830e05",
   "metadata": {},
   "outputs": [],
   "source": [
    "from nltk.corpus import stopwords\n",
    "from pprint import pprint\n",
    "from textblob import TextBlob\n",
    "import pandas\n",
    "import numpy\n",
    "import spacy"
   ]
  },
  {
   "cell_type": "code",
   "execution_count": 3,
   "id": "44349bbe",
   "metadata": {},
   "outputs": [],
   "source": [
    "#!python -m spacy download en_core_web_sm --quiet"
   ]
  },
  {
   "cell_type": "code",
   "execution_count": 4,
   "id": "cf8a2acc",
   "metadata": {},
   "outputs": [],
   "source": [
    "def preprocess(html_text):\n",
    "    return html_text.str.replace(\"(<br/>)\", \"\", regex=True\n",
    "                        ).replace('(<a).*(>).*(</a>)', '', regex=True\n",
    "                        ).replace('(&amp)', '', regex=True\n",
    "                        ).replace('(&gt)', '', regex=True\n",
    "                        ).replace('(&lt)', '',regex=True\n",
    "                        ).replace('(\\xa0)', ' ',regex=True)\n",
    "\n",
    "def spacy_clean(panda):  \n",
    "        delete=['NUM','INTJ','CONJ','ADV','PUNCT','PART','DET','ADP','SPACE','PRON','SYM','x']\n",
    "        list = []\n",
    "        doc= nlp(panda)\n",
    "        for token in doc:\n",
    "            if token.is_stop == False and token.is_alpha and len(token)>2 and token.pos_ not in delete:\n",
    "                group = token.lemma_\n",
    "                list.append(group)\n",
    "        return list"
   ]
  },
  {
   "cell_type": "code",
   "execution_count": 5,
   "id": "21df0b84",
   "metadata": {},
   "outputs": [],
   "source": [
    "dataframe = pandas.read_csv(\"./../assets/agriculture-ie.csv\")\n",
    "\n",
    "nlp = spacy.load('en_core_web_sm')"
   ]
  },
  {
   "cell_type": "code",
   "execution_count": 6,
   "id": "2a202d29",
   "metadata": {},
   "outputs": [],
   "source": [
    "#Text preprocessing\n",
    "dataframe[\"text\"] = dataframe[\"text\"].str.lower()\n",
    "dataframe['text'] = preprocess(dataframe['text'])\n",
    "#Lower Casing\n",
    "dataframe[\"text\"] = dataframe[\"text\"].str.lower()\n",
    "\n",
    "##loading spacy english language for spacy\n",
    "## TODO: ERROR\n",
    "#nlp = spacy.load('en', parser=False, entity=False)\n",
    "\n",
    "#spacy function that removes unwanted words from Twitter posts\n",
    "\n",
    "dataframe['clean_text'] = dataframe['text'].apply(lambda x:spacy_clean(x))\n",
    "dataframe['clean_text'] = [' '.join(map(str, l)) for l in dataframe['text']]\n",
    "\n",
    "dataframe = dataframe.dropna()"
   ]
  },
  {
   "cell_type": "code",
   "execution_count": 7,
   "id": "575bb601",
   "metadata": {},
   "outputs": [
    {
     "name": "stderr",
     "output_type": "stream",
     "text": [
      "C:\\Users\\user\\AppData\\Local\\Temp/ipykernel_23220/814003812.py:11: SettingWithCopyWarning: \n",
      "A value is trying to be set on a copy of a slice from a DataFrame\n",
      "\n",
      "See the caveats in the documentation: https://pandas.pydata.org/pandas-docs/stable/user_guide/indexing.html#returning-a-view-versus-a-copy\n",
      "  dataframe[\"clean_text\"][i] = new_text\n"
     ]
    }
   ],
   "source": [
    "#This needs fixing\n",
    "#changing tokens into strings\n",
    "for i, text in enumerate(dataframe[\"text\"]):\n",
    "    tokens = text.split(\" \")\n",
    "    new_text = []\n",
    "    for t in tokens:\n",
    "        #if t in words:\n",
    "        new_text.append(t)\n",
    "\n",
    "    new_text = \" \".join(new_text)\n",
    "    dataframe[\"clean_text\"][i] = new_text\n",
    "\n",
    "#obtaining polarity and word count\n",
    "\n",
    "dataframe['polarity_tokens'] = dataframe['clean_text'].map(lambda text: TextBlob(text).sentiment.polarity)\n",
    "dataframe['review_len'] = dataframe['clean_text'].astype(str).apply(len)\n",
    "dataframe['word_count'] = dataframe['clean_text'].apply(lambda x: len(str(x).split()))"
   ]
  },
  {
   "cell_type": "markdown",
   "id": "694143bd",
   "metadata": {},
   "source": [
    "### Save Artifact\n",
    "Saving the output of the notebook."
   ]
  },
  {
   "cell_type": "code",
   "execution_count": 8,
   "id": "f6bc5b19",
   "metadata": {},
   "outputs": [],
   "source": [
    "dataframe.to_csv(\"./../artifacts/agriculture-ie-clean.csv\")"
   ]
  }
 ],
 "metadata": {
  "kernelspec": {
   "display_name": "Python 3 (ipykernel)",
   "language": "python",
   "name": "python3"
  },
  "language_info": {
   "codemirror_mode": {
    "name": "ipython",
    "version": 3
   },
   "file_extension": ".py",
   "mimetype": "text/x-python",
   "name": "python",
   "nbconvert_exporter": "python",
   "pygments_lexer": "ipython3",
   "version": "3.8.12"
  }
 },
 "nbformat": 4,
 "nbformat_minor": 5
}
