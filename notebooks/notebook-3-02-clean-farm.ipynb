{
 "cells": [
  {
   "cell_type": "code",
   "execution_count": 23,
   "id": "f6bc5b19",
   "metadata": {},
   "outputs": [
    {
     "name": "stdout",
     "output_type": "stream",
     "text": [
      "test\n"
     ]
    },
    {
     "ename": "OSError",
     "evalue": "[E941] Can't find model 'en'. It looks like you're trying to load a model from a shortcut, which is obsolete as of spaCy v3.0. To load the model, use its full name instead:\n\nnlp = spacy.load(\"en_core_web_sm\")\n\nFor more details on the available models, see the models directory: https://spacy.io/models. If you want to create a blank model, use spacy.blank: nlp = spacy.blank(\"en\")",
     "output_type": "error",
     "traceback": [
      "\u001b[1;31m---------------------------------------------------------------------------\u001b[0m",
      "\u001b[1;31mOSError\u001b[0m                                   Traceback (most recent call last)",
      "\u001b[1;32m<ipython-input-23-aed485947df7>\u001b[0m in \u001b[0;36m<module>\u001b[1;34m\u001b[0m\n\u001b[0;32m     19\u001b[0m \u001b[1;33m\u001b[0m\u001b[0m\n\u001b[0;32m     20\u001b[0m \u001b[1;31m# In[152]:\u001b[0m\u001b[1;33m\u001b[0m\u001b[1;33m\u001b[0m\u001b[1;33m\u001b[0m\u001b[0m\n\u001b[1;32m---> 21\u001b[1;33m \u001b[0mnlp\u001b[0m \u001b[1;33m=\u001b[0m \u001b[0mspacy\u001b[0m\u001b[1;33m.\u001b[0m\u001b[0mload\u001b[0m\u001b[1;33m(\u001b[0m\u001b[1;34m'en'\u001b[0m\u001b[1;33m)\u001b[0m\u001b[1;33m\u001b[0m\u001b[1;33m\u001b[0m\u001b[0m\n\u001b[0m\u001b[0;32m     22\u001b[0m \u001b[1;33m\u001b[0m\u001b[0m\n\u001b[0;32m     23\u001b[0m \u001b[1;31m#Text preprocessing\u001b[0m\u001b[1;33m\u001b[0m\u001b[1;33m\u001b[0m\u001b[1;33m\u001b[0m\u001b[0m\n",
      "\u001b[1;32m~\\anaconda3\\lib\\site-packages\\spacy\\__init__.py\u001b[0m in \u001b[0;36mload\u001b[1;34m(name, vocab, disable, exclude, config)\u001b[0m\n\u001b[0;32m     49\u001b[0m     \u001b[0mRETURNS\u001b[0m \u001b[1;33m(\u001b[0m\u001b[0mLanguage\u001b[0m\u001b[1;33m)\u001b[0m\u001b[1;33m:\u001b[0m \u001b[0mThe\u001b[0m \u001b[0mloaded\u001b[0m \u001b[0mnlp\u001b[0m \u001b[0mobject\u001b[0m\u001b[1;33m.\u001b[0m\u001b[1;33m\u001b[0m\u001b[1;33m\u001b[0m\u001b[0m\n\u001b[0;32m     50\u001b[0m     \"\"\"\n\u001b[1;32m---> 51\u001b[1;33m     return util.load_model(\n\u001b[0m\u001b[0;32m     52\u001b[0m         \u001b[0mname\u001b[0m\u001b[1;33m,\u001b[0m \u001b[0mvocab\u001b[0m\u001b[1;33m=\u001b[0m\u001b[0mvocab\u001b[0m\u001b[1;33m,\u001b[0m \u001b[0mdisable\u001b[0m\u001b[1;33m=\u001b[0m\u001b[0mdisable\u001b[0m\u001b[1;33m,\u001b[0m \u001b[0mexclude\u001b[0m\u001b[1;33m=\u001b[0m\u001b[0mexclude\u001b[0m\u001b[1;33m,\u001b[0m \u001b[0mconfig\u001b[0m\u001b[1;33m=\u001b[0m\u001b[0mconfig\u001b[0m\u001b[1;33m\u001b[0m\u001b[1;33m\u001b[0m\u001b[0m\n\u001b[0;32m     53\u001b[0m     )\n",
      "\u001b[1;32m~\\anaconda3\\lib\\site-packages\\spacy\\util.py\u001b[0m in \u001b[0;36mload_model\u001b[1;34m(name, vocab, disable, exclude, config)\u001b[0m\n\u001b[0;32m    424\u001b[0m         \u001b[1;32mreturn\u001b[0m \u001b[0mload_model_from_path\u001b[0m\u001b[1;33m(\u001b[0m\u001b[0mname\u001b[0m\u001b[1;33m,\u001b[0m \u001b[1;33m**\u001b[0m\u001b[0mkwargs\u001b[0m\u001b[1;33m)\u001b[0m  \u001b[1;31m# type: ignore[arg-type]\u001b[0m\u001b[1;33m\u001b[0m\u001b[1;33m\u001b[0m\u001b[0m\n\u001b[0;32m    425\u001b[0m     \u001b[1;32mif\u001b[0m \u001b[0mname\u001b[0m \u001b[1;32min\u001b[0m \u001b[0mOLD_MODEL_SHORTCUTS\u001b[0m\u001b[1;33m:\u001b[0m\u001b[1;33m\u001b[0m\u001b[1;33m\u001b[0m\u001b[0m\n\u001b[1;32m--> 426\u001b[1;33m         \u001b[1;32mraise\u001b[0m \u001b[0mIOError\u001b[0m\u001b[1;33m(\u001b[0m\u001b[0mErrors\u001b[0m\u001b[1;33m.\u001b[0m\u001b[0mE941\u001b[0m\u001b[1;33m.\u001b[0m\u001b[0mformat\u001b[0m\u001b[1;33m(\u001b[0m\u001b[0mname\u001b[0m\u001b[1;33m=\u001b[0m\u001b[0mname\u001b[0m\u001b[1;33m,\u001b[0m \u001b[0mfull\u001b[0m\u001b[1;33m=\u001b[0m\u001b[0mOLD_MODEL_SHORTCUTS\u001b[0m\u001b[1;33m[\u001b[0m\u001b[0mname\u001b[0m\u001b[1;33m]\u001b[0m\u001b[1;33m)\u001b[0m\u001b[1;33m)\u001b[0m  \u001b[1;31m# type: ignore[index]\u001b[0m\u001b[1;33m\u001b[0m\u001b[1;33m\u001b[0m\u001b[0m\n\u001b[0m\u001b[0;32m    427\u001b[0m     \u001b[1;32mraise\u001b[0m \u001b[0mIOError\u001b[0m\u001b[1;33m(\u001b[0m\u001b[0mErrors\u001b[0m\u001b[1;33m.\u001b[0m\u001b[0mE050\u001b[0m\u001b[1;33m.\u001b[0m\u001b[0mformat\u001b[0m\u001b[1;33m(\u001b[0m\u001b[0mname\u001b[0m\u001b[1;33m=\u001b[0m\u001b[0mname\u001b[0m\u001b[1;33m)\u001b[0m\u001b[1;33m)\u001b[0m\u001b[1;33m\u001b[0m\u001b[1;33m\u001b[0m\u001b[0m\n\u001b[0;32m    428\u001b[0m \u001b[1;33m\u001b[0m\u001b[0m\n",
      "\u001b[1;31mOSError\u001b[0m: [E941] Can't find model 'en'. It looks like you're trying to load a model from a shortcut, which is obsolete as of spaCy v3.0. To load the model, use its full name instead:\n\nnlp = spacy.load(\"en_core_web_sm\")\n\nFor more details on the available models, see the models directory: https://spacy.io/models. If you want to create a blank model, use spacy.blank: nlp = spacy.blank(\"en\")"
     ]
    }
   ],
   "source": [
    "import pandas as pd\n",
    "import numpy as np\n",
    "from textblob import TextBlob\n",
    "\n",
    "import spacy\n",
    "from pprint import pprint\n",
    "\n",
    "#nlp = spacy.load('en_core_web_sm')\n",
    "from nltk.corpus import stopwords\n",
    "\n",
    "#from spellchecker import SpellChecke\n",
    "\n",
    "\n",
    "#loading of the csv\n",
    "df = pd.read_csv(\"./../artifacts/agriculture_ie.csv\")\n",
    "\n",
    "print('test')                 \n",
    "\n",
    "\n",
    "# In[152]:\n",
    "nlp = spacy.load('en_core_web_sm')\n",
    "\n",
    "#Text preprocessing \n",
    "\n",
    "df[\"text\"] = df[\"text\"].str.lower()\n",
    "\n",
    "def preprocess(CleanText):\n",
    "    CleanText = CleanText.str.replace(\"(<br/>)\", \"\", regex=True)\n",
    "    CleanText = CleanText.str.replace('(<a).*(>).*(</a>)', '', regex=True)\n",
    "    CleanText = CleanText.str.replace('(&amp)', '', regex=True)\n",
    "    CleanText = CleanText.str.replace('(&gt)', '', regex=True)\n",
    "    CleanText = CleanText.str.replace('(&lt)', '',regex=True)\n",
    "    CleanText = CleanText.str.replace('(\\xa0)', ' ',regex=True)  \n",
    "    return CleanText\n",
    "\n",
    "df['text'] = preprocess(df['text'])\n",
    "\n",
    "\n",
    "#Lower Casing\n",
    "\n",
    "df[\"text\"] = df[\"text\"].str.lower()\n",
    "\n",
    "\n",
    "##loading spacy english language for spacy\n",
    "nlp = spacy.load('en', parser=False, entity=False)\n",
    "\n",
    "#spacy function that removes unwanted words from Twitter posts\n",
    "\n",
    "def spacy_clean(panda):  \n",
    "        delete=['NUM','INTJ','CONJ','ADV','PUNCT','PART','DET','ADP','SPACE','PRON','SYM','x']\n",
    "        list = []\n",
    "        doc= nlp(panda)\n",
    "        for token in doc:\n",
    "            if token.is_stop == False and token.is_alpha and len(token)>2 and token.pos_ not in delete:\n",
    "                group = token.lemma_\n",
    "                list.append(group)\n",
    "        return list\n",
    "\n",
    "df['clean_text']=df['text'].apply(lambda x:spacy_clean(x))\n",
    "\n",
    "df['clean_text'] = [' '.join(map(str, l)) for l in df['text']]\n",
    "\n",
    "\n",
    "\n",
    "df = df.dropna()\n",
    "\n",
    "#This needs fixing\n",
    "#changing tokens into strings\n",
    "\n",
    "for i, text in enumerate(df[\"text\"]):\n",
    "    tokens = text.split(\" \")\n",
    "    new_text = []\n",
    "    for t in tokens:\n",
    "        if t in words:\n",
    "            new_text.append(t)\n",
    "\n",
    "    new_text = \" \".join(new_text)\n",
    "    df[\"clean_text\"][i] = new_text\n",
    "\n",
    "#obtaining polarity and word count\n",
    "\n",
    "df['polarity_tokens'] = df['clean_text'].map(lambda text: TextBlob(text).sentiment.polarity)\n",
    "df['review_len'] = df['clean_text'].astype(str).apply(len)\n",
    "df['word_count'] = df['clean_text'].apply(lambda x: len(str(x).split()))\n",
    "print('t')\n",
    "\n",
    "#processed file save\n",
    "df.to_csv(\"C:/Users/Swazy/agriculture_ie_clean.csv\")"
   ]
  },
  {
   "cell_type": "code",
   "execution_count": 25,
   "id": "34820131",
   "metadata": {},
   "outputs": [
    {
     "name": "stderr",
     "output_type": "stream",
     "text": [
      "\n",
      "CommandNotFoundError: No command 'conda spacy'.\n",
      "\n"
     ]
    }
   ],
   "source": []
  },
  {
   "cell_type": "code",
   "execution_count": null,
   "id": "f8f4c8f0",
   "metadata": {},
   "outputs": [],
   "source": []
  }
 ],
 "metadata": {
  "kernelspec": {
   "display_name": "Python 3",
   "language": "python",
   "name": "python3"
  },
  "language_info": {
   "codemirror_mode": {
    "name": "ipython",
    "version": 3
   },
   "file_extension": ".py",
   "mimetype": "text/x-python",
   "name": "python",
   "nbconvert_exporter": "python",
   "pygments_lexer": "ipython3",
   "version": "3.8.8"
  }
 },
 "nbformat": 4,
 "nbformat_minor": 5
}
