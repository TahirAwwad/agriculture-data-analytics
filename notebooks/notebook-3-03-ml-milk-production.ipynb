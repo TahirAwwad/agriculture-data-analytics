{
 "cells": [
  {
   "cell_type": "markdown",
   "id": "12a36702",
   "metadata": {},
   "source": [
    "<!--\n",
    "import data_analytics.github as github\n",
    "print(github.create_jupyter_notebook_header(\"markcrowe-com\", \"agriculture-data-analytics\", \"notebooks/notebook-3-03-ml-milk-production.ipynb\", \"master\"))\n",
    "-->\n",
    "<table style=\"margin: auto;\"><tr><td><a href=\"https://mybinder.org/v2/gh/markcrowe-com/agriculture-data-analytics/master?filepath=notebooks/notebook-3-03-ml-milk-production.ipynb\" target=\"_parent\"><img src=\"https://mybinder.org/badge_logo.svg\" alt=\"Open In Binder\"/></a></td><td>online editors</td><td><a href=\"https://colab.research.google.com/github/markcrowe-com/agriculture-data-analytics/blob/master/notebooks/notebook-3-03-ml-milk-production.ipynb\" target=\"_parent\"><img src=\"https://colab.research.google.com/assets/colab-badge.svg\" alt=\"Open In Colab\"/></a></td></tr></table>"
   ]
  },
  {
   "cell_type": "markdown",
   "id": "dfd5db30",
   "metadata": {},
   "source": [
    "# Objective\n",
    "       Create the best machine learning model to predict Milk production value in Ireland\n",
    "       according to the historical data from Central Statistics office CSO.\n",
    "       AEA01 Value at Current Prices for Output, Input and Income in Agriculture\n",
    "       Downloaded https://data.cso.ie/table/AEA01"
   ]
  },
  {
   "cell_type": "markdown",
   "id": "4b5efde5",
   "metadata": {},
   "source": [
    "# Contents\n",
    "    - Read data from Assets folder\n",
    "    - Split to training / testing sets\n",
    "    - Scale each set seperatly\n",
    "    - Run Models\n",
    "        - Define Hyper parameter tuning Cross Validation Grid or Random Search\n",
    "        - Random Forest Regressor\n",
    "        - XGBOOST Regressor\n",
    "        - ANN\n",
    "    - Save best model into Pickle file\n",
    "    - Next step: Deploy selected model on a Streamlit webapp"
   ]
  },
  {
   "cell_type": "markdown",
   "id": "55902df1",
   "metadata": {},
   "source": [
    "### Setup"
   ]
  },
  {
   "cell_type": "markdown",
   "id": "c1d65b56",
   "metadata": {},
   "source": [
    "Import required third party Python libraries, import supporting functions and sets up data source file paths."
   ]
  },
  {
   "cell_type": "code",
   "execution_count": 75,
   "id": "2782cd5a",
   "metadata": {},
   "outputs": [],
   "source": [
    "#!pip install tensorflow\n",
    "#!pip install keras-tuner\n",
    "\n",
    "import pandas as pd\n",
    "import numpy as np\n",
    "from sklearn.model_selection import train_test_split\n",
    "from sklearn.impute import SimpleImputer\n",
    "from sklearn.preprocessing import MinMaxScaler\n",
    "from sklearn.model_selection import GridSearchCV\n",
    "from sklearn.ensemble import RandomForestRegressor\n",
    "from sklearn.metrics import mean_absolute_error, mean_squared_error\n",
    "from xgboost import XGBRegressor\n",
    "import tensorflow as tf\n",
    "from tensorflow import keras\n",
    "from tensorflow.keras import layers\n",
    "from keras_tuner.tuners import RandomSearch\n",
    "import pickle\n",
    "\n",
    "\n",
    "# Local\n",
    "#!pip install -r script/requirements.txt --quiet --user\n",
    "# Remote option\n",
    "#!pip install -r https://github.com/markcrowe-com/agriculture-data-analytics/blob/master/notebooks/script/requirements.txt --quiet --user\n",
    "#import data_analytics.exploratory_data_analysis as eda\n",
    "#import data_analytics.exploratory_data_analysis_reports as eda_reports\n",
    "\n"
   ]
  },
  {
   "cell_type": "markdown",
   "id": "39543089",
   "metadata": {},
   "source": [
    "### Load dataframe"
   ]
  },
  {
   "cell_type": "code",
   "execution_count": 118,
   "id": "99092f99",
   "metadata": {},
   "outputs": [
    {
     "name": "stdout",
     "output_type": "stream",
     "text": [
      "data dimensions \n",
      " (32, 57)\n",
      "\n",
      "\n",
      "Data sample\n",
      "     Unnamed: 0  Year          UNIT  Agricultural Output at Basic Prices  \\\n",
      "4            4  1994  Euro Million                               5781.5   \n",
      "12          12  2002  Euro Million                               5836.1   \n",
      "3            3  1993  Euro Million                               5625.9   \n",
      "25          25  2015  Euro Million                               7404.2   \n",
      "14          14  2004  Euro Million                               6156.9   \n",
      "\n",
      "    All Cereals  All Crops  All Livestock  All Livestock Products  \\\n",
      "4         127.3     1157.0         2319.3                  1487.6   \n",
      "12        141.9     1245.3         2014.8                  1451.0   \n",
      "3         165.7     1101.7         2449.6                  1476.7   \n",
      "25        262.7     1737.3         3452.5                  1949.4   \n",
      "14        181.4     1350.6         2212.8                  1459.3   \n",
      "\n",
      "    All Livestock Products - Milk  \\\n",
      "4                          1446.2   \n",
      "12                         1413.0   \n",
      "3                          1439.0   \n",
      "25                         1881.1   \n",
      "14                         1417.8   \n",
      "\n",
      "    All Livestock Products Other Products (excluding Milk)  ...  \\\n",
      "4                                                41.4       ...   \n",
      "12                                               37.9       ...   \n",
      "3                                                37.7       ...   \n",
      "25                                               68.3       ...   \n",
      "14                                               41.6       ...   \n",
      "\n",
      "    Livestock - Horses  Livestock - Pig  Livestock - Poultry  \\\n",
      "4                 75.9            264.5                134.6   \n",
      "12               200.7            300.9                132.1   \n",
      "3                 84.5            257.9                116.0   \n",
      "25               247.3            456.3                142.2   \n",
      "14               217.6            297.5                151.2   \n",
      "\n",
      "    Livestock - Sheep  Net Value Added at Basic Prices  Operating Surplus  \\\n",
      "4               230.2                           2513.7             2278.5   \n",
      "12              202.2                           1786.8             2024.8   \n",
      "3               232.4                           2560.6             2247.9   \n",
      "25              245.2                           1666.3             2587.2   \n",
      "14              200.4                           1989.0             2177.4   \n",
      "\n",
      "    Other Subsidies Less Taxes on Production  \\\n",
      "4                                      110.0   \n",
      "12                                     616.1   \n",
      "3                                       26.3   \n",
      "25                                    1409.9   \n",
      "14                                     592.4   \n",
      "\n",
      "    Subsidies less Taxes on Products  Subsidies on Products  Taxes on Products  \n",
      "4                              612.3                  666.0               53.7  \n",
      "12                             876.7                  904.1               27.4  \n",
      "3                              398.4                  466.4               68.0  \n",
      "25                             -82.9                   43.2              126.2  \n",
      "14                             873.0                  912.1               39.1  \n",
      "\n",
      "[5 rows x 57 columns]\n"
     ]
    }
   ],
   "source": [
    "df = pd.read_csv(\"./../artifacts/TA_inputoutputvalue_1990_2021_CSO.csv\")\n",
    "print(\"data dimensions \\n\",df.shape)\n",
    "print()\n",
    "#print(\"data column info \\n\",df.info)\n",
    "print()\n",
    "print('Data sample\\n',df.sample(5))\n",
    "\n"
   ]
  },
  {
   "cell_type": "code",
   "execution_count": null,
   "id": "dc642845",
   "metadata": {},
   "outputs": [],
   "source": [
    "# create score dataframe to store model scores\n",
    "df_score = pd.DataFrame()\n",
    "print(df_score)"
   ]
  },
  {
   "cell_type": "markdown",
   "id": "43dce267",
   "metadata": {},
   "source": [
    "## Production of Milk"
   ]
  },
  {
   "cell_type": "code",
   "execution_count": null,
   "id": "a096f328",
   "metadata": {},
   "outputs": [],
   "source": [
    "## Extract milk production dataset\n",
    "# drop redundunt columns\n",
    "df = df.drop('Unnamed: 0',axis = 1)\n",
    "\n",
    "# extract milk dataset\n",
    "df_milk = df[['Year',\n",
    "#              'UNIT',\n",
    "              'All Livestock Products - Milk',\n",
    "              'Taxes on Products',\n",
    "              'Subsidies on Products',\n",
    "              'Compensation of Employees',\n",
    "              'Contract Work',\n",
    "              'Entrepreneurial Income',\n",
    "              'Factor Income',\n",
    "              #'Fixed Capital Consumption - Farm Buildings',\n",
    "              #'Fixed Capital Consumption - Machinery, Equipment, etc',\n",
    "              #'Interest less FISIM',\n",
    "              #'Operating Surplus',\n",
    "              #'Livestock - Cattle',\n",
    "              #'Livestock - Sheep',\n",
    "              #'Land Rental',\n",
    "              #'Intermediate Consumption - Contract Work',\n",
    "              #'Intermediate Consumption - Crop Protection Products',\n",
    "              #'Intermediate Consumption - Energy and Lubricants',\n",
    "              #'Intermediate Consumption - Feeding Stuffs',\n",
    "              #'Intermediate Consumption - Fertilisers',\n",
    "              #'Intermediate Consumption - Financial Intermediation Services Indirect',\n",
    "              #'Intermediate Consumption - Forage Plants',\n",
    "              #'Intermediate Consumption - Maintenance and Repairs',\n",
    "              #'Intermediate Consumption - Seeds',\n",
    "              #'Intermediate Consumption - Services',\n",
    "              #'Intermediate Consumption - Veterinary Expenses',\n",
    "              #'Intermediate Consumption - Other Goods (Detergents, Small Tools, etc)',\n",
    "              #'Intermediate Consumption - Other Goods and Services'\n",
    "              \n",
    "             ]]\n",
    "# Assign year as index\n",
    "df_milk.set_index('Year',drop=True,inplace=True)\n",
    "\n",
    "print(\"Milk production dataset dimenssions \\n\", df_milk.shape)\n",
    "print(\"Milk production dataset Sample \\n\", df_milk.head())\n"
   ]
  },
  {
   "cell_type": "code",
   "execution_count": null,
   "id": "3a418fbd",
   "metadata": {
    "scrolled": false
   },
   "outputs": [],
   "source": [
    "#eda_reports.print_dataframe_analysis_report(df_milk)\n"
   ]
  },
  {
   "cell_type": "markdown",
   "id": "b05b59fc",
   "metadata": {},
   "source": [
    "### Define 20% Training set 80% Test set"
   ]
  },
  {
   "cell_type": "code",
   "execution_count": null,
   "id": "5a3fb066",
   "metadata": {},
   "outputs": [],
   "source": [
    "# define target & feature variables\n",
    "\n",
    "X = df_milk.iloc[:,2:].values\n",
    "Y = df_milk.iloc[:,1].values.reshape(-1,1)\n",
    "print('features dimension ',np.shape(X))\n",
    "print('target dimension ',np.shape(Y))\n",
    "\n",
    "# impute mean value for NA's\n",
    "#from sklearn.impute import SimpleImputer\n",
    "imp_mean = SimpleImputer(missing_values=np.nan, strategy='mean')\n",
    "X = imp_mean.fit_transform(X)\n",
    "Y = imp_mean.fit_transform(Y)\n",
    "\n",
    "\n",
    "# split train test split 20\n",
    "X_train, X_test,Y_train,Y_test = train_test_split(X,Y,test_size=0.2,random_state=2021)\n",
    "print()\n",
    "print('x_train dimension ', X_train.shape)\n",
    "print('y_train dimension ', Y_train.shape)\n",
    "print()\n",
    "print('x_test dimension ', X_test.shape)\n",
    "print('y_test dimension ', Y_test.shape)"
   ]
  },
  {
   "cell_type": "markdown",
   "id": "89023ea2",
   "metadata": {},
   "source": [
    "### Scale & Transform"
   ]
  },
  {
   "cell_type": "code",
   "execution_count": null,
   "id": "1d8a1eda",
   "metadata": {},
   "outputs": [],
   "source": [
    "# Scale raining set and test set seperatly\n",
    "scaler_x = MinMaxScaler()\n",
    "scaler_y = MinMaxScaler()\n",
    "\n",
    "# calculate mean and std of training set \n",
    "scaler_x.fit(X_train)\n",
    "scaler_y.fit(Y_train)\n",
    "scaler_x.fit(X_test)\n",
    "scaler_y.fit(Y_test)\n",
    "\n",
    "# apply scaler to data set\n",
    "xtrain_scale = scaler_x.transform(X_train)\n",
    "ytrain_scale = scaler_y.transform(Y_train)\n",
    "\n",
    "xtest_scale = scaler_x.transform(X_test)\n",
    "ytest_scale = scaler_y.transform(Y_test)\n",
    "\n",
    "# fit and transform in one line\n",
    "# scaler_x.fit_transform(X_train)\n",
    "\n",
    "# remeber to inverse the scaling on model output\n",
    "# scaler_x.inverse_transform(xtest_scale)"
   ]
  },
  {
   "cell_type": "markdown",
   "id": "40f58f53",
   "metadata": {},
   "source": [
    "### Model 1 RandomForest Regressor"
   ]
  },
  {
   "cell_type": "markdown",
   "id": "17d7e83d",
   "metadata": {},
   "source": [
    "#### Train RandomForest"
   ]
  },
  {
   "cell_type": "code",
   "execution_count": null,
   "id": "fbe9bbff",
   "metadata": {},
   "outputs": [],
   "source": [
    "# define Random Forest Regressor\n",
    "rf_regressor_milk = RandomForestRegressor(random_state=2021)\n",
    "\n",
    "# define list of Parameters\n",
    "params_rf_milk = {'n_estimators':[100,500,800],\n",
    "                  'criterion':['squared_error', 'absolute_error', 'poisson'],\n",
    "                  'max_features':[\"auto\", \"sqrt\", \"log2\"],\n",
    "                  \"bootstrap\": [True, False]\n",
    "                   }\n",
    "\n",
    "# Hyper parameter tuning via Grid Search Cross Validation \n",
    "grid_rf_milk = GridSearchCV(estimator= rf_regressor_milk,\n",
    "                          param_grid= params_rf_milk,\n",
    "                          n_jobs=-1,\n",
    "                          cv=5\n",
    "                     )\n",
    "\n",
    "# Fit the grid to scaled data\n",
    "grid_rf_milk.fit(xtrain_scale,ytrain_scale.reshape(-1))\n",
    "\n",
    "# print best training model & R squared score\n",
    "print('Best training model ',grid_rf_milk.best_estimator_)\n",
    "print('Best training model score, coefficient of determination R squared', grid_rf_milk.best_score_)"
   ]
  },
  {
   "cell_type": "markdown",
   "id": "1383218c",
   "metadata": {},
   "source": [
    "#### Predict RandomForest"
   ]
  },
  {
   "cell_type": "code",
   "execution_count": null,
   "id": "f1936b9d",
   "metadata": {},
   "outputs": [],
   "source": [
    "# Predict Milk Production and unscale back to original values\n",
    "y_predict = scaler_y.inverse_transform(grid_rf_milk.predict(xtest_scale).reshape(-1, 1))\n",
    "\n",
    "print('predicted milk production values \\n',y_predict)\n",
    "print('actual milk production values \\n',Y_test)\n",
    "\n",
    "# Calculate Mean Absolute Error\n",
    "MAE_rf = mean_absolute_error(Y_test,y_predict)\n",
    "#print(MAE_rf)\n",
    "\n",
    "# add model score to Score Dataframe\n",
    "df_score = pd.DataFrame(data={'Model':'RandomForest',\n",
    "                           'Score MAE':MAE_rf},index=['Model 1'])\n",
    "\n",
    "print(df_score)"
   ]
  },
  {
   "cell_type": "markdown",
   "id": "b4aab677",
   "metadata": {},
   "source": [
    "### Model 2 XGBOOST Regressor"
   ]
  },
  {
   "cell_type": "markdown",
   "id": "362eb6f3",
   "metadata": {},
   "source": [
    "#### Train XGBOOST"
   ]
  },
  {
   "cell_type": "code",
   "execution_count": null,
   "id": "119a7167",
   "metadata": {},
   "outputs": [],
   "source": [
    "# define XGBRegressor\n",
    "xgb_regressor_milk = XGBRegressor(random_state=2021)\n",
    "\n",
    "# define parameters space to loop over\n",
    "params_xgb_milk = {'n_estimators':[20,40,80,160,340,500],\n",
    "             'max_depth':[3,6,9],\n",
    "             'gamma':[0.01,0.1],\n",
    "             'learning_rate':[0.001,0.01,0.1,1]\n",
    "             }\n",
    "\n",
    "# Hyper parameter tuning via Grid Search Cross Validation \n",
    "grid_xgb_milk = GridSearchCV(estimator=xgb_regressor_milk,\n",
    "                     param_grid=params_xgb_milk,\n",
    "                     #n_jobs=-1,\n",
    "                     scoring=['r2','neg_root_mean_squared_error'],\n",
    "                     refit= 'r2',\n",
    "                     n_jobs=-1,\n",
    "                     cv=5,\n",
    "                     verbose=4\n",
    "                     )\n",
    "\n",
    "# fit grid to training scaled set\n",
    "grid_xgb_milk.fit(xtrain_scale,ytrain_scale);\n",
    "\n",
    "\n",
    "# print best training model & R squared score\n",
    "print('Best training model ',grid_xgb_milk.best_estimator_)\n",
    "print('Best model Parameters',GS_xgb_milk.best_params_)\n",
    "print('Best training model score, coefficient of determination R squared', grid_xgb_milk.best_score_)"
   ]
  },
  {
   "cell_type": "markdown",
   "id": "114dc78e",
   "metadata": {},
   "source": [
    "#### Predict XGBOOST"
   ]
  },
  {
   "cell_type": "code",
   "execution_count": 73,
   "id": "fd170cd6",
   "metadata": {},
   "outputs": [
    {
     "name": "stdout",
     "output_type": "stream",
     "text": [
      "predicted milk production values \n",
      " [[45.5861  ]\n",
      " [45.99256 ]\n",
      " [50.727455]\n",
      " [59.506348]\n",
      " [50.727455]\n",
      " [35.886517]\n",
      " [48.685654]]\n",
      "actual milk production values \n",
      " [[36.8]\n",
      " [39.3]\n",
      " [25. ]\n",
      " [53.7]\n",
      " [27.9]\n",
      " [39.4]\n",
      " [49.5]]\n",
      "                Model  Score MAE\n",
      "Model 1  RandomForest   9.730789\n",
      "Model 2       XGBOOST  10.595393\n"
     ]
    }
   ],
   "source": [
    "# Predict Milk Production and unscale back to original values\n",
    "y_predict = scaler_y.inverse_transform(grid_xgb_milk.predict(xtest_scale).reshape(-1, 1))\n",
    "\n",
    "print('predicted milk production values \\n',y_predict)\n",
    "print('actual milk production values \\n',Y_test)\n",
    "\n",
    "# Calculate Mean Absolute Error\n",
    "MAE_xgb = mean_absolute_error(Y_test,y_predict)\n",
    "#print(MAE_xgb)\n",
    "\n",
    "# add model score to Score Dataframe\n",
    "df_score = pd.DataFrame(data = {'Model':['RandomForest','XGBOOST'],\n",
    "                                'Score MAE': [MAE_rf,MAE_xgb]},\n",
    "                        index=['Model 1','Model 2'])\n",
    "\n",
    "print(df_score)"
   ]
  },
  {
   "cell_type": "code",
   "execution_count": null,
   "id": "6537541a",
   "metadata": {},
   "outputs": [],
   "source": [
    "# write the Grid Search results to csv to choose best model with least resource consumption\n",
    "\n",
    "#GS_xgb_df_milk = pd.DataFrame(GS_xgb_milk.cv_results_)\n",
    "#GS_xgb_df_milk = GS_xgb_df_milk.sort_values('rank_test_r2')\n",
    "#GS_xgb_df_milk.to_csv('./../artifacts/grid-search-xgb-milk-results.csv')"
   ]
  },
  {
   "cell_type": "markdown",
   "id": "a1eb8eb9",
   "metadata": {},
   "source": [
    "## ANN Artificial Neural Network"
   ]
  },
  {
   "cell_type": "markdown",
   "id": "deb1af40",
   "metadata": {},
   "source": [
    "#### Training & Keras Parameter Tuning"
   ]
  },
  {
   "cell_type": "code",
   "execution_count": 86,
   "id": "6199a6b5",
   "metadata": {},
   "outputs": [
    {
     "name": "stdout",
     "output_type": "stream",
     "text": [
      "INFO:tensorflow:Reloading Oracle from existing project ANN-tuner/Milk production/oracle.json\n",
      "INFO:tensorflow:Reloading Tuner from ANN-tuner/Milk production/tuner0.json\n",
      "Search space summary\n",
      "Default search space size: 3\n",
      "num_layers (Int)\n",
      "{'default': None, 'conditions': [], 'min_value': 2, 'max_value': 23, 'step': 1, 'sampling': None}\n",
      "units_0 (Int)\n",
      "{'default': None, 'conditions': [], 'min_value': 23, 'max_value': 600, 'step': 32, 'sampling': None}\n",
      "learning_rate (Choice)\n",
      "{'default': 0.01, 'conditions': [], 'values': [0.01, 0.001, 0.0001], 'ordered': True}\n",
      "INFO:tensorflow:Oracle triggered exit\n",
      "\n",
      "\n",
      "Results summary\n",
      "Results in ANN-tuner/Milk production\n",
      "Showing 10 best trials\n",
      "Objective(name='val_mean_absolute_error', direction='min')\n",
      "Trial summary\n",
      "Hyperparameters:\n",
      "num_layers: 11\n",
      "units_0: 439\n",
      "learning_rate: 0.01\n",
      "Score: 0.22049936652183533\n",
      "Trial summary\n",
      "Hyperparameters:\n",
      "num_layers: 20\n",
      "units_0: 407\n",
      "learning_rate: 0.001\n",
      "Score: 0.23376589516798654\n",
      "Trial summary\n",
      "Hyperparameters:\n",
      "num_layers: 6\n",
      "units_0: 343\n",
      "learning_rate: 0.001\n",
      "Score: 0.2427594115336736\n",
      "Trial summary\n",
      "Hyperparameters:\n",
      "num_layers: 7\n",
      "units_0: 535\n",
      "learning_rate: 0.001\n",
      "Score: 0.2473729501167933\n",
      "Trial summary\n",
      "Hyperparameters:\n",
      "num_layers: 15\n",
      "units_0: 151\n",
      "learning_rate: 0.0001\n",
      "Score: 0.47315727670987445\n",
      "Epoch 1/50\n",
      "1/1 [==============================] - 1s 535ms/step - loss: 0.3493 - mean_absolute_error: 0.3493 - val_loss: 0.2070 - val_mean_absolute_error: 0.2070\n",
      "Epoch 2/50\n",
      "1/1 [==============================] - 0s 45ms/step - loss: 0.3380 - mean_absolute_error: 0.3380 - val_loss: 0.2532 - val_mean_absolute_error: 0.2532\n",
      "Epoch 3/50\n",
      "1/1 [==============================] - 0s 41ms/step - loss: 0.3142 - mean_absolute_error: 0.3142 - val_loss: 0.3277 - val_mean_absolute_error: 0.3277\n",
      "Epoch 4/50\n",
      "1/1 [==============================] - 0s 49ms/step - loss: 0.3005 - mean_absolute_error: 0.3005 - val_loss: 0.3894 - val_mean_absolute_error: 0.3894\n",
      "Epoch 5/50\n",
      "1/1 [==============================] - 0s 57ms/step - loss: 0.3061 - mean_absolute_error: 0.3061 - val_loss: 0.4161 - val_mean_absolute_error: 0.4161\n",
      "Epoch 6/50\n",
      "1/1 [==============================] - 0s 52ms/step - loss: 0.3111 - mean_absolute_error: 0.3111 - val_loss: 0.3930 - val_mean_absolute_error: 0.3930\n",
      "Epoch 7/50\n",
      "1/1 [==============================] - 0s 74ms/step - loss: 0.2999 - mean_absolute_error: 0.2999 - val_loss: 0.3418 - val_mean_absolute_error: 0.3418\n",
      "Epoch 8/50\n",
      "1/1 [==============================] - 0s 43ms/step - loss: 0.2818 - mean_absolute_error: 0.2818 - val_loss: 0.2704 - val_mean_absolute_error: 0.2704\n",
      "Epoch 9/50\n",
      "1/1 [==============================] - 0s 52ms/step - loss: 0.2666 - mean_absolute_error: 0.2666 - val_loss: 0.2101 - val_mean_absolute_error: 0.2101\n",
      "Epoch 10/50\n",
      "1/1 [==============================] - 0s 41ms/step - loss: 0.2703 - mean_absolute_error: 0.2703 - val_loss: 0.1980 - val_mean_absolute_error: 0.1980\n",
      "Epoch 11/50\n",
      "1/1 [==============================] - 0s 51ms/step - loss: 0.2664 - mean_absolute_error: 0.2664 - val_loss: 0.2322 - val_mean_absolute_error: 0.2322\n",
      "Epoch 12/50\n",
      "1/1 [==============================] - 0s 34ms/step - loss: 0.2564 - mean_absolute_error: 0.2564 - val_loss: 0.2889 - val_mean_absolute_error: 0.2889\n",
      "Epoch 13/50\n",
      "1/1 [==============================] - 0s 48ms/step - loss: 0.2464 - mean_absolute_error: 0.2464 - val_loss: 0.3433 - val_mean_absolute_error: 0.3433\n",
      "Epoch 14/50\n",
      "1/1 [==============================] - 0s 44ms/step - loss: 0.2497 - mean_absolute_error: 0.2497 - val_loss: 0.3611 - val_mean_absolute_error: 0.3611\n",
      "Epoch 15/50\n",
      "1/1 [==============================] - 0s 45ms/step - loss: 0.2415 - mean_absolute_error: 0.2415 - val_loss: 0.3469 - val_mean_absolute_error: 0.3469\n",
      "Epoch 16/50\n",
      "1/1 [==============================] - 0s 48ms/step - loss: 0.2333 - mean_absolute_error: 0.2333 - val_loss: 0.3225 - val_mean_absolute_error: 0.3225\n",
      "Epoch 17/50\n",
      "1/1 [==============================] - 0s 44ms/step - loss: 0.2373 - mean_absolute_error: 0.2373 - val_loss: 0.3092 - val_mean_absolute_error: 0.3092\n",
      "Epoch 18/50\n",
      "1/1 [==============================] - 0s 45ms/step - loss: 0.2395 - mean_absolute_error: 0.2395 - val_loss: 0.3117 - val_mean_absolute_error: 0.3117\n",
      "Epoch 19/50\n",
      "1/1 [==============================] - 0s 64ms/step - loss: 0.2343 - mean_absolute_error: 0.2343 - val_loss: 0.3285 - val_mean_absolute_error: 0.3285\n",
      "Epoch 20/50\n",
      "1/1 [==============================] - 0s 60ms/step - loss: 0.2265 - mean_absolute_error: 0.2265 - val_loss: 0.3481 - val_mean_absolute_error: 0.3481\n",
      "Epoch 21/50\n",
      "1/1 [==============================] - 0s 43ms/step - loss: 0.2330 - mean_absolute_error: 0.2330 - val_loss: 0.3578 - val_mean_absolute_error: 0.3578\n",
      "Epoch 22/50\n",
      "1/1 [==============================] - 0s 39ms/step - loss: 0.2333 - mean_absolute_error: 0.2333 - val_loss: 0.3379 - val_mean_absolute_error: 0.3379\n",
      "Epoch 23/50\n",
      "1/1 [==============================] - 0s 37ms/step - loss: 0.2253 - mean_absolute_error: 0.2253 - val_loss: 0.3203 - val_mean_absolute_error: 0.3203\n",
      "Epoch 24/50\n",
      "1/1 [==============================] - 0s 41ms/step - loss: 0.2252 - mean_absolute_error: 0.2252 - val_loss: 0.3189 - val_mean_absolute_error: 0.3189\n",
      "Epoch 25/50\n",
      "1/1 [==============================] - 0s 63ms/step - loss: 0.2253 - mean_absolute_error: 0.2253 - val_loss: 0.3416 - val_mean_absolute_error: 0.3416\n",
      "Epoch 26/50\n",
      "1/1 [==============================] - 0s 34ms/step - loss: 0.2229 - mean_absolute_error: 0.2229 - val_loss: 0.3438 - val_mean_absolute_error: 0.3438\n",
      "Epoch 27/50\n",
      "1/1 [==============================] - 0s 41ms/step - loss: 0.2184 - mean_absolute_error: 0.2184 - val_loss: 0.3288 - val_mean_absolute_error: 0.3288\n",
      "Epoch 28/50\n",
      "1/1 [==============================] - 0s 62ms/step - loss: 0.2187 - mean_absolute_error: 0.2187 - val_loss: 0.3258 - val_mean_absolute_error: 0.3258\n",
      "Epoch 29/50\n",
      "1/1 [==============================] - 0s 42ms/step - loss: 0.2219 - mean_absolute_error: 0.2219 - val_loss: 0.3339 - val_mean_absolute_error: 0.3339\n",
      "Epoch 30/50\n",
      "1/1 [==============================] - 0s 44ms/step - loss: 0.2193 - mean_absolute_error: 0.2193 - val_loss: 0.3278 - val_mean_absolute_error: 0.3278\n",
      "Epoch 31/50\n",
      "1/1 [==============================] - 0s 34ms/step - loss: 0.2169 - mean_absolute_error: 0.2169 - val_loss: 0.3161 - val_mean_absolute_error: 0.3161\n",
      "Epoch 32/50\n",
      "1/1 [==============================] - 0s 43ms/step - loss: 0.2195 - mean_absolute_error: 0.2195 - val_loss: 0.3017 - val_mean_absolute_error: 0.3017\n",
      "Epoch 33/50\n",
      "1/1 [==============================] - 0s 63ms/step - loss: 0.2198 - mean_absolute_error: 0.2198 - val_loss: 0.2959 - val_mean_absolute_error: 0.2959\n",
      "Epoch 34/50\n",
      "1/1 [==============================] - 0s 41ms/step - loss: 0.2189 - mean_absolute_error: 0.2189 - val_loss: 0.3242 - val_mean_absolute_error: 0.3242\n",
      "Epoch 35/50\n",
      "1/1 [==============================] - 0s 45ms/step - loss: 0.2156 - mean_absolute_error: 0.2156 - val_loss: 0.3311 - val_mean_absolute_error: 0.3311\n",
      "Epoch 36/50\n",
      "1/1 [==============================] - 0s 42ms/step - loss: 0.2168 - mean_absolute_error: 0.2168 - val_loss: 0.3105 - val_mean_absolute_error: 0.3105\n",
      "Epoch 37/50\n",
      "1/1 [==============================] - 0s 40ms/step - loss: 0.2139 - mean_absolute_error: 0.2139 - val_loss: 0.2888 - val_mean_absolute_error: 0.2888\n",
      "Epoch 38/50\n",
      "1/1 [==============================] - 0s 50ms/step - loss: 0.2140 - mean_absolute_error: 0.2140 - val_loss: 0.3037 - val_mean_absolute_error: 0.3037\n",
      "Epoch 39/50\n",
      "1/1 [==============================] - 0s 45ms/step - loss: 0.2127 - mean_absolute_error: 0.2127 - val_loss: 0.3074 - val_mean_absolute_error: 0.3074\n",
      "Epoch 40/50\n",
      "1/1 [==============================] - 0s 37ms/step - loss: 0.2117 - mean_absolute_error: 0.2117 - val_loss: 0.3000 - val_mean_absolute_error: 0.3000\n",
      "Epoch 41/50\n",
      "1/1 [==============================] - 0s 41ms/step - loss: 0.2115 - mean_absolute_error: 0.2115 - val_loss: 0.3048 - val_mean_absolute_error: 0.3048\n",
      "Epoch 42/50\n",
      "1/1 [==============================] - 0s 38ms/step - loss: 0.2096 - mean_absolute_error: 0.2096 - val_loss: 0.3213 - val_mean_absolute_error: 0.3213\n",
      "Epoch 43/50\n",
      "1/1 [==============================] - 0s 38ms/step - loss: 0.2100 - mean_absolute_error: 0.2100 - val_loss: 0.3224 - val_mean_absolute_error: 0.3224\n"
     ]
    },
    {
     "name": "stdout",
     "output_type": "stream",
     "text": [
      "Epoch 44/50\n",
      "1/1 [==============================] - 0s 42ms/step - loss: 0.2097 - mean_absolute_error: 0.2097 - val_loss: 0.3049 - val_mean_absolute_error: 0.3049\n",
      "Epoch 45/50\n",
      "1/1 [==============================] - 0s 38ms/step - loss: 0.2086 - mean_absolute_error: 0.2086 - val_loss: 0.3289 - val_mean_absolute_error: 0.3289\n",
      "Epoch 46/50\n",
      "1/1 [==============================] - 0s 40ms/step - loss: 0.2117 - mean_absolute_error: 0.2117 - val_loss: 0.3007 - val_mean_absolute_error: 0.3007\n",
      "Epoch 47/50\n",
      "1/1 [==============================] - 0s 32ms/step - loss: 0.2069 - mean_absolute_error: 0.2069 - val_loss: 0.2745 - val_mean_absolute_error: 0.2745\n",
      "Epoch 48/50\n",
      "1/1 [==============================] - 0s 37ms/step - loss: 0.2112 - mean_absolute_error: 0.2112 - val_loss: 0.2810 - val_mean_absolute_error: 0.2810\n",
      "Epoch 49/50\n",
      "1/1 [==============================] - 0s 37ms/step - loss: 0.2130 - mean_absolute_error: 0.2130 - val_loss: 0.2929 - val_mean_absolute_error: 0.2929\n",
      "Epoch 50/50\n",
      "1/1 [==============================] - 0s 41ms/step - loss: 0.2090 - mean_absolute_error: 0.2090 - val_loss: 0.2942 - val_mean_absolute_error: 0.2942\n"
     ]
    },
    {
     "data": {
      "text/plain": [
       "<keras.callbacks.History at 0x17492a830>"
      ]
     },
     "execution_count": 86,
     "metadata": {},
     "output_type": "execute_result"
    }
   ],
   "source": [
    "# Define ANN model with Hyper paramter variable \n",
    "def build_model(hp):\n",
    "    model= keras.Sequential()\n",
    "    for i in range(hp.Int('num_layers',2,23)):\n",
    "        model.add(layers.Dense(units=hp.Int('units_' + str(i),\n",
    "                                           min_value=23,\n",
    "                                           max_value=600,\n",
    "                                           step=32),\n",
    "                              activation='relu'))\n",
    "        model.add(layers.Dense(1,activation='linear'))\n",
    "        model.compile(\n",
    "            optimizer=keras.optimizers.Adam(\n",
    "                hp.Choice('learning_rate',[1e-2,1e-3,1e-4])),\n",
    "        loss='mean_absolute_error',\n",
    "        metrics=['mean_absolute_error'])\n",
    "        return model\n",
    "    \n",
    "# create a directory to store each iteration of modelling\n",
    "tuner = RandomSearch(\n",
    "        build_model,\n",
    "        objective='val_mean_absolute_error',\n",
    "        max_trials=5,\n",
    "        executions_per_trial=3,\n",
    "        directory='ANN-tuner',\n",
    "        project_name='Milk production')\n",
    "\n",
    "# Defined parameter space to search in\n",
    "tuner.search_space_summary()\n",
    "\n",
    "# train trial models and compare with validation set\n",
    "tuner.search(xtrain_scale,ytrain_scale,epochs=50,validation_data=(xtest_scale,ytest_scale))\n",
    "\n",
    "# print best 10 models according to val_mean_absolute_error\n",
    "print('\\n')\n",
    "tuner.results_summary()\n",
    "\n",
    "# get best model from training trials\n",
    "bestANNModel = tuner.get_best_models(num_models=1)[0]\n",
    "\n",
    "# fit best model to training scaled data and scaled test data\n",
    "bestANNModel.fit(xtrain_scale,ytrain_scale,epochs=50,validation_data=(xtest_scale,ytest_scale))"
   ]
  },
  {
   "cell_type": "code",
   "execution_count": 87,
   "id": "700e018e",
   "metadata": {},
   "outputs": [
    {
     "name": "stdout",
     "output_type": "stream",
     "text": [
      "predicted milk production values \n",
      " [[53.869522]\n",
      " [44.52917 ]\n",
      " [34.843693]\n",
      " [61.764717]\n",
      " [35.98055 ]\n",
      " [42.33431 ]\n",
      " [57.386368]]\n",
      "actual milk production values \n",
      " [[36.8]\n",
      " [39.3]\n",
      " [25. ]\n",
      " [53.7]\n",
      " [27.9]\n",
      " [39.4]\n",
      " [49.5]]\n",
      "                Model  Score MAE\n",
      "Model 1  RandomForest   9.730789\n",
      "Model 2       XGBOOST  10.595393\n",
      "Model 3           ANN   8.444047\n"
     ]
    }
   ],
   "source": [
    "# Predict Milk Production and unscale back to original values\n",
    "y_predict = scaler_y.inverse_transform(bestANNModel.predict(xtest_scale).reshape(-1, 1))\n",
    "\n",
    "print('predicted milk production values \\n',y_predict)\n",
    "print('actual milk production values \\n',Y_test)\n",
    "\n",
    "# Calculate Mean Absolute Error\n",
    "MAE_ANN = mean_absolute_error(Y_test,y_predict)\n",
    "#print(MAE_xgb)\n",
    "\n",
    "# add model score to Score Dataframe\n",
    "df_score = pd.DataFrame(data = {'Model':['RandomForest','XGBOOST','ANN'],\n",
    "                                'Score MAE': [MAE_rf,MAE_xgb,MAE_ANN]},\n",
    "                        index=['Model 1','Model 2','Model 3'])\n",
    "\n",
    "print(df_score)"
   ]
  },
  {
   "cell_type": "markdown",
   "id": "9c369b45",
   "metadata": {},
   "source": [
    "# Pickle file\n",
    "    Save trained model into binary pickle file to use the model later with new input data from web app"
   ]
  },
  {
   "cell_type": "code",
   "execution_count": 111,
   "id": "4584c368",
   "metadata": {},
   "outputs": [],
   "source": [
    "# Dump/write Scaler into binary pickle\n",
    "pickle.dump(scaler_x,open('./../artifacts/pkl_scaler_x','wb'))\n",
    "\n",
    "# Read pickle file into variable to use scaler\n",
    "scaler_x_pkl_ann = pickle.load(open('./../artifacts/pkl_scaler_x','rb'))\n",
    "\n",
    "# Dump/write Scaler into binary pickle\n",
    "pickle.dump(scaler_y,open('./../artifacts/pkl_scaler_y','wb'))\n",
    "\n",
    "# Read pickle file into variable to use scaler\n",
    "scaler_y_pkl_ann = pickle.load(open('./../artifacts/pkl_scaler_y','rb'))"
   ]
  },
  {
   "cell_type": "code",
   "execution_count": 114,
   "id": "1905306b",
   "metadata": {},
   "outputs": [
    {
     "data": {
      "text/plain": [
       "array([[ 0.39461933,  0.095898  , -0.19083095,  0.22174011,  0.13381157]])"
      ]
     },
     "execution_count": 114,
     "metadata": {},
     "output_type": "execute_result"
    }
   ],
   "source": [
    "scaler_x_pkl_ann.transform(data_input_from_webapp.reshape(1, -1))"
   ]
  },
  {
   "cell_type": "code",
   "execution_count": 117,
   "id": "49056ad8",
   "metadata": {},
   "outputs": [
    {
     "name": "stdout",
     "output_type": "stream",
     "text": [
      "INFO:tensorflow:Assets written to: ram://c7321f63-b9aa-48a1-8f89-ad1148e1145d/assets\n",
      "\n",
      " Expected Milk Production is  79.18335\n"
     ]
    }
   ],
   "source": [
    "\n",
    "# Dump/write model into binary pickle file in the current notebook directory\n",
    "pickle.dump(bestANNModel,open('./../artifacts/pkl_ann_milk','wb'))\n",
    "\n",
    "# Read pickle file into variable to use model\n",
    "model_pkl_ann = pickle.load(open('./../artifacts/pkl_ann_milk','rb'))\n",
    "\n",
    "\n",
    "## Example using pickle file with saved ANN model\n",
    "\n",
    "# take input from source as array\n",
    "data_input_from_webapp = np.array([ 357.3,  362.5,  172. , 1440.2, 2136.5])\n",
    "\n",
    "# scale input with same scaler as used in model\n",
    "scale_data_from_webapp = scaler_x.transform(data_input_from_webapp.reshape(1, -1))\n",
    "\n",
    "# predict scaled value\n",
    "scaled_prediction = bestANNModel.predict(scale_data_from_webapp)\n",
    "\n",
    "# descale prediction back to normal value\n",
    "prediction = scaler_y.inverse_transform(scaled_prediction)\n",
    "print('\\n Expected Milk Production is ',prediction[0][0] )"
   ]
  },
  {
   "cell_type": "markdown",
   "id": "f790fb09",
   "metadata": {},
   "source": [
    "# Next step Model Deployment"
   ]
  }
 ],
 "metadata": {
  "kernelspec": {
   "display_name": "Python 3 (ipykernel)",
   "language": "python",
   "name": "python3"
  },
  "language_info": {
   "codemirror_mode": {
    "name": "ipython",
    "version": 3
   },
   "file_extension": ".py",
   "mimetype": "text/x-python",
   "name": "python",
   "nbconvert_exporter": "python",
   "pygments_lexer": "ipython3",
   "version": "3.10.1"
  },
  "toc": {
   "base_numbering": 1,
   "nav_menu": {},
   "number_sections": false,
   "sideBar": true,
   "skip_h1_title": false,
   "title_cell": "Table of Contents",
   "title_sidebar": "Contents",
   "toc_cell": false,
   "toc_position": {
    "height": "calc(100% - 180px)",
    "left": "10px",
    "top": "150px",
    "width": "384px"
   },
   "toc_section_display": true,
   "toc_window_display": true
  }
 },
 "nbformat": 4,
 "nbformat_minor": 5
}
