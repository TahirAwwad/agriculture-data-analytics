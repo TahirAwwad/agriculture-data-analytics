{
 "cells": [
  {
   "cell_type": "markdown",
   "id": "06dfb6aa",
   "metadata": {},
   "source": [
    "## Read full dataset of Agriculture Production since 1991 to 2020"
   ]
  },
  {
   "cell_type": "markdown",
   "id": "12a36702",
   "metadata": {},
   "source": [
    "<!--\n",
    "import data_analytics.github as github\n",
    "print(github.create_jupyter_notebook_header(\"markcrowe-com\", \"agriculture-data-analytics\", \"notebooks/notebook-3-03-ml-milk-production.ipynb\", \"master\"))\n",
    "-->\n",
    "<table style=\"margin: auto;\"><tr><td><a href=\"https://mybinder.org/v2/gh/markcrowe-com/agriculture-data-analytics/master?filepath=notebooks/notebook-3-03-ml-milk-production.ipynb\" target=\"_parent\"><img src=\"https://mybinder.org/badge_logo.svg\" alt=\"Open In Binder\"/></a></td><td>online editors</td><td><a href=\"https://colab.research.google.com/github/markcrowe-com/agriculture-data-analytics/blob/master/notebooks/notebook-3-03-ml-milk-production.ipynb\" target=\"_parent\"><img src=\"https://colab.research.google.com/assets/colab-badge.svg\" alt=\"Open In Colab\"/></a></td></tr></table>"
   ]
  },
  {
   "cell_type": "markdown",
   "id": "55902df1",
   "metadata": {},
   "source": [
    "### Setup"
   ]
  },
  {
   "cell_type": "markdown",
   "id": "c1d65b56",
   "metadata": {},
   "source": [
    "Import required third party Python libraries, import supporting functions and sets up data source file paths."
   ]
  },
  {
   "cell_type": "code",
   "execution_count": 1,
   "id": "760ece13",
   "metadata": {},
   "outputs": [],
   "source": [
    "# Local\n",
    "#!pip install -r script/requirements.txt --quiet --user\n",
    "# Remote option\n",
    "#!pip install -r https://github.com/markcrowe-com/agriculture-data-analytics/blob/master/notebooks/script/requirements.txt --quiet --user"
   ]
  },
  {
   "cell_type": "code",
   "execution_count": 1,
   "id": "2782cd5a",
   "metadata": {},
   "outputs": [],
   "source": [
    "import pandas as pd\n",
    "import numpy as np\n",
    "import data_analytics.exploratory_data_analysis as eda\n",
    "import data_analytics.exploratory_data_analysis_reports as eda_reports"
   ]
  },
  {
   "cell_type": "markdown",
   "id": "39543089",
   "metadata": {},
   "source": [
    "### Load dataframe"
   ]
  },
  {
   "cell_type": "code",
   "execution_count": 2,
   "id": "99092f99",
   "metadata": {},
   "outputs": [
    {
     "name": "stdout",
     "output_type": "stream",
     "text": [
      "data dimensions \n",
      " (32, 57)\n",
      "\n",
      "data column info \n",
      " <bound method DataFrame.info of     Unnamed: 0  Year          UNIT  Agricultural Output at Basic Prices  \\\n",
      "0            0  1990  Euro Million                               5200.0   \n",
      "1            1  1991  Euro Million                               4994.4   \n",
      "2            2  1992  Euro Million                               5374.0   \n",
      "3            3  1993  Euro Million                               5625.9   \n",
      "4            4  1994  Euro Million                               5781.5   \n",
      "5            5  1995  Euro Million                               6035.5   \n",
      "6            6  1996  Euro Million                               6134.7   \n",
      "7            7  1997  Euro Million                               5753.1   \n",
      "8            8  1998  Euro Million                               5831.7   \n",
      "9            9  1999  Euro Million                               5651.4   \n",
      "10          10  2000  Euro Million                               5985.5   \n",
      "11          11  2001  Euro Million                               6066.8   \n",
      "12          12  2002  Euro Million                               5836.1   \n",
      "13          13  2003  Euro Million                               5979.1   \n",
      "14          14  2004  Euro Million                               6156.9   \n",
      "15          15  2005  Euro Million                               5710.7   \n",
      "16          16  2006  Euro Million                               5466.7   \n",
      "17          17  2007  Euro Million                               5975.4   \n",
      "18          18  2008  Euro Million                               6143.0   \n",
      "19          19  2009  Euro Million                               5014.0   \n",
      "20          20  2010  Euro Million                               5822.1   \n",
      "21          21  2011  Euro Million                               6576.2   \n",
      "22          22  2012  Euro Million                               6837.5   \n",
      "23          23  2013  Euro Million                               7671.6   \n",
      "24          24  2014  Euro Million                               7293.9   \n",
      "25          25  2015  Euro Million                               7404.2   \n",
      "26          26  2016  Euro Million                               7444.2   \n",
      "27          27  2017  Euro Million                               8476.4   \n",
      "28          28  2018  Euro Million                               8663.7   \n",
      "29          29  2019  Euro Million                               8516.4   \n",
      "30          30  2020  Euro Million                               8908.3   \n",
      "31          31  2021  Euro Million                               9972.9   \n",
      "\n",
      "    All Cereals  All Crops  All Livestock  All Livestock Products  \\\n",
      "0         216.7     1123.5         2201.9                  1360.0   \n",
      "1         218.6     1127.3         2114.0                  1301.9   \n",
      "2         235.4     1154.4         2262.5                  1410.7   \n",
      "3         165.7     1101.7         2449.6                  1476.7   \n",
      "4         127.3     1157.0         2319.3                  1487.6   \n",
      "5         159.4     1217.2         2349.1                  1580.8   \n",
      "6         200.9     1268.7         2318.2                  1573.9   \n",
      "7         160.0     1102.6         2205.5                  1450.9   \n",
      "8         143.1     1127.9         2152.5                  1465.9   \n",
      "9         164.1     1184.3         2067.9                  1438.1   \n",
      "10        185.1     1228.6         2170.6                  1484.3   \n",
      "11        169.8     1322.5         2175.1                  1604.2   \n",
      "12        141.9     1245.3         2014.8                  1451.0   \n",
      "13        171.7     1302.7         2065.4                  1470.6   \n",
      "14        181.4     1350.6         2212.8                  1459.3   \n",
      "15        125.7     1378.1         2273.8                  1389.5   \n",
      "16        159.7     1461.3         2386.8                  1380.2   \n",
      "17        241.8     1632.7         2378.7                  1716.1   \n",
      "18        197.0     1657.1         2541.7                  1681.5   \n",
      "19        107.0     1377.9         2222.8                  1153.9   \n",
      "20        192.9     1670.0         2259.6                  1583.9   \n",
      "21        290.1     1715.9         2644.8                  1891.1   \n",
      "22        334.9     1784.5         3065.0                  1692.3   \n",
      "23        289.6     2066.4         3147.6                  2132.3   \n",
      "24        280.5     1747.5         3070.1                  2151.3   \n",
      "25        262.7     1737.3         3452.5                  1949.4   \n",
      "26        230.8     1767.4         3440.2                  1857.8   \n",
      "27        237.2     1824.6         3592.4                  2668.7   \n",
      "28        288.4     2126.0         3431.4                  2639.2   \n",
      "29        327.2     1893.6         3372.4                  2689.7   \n",
      "30        289.5     1942.9         3591.8                  2832.0   \n",
      "31        421.9     2120.5         3892.0                  3460.0   \n",
      "\n",
      "    All Livestock Products - Milk  \\\n",
      "0                          1316.3   \n",
      "1                          1258.9   \n",
      "2                          1373.1   \n",
      "3                          1439.0   \n",
      "4                          1446.2   \n",
      "5                          1538.5   \n",
      "6                          1536.0   \n",
      "7                          1414.5   \n",
      "8                          1431.2   \n",
      "9                          1408.8   \n",
      "10                         1447.1   \n",
      "11                         1566.1   \n",
      "12                         1413.0   \n",
      "13                         1431.3   \n",
      "14                         1417.8   \n",
      "15                         1342.1   \n",
      "16                         1332.5   \n",
      "17                         1667.5   \n",
      "18                         1628.1   \n",
      "19                         1106.5   \n",
      "20                         1541.9   \n",
      "21                         1834.8   \n",
      "22                         1629.8   \n",
      "23                         2073.4   \n",
      "24                         2093.1   \n",
      "25                         1881.1   \n",
      "26                         1790.8   \n",
      "27                         2594.1   \n",
      "28                         2556.7   \n",
      "29                         2608.6   \n",
      "30                         2752.7   \n",
      "31                         3376.6   \n",
      "\n",
      "    All Livestock Products Other Products (excluding Milk)  ...  \\\n",
      "0                                                43.7       ...   \n",
      "1                                                43.0       ...   \n",
      "2                                                37.6       ...   \n",
      "3                                                37.7       ...   \n",
      "4                                                41.4       ...   \n",
      "5                                                42.3       ...   \n",
      "6                                                37.9       ...   \n",
      "7                                                36.3       ...   \n",
      "8                                                34.7       ...   \n",
      "9                                                29.3       ...   \n",
      "10                                               37.2       ...   \n",
      "11                                               38.1       ...   \n",
      "12                                               37.9       ...   \n",
      "13                                               39.3       ...   \n",
      "14                                               41.6       ...   \n",
      "15                                               47.3       ...   \n",
      "16                                               47.7       ...   \n",
      "17                                               48.6       ...   \n",
      "18                                               53.4       ...   \n",
      "19                                               47.4       ...   \n",
      "20                                               42.0       ...   \n",
      "21                                               56.3       ...   \n",
      "22                                               62.6       ...   \n",
      "23                                               58.9       ...   \n",
      "24                                               58.2       ...   \n",
      "25                                               68.3       ...   \n",
      "26                                               67.0       ...   \n",
      "27                                               74.6       ...   \n",
      "28                                               82.6       ...   \n",
      "29                                               81.1       ...   \n",
      "30                                               79.2       ...   \n",
      "31                                               83.4       ...   \n",
      "\n",
      "    Livestock - Horses  Livestock - Pig  Livestock - Poultry  \\\n",
      "0                 83.2            237.2                117.1   \n",
      "1                 70.2            242.1                125.5   \n",
      "2                 61.4            280.4                124.5   \n",
      "3                 84.5            257.9                116.0   \n",
      "4                 75.9            264.5                134.6   \n",
      "5                 70.1            295.5                133.8   \n",
      "6                 96.9            356.5                140.4   \n",
      "7                106.9            337.0                149.1   \n",
      "8                128.7            282.6                142.2   \n",
      "9                150.0            251.4                137.8   \n",
      "10               164.4            296.7                124.0   \n",
      "11               146.5            346.1                137.7   \n",
      "12               200.7            300.9                132.1   \n",
      "13               204.3            285.1                138.7   \n",
      "14               217.6            297.5                151.2   \n",
      "15               234.0            292.9                146.5   \n",
      "16               263.5            321.5                114.3   \n",
      "17               269.3            288.6                133.0   \n",
      "18               228.5            330.1                122.7   \n",
      "19               172.7            300.0                115.1   \n",
      "20               145.9            333.7                112.2   \n",
      "21               135.6            394.2                130.1   \n",
      "22               166.7            441.5                132.9   \n",
      "23               186.5            475.7                129.9   \n",
      "24               221.7            471.3                133.3   \n",
      "25               247.3            456.3                142.2   \n",
      "26               270.5            465.6                159.5   \n",
      "27               287.4            516.8                163.1   \n",
      "28               306.4            459.1                159.0   \n",
      "29               255.5            543.0                169.2   \n",
      "30               216.1            601.9                180.0   \n",
      "31               257.2            565.1                187.9   \n",
      "\n",
      "    Livestock - Sheep  Net Value Added at Basic Prices  Operating Surplus  \\\n",
      "0               188.8                           2306.3             1943.5   \n",
      "1               198.9                           2126.2             1774.0   \n",
      "2               192.8                           2484.9             2179.4   \n",
      "3               232.4                           2560.6             2247.9   \n",
      "4               230.2                           2513.7             2278.5   \n",
      "5               190.7                           2612.3             2375.3   \n",
      "6               241.8                           2518.5             2423.2   \n",
      "7               230.0                           2291.0             2233.1   \n",
      "8               214.0                           2270.1             2229.1   \n",
      "9               198.0                           1973.9             1930.5   \n",
      "10              203.5                           2188.4             2163.0   \n",
      "11              284.4                           1979.6             2177.1   \n",
      "12              202.2                           1786.8             2024.8   \n",
      "13              193.3                           1874.6             2060.7   \n",
      "14              200.4                           1989.0             2177.4   \n",
      "15              194.2                           1318.4             2589.9   \n",
      "16              193.1                            784.0             2185.6   \n",
      "17              184.5                           1045.8             2442.0   \n",
      "18              173.8                            673.6             2118.3   \n",
      "19              159.4                             43.8             1429.0   \n",
      "20              165.6                            654.9             1841.5   \n",
      "21              189.8                           1159.5             2515.8   \n",
      "22              204.4                           1066.7             2280.7   \n",
      "23              203.8                           1289.7             2355.9   \n",
      "24              231.6                           1411.1             2441.2   \n",
      "25              245.2                           1666.3             2587.2   \n",
      "26              255.7                           1545.6             2626.0   \n",
      "27              262.9                           2309.2             3422.1   \n",
      "28              258.8                           1708.0             2823.0   \n",
      "29              260.8                           1881.1             2924.8   \n",
      "30              303.3                           2233.8             3262.8   \n",
      "31              361.9                           2906.0             3851.7   \n",
      "\n",
      "    Other Subsidies Less Taxes on Production  \\\n",
      "0                                       14.8   \n",
      "1                                       10.3   \n",
      "2                                       31.4   \n",
      "3                                       26.3   \n",
      "4                                      110.0   \n",
      "5                                      125.8   \n",
      "6                                      247.9   \n",
      "7                                      290.4   \n",
      "8                                      318.9   \n",
      "9                                      331.6   \n",
      "10                                     356.5   \n",
      "11                                     569.0   \n",
      "12                                     616.1   \n",
      "13                                     577.2   \n",
      "14                                     592.4   \n",
      "15                                    1680.5   \n",
      "16                                    1826.9   \n",
      "17                                    1844.9   \n",
      "18                                    1880.9   \n",
      "19                                    1812.9   \n",
      "20                                    1651.3   \n",
      "21                                    1831.7   \n",
      "22                                    1682.0   \n",
      "23                                    1557.6   \n",
      "24                                    1525.8   \n",
      "25                                    1409.9   \n",
      "26                                    1593.4   \n",
      "27                                    1638.5   \n",
      "28                                    1682.8   \n",
      "29                                    1630.0   \n",
      "30                                    1646.5   \n",
      "31                                    1600.2   \n",
      "\n",
      "    Subsidies less Taxes on Products  Subsidies on Products  Taxes on Products  \n",
      "0                              333.9                  408.9               75.0  \n",
      "1                              279.1                  357.3               78.2  \n",
      "2                              366.6                  446.0               79.5  \n",
      "3                              398.4                  466.4               68.0  \n",
      "4                              612.3                  666.0               53.7  \n",
      "5                              676.0                  735.6               59.6  \n",
      "6                              753.0                  806.0               53.0  \n",
      "7                              769.0                  808.7               39.8  \n",
      "8                              860.2                  899.6               39.4  \n",
      "9                              715.8                  743.7               27.9  \n",
      "10                             843.8                  876.7               32.8  \n",
      "11                             685.8                  710.8               25.0  \n",
      "12                             876.7                  904.1               27.4  \n",
      "13                             892.5                  928.4               35.8  \n",
      "14                             873.0                  912.1               39.1  \n",
      "15                             399.2                  453.4               54.2  \n",
      "16                             -33.1                    3.8               36.8  \n",
      "17                             -40.4                    0.7               41.1  \n",
      "18                             -18.3                   32.4               50.7  \n",
      "19                              -9.3                   30.0               39.3  \n",
      "20                             -10.5                   31.8               42.3  \n",
      "21                             -11.0                   31.0               42.0  \n",
      "22                             -28.1                   28.5               56.7  \n",
      "23                             -40.5                    9.4               49.8  \n",
      "24                             -33.7                   28.8               62.5  \n",
      "25                             -82.9                   43.2              126.2  \n",
      "26                               7.1                   55.9               48.8  \n",
      "27                              11.0                   60.5               49.5  \n",
      "28                              13.9                   65.1               51.2  \n",
      "29                              99.5                  150.6               51.1  \n",
      "30                              94.6                  147.2               52.6  \n",
      "31                              53.4                    NaN                NaN  \n",
      "\n",
      "[32 rows x 57 columns]>\n"
     ]
    }
   ],
   "source": [
    "df = pd.read_csv(\"./../artifacts/TA_inputoutputvalue_1990_2021_CSO.csv\")\n",
    "print(\"data dimensions \\n\",df.shape)\n",
    "print()\n",
    "print(\"data column info \\n\",df.info)"
   ]
  },
  {
   "cell_type": "code",
   "execution_count": 3,
   "id": "51d0d037",
   "metadata": {
    "scrolled": false
   },
   "outputs": [
    {
     "data": {
      "text/html": [
       "<h4>dataframe</h4>"
      ],
      "text/plain": [
       "<IPython.core.display.HTML object>"
      ]
     },
     "metadata": {},
     "output_type": "display_data"
    },
    {
     "name": "stdout",
     "output_type": "stream",
     "text": [
      "Row, Column Count: (32, 57)\n"
     ]
    },
    {
     "data": {
      "text/html": [
       "<h5>Sample: Top five rows</h5>"
      ],
      "text/plain": [
       "<IPython.core.display.HTML object>"
      ]
     },
     "metadata": {},
     "output_type": "display_data"
    },
    {
     "data": {
      "text/html": [
       "<div>\n",
       "<style scoped>\n",
       "    .dataframe tbody tr th:only-of-type {\n",
       "        vertical-align: middle;\n",
       "    }\n",
       "\n",
       "    .dataframe tbody tr th {\n",
       "        vertical-align: top;\n",
       "    }\n",
       "\n",
       "    .dataframe thead th {\n",
       "        text-align: right;\n",
       "    }\n",
       "</style>\n",
       "<table border=\"1\" class=\"dataframe\">\n",
       "  <thead>\n",
       "    <tr style=\"text-align: right;\">\n",
       "      <th></th>\n",
       "      <th>Unnamed: 0</th>\n",
       "      <th>Year</th>\n",
       "      <th>UNIT</th>\n",
       "      <th>Agricultural Output at Basic Prices</th>\n",
       "      <th>All Cereals</th>\n",
       "      <th>All Crops</th>\n",
       "      <th>All Livestock</th>\n",
       "      <th>All Livestock Products</th>\n",
       "      <th>All Livestock Products - Milk</th>\n",
       "      <th>All Livestock Products Other Products (excluding Milk)</th>\n",
       "      <th>...</th>\n",
       "      <th>Livestock - Horses</th>\n",
       "      <th>Livestock - Pig</th>\n",
       "      <th>Livestock - Poultry</th>\n",
       "      <th>Livestock - Sheep</th>\n",
       "      <th>Net Value Added at Basic Prices</th>\n",
       "      <th>Operating Surplus</th>\n",
       "      <th>Other Subsidies Less Taxes on Production</th>\n",
       "      <th>Subsidies less Taxes on Products</th>\n",
       "      <th>Subsidies on Products</th>\n",
       "      <th>Taxes on Products</th>\n",
       "    </tr>\n",
       "  </thead>\n",
       "  <tbody>\n",
       "    <tr>\n",
       "      <th>0</th>\n",
       "      <td>0</td>\n",
       "      <td>1990</td>\n",
       "      <td>Euro Million</td>\n",
       "      <td>5200.0</td>\n",
       "      <td>216.7</td>\n",
       "      <td>1123.5</td>\n",
       "      <td>2201.9</td>\n",
       "      <td>1360.0</td>\n",
       "      <td>1316.3</td>\n",
       "      <td>43.7</td>\n",
       "      <td>...</td>\n",
       "      <td>83.2</td>\n",
       "      <td>237.2</td>\n",
       "      <td>117.1</td>\n",
       "      <td>188.8</td>\n",
       "      <td>2306.3</td>\n",
       "      <td>1943.5</td>\n",
       "      <td>14.8</td>\n",
       "      <td>333.9</td>\n",
       "      <td>408.9</td>\n",
       "      <td>75.0</td>\n",
       "    </tr>\n",
       "    <tr>\n",
       "      <th>1</th>\n",
       "      <td>1</td>\n",
       "      <td>1991</td>\n",
       "      <td>Euro Million</td>\n",
       "      <td>4994.4</td>\n",
       "      <td>218.6</td>\n",
       "      <td>1127.3</td>\n",
       "      <td>2114.0</td>\n",
       "      <td>1301.9</td>\n",
       "      <td>1258.9</td>\n",
       "      <td>43.0</td>\n",
       "      <td>...</td>\n",
       "      <td>70.2</td>\n",
       "      <td>242.1</td>\n",
       "      <td>125.5</td>\n",
       "      <td>198.9</td>\n",
       "      <td>2126.2</td>\n",
       "      <td>1774.0</td>\n",
       "      <td>10.3</td>\n",
       "      <td>279.1</td>\n",
       "      <td>357.3</td>\n",
       "      <td>78.2</td>\n",
       "    </tr>\n",
       "    <tr>\n",
       "      <th>2</th>\n",
       "      <td>2</td>\n",
       "      <td>1992</td>\n",
       "      <td>Euro Million</td>\n",
       "      <td>5374.0</td>\n",
       "      <td>235.4</td>\n",
       "      <td>1154.4</td>\n",
       "      <td>2262.5</td>\n",
       "      <td>1410.7</td>\n",
       "      <td>1373.1</td>\n",
       "      <td>37.6</td>\n",
       "      <td>...</td>\n",
       "      <td>61.4</td>\n",
       "      <td>280.4</td>\n",
       "      <td>124.5</td>\n",
       "      <td>192.8</td>\n",
       "      <td>2484.9</td>\n",
       "      <td>2179.4</td>\n",
       "      <td>31.4</td>\n",
       "      <td>366.6</td>\n",
       "      <td>446.0</td>\n",
       "      <td>79.5</td>\n",
       "    </tr>\n",
       "    <tr>\n",
       "      <th>3</th>\n",
       "      <td>3</td>\n",
       "      <td>1993</td>\n",
       "      <td>Euro Million</td>\n",
       "      <td>5625.9</td>\n",
       "      <td>165.7</td>\n",
       "      <td>1101.7</td>\n",
       "      <td>2449.6</td>\n",
       "      <td>1476.7</td>\n",
       "      <td>1439.0</td>\n",
       "      <td>37.7</td>\n",
       "      <td>...</td>\n",
       "      <td>84.5</td>\n",
       "      <td>257.9</td>\n",
       "      <td>116.0</td>\n",
       "      <td>232.4</td>\n",
       "      <td>2560.6</td>\n",
       "      <td>2247.9</td>\n",
       "      <td>26.3</td>\n",
       "      <td>398.4</td>\n",
       "      <td>466.4</td>\n",
       "      <td>68.0</td>\n",
       "    </tr>\n",
       "    <tr>\n",
       "      <th>4</th>\n",
       "      <td>4</td>\n",
       "      <td>1994</td>\n",
       "      <td>Euro Million</td>\n",
       "      <td>5781.5</td>\n",
       "      <td>127.3</td>\n",
       "      <td>1157.0</td>\n",
       "      <td>2319.3</td>\n",
       "      <td>1487.6</td>\n",
       "      <td>1446.2</td>\n",
       "      <td>41.4</td>\n",
       "      <td>...</td>\n",
       "      <td>75.9</td>\n",
       "      <td>264.5</td>\n",
       "      <td>134.6</td>\n",
       "      <td>230.2</td>\n",
       "      <td>2513.7</td>\n",
       "      <td>2278.5</td>\n",
       "      <td>110.0</td>\n",
       "      <td>612.3</td>\n",
       "      <td>666.0</td>\n",
       "      <td>53.7</td>\n",
       "    </tr>\n",
       "  </tbody>\n",
       "</table>\n",
       "<p>5 rows × 57 columns</p>\n",
       "</div>"
      ],
      "text/plain": [
       "   Unnamed: 0  Year          UNIT  Agricultural Output at Basic Prices  \\\n",
       "0           0  1990  Euro Million                               5200.0   \n",
       "1           1  1991  Euro Million                               4994.4   \n",
       "2           2  1992  Euro Million                               5374.0   \n",
       "3           3  1993  Euro Million                               5625.9   \n",
       "4           4  1994  Euro Million                               5781.5   \n",
       "\n",
       "   All Cereals  All Crops  All Livestock  All Livestock Products  \\\n",
       "0        216.7     1123.5         2201.9                  1360.0   \n",
       "1        218.6     1127.3         2114.0                  1301.9   \n",
       "2        235.4     1154.4         2262.5                  1410.7   \n",
       "3        165.7     1101.7         2449.6                  1476.7   \n",
       "4        127.3     1157.0         2319.3                  1487.6   \n",
       "\n",
       "   All Livestock Products - Milk  \\\n",
       "0                         1316.3   \n",
       "1                         1258.9   \n",
       "2                         1373.1   \n",
       "3                         1439.0   \n",
       "4                         1446.2   \n",
       "\n",
       "   All Livestock Products Other Products (excluding Milk)  ...  \\\n",
       "0                                               43.7       ...   \n",
       "1                                               43.0       ...   \n",
       "2                                               37.6       ...   \n",
       "3                                               37.7       ...   \n",
       "4                                               41.4       ...   \n",
       "\n",
       "   Livestock - Horses  Livestock - Pig  Livestock - Poultry  \\\n",
       "0                83.2            237.2                117.1   \n",
       "1                70.2            242.1                125.5   \n",
       "2                61.4            280.4                124.5   \n",
       "3                84.5            257.9                116.0   \n",
       "4                75.9            264.5                134.6   \n",
       "\n",
       "   Livestock - Sheep  Net Value Added at Basic Prices  Operating Surplus  \\\n",
       "0              188.8                           2306.3             1943.5   \n",
       "1              198.9                           2126.2             1774.0   \n",
       "2              192.8                           2484.9             2179.4   \n",
       "3              232.4                           2560.6             2247.9   \n",
       "4              230.2                           2513.7             2278.5   \n",
       "\n",
       "   Other Subsidies Less Taxes on Production  Subsidies less Taxes on Products  \\\n",
       "0                                      14.8                             333.9   \n",
       "1                                      10.3                             279.1   \n",
       "2                                      31.4                             366.6   \n",
       "3                                      26.3                             398.4   \n",
       "4                                     110.0                             612.3   \n",
       "\n",
       "   Subsidies on Products  Taxes on Products  \n",
       "0                  408.9               75.0  \n",
       "1                  357.3               78.2  \n",
       "2                  446.0               79.5  \n",
       "3                  466.4               68.0  \n",
       "4                  666.0               53.7  \n",
       "\n",
       "[5 rows x 57 columns]"
      ]
     },
     "metadata": {},
     "output_type": "display_data"
    },
    {
     "data": {
      "text/html": [
       "<h5>Data Types</h5>"
      ],
      "text/plain": [
       "<IPython.core.display.HTML object>"
      ]
     },
     "metadata": {},
     "output_type": "display_data"
    },
    {
     "data": {
      "text/plain": [
       "Unnamed: 0                                                                 int64\n",
       "Year                                                                       int64\n",
       "UNIT                                                                      object\n",
       "Agricultural Output at Basic Prices                                      float64\n",
       "All Cereals                                                              float64\n",
       "All Crops                                                                float64\n",
       "All Livestock                                                            float64\n",
       "All Livestock Products                                                   float64\n",
       "All Livestock Products - Milk                                            float64\n",
       "All Livestock Products Other Products (excluding Milk)                   float64\n",
       "Compensation of Employees                                                float64\n",
       "Contract Work                                                            float64\n",
       "Crops - Barley                                                           float64\n",
       "Crops - Forage Plants                                                    float64\n",
       "Crops - Fresh Fruit                                                      float64\n",
       "Crops - Mushrooms                                                        float64\n",
       "Crops - Oats                                                             float64\n",
       "Crops - Other Crops                                                      float64\n",
       "Crops - Other Fresh Vegetables                                           float64\n",
       "Crops - Potatoes                                                         float64\n",
       "Crops - Sugar Beet                                                       float64\n",
       "Crops - Turf                                                             float64\n",
       "Crops - Wheat                                                            float64\n",
       "Entrepreneurial Income                                                   float64\n",
       "Factor Income                                                            float64\n",
       "Fixed Capital Consumption                                                float64\n",
       "Fixed Capital Consumption - Farm Buildings                               float64\n",
       "Fixed Capital Consumption - Machinery, Equipment, etc                    float64\n",
       "Goods Output at Producer Prices                                          float64\n",
       "Gross Value Added at Basic Prices                                        float64\n",
       "Interest less FISIM                                                      float64\n",
       "Intermediate Consumption                                                 float64\n",
       "Intermediate Consumption - Contract Work                                 float64\n",
       "Intermediate Consumption - Crop Protection Products                      float64\n",
       "Intermediate Consumption - Energy and Lubricants                         float64\n",
       "Intermediate Consumption - Feeding Stuffs                                float64\n",
       "Intermediate Consumption - Fertilisers                                   float64\n",
       "Intermediate Consumption - Financial Intermediation Services Indirect    float64\n",
       "Intermediate Consumption - Forage Plants                                 float64\n",
       "Intermediate Consumption - Maintenance and Repairs                       float64\n",
       "Intermediate Consumption - Other Goods (Detergents, Small Tools, etc)    float64\n",
       "Intermediate Consumption - Other Goods and Services                      float64\n",
       "Intermediate Consumption - Seeds                                         float64\n",
       "Intermediate Consumption - Services                                      float64\n",
       "Intermediate Consumption - Veterinary Expenses                           float64\n",
       "Land Rental                                                              float64\n",
       "Livestock - Cattle                                                       float64\n",
       "Livestock - Horses                                                       float64\n",
       "Livestock - Pig                                                          float64\n",
       "Livestock - Poultry                                                      float64\n",
       "Livestock - Sheep                                                        float64\n",
       "Net Value Added at Basic Prices                                          float64\n",
       "Operating Surplus                                                        float64\n",
       "Other Subsidies Less Taxes on Production                                 float64\n",
       "Subsidies less Taxes on Products                                         float64\n",
       "Subsidies on Products                                                    float64\n",
       "Taxes on Products                                                        float64\n",
       "dtype: object"
      ]
     },
     "metadata": {},
     "output_type": "display_data"
    },
    {
     "data": {
      "text/html": [
       "<h5>Duplicates</h5>"
      ],
      "text/plain": [
       "<IPython.core.display.HTML object>"
      ]
     },
     "metadata": {},
     "output_type": "display_data"
    },
    {
     "name": "stdout",
     "output_type": "stream",
     "text": [
      "Number of duplicate rows:  0\n"
     ]
    },
    {
     "data": {
      "text/html": [
       "<h5>Null Values</h5>"
      ],
      "text/plain": [
       "<IPython.core.display.HTML object>"
      ]
     },
     "metadata": {},
     "output_type": "display_data"
    },
    {
     "name": "stdout",
     "output_type": "stream",
     "text": [
      "Unnamed: 0                                                                0\n",
      "Year                                                                      0\n",
      "UNIT                                                                      0\n",
      "Agricultural Output at Basic Prices                                       0\n",
      "All Cereals                                                               0\n",
      "All Crops                                                                 0\n",
      "All Livestock                                                             0\n",
      "All Livestock Products                                                    0\n",
      "All Livestock Products - Milk                                             0\n",
      "All Livestock Products Other Products (excluding Milk)                    0\n",
      "Compensation of Employees                                                 0\n",
      "Contract Work                                                             0\n",
      "Crops - Barley                                                            1\n",
      "Crops - Forage Plants                                                     0\n",
      "Crops - Fresh Fruit                                                       1\n",
      "Crops - Mushrooms                                                         1\n",
      "Crops - Oats                                                              1\n",
      "Crops - Other Crops                                                       1\n",
      "Crops - Other Fresh Vegetables                                            1\n",
      "Crops - Potatoes                                                          1\n",
      "Crops - Sugar Beet                                                        1\n",
      "Crops - Turf                                                              7\n",
      "Crops - Wheat                                                             1\n",
      "Entrepreneurial Income                                                    0\n",
      "Factor Income                                                             0\n",
      "Fixed Capital Consumption                                                 0\n",
      "Fixed Capital Consumption - Farm Buildings                                1\n",
      "Fixed Capital Consumption - Machinery, Equipment, etc                     1\n",
      "Goods Output at Producer Prices                                           0\n",
      "Gross Value Added at Basic Prices                                         0\n",
      "Interest less FISIM                                                       0\n",
      "Intermediate Consumption                                                  0\n",
      "Intermediate Consumption - Contract Work                                  0\n",
      "Intermediate Consumption - Crop Protection Products                       1\n",
      "Intermediate Consumption - Energy and Lubricants                          0\n",
      "Intermediate Consumption - Feeding Stuffs                                 0\n",
      "Intermediate Consumption - Fertilisers                                    0\n",
      "Intermediate Consumption - Financial Intermediation Services Indirect     1\n",
      "Intermediate Consumption - Forage Plants                                  0\n",
      "Intermediate Consumption - Maintenance and Repairs                        1\n",
      "Intermediate Consumption - Other Goods (Detergents, Small Tools, etc)    17\n",
      "Intermediate Consumption - Other Goods and Services                       1\n",
      "Intermediate Consumption - Seeds                                          1\n",
      "Intermediate Consumption - Services                                      17\n",
      "Intermediate Consumption - Veterinary Expenses                            1\n",
      "Land Rental                                                               0\n",
      "Livestock - Cattle                                                        0\n",
      "Livestock - Horses                                                        0\n",
      "Livestock - Pig                                                           0\n",
      "Livestock - Poultry                                                       0\n",
      "Livestock - Sheep                                                         0\n",
      "Net Value Added at Basic Prices                                           0\n",
      "Operating Surplus                                                         0\n",
      "Other Subsidies Less Taxes on Production                                  0\n",
      "Subsidies less Taxes on Products                                          0\n",
      "Subsidies on Products                                                     1\n",
      "Taxes on Products                                                         1\n",
      "dtype: int64\n"
     ]
    },
    {
     "data": {
      "text/html": [
       "<h5>Single Value Columns</h5>"
      ],
      "text/plain": [
       "<IPython.core.display.HTML object>"
      ]
     },
     "metadata": {},
     "output_type": "display_data"
    },
    {
     "name": "stdout",
     "output_type": "stream",
     "text": [
      "- The column `UNIT` has only one value. Recommend removing.\n"
     ]
    },
    {
     "data": {
      "text/html": [
       "<h5>Outlier Analysis</h5>"
      ],
      "text/plain": [
       "<IPython.core.display.HTML object>"
      ]
     },
     "metadata": {},
     "output_type": "display_data"
    },
    {
     "name": "stdout",
     "output_type": "stream",
     "text": [
      "- The column \"Agricultural Output at Basic Prices\" has 1 outlier. Recommend removing outlier.\n",
      "- The column \"All Livestock Products\" has 5 outliers. Recommend removing outliers.\n",
      "- The column \"All Livestock Products - Milk\" has 5 outliers. Recommend removing outliers.\n",
      "- The column \"Crops - Mushrooms\" has 4 outliers. Recommend removing outliers.\n",
      "- The column \"Crops - Potatoes\" has 1 outlier. Recommend removing outlier.\n",
      "- The column \"Crops - Turf\" has 4 outliers. Recommend removing outliers.\n",
      "- The column \"Crops - Wheat\" has 3 outliers. Recommend removing outliers.\n",
      "- The column \"Entrepreneurial Income\" has 4 outliers. Recommend removing outliers.\n",
      "- The column \"Factor Income\" has 3 outliers. Recommend removing outliers.\n",
      "- The column \"Intermediate Consumption - Seeds\" has 1 outlier. Recommend removing outlier.\n",
      "- The column \"Land Rental\" has 2 outliers. Recommend removing outliers.\n",
      "- The column \"Livestock - Poultry\" has 1 outlier. Recommend removing outlier.\n",
      "- The column \"Livestock - Sheep\" has 1 outlier. Recommend removing outlier.\n",
      "- The column \"Operating Surplus\" has 4 outliers. Recommend removing outliers.\n",
      "- The column \"Taxes on Products\" has 1 outlier. Recommend removing outlier.\n"
     ]
    }
   ],
   "source": [
    "df.head()\n",
    "eda_reports.print_dataframe_analysis_report(df)"
   ]
  },
  {
   "cell_type": "markdown",
   "id": "43dce267",
   "metadata": {},
   "source": [
    "## Production of Milk"
   ]
  },
  {
   "cell_type": "code",
   "execution_count": 4,
   "id": "a096f328",
   "metadata": {},
   "outputs": [
    {
     "name": "stdout",
     "output_type": "stream",
     "text": [
      "Milk production dataset dimenssions \n",
      " (32, 27)\n"
     ]
    }
   ],
   "source": [
    "## Extract milk production dataset\n",
    "# drop redundunt columns\n",
    "df = df.drop('Unnamed: 0',axis = 1)\n",
    "\n",
    "# extract milk dataset\n",
    "df_milk = df[['Year',\n",
    "#              'UNIT',\n",
    "              'All Livestock Products - Milk',\n",
    "              'Taxes on Products',\n",
    "              'Subsidies on Products',\n",
    "              'Compensation of Employees',\n",
    "              'Contract Work',\n",
    "              'Entrepreneurial Income',\n",
    "              'Factor Income',\n",
    "              'Fixed Capital Consumption - Farm Buildings',\n",
    "              'Fixed Capital Consumption - Machinery, Equipment, etc',\n",
    "              'Interest less FISIM',\n",
    "              'Operating Surplus',\n",
    "              'Livestock - Cattle',\n",
    "              'Livestock - Sheep',\n",
    "              'Land Rental',\n",
    "              'Intermediate Consumption - Contract Work',\n",
    "              'Intermediate Consumption - Crop Protection Products',\n",
    "              'Intermediate Consumption - Energy and Lubricants',\n",
    "              'Intermediate Consumption - Feeding Stuffs',\n",
    "              'Intermediate Consumption - Fertilisers',\n",
    "              'Intermediate Consumption - Financial Intermediation Services Indirect',\n",
    "              'Intermediate Consumption - Forage Plants',\n",
    "              'Intermediate Consumption - Maintenance and Repairs',\n",
    "              'Intermediate Consumption - Seeds',\n",
    "              'Intermediate Consumption - Services',\n",
    "              'Intermediate Consumption - Veterinary Expenses',\n",
    "              'Intermediate Consumption - Other Goods (Detergents, Small Tools, etc)',\n",
    "              'Intermediate Consumption - Other Goods and Services'\n",
    "              \n",
    "             ]]\n",
    "# Assign year as index\n",
    "df_milk.set_index('Year',drop=True,inplace=True)\n",
    "\n",
    "print(\"Milk production dataset dimenssions \\n\", df_milk.shape)"
   ]
  },
  {
   "cell_type": "code",
   "execution_count": 5,
   "id": "3a418fbd",
   "metadata": {
    "scrolled": false
   },
   "outputs": [
    {
     "data": {
      "text/html": [
       "<h4>dataframe</h4>"
      ],
      "text/plain": [
       "<IPython.core.display.HTML object>"
      ]
     },
     "metadata": {},
     "output_type": "display_data"
    },
    {
     "name": "stdout",
     "output_type": "stream",
     "text": [
      "Row, Column Count: (32, 27)\n"
     ]
    },
    {
     "data": {
      "text/html": [
       "<h5>Sample: Top five rows</h5>"
      ],
      "text/plain": [
       "<IPython.core.display.HTML object>"
      ]
     },
     "metadata": {},
     "output_type": "display_data"
    },
    {
     "data": {
      "text/html": [
       "<div>\n",
       "<style scoped>\n",
       "    .dataframe tbody tr th:only-of-type {\n",
       "        vertical-align: middle;\n",
       "    }\n",
       "\n",
       "    .dataframe tbody tr th {\n",
       "        vertical-align: top;\n",
       "    }\n",
       "\n",
       "    .dataframe thead th {\n",
       "        text-align: right;\n",
       "    }\n",
       "</style>\n",
       "<table border=\"1\" class=\"dataframe\">\n",
       "  <thead>\n",
       "    <tr style=\"text-align: right;\">\n",
       "      <th></th>\n",
       "      <th>All Livestock Products - Milk</th>\n",
       "      <th>Taxes on Products</th>\n",
       "      <th>Subsidies on Products</th>\n",
       "      <th>Compensation of Employees</th>\n",
       "      <th>Contract Work</th>\n",
       "      <th>Entrepreneurial Income</th>\n",
       "      <th>Factor Income</th>\n",
       "      <th>Fixed Capital Consumption - Farm Buildings</th>\n",
       "      <th>Fixed Capital Consumption - Machinery, Equipment, etc</th>\n",
       "      <th>Interest less FISIM</th>\n",
       "      <th>...</th>\n",
       "      <th>Intermediate Consumption - Feeding Stuffs</th>\n",
       "      <th>Intermediate Consumption - Fertilisers</th>\n",
       "      <th>Intermediate Consumption - Financial Intermediation Services Indirect</th>\n",
       "      <th>Intermediate Consumption - Forage Plants</th>\n",
       "      <th>Intermediate Consumption - Maintenance and Repairs</th>\n",
       "      <th>Intermediate Consumption - Seeds</th>\n",
       "      <th>Intermediate Consumption - Services</th>\n",
       "      <th>Intermediate Consumption - Veterinary Expenses</th>\n",
       "      <th>Intermediate Consumption - Other Goods (Detergents, Small Tools, etc)</th>\n",
       "      <th>Intermediate Consumption - Other Goods and Services</th>\n",
       "    </tr>\n",
       "    <tr>\n",
       "      <th>Year</th>\n",
       "      <th></th>\n",
       "      <th></th>\n",
       "      <th></th>\n",
       "      <th></th>\n",
       "      <th></th>\n",
       "      <th></th>\n",
       "      <th></th>\n",
       "      <th></th>\n",
       "      <th></th>\n",
       "      <th></th>\n",
       "      <th></th>\n",
       "      <th></th>\n",
       "      <th></th>\n",
       "      <th></th>\n",
       "      <th></th>\n",
       "      <th></th>\n",
       "      <th></th>\n",
       "      <th></th>\n",
       "      <th></th>\n",
       "      <th></th>\n",
       "      <th></th>\n",
       "    </tr>\n",
       "  </thead>\n",
       "  <tbody>\n",
       "    <tr>\n",
       "      <th>1990</th>\n",
       "      <td>1316.3</td>\n",
       "      <td>75.0</td>\n",
       "      <td>408.9</td>\n",
       "      <td>377.6</td>\n",
       "      <td>180.7</td>\n",
       "      <td>1577.2</td>\n",
       "      <td>2321.1</td>\n",
       "      <td>106.4</td>\n",
       "      <td>325.5</td>\n",
       "      <td>267.4</td>\n",
       "      <td>...</td>\n",
       "      <td>642.2</td>\n",
       "      <td>326.0</td>\n",
       "      <td>34.0</td>\n",
       "      <td>553.1</td>\n",
       "      <td>203.9</td>\n",
       "      <td>42.0</td>\n",
       "      <td>109.1</td>\n",
       "      <td>85.2</td>\n",
       "      <td>73.2</td>\n",
       "      <td>182.3</td>\n",
       "    </tr>\n",
       "    <tr>\n",
       "      <th>1991</th>\n",
       "      <td>1258.9</td>\n",
       "      <td>78.2</td>\n",
       "      <td>357.3</td>\n",
       "      <td>362.5</td>\n",
       "      <td>172.0</td>\n",
       "      <td>1440.2</td>\n",
       "      <td>2136.5</td>\n",
       "      <td>113.2</td>\n",
       "      <td>331.7</td>\n",
       "      <td>237.2</td>\n",
       "      <td>...</td>\n",
       "      <td>646.5</td>\n",
       "      <td>319.1</td>\n",
       "      <td>39.0</td>\n",
       "      <td>525.6</td>\n",
       "      <td>184.6</td>\n",
       "      <td>43.8</td>\n",
       "      <td>110.2</td>\n",
       "      <td>91.9</td>\n",
       "      <td>75.3</td>\n",
       "      <td>185.5</td>\n",
       "    </tr>\n",
       "    <tr>\n",
       "      <th>1992</th>\n",
       "      <td>1373.1</td>\n",
       "      <td>79.5</td>\n",
       "      <td>446.0</td>\n",
       "      <td>336.8</td>\n",
       "      <td>179.8</td>\n",
       "      <td>1842.6</td>\n",
       "      <td>2516.2</td>\n",
       "      <td>117.8</td>\n",
       "      <td>332.4</td>\n",
       "      <td>237.6</td>\n",
       "      <td>...</td>\n",
       "      <td>668.5</td>\n",
       "      <td>305.1</td>\n",
       "      <td>43.0</td>\n",
       "      <td>533.8</td>\n",
       "      <td>175.1</td>\n",
       "      <td>46.4</td>\n",
       "      <td>110.8</td>\n",
       "      <td>93.7</td>\n",
       "      <td>72.2</td>\n",
       "      <td>183.0</td>\n",
       "    </tr>\n",
       "    <tr>\n",
       "      <th>1993</th>\n",
       "      <td>1439.0</td>\n",
       "      <td>68.0</td>\n",
       "      <td>466.4</td>\n",
       "      <td>339.0</td>\n",
       "      <td>199.5</td>\n",
       "      <td>1985.6</td>\n",
       "      <td>2586.9</td>\n",
       "      <td>121.9</td>\n",
       "      <td>335.5</td>\n",
       "      <td>162.5</td>\n",
       "      <td>...</td>\n",
       "      <td>733.5</td>\n",
       "      <td>301.2</td>\n",
       "      <td>49.0</td>\n",
       "      <td>572.9</td>\n",
       "      <td>195.7</td>\n",
       "      <td>46.9</td>\n",
       "      <td>113.3</td>\n",
       "      <td>100.2</td>\n",
       "      <td>79.8</td>\n",
       "      <td>193.1</td>\n",
       "    </tr>\n",
       "    <tr>\n",
       "      <th>1994</th>\n",
       "      <td>1446.2</td>\n",
       "      <td>53.7</td>\n",
       "      <td>666.0</td>\n",
       "      <td>345.2</td>\n",
       "      <td>205.3</td>\n",
       "      <td>2051.7</td>\n",
       "      <td>2623.7</td>\n",
       "      <td>125.0</td>\n",
       "      <td>346.5</td>\n",
       "      <td>119.3</td>\n",
       "      <td>...</td>\n",
       "      <td>818.6</td>\n",
       "      <td>316.3</td>\n",
       "      <td>56.0</td>\n",
       "      <td>604.6</td>\n",
       "      <td>220.3</td>\n",
       "      <td>50.0</td>\n",
       "      <td>118.5</td>\n",
       "      <td>108.7</td>\n",
       "      <td>81.8</td>\n",
       "      <td>200.3</td>\n",
       "    </tr>\n",
       "  </tbody>\n",
       "</table>\n",
       "<p>5 rows × 27 columns</p>\n",
       "</div>"
      ],
      "text/plain": [
       "      All Livestock Products - Milk  Taxes on Products  Subsidies on Products  \\\n",
       "Year                                                                            \n",
       "1990                         1316.3               75.0                  408.9   \n",
       "1991                         1258.9               78.2                  357.3   \n",
       "1992                         1373.1               79.5                  446.0   \n",
       "1993                         1439.0               68.0                  466.4   \n",
       "1994                         1446.2               53.7                  666.0   \n",
       "\n",
       "      Compensation of Employees  Contract Work  Entrepreneurial Income  \\\n",
       "Year                                                                     \n",
       "1990                      377.6          180.7                  1577.2   \n",
       "1991                      362.5          172.0                  1440.2   \n",
       "1992                      336.8          179.8                  1842.6   \n",
       "1993                      339.0          199.5                  1985.6   \n",
       "1994                      345.2          205.3                  2051.7   \n",
       "\n",
       "      Factor Income  Fixed Capital Consumption - Farm Buildings  \\\n",
       "Year                                                              \n",
       "1990         2321.1                                       106.4   \n",
       "1991         2136.5                                       113.2   \n",
       "1992         2516.2                                       117.8   \n",
       "1993         2586.9                                       121.9   \n",
       "1994         2623.7                                       125.0   \n",
       "\n",
       "      Fixed Capital Consumption - Machinery, Equipment, etc  \\\n",
       "Year                                                          \n",
       "1990                                              325.5       \n",
       "1991                                              331.7       \n",
       "1992                                              332.4       \n",
       "1993                                              335.5       \n",
       "1994                                              346.5       \n",
       "\n",
       "      Interest less FISIM  ...  Intermediate Consumption - Feeding Stuffs  \\\n",
       "Year                       ...                                              \n",
       "1990                267.4  ...                                      642.2   \n",
       "1991                237.2  ...                                      646.5   \n",
       "1992                237.6  ...                                      668.5   \n",
       "1993                162.5  ...                                      733.5   \n",
       "1994                119.3  ...                                      818.6   \n",
       "\n",
       "      Intermediate Consumption - Fertilisers  \\\n",
       "Year                                           \n",
       "1990                                   326.0   \n",
       "1991                                   319.1   \n",
       "1992                                   305.1   \n",
       "1993                                   301.2   \n",
       "1994                                   316.3   \n",
       "\n",
       "      Intermediate Consumption - Financial Intermediation Services Indirect  \\\n",
       "Year                                                                          \n",
       "1990                                               34.0                       \n",
       "1991                                               39.0                       \n",
       "1992                                               43.0                       \n",
       "1993                                               49.0                       \n",
       "1994                                               56.0                       \n",
       "\n",
       "      Intermediate Consumption - Forage Plants  \\\n",
       "Year                                             \n",
       "1990                                     553.1   \n",
       "1991                                     525.6   \n",
       "1992                                     533.8   \n",
       "1993                                     572.9   \n",
       "1994                                     604.6   \n",
       "\n",
       "      Intermediate Consumption - Maintenance and Repairs  \\\n",
       "Year                                                       \n",
       "1990                                              203.9    \n",
       "1991                                              184.6    \n",
       "1992                                              175.1    \n",
       "1993                                              195.7    \n",
       "1994                                              220.3    \n",
       "\n",
       "      Intermediate Consumption - Seeds  Intermediate Consumption - Services  \\\n",
       "Year                                                                          \n",
       "1990                              42.0                                109.1   \n",
       "1991                              43.8                                110.2   \n",
       "1992                              46.4                                110.8   \n",
       "1993                              46.9                                113.3   \n",
       "1994                              50.0                                118.5   \n",
       "\n",
       "      Intermediate Consumption - Veterinary Expenses  \\\n",
       "Year                                                   \n",
       "1990                                            85.2   \n",
       "1991                                            91.9   \n",
       "1992                                            93.7   \n",
       "1993                                           100.2   \n",
       "1994                                           108.7   \n",
       "\n",
       "      Intermediate Consumption - Other Goods (Detergents, Small Tools, etc)  \\\n",
       "Year                                                                          \n",
       "1990                                               73.2                       \n",
       "1991                                               75.3                       \n",
       "1992                                               72.2                       \n",
       "1993                                               79.8                       \n",
       "1994                                               81.8                       \n",
       "\n",
       "      Intermediate Consumption - Other Goods and Services  \n",
       "Year                                                       \n",
       "1990                                              182.3    \n",
       "1991                                              185.5    \n",
       "1992                                              183.0    \n",
       "1993                                              193.1    \n",
       "1994                                              200.3    \n",
       "\n",
       "[5 rows x 27 columns]"
      ]
     },
     "metadata": {},
     "output_type": "display_data"
    },
    {
     "data": {
      "text/html": [
       "<h5>Data Types</h5>"
      ],
      "text/plain": [
       "<IPython.core.display.HTML object>"
      ]
     },
     "metadata": {},
     "output_type": "display_data"
    },
    {
     "data": {
      "text/plain": [
       "All Livestock Products - Milk                                            float64\n",
       "Taxes on Products                                                        float64\n",
       "Subsidies on Products                                                    float64\n",
       "Compensation of Employees                                                float64\n",
       "Contract Work                                                            float64\n",
       "Entrepreneurial Income                                                   float64\n",
       "Factor Income                                                            float64\n",
       "Fixed Capital Consumption - Farm Buildings                               float64\n",
       "Fixed Capital Consumption - Machinery, Equipment, etc                    float64\n",
       "Interest less FISIM                                                      float64\n",
       "Operating Surplus                                                        float64\n",
       "Livestock - Cattle                                                       float64\n",
       "Livestock - Sheep                                                        float64\n",
       "Land Rental                                                              float64\n",
       "Intermediate Consumption - Contract Work                                 float64\n",
       "Intermediate Consumption - Crop Protection Products                      float64\n",
       "Intermediate Consumption - Energy and Lubricants                         float64\n",
       "Intermediate Consumption - Feeding Stuffs                                float64\n",
       "Intermediate Consumption - Fertilisers                                   float64\n",
       "Intermediate Consumption - Financial Intermediation Services Indirect    float64\n",
       "Intermediate Consumption - Forage Plants                                 float64\n",
       "Intermediate Consumption - Maintenance and Repairs                       float64\n",
       "Intermediate Consumption - Seeds                                         float64\n",
       "Intermediate Consumption - Services                                      float64\n",
       "Intermediate Consumption - Veterinary Expenses                           float64\n",
       "Intermediate Consumption - Other Goods (Detergents, Small Tools, etc)    float64\n",
       "Intermediate Consumption - Other Goods and Services                      float64\n",
       "dtype: object"
      ]
     },
     "metadata": {},
     "output_type": "display_data"
    },
    {
     "data": {
      "text/html": [
       "<h5>Duplicates</h5>"
      ],
      "text/plain": [
       "<IPython.core.display.HTML object>"
      ]
     },
     "metadata": {},
     "output_type": "display_data"
    },
    {
     "name": "stdout",
     "output_type": "stream",
     "text": [
      "Number of duplicate rows:  0\n"
     ]
    },
    {
     "data": {
      "text/html": [
       "<h5>Null Values</h5>"
      ],
      "text/plain": [
       "<IPython.core.display.HTML object>"
      ]
     },
     "metadata": {},
     "output_type": "display_data"
    },
    {
     "name": "stdout",
     "output_type": "stream",
     "text": [
      "All Livestock Products - Milk                                             0\n",
      "Taxes on Products                                                         1\n",
      "Subsidies on Products                                                     1\n",
      "Compensation of Employees                                                 0\n",
      "Contract Work                                                             0\n",
      "Entrepreneurial Income                                                    0\n",
      "Factor Income                                                             0\n",
      "Fixed Capital Consumption - Farm Buildings                                1\n",
      "Fixed Capital Consumption - Machinery, Equipment, etc                     1\n",
      "Interest less FISIM                                                       0\n",
      "Operating Surplus                                                         0\n",
      "Livestock - Cattle                                                        0\n",
      "Livestock - Sheep                                                         0\n",
      "Land Rental                                                               0\n",
      "Intermediate Consumption - Contract Work                                  0\n",
      "Intermediate Consumption - Crop Protection Products                       1\n",
      "Intermediate Consumption - Energy and Lubricants                          0\n",
      "Intermediate Consumption - Feeding Stuffs                                 0\n",
      "Intermediate Consumption - Fertilisers                                    0\n",
      "Intermediate Consumption - Financial Intermediation Services Indirect     1\n",
      "Intermediate Consumption - Forage Plants                                  0\n",
      "Intermediate Consumption - Maintenance and Repairs                        1\n",
      "Intermediate Consumption - Seeds                                          1\n",
      "Intermediate Consumption - Services                                      17\n",
      "Intermediate Consumption - Veterinary Expenses                            1\n",
      "Intermediate Consumption - Other Goods (Detergents, Small Tools, etc)    17\n",
      "Intermediate Consumption - Other Goods and Services                       1\n",
      "dtype: int64\n"
     ]
    },
    {
     "data": {
      "text/html": [
       "<h5>Single Value Columns</h5>"
      ],
      "text/plain": [
       "<IPython.core.display.HTML object>"
      ]
     },
     "metadata": {},
     "output_type": "display_data"
    },
    {
     "name": "stdout",
     "output_type": "stream",
     "text": [
      "No single value columns found.\n"
     ]
    },
    {
     "data": {
      "text/html": [
       "<h5>Outlier Analysis</h5>"
      ],
      "text/plain": [
       "<IPython.core.display.HTML object>"
      ]
     },
     "metadata": {},
     "output_type": "display_data"
    },
    {
     "name": "stdout",
     "output_type": "stream",
     "text": [
      "- The column \"All Livestock Products - Milk\" has 5 outliers. Recommend removing outliers.\n",
      "- The column \"Taxes on Products\" has 1 outlier. Recommend removing outlier.\n",
      "- The column \"Entrepreneurial Income\" has 4 outliers. Recommend removing outliers.\n",
      "- The column \"Factor Income\" has 3 outliers. Recommend removing outliers.\n",
      "- The column \"Operating Surplus\" has 4 outliers. Recommend removing outliers.\n",
      "- The column \"Livestock - Sheep\" has 1 outlier. Recommend removing outlier.\n",
      "- The column \"Land Rental\" has 2 outliers. Recommend removing outliers.\n",
      "- The column \"Intermediate Consumption - Seeds\" has 1 outlier. Recommend removing outlier.\n"
     ]
    }
   ],
   "source": [
    "eda_reports.print_dataframe_analysis_report(df_milk)"
   ]
  },
  {
   "cell_type": "code",
   "execution_count": 6,
   "id": "c65dcddb",
   "metadata": {},
   "outputs": [
    {
     "data": {
      "text/plain": [
       "array([109.1, 110.2, 110.8, 113.3, 118.5, 124.9, 140.1, 142.2, 147.6,\n",
       "       153. , 175.8, 200.2, 210.2, 212.8, 205.7,   nan])"
      ]
     },
     "execution_count": 6,
     "metadata": {},
     "output_type": "execute_result"
    }
   ],
   "source": [
    "df_milk[\"Intermediate Consumption - Services\"].unique()"
   ]
  },
  {
   "cell_type": "code",
   "execution_count": 33,
   "id": "d6f1bef1",
   "metadata": {},
   "outputs": [],
   "source": [
    "df_milk = df[['Year',\n",
    "#              'UNIT',\n",
    "              'All Livestock Products - Milk',\n",
    "              'Taxes on Products',\n",
    "              'Subsidies on Products',\n",
    "              'Compensation of Employees',\n",
    "              'Contract Work',\n",
    "              'Entrepreneurial Income',\n",
    "              'Factor Income',\n",
    "              'Fixed Capital Consumption - Farm Buildings',\n",
    "              'Fixed Capital Consumption - Machinery, Equipment, etc',\n",
    "              'Interest less FISIM',\n",
    "              'Operating Surplus',\n",
    "              'Livestock - Cattle',\n",
    "              'Livestock - Sheep',\n",
    "              'Land Rental',\n",
    "              'Intermediate Consumption - Contract Work',\n",
    "              'Intermediate Consumption - Crop Protection Products',\n",
    "              'Intermediate Consumption - Energy and Lubricants',\n",
    "              'Intermediate Consumption - Feeding Stuffs',\n",
    "              'Intermediate Consumption - Fertilisers',\n",
    "              'Intermediate Consumption - Financial Intermediation Services Indirect',\n",
    "              'Intermediate Consumption - Forage Plants',\n",
    "              'Intermediate Consumption - Maintenance and Repairs',\n",
    "              'Intermediate Consumption - Seeds',\n",
    "              # 'Intermediate Consumption - Services',\n",
    "              'Intermediate Consumption - Veterinary Expenses',\n",
    "              #'Intermediate Consumption - Other Goods (Detergents, Small Tools, etc)',\n",
    "              'Intermediate Consumption - Other Goods and Services'\n",
    "              \n",
    "             ]]"
   ]
  },
  {
   "cell_type": "markdown",
   "id": "b05b59fc",
   "metadata": {},
   "source": [
    "### Define 20% Training set 80% Test set"
   ]
  },
  {
   "cell_type": "code",
   "execution_count": 37,
   "id": "5a3fb066",
   "metadata": {},
   "outputs": [
    {
     "name": "stdout",
     "output_type": "stream",
     "text": [
      "(32, 24)\n",
      "(32, 1)\n",
      "2.041666666666667\n"
     ]
    }
   ],
   "source": [
    "# define target & feature variables\n",
    "\n",
    "X = df_milk.iloc[:,2:].values\n",
    "Y = df_milk.iloc[:,1].values.reshape(-1,1)\n",
    "print(np.shape(X))\n",
    "print(np.shape(Y))\n",
    "\n",
    "# split train test split 20\n",
    "from sklearn.model_selection import train_test_split\n",
    "X_train, X_test,Y_train,Y_test = train_test_split(X,Y,test_size=0.2,random_state=2021)"
   ]
  },
  {
   "cell_type": "markdown",
   "id": "40f58f53",
   "metadata": {},
   "source": [
    "### Model 1 RandomForest Regressor"
   ]
  },
  {
   "cell_type": "code",
   "execution_count": 9,
   "id": "fd779277",
   "metadata": {},
   "outputs": [],
   "source": [
    "from sklearn.model_selection import GridSearchCV\n",
    "from sklearn.ensemble import RandomForestRegressor\n"
   ]
  },
  {
   "cell_type": "code",
   "execution_count": 11,
   "id": "fbe9bbff",
   "metadata": {},
   "outputs": [],
   "source": [
    "rf_model_milk = RandomForestRegressor(random_state=2021)"
   ]
  },
  {
   "cell_type": "code",
   "execution_count": 12,
   "id": "c4bc99b5",
   "metadata": {},
   "outputs": [],
   "source": [
    "params_rf_milk = {'n_estimators':[100,200,500]\n",
    "            ,'max_features':['auto','sqrt']\n",
    "            }"
   ]
  },
  {
   "cell_type": "code",
   "execution_count": 13,
   "id": "95bb5e37",
   "metadata": {},
   "outputs": [],
   "source": [
    "GS_rf_milk = GridSearchCV(estimator= rf_model_milk,\n",
    "                     param_grid= params_rf_milk\n",
    "                     )"
   ]
  },
  {
   "cell_type": "code",
   "execution_count": null,
   "id": "0cf7755c",
   "metadata": {},
   "outputs": [],
   "source": [
    "# np.isnan(X_train).sum()\n",
    "# np.nan_to_num(X_train)\n",
    "# np.nan_to_num(Y_train)\n",
    "GS_rf_milk.fit(X_train,Y_train) #do not run becuase of null values"
   ]
  },
  {
   "cell_type": "code",
   "execution_count": 15,
   "id": "f87b3065",
   "metadata": {},
   "outputs": [
    {
     "name": "stdout",
     "output_type": "stream",
     "text": [
      "RandomForestRegressor(random_state=2021)\n",
      "Best model score nan\n"
     ]
    }
   ],
   "source": [
    "# print best model\n",
    "print(GS_rf_milk.best_estimator_)\n",
    "print('Best model score', GS_rf_milk.best_score_)"
   ]
  },
  {
   "cell_type": "markdown",
   "id": "b4aab677",
   "metadata": {},
   "source": [
    "### Model 2 XGBOOST Regressor"
   ]
  },
  {
   "cell_type": "code",
   "execution_count": 12,
   "id": "48d259a5",
   "metadata": {},
   "outputs": [
    {
     "name": "stdout",
     "output_type": "stream",
     "text": [
      "Collecting xgboost\n",
      "  Downloading xgboost-1.5.2-py3-none-macosx_10_15_x86_64.macosx_11_0_x86_64.macosx_12_0_x86_64.whl (1.3 MB)\n",
      "\u001b[K     |████████████████████████████████| 1.3 MB 1.8 MB/s eta 0:00:01\n",
      "\u001b[?25hRequirement already satisfied: numpy in /Users/goku/opt/anaconda3/lib/python3.9/site-packages (from xgboost) (1.20.3)\n",
      "Requirement already satisfied: scipy in /Users/goku/opt/anaconda3/lib/python3.9/site-packages (from xgboost) (1.7.1)\n",
      "Installing collected packages: xgboost\n",
      "Successfully installed xgboost-1.5.2\n"
     ]
    }
   ],
   "source": [
    "# xgboost\n",
    "!pip install xgboost"
   ]
  },
  {
   "cell_type": "code",
   "execution_count": 14,
   "id": "119a7167",
   "metadata": {},
   "outputs": [],
   "source": [
    "from xgboost import XGBRegressor\n",
    "xgb_model_milk = XGBRegressor(random_state=2021)"
   ]
  },
  {
   "cell_type": "code",
   "execution_count": 15,
   "id": "098523c3",
   "metadata": {},
   "outputs": [],
   "source": [
    "# make a search space of parameters to loop over\n",
    "\n",
    "params_xgb_milk = {'n_estimators':[20,40,80,160,340,500],\n",
    "             'max_depth':[3,6,9],\n",
    "             'gamma':[0.01,0.1],\n",
    "             'learning_rate':[0.001,0.01,0.1,1]\n",
    "             }"
   ]
  },
  {
   "cell_type": "code",
   "execution_count": 16,
   "id": "aa5e885c",
   "metadata": {},
   "outputs": [],
   "source": [
    "GS_xgb_milk = GridSearchCV(estimator=xgb_model_milk,\n",
    "                     param_grid=params_xgb_milk,\n",
    "                     #n_jobs=-1,\n",
    "                     scoring=['r2','neg_root_mean_squared_error'],\n",
    "                     refit= 'r2',\n",
    "                     cv=5,\n",
    "                     verbose=4\n",
    "                     )"
   ]
  },
  {
   "cell_type": "code",
   "execution_count": null,
   "id": "fd170cd6",
   "metadata": {
    "scrolled": false
   },
   "outputs": [],
   "source": [
    "GS_xgb_milk.fit(X_train,Y_train);"
   ]
  },
  {
   "cell_type": "code",
   "execution_count": null,
   "id": "6103bcbd",
   "metadata": {},
   "outputs": [],
   "source": [
    "# print best model\n",
    "print(GS_xgb_milk.best_estimator_)"
   ]
  },
  {
   "cell_type": "code",
   "execution_count": 24,
   "id": "6537541a",
   "metadata": {},
   "outputs": [
    {
     "name": "stdout",
     "output_type": "stream",
     "text": [
      "Best model Parameters {'gamma': 0.01, 'learning_rate': 0.1, 'max_depth': 9, 'n_estimators': 340}\n",
      "Best model R2 score 0.8483316258834732\n"
     ]
    }
   ],
   "source": [
    "# print best parameters\n",
    "print('Best model Parameters',GS_xgb_milk.best_params_)\n",
    "# best score\n",
    "print('Best model R2 score',GS_xgb_milk.best_score_)\n",
    "\n",
    "# write the Grid Search results to csv to choose best model with least resource consumption\n",
    "GS_xgb_df_milk = pd.DataFrame(GS_xgb_milk.cv_results_)\n",
    "GS_xgb_df_milk = GS_xgb_df_milk.sort_values('rank_test_r2')"
   ]
  },
  {
   "cell_type": "code",
   "execution_count": 26,
   "id": "777e5642",
   "metadata": {},
   "outputs": [],
   "source": [
    "GS_xgb_df_milk.to_csv('./../artifacts/grid-search-xgb-milk-results.csv')"
   ]
  },
  {
   "cell_type": "code",
   "execution_count": 27,
   "id": "595f37de",
   "metadata": {},
   "outputs": [
    {
     "ename": "NameError",
     "evalue": "name 'predict' is not defined",
     "output_type": "error",
     "traceback": [
      "\u001b[1;31m---------------------------------------------------------------------------\u001b[0m",
      "\u001b[1;31mNameError\u001b[0m                                 Traceback (most recent call last)",
      "\u001b[1;32m~\\AppData\\Local\\Temp/ipykernel_19236/3542164560.py\u001b[0m in \u001b[0;36m<module>\u001b[1;34m\u001b[0m\n\u001b[1;32m----> 1\u001b[1;33m \u001b[0mpredict\u001b[0m\u001b[1;33m(\u001b[0m\u001b[0mX_test\u001b[0m\u001b[1;33m)\u001b[0m\u001b[1;33m\u001b[0m\u001b[1;33m\u001b[0m\u001b[0m\n\u001b[0m",
      "\u001b[1;31mNameError\u001b[0m: name 'predict' is not defined"
     ]
    }
   ],
   "source": [
    "predict(X_test)"
   ]
  },
  {
   "cell_type": "markdown",
   "id": "0459ab28",
   "metadata": {},
   "source": [
    "## ANN"
   ]
  },
  {
   "cell_type": "code",
   "execution_count": 17,
   "id": "9cdd941a",
   "metadata": {},
   "outputs": [
    {
     "name": "stdout",
     "output_type": "stream",
     "text": [
      "Collecting tensorflow\n",
      "  Downloading tensorflow-2.7.0-cp39-cp39-macosx_10_11_x86_64.whl (207.1 MB)\n",
      "\u001b[K     |████████████████████████████████| 207.1 MB 66 kB/s s eta 0:00:01\n",
      "\u001b[?25hRequirement already satisfied: numpy>=1.14.5 in /Users/goku/opt/anaconda3/lib/python3.9/site-packages (from tensorflow) (1.20.3)\n",
      "Requirement already satisfied: six>=1.12.0 in /Users/goku/opt/anaconda3/lib/python3.9/site-packages (from tensorflow) (1.16.0)\n",
      "Requirement already satisfied: h5py>=2.9.0 in /Users/goku/opt/anaconda3/lib/python3.9/site-packages (from tensorflow) (3.2.1)\n",
      "Collecting gast<0.5.0,>=0.2.1\n",
      "  Downloading gast-0.4.0-py3-none-any.whl (9.8 kB)\n",
      "Collecting libclang>=9.0.1\n",
      "  Downloading libclang-12.0.0-2-py2.py3-none-macosx_10_9_x86_64.whl (12.2 MB)\n",
      "\u001b[K     |████████████████████████████████| 12.2 MB 80.5 MB/s eta 0:00:01\n",
      "\u001b[?25hCollecting tensorflow-estimator<2.8,~=2.7.0rc0\n",
      "  Downloading tensorflow_estimator-2.7.0-py2.py3-none-any.whl (463 kB)\n",
      "\u001b[K     |████████████████████████████████| 463 kB 28.9 MB/s eta 0:00:01\n",
      "\u001b[?25hCollecting grpcio<2.0,>=1.24.3\n",
      "  Downloading grpcio-1.43.0-cp39-cp39-macosx_10_10_x86_64.whl (4.2 MB)\n",
      "\u001b[K     |████████████████████████████████| 4.2 MB 778 kB/s eta 0:00:01\n",
      "\u001b[?25hCollecting astunparse>=1.6.0\n",
      "  Downloading astunparse-1.6.3-py2.py3-none-any.whl (12 kB)\n",
      "Collecting opt-einsum>=2.3.2\n",
      "  Downloading opt_einsum-3.3.0-py3-none-any.whl (65 kB)\n",
      "\u001b[K     |████████████████████████████████| 65 kB 7.0 MB/s  eta 0:00:01\n",
      "\u001b[?25hCollecting flatbuffers<3.0,>=1.12\n",
      "  Downloading flatbuffers-2.0-py2.py3-none-any.whl (26 kB)\n",
      "Requirement already satisfied: typing-extensions>=3.6.6 in /Users/goku/opt/anaconda3/lib/python3.9/site-packages (from tensorflow) (3.10.0.2)\n",
      "Collecting termcolor>=1.1.0\n",
      "  Downloading termcolor-1.1.0.tar.gz (3.9 kB)\n",
      "Collecting keras<2.8,>=2.7.0rc0\n",
      "  Downloading keras-2.7.0-py2.py3-none-any.whl (1.3 MB)\n",
      "\u001b[K     |████████████████████████████████| 1.3 MB 25.9 MB/s eta 0:00:01\n",
      "\u001b[?25hCollecting absl-py>=0.4.0\n",
      "  Downloading absl_py-1.0.0-py3-none-any.whl (126 kB)\n",
      "\u001b[K     |████████████████████████████████| 126 kB 12.7 MB/s eta 0:00:01\n",
      "\u001b[?25hRequirement already satisfied: wrapt>=1.11.0 in /Users/goku/opt/anaconda3/lib/python3.9/site-packages (from tensorflow) (1.12.1)\n",
      "Requirement already satisfied: wheel<1.0,>=0.32.0 in /Users/goku/opt/anaconda3/lib/python3.9/site-packages (from tensorflow) (0.37.0)\n",
      "Collecting keras-preprocessing>=1.1.1\n",
      "  Downloading Keras_Preprocessing-1.1.2-py2.py3-none-any.whl (42 kB)\n",
      "\u001b[K     |████████████████████████████████| 42 kB 2.7 MB/s  eta 0:00:01\n",
      "\u001b[?25hCollecting protobuf>=3.9.2\n",
      "  Downloading protobuf-3.19.3-cp39-cp39-macosx_10_9_x86_64.whl (1.0 MB)\n",
      "\u001b[K     |████████████████████████████████| 1.0 MB 42.2 MB/s eta 0:00:01\n",
      "\u001b[?25hCollecting tensorboard~=2.6\n",
      "  Downloading tensorboard-2.7.0-py3-none-any.whl (5.8 MB)\n",
      "\u001b[K     |████████████████████████████████| 5.8 MB 53.5 MB/s eta 0:00:01\n",
      "\u001b[?25hCollecting google-pasta>=0.1.1\n",
      "  Downloading google_pasta-0.2.0-py3-none-any.whl (57 kB)\n",
      "\u001b[K     |████████████████████████████████| 57 kB 7.1 MB/s  eta 0:00:01\n",
      "\u001b[?25hCollecting tensorflow-io-gcs-filesystem>=0.21.0\n",
      "  Downloading tensorflow_io_gcs_filesystem-0.23.1-cp39-cp39-macosx_10_14_x86_64.whl (1.6 MB)\n",
      "\u001b[K     |████████████████████████████████| 1.6 MB 2.0 MB/s eta 0:00:01\n",
      "\u001b[?25hRequirement already satisfied: setuptools>=41.0.0 in /Users/goku/opt/anaconda3/lib/python3.9/site-packages (from tensorboard~=2.6->tensorflow) (58.0.4)\n",
      "Requirement already satisfied: werkzeug>=0.11.15 in /Users/goku/opt/anaconda3/lib/python3.9/site-packages (from tensorboard~=2.6->tensorflow) (2.0.2)\n",
      "Collecting tensorboard-data-server<0.7.0,>=0.6.0\n",
      "  Downloading tensorboard_data_server-0.6.1-py3-none-macosx_10_9_x86_64.whl (3.5 MB)\n",
      "\u001b[K     |████████████████████████████████| 3.5 MB 24.8 MB/s eta 0:00:01\n",
      "\u001b[?25hCollecting tensorboard-plugin-wit>=1.6.0\n",
      "  Downloading tensorboard_plugin_wit-1.8.1-py3-none-any.whl (781 kB)\n",
      "\u001b[K     |████████████████████████████████| 781 kB 30.7 MB/s eta 0:00:01\n",
      "\u001b[?25hCollecting google-auth<3,>=1.6.3\n",
      "  Downloading google_auth-2.3.3-py2.py3-none-any.whl (155 kB)\n",
      "\u001b[K     |████████████████████████████████| 155 kB 17.6 MB/s eta 0:00:01\n",
      "\u001b[?25hRequirement already satisfied: requests<3,>=2.21.0 in /Users/goku/opt/anaconda3/lib/python3.9/site-packages (from tensorboard~=2.6->tensorflow) (2.26.0)\n",
      "Collecting google-auth-oauthlib<0.5,>=0.4.1\n",
      "  Downloading google_auth_oauthlib-0.4.6-py2.py3-none-any.whl (18 kB)\n",
      "Collecting markdown>=2.6.8\n",
      "  Downloading Markdown-3.3.6-py3-none-any.whl (97 kB)\n",
      "\u001b[K     |████████████████████████████████| 97 kB 12.3 MB/s eta 0:00:01\n",
      "\u001b[?25hCollecting cachetools<5.0,>=2.0.0\n",
      "  Downloading cachetools-4.2.4-py3-none-any.whl (10 kB)\n",
      "Collecting pyasn1-modules>=0.2.1\n",
      "  Downloading pyasn1_modules-0.2.8-py2.py3-none-any.whl (155 kB)\n",
      "\u001b[K     |████████████████████████████████| 155 kB 28.2 MB/s eta 0:00:01\n",
      "\u001b[?25hCollecting rsa<5,>=3.1.4\n",
      "  Downloading rsa-4.8-py3-none-any.whl (39 kB)\n",
      "Collecting requests-oauthlib>=0.7.0\n",
      "  Downloading requests_oauthlib-1.3.0-py2.py3-none-any.whl (23 kB)\n",
      "Requirement already satisfied: importlib-metadata>=4.4 in /Users/goku/opt/anaconda3/lib/python3.9/site-packages (from markdown>=2.6.8->tensorboard~=2.6->tensorflow) (4.8.1)\n",
      "Requirement already satisfied: zipp>=0.5 in /Users/goku/opt/anaconda3/lib/python3.9/site-packages (from importlib-metadata>=4.4->markdown>=2.6.8->tensorboard~=2.6->tensorflow) (3.6.0)\n",
      "Collecting pyasn1<0.5.0,>=0.4.6\n",
      "  Downloading pyasn1-0.4.8-py2.py3-none-any.whl (77 kB)\n",
      "\u001b[K     |████████████████████████████████| 77 kB 9.3 MB/s  eta 0:00:01\n",
      "\u001b[?25hRequirement already satisfied: charset-normalizer~=2.0.0 in /Users/goku/opt/anaconda3/lib/python3.9/site-packages (from requests<3,>=2.21.0->tensorboard~=2.6->tensorflow) (2.0.4)\n",
      "Requirement already satisfied: certifi>=2017.4.17 in /Users/goku/opt/anaconda3/lib/python3.9/site-packages (from requests<3,>=2.21.0->tensorboard~=2.6->tensorflow) (2021.10.8)\n",
      "Requirement already satisfied: idna<4,>=2.5 in /Users/goku/opt/anaconda3/lib/python3.9/site-packages (from requests<3,>=2.21.0->tensorboard~=2.6->tensorflow) (3.2)\n",
      "Requirement already satisfied: urllib3<1.27,>=1.21.1 in /Users/goku/opt/anaconda3/lib/python3.9/site-packages (from requests<3,>=2.21.0->tensorboard~=2.6->tensorflow) (1.26.7)\n",
      "Collecting oauthlib>=3.0.0\n",
      "  Downloading oauthlib-3.1.1-py2.py3-none-any.whl (146 kB)\n",
      "\u001b[K     |████████████████████████████████| 146 kB 20.1 MB/s eta 0:00:01\n",
      "\u001b[?25hBuilding wheels for collected packages: termcolor\n",
      "  Building wheel for termcolor (setup.py) ... \u001b[?25ldone\n",
      "\u001b[?25h  Created wheel for termcolor: filename=termcolor-1.1.0-py3-none-any.whl size=4847 sha256=ae173ead668cb83ad62cd55b59db738cffe7b85f4e4ce9b54a02a8782d92f36a\n",
      "  Stored in directory: /Users/goku/Library/Caches/pip/wheels/b6/0d/90/0d1bbd99855f99cb2f6c2e5ff96f8023fad8ec367695f7d72d\n",
      "Successfully built termcolor\n",
      "Installing collected packages: pyasn1, rsa, pyasn1-modules, oauthlib, cachetools, requests-oauthlib, google-auth, tensorboard-plugin-wit, tensorboard-data-server, protobuf, markdown, grpcio, google-auth-oauthlib, absl-py, termcolor, tensorflow-io-gcs-filesystem, tensorflow-estimator, tensorboard, opt-einsum, libclang, keras-preprocessing, keras, google-pasta, gast, flatbuffers, astunparse, tensorflow\n",
      "Successfully installed absl-py-1.0.0 astunparse-1.6.3 cachetools-4.2.4 flatbuffers-2.0 gast-0.4.0 google-auth-2.3.3 google-auth-oauthlib-0.4.6 google-pasta-0.2.0 grpcio-1.43.0 keras-2.7.0 keras-preprocessing-1.1.2 libclang-12.0.0 markdown-3.3.6 oauthlib-3.1.1 opt-einsum-3.3.0 protobuf-3.19.3 pyasn1-0.4.8 pyasn1-modules-0.2.8 requests-oauthlib-1.3.0 rsa-4.8 tensorboard-2.7.0 tensorboard-data-server-0.6.1 tensorboard-plugin-wit-1.8.1 tensorflow-2.7.0 tensorflow-estimator-2.7.0 tensorflow-io-gcs-filesystem-0.23.1 termcolor-1.1.0\n"
     ]
    }
   ],
   "source": [
    "!pip install --upgrade tensorflow"
   ]
  },
  {
   "cell_type": "code",
   "execution_count": 18,
   "id": "7d5ed0d2",
   "metadata": {},
   "outputs": [
    {
     "ename": "SyntaxError",
     "evalue": "invalid syntax (600119434.py, line 1)",
     "output_type": "error",
     "traceback": [
      "\u001b[0;36m  File \u001b[0;32m\"/var/folders/x1/pp5jk4sn3_zdcrh5m5trxj_r0000gp/T/ipykernel_3915/600119434.py\"\u001b[0;36m, line \u001b[0;32m1\u001b[0m\n\u001b[0;31m    python -c \"import tensorflow as tf;print(tf.reduce_sum(tf.random.normal([1000, 1000])))\"\u001b[0m\n\u001b[0m              ^\u001b[0m\n\u001b[0;31mSyntaxError\u001b[0m\u001b[0;31m:\u001b[0m invalid syntax\n"
     ]
    }
   ],
   "source": [
    "python -c \"import tensorflow as tf;print(tf.reduce_sum(tf.random.normal([1000, 1000])))\""
   ]
  },
  {
   "cell_type": "code",
   "execution_count": 19,
   "id": "a80f1441",
   "metadata": {},
   "outputs": [],
   "source": [
    "import math\n",
    "import matplotlib.pyplot as plt\n",
    "import numpy as np\n",
    "from numpy.random import seed\n",
    "seed(2021)\n",
    "import pandas as pd\n",
    "import statsmodels.api as sm\n",
    "import statsmodels.formula.api as smf\n",
    "import tensorflow\n",
    "tensorflow.random.set_seed(1)\n",
    "from tensorflow.python.keras.layers import Dense\n",
    "from tensorflow.keras.layers import Dropout\n",
    "from tensorflow.python.keras.models import Sequential\n",
    "from tensorflow.python.keras.wrappers.scikit_learn import KerasRegressor\n",
    "from sklearn.metrics import mean_absolute_error\n",
    "from sklearn.metrics import mean_squared_error\n",
    "from sklearn.model_selection import train_test_split\n",
    "from sklearn.preprocessing import MinMaxScaler"
   ]
  },
  {
   "cell_type": "code",
   "execution_count": 35,
   "id": "d325597e",
   "metadata": {},
   "outputs": [
    {
     "name": "stdout",
     "output_type": "stream",
     "text": [
      "MinMaxScaler()\n",
      "MinMaxScaler()\n",
      "MinMaxScaler()\n"
     ]
    }
   ],
   "source": [
    "scaler_x = MinMaxScaler()\n",
    "scaler_y = MinMaxScaler()\n",
    "print(scaler_x.fit(X_train))\n",
    "xtrain_scale=scaler_x.transform(X_train)\n",
    "print(scaler_y.fit(Y_train))\n",
    "ytrain_scale=scaler_y.transform(Y_train)\n",
    "print(scaler_x.fit(X_test))\n",
    "xtest_scale=scaler_x.transform(X_test)\n"
   ]
  },
  {
   "cell_type": "code",
   "execution_count": 40,
   "id": "501d4d0f",
   "metadata": {},
   "outputs": [
    {
     "name": "stdout",
     "output_type": "stream",
     "text": [
      "Model: \"sequential_3\"\n",
      "_________________________________________________________________\n",
      "Layer (type)                 Output Shape              Param #   \n",
      "=================================================================\n",
      "dense_9 (Dense)              (None, 24)                600       \n",
      "_________________________________________________________________\n",
      "dense_10 (Dense)             (None, 30)                750       \n",
      "_________________________________________________________________\n",
      "dense_11 (Dense)             (None, 1)                 31        \n",
      "=================================================================\n",
      "Total params: 1,381\n",
      "Trainable params: 1,381\n",
      "Non-trainable params: 0\n",
      "_________________________________________________________________\n"
     ]
    }
   ],
   "source": [
    "model = Sequential()\n",
    "# input layers  = Number of features in the training set + 1\n",
    "model.add(Dense(24, input_dim=24, kernel_initializer='normal', activation='relu'))\n",
    "# hidden layers = Training Data Samples/Factor * (Input Neurons + Output Neurons)\n",
    "model.add(Dense(30, activation='relu'))\n",
    "model.add(Dense(1, activation='linear'))\n",
    "model.summary()"
   ]
  },
  {
   "cell_type": "code",
   "execution_count": 42,
   "id": "8179977a",
   "metadata": {},
   "outputs": [
    {
     "name": "stdout",
     "output_type": "stream",
     "text": [
      "Epoch 1/30\n",
      "1/1 [==============================] - 0s 243ms/step - loss: nan - mse: nan - mae: nan\n",
      "Epoch 2/30\n",
      "1/1 [==============================] - 0s 2ms/step - loss: nan - mse: nan - mae: nan\n",
      "Epoch 3/30\n",
      "1/1 [==============================] - 0s 2ms/step - loss: nan - mse: nan - mae: nan\n",
      "Epoch 4/30\n",
      "1/1 [==============================] - 0s 2ms/step - loss: nan - mse: nan - mae: nan\n",
      "Epoch 5/30\n",
      "1/1 [==============================] - 0s 2ms/step - loss: nan - mse: nan - mae: nan\n",
      "Epoch 6/30\n",
      "1/1 [==============================] - 0s 2ms/step - loss: nan - mse: nan - mae: nan\n",
      "Epoch 7/30\n",
      "1/1 [==============================] - 0s 2ms/step - loss: nan - mse: nan - mae: nan\n",
      "Epoch 8/30\n",
      "1/1 [==============================] - 0s 2ms/step - loss: nan - mse: nan - mae: nan\n",
      "Epoch 9/30\n",
      "1/1 [==============================] - 0s 2ms/step - loss: nan - mse: nan - mae: nan\n",
      "Epoch 10/30\n",
      "1/1 [==============================] - 0s 2ms/step - loss: nan - mse: nan - mae: nan\n",
      "Epoch 11/30\n",
      "1/1 [==============================] - 0s 2ms/step - loss: nan - mse: nan - mae: nan\n",
      "Epoch 12/30\n",
      "1/1 [==============================] - 0s 2ms/step - loss: nan - mse: nan - mae: nan\n",
      "Epoch 13/30\n",
      "1/1 [==============================] - 0s 2ms/step - loss: nan - mse: nan - mae: nan\n",
      "Epoch 14/30\n",
      "1/1 [==============================] - 0s 2ms/step - loss: nan - mse: nan - mae: nan\n",
      "Epoch 15/30\n",
      "1/1 [==============================] - 0s 2ms/step - loss: nan - mse: nan - mae: nan\n",
      "Epoch 16/30\n",
      "1/1 [==============================] - 0s 2ms/step - loss: nan - mse: nan - mae: nan\n",
      "Epoch 17/30\n",
      "1/1 [==============================] - 0s 2ms/step - loss: nan - mse: nan - mae: nan\n",
      "Epoch 18/30\n",
      "1/1 [==============================] - 0s 2ms/step - loss: nan - mse: nan - mae: nan\n",
      "Epoch 19/30\n",
      "1/1 [==============================] - 0s 2ms/step - loss: nan - mse: nan - mae: nan\n",
      "Epoch 20/30\n",
      "1/1 [==============================] - 0s 2ms/step - loss: nan - mse: nan - mae: nan\n",
      "Epoch 21/30\n",
      "1/1 [==============================] - 0s 2ms/step - loss: nan - mse: nan - mae: nan\n",
      "Epoch 22/30\n",
      "1/1 [==============================] - 0s 3ms/step - loss: nan - mse: nan - mae: nan\n",
      "Epoch 23/30\n",
      "1/1 [==============================] - 0s 2ms/step - loss: nan - mse: nan - mae: nan\n",
      "Epoch 24/30\n",
      "1/1 [==============================] - 0s 2ms/step - loss: nan - mse: nan - mae: nan\n",
      "Epoch 25/30\n",
      "1/1 [==============================] - 0s 2ms/step - loss: nan - mse: nan - mae: nan\n",
      "Epoch 26/30\n",
      "1/1 [==============================] - 0s 2ms/step - loss: nan - mse: nan - mae: nan\n",
      "Epoch 27/30\n",
      "1/1 [==============================] - 0s 2ms/step - loss: nan - mse: nan - mae: nan\n",
      "Epoch 28/30\n",
      "1/1 [==============================] - 0s 2ms/step - loss: nan - mse: nan - mae: nan\n",
      "Epoch 29/30\n",
      "1/1 [==============================] - 0s 2ms/step - loss: nan - mse: nan - mae: nan\n",
      "Epoch 30/30\n",
      "1/1 [==============================] - 0s 2ms/step - loss: nan - mse: nan - mae: nan\n"
     ]
    }
   ],
   "source": [
    "model.compile(loss='mse', optimizer='adam', metrics=['mse','mae'])\n",
    "history=model.fit(xtrain_scale, ytrain_scale, epochs=30, batch_size=150, verbose=1, validation_split=0.2)\n",
    "predictions = model.predict(xtest_scale)"
   ]
  },
  {
   "cell_type": "code",
   "execution_count": 43,
   "id": "0dba466f",
   "metadata": {},
   "outputs": [
    {
     "name": "stdout",
     "output_type": "stream",
     "text": [
      "dict_keys(['loss', 'mse', 'mae'])\n"
     ]
    },
    {
     "ename": "KeyError",
     "evalue": "'val_loss'",
     "output_type": "error",
     "traceback": [
      "\u001b[0;31m---------------------------------------------------------------------------\u001b[0m",
      "\u001b[0;31mKeyError\u001b[0m                                  Traceback (most recent call last)",
      "\u001b[0;32m/var/folders/x1/pp5jk4sn3_zdcrh5m5trxj_r0000gp/T/ipykernel_3915/1959819140.py\u001b[0m in \u001b[0;36m<module>\u001b[0;34m\u001b[0m\n\u001b[1;32m      2\u001b[0m \u001b[0;31m# \"Loss\"\u001b[0m\u001b[0;34m\u001b[0m\u001b[0;34m\u001b[0m\u001b[0m\n\u001b[1;32m      3\u001b[0m \u001b[0mplt\u001b[0m\u001b[0;34m.\u001b[0m\u001b[0mplot\u001b[0m\u001b[0;34m(\u001b[0m\u001b[0mhistory\u001b[0m\u001b[0;34m.\u001b[0m\u001b[0mhistory\u001b[0m\u001b[0;34m[\u001b[0m\u001b[0;34m'loss'\u001b[0m\u001b[0;34m]\u001b[0m\u001b[0;34m)\u001b[0m\u001b[0;34m\u001b[0m\u001b[0;34m\u001b[0m\u001b[0m\n\u001b[0;32m----> 4\u001b[0;31m \u001b[0mplt\u001b[0m\u001b[0;34m.\u001b[0m\u001b[0mplot\u001b[0m\u001b[0;34m(\u001b[0m\u001b[0mhistory\u001b[0m\u001b[0;34m.\u001b[0m\u001b[0mhistory\u001b[0m\u001b[0;34m[\u001b[0m\u001b[0;34m'val_loss'\u001b[0m\u001b[0;34m]\u001b[0m\u001b[0;34m)\u001b[0m\u001b[0;34m\u001b[0m\u001b[0;34m\u001b[0m\u001b[0m\n\u001b[0m\u001b[1;32m      5\u001b[0m \u001b[0mplt\u001b[0m\u001b[0;34m.\u001b[0m\u001b[0mtitle\u001b[0m\u001b[0;34m(\u001b[0m\u001b[0;34m'model loss'\u001b[0m\u001b[0;34m)\u001b[0m\u001b[0;34m\u001b[0m\u001b[0;34m\u001b[0m\u001b[0m\n\u001b[1;32m      6\u001b[0m \u001b[0mplt\u001b[0m\u001b[0;34m.\u001b[0m\u001b[0mylabel\u001b[0m\u001b[0;34m(\u001b[0m\u001b[0;34m'loss'\u001b[0m\u001b[0;34m)\u001b[0m\u001b[0;34m\u001b[0m\u001b[0;34m\u001b[0m\u001b[0m\n",
      "\u001b[0;31mKeyError\u001b[0m: 'val_loss'"
     ]
    },
    {
     "data": {
      "image/png": "[encoded data removed]",
      "text/plain": [
       "<Figure size 432x288 with 1 Axes>"
      ]
     },
     "metadata": {
      "needs_background": "light"
     },
     "output_type": "display_data"
    }
   ],
   "source": [
    "print(history.history.keys())\n",
    "# \"Loss\"\n",
    "plt.plot(history.history['loss'])\n",
    "plt.plot(history.history['val_loss'])\n",
    "plt.title('model loss')\n",
    "plt.ylabel('loss')\n",
    "plt.xlabel('epoch')\n",
    "plt.legend(['train', 'validation'], loc='upper left')\n",
    "plt.show()"
   ]
  },
  {
   "cell_type": "code",
   "execution_count": 44,
   "id": "2a136d8c",
   "metadata": {},
   "outputs": [
    {
     "data": {
      "text/plain": [
       "array([[nan],\n",
       "       [nan],\n",
       "       [nan],\n",
       "       [nan],\n",
       "       [nan],\n",
       "       [nan],\n",
       "       [nan]], dtype=float32)"
      ]
     },
     "execution_count": 44,
     "metadata": {},
     "output_type": "execute_result"
    }
   ],
   "source": [
    "predictions = scaler_y.inverse_transform(predictions)\n",
    "predictions"
   ]
  },
  {
   "cell_type": "code",
   "execution_count": null,
   "id": "f3295184",
   "metadata": {},
   "outputs": [],
   "source": []
  }
 ],
 "metadata": {
  "kernelspec": {
   "display_name": "Python 3 (ipykernel)",
   "language": "python",
   "name": "python3"
  },
  "language_info": {
   "codemirror_mode": {
    "name": "ipython",
    "version": 3
   },
   "file_extension": ".py",
   "mimetype": "text/x-python",
   "name": "python",
   "nbconvert_exporter": "python",
   "pygments_lexer": "ipython3",
   "version": "3.9.7"
  },
  "toc": {
   "base_numbering": 1,
   "nav_menu": {},
   "number_sections": false,
   "sideBar": true,
   "skip_h1_title": false,
   "title_cell": "Table of Contents",
   "title_sidebar": "Contents",
   "toc_cell": false,
   "toc_position": {
    "height": "calc(100% - 180px)",
    "left": "10px",
    "top": "150px",
    "width": "384px"
   },
   "toc_section_display": true,
   "toc_window_display": true
  }
 },
 "nbformat": 4,
 "nbformat_minor": 5
}
