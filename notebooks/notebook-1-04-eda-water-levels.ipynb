{
 "cells": [
  {
   "cell_type": "markdown",
   "id": "f10f1dea",
   "metadata": {},
   "source": [
    "<style>\n",
    "*\n",
    "{\n",
    "\ttext-align: justify;\n",
    "\tline-height: 1.5;\n",
    "\tfont-family: \"Arial\", sans-serif;\n",
    "\tfont-size: 12px;\n",
    "}\n",
    "\n",
    "h2, h3, h4, h5, h6\n",
    "{\n",
    "\tfont-family: \"Arial\", sans-serif;\n",
    "\tfont-size: 12px;\n",
    "\tfont-weight: bold;\n",
    "}\n",
    "h2\n",
    "{\n",
    "\tfont-size: 14px;\n",
    "}\n",
    "h1\n",
    "{\n",
    "\tfont-family: \"Wingdings\", sans-serif;\n",
    "\tfont-size: 16px;\n",
    "}\n",
    "</style>"
   ]
  },
  {
   "cell_type": "markdown",
   "id": "bc595d50",
   "metadata": {},
   "source": [
    "## EDA of Water Levels"
   ]
  },
  {
   "cell_type": "markdown",
   "id": "7a5bb8dc",
   "metadata": {},
   "source": [
    "<!--\n",
    "import data_analytics.github as github\n",
    "print(github.create_jupyter_notebook_header(\"markcrowe-com\", \"data-analytics-project-template\",\n",
    "                                            \"notebooks/notebook-1-04-eda-water-levels.ipynb\"))\n",
    "-->\n",
    "<table style=\"margin: auto;\"><tr><td><a href=\"https://mybinder.org/v2/gh/markcrowe-com/data-analytics-project-template/master?filepath=notebooks/notebook-1-04-eda-water-levels.ipynb\" target=\"_parent\"><img src=\"https://mybinder.org/badge_logo.svg\" alt=\"Open In Binder\"/></a></td><td>online editors</td><td><a href=\"https://colab.research.google.com/github/markcrowe-com/data-analytics-project-template/blob/master/notebooks/notebook-1-04-eda-water-levels.ipynb\" target=\"_parent\"><img src=\"https://colab.research.google.com/assets/colab-badge.svg\" alt=\"Open In Colab\"/></a></td></tr></table>"
   ]
  },
  {
   "cell_type": "markdown",
   "id": "1caa871c",
   "metadata": {},
   "source": [
    "### Objective\n",
    "The objective is to provide an Exploratory Data Analysis (EDA) of the water levels data files. The EDA is performed to investigate and clean the data, to spot anomalies.  \n",
    "### Setup\n",
    "Import required third party Python libraries, import supporting functions and sets up data source file paths."
   ]
  },
  {
   "cell_type": "code",
   "execution_count": 1,
   "id": "5b6683cf",
   "metadata": {},
   "outputs": [],
   "source": [
    "# Local\n",
    "#!pip install -r script/requirements.txt --quiet\n",
    "# Remote option\n",
    "#!pip install -r https://github.com/tahirawwad/agriculture-data-analytics/blob/master/notebooks/script/requirements.txt --quiet"
   ]
  },
  {
   "cell_type": "code",
   "execution_count": 2,
   "id": "56370af1",
   "metadata": {},
   "outputs": [],
   "source": [
    "from population_planning.dataframe_labels import *\n",
    "from population_planning.project_manager import ProjectArtifactManager, ProjectAssetManager\n",
    "import data_analytics.github as github\n",
    "import data_analytics.exploratory_data_analysis_reports as eda_reports\n",
    "import os\n",
    "import pandas"
   ]
  },
  {
   "cell_type": "code",
   "execution_count": 3,
   "id": "4d846147",
   "metadata": {},
   "outputs": [
    {
     "data": {
      "text/html": [
       "<strong>Data Sources</strong>"
      ],
      "text/plain": [
       "<IPython.core.display.HTML object>"
      ]
     },
     "metadata": {},
     "output_type": "display_data"
    },
    {
     "data": {
      "text/html": [
       "<p>Data Sources available at</p>"
      ],
      "text/plain": [
       "<IPython.core.display.HTML object>"
      ]
     },
     "metadata": {},
     "output_type": "display_data"
    },
    {
     "name": "stdout",
     "output_type": "stream",
     "text": [
      "https://github.com/markcrowe-com/population-planning-data-analytics/blob/master/assets/2021-12Dec-11-population-estimates-1950-2021-pea01.csv?raw=true\n"
     ]
    }
   ],
   "source": [
    "artifact_manager = ProjectArtifactManager()\n",
    "asset_manager = ProjectAssetManager()\n",
    "artifact_manager.is_remote = asset_manager.is_remote = True\n",
    "github.display_jupyter_notebook_data_sources([asset_manager.get_population_estimates_filepath()])\n",
    "artifact_manager.is_remote = asset_manager.is_remote = False"
   ]
  },
  {
   "cell_type": "markdown",
   "id": "123516fd",
   "metadata": {},
   "source": [
    "### Working with population estimates CSV file\n",
    "#### Create Data Frames"
   ]
  },
  {
   "cell_type": "code",
   "execution_count": null,
   "id": "e62f7770",
   "metadata": {},
   "outputs": [],
   "source": [
    "filepath = \"./../assets/epa-groundwater-monitoring-data-to-end-2020-circulation-26.05.21.xlsx\"\n",
    "\n",
    "excelWorkbook = pandas.ExcelFile(filepath)\n",
    "worksheet_name = 'Data'\n",
    "ground_water_dataframe = excelWorkbook.parse(worksheet_name);"
   ]
  },
  {
   "cell_type": "code",
   "execution_count": null,
   "id": "d0d6d62d",
   "metadata": {},
   "outputs": [],
   "source": [
    "import re as RegularExpression\n",
    "def camel_to_snakecase(name: str) -> str:\n",
    "    \"\"\"\n",
    "    Convert CamelCase to snake_case\n",
    "    :param name: string\n",
    "    :return: snake_case string\n",
    "    \"\"\"\n",
    "    name = RegularExpression.sub('(.)([A-Z][a-z]+)', r'\\1_\\2', name)\n",
    "    return RegularExpression.sub('([a-z0-9])([A-Z])', r'\\1_\\2', name).lower()\n",
    "\n",
    "def english_to_snakecase(name: str) -> str:\n",
    "    \"\"\"\n",
    "    Convert CamelCase to snake_case\n",
    "    :param name: string\n",
    "    :return: snake_case string\n",
    "    \"\"\"\n",
    "    return name.lower().replace(\" \", \"-\")\n",
    "\n",
    "english_to_snakecase(\"EPA Groundwater Monitoring Data to End 2020 Circulation 26.05.21\")"
   ]
  },
  {
   "cell_type": "markdown",
   "id": "46b999db",
   "metadata": {},
   "source": [
    "#### Renaming Columns"
   ]
  },
  {
   "cell_type": "code",
   "execution_count": null,
   "id": "e0535d40",
   "metadata": {},
   "outputs": [],
   "source": [
    "# rename the columns\n",
    "old_to_new_column_names_dictionary = {\n",
    "                                      \"Age Group\" : AGE,\n",
    "                                      \"VALUE\" : POPULATION\n",
    "                                     }\n",
    "#ground_water_dataframe = ground_water_dataframe.rename(columns = old_to_new_column_names_dictionary)\n",
    "#ground_water_dataframe.head(0)"
   ]
  },
  {
   "cell_type": "markdown",
   "id": "e1c59e56",
   "metadata": {},
   "source": [
    "### Data Type Analysis Quick View\n",
    "Print an analysis report of each dataset.  \n",
    "- Show the top five rows of the data frame as a quick sample.\n",
    "- Show the data types of each column.\n",
    "- Report the count of any duplicate rows.\n",
    "- Report the counts of any missing values."
   ]
  },
  {
   "cell_type": "code",
   "execution_count": null,
   "id": "b24f3ea5",
   "metadata": {},
   "outputs": [],
   "source": [
    "filename = os.path.basename(filepath)\n",
    "eda_reports.print_dataframe_analysis_report(ground_water_dataframe, filename)"
   ]
  },
  {
   "cell_type": "markdown",
   "id": "74be102e",
   "metadata": {},
   "source": [
    "### Save Artifact\n",
    "Saving the output of the notebook."
   ]
  },
  {
   "cell_type": "code",
   "execution_count": null,
   "id": "a86813a1",
   "metadata": {},
   "outputs": [],
   "source": [
    "#population_dataframe.to_csv(\"./../artifacts/water-levels-cleaned.csv\", index=None)"
   ]
  },
  {
   "cell_type": "markdown",
   "id": "4ddde460",
   "metadata": {},
   "source": [
    "Author &copy; 2021 <a href=\"https://github.com/markcrowe-com\" target=\"_parent\">Mark Crowe</a>. All rights reserved."
   ]
  }
 ],
 "metadata": {
  "kernelspec": {
   "display_name": "Python 3 (ipykernel)",
   "language": "python",
   "name": "python3"
  },
  "language_info": {
   "codemirror_mode": {
    "name": "ipython",
    "version": 3
   },
   "file_extension": ".py",
   "mimetype": "text/x-python",
   "name": "python",
   "nbconvert_exporter": "python",
   "pygments_lexer": "ipython3",
   "version": "3.8.12"
  }
 },
 "nbformat": 4,
 "nbformat_minor": 5
}
