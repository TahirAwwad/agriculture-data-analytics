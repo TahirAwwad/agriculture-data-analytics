{
 "cells": [
  {
   "cell_type": "markdown",
   "id": "9082566a",
   "metadata": {},
   "source": [
    "## Fetch the proposed datasets understudy"
   ]
  },
  {
   "cell_type": "markdown",
   "id": "b70c3176",
   "metadata": {},
   "source": [
    "<!--\n",
    "import data_analytics.github as github\n",
    "print(github.create_jupyter_notebook_header(\"markcrowe-com\", \"agriculture-data-analytics\", \"notebooks/notebook-1-01-api-data-collection.ipynb\", \"master\"))\n",
    "-->\n",
    "<table style=\"margin: auto;\"><tr><td><a href=\"https://mybinder.org/v2/gh/markcrowe-com/agriculture-data-analytics/master?filepath=notebooks/notebook-1-01-api-data-collection.ipynb\" target=\"_parent\"><img src=\"https://mybinder.org/badge_logo.svg\" alt=\"Open In Binder\"/></a></td><td>online editors</td><td><a href=\"https://colab.research.google.com/github/markcrowe-com/agriculture-data-analytics/blob/master/notebooks/notebook-1-01-api-data-collection.ipynb\" target=\"_parent\"><img src=\"https://colab.research.google.com/assets/colab-badge.svg\" alt=\"Open In Colab\"/></a></td></tr></table>"
   ]
  },
  {
   "cell_type": "markdown",
   "id": "c192831e",
   "metadata": {},
   "source": [
    "### Setup"
   ]
  },
  {
   "cell_type": "markdown",
   "id": "97f765e1",
   "metadata": {},
   "source": [
    "Import required third party Python libraries, import supporting functions and sets up data source file paths."
   ]
  },
  {
   "cell_type": "code",
   "execution_count": 1,
   "id": "cb7c2543",
   "metadata": {},
   "outputs": [],
   "source": [
    "# Local\n",
    "#!pip install -r script/requirements.txt --quiet\n",
    "# Remote option\n",
    "#!pip install -r https://github.com/markcrowe-com/agriculture-data-analytics/blob/master/notebooks/script/requirements.txt --quiet"
   ]
  },
  {
   "cell_type": "code",
   "execution_count": 2,
   "id": "0ca15e5d",
   "metadata": {},
   "outputs": [],
   "source": [
    "from pandas import DataFrame\n",
    "import eurostat\n",
    "import io\n",
    "import pandas\n",
    "import requests"
   ]
  },
  {
   "cell_type": "code",
   "execution_count": 3,
   "id": "80181916",
   "metadata": {
    "scrolled": true
   },
   "outputs": [],
   "source": [
    "def download_cso_table_data(table_code: str,\n",
    "                            file_type: str = \"CSV\",\n",
    "                            version: str = \"1.0\") -> str:\n",
    "    BASE_URL = \"https://ws.cso.ie/public/api.jsonrpc\"\n",
    "    JSON_DATA = f'{{\"jsonrpc\":\"2.0\",\"method\":\"PxStat.Data.Cube_API.ReadDataset\",\"params\":{{\"class\":\"query\",\"id\":[],\"dimension\":{{}},\"extension\":{{\"pivot\":null,\"codes\":false,\"language\":{{\"code\":\"en\"}},\"format\":{{\"type\":\"{file_type}\",\"version\":\"{version}\"}},\"matrix\":\"{table_code}\"}},\"version\":\"2.0\"}}}}'\n",
    "\n",
    "    url = f\"{BASE_URL}?data={JSON_DATA}\"\n",
    "    response_json_rpc = requests.get(url).json()\n",
    "    print(f\"Downloaded https://data.cso.ie/table/{table_code}\")\n",
    "    return response_json_rpc['result']\n",
    "\n",
    "\n",
    "def download_cso_table_dataframe(table_code: str) -> str:\n",
    "    return pandas.read_csv(io.StringIO(download_cso_table_data(table_code)),\n",
    "                           sep=\",\")"
   ]
  },
  {
   "cell_type": "markdown",
   "id": "8295c720",
   "metadata": {},
   "source": [
    "### Source 1: Eurostat data"
   ]
  },
  {
   "cell_type": "markdown",
   "id": "56be50f9",
   "metadata": {},
   "source": [
    "- Agriculture price indecies of product"
   ]
  },
  {
   "cell_type": "markdown",
   "id": "e86dacf3",
   "metadata": {},
   "source": [
    "#### 2015 base year of Product Prices"
   ]
  },
  {
   "cell_type": "code",
   "execution_count": 4,
   "id": "cd7231f0",
   "metadata": {},
   "outputs": [
    {
     "data": {
      "text/html": [
       "<div>\n",
       "<style scoped>\n",
       "    .dataframe tbody tr th:only-of-type {\n",
       "        vertical-align: middle;\n",
       "    }\n",
       "\n",
       "    .dataframe tbody tr th {\n",
       "        vertical-align: top;\n",
       "    }\n",
       "\n",
       "    .dataframe thead th {\n",
       "        text-align: right;\n",
       "    }\n",
       "</style>\n",
       "<table border=\"1\" class=\"dataframe\">\n",
       "  <thead>\n",
       "    <tr style=\"text-align: right;\">\n",
       "      <th></th>\n",
       "      <th>p_adj</th>\n",
       "      <th>unit</th>\n",
       "      <th>geotime</th>\n",
       "      <th>product</th>\n",
       "      <th>year</th>\n",
       "      <th>priceIDX</th>\n",
       "    </tr>\n",
       "  </thead>\n",
       "  <tbody>\n",
       "    <tr>\n",
       "      <th>27486</th>\n",
       "      <td>NI</td>\n",
       "      <td>I15</td>\n",
       "      <td>HU</td>\n",
       "      <td>015000</td>\n",
       "      <td>2018</td>\n",
       "      <td>107.00</td>\n",
       "    </tr>\n",
       "    <tr>\n",
       "      <th>4311</th>\n",
       "      <td>NI</td>\n",
       "      <td>PCH_PRE</td>\n",
       "      <td>IT</td>\n",
       "      <td>120000</td>\n",
       "      <td>2021</td>\n",
       "      <td>-0.65</td>\n",
       "    </tr>\n",
       "    <tr>\n",
       "      <th>58803</th>\n",
       "      <td>NI</td>\n",
       "      <td>PCH_PRE</td>\n",
       "      <td>DE</td>\n",
       "      <td>120000</td>\n",
       "      <td>2015</td>\n",
       "      <td>NaN</td>\n",
       "    </tr>\n",
       "    <tr>\n",
       "      <th>50865</th>\n",
       "      <td>RI</td>\n",
       "      <td>I15</td>\n",
       "      <td>SK</td>\n",
       "      <td>041960</td>\n",
       "      <td>2016</td>\n",
       "      <td>123.11</td>\n",
       "    </tr>\n",
       "    <tr>\n",
       "      <th>59150</th>\n",
       "      <td>RI</td>\n",
       "      <td>I15</td>\n",
       "      <td>DK</td>\n",
       "      <td>012000</td>\n",
       "      <td>2015</td>\n",
       "      <td>100.00</td>\n",
       "    </tr>\n",
       "  </tbody>\n",
       "</table>\n",
       "</div>"
      ],
      "text/plain": [
       "      p_adj     unit geotime product  year  priceIDX\n",
       "27486    NI      I15      HU  015000  2018    107.00\n",
       "4311     NI  PCH_PRE      IT  120000  2021     -0.65\n",
       "58803    NI  PCH_PRE      DE  120000  2015       NaN\n",
       "50865    RI      I15      SK  041960  2016    123.11\n",
       "59150    RI      I15      DK  012000  2015    100.00"
      ]
     },
     "execution_count": 4,
     "metadata": {},
     "output_type": "execute_result"
    }
   ],
   "source": [
    "# price indecies of product 2015 base year\n",
    "price_idx_products_annual_code = 'apri_pi15_outa'\n",
    "\n",
    "price_idx_products_annual_dataframe = eurostat.get_data_df(\n",
    "    price_idx_products_annual_code, flags=False)\n",
    "\n",
    "# rename column\n",
    "price_idx_products_annual2015_dataframe = price_idx_products_annual_dataframe.rename(\n",
    "    columns={price_idx_products_annual_dataframe.columns[3]: 'geotime'})\n",
    "\n",
    "# transform years columns to a Series\n",
    "price_idx_products_annual2015_dataframe = price_idx_products_annual2015_dataframe.melt(\n",
    "    id_vars=[\"p_adj\", \"unit\", \"geotime\", \"product\"],\n",
    "    var_name=\"year\",\n",
    "    value_name=\"priceIDX\")\n",
    "price_idx_products_annual2015_dataframe.sample(5)"
   ]
  },
  {
   "cell_type": "markdown",
   "id": "6a84b897",
   "metadata": {},
   "source": [
    "#### 2010 base year of Product Prices"
   ]
  },
  {
   "cell_type": "code",
   "execution_count": 5,
   "id": "2d9a20ca",
   "metadata": {},
   "outputs": [],
   "source": [
    "# price indecies of product 2010 base year\n",
    "price_idx_products_annual2010_code = 'apri_pi10_outa'\n",
    "price_idx_products_annual2010_dataframe = eurostat.get_data_df(\n",
    "    price_idx_products_annual2010_code, flags=False)\n",
    "\n",
    "price_idx_products_annual2010_dataframe = price_idx_products_annual2010_dataframe.rename(\n",
    "    columns={price_idx_products_annual2010_dataframe.columns[3]: 'geotime'})\n",
    "\n",
    "# transform years columns to a Series\n",
    "price_idx_products_annual2010_dataframe = price_idx_products_annual2010_dataframe.melt(\n",
    "    id_vars=[\"p_adj\", \"unit\", \"geotime\", \"product\"],\n",
    "    var_name=\"year\",\n",
    "    value_name=\"priceIDX\")\n",
    "\n",
    "price_idx_products_annual2010_dataframe.to_csv(\n",
    "    './../assets/TA_priceIDX_2000_2017_eurostat.csv')"
   ]
  },
  {
   "cell_type": "markdown",
   "id": "df3f5365",
   "metadata": {},
   "source": [
    "### Download CSO Data sources"
   ]
  },
  {
   "cell_type": "code",
   "execution_count": 6,
   "id": "08893c15",
   "metadata": {},
   "outputs": [],
   "source": [
    "filepath = './../artifacts/asset-link-builder.xlsx'\n",
    "\n",
    "excelWorkbook = pandas.ExcelFile(filepath)\n",
    "\n",
    "cso_datasources_dataframe: DataFrame = excelWorkbook.parse('CSO Tables')\n",
    "excelWorkbook.close()"
   ]
  },
  {
   "cell_type": "code",
   "execution_count": 7,
   "id": "53dd2328",
   "metadata": {},
   "outputs": [
    {
     "data": {
      "text/html": [
       "<div>\n",
       "<style scoped>\n",
       "    .dataframe tbody tr th:only-of-type {\n",
       "        vertical-align: middle;\n",
       "    }\n",
       "\n",
       "    .dataframe tbody tr th {\n",
       "        vertical-align: top;\n",
       "    }\n",
       "\n",
       "    .dataframe thead th {\n",
       "        text-align: right;\n",
       "    }\n",
       "</style>\n",
       "<table border=\"1\" class=\"dataframe\">\n",
       "  <thead>\n",
       "    <tr style=\"text-align: right;\">\n",
       "      <th></th>\n",
       "      <th>Code</th>\n",
       "      <th>Title</th>\n",
       "    </tr>\n",
       "  </thead>\n",
       "  <tbody>\n",
       "    <tr>\n",
       "      <th>2</th>\n",
       "      <td>AEA01</td>\n",
       "      <td>Value at Current Prices for Output, Input and ...</td>\n",
       "    </tr>\n",
       "    <tr>\n",
       "      <th>3</th>\n",
       "      <td>AEA05</td>\n",
       "      <td>Value at Current Prices for Subsidies on Products</td>\n",
       "    </tr>\n",
       "    <tr>\n",
       "      <th>4</th>\n",
       "      <td>AHA01</td>\n",
       "      <td>Agricultural Input and Output Price Indices</td>\n",
       "    </tr>\n",
       "    <tr>\n",
       "      <th>5</th>\n",
       "      <td>AHA03</td>\n",
       "      <td>Agricultural Input and Output Price Indices</td>\n",
       "    </tr>\n",
       "    <tr>\n",
       "      <th>6</th>\n",
       "      <td>AHA04</td>\n",
       "      <td>Agricultural Input and Output Price Indices</td>\n",
       "    </tr>\n",
       "    <tr>\n",
       "      <th>10</th>\n",
       "      <td>AQA03</td>\n",
       "      <td>Crop Yield 1985-2007</td>\n",
       "    </tr>\n",
       "    <tr>\n",
       "      <th>11</th>\n",
       "      <td>AQA04</td>\n",
       "      <td>Crop Yield and Production</td>\n",
       "    </tr>\n",
       "    <tr>\n",
       "      <th>16</th>\n",
       "      <td>DAA01</td>\n",
       "      <td>Bovine Tuberculosis</td>\n",
       "    </tr>\n",
       "    <tr>\n",
       "      <th>19</th>\n",
       "      <td>TSA04</td>\n",
       "      <td>Exports of Cattle and Beef 1930-2020</td>\n",
       "    </tr>\n",
       "  </tbody>\n",
       "</table>\n",
       "</div>"
      ],
      "text/plain": [
       "     Code                                              Title\n",
       "2   AEA01  Value at Current Prices for Output, Input and ...\n",
       "3   AEA05  Value at Current Prices for Subsidies on Products\n",
       "4   AHA01        Agricultural Input and Output Price Indices\n",
       "5   AHA03        Agricultural Input and Output Price Indices\n",
       "6   AHA04        Agricultural Input and Output Price Indices\n",
       "10  AQA03                               Crop Yield 1985-2007\n",
       "11  AQA04                          Crop Yield and Production\n",
       "16  DAA01                                Bovine Tuberculosis\n",
       "19  TSA04               Exports of Cattle and Beef 1930-2020"
      ]
     },
     "execution_count": 7,
     "metadata": {},
     "output_type": "execute_result"
    }
   ],
   "source": [
    "cso_datasources_dataframe = cso_datasources_dataframe[cso_datasources_dataframe['Download Date'] == '2022-01-19']\n",
    "cso_datasources_dataframe[['Code', 'Title']]"
   ]
  },
  {
   "cell_type": "code",
   "execution_count": 8,
   "id": "dc26c642",
   "metadata": {},
   "outputs": [
    {
     "name": "stdout",
     "output_type": "stream",
     "text": [
      "Get AEA01 Value at Current Prices for Output, Input and Income in Agriculture\n",
      "Downloaded https://data.cso.ie/table/AEA01\n",
      "./../assets/cso-aea01-value-at-current-prices-for-output-input-and-income-in-agriculture.csv\n",
      "Get AEA05 Value at Current Prices for Subsidies on Products\n",
      "Downloaded https://data.cso.ie/table/AEA05\n",
      "./../assets/cso-aea05-value-at-current-prices-for-subsidies-on-products.csv\n",
      "Get AHA01 Agricultural Input and Output Price Indices\n",
      "Downloaded https://data.cso.ie/table/AHA01\n",
      "./../assets/cso-aha01-agricultural-input-and-output-price-indices.csv\n",
      "Get AHA03 Agricultural Input and Output Price Indices\n",
      "Downloaded https://data.cso.ie/table/AHA03\n",
      "./../assets/cso-aha03-agricultural-input-and-output-price-indices.csv\n",
      "Get AHA04 Agricultural Input and Output Price Indices\n",
      "Downloaded https://data.cso.ie/table/AHA04\n",
      "./../assets/cso-aha04-agricultural-input-and-output-price-indices.csv\n",
      "Get AQA03 Crop Yield 1985-2007\n",
      "Downloaded https://data.cso.ie/table/AQA03\n",
      "./../assets/cso-aqa03-crop-yield-1985-2007.csv\n",
      "Get AQA04 Crop Yield and Production\n",
      "Downloaded https://data.cso.ie/table/AQA04\n",
      "./../assets/cso-aqa04-crop-yield-and-production.csv\n",
      "Get DAA01 Bovine Tuberculosis\n",
      "Downloaded https://data.cso.ie/table/DAA01\n",
      "./../assets/cso-daa01-bovine-tuberculosis.csv\n",
      "Get TSA04 Exports of Cattle and Beef 1930-2020\n",
      "Downloaded https://data.cso.ie/table/TSA04\n",
      "./../assets/cso-tsa04-exports-of-cattle-and-beef-1930-2020.csv\n"
     ]
    }
   ],
   "source": [
    "for _, cso_datasource in cso_datasources_dataframe.iterrows():\n",
    "    print(\"Get\", cso_datasource['Code'], cso_datasource['Title'])\n",
    "    dataframe = download_cso_table_dataframe(cso_datasource['Code'])\n",
    "    filepath: str = f\"./../assets/{cso_datasource['Filename']}\"\n",
    "    dataframe.to_csv(filepath)\n",
    "    print(filepath)"
   ]
  },
  {
   "cell_type": "markdown",
   "id": "6f79af3d",
   "metadata": {},
   "source": [
    "### Normalize CSO Data sources"
   ]
  },
  {
   "cell_type": "markdown",
   "id": "2676cd25",
   "metadata": {},
   "source": [
    "#### AEA01 Value at Current Prices for Output, Input and Income in Agriculture"
   ]
  },
  {
   "cell_type": "code",
   "execution_count": 9,
   "id": "b9e669ec",
   "metadata": {},
   "outputs": [],
   "source": [
    "filepath: str = './../assets/cso-aea01-value-at-current-prices-for-output-input-and-income-in-agriculture.csv'\n",
    "prc_9021df = pandas.read_csv(filepath).pivot_table(columns=\"Statistic\",\n",
    "                                                   index=['Year', 'UNIT'],\n",
    "                                                   values='VALUE',\n",
    "                                                   dropna=True).reset_index()\n",
    "\n",
    "prc_9021df.to_csv('./../artifacts/TA_inputoutputvalue_1990_2021_CSO.csv')"
   ]
  },
  {
   "cell_type": "markdown",
   "id": "ebff3626",
   "metadata": {},
   "source": [
    "#### AEA05 Value at Current Prices for Subsidies on Products"
   ]
  },
  {
   "cell_type": "code",
   "execution_count": 10,
   "id": "01bc7047",
   "metadata": {},
   "outputs": [],
   "source": [
    "filepath: str = './../assets/cso-aea05-value-at-current-prices-for-subsidies-on-products.csv'\n",
    "\n",
    "subsidies_df = pandas.read_csv(filepath).pivot_table(\n",
    "    columns=\"Statistic\", index=['Year', 'UNIT'], values='VALUE',\n",
    "    dropna=True).reset_index()\n",
    "\n",
    "subsidies_df.to_csv('./../artifacts/TA_subsidies_1990_2020_CSO.csv')"
   ]
  },
  {
   "cell_type": "markdown",
   "id": "0b593a00",
   "metadata": {},
   "source": [
    "#### AHA01 Agricultural Input and Output Price Indices"
   ]
  },
  {
   "cell_type": "code",
   "execution_count": 11,
   "id": "f5575a9d",
   "metadata": {},
   "outputs": [],
   "source": [
    "filepath: str = './../assets/cso-aha01-agricultural-input-and-output-price-indices.csv'\n",
    "\n",
    "prc_idx_9510_df = pandas.read_csv(filepath).pivot_table(\n",
    "    columns=\"Agricultural Product\",\n",
    "    index=['Year', 'UNIT'],\n",
    "    values='VALUE',\n",
    "    dropna=True).reset_index()\n",
    "\n",
    "prc_idx_9510_df.to_csv(\n",
    "    './../artifacts/TA_inputoutputpriceIDX_1995_2010_CSO.csv')"
   ]
  },
  {
   "cell_type": "markdown",
   "id": "febbc669",
   "metadata": {},
   "source": [
    "#### AHA03 Agricultural Input and Output Price Indices"
   ]
  },
  {
   "cell_type": "code",
   "execution_count": 12,
   "id": "345dd060",
   "metadata": {},
   "outputs": [],
   "source": [
    "filepath: str = './../assets/cso-aha03-agricultural-input-and-output-price-indices.csv'\n",
    "\n",
    "prc_idx_0517_df = pandas.read_csv(filepath).pivot_table(\n",
    "    columns=\"Agricultural Product\",\n",
    "    index=['Year', 'UNIT'],\n",
    "    values='VALUE',\n",
    "    dropna=True).reset_index()\n",
    "\n",
    "prc_idx_0517_df.to_csv(\n",
    "    './../artifacts/TA_inputoutputpriceIDX_2005_2017_CSO.csv')"
   ]
  },
  {
   "cell_type": "markdown",
   "id": "f34224cd",
   "metadata": {},
   "source": [
    "#### AHA04 Agricultural Input and Output Price Indices (Base 2015=100)"
   ]
  },
  {
   "cell_type": "code",
   "execution_count": 13,
   "id": "355eb5a6",
   "metadata": {},
   "outputs": [],
   "source": [
    "filepath: str = './../assets/cso-aha04-agricultural-input-and-output-price-indices.csv'\n",
    "\n",
    "prc_idx_1420_df = pandas.read_csv(filepath).pivot_table(\n",
    "    columns=\"Agricultural Product\",\n",
    "    index=['Year', 'UNIT'],\n",
    "    values='VALUE',\n",
    "    dropna=True).reset_index()\n",
    "\n",
    "prc_idx_1420_df.to_csv(\n",
    "    './../artifacts/TA_inputoutputpriceIDX_2014_2020_CSO.csv')"
   ]
  },
  {
   "cell_type": "markdown",
   "id": "5419373e",
   "metadata": {},
   "source": [
    "#### AQA03 Crop Yield 1985-2007"
   ]
  },
  {
   "cell_type": "code",
   "execution_count": 14,
   "id": "3b928add",
   "metadata": {},
   "outputs": [],
   "source": [
    "filepath: str = './../assets/cso-aqa03-crop-yield-1985-2007.csv'\n",
    "\n",
    "crop_yield8507_df = pandas.read_csv(filepath).pivot_table(\n",
    "    columns=\"Statistic\",\n",
    "    index=['Year', 'Type of Crop', 'UNIT'],\n",
    "    values='VALUE',\n",
    "    dropna=True).reset_index()\n",
    "\n",
    "crop_yield8507_df.to_csv('./../artifacts/TA_cropyield_1985_2007_CSO.csv')"
   ]
  },
  {
   "cell_type": "markdown",
   "id": "fbf8a5c9",
   "metadata": {},
   "source": [
    "#### AQA04 Crop Yield and Production"
   ]
  },
  {
   "cell_type": "code",
   "execution_count": 15,
   "id": "b5630167",
   "metadata": {},
   "outputs": [],
   "source": [
    "filepath: str = './../assets/cso-aqa04-crop-yield-and-production.csv'\n",
    "\n",
    "crop_yield0820_df = pandas.read_csv(filepath).pivot_table(\n",
    "    columns=\"Statistic\",\n",
    "    index=['Year', 'Type of Crop', 'UNIT'],\n",
    "    values='VALUE',\n",
    "    dropna=True).reset_index().rename(\n",
    "        columns={\"Crop Production\": \"Crop Yield\"})\n",
    "\n",
    "crop_yield0820_df.to_csv('./../artifacts/TA_cropyield_2008_2020_CSO.csv')"
   ]
  },
  {
   "cell_type": "markdown",
   "id": "9a0ea66a",
   "metadata": {},
   "source": [
    "Join Crop Yields from 1985 to 2020 into 1 dataframe"
   ]
  },
  {
   "cell_type": "code",
   "execution_count": 16,
   "id": "e1ec9373",
   "metadata": {},
   "outputs": [],
   "source": [
    "# append crop yield from 1985 tp 2020\n",
    "crop_yield_ie_df = crop_yield8507_df.append(crop_yield0820_df)\n",
    "\n",
    "crop_yield_ie_df.to_csv('./../artifacts/TA_cropyield_1985_2020_CSO.csv')"
   ]
  }
 ],
 "metadata": {
  "kernelspec": {
   "display_name": "Python 3 (ipykernel)",
   "language": "python",
   "name": "python3"
  },
  "language_info": {
   "codemirror_mode": {
    "name": "ipython",
    "version": 3
   },
   "file_extension": ".py",
   "mimetype": "text/x-python",
   "name": "python",
   "nbconvert_exporter": "python",
   "pygments_lexer": "ipython3",
   "version": "3.8.12"
  },
  "toc": {
   "base_numbering": 1,
   "nav_menu": {},
   "number_sections": false,
   "sideBar": true,
   "skip_h1_title": false,
   "title_cell": "Table of Contents",
   "title_sidebar": "Contents",
   "toc_cell": false,
   "toc_position": {
    "height": "calc(100% - 180px)",
    "left": "10px",
    "top": "150px",
    "width": "384px"
   },
   "toc_section_display": true,
   "toc_window_display": true
  }
 },
 "nbformat": 4,
 "nbformat_minor": 5
}
