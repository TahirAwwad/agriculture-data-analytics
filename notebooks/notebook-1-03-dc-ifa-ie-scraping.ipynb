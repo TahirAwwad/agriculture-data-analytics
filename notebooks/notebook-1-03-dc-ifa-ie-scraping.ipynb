{
 "cells": [
  {
   "cell_type": "markdown",
   "id": "9082566a",
   "metadata": {},
   "source": [
    "## Parse Irish Farmers Association articles"
   ]
  },
  {
   "cell_type": "markdown",
   "id": "c7087a81",
   "metadata": {},
   "source": [
    "<!--\n",
    "import data_analytics.github as github\n",
    "print(github.create_jupyter_notebook_header(\"tahirawwad\", \"agriculture-data-analytics\", \"notebooks/notebook-1-03-dc-ifa-ie-scraping.ipynb\", \"master\"))\n",
    "-->\n",
    "<table style=\"margin: auto;\"><tr><td><a href=\"https://mybinder.org/v2/gh/tahirawwad/agriculture-data-analytics/master?filepath=notebooks/notebook-1-03-dc-ifa-ie-scraping.ipynb\" target=\"_parent\"><img src=\"https://mybinder.org/badge_logo.svg\" alt=\"Open In Binder\"/></a></td><td>online editors</td><td><a href=\"https://colab.research.google.com/github/tahirawwad/agriculture-data-analytics/blob/master/notebooks/notebook-1-03-dc-ifa-ie-scraping.ipynb\" target=\"_parent\"><img src=\"https://colab.research.google.com/assets/colab-badge.svg\" alt=\"Open In Colab\"/></a></td></tr></table>"
   ]
  },
  {
   "cell_type": "markdown",
   "id": "56febeee",
   "metadata": {},
   "source": [
    "### Objective"
   ]
  },
  {
   "cell_type": "markdown",
   "id": "7f54667f",
   "metadata": {},
   "source": [
    "The objective is to download the contents of the articles on the [Irish Farmers Association](https://www.ifa.ie/) and create a dataset.  "
   ]
  },
  {
   "cell_type": "markdown",
   "id": "61d9db23",
   "metadata": {},
   "source": [
    "### Setup"
   ]
  },
  {
   "cell_type": "markdown",
   "id": "97f765e1",
   "metadata": {},
   "source": [
    "Import required third party Python libraries, import supporting functions and sets up data source file paths."
   ]
  },
  {
   "cell_type": "code",
   "execution_count": 1,
   "id": "274eed0d",
   "metadata": {
    "ExecuteTime": {
     "end_time": "2022-01-27T05:16:08.259852Z",
     "start_time": "2022-01-27T05:16:08.247852Z"
    }
   },
   "outputs": [],
   "source": [
    "# Local\n",
    "#!pip install -r script/requirements.txt\n",
    "# Remote option\n",
    "#!pip install -r https://raw.githubusercontent.com/tahirawwad/agriculture-data-analytics/requirements.txt\n",
    "#Options: --quiet --user"
   ]
  },
  {
   "cell_type": "code",
   "execution_count": 2,
   "id": "6dbc0ff2",
   "metadata": {
    "ExecuteTime": {
     "end_time": "2022-01-27T05:16:09.600063Z",
     "start_time": "2022-01-27T05:16:08.262855Z"
    }
   },
   "outputs": [],
   "source": [
    "from bs4 import BeautifulSoup\n",
    "from pandas import DataFrame\n",
    "from requests.sessions import Session\n",
    "import requests"
   ]
  },
  {
   "cell_type": "markdown",
   "id": "0653d7e6",
   "metadata": {},
   "source": [
    "### Functions"
   ]
  },
  {
   "cell_type": "code",
   "execution_count": 3,
   "id": "5c9d08b6",
   "metadata": {
    "ExecuteTime": {
     "end_time": "2022-01-27T05:16:09.616060Z",
     "start_time": "2022-01-27T05:16:09.604061Z"
    }
   },
   "outputs": [],
   "source": [
    "session: Session = requests.Session()\n",
    "\n",
    "session.headers = {\n",
    "    \"User-Agent\":\n",
    "    \"Mozilla/5.0 (Windows NT 10.0; Win64; x64) AppleWebKit/537.36 (KHTML, like Gecko) Chrome/70.0.3538.110 Safari/537.36\",\n",
    "    \"Accept-Encoding\": \"gzip, deflate\",\n",
    "    \"Accept\":\n",
    "    \"text/html,application/xhtml+xml,application/xml;q=0.9,image/webp,image/png,*/*;q=0.8\",\n",
    "    \"Accept-Language\": \"en\"\n",
    "}"
   ]
  },
  {
   "cell_type": "code",
   "execution_count": 4,
   "id": "a3ab0255",
   "metadata": {
    "ExecuteTime": {
     "end_time": "2022-01-27T05:16:09.648061Z",
     "start_time": "2022-01-27T05:16:09.619064Z"
    }
   },
   "outputs": [],
   "source": [
    "def get_articles_html(term: str = \"cattle\", pages=1000):\n",
    "    query_post_data: dict = {\n",
    "        'query':\n",
    "        f'{{\"sector\":\"{term}\",\"error\":\"\",\"m\":\"\",\"p\":0,\"post_parent\":\"\",\"subpost\":\"\",\"subpost_id\":\"\",\"attachment\":\"\",\"attachment_id\":0,\"name\":\"\",\"pagename\":\"\",\"page_id\":0,\"second\":\"\",\"minute\":\"\",\"hour\":\"\",\"day\":0,\"monthnum\":0,\"year\":0,\"w\":0,\"category_name\":\"\",\"tag\":\"\",\"cat\":\"\",\"tag_id\":\"\",\"author\":\"\",\"author_name\":\"\",\"feed\":\"\",\"tb\":\"\",\"paged\":0,\"meta_key\":\"\",\"meta_value\":\"\",\"preview\":\"\",\"s\":\"\",\"sentence\":\"\",\"title\":\"\",\"fields\":\"\",\"menu_order\":\"\",\"embed\":\"\",\"category__in\":[],\"category__not_in\":[],\"category__and\":[],\"post__in\":[],\"post__not_in\":[],\"post_name__in\":[],\"tag__in\":[],\"tag__not_in\":[],\"tag__and\":[],\"tag_slug__in\":[],\"tag_slug__and\":[],\"post_parent__in\":[],\"post_parent__not_in\":[],\"author__in\":[],\"author__not_in\":[],\"ignore_sticky_posts\":false,\"suppress_filters\":false,\"cache_results\":true,\"update_post_term_cache\":true,\"lazy_load_term_meta\":true,\"update_post_meta_cache\":true,\"post_type\":\"\",\"posts_per_page\":130,\"nopaging\":false,\"comments_per_page\":\"50\",\"no_found_rows\":false,\"taxonomy\":\"sector\",\"term\":\"{term}\",\"order\":\"DESC\"}}',\n",
    "        'action': 'loadmore',\n",
    "        'page': '',\n",
    "    }\n",
    "    url: str = \"https://www.ifa.ie/wp-admin/admin-ajax.php/\"\n",
    "\n",
    "    page_number: int = 0\n",
    "    html: str = \"\"\n",
    "    receiving_data: bool = True\n",
    "    while receiving_data and page_number < pages:\n",
    "        query_post_data['page'] = page_number\n",
    "        text: str = session.post(url, query_post_data).text\n",
    "        if not text: receiving_data = False\n",
    "        else: html += text\n",
    "        page_number += 1\n",
    "\n",
    "    print(f\"Downloaded {page_number} pages.\")\n",
    "    return html\n",
    "\n",
    "\n",
    "def get_articles_links(html: str):\n",
    "    beautiful_soup = BeautifulSoup(html, 'html.parser')\n",
    "    links = beautiful_soup.find_all(\"a\", {\"class\": \"\"}, href=True)\n",
    "    print(\"Article Links found:\", len(links))\n",
    "    return links\n",
    "\n",
    "\n",
    "def download_articles_from_links(links, term: str):\n",
    "    page_list: list = []\n",
    "\n",
    "    for link in links:\n",
    "        url: str = link['href']\n",
    "        response: str = session.get(url)\n",
    "        beautiful_soup = BeautifulSoup(response.content, 'html.parser')\n",
    "        heading = beautiful_soup.find('h1').text\n",
    "        date = beautiful_soup.find('time').text\n",
    "        html_content = beautiful_soup.find(\"div\", {\"class\": \"single-content\"})\n",
    "        page_list.append(\n",
    "            [url, heading, date, term, html_content.text, html_content])\n",
    "    return page_list\n",
    "\n",
    "\n",
    "def append_articles_to_csv(page_list, filename: str):\n",
    "    APPEND = 'a'\n",
    "    dataframe_columns = [\n",
    "        \"URL\", \"Heading\", \"Date\", \"HTML Content\", \"Text\", \"Trend\"\n",
    "    ]\n",
    "    dataframe = DataFrame(page_list, columns=dataframe_columns)\n",
    "    dataframe.to_csv(f'./../assets/{filename}',\n",
    "                     index=False,\n",
    "                     header=False,\n",
    "                     mode=APPEND)\n",
    "    print(f\"Dataframe saved to assets/{filename}\")\n",
    "\n",
    "\n",
    "def create_articles_csv_file(filename: str):\n",
    "    dataframe_columns = [\n",
    "        \"URL\", \"Heading\", \"Date\", \"Trend\", \"Text\", \"HTML Content\"\n",
    "    ]\n",
    "    dataframe = DataFrame(columns=dataframe_columns)\n",
    "    dataframe.to_csv(f'./../assets/{filename}', index=False)\n",
    "    print(f\"Created assets/{filename}\")\n",
    "\n",
    "\n",
    "def download_articles(term: str, filename: str) -> None:\n",
    "    html = get_articles_html(term)\n",
    "    links = get_articles_links(html)\n",
    "    page_list = download_articles_from_links(links, term)\n",
    "    append_articles_to_csv(page_list, filename)"
   ]
  },
  {
   "cell_type": "markdown",
   "id": "248e44de",
   "metadata": {},
   "source": [
    "### Save Artifacts"
   ]
  },
  {
   "cell_type": "markdown",
   "id": "72d9055c",
   "metadata": {},
   "source": [
    "Saving the output of the notebook."
   ]
  },
  {
   "cell_type": "code",
   "execution_count": 5,
   "id": "9e8fd5b4",
   "metadata": {
    "ExecuteTime": {
     "end_time": "2022-01-27T05:20:38.488586Z",
     "start_time": "2022-01-27T05:16:09.651079Z"
    }
   },
   "outputs": [
    {
     "name": "stdout",
     "output_type": "stream",
     "text": [
      "Created assets/ifa-ie-articles.csv\n",
      "Downloaded 80 pages.\n",
      "Article Links found: 630\n",
      "Dataframe saved to assets/ifa-ie-articles.csv\n",
      "Downloaded 32 pages.\n",
      "Article Links found: 242\n",
      "Dataframe saved to assets/ifa-ie-articles.csv\n"
     ]
    }
   ],
   "source": [
    "filename = \"ifa-ie-articles.csv\"\n",
    "create_articles_csv_file(filename)\n",
    "terms = [\"cattle\", \"dairy\"]\n",
    "for term in terms:\n",
    "    download_articles(term, filename)"
   ]
  },
  {
   "cell_type": "markdown",
   "id": "ffd37a9d",
   "metadata": {},
   "source": [
    "Author &copy; 2021 <a href=\"https://github.com/markcrowe-com\" target=\"_parent\">Mark Crowe</a>. All rights reserved."
   ]
  }
 ],
 "metadata": {
  "kernelspec": {
   "display_name": "Python 3 (ipykernel)",
   "language": "python",
   "name": "python3"
  },
  "language_info": {
   "codemirror_mode": {
    "name": "ipython",
    "version": 3
   },
   "file_extension": ".py",
   "mimetype": "text/x-python",
   "name": "python",
   "nbconvert_exporter": "python",
   "pygments_lexer": "ipython3",
   "version": "3.8.12"
  },
  "toc": {
   "base_numbering": 1,
   "nav_menu": {},
   "number_sections": false,
   "sideBar": true,
   "skip_h1_title": false,
   "title_cell": "Table of Contents",
   "title_sidebar": "Contents",
   "toc_cell": false,
   "toc_position": {
    "height": "calc(100% - 180px)",
    "left": "10px",
    "top": "150px",
    "width": "384px"
   },
   "toc_section_display": true,
   "toc_window_display": true
  }
 },
 "nbformat": 4,
 "nbformat_minor": 5
}
