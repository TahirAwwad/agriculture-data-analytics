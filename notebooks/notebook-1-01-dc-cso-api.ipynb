{
 "cells": [
  {
   "cell_type": "markdown",
   "id": "9082566a",
   "metadata": {},
   "source": [
    "## Download CSO datasets"
   ]
  },
  {
   "cell_type": "markdown",
   "id": "c7087a81",
   "metadata": {},
   "source": [
    "<!--\n",
    "import data_analytics.github as github\n",
    "print(github.create_jupyter_notebook_header(\"tahirawwad\", \"agriculture-data-analytics\", \"notebooks/notebook-1-01-dc-cso-api.ipynb\", \"master\"))\n",
    "-->\n",
    "<table style=\"margin: auto;\"><tr><td><a href=\"https://mybinder.org/v2/gh/tahirawwad/agriculture-data-analytics/master?filepath=notebooks/notebook-1-01-dc-cso-api.ipynb\" target=\"_parent\"><img src=\"https://mybinder.org/badge_logo.svg\" alt=\"Open In Binder\"/></a></td><td>online editors</td><td><a href=\"https://colab.research.google.com/github/tahirawwad/agriculture-data-analytics/blob/master/notebooks/notebook-1-01-dc-cso-api.ipynb\" target=\"_parent\"><img src=\"https://colab.research.google.com/assets/colab-badge.svg\" alt=\"Open In Colab\"/></a></td></tr></table>"
   ]
  },
  {
   "cell_type": "markdown",
   "id": "56febeee",
   "metadata": {},
   "source": [
    "### Objective"
   ]
  },
  {
   "cell_type": "markdown",
   "id": "7f54667f",
   "metadata": {},
   "source": [
    "The objective is to download the datasets with the listed in [asset-link-builder.xlsx](./../artifacts/asset-link-builder.xlsx) from [cso.ie](https://wwww.cso.ie).  "
   ]
  },
  {
   "cell_type": "markdown",
   "id": "61d9db23",
   "metadata": {},
   "source": [
    "### Setup"
   ]
  },
  {
   "cell_type": "markdown",
   "id": "97f765e1",
   "metadata": {},
   "source": [
    "Import required third party Python libraries, import supporting functions and sets up data source file paths."
   ]
  },
  {
   "cell_type": "code",
   "execution_count": 1,
   "id": "274eed0d",
   "metadata": {
    "ExecuteTime": {
     "end_time": "2022-01-27T05:07:38.826460Z",
     "start_time": "2022-01-27T05:07:38.813468Z"
    }
   },
   "outputs": [],
   "source": [
    "# Local\n",
    "#!pip install -r script/requirements.txt\n",
    "# Remote option\n",
    "#!pip install -r https://raw.githubusercontent.com/tahirawwad/agriculture-data-analytics/requirements.txt\n",
    "#Options: --quiet --user"
   ]
  },
  {
   "cell_type": "code",
   "execution_count": 2,
   "id": "0ca15e5d",
   "metadata": {
    "ExecuteTime": {
     "end_time": "2022-01-27T05:07:39.791166Z",
     "start_time": "2022-01-27T05:07:38.829462Z"
    }
   },
   "outputs": [],
   "source": [
    "from agriculture_data_analytics import cso_ie\n",
    "from pandas import DataFrame, ExcelFile"
   ]
  },
  {
   "cell_type": "markdown",
   "id": "0097e39f",
   "metadata": {},
   "source": [
    "### Download CSO Data sources"
   ]
  },
  {
   "cell_type": "code",
   "execution_count": 3,
   "id": "62f16ab3",
   "metadata": {
    "ExecuteTime": {
     "end_time": "2022-01-27T05:07:40.248893Z",
     "start_time": "2022-01-27T05:07:39.793157Z"
    }
   },
   "outputs": [],
   "source": [
    "filepath = './../artifacts/asset-link-builder.xlsx'\n",
    "\n",
    "excelWorkbook: ExcelFile = ExcelFile(filepath)\n",
    "\n",
    "cso_datasources_dataframe: DataFrame = excelWorkbook.parse('CSO Tables')\n",
    "excelWorkbook.close()"
   ]
  },
  {
   "cell_type": "code",
   "execution_count": 4,
   "id": "af6a956d",
   "metadata": {
    "ExecuteTime": {
     "end_time": "2022-01-27T05:07:40.280875Z",
     "start_time": "2022-01-27T05:07:40.250878Z"
    }
   },
   "outputs": [
    {
     "data": {
      "text/html": [
       "<div>\n",
       "<style scoped>\n",
       "    .dataframe tbody tr th:only-of-type {\n",
       "        vertical-align: middle;\n",
       "    }\n",
       "\n",
       "    .dataframe tbody tr th {\n",
       "        vertical-align: top;\n",
       "    }\n",
       "\n",
       "    .dataframe thead th {\n",
       "        text-align: right;\n",
       "    }\n",
       "</style>\n",
       "<table border=\"1\" class=\"dataframe\">\n",
       "  <thead>\n",
       "    <tr style=\"text-align: right;\">\n",
       "      <th></th>\n",
       "      <th>Code</th>\n",
       "      <th>Title</th>\n",
       "    </tr>\n",
       "  </thead>\n",
       "  <tbody>\n",
       "    <tr>\n",
       "      <th>2</th>\n",
       "      <td>AEA01</td>\n",
       "      <td>Value at Current Prices for Output, Input and ...</td>\n",
       "    </tr>\n",
       "    <tr>\n",
       "      <th>16</th>\n",
       "      <td>DAA01</td>\n",
       "      <td>Bovine Tuberculosis</td>\n",
       "    </tr>\n",
       "    <tr>\n",
       "      <th>19</th>\n",
       "      <td>TSA04</td>\n",
       "      <td>Exports of Cattle and Beef 1930-2020</td>\n",
       "    </tr>\n",
       "  </tbody>\n",
       "</table>\n",
       "</div>"
      ],
      "text/plain": [
       "     Code                                              Title\n",
       "2   AEA01  Value at Current Prices for Output, Input and ...\n",
       "16  DAA01                                Bovine Tuberculosis\n",
       "19  TSA04               Exports of Cattle and Beef 1930-2020"
      ]
     },
     "execution_count": 4,
     "metadata": {},
     "output_type": "execute_result"
    }
   ],
   "source": [
    "cso_datasources_dataframe = cso_datasources_dataframe[cso_datasources_dataframe['Download Date'] == '2022-01-19']\n",
    "cso_datasources_dataframe[['Code', 'Title']]"
   ]
  },
  {
   "cell_type": "code",
   "execution_count": 5,
   "id": "441a8960",
   "metadata": {
    "ExecuteTime": {
     "end_time": "2022-01-27T05:07:41.678415Z",
     "start_time": "2022-01-27T05:07:40.283880Z"
    }
   },
   "outputs": [
    {
     "name": "stdout",
     "output_type": "stream",
     "text": [
      "Get AEA01 Value at Current Prices for Output, Input and Income in Agriculture\n",
      "Downloaded https://data.cso.ie/table/AEA01\n",
      "       Statistic  Year  State          UNIT   VALUE\n",
      "0  All Livestock  1990  State  Euro Million  2201.9\n",
      "1  All Livestock  1991  State  Euro Million  2114.0\n",
      "2  All Livestock  1992  State  Euro Million  2262.5\n",
      "3  All Livestock  1993  State  Euro Million  2449.6\n",
      "4  All Livestock  1994  State  Euro Million  2319.3\n",
      "Saved to \"./../assets/cso-aea01-value-at-current-prices-for-output-input-and-income-in-agriculture.csv\"\n",
      "\n",
      "Get DAA01 Bovine Tuberculosis\n",
      "Downloaded https://data.cso.ie/table/DAA01\n",
      "         Statistic  Year Regional Veterinary Offices    UNIT     VALUE\n",
      "0  Herds in County  2010                       State  Number  116815.0\n",
      "1  Herds in County  2010                      Carlow  Number    1353.0\n",
      "2  Herds in County  2010                       Cavan  Number    4915.0\n",
      "3  Herds in County  2010                       Clare  Number    6282.0\n",
      "4  Herds in County  2010                  Cork North  Number    5986.0\n",
      "Saved to \"./../assets/cso-daa01-bovine-tuberculosis.csv\"\n",
      "\n",
      "Get TSA04 Exports of Cattle and Beef 1930-2020\n",
      "Downloaded https://data.cso.ie/table/TSA04\n",
      "           Statistic  Year  State      UNIT   VALUE\n",
      "0  Exports of Cattle  1930  State  Thousand  857.88\n",
      "1  Exports of Cattle  1931  State  Thousand  765.95\n",
      "2  Exports of Cattle  1932  State  Thousand  645.18\n",
      "3  Exports of Cattle  1933  State  Thousand  589.86\n",
      "4  Exports of Cattle  1934  State  Thousand  511.10\n",
      "Saved to \"./../assets/cso-tsa04-exports-of-cattle-and-beef-1930-2020.csv\"\n",
      "\n"
     ]
    }
   ],
   "source": [
    "for _, cso_datasource in cso_datasources_dataframe.iterrows():\n",
    "    print(\"Get\", cso_datasource['Code'], cso_datasource['Title'])\n",
    "    dataframe = cso_ie.download_cso_table_dataframe(cso_datasource['Code'])\n",
    "    filepath: str = f\"./../assets/{cso_datasource['Filename']}\"\n",
    "    dataframe.to_csv(filepath, index=False)\n",
    "    print(dataframe.head())\n",
    "    print(f'Saved to \"{filepath}\"')\n",
    "    print()"
   ]
  }
 ],
 "metadata": {
  "kernelspec": {
   "display_name": "Python 3 (ipykernel)",
   "language": "python",
   "name": "python3"
  },
  "language_info": {
   "codemirror_mode": {
    "name": "ipython",
    "version": 3
   },
   "file_extension": ".py",
   "mimetype": "text/x-python",
   "name": "python",
   "nbconvert_exporter": "python",
   "pygments_lexer": "ipython3",
   "version": "3.8.12"
  },
  "toc": {
   "base_numbering": 1,
   "nav_menu": {},
   "number_sections": false,
   "sideBar": true,
   "skip_h1_title": false,
   "title_cell": "Table of Contents",
   "title_sidebar": "Contents",
   "toc_cell": false,
   "toc_position": {
    "height": "calc(100% - 180px)",
    "left": "10px",
    "top": "150px",
    "width": "384px"
   },
   "toc_section_display": true,
   "toc_window_display": false
  }
 },
 "nbformat": 4,
 "nbformat_minor": 5
}
