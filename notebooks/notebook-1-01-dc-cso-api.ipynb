{
 "cells": [
  {
   "cell_type": "markdown",
   "id": "9082566a",
   "metadata": {},
   "source": [
    "## Download CSO datasets"
   ]
  },
  {
   "cell_type": "markdown",
   "id": "c7087a81",
   "metadata": {},
   "source": [
    "<!--\n",
    "import data_analytics.github as github\n",
    "print(github.create_jupyter_notebook_header(\"tahirawwad\", \"agriculture-data-analytics\", \"notebooks/notebook-1-01-dc-cso-api.ipynb\", \"master\"))\n",
    "-->\n",
    "<table style=\"margin: auto;\"><tr><td><a href=\"https://mybinder.org/v2/gh/tahirawwad/agriculture-data-analytics/master?filepath=notebooks/notebook-1-01-dc-cso-api.ipynb\" target=\"_parent\"><img src=\"https://mybinder.org/badge_logo.svg\" alt=\"Open In Binder\"/></a></td><td>online editors</td><td><a href=\"https://colab.research.google.com/github/tahirawwad/agriculture-data-analytics/blob/master/notebooks/notebook-1-01-dc-cso-api.ipynb\" target=\"_parent\"><img src=\"https://colab.research.google.com/assets/colab-badge.svg\" alt=\"Open In Colab\"/></a></td></tr></table>"
   ]
  },
  {
   "cell_type": "markdown",
   "id": "56febeee",
   "metadata": {},
   "source": [
    "### Objective"
   ]
  },
  {
   "cell_type": "markdown",
   "id": "7f54667f",
   "metadata": {},
   "source": [
    "The objective is to download the datasets with the listed in [asset-link-builder.xlsx](./../artifacts/asset-link-builder.xlsx) from [cso.ie](https://wwww.cso.ie).  "
   ]
  },
  {
   "cell_type": "markdown",
   "id": "61d9db23",
   "metadata": {},
   "source": [
    "### Setup"
   ]
  },
  {
   "cell_type": "markdown",
   "id": "97f765e1",
   "metadata": {},
   "source": [
    "Import required third party Python libraries, import supporting functions and sets up data source file paths."
   ]
  },
  {
   "cell_type": "code",
   "execution_count": 1,
   "id": "274eed0d",
   "metadata": {
    "ExecuteTime": {
     "end_time": "2022-01-27T06:11:25.593030Z",
     "start_time": "2022-01-27T06:11:25.575029Z"
    }
   },
   "outputs": [],
   "source": [
    "# Local\n",
    "#!pip install -r script/requirements.txt\n",
    "# Remote option\n",
    "#!pip install -r https://raw.githubusercontent.com/tahirawwad/agriculture-data-analytics/requirements.txt\n",
    "#Options: --quiet --user"
   ]
  },
  {
   "cell_type": "code",
   "execution_count": 2,
   "id": "0ca15e5d",
   "metadata": {
    "ExecuteTime": {
     "end_time": "2022-01-27T06:11:27.219028Z",
     "start_time": "2022-01-27T06:11:26.350029Z"
    }
   },
   "outputs": [],
   "source": [
    "from agriculture_data_analytics import cso_ie\n",
    "from pandas import DataFrame, ExcelFile"
   ]
  },
  {
   "cell_type": "markdown",
   "id": "0097e39f",
   "metadata": {},
   "source": [
    "### Download CSO Data sources"
   ]
  },
  {
   "cell_type": "code",
   "execution_count": 3,
   "id": "62f16ab3",
   "metadata": {
    "ExecuteTime": {
     "end_time": "2022-01-27T06:11:29.205028Z",
     "start_time": "2022-01-27T06:11:28.520031Z"
    }
   },
   "outputs": [],
   "source": [
    "filepath = './../artifacts/asset-link-builder.xlsx'\n",
    "\n",
    "excelWorkbook: ExcelFile = ExcelFile(filepath)\n",
    "\n",
    "cso_datasources_dataframe: DataFrame = excelWorkbook.parse('CSO Tables')\n",
    "excelWorkbook.close()"
   ]
  },
  {
   "cell_type": "code",
   "execution_count": 4,
   "id": "af6a956d",
   "metadata": {
    "ExecuteTime": {
     "end_time": "2022-01-27T06:11:29.853025Z",
     "start_time": "2022-01-27T06:11:29.815027Z"
    }
   },
   "outputs": [
    {
     "data": {
      "text/html": [
       "<div>\n",
       "<style scoped>\n",
       "    .dataframe tbody tr th:only-of-type {\n",
       "        vertical-align: middle;\n",
       "    }\n",
       "\n",
       "    .dataframe tbody tr th {\n",
       "        vertical-align: top;\n",
       "    }\n",
       "\n",
       "    .dataframe thead th {\n",
       "        text-align: right;\n",
       "    }\n",
       "</style>\n",
       "<table border=\"1\" class=\"dataframe\">\n",
       "  <thead>\n",
       "    <tr style=\"text-align: right;\">\n",
       "      <th></th>\n",
       "      <th>Code</th>\n",
       "      <th>Title</th>\n",
       "    </tr>\n",
       "  </thead>\n",
       "  <tbody>\n",
       "    <tr>\n",
       "      <th>2</th>\n",
       "      <td>AEA01</td>\n",
       "      <td>Value at Current Prices for Output, Input and ...</td>\n",
       "    </tr>\n",
       "    <tr>\n",
       "      <th>9</th>\n",
       "      <td>AJM05</td>\n",
       "      <td>Fertiliser Price</td>\n",
       "    </tr>\n",
       "    <tr>\n",
       "      <th>16</th>\n",
       "      <td>DAA01</td>\n",
       "      <td>Bovine Tuberculosis</td>\n",
       "    </tr>\n",
       "    <tr>\n",
       "      <th>19</th>\n",
       "      <td>TSA04</td>\n",
       "      <td>Exports of Cattle and Beef 1930-2020</td>\n",
       "    </tr>\n",
       "    <tr>\n",
       "      <th>21</th>\n",
       "      <td>AQA06</td>\n",
       "      <td>Area Farmed in June 2013-2021</td>\n",
       "    </tr>\n",
       "    <tr>\n",
       "      <th>22</th>\n",
       "      <td>GCA02</td>\n",
       "      <td>CLC Land Cover Change 2012-2018</td>\n",
       "    </tr>\n",
       "    <tr>\n",
       "      <th>23</th>\n",
       "      <td>MTM01</td>\n",
       "      <td>Rainfall 1958-2021</td>\n",
       "    </tr>\n",
       "    <tr>\n",
       "      <th>24</th>\n",
       "      <td>MTM03</td>\n",
       "      <td>Sunshine 1958-2021</td>\n",
       "    </tr>\n",
       "    <tr>\n",
       "      <th>25</th>\n",
       "      <td>MTM02</td>\n",
       "      <td>Temperature 1958-2021</td>\n",
       "    </tr>\n",
       "  </tbody>\n",
       "</table>\n",
       "</div>"
      ],
      "text/plain": [
       "      Code                                              Title\n",
       "2    AEA01  Value at Current Prices for Output, Input and ...\n",
       "9   AJM05                                    Fertiliser Price\n",
       "16   DAA01                                Bovine Tuberculosis\n",
       "19   TSA04               Exports of Cattle and Beef 1930-2020\n",
       "21   AQA06                      Area Farmed in June 2013-2021\n",
       "22   GCA02                    CLC Land Cover Change 2012-2018\n",
       "23   MTM01                                 Rainfall 1958-2021\n",
       "24   MTM03                                 Sunshine 1958-2021\n",
       "25   MTM02                              Temperature 1958-2021"
      ]
     },
     "execution_count": 4,
     "metadata": {},
     "output_type": "execute_result"
    }
   ],
   "source": [
    "cso_datasources_dataframe = cso_datasources_dataframe[cso_datasources_dataframe['Download Date'] == '2022-01-19']\n",
    "cso_datasources_dataframe[['Code', 'Title']]"
   ]
  },
  {
   "cell_type": "code",
   "execution_count": 5,
   "id": "441a8960",
   "metadata": {
    "ExecuteTime": {
     "end_time": "2022-01-27T06:11:52.352026Z",
     "start_time": "2022-01-27T06:11:31.558033Z"
    },
    "scrolled": false
   },
   "outputs": [
    {
     "name": "stdout",
     "output_type": "stream",
     "text": [
      "Get AEA01 Value at Current Prices for Output, Input and Income in Agriculture\n",
      "Downloaded https://data.cso.ie/table/AEA01\n",
      "       Statistic  Year  State          UNIT   VALUE\n",
      "0  All Livestock  1990  State  Euro Million  2201.9\n",
      "1  All Livestock  1991  State  Euro Million  2114.0\n",
      "2  All Livestock  1992  State  Euro Million  2262.5\n",
      "3  All Livestock  1993  State  Euro Million  2449.6\n",
      "4  All Livestock  1994  State  Euro Million  2319.3\n",
      "Saved to \"./../assets/cso-aea01-value-at-current-prices-for-output-input-and-income-in-agriculture.csv\"\n",
      "\n",
      "Get AJM05  Fertiliser Price\n",
      "Downloaded https://data.cso.ie/table/AJM05 \n",
      "          Statistic    Month                  Type of Fertiliser  \\\n",
      "0  Fertiliser Price  1980M01  Calcium Ammonium Nitrate (27.5% N)   \n",
      "1  Fertiliser Price  1980M01                        Urea (46% N)   \n",
      "2  Fertiliser Price  1980M01     Granular Superphosphate (16% P)   \n",
      "3  Fertiliser Price  1980M01           Muriate of Potash (50% K)   \n",
      "4  Fertiliser Price  1980M01                    Compound 0-10-20   \n",
      "\n",
      "             UNIT VALUE  \n",
      "0  Euro per Tonne   121  \n",
      "1  Euro per Tonne   144  \n",
      "2  Euro per Tonne   160  \n",
      "3  Euro per Tonne   109  \n",
      "4  Euro per Tonne   130  \n",
      "Saved to \"./../assets/cso-ajm05-fertiliser-price.csv\"\n",
      "\n",
      "Get DAA01 Bovine Tuberculosis\n",
      "Downloaded https://data.cso.ie/table/DAA01\n",
      "         Statistic  Year Regional Veterinary Offices    UNIT     VALUE\n",
      "0  Herds in County  2010                       State  Number  116815.0\n",
      "1  Herds in County  2010                      Carlow  Number    1353.0\n",
      "2  Herds in County  2010                       Cavan  Number    4915.0\n",
      "3  Herds in County  2010                       Clare  Number    6282.0\n",
      "4  Herds in County  2010                  Cork North  Number    5986.0\n",
      "Saved to \"./../assets/cso-daa01-bovine-tuberculosis.csv\"\n",
      "\n",
      "Get TSA04 Exports of Cattle and Beef 1930-2020\n",
      "Downloaded https://data.cso.ie/table/TSA04\n",
      "           Statistic  Year  State      UNIT   VALUE\n",
      "0  Exports of Cattle  1930  State  Thousand  857.88\n",
      "1  Exports of Cattle  1931  State  Thousand  765.95\n",
      "2  Exports of Cattle  1932  State  Thousand  645.18\n",
      "3  Exports of Cattle  1933  State  Thousand  589.86\n",
      "4  Exports of Cattle  1934  State  Thousand  511.10\n",
      "Saved to \"./../assets/cso-tsa04-exports-of-cattle-and-beef-1930-2020.csv\"\n",
      "\n",
      "Get AQA06 Area Farmed in June 2013-2021\n",
      "Downloaded https://data.cso.ie/table/AQA06\n",
      "             Statistic  Year   Type of Land Use                Region  \\\n",
      "0  Area Farmed in June  2013  Area farmed (AAU)                 State   \n",
      "1  Area Farmed in June  2013  Area farmed (AAU)  Northern and Western   \n",
      "2  Area Farmed in June  2013  Area farmed (AAU)                Border   \n",
      "3  Area Farmed in June  2013  Area farmed (AAU)                  West   \n",
      "4  Area Farmed in June  2013  Area farmed (AAU)              Southern   \n",
      "\n",
      "           UNIT   VALUE  \n",
      "0  000 Hectares  4477.8  \n",
      "1  000 Hectares  1500.6  \n",
      "2  000 Hectares   713.3  \n",
      "3  000 Hectares   787.3  \n",
      "4  000 Hectares  2045.2  \n",
      "Saved to \"./../assets/cso-aqa06-area-farmed-in-june-2013-2021.csv\"\n",
      "\n",
      "Get GCA02 CLC Land Cover Change 2012-2018\n",
      "Downloaded https://data.cso.ie/table/GCA02\n",
      "                                           Statistic         Year  State  \\\n",
      "0  Change from Non-irrigated arable land to Pastures  2012 - 2018  State   \n",
      "1  Change from Pastures to Non-irrigated arable land  2012 - 2018  State   \n",
      "2  Change from Pastures to Transitional woodland-...  2012 - 2018  State   \n",
      "3  Change from Land principally occupied by agric...  2012 - 2018  State   \n",
      "4         Change from Pastures to Construction sites  2012 - 2018  State   \n",
      "\n",
      "              UNIT  VALUE  \n",
      "0  Area (hectares)  58248  \n",
      "1  Area (hectares)  54111  \n",
      "2  Area (hectares)  10428  \n",
      "3  Area (hectares)   2812  \n",
      "4  Area (hectares)   1091  \n",
      "Saved to \"./../assets/cso-gca02-clc-land-cover-change-2012-2018.csv\"\n",
      "\n",
      "Get MTM01 Rainfall 1958-2021\n",
      "Downloaded https://data.cso.ie/table/MTM01\n",
      "        Statistic    Month Meteorological Weather Station         UNIT  VALUE\n",
      "0  Total Rainfall  1958M01                      Belmullet  Millimetres  160.2\n",
      "1  Total Rainfall  1958M01                           Birr  Millimetres   95.6\n",
      "2  Total Rainfall  1958M01           Valentia Observatory  Millimetres  214.8\n",
      "3  Total Rainfall  1958M01                       Casement  Millimetres    NaN\n",
      "4  Total Rainfall  1958M01                    Claremorris  Millimetres  146.9\n",
      "Saved to \"./../assets/cso-mtm01-rainfall-1958-2021.csv\"\n",
      "\n",
      "Get MTM03 Sunshine 1958-2021\n",
      "Downloaded https://data.cso.ie/table/MTM03\n",
      "              Statistic    Month Meteorological Weather Station    UNIT  VALUE\n",
      "0  Total Sunshine Hours  1958M01                      Belmullet  Number   43.7\n",
      "1  Total Sunshine Hours  1958M01                           Birr  Number   64.6\n",
      "2  Total Sunshine Hours  1958M01           Valentia Observatory  Number   46.8\n",
      "3  Total Sunshine Hours  1958M01                       Casement  Number    NaN\n",
      "4  Total Sunshine Hours  1958M01                    Claremorris  Number   51.6\n",
      "Saved to \"./../assets/cso-mtm03-sunshine-1958-2021.csv\"\n",
      "\n",
      "Get MTM02 Temperature 1958-2021\n",
      "Downloaded https://data.cso.ie/table/MTM02\n",
      "                     Statistic    Month Meteorological Weather Station  \\\n",
      "0  Average Maximum Temperature  1958M01                      Belmullet   \n",
      "1  Average Maximum Temperature  1958M01                           Birr   \n",
      "2  Average Maximum Temperature  1958M01           Valentia Observatory   \n",
      "3  Average Maximum Temperature  1958M01                       Casement   \n",
      "4  Average Maximum Temperature  1958M01                    Claremorris   \n",
      "\n",
      "        UNIT  VALUE  \n",
      "0  Degrees C    8.2  \n",
      "1  Degrees C    7.8  \n",
      "2  Degrees C    9.7  \n",
      "3  Degrees C    NaN  \n",
      "4  Degrees C    7.4  \n",
      "Saved to \"./../assets/cso-mtm02-temperature-1958-2021.csv\"\n",
      "\n"
     ]
    }
   ],
   "source": [
    "for _, cso_datasource in cso_datasources_dataframe.iterrows():\n",
    "    print(\"Get\", cso_datasource['Code'], cso_datasource['Title'])\n",
    "    dataframe = cso_ie.download_cso_table_dataframe(cso_datasource['Code'])\n",
    "    filepath: str = f\"./../assets/{cso_datasource['Filename']}\"\n",
    "    dataframe.to_csv(filepath, index=False)\n",
    "    print(dataframe.head())\n",
    "    print(f'Saved to \"{filepath}\"')\n",
    "    print()"
   ]
  }
 ],
 "metadata": {
  "kernelspec": {
   "display_name": "Python 3 (ipykernel)",
   "language": "python",
   "name": "python3"
  },
  "language_info": {
   "codemirror_mode": {
    "name": "ipython",
    "version": 3
   },
   "file_extension": ".py",
   "mimetype": "text/x-python",
   "name": "python",
   "nbconvert_exporter": "python",
   "pygments_lexer": "ipython3",
   "version": "3.8.12"
  },
  "toc": {
   "base_numbering": 1,
   "nav_menu": {},
   "number_sections": false,
   "sideBar": true,
   "skip_h1_title": false,
   "title_cell": "Table of Contents",
   "title_sidebar": "Contents",
   "toc_cell": false,
   "toc_position": {
    "height": "calc(100% - 180px)",
    "left": "10px",
    "top": "150px",
    "width": "384px"
   },
   "toc_section_display": true,
   "toc_window_display": false
  }
 },
 "nbformat": 4,
 "nbformat_minor": 5
}
