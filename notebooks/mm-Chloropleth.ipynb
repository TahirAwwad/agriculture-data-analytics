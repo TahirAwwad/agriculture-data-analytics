{
 "cells": [
  {
   "cell_type": "code",
   "execution_count": 1,
   "metadata": {},
   "outputs": [],
   "source": [
    "import pandas as pd\n",
    "import plotly.express as px  # (version 4.7.0 or higher)\n",
    "import plotly.graph_objects as go\n",
    "from dash import Dash, dcc, html, Input, Output  # pip install dash (version 2.0.0 or higher)"
   ]
  },
  {
   "cell_type": "code",
   "execution_count": 2,
   "metadata": {},
   "outputs": [],
   "source": [
    "app = Dash(__name__)"
   ]
  },
  {
   "cell_type": "code",
   "execution_count": 3,
   "metadata": {},
   "outputs": [],
   "source": [
    "# -- Import and clean data (importing csv into pandas)\n",
    "# df = pd.read_csv(\"intro_bees.csv\")\n",
    "\n",
    "#df = pd.read_csv(\"../data/share-of-land-area-used-for-agriculture.csv\")\n",
    "#df.rename(columns={'Agricultural land (% of land area)': 'Percent Pasture'}, inplace=True)\n",
    "\n",
    "df = pd.read_csv(\"../data/area-meadows-and-pastures.csv\")\n",
    "df.rename(columns={'Land use indicators - Land under perm. meadows and pastures - 6655 - Share in Land area - 7209 - %': 'Percent Pasture'}, inplace=True)"
   ]
  },
  {
   "cell_type": "code",
   "execution_count": 4,
   "metadata": {},
   "outputs": [],
   "source": [
    "\n",
    "df.reset_index(inplace=True)"
   ]
  },
  {
   "cell_type": "code",
   "execution_count": 5,
   "metadata": {},
   "outputs": [
    {
     "name": "stdout",
     "output_type": "stream",
     "text": [
      "   index       Entity Code  Year  Percent Pasture\n",
      "0      0  Afghanistan  AFG  1961            45.95\n",
      "1      1  Afghanistan  AFG  1962            45.95\n",
      "2      2  Afghanistan  AFG  1963            45.95\n",
      "3      3  Afghanistan  AFG  1964            45.95\n",
      "4      4  Afghanistan  AFG  1965            45.95\n"
     ]
    }
   ],
   "source": [
    "print(df[:5])"
   ]
  },
  {
   "cell_type": "code",
   "execution_count": null,
   "metadata": {},
   "outputs": [
    {
     "name": "stdout",
     "output_type": "stream",
     "text": [
      "Dash is running on http://127.0.0.1:8050/\n",
      "\n",
      " * Serving Flask app '__main__' (lazy loading)\n",
      " * Environment: production\n",
      "\u001b[31m   WARNING: This is a development server. Do not use it in a production deployment.\u001b[0m\n",
      "\u001b[2m   Use a production WSGI server instead.\u001b[0m\n",
      " * Debug mode: off\n"
     ]
    },
    {
     "name": "stderr",
     "output_type": "stream",
     "text": [
      " * Running on http://127.0.0.1:8050/ (Press CTRL+C to quit)\n",
      "127.0.0.1 - - [09/Jan/2022 20:13:02] \"GET / HTTP/1.1\" 200 -\n",
      "127.0.0.1 - - [09/Jan/2022 20:13:02] \"GET /_dash-layout HTTP/1.1\" 200 -\n",
      "127.0.0.1 - - [09/Jan/2022 20:13:02] \"GET /_dash-dependencies HTTP/1.1\" 200 -\n",
      "127.0.0.1 - - [09/Jan/2022 20:13:02] \"GET /_favicon.ico?v=2.0.0 HTTP/1.1\" 200 -\n",
      "127.0.0.1 - - [09/Jan/2022 20:13:02] \"GET /_dash-component-suites/dash/dcc/async-slider.js HTTP/1.1\" 304 -\n",
      "127.0.0.1 - - [09/Jan/2022 20:13:02] \"GET /_dash-component-suites/dash/dcc/async-graph.js HTTP/1.1\" 304 -\n",
      "127.0.0.1 - - [09/Jan/2022 20:13:02] \"GET /_dash-component-suites/dash/dcc/async-plotlyjs.js HTTP/1.1\" 304 -\n"
     ]
    },
    {
     "name": "stdout",
     "output_type": "stream",
     "text": [
      "1961\n",
      "<class 'int'>\n"
     ]
    },
    {
     "name": "stderr",
     "output_type": "stream",
     "text": [
      "Error importing optional module sage.all\n",
      "Traceback (most recent call last):\n",
      "  File \"/home/mike/.local/lib/python3.8/site-packages/_plotly_utils/optional_imports.py\", line 30, in get_module\n",
      "    return import_module(name)\n",
      "  File \"/usr/lib/python3.8/importlib/__init__.py\", line 127, in import_module\n",
      "    return _bootstrap._gcd_import(name[level:], package, level)\n",
      "  File \"<frozen importlib._bootstrap>\", line 1014, in _gcd_import\n",
      "  File \"<frozen importlib._bootstrap>\", line 991, in _find_and_load\n",
      "  File \"<frozen importlib._bootstrap>\", line 975, in _find_and_load_unlocked\n",
      "  File \"<frozen importlib._bootstrap>\", line 671, in _load_unlocked\n",
      "  File \"<frozen importlib._bootstrap_external>\", line 848, in exec_module\n",
      "  File \"<frozen importlib._bootstrap>\", line 219, in _call_with_frames_removed\n",
      "  File \"/usr/lib/python3/dist-packages/sage/all.py\", line 77, in <module>\n",
      "    from cysignals.signals import (AlarmInterrupt, SignalError,\n",
      "  File \"/usr/lib/python3/dist-packages/cysignals/__init__.py\", line 3, in <module>\n",
      "    init_cysignals()\n",
      "  File \"src/cysignals/signals.pyx\", line 251, in cysignals.signals.init_cysignals\n",
      "  File \"/usr/lib/python3.8/signal.py\", line 47, in signal\n",
      "    handler = _signal.signal(_enum_to_int(signalnum), _enum_to_int(handler))\n",
      "ValueError: signal only works in main thread\n",
      "127.0.0.1 - - [09/Jan/2022 20:13:05] \"POST /_dash-update-component HTTP/1.1\" 200 -\n",
      "127.0.0.1 - - [09/Jan/2022 20:14:06] \"POST /_dash-update-component HTTP/1.1\" 200 -\n"
     ]
    },
    {
     "name": "stdout",
     "output_type": "stream",
     "text": [
      "1988\n",
      "<class 'int'>\n"
     ]
    },
    {
     "name": "stderr",
     "output_type": "stream",
     "text": [
      "127.0.0.1 - - [09/Jan/2022 20:14:09] \"POST /_dash-update-component HTTP/1.1\" 200 -\n"
     ]
    },
    {
     "name": "stdout",
     "output_type": "stream",
     "text": [
      "2008\n",
      "<class 'int'>\n"
     ]
    },
    {
     "name": "stderr",
     "output_type": "stream",
     "text": [
      "127.0.0.1 - - [09/Jan/2022 20:14:21] \"POST /_dash-update-component HTTP/1.1\" 200 -\n"
     ]
    },
    {
     "name": "stdout",
     "output_type": "stream",
     "text": [
      "2015\n",
      "<class 'int'>\n"
     ]
    }
   ],
   "source": [
    "# App layout\n",
    "app.layout = html.Div([\n",
    "\n",
    "    html.H1(\"Percentage Land Devoted to Pasture\", style={'text-align': 'center'}),\n",
    "\n",
    "\n",
    " \n",
    "dcc.Slider(\n",
    "        id='slct_year',\n",
    "        min=1961,\n",
    "        max=2017,\n",
    "        step=1,\n",
    "        value=1961,\n",
    "    marks={\n",
    "        1961:  {'label': '1961'},\n",
    "        1965: {'label': '1965'},\n",
    "        1970: {'label': '1970'},\n",
    "        1975: {'label': '1975'},\n",
    "        1980: {'label': '1980'},\n",
    "        1985: {'label': '1985'},\n",
    "        1990: {'label': '1990'},\n",
    "        1995: {'label': '1995'},\n",
    "        2000: {'label': '2000'},\n",
    "        2005: {'label': '2005'},\n",
    "        2010: {'label': '2010'},\n",
    "        2015: {'label': '2015'},\n",
    "        2017: {'label': '2017'}\n",
    "    }\n",
    "    \n",
    "        ), \n",
    "    \n",
    "#    dcc.Dropdown(id=\"slct_year\",\n",
    "#                 options=[\n",
    "#                     {\"label\": \"2015\", \"value\": 2015},\n",
    "#                     {\"label\": \"2016\", \"value\": 2016},\n",
    "#                     {\"label\": \"2017\", \"value\": 2017}],\n",
    "#                 multi=False,\n",
    "#                 value=2015,\n",
    "#                 style={'width': \"40%\"}\n",
    "#                 ),\n",
    "\n",
    "    html.Div(id='output_container', children=[]),\n",
    "    html.Br(),\n",
    "\n",
    "    dcc.Graph(id='Percentage Pasture', figure={})\n",
    "\n",
    "])\n",
    "\n",
    "# Connect the Plotly graphs with Dash Components\n",
    "@app.callback(\n",
    "    [Output(component_id='output_container', component_property='children'),\n",
    "     Output(component_id='Percentage Pasture', component_property='figure')],\n",
    "    [Input(component_id='slct_year', component_property='value')]\n",
    ")\n",
    "def update_graph(option_slctd):\n",
    "    print(option_slctd)\n",
    "    print(type(option_slctd))\n",
    "\n",
    "    container = \"The year chosen by user was: {}\".format(option_slctd)\n",
    "\n",
    "    dff = df.copy()\n",
    "    dff = dff[dff[\"Year\"] == option_slctd]\n",
    "    # dff = dff[dff[\"Affected by\"] == \"Varroa_mites\"]\n",
    "\n",
    "    # Plotly Express\n",
    "    fig = px.choropleth(\n",
    "        data_frame=dff,\n",
    "        locations='Code',\n",
    "        color=\"Percent Pasture\",\n",
    "        hover_data=['Entity', 'Percent Pasture'],\n",
    "        color_continuous_scale=px.colors.sequential.YlOrRd,\n",
    "        labels={'Percent Pasture': '% Land devoted to pasture'},\n",
    "        template='plotly_dark'\n",
    "    )\n",
    "    return container, fig\n",
    "\n",
    "# ------------------------------------------------------------------------------\n",
    "if __name__ == '__main__':\n",
    "    app.run_server(debug=False)"
   ]
  },
  {
   "cell_type": "code",
   "execution_count": null,
   "metadata": {},
   "outputs": [],
   "source": []
  },
  {
   "cell_type": "code",
   "execution_count": null,
   "metadata": {
    "scrolled": true
   },
   "outputs": [],
   "source": []
  },
  {
   "cell_type": "code",
   "execution_count": null,
   "metadata": {},
   "outputs": [],
   "source": [
    "%tb"
   ]
  },
  {
   "cell_type": "code",
   "execution_count": null,
   "metadata": {},
   "outputs": [],
   "source": []
  }
 ],
 "metadata": {
  "kernelspec": {
   "display_name": "Python 3 (ipykernel)",
   "language": "python",
   "name": "python3"
  },
  "language_info": {
   "codemirror_mode": {
    "name": "ipython",
    "version": 3
   },
   "file_extension": ".py",
   "mimetype": "text/x-python",
   "name": "python",
   "nbconvert_exporter": "python",
   "pygments_lexer": "ipython3",
   "version": "3.8.12"
  }
 },
 "nbformat": 4,
 "nbformat_minor": 4
}
