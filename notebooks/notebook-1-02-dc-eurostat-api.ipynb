{
 "cells": [
  {
   "cell_type": "markdown",
   "id": "9082566a",
   "metadata": {},
   "source": [
    "## Download eurostat datasets"
   ]
  },
  {
   "cell_type": "markdown",
   "id": "c7087a81",
   "metadata": {},
   "source": [
    "<!--\n",
    "import data_analytics.github as github\n",
    "print(github.create_jupyter_notebook_header(\"tahirawwad\", \"agriculture-data-analytics\", \"notebooks/notebook-1-02-dc-eurostat-api.ipynb\", \"master\"))\n",
    "-->\n",
    "<table style=\"margin: auto;\"><tr><td><a href=\"https://mybinder.org/v2/gh/tahirawwad/agriculture-data-analytics/master?filepath=notebooks/notebook-1-02-dc-eurostat-api.ipynb\" target=\"_parent\"><img src=\"https://mybinder.org/badge_logo.svg\" alt=\"Open In Binder\"/></a></td><td>online editors</td><td><a href=\"https://colab.research.google.com/github/tahirawwad/agriculture-data-analytics/blob/master/notebooks/notebook-1-02-dc-eurostat-api.ipynb\" target=\"_parent\"><img src=\"https://colab.research.google.com/assets/colab-badge.svg\" alt=\"Open In Colab\"/></a></td></tr></table>"
   ]
  },
  {
   "cell_type": "markdown",
   "id": "56febeee",
   "metadata": {},
   "source": [
    "### Objective"
   ]
  },
  {
   "cell_type": "markdown",
   "id": "7f54667f",
   "metadata": {},
   "source": [
    "The objective is to download the datasets from the [eurostat](https://ec.europa.eu/eurostat) API.  "
   ]
  },
  {
   "cell_type": "markdown",
   "id": "61d9db23",
   "metadata": {},
   "source": [
    "### Setup"
   ]
  },
  {
   "cell_type": "markdown",
   "id": "97f765e1",
   "metadata": {},
   "source": [
    "Import required third party Python libraries, import supporting functions and sets up data source file paths."
   ]
  },
  {
   "cell_type": "code",
   "execution_count": 1,
   "id": "274eed0d",
   "metadata": {
    "ExecuteTime": {
     "end_time": "2022-01-27T05:02:34.357738Z",
     "start_time": "2022-01-27T05:02:34.348737Z"
    }
   },
   "outputs": [],
   "source": [
    "# Local\n",
    "#!pip install -r script/requirements.txt\n",
    "# Remote option\n",
    "#!pip install -r https://raw.githubusercontent.com/tahirawwad/agriculture-data-analytics/requirements.txt\n",
    "#Options: --quiet --user"
   ]
  },
  {
   "cell_type": "code",
   "execution_count": 2,
   "id": "0ca15e5d",
   "metadata": {
    "ExecuteTime": {
     "end_time": "2022-01-27T05:02:35.269553Z",
     "start_time": "2022-01-27T05:02:34.360734Z"
    }
   },
   "outputs": [],
   "source": [
    "from pandas import DataFrame\n",
    "import eurostat"
   ]
  },
  {
   "cell_type": "markdown",
   "id": "e3982073",
   "metadata": {},
   "source": [
    "### Download Eurostat Data sources"
   ]
  },
  {
   "cell_type": "markdown",
   "id": "56be50f9",
   "metadata": {},
   "source": [
    "- Agriculture price indecies of product"
   ]
  },
  {
   "cell_type": "markdown",
   "id": "e86dacf3",
   "metadata": {},
   "source": [
    "#### 2015 base year of Product Prices"
   ]
  },
  {
   "cell_type": "code",
   "execution_count": 3,
   "id": "cd7231f0",
   "metadata": {
    "ExecuteTime": {
     "end_time": "2022-01-27T05:02:35.896638Z",
     "start_time": "2022-01-27T05:02:35.271545Z"
    }
   },
   "outputs": [
    {
     "data": {
      "text/html": [
       "<div>\n",
       "<style scoped>\n",
       "    .dataframe tbody tr th:only-of-type {\n",
       "        vertical-align: middle;\n",
       "    }\n",
       "\n",
       "    .dataframe tbody tr th {\n",
       "        vertical-align: top;\n",
       "    }\n",
       "\n",
       "    .dataframe thead th {\n",
       "        text-align: right;\n",
       "    }\n",
       "</style>\n",
       "<table border=\"1\" class=\"dataframe\">\n",
       "  <thead>\n",
       "    <tr style=\"text-align: right;\">\n",
       "      <th></th>\n",
       "      <th>p_adj</th>\n",
       "      <th>unit</th>\n",
       "      <th>geotime</th>\n",
       "      <th>product</th>\n",
       "      <th>year</th>\n",
       "      <th>priceIDX</th>\n",
       "    </tr>\n",
       "  </thead>\n",
       "  <tbody>\n",
       "    <tr>\n",
       "      <th>26673</th>\n",
       "      <td>RI</td>\n",
       "      <td>PCH_PRE</td>\n",
       "      <td>NL</td>\n",
       "      <td>100000</td>\n",
       "      <td>2019</td>\n",
       "      <td>-0.34</td>\n",
       "    </tr>\n",
       "    <tr>\n",
       "      <th>4949</th>\n",
       "      <td>RI</td>\n",
       "      <td>I15</td>\n",
       "      <td>UK</td>\n",
       "      <td>022000</td>\n",
       "      <td>2021</td>\n",
       "      <td>NaN</td>\n",
       "    </tr>\n",
       "    <tr>\n",
       "      <th>6317</th>\n",
       "      <td>RI</td>\n",
       "      <td>I15</td>\n",
       "      <td>HU</td>\n",
       "      <td>111000</td>\n",
       "      <td>2021</td>\n",
       "      <td>NaN</td>\n",
       "    </tr>\n",
       "    <tr>\n",
       "      <th>211</th>\n",
       "      <td>NI</td>\n",
       "      <td>I15</td>\n",
       "      <td>HR</td>\n",
       "      <td>014000</td>\n",
       "      <td>2021</td>\n",
       "      <td>97.92</td>\n",
       "    </tr>\n",
       "    <tr>\n",
       "      <th>12581</th>\n",
       "      <td>NI</td>\n",
       "      <td>PCH_PRE</td>\n",
       "      <td>MT</td>\n",
       "      <td>061100</td>\n",
       "      <td>2020</td>\n",
       "      <td>18.30</td>\n",
       "    </tr>\n",
       "  </tbody>\n",
       "</table>\n",
       "</div>"
      ],
      "text/plain": [
       "      p_adj     unit geotime product  year  priceIDX\n",
       "26673    RI  PCH_PRE      NL  100000  2019     -0.34\n",
       "4949     RI      I15      UK  022000  2021       NaN\n",
       "6317     RI      I15      HU  111000  2021       NaN\n",
       "211      NI      I15      HR  014000  2021     97.92\n",
       "12581    NI  PCH_PRE      MT  061100  2020     18.30"
      ]
     },
     "execution_count": 3,
     "metadata": {},
     "output_type": "execute_result"
    }
   ],
   "source": [
    "# price indecies of product 2015 base year\n",
    "price_idx_products_annual_code: str = 'apri_pi15_outa'\n",
    "\n",
    "price_idx_products_annual_dataframe: DataFrame = eurostat.get_data_df(\n",
    "    price_idx_products_annual_code, flags=False)\n",
    "\n",
    "# rename column\n",
    "price_idx_products_annual2015_dataframe = price_idx_products_annual_dataframe.rename(\n",
    "    columns={price_idx_products_annual_dataframe.columns[3]: 'geotime'})\n",
    "\n",
    "# transform years columns to a Series\n",
    "price_idx_products_annual2015_dataframe = price_idx_products_annual2015_dataframe.melt(\n",
    "    id_vars=[\"p_adj\", \"unit\", \"geotime\", \"product\"],\n",
    "    var_name=\"year\",\n",
    "    value_name=\"priceIDX\")\n",
    "price_idx_products_annual2015_dataframe.sample(5)"
   ]
  },
  {
   "cell_type": "markdown",
   "id": "6a84b897",
   "metadata": {},
   "source": [
    "#### 2010 base year of Product Prices"
   ]
  },
  {
   "cell_type": "code",
   "execution_count": 4,
   "id": "2d9a20ca",
   "metadata": {
    "ExecuteTime": {
     "end_time": "2022-01-27T05:02:36.653733Z",
     "start_time": "2022-01-27T05:02:35.898641Z"
    }
   },
   "outputs": [],
   "source": [
    "# price indecies of product 2010 base year\n",
    "price_idx_products_annual2010_code: str = 'apri_pi10_outa'\n",
    "price_idx_products_annual2010_dataframe: DataFrame = eurostat.get_data_df(\n",
    "    price_idx_products_annual2010_code, flags=False)\n",
    "\n",
    "price_idx_products_annual2010_dataframe = price_idx_products_annual2010_dataframe.rename(\n",
    "    columns={price_idx_products_annual2010_dataframe.columns[3]: 'geotime'})\n",
    "\n",
    "# transform years columns to a Series\n",
    "price_idx_products_annual2010_dataframe = price_idx_products_annual2010_dataframe.melt(\n",
    "    id_vars=[\"p_adj\", \"unit\", \"geotime\", \"product\"],\n",
    "    var_name=\"year\",\n",
    "    value_name=\"priceIDX\")\n",
    "\n",
    "filepath:str ='./../assets/TA_priceIDX_2000_2017_eurostat.csv'\n",
    "#price_idx_products_annual2010_dataframe.to_csv(filepath, index=False)"
   ]
  }
 ],
 "metadata": {
  "kernelspec": {
   "display_name": "Python 3 (ipykernel)",
   "language": "python",
   "name": "python3"
  },
  "language_info": {
   "codemirror_mode": {
    "name": "ipython",
    "version": 3
   },
   "file_extension": ".py",
   "mimetype": "text/x-python",
   "name": "python",
   "nbconvert_exporter": "python",
   "pygments_lexer": "ipython3",
   "version": "3.8.12"
  },
  "toc": {
   "base_numbering": 1,
   "nav_menu": {},
   "number_sections": false,
   "sideBar": true,
   "skip_h1_title": false,
   "title_cell": "Table of Contents",
   "title_sidebar": "Contents",
   "toc_cell": false,
   "toc_position": {
    "height": "calc(100% - 180px)",
    "left": "10px",
    "top": "150px",
    "width": "384px"
   },
   "toc_section_display": true,
   "toc_window_display": false
  }
 },
 "nbformat": 4,
 "nbformat_minor": 5
}
