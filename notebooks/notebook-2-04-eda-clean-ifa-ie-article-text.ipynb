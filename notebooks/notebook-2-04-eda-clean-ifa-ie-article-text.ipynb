{
 "cells": [
  {
   "cell_type": "markdown",
   "id": "f266d1aa",
   "metadata": {},
   "source": [
    "## Sentiment Analysis"
   ]
  },
  {
   "cell_type": "markdown",
   "id": "7d70870c",
   "metadata": {},
   "source": [
    "<!--\n",
    "import data_analytics.github as github\n",
    "print(github.create_jupyter_notebook_header(\"markcrowe-com\", \"agriculture-data-analytics\", \"notebooks/notebook-3-02-clean-farm.ipynb\", \"master\")\n",
    "-->\n",
    "<table style=\"margin: auto;\"><tr><td><a href=\"https://mybinder.org/v2/gh/markcrowe-com/agriculture-data-analytics/master?filepath=notebooks/notebook-3-02-clean-farm.ipynb\" target=\"_parent\"><img src=\"https://mybinder.org/badge_logo.svg\" alt=\"Open In Binder\"/></a></td><td>online editors</td><td><a href=\"https://colab.research.google.com/github/markcrowe-com/agriculture-data-analytics/blob/master/notebooks/notebook-3-02-clean-farm.ipynb\" target=\"_parent\"><img src=\"https://colab.research.google.com/assets/colab-badge.svg\" alt=\"Open In Colab\"/></a></td></tr></table>"
   ]
  },
  {
   "cell_type": "markdown",
   "id": "ba048150",
   "metadata": {},
   "source": [
    "### Setup\n",
    "Import required third party Python libraries, import supporting functions and sets up data source file paths."
   ]
  },
  {
   "cell_type": "code",
   "execution_count": 1,
   "id": "d1b3607b",
   "metadata": {},
   "outputs": [],
   "source": [
    "# Local\n",
    "#!pip install -r script/requirements.txt --quiet\n",
    "# Remote option\n",
    "#!pip install -r https://github.com/tahirawwad/agriculture-data-analytics/blob/master/notebooks/script/requirements.txt --quiet"
   ]
  },
  {
   "cell_type": "code",
   "execution_count": 1,
   "id": "ea830e05",
   "metadata": {},
   "outputs": [],
   "source": [
    "from nltk.corpus import stopwords\n",
    "from pprint import pprint\n",
    "from textblob import TextBlob\n",
    "import importlib\n",
    "import pandas\n",
    "import numpy\n",
    "import spacy"
   ]
  },
  {
   "cell_type": "code",
   "execution_count": 2,
   "id": "a9aa014b",
   "metadata": {},
   "outputs": [],
   "source": [
    "nlp_functions = importlib.import_module(\"nlp_clean_functions\")"
   ]
  },
  {
   "cell_type": "code",
   "execution_count": 3,
   "id": "44349bbe",
   "metadata": {},
   "outputs": [],
   "source": [
    "#!python -m spacy download en_core_web_sm --quiet"
   ]
  },
  {
   "cell_type": "code",
   "execution_count": 9,
   "id": "21df0b84",
   "metadata": {},
   "outputs": [
    {
     "name": "stdout",
     "output_type": "stream",
     "text": [
      "CPU times: total: 1min 16s\n",
      "Wall time: 1min 16s\n"
     ]
    }
   ],
   "source": [
    "%%time\n",
    "dataframe = pandas.read_csv(\"./../assets/ifa-ie-beef-articles.csv\")\n",
    "\n",
    "dataframe.rename(columns={'Text': 'text'}, inplace=True)\n",
    "dataframe = nlp_functions.add_clean_text_columns(dataframe)"
   ]
  },
  {
   "cell_type": "markdown",
   "id": "694143bd",
   "metadata": {},
   "source": [
    "### Save Artifact\n",
    "Saving the output of the notebook."
   ]
  },
  {
   "cell_type": "code",
   "execution_count": 10,
   "id": "f6bc5b19",
   "metadata": {},
   "outputs": [],
   "source": [
    "dataframe.to_csv(\"./../artifacts/ifa-ie-beef-articles-clean.csv\")"
   ]
  },
  {
   "cell_type": "code",
   "execution_count": 11,
   "id": "afa3b1db",
   "metadata": {},
   "outputs": [
    {
     "data": {
      "text/html": [
       "<div>\n",
       "<style scoped>\n",
       "    .dataframe tbody tr th:only-of-type {\n",
       "        vertical-align: middle;\n",
       "    }\n",
       "\n",
       "    .dataframe tbody tr th {\n",
       "        vertical-align: top;\n",
       "    }\n",
       "\n",
       "    .dataframe thead th {\n",
       "        text-align: right;\n",
       "    }\n",
       "</style>\n",
       "<table border=\"1\" class=\"dataframe\">\n",
       "  <thead>\n",
       "    <tr style=\"text-align: right;\">\n",
       "      <th></th>\n",
       "      <th>URL</th>\n",
       "      <th>Heading</th>\n",
       "      <th>Date</th>\n",
       "      <th>HTML Content</th>\n",
       "      <th>text</th>\n",
       "      <th>clean_text</th>\n",
       "      <th>polarity_tokens</th>\n",
       "      <th>review_len</th>\n",
       "      <th>word_count</th>\n",
       "    </tr>\n",
       "  </thead>\n",
       "  <tbody>\n",
       "    <tr>\n",
       "      <th>0</th>\n",
       "      <td>https://www.ifa.ie/markets-and-prices/beef-she...</td>\n",
       "      <td>Beef &amp; Sheep Update 21st January</td>\n",
       "      <td>22 January 2022</td>\n",
       "      <td>&lt;div class=\"single-content\"&gt;\\r\\n&lt;h2&gt;Beef Updat...</td>\n",
       "      <td>\\r\\nBeef Update\\r\\nIFA Livestock chairman Bren...</td>\n",
       "      <td>beef update ifa livestock chairman brendan gol...</td>\n",
       "      <td>0.031870</td>\n",
       "      <td>1615</td>\n",
       "      <td>242</td>\n",
       "    </tr>\n",
       "    <tr>\n",
       "      <th>1</th>\n",
       "      <td>https://www.ifa.ie/campaigns/key-amendments-on...</td>\n",
       "      <td>Key Amendments on Animal Transport Carried, Bu...</td>\n",
       "      <td>20 January 2022</td>\n",
       "      <td>&lt;div class=\"single-content\"&gt;\\r\\n&lt;p&gt;IFA Preside...</td>\n",
       "      <td>\\r\\nIFA President Tim Cullinan said the voting...</td>\n",
       "      <td>ifa president tim cullinan say voting key amen...</td>\n",
       "      <td>0.044190</td>\n",
       "      <td>930</td>\n",
       "      <td>128</td>\n",
       "    </tr>\n",
       "    <tr>\n",
       "      <th>2</th>\n",
       "      <td>https://www.ifa.ie/markets-and-prices/weekly-c...</td>\n",
       "      <td>Weekly Cattle Prices 19th January</td>\n",
       "      <td>19 January 2022</td>\n",
       "      <td>&lt;div class=\"single-content\"&gt;\\r\\n&lt;p&gt;Prices repo...</td>\n",
       "      <td>\\r\\nPrices reported as quoted or paid to IFA M...</td>\n",
       "      <td>price report quote pay ifa member strong deman...</td>\n",
       "      <td>-0.203214</td>\n",
       "      <td>318</td>\n",
       "      <td>50</td>\n",
       "    </tr>\n",
       "    <tr>\n",
       "      <th>3</th>\n",
       "      <td>https://www.ifa.ie/markets-and-prices/beef-she...</td>\n",
       "      <td>Beef &amp; Sheep Update 14th January</td>\n",
       "      <td>14 January 2022</td>\n",
       "      <td>&lt;div class=\"single-content\"&gt;\\r\\n&lt;h2&gt;Beef Updat...</td>\n",
       "      <td>\\r\\nBeef Update\\r\\nIFA livestock chairman Bren...</td>\n",
       "      <td>beef update ifa livestock chairman brendan gol...</td>\n",
       "      <td>0.059431</td>\n",
       "      <td>1579</td>\n",
       "      <td>232</td>\n",
       "    </tr>\n",
       "    <tr>\n",
       "      <th>4</th>\n",
       "      <td>https://www.ifa.ie/markets-and-prices/weekly-c...</td>\n",
       "      <td>Weekly Cattle Prices 12th January</td>\n",
       "      <td>12 January 2022</td>\n",
       "      <td>&lt;div class=\"single-content\"&gt;\\r\\n&lt;p&gt;Prices repo...</td>\n",
       "      <td>\\r\\nPrices reported as quoted or paid to IFA M...</td>\n",
       "      <td>price report quote pay ifa member strong deman...</td>\n",
       "      <td>-0.203214</td>\n",
       "      <td>318</td>\n",
       "      <td>50</td>\n",
       "    </tr>\n",
       "  </tbody>\n",
       "</table>\n",
       "</div>"
      ],
      "text/plain": [
       "                                                 URL  \\\n",
       "0  https://www.ifa.ie/markets-and-prices/beef-she...   \n",
       "1  https://www.ifa.ie/campaigns/key-amendments-on...   \n",
       "2  https://www.ifa.ie/markets-and-prices/weekly-c...   \n",
       "3  https://www.ifa.ie/markets-and-prices/beef-she...   \n",
       "4  https://www.ifa.ie/markets-and-prices/weekly-c...   \n",
       "\n",
       "                                             Heading             Date  \\\n",
       "0                   Beef & Sheep Update 21st January  22 January 2022   \n",
       "1  Key Amendments on Animal Transport Carried, Bu...  20 January 2022   \n",
       "2                  Weekly Cattle Prices 19th January  19 January 2022   \n",
       "3                   Beef & Sheep Update 14th January  14 January 2022   \n",
       "4                  Weekly Cattle Prices 12th January  12 January 2022   \n",
       "\n",
       "                                        HTML Content  \\\n",
       "0  <div class=\"single-content\">\\r\\n<h2>Beef Updat...   \n",
       "1  <div class=\"single-content\">\\r\\n<p>IFA Preside...   \n",
       "2  <div class=\"single-content\">\\r\\n<p>Prices repo...   \n",
       "3  <div class=\"single-content\">\\r\\n<h2>Beef Updat...   \n",
       "4  <div class=\"single-content\">\\r\\n<p>Prices repo...   \n",
       "\n",
       "                                                text  \\\n",
       "0  \\r\\nBeef Update\\r\\nIFA Livestock chairman Bren...   \n",
       "1  \\r\\nIFA President Tim Cullinan said the voting...   \n",
       "2  \\r\\nPrices reported as quoted or paid to IFA M...   \n",
       "3  \\r\\nBeef Update\\r\\nIFA livestock chairman Bren...   \n",
       "4  \\r\\nPrices reported as quoted or paid to IFA M...   \n",
       "\n",
       "                                          clean_text  polarity_tokens  \\\n",
       "0  beef update ifa livestock chairman brendan gol...         0.031870   \n",
       "1  ifa president tim cullinan say voting key amen...         0.044190   \n",
       "2  price report quote pay ifa member strong deman...        -0.203214   \n",
       "3  beef update ifa livestock chairman brendan gol...         0.059431   \n",
       "4  price report quote pay ifa member strong deman...        -0.203214   \n",
       "\n",
       "   review_len  word_count  \n",
       "0        1615         242  \n",
       "1         930         128  \n",
       "2         318          50  \n",
       "3        1579         232  \n",
       "4         318          50  "
      ]
     },
     "execution_count": 11,
     "metadata": {},
     "output_type": "execute_result"
    }
   ],
   "source": [
    "dataframe.head()"
   ]
  },
  {
   "cell_type": "code",
   "execution_count": 12,
   "id": "04194d42",
   "metadata": {},
   "outputs": [
    {
     "data": {
      "text/plain": [
       "'beef update ifa livestock chairman brendan golden say cattle price increase week ifa livestock chairman say factory anxious cattle farmer stock hand sell demand cow strong mart factory agent active ring strong demand key export market predict continue half reopening food service sector come week increase demand key export market beef price update steer base heifer high deal large lot bulls cow supply figure report dafm week animalnumberchange prev totalytdytd changey veal veal official irish price report dafm week incl prev official price report ahdb steerssteersheifersheifersy bully bullcowp incl euro price recent week deadweight excl vat country steer live export source bord bia sheep update ifa sheep chairman sean dennehy say market condition underpin sheep trade past year look set continue demand sheep meat china continue drive global trade new zealand australia focus supply lucrative market consumption sheep meat china increase say change supply pattern result fill quota low decade increase opportunity irish export sean dennehy say trade predict hold steady come month supply demand balanced easter ramadan early april key driver trade ongoing issue access market create opening irish lamb ifa sheep chairman say relaxation control food service sector increase demand lamb domestic market case fall workforce issue ease lamb price update lamb high deal group large lot ewe sell supply figure report dafm week animalfigurechangeytd lambs spring light official irish price report dafm week incl change prev yrnational avg official price report ahdb overall seasonchange price incl source bord bia'"
      ]
     },
     "execution_count": 12,
     "metadata": {},
     "output_type": "execute_result"
    }
   ],
   "source": [
    "dataframe['clean_text'].iloc[0]"
   ]
  }
 ],
 "metadata": {
  "kernelspec": {
   "display_name": "Python 3 (ipykernel)",
   "language": "python",
   "name": "python3"
  },
  "language_info": {
   "codemirror_mode": {
    "name": "ipython",
    "version": 3
   },
   "file_extension": ".py",
   "mimetype": "text/x-python",
   "name": "python",
   "nbconvert_exporter": "python",
   "pygments_lexer": "ipython3",
   "version": "3.8.12"
  },
  "toc": {
   "base_numbering": 1,
   "nav_menu": {},
   "number_sections": false,
   "sideBar": true,
   "skip_h1_title": false,
   "title_cell": "Table of Contents",
   "title_sidebar": "Contents",
   "toc_cell": false,
   "toc_position": {},
   "toc_section_display": true,
   "toc_window_display": false
  }
 },
 "nbformat": 4,
 "nbformat_minor": 5
}
