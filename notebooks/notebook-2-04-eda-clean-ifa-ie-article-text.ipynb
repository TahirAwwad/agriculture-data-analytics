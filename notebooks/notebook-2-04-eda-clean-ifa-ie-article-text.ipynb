{
 "cells": [
  {
   "cell_type": "markdown",
   "id": "f266d1aa",
   "metadata": {},
   "source": [
    "## Sentiment Analysis"
   ]
  },
  {
   "cell_type": "markdown",
   "id": "7d70870c",
   "metadata": {},
   "source": [
    "<!--\n",
    "import data_analytics.github as github\n",
    "print(github.create_jupyter_notebook_header(\"markcrowe-com\", \"agriculture-data-analytics\", \"notebooks/notebook-3-02-clean-farm.ipynb\", \"master\")\n",
    "-->\n",
    "<table style=\"margin: auto;\"><tr><td><a href=\"https://mybinder.org/v2/gh/markcrowe-com/agriculture-data-analytics/master?filepath=notebooks/notebook-3-02-clean-farm.ipynb\" target=\"_parent\"><img src=\"https://mybinder.org/badge_logo.svg\" alt=\"Open In Binder\"/></a></td><td>online editors</td><td><a href=\"https://colab.research.google.com/github/markcrowe-com/agriculture-data-analytics/blob/master/notebooks/notebook-3-02-clean-farm.ipynb\" target=\"_parent\"><img src=\"https://colab.research.google.com/assets/colab-badge.svg\" alt=\"Open In Colab\"/></a></td></tr></table>"
   ]
  },
  {
   "cell_type": "markdown",
   "id": "9c0a726e",
   "metadata": {},
   "source": [
    "### Objective"
   ]
  },
  {
   "cell_type": "markdown",
   "id": "b968b799",
   "metadata": {},
   "source": [
    "Extract and clean text"
   ]
  },
  {
   "cell_type": "markdown",
   "id": "ba048150",
   "metadata": {},
   "source": [
    "### Setup\n",
    "Import required third party Python libraries, import supporting functions and sets up data source file paths."
   ]
  },
  {
   "cell_type": "code",
   "execution_count": 1,
   "id": "d1b3607b",
   "metadata": {
    "ExecuteTime": {
     "end_time": "2022-01-27T05:54:20.838937Z",
     "start_time": "2022-01-27T05:54:20.826936Z"
    }
   },
   "outputs": [],
   "source": [
    "# Local\n",
    "#!pip install -r script/requirements.txt\n",
    "# Remote option\n",
    "#!pip install -r https://raw.githubusercontent.com/tahirawwad/agriculture-data-analytics/requirements.txt\n",
    "#Options: --quiet --user"
   ]
  },
  {
   "cell_type": "code",
   "execution_count": 2,
   "id": "ea830e05",
   "metadata": {
    "ExecuteTime": {
     "end_time": "2022-01-27T05:54:41.249569Z",
     "start_time": "2022-01-27T05:54:20.841942Z"
    }
   },
   "outputs": [],
   "source": [
    "from nltk.corpus import stopwords\n",
    "from pprint import pprint\n",
    "from textblob import TextBlob\n",
    "from agriculture_data_analytics import sentiment_analysis\n",
    "import importlib\n",
    "import pandas\n",
    "import numpy\n",
    "import spacy"
   ]
  },
  {
   "cell_type": "code",
   "execution_count": 3,
   "id": "44349bbe",
   "metadata": {
    "ExecuteTime": {
     "end_time": "2022-01-27T05:54:41.265551Z",
     "start_time": "2022-01-27T05:54:41.252554Z"
    }
   },
   "outputs": [],
   "source": [
    "#!python -m spacy download en_core_web_sm --quiet"
   ]
  },
  {
   "cell_type": "markdown",
   "id": "310eb574",
   "metadata": {},
   "source": [
    "### Loading the CSV file"
   ]
  },
  {
   "cell_type": "code",
   "execution_count": 4,
   "id": "e025e4a0",
   "metadata": {
    "ExecuteTime": {
     "end_time": "2022-01-27T05:54:41.549557Z",
     "start_time": "2022-01-27T05:54:41.271551Z"
    }
   },
   "outputs": [],
   "source": [
    "filename: str = \"./../assets/ifa-ie-articles.csv\"\n",
    "dataframe = pandas.read_csv(filename)"
   ]
  },
  {
   "cell_type": "markdown",
   "id": "08fdc317",
   "metadata": {},
   "source": [
    "### Clean Text"
   ]
  },
  {
   "cell_type": "code",
   "execution_count": 5,
   "id": "21df0b84",
   "metadata": {
    "ExecuteTime": {
     "end_time": "2022-01-27T05:55:54.090951Z",
     "start_time": "2022-01-27T05:54:41.553554Z"
    }
   },
   "outputs": [],
   "source": [
    "dataframe = sentiment_analysis.add_clean_text_columns(dataframe, 'Text')"
   ]
  },
  {
   "cell_type": "markdown",
   "id": "0a12871b",
   "metadata": {},
   "source": [
    "#### Examine results"
   ]
  },
  {
   "cell_type": "code",
   "execution_count": 6,
   "id": "afa3b1db",
   "metadata": {
    "ExecuteTime": {
     "end_time": "2022-01-27T05:55:54.152950Z",
     "start_time": "2022-01-27T05:55:54.093951Z"
    }
   },
   "outputs": [
    {
     "data": {
      "text/html": [
       "<div>\n",
       "<style scoped>\n",
       "    .dataframe tbody tr th:only-of-type {\n",
       "        vertical-align: middle;\n",
       "    }\n",
       "\n",
       "    .dataframe tbody tr th {\n",
       "        vertical-align: top;\n",
       "    }\n",
       "\n",
       "    .dataframe thead th {\n",
       "        text-align: right;\n",
       "    }\n",
       "</style>\n",
       "<table border=\"1\" class=\"dataframe\">\n",
       "  <thead>\n",
       "    <tr style=\"text-align: right;\">\n",
       "      <th></th>\n",
       "      <th>URL</th>\n",
       "      <th>Heading</th>\n",
       "      <th>Date</th>\n",
       "      <th>Trend</th>\n",
       "      <th>Text</th>\n",
       "      <th>HTML Content</th>\n",
       "      <th>clean_text</th>\n",
       "      <th>polarity_tokens</th>\n",
       "      <th>review_len</th>\n",
       "      <th>word_count</th>\n",
       "    </tr>\n",
       "  </thead>\n",
       "  <tbody>\n",
       "    <tr>\n",
       "      <th>0</th>\n",
       "      <td>https://www.ifa.ie/markets-and-prices/weekly-c...</td>\n",
       "      <td>Weekly Cattle Prices 26th January</td>\n",
       "      <td>26 January 2022</td>\n",
       "      <td>cattle</td>\n",
       "      <td>\\nPrices reported as quoted or paid to IFA Mem...</td>\n",
       "      <td>&lt;div class=\"single-content\"&gt;\\n&lt;p&gt;Prices report...</td>\n",
       "      <td>price report quote pay ifa member strong deman...</td>\n",
       "      <td>-0.203214</td>\n",
       "      <td>329</td>\n",
       "      <td>52</td>\n",
       "    </tr>\n",
       "    <tr>\n",
       "      <th>1</th>\n",
       "      <td>https://www.ifa.ie/regional/wexford-ifa-fertil...</td>\n",
       "      <td>Wexford IFA Fertiliser Seminar 24th January</td>\n",
       "      <td>25 January 2022</td>\n",
       "      <td>cattle</td>\n",
       "      <td>\\nWexford IFA held an online public open meeti...</td>\n",
       "      <td>&lt;div class=\"single-content\"&gt;\\n&lt;p&gt;Wexford IFA h...</td>\n",
       "      <td>wexford ifa hold online public open meeting cu...</td>\n",
       "      <td>0.000000</td>\n",
       "      <td>465</td>\n",
       "      <td>60</td>\n",
       "    </tr>\n",
       "    <tr>\n",
       "      <th>2</th>\n",
       "      <td>https://www.ifa.ie/markets-and-prices/beef-she...</td>\n",
       "      <td>Beef &amp; Sheep Update 21st January</td>\n",
       "      <td>22 January 2022</td>\n",
       "      <td>cattle</td>\n",
       "      <td>\\nBeef Update\\nIFA Livestock chairman Brendan ...</td>\n",
       "      <td>&lt;div class=\"single-content\"&gt;\\n&lt;h2&gt;Beef Update&lt;...</td>\n",
       "      <td>beef update ifa livestock chairman brendan gol...</td>\n",
       "      <td>0.031870</td>\n",
       "      <td>1615</td>\n",
       "      <td>242</td>\n",
       "    </tr>\n",
       "    <tr>\n",
       "      <th>3</th>\n",
       "      <td>https://www.ifa.ie/campaigns/key-amendments-on...</td>\n",
       "      <td>Key Amendments on Animal Transport Carried, Bu...</td>\n",
       "      <td>20 January 2022</td>\n",
       "      <td>cattle</td>\n",
       "      <td>\\nIFA President Tim Cullinan said the voting t...</td>\n",
       "      <td>&lt;div class=\"single-content\"&gt;\\n&lt;p&gt;IFA President...</td>\n",
       "      <td>ifa president tim cullinan say voting key amen...</td>\n",
       "      <td>0.044190</td>\n",
       "      <td>930</td>\n",
       "      <td>128</td>\n",
       "    </tr>\n",
       "    <tr>\n",
       "      <th>4</th>\n",
       "      <td>https://www.ifa.ie/markets-and-prices/weekly-c...</td>\n",
       "      <td>Weekly Cattle Prices 19th January</td>\n",
       "      <td>19 January 2022</td>\n",
       "      <td>cattle</td>\n",
       "      <td>\\nPrices reported as quoted or paid to IFA Mem...</td>\n",
       "      <td>&lt;div class=\"single-content\"&gt;\\n&lt;p&gt;Prices report...</td>\n",
       "      <td>price report quote pay ifa member strong deman...</td>\n",
       "      <td>-0.203214</td>\n",
       "      <td>318</td>\n",
       "      <td>50</td>\n",
       "    </tr>\n",
       "  </tbody>\n",
       "</table>\n",
       "</div>"
      ],
      "text/plain": [
       "                                                 URL  \\\n",
       "0  https://www.ifa.ie/markets-and-prices/weekly-c...   \n",
       "1  https://www.ifa.ie/regional/wexford-ifa-fertil...   \n",
       "2  https://www.ifa.ie/markets-and-prices/beef-she...   \n",
       "3  https://www.ifa.ie/campaigns/key-amendments-on...   \n",
       "4  https://www.ifa.ie/markets-and-prices/weekly-c...   \n",
       "\n",
       "                                             Heading             Date   Trend  \\\n",
       "0                  Weekly Cattle Prices 26th January  26 January 2022  cattle   \n",
       "1        Wexford IFA Fertiliser Seminar 24th January  25 January 2022  cattle   \n",
       "2                   Beef & Sheep Update 21st January  22 January 2022  cattle   \n",
       "3  Key Amendments on Animal Transport Carried, Bu...  20 January 2022  cattle   \n",
       "4                  Weekly Cattle Prices 19th January  19 January 2022  cattle   \n",
       "\n",
       "                                                Text  \\\n",
       "0  \\nPrices reported as quoted or paid to IFA Mem...   \n",
       "1  \\nWexford IFA held an online public open meeti...   \n",
       "2  \\nBeef Update\\nIFA Livestock chairman Brendan ...   \n",
       "3  \\nIFA President Tim Cullinan said the voting t...   \n",
       "4  \\nPrices reported as quoted or paid to IFA Mem...   \n",
       "\n",
       "                                        HTML Content  \\\n",
       "0  <div class=\"single-content\">\\n<p>Prices report...   \n",
       "1  <div class=\"single-content\">\\n<p>Wexford IFA h...   \n",
       "2  <div class=\"single-content\">\\n<h2>Beef Update<...   \n",
       "3  <div class=\"single-content\">\\n<p>IFA President...   \n",
       "4  <div class=\"single-content\">\\n<p>Prices report...   \n",
       "\n",
       "                                          clean_text  polarity_tokens  \\\n",
       "0  price report quote pay ifa member strong deman...        -0.203214   \n",
       "1  wexford ifa hold online public open meeting cu...         0.000000   \n",
       "2  beef update ifa livestock chairman brendan gol...         0.031870   \n",
       "3  ifa president tim cullinan say voting key amen...         0.044190   \n",
       "4  price report quote pay ifa member strong deman...        -0.203214   \n",
       "\n",
       "   review_len  word_count  \n",
       "0         329          52  \n",
       "1         465          60  \n",
       "2        1615         242  \n",
       "3         930         128  \n",
       "4         318          50  "
      ]
     },
     "execution_count": 6,
     "metadata": {},
     "output_type": "execute_result"
    }
   ],
   "source": [
    "dataframe.head()"
   ]
  },
  {
   "cell_type": "code",
   "execution_count": 7,
   "id": "04194d42",
   "metadata": {
    "ExecuteTime": {
     "end_time": "2022-01-27T05:55:54.168946Z",
     "start_time": "2022-01-27T05:55:54.156945Z"
    }
   },
   "outputs": [
    {
     "data": {
      "text/plain": [
       "'price report quote pay ifa member strong demand price rise factory pay quote steer base heifer base high deal large specalise lot young bull cow spec bonus month month bonus month steer heifer grade fat class meet spec criterion factory base quote steersheiferscowsdawn farm ballyhaunis meat incl farmer insist payment day cattle'"
      ]
     },
     "execution_count": 7,
     "metadata": {},
     "output_type": "execute_result"
    }
   ],
   "source": [
    "dataframe['clean_text'].iloc[0]"
   ]
  },
  {
   "cell_type": "markdown",
   "id": "694143bd",
   "metadata": {},
   "source": [
    "### Save Artifact\n",
    "Saving the output of the notebook."
   ]
  },
  {
   "cell_type": "code",
   "execution_count": 8,
   "id": "f6bc5b19",
   "metadata": {
    "ExecuteTime": {
     "end_time": "2022-01-27T05:55:54.420081Z",
     "start_time": "2022-01-27T05:55:54.173944Z"
    }
   },
   "outputs": [],
   "source": [
    "filename: str = \"./../artifacts/ifa-ie-articles.csv\"\n",
    "dataframe.to_csv(filename, index=False)"
   ]
  }
 ],
 "metadata": {
  "kernelspec": {
   "display_name": "Python 3 (ipykernel)",
   "language": "python",
   "name": "python3"
  },
  "language_info": {
   "codemirror_mode": {
    "name": "ipython",
    "version": 3
   },
   "file_extension": ".py",
   "mimetype": "text/x-python",
   "name": "python",
   "nbconvert_exporter": "python",
   "pygments_lexer": "ipython3",
   "version": "3.8.8"
  },
  "toc": {
   "base_numbering": 1,
   "nav_menu": {},
   "number_sections": false,
   "sideBar": true,
   "skip_h1_title": false,
   "title_cell": "Table of Contents",
   "title_sidebar": "Contents",
   "toc_cell": false,
   "toc_position": {},
   "toc_section_display": true,
   "toc_window_display": true
  }
 },
 "nbformat": 4,
 "nbformat_minor": 5
}
