{
 "cells": [
  {
   "cell_type": "markdown",
   "id": "e73f5217",
   "metadata": {},
   "source": [
    "<style>\n",
    "*\n",
    "{\n",
    "\ttext-align: justify;\n",
    "\tline-height: 1.5;\n",
    "\tfont-family: \"Arial\", sans-serif;\n",
    "\tfont-size: 12px;\n",
    "}\n",
    "\n",
    "h2, h3, h4, h5, h6\n",
    "{\n",
    "\tfont-family: \"Arial\", sans-serif;\n",
    "\tfont-size: 12px;\n",
    "\tfont-weight: bold;\n",
    "}\n",
    "h2\n",
    "{\n",
    "\tfont-size: 14px;\n",
    "}\n",
    "h1\n",
    "{\n",
    "\tfont-family: \"Wingdings\", sans-serif;\n",
    "\tfont-size: 16px;\n",
    "}\n",
    "</style>"
   ]
  },
  {
   "cell_type": "markdown",
   "id": "bad5aeea",
   "metadata": {},
   "source": [
    "## Milk Production Prediction Model Builder"
   ]
  },
  {
   "cell_type": "markdown",
   "id": "12a36702",
   "metadata": {},
   "source": [
    "<!--\n",
    "import data_analytics.github as github\n",
    "print(github.create_jupyter_notebook_header(\"tahirawwad\", \"agriculture-data-analytics\", \"notebooks/notebook-5-03-ml-milk-production.ipynb\", \"master\"))\n",
    "-->\n",
    "<table style=\"margin: auto;\"><tr><td><a href=\"https://mybinder.org/v2/gh/tahirawwad/agriculture-data-analytics/master?filepath=notebooks/notebook-5-03-ml-milk-production.ipynb\" target=\"_parent\"><img src=\"https://mybinder.org/badge_logo.svg\" alt=\"Open In Binder\"/></a></td><td>online editors</td><td><a href=\"https://colab.research.google.com/github/tahirawwad/agriculture-data-analytics/blob/master/notebooks/notebook-5-03-ml-milk-production.ipynbynb\" target=\"_parent\"><img src=\"https://colab.research.google.com/assets/colab-badge.svg\" alt=\"Open In Colab\"/></a></td></tr></table>"
   ]
  },
  {
   "cell_type": "markdown",
   "id": "92ac96b5",
   "metadata": {},
   "source": [
    "### Objective\n",
    "Create the best machine learning model to predict Milk production value in Ireland according to the historical data from Central Statistics office AEA01 Value at Current Prices for Output, Input and Income in Agriculture."
   ]
  },
  {
   "cell_type": "markdown",
   "id": "55902df1",
   "metadata": {},
   "source": [
    "### Setup"
   ]
  },
  {
   "cell_type": "markdown",
   "id": "c1d65b56",
   "metadata": {},
   "source": [
    "Import required third party Python libraries, import supporting functions and sets up data source file paths."
   ]
  },
  {
   "cell_type": "code",
   "execution_count": 1,
   "id": "cae9ae61",
   "metadata": {
    "ExecuteTime": {
     "end_time": "2022-01-28T11:57:03.413906Z",
     "start_time": "2022-01-28T11:57:03.397910Z"
    }
   },
   "outputs": [],
   "source": [
    "# Local\n",
    "#!pip install -r script/requirements.txt\n",
    "# Remote option\n",
    "#!pip install -r https://raw.githubusercontent.com/tahirawwad/agriculture-data-analytics/requirements.txt\n",
    "#Options: --quiet --user"
   ]
  },
  {
   "cell_type": "code",
   "execution_count": 2,
   "id": "3ef32f49",
   "metadata": {
    "ExecuteTime": {
     "end_time": "2022-01-28T11:57:18.923872Z",
     "start_time": "2022-01-28T11:57:03.419907Z"
    }
   },
   "outputs": [],
   "source": [
    "from keras_tuner.tuners import RandomSearch\n",
    "from pandas import read_csv, DataFrame\n",
    "from sklearn.ensemble import RandomForestRegressor\n",
    "from sklearn.impute import SimpleImputer\n",
    "from sklearn.metrics import mean_absolute_error\n",
    "from sklearn.model_selection import GridSearchCV\n",
    "from sklearn.model_selection import train_test_split\n",
    "from sklearn.preprocessing import MinMaxScaler\n",
    "from tensorflow import keras\n",
    "from tensorflow.keras import layers\n",
    "from xgboost import XGBRegressor\n",
    "import numpy as np\n",
    "import os\n",
    "import pickle\n",
    "import shutil"
   ]
  },
  {
   "cell_type": "markdown",
   "id": "39543089",
   "metadata": {},
   "source": [
    "### Load dataframe"
   ]
  },
  {
   "cell_type": "code",
   "execution_count": 3,
   "id": "99092f99",
   "metadata": {
    "ExecuteTime": {
     "end_time": "2022-01-28T11:57:18.955867Z",
     "start_time": "2022-01-28T11:57:18.928870Z"
    }
   },
   "outputs": [],
   "source": [
    "dataframe_filepath = \"./../artifacts/irish-milk-production-eda-output.csv\"\n",
    "dataframe: DataFrame = read_csv(dataframe_filepath)"
   ]
  },
  {
   "cell_type": "markdown",
   "id": "e86689fb",
   "metadata": {},
   "source": [
    "### Production of Milk"
   ]
  },
  {
   "cell_type": "markdown",
   "id": "43dce267",
   "metadata": {},
   "source": [
    "Extract the milk production features."
   ]
  },
  {
   "cell_type": "code",
   "execution_count": 4,
   "id": "a096f328",
   "metadata": {
    "ExecuteTime": {
     "end_time": "2022-01-28T11:57:19.080869Z",
     "start_time": "2022-01-28T11:57:18.976871Z"
    }
   },
   "outputs": [
    {
     "name": "stdout",
     "output_type": "stream",
     "text": [
      "Milk production dataset dimensions (31, 6)\n"
     ]
    },
    {
     "data": {
      "text/html": [
       "<div>\n",
       "<style scoped>\n",
       "    .dataframe tbody tr th:only-of-type {\n",
       "        vertical-align: middle;\n",
       "    }\n",
       "\n",
       "    .dataframe tbody tr th {\n",
       "        vertical-align: top;\n",
       "    }\n",
       "\n",
       "    .dataframe thead th {\n",
       "        text-align: right;\n",
       "    }\n",
       "</style>\n",
       "<table border=\"1\" class=\"dataframe\">\n",
       "  <thead>\n",
       "    <tr style=\"text-align: right;\">\n",
       "      <th></th>\n",
       "      <th>All Livestock Products - Milk</th>\n",
       "      <th>Intermediate Consumption - Energy and Lubricants</th>\n",
       "      <th>Intermediate Consumption - Feeding Stuffs</th>\n",
       "      <th>Intermediate Consumption - Fertilisers</th>\n",
       "      <th>Land Rental</th>\n",
       "      <th>Taxes on Products</th>\n",
       "    </tr>\n",
       "    <tr>\n",
       "      <th>Year</th>\n",
       "      <th></th>\n",
       "      <th></th>\n",
       "      <th></th>\n",
       "      <th></th>\n",
       "      <th></th>\n",
       "      <th></th>\n",
       "    </tr>\n",
       "  </thead>\n",
       "  <tbody>\n",
       "    <tr>\n",
       "      <th>1990</th>\n",
       "      <td>1316.3</td>\n",
       "      <td>165.0</td>\n",
       "      <td>642.2</td>\n",
       "      <td>326.0</td>\n",
       "      <td>98.8</td>\n",
       "      <td>75.0</td>\n",
       "    </tr>\n",
       "    <tr>\n",
       "      <th>1991</th>\n",
       "      <td>1258.9</td>\n",
       "      <td>164.8</td>\n",
       "      <td>646.5</td>\n",
       "      <td>319.1</td>\n",
       "      <td>96.5</td>\n",
       "      <td>78.2</td>\n",
       "    </tr>\n",
       "    <tr>\n",
       "      <th>1992</th>\n",
       "      <td>1373.1</td>\n",
       "      <td>155.4</td>\n",
       "      <td>668.5</td>\n",
       "      <td>305.1</td>\n",
       "      <td>99.2</td>\n",
       "      <td>79.5</td>\n",
       "    </tr>\n",
       "    <tr>\n",
       "      <th>1993</th>\n",
       "      <td>1439.0</td>\n",
       "      <td>158.9</td>\n",
       "      <td>733.5</td>\n",
       "      <td>301.2</td>\n",
       "      <td>99.7</td>\n",
       "      <td>68.0</td>\n",
       "    </tr>\n",
       "    <tr>\n",
       "      <th>1994</th>\n",
       "      <td>1446.2</td>\n",
       "      <td>158.8</td>\n",
       "      <td>818.6</td>\n",
       "      <td>316.3</td>\n",
       "      <td>107.5</td>\n",
       "      <td>53.7</td>\n",
       "    </tr>\n",
       "  </tbody>\n",
       "</table>\n",
       "</div>"
      ],
      "text/plain": [
       "      All Livestock Products - Milk  \\\n",
       "Year                                  \n",
       "1990                         1316.3   \n",
       "1991                         1258.9   \n",
       "1992                         1373.1   \n",
       "1993                         1439.0   \n",
       "1994                         1446.2   \n",
       "\n",
       "      Intermediate Consumption - Energy and Lubricants  \\\n",
       "Year                                                     \n",
       "1990                                             165.0   \n",
       "1991                                             164.8   \n",
       "1992                                             155.4   \n",
       "1993                                             158.9   \n",
       "1994                                             158.8   \n",
       "\n",
       "      Intermediate Consumption - Feeding Stuffs  \\\n",
       "Year                                              \n",
       "1990                                      642.2   \n",
       "1991                                      646.5   \n",
       "1992                                      668.5   \n",
       "1993                                      733.5   \n",
       "1994                                      818.6   \n",
       "\n",
       "      Intermediate Consumption - Fertilisers  Land Rental  Taxes on Products  \n",
       "Year                                                                          \n",
       "1990                                   326.0         98.8               75.0  \n",
       "1991                                   319.1         96.5               78.2  \n",
       "1992                                   305.1         99.2               79.5  \n",
       "1993                                   301.2         99.7               68.0  \n",
       "1994                                   316.3        107.5               53.7  "
      ]
     },
     "execution_count": 4,
     "metadata": {},
     "output_type": "execute_result"
    }
   ],
   "source": [
    "feature_columns = [\n",
    "    'Year', \n",
    "    'All Livestock Products - Milk',\n",
    "    'Taxes on Products',\n",
    "    'Subsidies on Products', \n",
    "    'Compensation of Employees',\n",
    "    'Contract Work',\n",
    "    'Entrepreneurial Income',\n",
    "    'Factor Income',\n",
    "    'Fixed Capital Consumption - Farm Buildings',\n",
    "    'Fixed Capital Consumption - Machinery, Equipment, etc',\n",
    "    'Interest less FISIM', \n",
    "    'Operating Surplus', \n",
    "    'Livestock - Cattle',\n",
    "    'Livestock - Sheep', \n",
    "    'Land Rental',\n",
    "    'Intermediate Consumption - Contract Work',\n",
    "    'Intermediate Consumption - Crop Protection Products',\n",
    "    'Intermediate Consumption - Energy and Lubricants',\n",
    "    'Intermediate Consumption - Feeding Stuffs',\n",
    "    'Intermediate Consumption - Fertilisers',\n",
    "    'Intermediate Consumption - Financial Intermediation Services Indirect',\n",
    "    'Intermediate Consumption - Forage Plants',\n",
    "    'Intermediate Consumption - Maintenance and Repairs',\n",
    "    'Intermediate Consumption - Seeds', 'Intermediate Consumption - Services',\n",
    "    'Intermediate Consumption - Veterinary Expenses',\n",
    "    'Intermediate Consumption - Other Goods (Detergents, Small Tools, etc)',\n",
    "    'Intermediate Consumption - Other Goods and Services'\n",
    "]\n",
    "\n",
    "feature_columns = [\n",
    "    'Year',\n",
    "    'All Livestock Products - Milk',\n",
    "    'Intermediate Consumption - Energy and Lubricants',\n",
    "    'Intermediate Consumption - Feeding Stuffs',\n",
    "    'Intermediate Consumption - Fertilisers',\n",
    "    'Land Rental',\n",
    "    'Taxes on Products',\n",
    "]\n",
    "\n",
    "dataframe = dataframe[feature_columns]\n",
    "\n",
    "dataframe.set_index('Year', drop=True, inplace=True)\n",
    "\n",
    "print(\"Milk production dataset dimensions\", dataframe.shape)\n",
    "\n",
    "dataframe.head()"
   ]
  },
  {
   "cell_type": "markdown",
   "id": "129cb429",
   "metadata": {},
   "source": [
    "### Prepare Model Data"
   ]
  },
  {
   "cell_type": "markdown",
   "id": "50450923",
   "metadata": {},
   "source": [
    "#### Select the feature set and the target"
   ]
  },
  {
   "cell_type": "markdown",
   "id": "938d45f2",
   "metadata": {},
   "source": [
    "Select the feature set and the target "
   ]
  },
  {
   "cell_type": "code",
   "execution_count": 5,
   "id": "3195a988",
   "metadata": {
    "ExecuteTime": {
     "end_time": "2022-01-28T11:57:19.096869Z",
     "start_time": "2022-01-28T11:57:19.082871Z"
    }
   },
   "outputs": [
    {
     "name": "stdout",
     "output_type": "stream",
     "text": [
      "Features dimension: (31, 5)\n",
      "Target dimension: (31, 1)\n"
     ]
    }
   ],
   "source": [
    "X = dataframe.iloc[:, 1:].values\n",
    "Y = dataframe.iloc[:, 0].values.reshape(-1, 1)\n",
    "print('Features dimension:', np.shape(X))\n",
    "print('Target dimension:', np.shape(Y))"
   ]
  },
  {
   "cell_type": "markdown",
   "id": "e7a28184",
   "metadata": {},
   "source": [
    "#### Fill missing values"
   ]
  },
  {
   "cell_type": "code",
   "execution_count": 6,
   "id": "dab10f74",
   "metadata": {
    "ExecuteTime": {
     "end_time": "2022-01-28T11:57:19.112868Z",
     "start_time": "2022-01-28T11:57:19.099867Z"
    }
   },
   "outputs": [],
   "source": [
    "imp_mean = SimpleImputer(missing_values=np.nan, strategy='mean')\n",
    "X = imp_mean.fit_transform(X)\n",
    "Y = imp_mean.fit_transform(Y)"
   ]
  },
  {
   "cell_type": "markdown",
   "id": "b05b59fc",
   "metadata": {},
   "source": [
    "#### Define Training set 80% Test set 20% "
   ]
  },
  {
   "cell_type": "code",
   "execution_count": 7,
   "id": "093dc283",
   "metadata": {
    "ExecuteTime": {
     "end_time": "2022-01-28T11:57:19.128867Z",
     "start_time": "2022-01-28T11:57:19.115870Z"
    }
   },
   "outputs": [
    {
     "name": "stdout",
     "output_type": "stream",
     "text": [
      "\n",
      "x_train dimension (24, 5)\n",
      "y_train dimension (24, 1)\n",
      "\n",
      "x_test dimension (7, 5)\n",
      "y_test dimension (7, 1)\n"
     ]
    }
   ],
   "source": [
    "X_train, X_test, Y_train, Y_test = train_test_split(X,\n",
    "                                                    Y,\n",
    "                                                    test_size=0.2,\n",
    "                                                    random_state=2021)\n",
    "print()\n",
    "print('x_train dimension', X_train.shape)\n",
    "print('y_train dimension', Y_train.shape)\n",
    "print()\n",
    "print('x_test dimension', X_test.shape)\n",
    "print('y_test dimension', Y_test.shape)"
   ]
  },
  {
   "cell_type": "markdown",
   "id": "77c420bb",
   "metadata": {},
   "source": [
    "#### Scale & Transform"
   ]
  },
  {
   "cell_type": "code",
   "execution_count": 8,
   "id": "dd7350dc",
   "metadata": {
    "ExecuteTime": {
     "end_time": "2022-01-28T11:57:19.143868Z",
     "start_time": "2022-01-28T11:57:19.130866Z"
    }
   },
   "outputs": [],
   "source": [
    "features_scaler = MinMaxScaler()\n",
    "features_scaler.fit(X_test)\n",
    "features_scaler.fit(X_train)\n",
    "\n",
    "xtest_scale = features_scaler.transform(X_test)\n",
    "xtrain_scale = features_scaler.transform(X_train)"
   ]
  },
  {
   "cell_type": "code",
   "execution_count": 9,
   "id": "f4194ab2",
   "metadata": {
    "ExecuteTime": {
     "end_time": "2022-01-28T11:57:21.698715Z",
     "start_time": "2022-01-28T11:57:21.681711Z"
    }
   },
   "outputs": [],
   "source": [
    "target_scaler = MinMaxScaler()\n",
    "\n",
    "target_scaler.fit(Y_train)\n",
    "target_scaler.fit(Y_test)\n",
    "\n",
    "ytrain_scale = target_scaler.transform(Y_train)\n",
    "ytest_scale = target_scaler.transform(Y_test)"
   ]
  },
  {
   "cell_type": "markdown",
   "id": "ba3c3dce",
   "metadata": {},
   "source": [
    "### Model Testing"
   ]
  },
  {
   "cell_type": "markdown",
   "id": "58da80b0",
   "metadata": {},
   "source": [
    "#### Score Board"
   ]
  },
  {
   "cell_type": "code",
   "execution_count": 10,
   "id": "1d8a1eda",
   "metadata": {
    "ExecuteTime": {
     "end_time": "2022-01-28T11:57:24.373683Z",
     "start_time": "2022-01-28T11:57:24.357683Z"
    }
   },
   "outputs": [],
   "source": [
    "model_scores_dataframe = DataFrame(\n",
    "    columns=['Model', 'Mean Absolute Error Score(%)'])"
   ]
  },
  {
   "cell_type": "markdown",
   "id": "40f58f53",
   "metadata": {},
   "source": [
    "#### RandomForest Regressor"
   ]
  },
  {
   "cell_type": "markdown",
   "id": "664558ee",
   "metadata": {},
   "source": [
    "##### Train RandomForest"
   ]
  },
  {
   "cell_type": "code",
   "execution_count": 10,
   "id": "fbe9bbff",
   "metadata": {
    "ExecuteTime": {
     "end_time": "2022-01-28T09:44:56.436995Z",
     "start_time": "2022-01-28T09:44:04.493999Z"
    }
   },
   "outputs": [
    {
     "name": "stdout",
     "output_type": "stream",
     "text": [
      "Best training model  RandomForestRegressor(criterion='poisson', max_features='sqrt',\n",
      "                      random_state=2021)\n",
      "Best training model score, coefficient of determination R squared 0.7595773549900268\n"
     ]
    }
   ],
   "source": [
    "# define Random Forest Regressor\n",
    "rf_regressor_milk = RandomForestRegressor(random_state=2021)\n",
    "\n",
    "# define list of Parameters\n",
    "params_rf_milk = {\n",
    "    'n_estimators': [100, 500, 800],\n",
    "    'criterion': ['squared_error', 'absolute_error', 'poisson'],\n",
    "    'max_features': [\"auto\", \"sqrt\", \"log2\"],\n",
    "    \"bootstrap\": [True, False]\n",
    "}\n",
    "\n",
    "# Hyper parameter tuning via Grid Search Cross Validation\n",
    "grid_rf_milk = GridSearchCV(estimator=rf_regressor_milk,\n",
    "                            param_grid=params_rf_milk,\n",
    "                            n_jobs=-1,\n",
    "                            cv=5)\n",
    "\n",
    "# Fit the grid to scaled data\n",
    "grid_rf_milk.fit(xtrain_scale, ytrain_scale.reshape(-1))\n",
    "\n",
    "# print best training model & R squared score\n",
    "print('Best training model ', grid_rf_milk.best_estimator_)\n",
    "print('Best training model score, coefficient of determination R squared',\n",
    "      grid_rf_milk.best_score_)"
   ]
  },
  {
   "cell_type": "markdown",
   "id": "446c6f92",
   "metadata": {},
   "source": [
    "##### Predict RandomForest"
   ]
  },
  {
   "cell_type": "code",
   "execution_count": 11,
   "id": "68ceb025",
   "metadata": {
    "ExecuteTime": {
     "end_time": "2022-01-28T09:44:56.467995Z",
     "start_time": "2022-01-28T09:44:56.438995Z"
    }
   },
   "outputs": [
    {
     "name": "stdout",
     "output_type": "stream",
     "text": [
      "predicted milk production values \n",
      " [[1708.71053333]\n",
      " [1698.13353333]\n",
      " [1865.259     ]\n",
      " [1324.12246667]\n",
      " [1432.12473333]\n",
      " [1379.5281    ]\n",
      " [2588.9182    ]]\n",
      "actual milk production values \n",
      " [[1332.5]\n",
      " [1106.5]\n",
      " [1566.1]\n",
      " [1446.2]\n",
      " [1408.8]\n",
      " [1431.2]\n",
      " [1790.8]]\n"
     ]
    }
   ],
   "source": [
    "# Predict Milk Production and un-scale back to original values\n",
    "y_predict = target_scaler.inverse_transform(\n",
    "    grid_rf_milk.predict(xtest_scale).reshape(-1, 1))\n",
    "\n",
    "print('predicted milk production values \\n', y_predict)\n",
    "print('actual milk production values \\n', Y_test)\n",
    "\n",
    "# Calculate Mean Absolute Error\n",
    "MAE_rf = mean_absolute_error(Y_test, y_predict)\n",
    "#print(MAE_rf)"
   ]
  },
  {
   "cell_type": "markdown",
   "id": "5d91acdc",
   "metadata": {},
   "source": [
    "##### Save Model Score"
   ]
  },
  {
   "cell_type": "code",
   "execution_count": 12,
   "id": "57ce9131",
   "metadata": {
    "ExecuteTime": {
     "end_time": "2022-01-28T09:44:56.483998Z",
     "start_time": "2022-01-28T09:44:56.470997Z"
    }
   },
   "outputs": [
    {
     "name": "stdout",
     "output_type": "stream",
     "text": [
      "          Model  Mean Absolute Error Score(%)\n",
      "0  RandomForest                    323.170776\n"
     ]
    }
   ],
   "source": [
    "model_scores_dataframe.loc[len(model_scores_dataframe)] = [\n",
    "    'RandomForest', MAE_rf\n",
    "]\n",
    "print(model_scores_dataframe)"
   ]
  },
  {
   "cell_type": "markdown",
   "id": "b4aab677",
   "metadata": {},
   "source": [
    "#### XGBOOST Regressor"
   ]
  },
  {
   "cell_type": "markdown",
   "id": "7c6eb8ab",
   "metadata": {},
   "source": [
    "##### Train XGBOOST"
   ]
  },
  {
   "cell_type": "code",
   "execution_count": 13,
   "id": "119a7167",
   "metadata": {
    "ExecuteTime": {
     "end_time": "2022-01-28T09:46:40.460997Z",
     "start_time": "2022-01-28T09:44:56.486998Z"
    }
   },
   "outputs": [
    {
     "name": "stdout",
     "output_type": "stream",
     "text": [
      "Fitting 5 folds for each of 144 candidates, totalling 720 fits\n",
      "Best training model  XGBRegressor(base_score=0.5, booster='gbtree', colsample_bylevel=1,\n",
      "             colsample_bynode=1, colsample_bytree=1, enable_categorical=False,\n",
      "             gamma=0.01, gpu_id=-1, importance_type=None,\n",
      "             interaction_constraints='', learning_rate=0.01, max_delta_step=0,\n",
      "             max_depth=3, min_child_weight=1, missing=nan,\n",
      "             monotone_constraints='()', n_estimators=340, n_jobs=8,\n",
      "             num_parallel_tree=1, predictor='auto', random_state=2021,\n",
      "             reg_alpha=0, reg_lambda=1, scale_pos_weight=1, subsample=1,\n",
      "             tree_method='exact', validate_parameters=1, verbosity=None)\n",
      "Best model Parameters {'gamma': 0.01, 'learning_rate': 0.01, 'max_depth': 3, 'n_estimators': 340}\n",
      "Best training model score, coefficient of determination R squared 0.7380290743733757\n"
     ]
    }
   ],
   "source": [
    "# define XGBRegressor\n",
    "xgb_regressor_milk = XGBRegressor(random_state=2021)\n",
    "\n",
    "# define parameters space to loop over\n",
    "params_xgb_milk = {\n",
    "    'n_estimators': [20, 40, 80, 160, 340, 500],\n",
    "    'max_depth': [3, 6, 9],\n",
    "    'gamma': [0.01, 0.1],\n",
    "    'learning_rate': [0.001, 0.01, 0.1, 1]\n",
    "}\n",
    "\n",
    "# Hyper parameter tuning via Grid Search Cross Validation\n",
    "grid_xgb_milk = GridSearchCV(\n",
    "    estimator=xgb_regressor_milk,\n",
    "    param_grid=params_xgb_milk,\n",
    "    #n_jobs=-1,\n",
    "    scoring=['r2', 'neg_root_mean_squared_error'],\n",
    "    refit='r2',\n",
    "    n_jobs=-1,\n",
    "    cv=5,\n",
    "    verbose=4)\n",
    "\n",
    "# fit grid to training scaled set\n",
    "grid_xgb_milk.fit(xtrain_scale, ytrain_scale)\n",
    "\n",
    "# print best training model & R squared score\n",
    "print('Best training model ', grid_xgb_milk.best_estimator_)\n",
    "print('Best model Parameters', grid_xgb_milk.best_params_)\n",
    "print('Best training model score, coefficient of determination R squared',\n",
    "      grid_xgb_milk.best_score_)"
   ]
  },
  {
   "cell_type": "markdown",
   "id": "6d49ff37",
   "metadata": {},
   "source": [
    "##### Predict XGBOOST"
   ]
  },
  {
   "cell_type": "code",
   "execution_count": 14,
   "id": "410a7574",
   "metadata": {
    "ExecuteTime": {
     "end_time": "2022-01-28T09:46:40.492997Z",
     "start_time": "2022-01-28T09:46:40.465000Z"
    }
   },
   "outputs": [
    {
     "name": "stdout",
     "output_type": "stream",
     "text": [
      "predicted milk production values \n",
      " [[1615.9668]\n",
      " [1696.8844]\n",
      " [2496.5693]\n",
      " [1419.0082]\n",
      " [1451.4453]\n",
      " [1419.0082]\n",
      " [2572.2388]]\n",
      "actual milk production values \n",
      " [[1332.5]\n",
      " [1106.5]\n",
      " [1566.1]\n",
      " [1446.2]\n",
      " [1408.8]\n",
      " [1431.2]\n",
      " [1790.8]]\n"
     ]
    }
   ],
   "source": [
    "# Predict Milk Production and un-scale back to original values\n",
    "y_predict = target_scaler.inverse_transform(\n",
    "    grid_xgb_milk.predict(xtest_scale).reshape(-1, 1))\n",
    "\n",
    "print('predicted milk production values \\n', y_predict)\n",
    "print('actual milk production values \\n', Y_test)\n",
    "\n",
    "# Calculate Mean Absolute Error\n",
    "MAE_xgb = mean_absolute_error(Y_test, y_predict)\n",
    "#print(MAE_xgb)"
   ]
  },
  {
   "cell_type": "markdown",
   "id": "f87104a4",
   "metadata": {},
   "source": [
    "##### Save Model Score"
   ]
  },
  {
   "cell_type": "code",
   "execution_count": 15,
   "id": "fd170cd6",
   "metadata": {
    "ExecuteTime": {
     "end_time": "2022-01-28T09:46:40.524997Z",
     "start_time": "2022-01-28T09:46:40.495998Z"
    }
   },
   "outputs": [
    {
     "name": "stdout",
     "output_type": "stream",
     "text": [
      "          Model  Mean Absolute Error Score(%)\n",
      "0  RandomForest                    323.170776\n",
      "1       XGBOOST                    381.112608\n"
     ]
    }
   ],
   "source": [
    "model_scores_dataframe.loc[len(model_scores_dataframe)] = ['XGBOOST', MAE_xgb]\n",
    "print(model_scores_dataframe)"
   ]
  },
  {
   "cell_type": "markdown",
   "id": "a1eb8eb9",
   "metadata": {},
   "source": [
    "#### ANN Artificial Neural Network"
   ]
  },
  {
   "cell_type": "markdown",
   "id": "d01711cf",
   "metadata": {},
   "source": [
    "##### Training & Keras Parameter Tuning"
   ]
  },
  {
   "cell_type": "code",
   "execution_count": 16,
   "id": "6199a6b5",
   "metadata": {
    "ExecuteTime": {
     "end_time": "2022-01-28T09:47:46.853000Z",
     "start_time": "2022-01-28T09:46:40.528998Z"
    },
    "scrolled": true
   },
   "outputs": [
    {
     "name": "stdout",
     "output_type": "stream",
     "text": [
      "Trial 5 Complete [00h 00m 11s]\n",
      "val_mean_absolute_error: 0.08050457884867986\n",
      "\n",
      "Best val_mean_absolute_error So Far: 0.08015948534011841\n",
      "Total elapsed time: 00h 01m 02s\n",
      "INFO:tensorflow:Oracle triggered exit\n",
      "\n",
      "\n",
      "Results summary\n",
      "Results in ./../temp/ANN-tuner/Milk production\n",
      "Showing 10 best trials\n",
      "Objective(name='val_mean_absolute_error', direction='min')\n",
      "Trial summary\n",
      "Hyperparameters:\n",
      "num_layers: 7\n",
      "units_0: 599\n",
      "learning_rate: 0.0001\n",
      "Score: 0.08015948534011841\n",
      "Trial summary\n",
      "Hyperparameters:\n",
      "num_layers: 19\n",
      "units_0: 247\n",
      "learning_rate: 0.001\n",
      "Score: 0.08050457884867986\n",
      "Trial summary\n",
      "Hyperparameters:\n",
      "num_layers: 12\n",
      "units_0: 247\n",
      "learning_rate: 0.0001\n",
      "Score: 0.09391907602548599\n",
      "Trial summary\n",
      "Hyperparameters:\n",
      "num_layers: 16\n",
      "units_0: 279\n",
      "learning_rate: 0.001\n",
      "Score: 0.09478462487459183\n",
      "Trial summary\n",
      "Hyperparameters:\n",
      "num_layers: 7\n",
      "units_0: 55\n",
      "learning_rate: 0.0001\n",
      "Score: 0.1494094282388687\n",
      "Epoch 1/50\n",
      "1/1 [==============================] - 1s 841ms/step - loss: 0.1759 - mean_absolute_error: 0.1759 - val_loss: 0.0749 - val_mean_absolute_error: 0.0749\n",
      "Epoch 2/50\n",
      "1/1 [==============================] - 0s 33ms/step - loss: 0.1723 - mean_absolute_error: 0.1723 - val_loss: 0.0780 - val_mean_absolute_error: 0.0780\n",
      "Epoch 3/50\n",
      "1/1 [==============================] - 0s 39ms/step - loss: 0.1695 - mean_absolute_error: 0.1695 - val_loss: 0.0811 - val_mean_absolute_error: 0.0811\n",
      "Epoch 4/50\n",
      "1/1 [==============================] - 0s 44ms/step - loss: 0.1673 - mean_absolute_error: 0.1673 - val_loss: 0.0841 - val_mean_absolute_error: 0.0841\n",
      "Epoch 5/50\n",
      "1/1 [==============================] - 0s 35ms/step - loss: 0.1653 - mean_absolute_error: 0.1653 - val_loss: 0.0870 - val_mean_absolute_error: 0.0870\n",
      "Epoch 6/50\n",
      "1/1 [==============================] - 0s 39ms/step - loss: 0.1634 - mean_absolute_error: 0.1634 - val_loss: 0.0898 - val_mean_absolute_error: 0.0898\n",
      "Epoch 7/50\n",
      "1/1 [==============================] - 0s 38ms/step - loss: 0.1617 - mean_absolute_error: 0.1617 - val_loss: 0.0925 - val_mean_absolute_error: 0.0925\n",
      "Epoch 8/50\n",
      "1/1 [==============================] - 0s 44ms/step - loss: 0.1600 - mean_absolute_error: 0.1600 - val_loss: 0.0952 - val_mean_absolute_error: 0.0952\n",
      "Epoch 9/50\n",
      "1/1 [==============================] - 0s 42ms/step - loss: 0.1583 - mean_absolute_error: 0.1583 - val_loss: 0.0979 - val_mean_absolute_error: 0.0979\n",
      "Epoch 10/50\n",
      "1/1 [==============================] - 0s 37ms/step - loss: 0.1566 - mean_absolute_error: 0.1566 - val_loss: 0.1008 - val_mean_absolute_error: 0.1008\n",
      "Epoch 11/50\n",
      "1/1 [==============================] - 0s 36ms/step - loss: 0.1550 - mean_absolute_error: 0.1550 - val_loss: 0.1036 - val_mean_absolute_error: 0.1036\n",
      "Epoch 12/50\n",
      "1/1 [==============================] - 0s 38ms/step - loss: 0.1534 - mean_absolute_error: 0.1534 - val_loss: 0.1064 - val_mean_absolute_error: 0.1064\n",
      "Epoch 13/50\n",
      "1/1 [==============================] - 0s 43ms/step - loss: 0.1521 - mean_absolute_error: 0.1521 - val_loss: 0.1090 - val_mean_absolute_error: 0.1090\n",
      "Epoch 14/50\n",
      "1/1 [==============================] - 0s 39ms/step - loss: 0.1509 - mean_absolute_error: 0.1509 - val_loss: 0.1114 - val_mean_absolute_error: 0.1114\n",
      "Epoch 15/50\n",
      "1/1 [==============================] - 0s 45ms/step - loss: 0.1498 - mean_absolute_error: 0.1498 - val_loss: 0.1138 - val_mean_absolute_error: 0.1138\n",
      "Epoch 16/50\n",
      "1/1 [==============================] - 0s 37ms/step - loss: 0.1487 - mean_absolute_error: 0.1487 - val_loss: 0.1161 - val_mean_absolute_error: 0.1161\n",
      "Epoch 17/50\n",
      "1/1 [==============================] - 0s 39ms/step - loss: 0.1476 - mean_absolute_error: 0.1476 - val_loss: 0.1183 - val_mean_absolute_error: 0.1183\n",
      "Epoch 18/50\n",
      "1/1 [==============================] - 0s 42ms/step - loss: 0.1466 - mean_absolute_error: 0.1466 - val_loss: 0.1205 - val_mean_absolute_error: 0.1205\n",
      "Epoch 19/50\n",
      "1/1 [==============================] - 0s 39ms/step - loss: 0.1455 - mean_absolute_error: 0.1455 - val_loss: 0.1225 - val_mean_absolute_error: 0.1225\n",
      "Epoch 20/50\n",
      "1/1 [==============================] - 0s 47ms/step - loss: 0.1445 - mean_absolute_error: 0.1445 - val_loss: 0.1245 - val_mean_absolute_error: 0.1245\n",
      "Epoch 21/50\n",
      "1/1 [==============================] - 0s 43ms/step - loss: 0.1435 - mean_absolute_error: 0.1435 - val_loss: 0.1265 - val_mean_absolute_error: 0.1265\n",
      "Epoch 22/50\n",
      "1/1 [==============================] - 0s 44ms/step - loss: 0.1424 - mean_absolute_error: 0.1424 - val_loss: 0.1284 - val_mean_absolute_error: 0.1284\n",
      "Epoch 23/50\n",
      "1/1 [==============================] - 0s 48ms/step - loss: 0.1414 - mean_absolute_error: 0.1414 - val_loss: 0.1303 - val_mean_absolute_error: 0.1303\n",
      "Epoch 24/50\n",
      "1/1 [==============================] - 0s 43ms/step - loss: 0.1405 - mean_absolute_error: 0.1405 - val_loss: 0.1322 - val_mean_absolute_error: 0.1322\n",
      "Epoch 25/50\n",
      "1/1 [==============================] - 0s 44ms/step - loss: 0.1395 - mean_absolute_error: 0.1395 - val_loss: 0.1345 - val_mean_absolute_error: 0.1345\n",
      "Epoch 26/50\n",
      "1/1 [==============================] - 0s 33ms/step - loss: 0.1385 - mean_absolute_error: 0.1385 - val_loss: 0.1367 - val_mean_absolute_error: 0.1367\n",
      "Epoch 27/50\n",
      "1/1 [==============================] - 0s 38ms/step - loss: 0.1375 - mean_absolute_error: 0.1375 - val_loss: 0.1388 - val_mean_absolute_error: 0.1388\n",
      "Epoch 28/50\n",
      "1/1 [==============================] - 0s 36ms/step - loss: 0.1366 - mean_absolute_error: 0.1366 - val_loss: 0.1410 - val_mean_absolute_error: 0.1410\n",
      "Epoch 29/50\n",
      "1/1 [==============================] - 0s 35ms/step - loss: 0.1356 - mean_absolute_error: 0.1356 - val_loss: 0.1431 - val_mean_absolute_error: 0.1431\n",
      "Epoch 30/50\n",
      "1/1 [==============================] - 0s 45ms/step - loss: 0.1346 - mean_absolute_error: 0.1346 - val_loss: 0.1452 - val_mean_absolute_error: 0.1452\n",
      "Epoch 31/50\n",
      "1/1 [==============================] - 0s 50ms/step - loss: 0.1337 - mean_absolute_error: 0.1337 - val_loss: 0.1473 - val_mean_absolute_error: 0.1473\n",
      "Epoch 32/50\n",
      "1/1 [==============================] - 0s 46ms/step - loss: 0.1327 - mean_absolute_error: 0.1327 - val_loss: 0.1494 - val_mean_absolute_error: 0.1494\n",
      "Epoch 33/50\n",
      "1/1 [==============================] - 0s 45ms/step - loss: 0.1318 - mean_absolute_error: 0.1318 - val_loss: 0.1515 - val_mean_absolute_error: 0.1515\n",
      "Epoch 34/50\n",
      "1/1 [==============================] - 0s 44ms/step - loss: 0.1308 - mean_absolute_error: 0.1308 - val_loss: 0.1536 - val_mean_absolute_error: 0.1536\n",
      "Epoch 35/50\n",
      "1/1 [==============================] - 0s 52ms/step - loss: 0.1298 - mean_absolute_error: 0.1298 - val_loss: 0.1556 - val_mean_absolute_error: 0.1556\n",
      "Epoch 36/50\n",
      "1/1 [==============================] - 0s 51ms/step - loss: 0.1291 - mean_absolute_error: 0.1291 - val_loss: 0.1575 - val_mean_absolute_error: 0.1575\n",
      "Epoch 37/50\n",
      "1/1 [==============================] - 0s 40ms/step - loss: 0.1286 - mean_absolute_error: 0.1286 - val_loss: 0.1593 - val_mean_absolute_error: 0.1593\n",
      "Epoch 38/50\n",
      "1/1 [==============================] - 0s 46ms/step - loss: 0.1280 - mean_absolute_error: 0.1280 - val_loss: 0.1609 - val_mean_absolute_error: 0.1609\n",
      "Epoch 39/50\n",
      "1/1 [==============================] - 0s 152ms/step - loss: 0.1274 - mean_absolute_error: 0.1274 - val_loss: 0.1624 - val_mean_absolute_error: 0.1624\n",
      "Epoch 40/50\n",
      "1/1 [==============================] - 0s 52ms/step - loss: 0.1268 - mean_absolute_error: 0.1268 - val_loss: 0.1638 - val_mean_absolute_error: 0.1638\n",
      "Epoch 41/50\n",
      "1/1 [==============================] - 0s 40ms/step - loss: 0.1262 - mean_absolute_error: 0.1262 - val_loss: 0.1651 - val_mean_absolute_error: 0.1651\n",
      "Epoch 42/50\n",
      "1/1 [==============================] - 0s 37ms/step - loss: 0.1256 - mean_absolute_error: 0.1256 - val_loss: 0.1663 - val_mean_absolute_error: 0.1663\n",
      "Epoch 43/50\n",
      "1/1 [==============================] - 0s 52ms/step - loss: 0.1253 - mean_absolute_error: 0.1253 - val_loss: 0.1672 - val_mean_absolute_error: 0.1672\n",
      "Epoch 44/50\n",
      "1/1 [==============================] - 0s 50ms/step - loss: 0.1249 - mean_absolute_error: 0.1249 - val_loss: 0.1680 - val_mean_absolute_error: 0.1680\n",
      "Epoch 45/50\n",
      "1/1 [==============================] - 0s 46ms/step - loss: 0.1245 - mean_absolute_error: 0.1245 - val_loss: 0.1686 - val_mean_absolute_error: 0.1686\n",
      "Epoch 46/50\n"
     ]
    },
    {
     "name": "stdout",
     "output_type": "stream",
     "text": [
      "1/1 [==============================] - 0s 42ms/step - loss: 0.1241 - mean_absolute_error: 0.1241 - val_loss: 0.1691 - val_mean_absolute_error: 0.1691\n",
      "Epoch 47/50\n",
      "1/1 [==============================] - 0s 39ms/step - loss: 0.1238 - mean_absolute_error: 0.1238 - val_loss: 0.1697 - val_mean_absolute_error: 0.1697\n",
      "Epoch 48/50\n",
      "1/1 [==============================] - 0s 44ms/step - loss: 0.1234 - mean_absolute_error: 0.1234 - val_loss: 0.1704 - val_mean_absolute_error: 0.1704\n",
      "Epoch 49/50\n",
      "1/1 [==============================] - 0s 52ms/step - loss: 0.1230 - mean_absolute_error: 0.1230 - val_loss: 0.1711 - val_mean_absolute_error: 0.1711\n",
      "Epoch 50/50\n",
      "1/1 [==============================] - 0s 43ms/step - loss: 0.1226 - mean_absolute_error: 0.1226 - val_loss: 0.1717 - val_mean_absolute_error: 0.1717\n"
     ]
    }
   ],
   "source": [
    "temp_directory: str = './../temp/ANN-tuner/'\n",
    "\n",
    "\n",
    "# Define ANN model with Hyper parameter variable\n",
    "def build_model(hp):\n",
    "    model = keras.Sequential()\n",
    "    for i in range(hp.Int('num_layers', 2, 23)):\n",
    "        model.add(\n",
    "            layers.Dense(units=hp.Int('units_' + str(i),\n",
    "                                      min_value=23,\n",
    "                                      max_value=600,\n",
    "                                      step=32),\n",
    "                         activation='relu'))\n",
    "        model.add(layers.Dense(1, activation='linear'))\n",
    "        model.compile(optimizer=keras.optimizers.Adam(\n",
    "            hp.Choice('learning_rate', [1e-2, 1e-3, 1e-4])),\n",
    "                      loss='mean_absolute_error',\n",
    "                      metrics=['mean_absolute_error'])\n",
    "        return model\n",
    "\n",
    "\n",
    "if os.path.isdir(temp_directory):\n",
    "    try:\n",
    "        shutil.rmtree(temp_directory)\n",
    "    except OSError as exception:\n",
    "        print(f\"Error: {exception.filename} - {exception.strerror}.\")\n",
    "\n",
    "# create a directory to store each iteration of modelling\n",
    "tuner = RandomSearch(build_model,\n",
    "                     objective='val_mean_absolute_error',\n",
    "                     max_trials=5,\n",
    "                     executions_per_trial=3,\n",
    "                     directory=temp_directory,\n",
    "                     project_name='Milk production')\n",
    "\n",
    "# Defined parameter space to search in\n",
    "tuner.search_space_summary()\n",
    "\n",
    "# train trial models and compare with validation set\n",
    "tuner.search(xtrain_scale,\n",
    "             ytrain_scale,\n",
    "             epochs=50,\n",
    "             validation_data=(xtest_scale, ytest_scale))\n",
    "\n",
    "# print best 10 models according to val_mean_absolute_error\n",
    "print('\\n')\n",
    "tuner.results_summary()\n",
    "\n",
    "# get best model from training trials\n",
    "bestANNModel = tuner.get_best_models(num_models=1)[0]\n",
    "\n",
    "# fit best model to training scaled data and scaled test data\n",
    "bestANNModel.fit(xtrain_scale,\n",
    "                 ytrain_scale,\n",
    "                 epochs=50,\n",
    "                 validation_data=(xtest_scale, ytest_scale))\n",
    "#Clean up\n",
    "if os.path.isdir(temp_directory):\n",
    "    try:\n",
    "        shutil.rmtree(temp_directory)\n",
    "    except OSError as exception:\n",
    "        print(f\"Error: {exception.filename} - {exception.strerror}.\")"
   ]
  },
  {
   "cell_type": "markdown",
   "id": "7571c8b0",
   "metadata": {
    "ExecuteTime": {
     "end_time": "2022-01-28T08:39:39.920079Z",
     "start_time": "2022-01-28T08:39:39.911081Z"
    }
   },
   "source": [
    "##### Predict"
   ]
  },
  {
   "cell_type": "code",
   "execution_count": 17,
   "id": "5dc2de5e",
   "metadata": {
    "ExecuteTime": {
     "end_time": "2022-01-28T09:47:47.232001Z",
     "start_time": "2022-01-28T09:47:46.856998Z"
    }
   },
   "outputs": [
    {
     "name": "stdout",
     "output_type": "stream",
     "text": [
      "predicted milk production values \n",
      " [[1735.9923]\n",
      " [1831.9497]\n",
      " [1605.0735]\n",
      " [1437.5625]\n",
      " [1501.403 ]\n",
      " [1497.9547]\n",
      " [2250.3389]]\n",
      "actual milk production values \n",
      " [[1332.5]\n",
      " [1106.5]\n",
      " [1566.1]\n",
      " [1446.2]\n",
      " [1408.8]\n",
      " [1431.2]\n",
      " [1790.8]]\n"
     ]
    }
   ],
   "source": [
    "# Predict Milk Production and un-scale back to original values\n",
    "\n",
    "y_predict = target_scaler.inverse_transform(\n",
    "    bestANNModel.predict(xtest_scale).reshape(-1, 1))\n",
    "\n",
    "print('predicted milk production values \\n', y_predict)\n",
    "print('actual milk production values \\n', Y_test)\n",
    "\n",
    "# Calculate Mean Absolute Error\n",
    "MAE_ANN = mean_absolute_error(Y_test, y_predict)\n",
    "#print(MAE_xgb)"
   ]
  },
  {
   "cell_type": "markdown",
   "id": "c89cad3f",
   "metadata": {
    "ExecuteTime": {
     "end_time": "2022-01-28T08:38:45.856921Z",
     "start_time": "2022-01-28T08:38:45.819931Z"
    }
   },
   "source": [
    "##### Save Model Score"
   ]
  },
  {
   "cell_type": "code",
   "execution_count": 18,
   "id": "700e018e",
   "metadata": {
    "ExecuteTime": {
     "end_time": "2022-01-28T09:47:47.279998Z",
     "start_time": "2022-01-28T09:47:47.239001Z"
    }
   },
   "outputs": [
    {
     "name": "stdout",
     "output_type": "stream",
     "text": [
      "          Model  Mean Absolute Error Score(%)\n",
      "0  RandomForest                    323.170776\n",
      "1       XGBOOST                    381.112608\n",
      "2           ANN                    256.492791\n"
     ]
    }
   ],
   "source": [
    "model_scores_dataframe.loc[len(model_scores_dataframe)] = ['ANN', MAE_ANN]\n",
    "print(model_scores_dataframe)"
   ]
  },
  {
   "cell_type": "markdown",
   "id": "fe7a8b36",
   "metadata": {},
   "source": [
    "### Save Artifacts"
   ]
  },
  {
   "cell_type": "markdown",
   "id": "775ccd8f",
   "metadata": {},
   "source": [
    "Save trained model into binary pickle file to use the model later with new input data from web app"
   ]
  },
  {
   "cell_type": "code",
   "execution_count": 11,
   "id": "3e30b6c5",
   "metadata": {
    "ExecuteTime": {
     "end_time": "2022-01-28T11:57:33.898714Z",
     "start_time": "2022-01-28T11:57:33.890719Z"
    }
   },
   "outputs": [],
   "source": [
    "READ_BINARY = \"rb\"\n",
    "WRITE_BINARY = \"wb\""
   ]
  },
  {
   "cell_type": "code",
   "execution_count": 12,
   "id": "e13d9ab8",
   "metadata": {
    "ExecuteTime": {
     "end_time": "2022-01-28T11:57:33.914715Z",
     "start_time": "2022-01-28T11:57:33.902715Z"
    }
   },
   "outputs": [],
   "source": [
    "model_directory: str = \"milk-production-models\"\n",
    "directory: str = f'./../artifacts/{model_directory}/'"
   ]
  },
  {
   "cell_type": "markdown",
   "id": "98d53cdb",
   "metadata": {},
   "source": [
    "#### Save Scalers"
   ]
  },
  {
   "cell_type": "code",
   "execution_count": 13,
   "id": "a495e24e",
   "metadata": {
    "ExecuteTime": {
     "end_time": "2022-01-28T11:58:00.676751Z",
     "start_time": "2022-01-28T11:58:00.653749Z"
    }
   },
   "outputs": [],
   "source": [
    "filename: str = 'milk-features-scaler.pickle'\n",
    "features_scaler_filepath: str = f'{directory}{filename}'\n",
    "\n",
    "with open(features_scaler_filepath, WRITE_BINARY) as file:\n",
    "    pickle.dump(features_scaler, file)"
   ]
  },
  {
   "cell_type": "code",
   "execution_count": 14,
   "id": "d4ac4717",
   "metadata": {
    "ExecuteTime": {
     "end_time": "2022-01-28T11:58:01.908752Z",
     "start_time": "2022-01-28T11:58:01.889753Z"
    }
   },
   "outputs": [],
   "source": [
    "filename: str = 'milk-target-scaler.pickle'\n",
    "target_scaler_filepath: str = f'{directory}{filename}'\n",
    "\n",
    "with open(target_scaler_filepath, WRITE_BINARY) as file:\n",
    "    pickle.dump(target_scaler, file)"
   ]
  },
  {
   "cell_type": "markdown",
   "id": "235b8c3c",
   "metadata": {},
   "source": [
    "#### Save Models"
   ]
  },
  {
   "cell_type": "code",
   "execution_count": 24,
   "id": "ac5ad16b",
   "metadata": {
    "ExecuteTime": {
     "end_time": "2022-01-28T09:51:37.390768Z",
     "start_time": "2022-01-28T09:51:37.343771Z"
    }
   },
   "outputs": [],
   "source": [
    "filename: str = 'milk-ann-model.h5'\n",
    "ann_filepath: str = f'{directory}{filename}'\n",
    "bestANNModel.save(ann_filepath, save_format='h5')"
   ]
  },
  {
   "cell_type": "markdown",
   "id": "e65dd81a",
   "metadata": {
    "ExecuteTime": {
     "end_time": "2022-01-28T08:11:28.329156Z",
     "start_time": "2022-01-28T08:11:28.319156Z"
    }
   },
   "source": [
    "```py\n",
    "# fit and transform in one line\n",
    "scaler_x.fit_transform(X_train)\n",
    "# remeber to inverse the scaling on model output\n",
    "scaler_x.inverse_transform(xtest_scale)\n",
    "\n",
    "# Read pickle file into variable to use scaler\n",
    "scaler_x_pkl_ann = pickle.load(open(f'{directory}feature-scaler.pickle', 'rb'))\n",
    "\n",
    "with open(target_scaler_filepath, READ_BINARY) as file:\n",
    "    pickle.dump(scaler_y, file)\n",
    "# Read pickle file into variable to use scaler\n",
    "\n",
    "with open(target_scaler_filepath, READ_BINARY) as file:\n",
    "    target_scaler = pickle.load(file)\n",
    "\n",
    "print(type(target_scaler))\n",
    "\n",
    "with open(ann_filepath, WRITE_BINARY) as file:\n",
    "    pickle.dump(bestANNModel, file)\n",
    "    \n",
    "pickle.dump(bestANNModel, open(f'{directory}pkl_ann_milk', 'wb'))\n",
    "\n",
    "# Read pickle file into variable to use model\n",
    "model_pkl_ann = pickle.load(open(f'{directory}pkl_ann_milk', 'rb'))\n",
    "\n",
    "## Example using pickle file with saved ANN model\n",
    "\n",
    "# take input from source as array\n",
    "data_input_from_webapp = np.array([357.3, 362.5, 172., 1440.2, 2136.5])\n",
    "\n",
    "# scale input with same scaler as used in model\n",
    "scale_data_from_webapp = scaler_x.transform(\n",
    "    data_input_from_webapp.reshape(1, -1))\n",
    "\n",
    "# predict scaled value\n",
    "scaled_prediction = bestANNModel.predict(scale_data_from_webapp)\n",
    "\n",
    "# descale prediction back to normal value\n",
    "prediction = scaler_y.inverse_transform(scaled_prediction)\n",
    "print('\\n Expected Milk Production is ', prediction[0][0])\n",
    "```"
   ]
  }
 ],
 "metadata": {
  "kernelspec": {
   "display_name": "Python 3 (ipykernel)",
   "language": "python",
   "name": "python3"
  },
  "language_info": {
   "codemirror_mode": {
    "name": "ipython",
    "version": 3
   },
   "file_extension": ".py",
   "mimetype": "text/x-python",
   "name": "python",
   "nbconvert_exporter": "python",
   "pygments_lexer": "ipython3",
   "version": "3.8.12"
  },
  "toc": {
   "base_numbering": 1,
   "nav_menu": {},
   "number_sections": false,
   "sideBar": true,
   "skip_h1_title": false,
   "title_cell": "Table of Contents",
   "title_sidebar": "Contents",
   "toc_cell": false,
   "toc_position": {
    "height": "calc(100% - 180px)",
    "left": "10px",
    "top": "150px",
    "width": "375px"
   },
   "toc_section_display": true,
   "toc_window_display": true
  }
 },
 "nbformat": 4,
 "nbformat_minor": 5
}
