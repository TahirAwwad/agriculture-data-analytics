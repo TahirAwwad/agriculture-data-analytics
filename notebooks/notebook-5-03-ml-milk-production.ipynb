{
 "cells": [
  {
   "cell_type": "markdown",
   "id": "e73f5217",
   "metadata": {},
   "source": [
    "<style>\n",
    "*\n",
    "{\n",
    "\ttext-align: justify;\n",
    "\tline-height: 1.5;\n",
    "\tfont-family: \"Arial\", sans-serif;\n",
    "\tfont-size: 12px;\n",
    "}\n",
    "\n",
    "h2, h3, h4, h5, h6\n",
    "{\n",
    "\tfont-family: \"Arial\", sans-serif;\n",
    "\tfont-size: 12px;\n",
    "\tfont-weight: bold;\n",
    "}\n",
    "h2\n",
    "{\n",
    "\tfont-size: 14px;\n",
    "}\n",
    "h1\n",
    "{\n",
    "\tfont-family: \"Wingdings\", sans-serif;\n",
    "\tfont-size: 16px;\n",
    "}\n",
    "</style>"
   ]
  },
  {
   "cell_type": "markdown",
   "id": "bad5aeea",
   "metadata": {},
   "source": [
    "## Milk Production Prediction Model Builder"
   ]
  },
  {
   "cell_type": "markdown",
   "id": "12a36702",
   "metadata": {},
   "source": [
    "<!--\n",
    "import data_analytics.github as github\n",
    "print(github.create_jupyter_notebook_header(\"tahirawwad\", \"agriculture-data-analytics\", \"notebooks/notebook-5-03-ml-milk-production.ipynb\", \"master\"))\n",
    "-->\n",
    "<table style=\"margin: auto;\"><tr><td><a href=\"https://mybinder.org/v2/gh/tahirawwad/agriculture-data-analytics/master?filepath=notebooks/notebook-5-03-ml-milk-production.ipynb\" target=\"_parent\"><img src=\"https://mybinder.org/badge_logo.svg\" alt=\"Open In Binder\"/></a></td><td>online editors</td><td><a href=\"https://colab.research.google.com/github/tahirawwad/agriculture-data-analytics/blob/master/notebooks/notebook-5-03-ml-milk-production.ipynbynb\" target=\"_parent\"><img src=\"https://colab.research.google.com/assets/colab-badge.svg\" alt=\"Open In Colab\"/></a></td></tr></table>"
   ]
  },
  {
   "cell_type": "markdown",
   "id": "92ac96b5",
   "metadata": {},
   "source": [
    "### Objective\n",
    "Create the best machine learning model to predict Milk production value in Ireland according to the historical data from Central Statistics office AEA01 Value at Current Prices for Output, Input and Income in Agriculture."
   ]
  },
  {
   "cell_type": "markdown",
   "id": "55902df1",
   "metadata": {},
   "source": [
    "### Setup"
   ]
  },
  {
   "cell_type": "markdown",
   "id": "c1d65b56",
   "metadata": {},
   "source": [
    "Import required third party Python libraries, import supporting functions and sets up data source file paths."
   ]
  },
  {
   "cell_type": "code",
   "execution_count": 1,
   "id": "cae9ae61",
   "metadata": {
    "ExecuteTime": {
     "end_time": "2022-01-28T09:23:03.528138Z",
     "start_time": "2022-01-28T09:23:03.524142Z"
    }
   },
   "outputs": [],
   "source": [
    "# Local\n",
    "#!pip install -r script/requirements.txt\n",
    "# Remote option\n",
    "#!pip install -r https://raw.githubusercontent.com/tahirawwad/agriculture-data-analytics/requirements.txt\n",
    "#Options: --quiet --user"
   ]
  },
  {
   "cell_type": "code",
   "execution_count": 2,
   "id": "3ef32f49",
   "metadata": {
    "ExecuteTime": {
     "end_time": "2022-01-28T09:23:18.659073Z",
     "start_time": "2022-01-28T09:23:04.411854Z"
    }
   },
   "outputs": [],
   "source": [
    "from keras_tuner.tuners import RandomSearch\n",
    "from pandas import read_csv, DataFrame\n",
    "from sklearn.ensemble import RandomForestRegressor\n",
    "from sklearn.impute import SimpleImputer\n",
    "from sklearn.metrics import mean_absolute_error\n",
    "from sklearn.model_selection import GridSearchCV\n",
    "from sklearn.model_selection import train_test_split\n",
    "from sklearn.preprocessing import MinMaxScaler\n",
    "from tensorflow import keras\n",
    "from tensorflow.keras import layers\n",
    "from xgboost import XGBRegressor\n",
    "import numpy as np\n",
    "import os\n",
    "import pickle\n",
    "import shutil"
   ]
  },
  {
   "cell_type": "markdown",
   "id": "39543089",
   "metadata": {},
   "source": [
    "### Load dataframe"
   ]
  },
  {
   "cell_type": "code",
   "execution_count": 3,
   "id": "99092f99",
   "metadata": {
    "ExecuteTime": {
     "end_time": "2022-01-28T09:23:18.690177Z",
     "start_time": "2022-01-28T09:23:18.661083Z"
    }
   },
   "outputs": [],
   "source": [
    "dataframe_filepath = \"./../artifacts/irish-milk-production-eda-output.csv\"\n",
    "dataframe: DataFrame = read_csv(dataframe_filepath)"
   ]
  },
  {
   "cell_type": "markdown",
   "id": "e86689fb",
   "metadata": {},
   "source": [
    "### Production of Milk"
   ]
  },
  {
   "cell_type": "markdown",
   "id": "43dce267",
   "metadata": {},
   "source": [
    "Extract the milk production features."
   ]
  },
  {
   "cell_type": "code",
   "execution_count": 4,
   "id": "a096f328",
   "metadata": {
    "ExecuteTime": {
     "end_time": "2022-01-28T09:23:18.786178Z",
     "start_time": "2022-01-28T09:23:18.695178Z"
    }
   },
   "outputs": [
    {
     "name": "stdout",
     "output_type": "stream",
     "text": [
      "Milk production dataset dimensions (31, 27)\n"
     ]
    },
    {
     "data": {
      "text/html": [
       "<div>\n",
       "<style scoped>\n",
       "    .dataframe tbody tr th:only-of-type {\n",
       "        vertical-align: middle;\n",
       "    }\n",
       "\n",
       "    .dataframe tbody tr th {\n",
       "        vertical-align: top;\n",
       "    }\n",
       "\n",
       "    .dataframe thead th {\n",
       "        text-align: right;\n",
       "    }\n",
       "</style>\n",
       "<table border=\"1\" class=\"dataframe\">\n",
       "  <thead>\n",
       "    <tr style=\"text-align: right;\">\n",
       "      <th></th>\n",
       "      <th>All Livestock Products - Milk</th>\n",
       "      <th>Taxes on Products</th>\n",
       "      <th>Subsidies on Products</th>\n",
       "      <th>Compensation of Employees</th>\n",
       "      <th>Contract Work</th>\n",
       "      <th>Entrepreneurial Income</th>\n",
       "      <th>Factor Income</th>\n",
       "      <th>Fixed Capital Consumption - Farm Buildings</th>\n",
       "      <th>Fixed Capital Consumption - Machinery, Equipment, etc</th>\n",
       "      <th>Interest less FISIM</th>\n",
       "      <th>...</th>\n",
       "      <th>Intermediate Consumption - Feeding Stuffs</th>\n",
       "      <th>Intermediate Consumption - Fertilisers</th>\n",
       "      <th>Intermediate Consumption - Financial Intermediation Services Indirect</th>\n",
       "      <th>Intermediate Consumption - Forage Plants</th>\n",
       "      <th>Intermediate Consumption - Maintenance and Repairs</th>\n",
       "      <th>Intermediate Consumption - Seeds</th>\n",
       "      <th>Intermediate Consumption - Services</th>\n",
       "      <th>Intermediate Consumption - Veterinary Expenses</th>\n",
       "      <th>Intermediate Consumption - Other Goods (Detergents, Small Tools, etc)</th>\n",
       "      <th>Intermediate Consumption - Other Goods and Services</th>\n",
       "    </tr>\n",
       "    <tr>\n",
       "      <th>Year</th>\n",
       "      <th></th>\n",
       "      <th></th>\n",
       "      <th></th>\n",
       "      <th></th>\n",
       "      <th></th>\n",
       "      <th></th>\n",
       "      <th></th>\n",
       "      <th></th>\n",
       "      <th></th>\n",
       "      <th></th>\n",
       "      <th></th>\n",
       "      <th></th>\n",
       "      <th></th>\n",
       "      <th></th>\n",
       "      <th></th>\n",
       "      <th></th>\n",
       "      <th></th>\n",
       "      <th></th>\n",
       "      <th></th>\n",
       "      <th></th>\n",
       "      <th></th>\n",
       "    </tr>\n",
       "  </thead>\n",
       "  <tbody>\n",
       "    <tr>\n",
       "      <th>1990</th>\n",
       "      <td>1316.3</td>\n",
       "      <td>75.0</td>\n",
       "      <td>408.9</td>\n",
       "      <td>377.6</td>\n",
       "      <td>180.7</td>\n",
       "      <td>1577.2</td>\n",
       "      <td>2321.1</td>\n",
       "      <td>106.4</td>\n",
       "      <td>325.5</td>\n",
       "      <td>267.4</td>\n",
       "      <td>...</td>\n",
       "      <td>642.2</td>\n",
       "      <td>326.0</td>\n",
       "      <td>34.0</td>\n",
       "      <td>553.1</td>\n",
       "      <td>203.9</td>\n",
       "      <td>42.0</td>\n",
       "      <td>109.1</td>\n",
       "      <td>85.2</td>\n",
       "      <td>73.2</td>\n",
       "      <td>182.3</td>\n",
       "    </tr>\n",
       "    <tr>\n",
       "      <th>1991</th>\n",
       "      <td>1258.9</td>\n",
       "      <td>78.2</td>\n",
       "      <td>357.3</td>\n",
       "      <td>362.5</td>\n",
       "      <td>172.0</td>\n",
       "      <td>1440.2</td>\n",
       "      <td>2136.5</td>\n",
       "      <td>113.2</td>\n",
       "      <td>331.7</td>\n",
       "      <td>237.2</td>\n",
       "      <td>...</td>\n",
       "      <td>646.5</td>\n",
       "      <td>319.1</td>\n",
       "      <td>39.0</td>\n",
       "      <td>525.6</td>\n",
       "      <td>184.6</td>\n",
       "      <td>43.8</td>\n",
       "      <td>110.2</td>\n",
       "      <td>91.9</td>\n",
       "      <td>75.3</td>\n",
       "      <td>185.5</td>\n",
       "    </tr>\n",
       "    <tr>\n",
       "      <th>1992</th>\n",
       "      <td>1373.1</td>\n",
       "      <td>79.5</td>\n",
       "      <td>446.0</td>\n",
       "      <td>336.8</td>\n",
       "      <td>179.8</td>\n",
       "      <td>1842.6</td>\n",
       "      <td>2516.2</td>\n",
       "      <td>117.8</td>\n",
       "      <td>332.4</td>\n",
       "      <td>237.6</td>\n",
       "      <td>...</td>\n",
       "      <td>668.5</td>\n",
       "      <td>305.1</td>\n",
       "      <td>43.0</td>\n",
       "      <td>533.8</td>\n",
       "      <td>175.1</td>\n",
       "      <td>46.4</td>\n",
       "      <td>110.8</td>\n",
       "      <td>93.7</td>\n",
       "      <td>72.2</td>\n",
       "      <td>183.0</td>\n",
       "    </tr>\n",
       "    <tr>\n",
       "      <th>1993</th>\n",
       "      <td>1439.0</td>\n",
       "      <td>68.0</td>\n",
       "      <td>466.4</td>\n",
       "      <td>339.0</td>\n",
       "      <td>199.5</td>\n",
       "      <td>1985.6</td>\n",
       "      <td>2586.9</td>\n",
       "      <td>121.9</td>\n",
       "      <td>335.5</td>\n",
       "      <td>162.5</td>\n",
       "      <td>...</td>\n",
       "      <td>733.5</td>\n",
       "      <td>301.2</td>\n",
       "      <td>49.0</td>\n",
       "      <td>572.9</td>\n",
       "      <td>195.7</td>\n",
       "      <td>46.9</td>\n",
       "      <td>113.3</td>\n",
       "      <td>100.2</td>\n",
       "      <td>79.8</td>\n",
       "      <td>193.1</td>\n",
       "    </tr>\n",
       "    <tr>\n",
       "      <th>1994</th>\n",
       "      <td>1446.2</td>\n",
       "      <td>53.7</td>\n",
       "      <td>666.0</td>\n",
       "      <td>345.2</td>\n",
       "      <td>205.3</td>\n",
       "      <td>2051.7</td>\n",
       "      <td>2623.7</td>\n",
       "      <td>125.0</td>\n",
       "      <td>346.5</td>\n",
       "      <td>119.3</td>\n",
       "      <td>...</td>\n",
       "      <td>818.6</td>\n",
       "      <td>316.3</td>\n",
       "      <td>56.0</td>\n",
       "      <td>604.6</td>\n",
       "      <td>220.3</td>\n",
       "      <td>50.0</td>\n",
       "      <td>118.5</td>\n",
       "      <td>108.7</td>\n",
       "      <td>81.8</td>\n",
       "      <td>200.3</td>\n",
       "    </tr>\n",
       "  </tbody>\n",
       "</table>\n",
       "<p>5 rows × 27 columns</p>\n",
       "</div>"
      ],
      "text/plain": [
       "      All Livestock Products - Milk  Taxes on Products  Subsidies on Products  \\\n",
       "Year                                                                            \n",
       "1990                         1316.3               75.0                  408.9   \n",
       "1991                         1258.9               78.2                  357.3   \n",
       "1992                         1373.1               79.5                  446.0   \n",
       "1993                         1439.0               68.0                  466.4   \n",
       "1994                         1446.2               53.7                  666.0   \n",
       "\n",
       "      Compensation of Employees  Contract Work  Entrepreneurial Income  \\\n",
       "Year                                                                     \n",
       "1990                      377.6          180.7                  1577.2   \n",
       "1991                      362.5          172.0                  1440.2   \n",
       "1992                      336.8          179.8                  1842.6   \n",
       "1993                      339.0          199.5                  1985.6   \n",
       "1994                      345.2          205.3                  2051.7   \n",
       "\n",
       "      Factor Income  Fixed Capital Consumption - Farm Buildings  \\\n",
       "Year                                                              \n",
       "1990         2321.1                                       106.4   \n",
       "1991         2136.5                                       113.2   \n",
       "1992         2516.2                                       117.8   \n",
       "1993         2586.9                                       121.9   \n",
       "1994         2623.7                                       125.0   \n",
       "\n",
       "      Fixed Capital Consumption - Machinery, Equipment, etc  \\\n",
       "Year                                                          \n",
       "1990                                              325.5       \n",
       "1991                                              331.7       \n",
       "1992                                              332.4       \n",
       "1993                                              335.5       \n",
       "1994                                              346.5       \n",
       "\n",
       "      Interest less FISIM  ...  Intermediate Consumption - Feeding Stuffs  \\\n",
       "Year                       ...                                              \n",
       "1990                267.4  ...                                      642.2   \n",
       "1991                237.2  ...                                      646.5   \n",
       "1992                237.6  ...                                      668.5   \n",
       "1993                162.5  ...                                      733.5   \n",
       "1994                119.3  ...                                      818.6   \n",
       "\n",
       "      Intermediate Consumption - Fertilisers  \\\n",
       "Year                                           \n",
       "1990                                   326.0   \n",
       "1991                                   319.1   \n",
       "1992                                   305.1   \n",
       "1993                                   301.2   \n",
       "1994                                   316.3   \n",
       "\n",
       "      Intermediate Consumption - Financial Intermediation Services Indirect  \\\n",
       "Year                                                                          \n",
       "1990                                               34.0                       \n",
       "1991                                               39.0                       \n",
       "1992                                               43.0                       \n",
       "1993                                               49.0                       \n",
       "1994                                               56.0                       \n",
       "\n",
       "      Intermediate Consumption - Forage Plants  \\\n",
       "Year                                             \n",
       "1990                                     553.1   \n",
       "1991                                     525.6   \n",
       "1992                                     533.8   \n",
       "1993                                     572.9   \n",
       "1994                                     604.6   \n",
       "\n",
       "      Intermediate Consumption - Maintenance and Repairs  \\\n",
       "Year                                                       \n",
       "1990                                              203.9    \n",
       "1991                                              184.6    \n",
       "1992                                              175.1    \n",
       "1993                                              195.7    \n",
       "1994                                              220.3    \n",
       "\n",
       "      Intermediate Consumption - Seeds  Intermediate Consumption - Services  \\\n",
       "Year                                                                          \n",
       "1990                              42.0                                109.1   \n",
       "1991                              43.8                                110.2   \n",
       "1992                              46.4                                110.8   \n",
       "1993                              46.9                                113.3   \n",
       "1994                              50.0                                118.5   \n",
       "\n",
       "      Intermediate Consumption - Veterinary Expenses  \\\n",
       "Year                                                   \n",
       "1990                                            85.2   \n",
       "1991                                            91.9   \n",
       "1992                                            93.7   \n",
       "1993                                           100.2   \n",
       "1994                                           108.7   \n",
       "\n",
       "      Intermediate Consumption - Other Goods (Detergents, Small Tools, etc)  \\\n",
       "Year                                                                          \n",
       "1990                                               73.2                       \n",
       "1991                                               75.3                       \n",
       "1992                                               72.2                       \n",
       "1993                                               79.8                       \n",
       "1994                                               81.8                       \n",
       "\n",
       "      Intermediate Consumption - Other Goods and Services  \n",
       "Year                                                       \n",
       "1990                                              182.3    \n",
       "1991                                              185.5    \n",
       "1992                                              183.0    \n",
       "1993                                              193.1    \n",
       "1994                                              200.3    \n",
       "\n",
       "[5 rows x 27 columns]"
      ]
     },
     "execution_count": 4,
     "metadata": {},
     "output_type": "execute_result"
    }
   ],
   "source": [
    "dataframe = dataframe[[\n",
    "    'Year', 'All Livestock Products - Milk', 'Taxes on Products',\n",
    "    'Subsidies on Products', 'Compensation of Employees', 'Contract Work',\n",
    "    'Entrepreneurial Income', 'Factor Income',\n",
    "    'Fixed Capital Consumption - Farm Buildings',\n",
    "    'Fixed Capital Consumption - Machinery, Equipment, etc',\n",
    "    'Interest less FISIM', 'Operating Surplus', 'Livestock - Cattle',\n",
    "    'Livestock - Sheep', 'Land Rental',\n",
    "    'Intermediate Consumption - Contract Work',\n",
    "    'Intermediate Consumption - Crop Protection Products',\n",
    "    'Intermediate Consumption - Energy and Lubricants',\n",
    "    'Intermediate Consumption - Feeding Stuffs',\n",
    "    'Intermediate Consumption - Fertilisers',\n",
    "    'Intermediate Consumption - Financial Intermediation Services Indirect',\n",
    "    'Intermediate Consumption - Forage Plants',\n",
    "    'Intermediate Consumption - Maintenance and Repairs',\n",
    "    'Intermediate Consumption - Seeds', 'Intermediate Consumption - Services',\n",
    "    'Intermediate Consumption - Veterinary Expenses',\n",
    "    'Intermediate Consumption - Other Goods (Detergents, Small Tools, etc)',\n",
    "    'Intermediate Consumption - Other Goods and Services'\n",
    "]]\n",
    "\n",
    "dataframe.set_index('Year', drop=True, inplace=True)\n",
    "\n",
    "print(\"Milk production dataset dimensions\", dataframe.shape)\n",
    "\n",
    "dataframe.head()"
   ]
  },
  {
   "cell_type": "markdown",
   "id": "129cb429",
   "metadata": {},
   "source": [
    "### Prepare Model Data"
   ]
  },
  {
   "cell_type": "markdown",
   "id": "50450923",
   "metadata": {},
   "source": [
    "#### Select the feature set and the target"
   ]
  },
  {
   "cell_type": "markdown",
   "id": "938d45f2",
   "metadata": {},
   "source": [
    "Select the feature set and the target "
   ]
  },
  {
   "cell_type": "code",
   "execution_count": 5,
   "id": "3195a988",
   "metadata": {
    "ExecuteTime": {
     "end_time": "2022-01-28T09:23:18.801176Z",
     "start_time": "2022-01-28T09:23:18.789179Z"
    }
   },
   "outputs": [
    {
     "name": "stdout",
     "output_type": "stream",
     "text": [
      "Features dimension: (31, 26)\n",
      "Target dimension: (31, 1)\n"
     ]
    }
   ],
   "source": [
    "X = dataframe.iloc[:, 1:].values\n",
    "Y = dataframe.iloc[:, 0].values.reshape(-1, 1)\n",
    "print('Features dimension:', np.shape(X))\n",
    "print('Target dimension:', np.shape(Y))"
   ]
  },
  {
   "cell_type": "markdown",
   "id": "e7a28184",
   "metadata": {},
   "source": [
    "#### Fill missing values"
   ]
  },
  {
   "cell_type": "code",
   "execution_count": 6,
   "id": "dab10f74",
   "metadata": {
    "ExecuteTime": {
     "end_time": "2022-01-28T09:23:18.817174Z",
     "start_time": "2022-01-28T09:23:18.803176Z"
    }
   },
   "outputs": [],
   "source": [
    "imp_mean = SimpleImputer(missing_values=np.nan, strategy='mean')\n",
    "X = imp_mean.fit_transform(X)\n",
    "Y = imp_mean.fit_transform(Y)"
   ]
  },
  {
   "cell_type": "markdown",
   "id": "b05b59fc",
   "metadata": {},
   "source": [
    "#### Define Training set 80% Test set 20% "
   ]
  },
  {
   "cell_type": "code",
   "execution_count": 7,
   "id": "093dc283",
   "metadata": {
    "ExecuteTime": {
     "end_time": "2022-01-28T09:23:18.833173Z",
     "start_time": "2022-01-28T09:23:18.819176Z"
    }
   },
   "outputs": [
    {
     "name": "stdout",
     "output_type": "stream",
     "text": [
      "\n",
      "x_train dimension (24, 26)\n",
      "y_train dimension (24, 1)\n",
      "\n",
      "x_test dimension (7, 26)\n",
      "y_test dimension (7, 1)\n"
     ]
    }
   ],
   "source": [
    "X_train, X_test, Y_train, Y_test = train_test_split(X,\n",
    "                                                    Y,\n",
    "                                                    test_size=0.2,\n",
    "                                                    random_state=2021)\n",
    "print()\n",
    "print('x_train dimension', X_train.shape)\n",
    "print('y_train dimension', Y_train.shape)\n",
    "print()\n",
    "print('x_test dimension', X_test.shape)\n",
    "print('y_test dimension', Y_test.shape)"
   ]
  },
  {
   "cell_type": "markdown",
   "id": "77c420bb",
   "metadata": {},
   "source": [
    "#### Scale & Transform"
   ]
  },
  {
   "cell_type": "code",
   "execution_count": 8,
   "id": "f4194ab2",
   "metadata": {
    "ExecuteTime": {
     "end_time": "2022-01-28T09:23:18.849175Z",
     "start_time": "2022-01-28T09:23:18.835178Z"
    }
   },
   "outputs": [],
   "source": [
    "scaler_x = MinMaxScaler()\n",
    "scaler_y = MinMaxScaler()\n",
    "\n",
    "scaler_x.fit(X_train)\n",
    "xtrain_scale = scaler_x.transform(X_train)\n",
    "\n",
    "scaler_y.fit(Y_train)\n",
    "ytrain_scale = scaler_y.transform(Y_train)\n",
    "\n",
    "scaler_x.fit(X_test)\n",
    "xtest_scale = scaler_x.transform(X_test)\n",
    "\n",
    "scaler_x.fit(Y_test)\n",
    "ytest_scale = scaler_y.transform(Y_test)"
   ]
  },
  {
   "cell_type": "markdown",
   "id": "ba3c3dce",
   "metadata": {},
   "source": [
    "### Model Testing"
   ]
  },
  {
   "cell_type": "markdown",
   "id": "58da80b0",
   "metadata": {},
   "source": [
    "#### Score Board"
   ]
  },
  {
   "cell_type": "code",
   "execution_count": 9,
   "id": "1d8a1eda",
   "metadata": {
    "ExecuteTime": {
     "end_time": "2022-01-28T09:23:18.865175Z",
     "start_time": "2022-01-28T09:23:18.852175Z"
    }
   },
   "outputs": [],
   "source": [
    "model_scores_dataframe = DataFrame(\n",
    "    columns=['Model', 'Mean Absolute Error Score(%)'])"
   ]
  },
  {
   "cell_type": "markdown",
   "id": "40f58f53",
   "metadata": {},
   "source": [
    "#### RandomForest Regressor"
   ]
  },
  {
   "cell_type": "markdown",
   "id": "664558ee",
   "metadata": {},
   "source": [
    "##### Train RandomForest"
   ]
  },
  {
   "cell_type": "code",
   "execution_count": 10,
   "id": "fbe9bbff",
   "metadata": {
    "ExecuteTime": {
     "end_time": "2022-01-28T09:24:31.797844Z",
     "start_time": "2022-01-28T09:23:26.900845Z"
    }
   },
   "outputs": [
    {
     "name": "stdout",
     "output_type": "stream",
     "text": [
      "Best training model  RandomForestRegressor(criterion='poisson', max_features='log2',\n",
      "                      n_estimators=800, random_state=2021)\n",
      "Best training model score, coefficient of determination R squared 0.897197143180551\n"
     ]
    }
   ],
   "source": [
    "# define Random Forest Regressor\n",
    "rf_regressor_milk = RandomForestRegressor(random_state=2021)\n",
    "\n",
    "# define list of Parameters\n",
    "params_rf_milk = {\n",
    "    'n_estimators': [100, 500, 800],\n",
    "    'criterion': ['squared_error', 'absolute_error', 'poisson'],\n",
    "    'max_features': [\"auto\", \"sqrt\", \"log2\"],\n",
    "    \"bootstrap\": [True, False]\n",
    "}\n",
    "\n",
    "# Hyper parameter tuning via Grid Search Cross Validation\n",
    "grid_rf_milk = GridSearchCV(estimator=rf_regressor_milk,\n",
    "                            param_grid=params_rf_milk,\n",
    "                            n_jobs=-1,\n",
    "                            cv=5)\n",
    "\n",
    "# Fit the grid to scaled data\n",
    "grid_rf_milk.fit(xtrain_scale, ytrain_scale.reshape(-1))\n",
    "\n",
    "# print best training model & R squared score\n",
    "print('Best training model ', grid_rf_milk.best_estimator_)\n",
    "print('Best training model score, coefficient of determination R squared',\n",
    "      grid_rf_milk.best_score_)"
   ]
  },
  {
   "cell_type": "markdown",
   "id": "446c6f92",
   "metadata": {},
   "source": [
    "##### Predict RandomForest"
   ]
  },
  {
   "cell_type": "code",
   "execution_count": 11,
   "id": "68ceb025",
   "metadata": {
    "ExecuteTime": {
     "end_time": "2022-01-28T09:24:32.002846Z",
     "start_time": "2022-01-28T09:24:31.800845Z"
    }
   },
   "outputs": [
    {
     "name": "stdout",
     "output_type": "stream",
     "text": [
      "predicted milk production values \n",
      " [[1622.61839583]\n",
      " [1623.00755208]\n",
      " [1737.02422917]\n",
      " [1530.43363542]\n",
      " [1499.47470833]\n",
      " [1596.36222083]\n",
      " [2641.510625  ]]\n",
      "actual milk production values \n",
      " [[1332.5]\n",
      " [1106.5]\n",
      " [1566.1]\n",
      " [1446.2]\n",
      " [1408.8]\n",
      " [1431.2]\n",
      " [1790.8]]\n"
     ]
    }
   ],
   "source": [
    "# Predict Milk Production and un-scale back to original values\n",
    "y_predict = scaler_y.inverse_transform(\n",
    "    grid_rf_milk.predict(xtest_scale).reshape(-1, 1))\n",
    "\n",
    "print('predicted milk production values \\n', y_predict)\n",
    "print('actual milk production values \\n', Y_test)\n",
    "\n",
    "# Calculate Mean Absolute Error\n",
    "MAE_rf = mean_absolute_error(Y_test, y_predict)\n",
    "#print(MAE_rf)"
   ]
  },
  {
   "cell_type": "markdown",
   "id": "5d91acdc",
   "metadata": {},
   "source": [
    "##### Save Model Score"
   ]
  },
  {
   "cell_type": "code",
   "execution_count": 12,
   "id": "57ce9131",
   "metadata": {
    "ExecuteTime": {
     "end_time": "2022-01-28T09:24:32.034848Z",
     "start_time": "2022-01-28T09:24:32.006845Z"
    }
   },
   "outputs": [
    {
     "name": "stdout",
     "output_type": "stream",
     "text": [
      "          Model  Mean Absolute Error Score(%)\n",
      "0  RandomForest                    309.761624\n"
     ]
    }
   ],
   "source": [
    "model_scores_dataframe.loc[len(model_scores_dataframe)] = [\n",
    "    'RandomForest', MAE_rf\n",
    "]\n",
    "print(model_scores_dataframe)"
   ]
  },
  {
   "cell_type": "markdown",
   "id": "b4aab677",
   "metadata": {},
   "source": [
    "#### XGBOOST Regressor"
   ]
  },
  {
   "cell_type": "markdown",
   "id": "7c6eb8ab",
   "metadata": {},
   "source": [
    "##### Train XGBOOST"
   ]
  },
  {
   "cell_type": "code",
   "execution_count": 13,
   "id": "119a7167",
   "metadata": {
    "ExecuteTime": {
     "end_time": "2022-01-28T09:26:43.291362Z",
     "start_time": "2022-01-28T09:24:32.043850Z"
    }
   },
   "outputs": [
    {
     "name": "stdout",
     "output_type": "stream",
     "text": [
      "Fitting 5 folds for each of 144 candidates, totalling 720 fits\n",
      "Best training model  XGBRegressor(base_score=0.5, booster='gbtree', colsample_bylevel=1,\n",
      "             colsample_bynode=1, colsample_bytree=1, enable_categorical=False,\n",
      "             gamma=0.01, gpu_id=-1, importance_type=None,\n",
      "             interaction_constraints='', learning_rate=0.1, max_delta_step=0,\n",
      "             max_depth=3, min_child_weight=1, missing=nan,\n",
      "             monotone_constraints='()', n_estimators=160, n_jobs=8,\n",
      "             num_parallel_tree=1, predictor='auto', random_state=2021,\n",
      "             reg_alpha=0, reg_lambda=1, scale_pos_weight=1, subsample=1,\n",
      "             tree_method='exact', validate_parameters=1, verbosity=None)\n",
      "Best model Parameters {'gamma': 0.01, 'learning_rate': 0.1, 'max_depth': 3, 'n_estimators': 160}\n",
      "Best training model score, coefficient of determination R squared 0.8477032808741709\n"
     ]
    }
   ],
   "source": [
    "# define XGBRegressor\n",
    "xgb_regressor_milk = XGBRegressor(random_state=2021)\n",
    "\n",
    "# define parameters space to loop over\n",
    "params_xgb_milk = {\n",
    "    'n_estimators': [20, 40, 80, 160, 340, 500],\n",
    "    'max_depth': [3, 6, 9],\n",
    "    'gamma': [0.01, 0.1],\n",
    "    'learning_rate': [0.001, 0.01, 0.1, 1]\n",
    "}\n",
    "\n",
    "# Hyper parameter tuning via Grid Search Cross Validation\n",
    "grid_xgb_milk = GridSearchCV(\n",
    "    estimator=xgb_regressor_milk,\n",
    "    param_grid=params_xgb_milk,\n",
    "    #n_jobs=-1,\n",
    "    scoring=['r2', 'neg_root_mean_squared_error'],\n",
    "    refit='r2',\n",
    "    n_jobs=-1,\n",
    "    cv=5,\n",
    "    verbose=4)\n",
    "\n",
    "# fit grid to training scaled set\n",
    "grid_xgb_milk.fit(xtrain_scale, ytrain_scale)\n",
    "\n",
    "# print best training model & R squared score\n",
    "print('Best training model ', grid_xgb_milk.best_estimator_)\n",
    "print('Best model Parameters', grid_xgb_milk.best_params_)\n",
    "print('Best training model score, coefficient of determination R squared',\n",
    "      grid_xgb_milk.best_score_)"
   ]
  },
  {
   "cell_type": "markdown",
   "id": "6d49ff37",
   "metadata": {},
   "source": [
    "##### Predict XGBOOST"
   ]
  },
  {
   "cell_type": "code",
   "execution_count": 14,
   "id": "410a7574",
   "metadata": {
    "ExecuteTime": {
     "end_time": "2022-01-28T09:26:43.323365Z",
     "start_time": "2022-01-28T09:26:43.294363Z"
    }
   },
   "outputs": [
    {
     "name": "stdout",
     "output_type": "stream",
     "text": [
      "predicted milk production values \n",
      " [[1544.6935]\n",
      " [1817.2489]\n",
      " [1433.4462]\n",
      " [1468.3297]\n",
      " [1433.4462]\n",
      " [1433.4462]\n",
      " [2567.2097]]\n",
      "actual milk production values \n",
      " [[1332.5]\n",
      " [1106.5]\n",
      " [1566.1]\n",
      " [1446.2]\n",
      " [1408.8]\n",
      " [1431.2]\n",
      " [1790.8]]\n"
     ]
    }
   ],
   "source": [
    "# Predict Milk Production and un-scale back to original values\n",
    "y_predict = scaler_y.inverse_transform(\n",
    "    grid_xgb_milk.predict(xtest_scale).reshape(-1, 1))\n",
    "\n",
    "print('predicted milk production values \\n', y_predict)\n",
    "print('actual milk production values \\n', Y_test)\n",
    "\n",
    "# Calculate Mean Absolute Error\n",
    "MAE_xgb = mean_absolute_error(Y_test, y_predict)\n",
    "#print(MAE_xgb)"
   ]
  },
  {
   "cell_type": "markdown",
   "id": "f87104a4",
   "metadata": {},
   "source": [
    "##### Save Model Score"
   ]
  },
  {
   "cell_type": "code",
   "execution_count": 15,
   "id": "fd170cd6",
   "metadata": {
    "ExecuteTime": {
     "end_time": "2022-01-28T09:26:43.355363Z",
     "start_time": "2022-01-28T09:26:43.327362Z"
    }
   },
   "outputs": [
    {
     "name": "stdout",
     "output_type": "stream",
     "text": [
      "          Model  Mean Absolute Error Score(%)\n",
      "0  RandomForest                    309.761624\n",
      "1       XGBOOST                    268.718283\n"
     ]
    }
   ],
   "source": [
    "model_scores_dataframe.loc[len(model_scores_dataframe)] = ['XGBOOST', MAE_xgb]\n",
    "print(model_scores_dataframe)"
   ]
  },
  {
   "cell_type": "markdown",
   "id": "a1eb8eb9",
   "metadata": {},
   "source": [
    "#### ANN Artificial Neural Network"
   ]
  },
  {
   "cell_type": "markdown",
   "id": "d01711cf",
   "metadata": {},
   "source": [
    "##### Training & Keras Parameter Tuning"
   ]
  },
  {
   "cell_type": "code",
   "execution_count": 16,
   "id": "6199a6b5",
   "metadata": {
    "ExecuteTime": {
     "end_time": "2022-01-28T09:27:42.410366Z",
     "start_time": "2022-01-28T09:26:43.359363Z"
    },
    "scrolled": true
   },
   "outputs": [
    {
     "name": "stdout",
     "output_type": "stream",
     "text": [
      "Trial 5 Complete [00h 00m 10s]\n",
      "val_mean_absolute_error: 0.09046632548173268\n",
      "\n",
      "Best val_mean_absolute_error So Far: 0.09046632548173268\n",
      "Total elapsed time: 00h 00m 55s\n",
      "INFO:tensorflow:Oracle triggered exit\n",
      "\n",
      "\n",
      "Results summary\n",
      "Results in ./../temp/ANN-tuner/Milk production\n",
      "Showing 10 best trials\n",
      "Objective(name='val_mean_absolute_error', direction='min')\n",
      "Trial summary\n",
      "Hyperparameters:\n",
      "num_layers: 8\n",
      "units_0: 503\n",
      "learning_rate: 0.0001\n",
      "Score: 0.09046632548173268\n",
      "Trial summary\n",
      "Hyperparameters:\n",
      "num_layers: 21\n",
      "units_0: 375\n",
      "learning_rate: 0.01\n",
      "Score: 0.09544547647237778\n",
      "Trial summary\n",
      "Hyperparameters:\n",
      "num_layers: 12\n",
      "units_0: 279\n",
      "learning_rate: 0.0001\n",
      "Score: 0.10072392970323563\n",
      "Trial summary\n",
      "Hyperparameters:\n",
      "num_layers: 13\n",
      "units_0: 183\n",
      "learning_rate: 0.001\n",
      "Score: 0.12763111790021262\n",
      "Trial summary\n",
      "Hyperparameters:\n",
      "num_layers: 19\n",
      "units_0: 151\n",
      "learning_rate: 0.0001\n",
      "Score: 0.16741826881965002\n",
      "Epoch 1/50\n",
      "1/1 [==============================] - 1s 731ms/step - loss: 0.1692 - mean_absolute_error: 0.1692 - val_loss: 0.0795 - val_mean_absolute_error: 0.0795\n",
      "Epoch 2/50\n",
      "1/1 [==============================] - 0s 38ms/step - loss: 0.1526 - mean_absolute_error: 0.1526 - val_loss: 0.0937 - val_mean_absolute_error: 0.0937\n",
      "Epoch 3/50\n",
      "1/1 [==============================] - 0s 46ms/step - loss: 0.1381 - mean_absolute_error: 0.1381 - val_loss: 0.1079 - val_mean_absolute_error: 0.1079\n",
      "Epoch 4/50\n",
      "1/1 [==============================] - 0s 37ms/step - loss: 0.1270 - mean_absolute_error: 0.1270 - val_loss: 0.1207 - val_mean_absolute_error: 0.1207\n",
      "Epoch 5/50\n",
      "1/1 [==============================] - 0s 39ms/step - loss: 0.1211 - mean_absolute_error: 0.1211 - val_loss: 0.1327 - val_mean_absolute_error: 0.1327\n",
      "Epoch 6/50\n",
      "1/1 [==============================] - 0s 36ms/step - loss: 0.1157 - mean_absolute_error: 0.1157 - val_loss: 0.1431 - val_mean_absolute_error: 0.1431\n",
      "Epoch 7/50\n",
      "1/1 [==============================] - 0s 46ms/step - loss: 0.1135 - mean_absolute_error: 0.1135 - val_loss: 0.1520 - val_mean_absolute_error: 0.1520\n",
      "Epoch 8/50\n",
      "1/1 [==============================] - 0s 42ms/step - loss: 0.1118 - mean_absolute_error: 0.1118 - val_loss: 0.1592 - val_mean_absolute_error: 0.1592\n",
      "Epoch 9/50\n",
      "1/1 [==============================] - 0s 35ms/step - loss: 0.1104 - mean_absolute_error: 0.1104 - val_loss: 0.1650 - val_mean_absolute_error: 0.1650\n",
      "Epoch 10/50\n",
      "1/1 [==============================] - 0s 46ms/step - loss: 0.1084 - mean_absolute_error: 0.1084 - val_loss: 0.1707 - val_mean_absolute_error: 0.1707\n",
      "Epoch 11/50\n",
      "1/1 [==============================] - 0s 34ms/step - loss: 0.1061 - mean_absolute_error: 0.1061 - val_loss: 0.1751 - val_mean_absolute_error: 0.1751\n",
      "Epoch 12/50\n",
      "1/1 [==============================] - 0s 36ms/step - loss: 0.1034 - mean_absolute_error: 0.1034 - val_loss: 0.1784 - val_mean_absolute_error: 0.1784\n",
      "Epoch 13/50\n",
      "1/1 [==============================] - 0s 41ms/step - loss: 0.1004 - mean_absolute_error: 0.1004 - val_loss: 0.1807 - val_mean_absolute_error: 0.1807\n",
      "Epoch 14/50\n",
      "1/1 [==============================] - 0s 41ms/step - loss: 0.0972 - mean_absolute_error: 0.0972 - val_loss: 0.1821 - val_mean_absolute_error: 0.1821\n",
      "Epoch 15/50\n",
      "1/1 [==============================] - 0s 35ms/step - loss: 0.0938 - mean_absolute_error: 0.0938 - val_loss: 0.1828 - val_mean_absolute_error: 0.1828\n",
      "Epoch 16/50\n",
      "1/1 [==============================] - 0s 34ms/step - loss: 0.0902 - mean_absolute_error: 0.0902 - val_loss: 0.1828 - val_mean_absolute_error: 0.1828\n",
      "Epoch 17/50\n",
      "1/1 [==============================] - 0s 38ms/step - loss: 0.0865 - mean_absolute_error: 0.0865 - val_loss: 0.1826 - val_mean_absolute_error: 0.1826\n",
      "Epoch 18/50\n",
      "1/1 [==============================] - 0s 47ms/step - loss: 0.0826 - mean_absolute_error: 0.0826 - val_loss: 0.1825 - val_mean_absolute_error: 0.1825\n",
      "Epoch 19/50\n",
      "1/1 [==============================] - 0s 44ms/step - loss: 0.0789 - mean_absolute_error: 0.0789 - val_loss: 0.1822 - val_mean_absolute_error: 0.1822\n",
      "Epoch 20/50\n",
      "1/1 [==============================] - 0s 42ms/step - loss: 0.0758 - mean_absolute_error: 0.0758 - val_loss: 0.1822 - val_mean_absolute_error: 0.1822\n",
      "Epoch 21/50\n",
      "1/1 [==============================] - 0s 39ms/step - loss: 0.0730 - mean_absolute_error: 0.0730 - val_loss: 0.1823 - val_mean_absolute_error: 0.1823\n",
      "Epoch 22/50\n",
      "1/1 [==============================] - 0s 42ms/step - loss: 0.0704 - mean_absolute_error: 0.0704 - val_loss: 0.1825 - val_mean_absolute_error: 0.1825\n",
      "Epoch 23/50\n",
      "1/1 [==============================] - 0s 41ms/step - loss: 0.0689 - mean_absolute_error: 0.0689 - val_loss: 0.1832 - val_mean_absolute_error: 0.1832\n",
      "Epoch 24/50\n",
      "1/1 [==============================] - 0s 45ms/step - loss: 0.0677 - mean_absolute_error: 0.0677 - val_loss: 0.1844 - val_mean_absolute_error: 0.1844\n",
      "Epoch 25/50\n",
      "1/1 [==============================] - 0s 35ms/step - loss: 0.0663 - mean_absolute_error: 0.0663 - val_loss: 0.1861 - val_mean_absolute_error: 0.1861\n",
      "Epoch 26/50\n",
      "1/1 [==============================] - 0s 44ms/step - loss: 0.0647 - mean_absolute_error: 0.0647 - val_loss: 0.1884 - val_mean_absolute_error: 0.1884\n",
      "Epoch 27/50\n",
      "1/1 [==============================] - 0s 31ms/step - loss: 0.0631 - mean_absolute_error: 0.0631 - val_loss: 0.1912 - val_mean_absolute_error: 0.1912\n",
      "Epoch 28/50\n",
      "1/1 [==============================] - 0s 35ms/step - loss: 0.0612 - mean_absolute_error: 0.0612 - val_loss: 0.1945 - val_mean_absolute_error: 0.1945\n",
      "Epoch 29/50\n",
      "1/1 [==============================] - 0s 35ms/step - loss: 0.0591 - mean_absolute_error: 0.0591 - val_loss: 0.1982 - val_mean_absolute_error: 0.1982\n",
      "Epoch 30/50\n",
      "1/1 [==============================] - 0s 36ms/step - loss: 0.0569 - mean_absolute_error: 0.0569 - val_loss: 0.2022 - val_mean_absolute_error: 0.2022\n",
      "Epoch 31/50\n",
      "1/1 [==============================] - 0s 48ms/step - loss: 0.0547 - mean_absolute_error: 0.0547 - val_loss: 0.2064 - val_mean_absolute_error: 0.2064\n",
      "Epoch 32/50\n",
      "1/1 [==============================] - 0s 35ms/step - loss: 0.0532 - mean_absolute_error: 0.0532 - val_loss: 0.2109 - val_mean_absolute_error: 0.2109\n",
      "Epoch 33/50\n",
      "1/1 [==============================] - 0s 33ms/step - loss: 0.0535 - mean_absolute_error: 0.0535 - val_loss: 0.2138 - val_mean_absolute_error: 0.2138\n",
      "Epoch 34/50\n",
      "1/1 [==============================] - 0s 34ms/step - loss: 0.0540 - mean_absolute_error: 0.0540 - val_loss: 0.2141 - val_mean_absolute_error: 0.2141\n",
      "Epoch 35/50\n",
      "1/1 [==============================] - 0s 36ms/step - loss: 0.0535 - mean_absolute_error: 0.0535 - val_loss: 0.2121 - val_mean_absolute_error: 0.2121\n",
      "Epoch 36/50\n",
      "1/1 [==============================] - 0s 35ms/step - loss: 0.0519 - mean_absolute_error: 0.0519 - val_loss: 0.2088 - val_mean_absolute_error: 0.2088\n",
      "Epoch 37/50\n",
      "1/1 [==============================] - 0s 50ms/step - loss: 0.0500 - mean_absolute_error: 0.0500 - val_loss: 0.2054 - val_mean_absolute_error: 0.2054\n",
      "Epoch 38/50\n",
      "1/1 [==============================] - 0s 40ms/step - loss: 0.0481 - mean_absolute_error: 0.0481 - val_loss: 0.2017 - val_mean_absolute_error: 0.2017\n",
      "Epoch 39/50\n",
      "1/1 [==============================] - 0s 47ms/step - loss: 0.0467 - mean_absolute_error: 0.0467 - val_loss: 0.1978 - val_mean_absolute_error: 0.1978\n",
      "Epoch 40/50\n",
      "1/1 [==============================] - 0s 35ms/step - loss: 0.0454 - mean_absolute_error: 0.0454 - val_loss: 0.1948 - val_mean_absolute_error: 0.1948\n",
      "Epoch 41/50\n",
      "1/1 [==============================] - 0s 42ms/step - loss: 0.0451 - mean_absolute_error: 0.0451 - val_loss: 0.1929 - val_mean_absolute_error: 0.1929\n",
      "Epoch 42/50\n",
      "1/1 [==============================] - 0s 54ms/step - loss: 0.0445 - mean_absolute_error: 0.0445 - val_loss: 0.1918 - val_mean_absolute_error: 0.1918\n",
      "Epoch 43/50\n",
      "1/1 [==============================] - 0s 37ms/step - loss: 0.0437 - mean_absolute_error: 0.0437 - val_loss: 0.1915 - val_mean_absolute_error: 0.1915\n",
      "Epoch 44/50\n",
      "1/1 [==============================] - 0s 37ms/step - loss: 0.0426 - mean_absolute_error: 0.0426 - val_loss: 0.1919 - val_mean_absolute_error: 0.1919\n",
      "Epoch 45/50\n",
      "1/1 [==============================] - 0s 46ms/step - loss: 0.0413 - mean_absolute_error: 0.0413 - val_loss: 0.1929 - val_mean_absolute_error: 0.1929\n",
      "Epoch 46/50\n"
     ]
    },
    {
     "name": "stdout",
     "output_type": "stream",
     "text": [
      "1/1 [==============================] - 0s 34ms/step - loss: 0.0401 - mean_absolute_error: 0.0401 - val_loss: 0.1939 - val_mean_absolute_error: 0.1939\n",
      "Epoch 47/50\n",
      "1/1 [==============================] - 0s 46ms/step - loss: 0.0397 - mean_absolute_error: 0.0397 - val_loss: 0.1939 - val_mean_absolute_error: 0.1939\n",
      "Epoch 48/50\n",
      "1/1 [==============================] - 0s 44ms/step - loss: 0.0392 - mean_absolute_error: 0.0392 - val_loss: 0.1933 - val_mean_absolute_error: 0.1933\n",
      "Epoch 49/50\n",
      "1/1 [==============================] - 0s 44ms/step - loss: 0.0388 - mean_absolute_error: 0.0388 - val_loss: 0.1922 - val_mean_absolute_error: 0.1922\n",
      "Epoch 50/50\n",
      "1/1 [==============================] - 0s 53ms/step - loss: 0.0383 - mean_absolute_error: 0.0383 - val_loss: 0.1907 - val_mean_absolute_error: 0.1907\n"
     ]
    },
    {
     "data": {
      "text/plain": [
       "<keras.callbacks.History at 0x1a6ebf33610>"
      ]
     },
     "execution_count": 16,
     "metadata": {},
     "output_type": "execute_result"
    }
   ],
   "source": [
    "temp_directory: str = './../temp/ANN-tuner/'\n",
    "\n",
    "\n",
    "# Define ANN model with Hyper parameter variable\n",
    "def build_model(hp):\n",
    "    model = keras.Sequential()\n",
    "    for i in range(hp.Int('num_layers', 2, 23)):\n",
    "        model.add(\n",
    "            layers.Dense(units=hp.Int('units_' + str(i),\n",
    "                                      min_value=23,\n",
    "                                      max_value=600,\n",
    "                                      step=32),\n",
    "                         activation='relu'))\n",
    "        model.add(layers.Dense(1, activation='linear'))\n",
    "        model.compile(optimizer=keras.optimizers.Adam(\n",
    "            hp.Choice('learning_rate', [1e-2, 1e-3, 1e-4])),\n",
    "                      loss='mean_absolute_error',\n",
    "                      metrics=['mean_absolute_error'])\n",
    "        return model\n",
    "\n",
    "\n",
    "if os.path.isdir(temp_directory):\n",
    "    try:\n",
    "        shutil.rmtree(temp_directory)\n",
    "    except OSError as exception:\n",
    "        print(f\"Error: {exception.filename} - {exception.strerror}.\")\n",
    "\n",
    "# create a directory to store each iteration of modelling\n",
    "tuner = RandomSearch(build_model,\n",
    "                     objective='val_mean_absolute_error',\n",
    "                     max_trials=5,\n",
    "                     executions_per_trial=3,\n",
    "                     directory=temp_directory,\n",
    "                     project_name='Milk production')\n",
    "\n",
    "# Defined parameter space to search in\n",
    "tuner.search_space_summary()\n",
    "\n",
    "# train trial models and compare with validation set\n",
    "tuner.search(xtrain_scale,\n",
    "             ytrain_scale,\n",
    "             epochs=50,\n",
    "             validation_data=(xtest_scale, ytest_scale))\n",
    "\n",
    "# print best 10 models according to val_mean_absolute_error\n",
    "print('\\n')\n",
    "tuner.results_summary()\n",
    "\n",
    "# get best model from training trials\n",
    "bestANNModel = tuner.get_best_models(num_models=1)[0]\n",
    "\n",
    "# fit best model to training scaled data and scaled test data\n",
    "bestANNModel.fit(xtrain_scale,\n",
    "                 ytrain_scale,\n",
    "                 epochs=50,\n",
    "                 validation_data=(xtest_scale, ytest_scale))\n",
    "#Clean up\n",
    "if os.path.isdir(temp_directory):\n",
    "    try:\n",
    "        shutil.rmtree(temp_directory)\n",
    "    except OSError as exception:\n",
    "        print(f\"Error: {exception.filename} - {exception.strerror}.\")"
   ]
  },
  {
   "cell_type": "markdown",
   "id": "7571c8b0",
   "metadata": {
    "ExecuteTime": {
     "end_time": "2022-01-28T08:39:39.920079Z",
     "start_time": "2022-01-28T08:39:39.911081Z"
    }
   },
   "source": [
    "##### Predict"
   ]
  },
  {
   "cell_type": "code",
   "execution_count": 17,
   "id": "5dc2de5e",
   "metadata": {
    "ExecuteTime": {
     "end_time": "2022-01-28T09:27:42.711366Z",
     "start_time": "2022-01-28T09:27:42.416365Z"
    }
   },
   "outputs": [
    {
     "name": "stdout",
     "output_type": "stream",
     "text": [
      "predicted milk production values \n",
      " [[1709.7432]\n",
      " [1529.5222]\n",
      " [1547.8958]\n",
      " [1567.8647]\n",
      " [1487.0751]\n",
      " [1512.3175]\n",
      " [2685.2715]]\n",
      "actual milk production values \n",
      " [[1332.5]\n",
      " [1106.5]\n",
      " [1566.1]\n",
      " [1446.2]\n",
      " [1408.8]\n",
      " [1431.2]\n",
      " [1790.8]]\n"
     ]
    }
   ],
   "source": [
    "# Predict Milk Production and un-scale back to original values\n",
    "\n",
    "y_predict = scaler_y.inverse_transform(\n",
    "    bestANNModel.predict(xtest_scale).reshape(-1, 1))\n",
    "\n",
    "print('predicted milk production values \\n', y_predict)\n",
    "print('actual milk production values \\n', Y_test)\n",
    "\n",
    "# Calculate Mean Absolute Error\n",
    "MAE_ANN = mean_absolute_error(Y_test, y_predict)\n",
    "#print(MAE_xgb)"
   ]
  },
  {
   "cell_type": "markdown",
   "id": "c89cad3f",
   "metadata": {
    "ExecuteTime": {
     "end_time": "2022-01-28T08:38:45.856921Z",
     "start_time": "2022-01-28T08:38:45.819931Z"
    }
   },
   "source": [
    "##### Save Model Score"
   ]
  },
  {
   "cell_type": "code",
   "execution_count": 18,
   "id": "700e018e",
   "metadata": {
    "ExecuteTime": {
     "end_time": "2022-01-28T09:27:42.743372Z",
     "start_time": "2022-01-28T09:27:42.714364Z"
    }
   },
   "outputs": [
    {
     "name": "stdout",
     "output_type": "stream",
     "text": [
      "          Model  Mean Absolute Error Score(%)\n",
      "0  RandomForest                    309.761624\n",
      "1       XGBOOST                    268.718283\n",
      "2           ANN                    284.856920\n"
     ]
    }
   ],
   "source": [
    "model_scores_dataframe.loc[len(model_scores_dataframe)] = ['ANN', MAE_ANN]\n",
    "print(model_scores_dataframe)"
   ]
  },
  {
   "cell_type": "markdown",
   "id": "fe7a8b36",
   "metadata": {},
   "source": [
    "### Save Artifacts"
   ]
  },
  {
   "cell_type": "markdown",
   "id": "775ccd8f",
   "metadata": {},
   "source": [
    "Save trained model into binary pickle file to use the model later with new input data from web app"
   ]
  },
  {
   "cell_type": "code",
   "execution_count": 19,
   "id": "3e30b6c5",
   "metadata": {
    "ExecuteTime": {
     "end_time": "2022-01-28T09:27:42.759364Z",
     "start_time": "2022-01-28T09:27:42.751365Z"
    }
   },
   "outputs": [],
   "source": [
    "READ_BINARY = \"rb\"\n",
    "WRITE_BINARY = \"wb\""
   ]
  },
  {
   "cell_type": "code",
   "execution_count": 20,
   "id": "e13d9ab8",
   "metadata": {
    "ExecuteTime": {
     "end_time": "2022-01-28T09:27:42.774366Z",
     "start_time": "2022-01-28T09:27:42.764365Z"
    }
   },
   "outputs": [],
   "source": [
    "model_directory: str = \"milk-production-models\"\n",
    "directory: str = f'./../artifacts/{model_directory}/'"
   ]
  },
  {
   "cell_type": "markdown",
   "id": "98d53cdb",
   "metadata": {},
   "source": [
    "#### Save Scalers"
   ]
  },
  {
   "cell_type": "code",
   "execution_count": 21,
   "id": "d4ac4717",
   "metadata": {
    "ExecuteTime": {
     "end_time": "2022-01-28T09:27:42.790364Z",
     "start_time": "2022-01-28T09:27:42.777364Z"
    }
   },
   "outputs": [],
   "source": [
    "filename: str = 'milk-features-scaler.pickle'\n",
    "features_scaler_filepath: str = f'{directory}{filename}'\n",
    "\n",
    "with open(features_scaler_filepath, WRITE_BINARY) as file:\n",
    "    pickle.dump(scaler_x, file)\n",
    "\n",
    "filename: str = 'milk-target-scaler.pickle'\n",
    "target_scaler_filepath: str = f'{directory}{filename}'\n",
    "\n",
    "with open(target_scaler_filepath, WRITE_BINARY) as file:\n",
    "    pickle.dump(scaler_y, file)"
   ]
  },
  {
   "cell_type": "markdown",
   "id": "235b8c3c",
   "metadata": {},
   "source": [
    "#### Save Models"
   ]
  },
  {
   "cell_type": "code",
   "execution_count": 22,
   "id": "ac5ad16b",
   "metadata": {
    "ExecuteTime": {
     "end_time": "2022-01-28T09:27:42.885362Z",
     "start_time": "2022-01-28T09:27:42.794363Z"
    }
   },
   "outputs": [],
   "source": [
    "filename: str = 'milk-ann-model.h5'\n",
    "ann_filepath: str = f'{directory}{filename}'\n",
    "bestANNModel.save(ann_filepath, save_format='h5')"
   ]
  },
  {
   "cell_type": "markdown",
   "id": "e65dd81a",
   "metadata": {
    "ExecuteTime": {
     "end_time": "2022-01-28T08:11:28.329156Z",
     "start_time": "2022-01-28T08:11:28.319156Z"
    }
   },
   "source": [
    "```py\n",
    "# fit and transform in one line\n",
    "scaler_x.fit_transform(X_train)\n",
    "# remeber to inverse the scaling on model output\n",
    "scaler_x.inverse_transform(xtest_scale)\n",
    "\n",
    "# Read pickle file into variable to use scaler\n",
    "scaler_x_pkl_ann = pickle.load(open(f'{directory}feature-scaler.pickle', 'rb'))\n",
    "\n",
    "with open(target_scaler_filepath, READ_BINARY) as file:\n",
    "    pickle.dump(scaler_y, file)\n",
    "# Read pickle file into variable to use scaler\n",
    "\n",
    "with open(target_scaler_filepath, READ_BINARY) as file:\n",
    "    target_scaler = pickle.load(file)\n",
    "\n",
    "print(type(target_scaler))\n",
    "\n",
    "with open(ann_filepath, WRITE_BINARY) as file:\n",
    "    pickle.dump(bestANNModel, file)\n",
    "    \n",
    "pickle.dump(bestANNModel, open(f'{directory}pkl_ann_milk', 'wb'))\n",
    "\n",
    "# Read pickle file into variable to use model\n",
    "model_pkl_ann = pickle.load(open(f'{directory}pkl_ann_milk', 'rb'))\n",
    "\n",
    "## Example using pickle file with saved ANN model\n",
    "\n",
    "# take input from source as array\n",
    "data_input_from_webapp = np.array([357.3, 362.5, 172., 1440.2, 2136.5])\n",
    "\n",
    "# scale input with same scaler as used in model\n",
    "scale_data_from_webapp = scaler_x.transform(\n",
    "    data_input_from_webapp.reshape(1, -1))\n",
    "\n",
    "# predict scaled value\n",
    "scaled_prediction = bestANNModel.predict(scale_data_from_webapp)\n",
    "\n",
    "# descale prediction back to normal value\n",
    "prediction = scaler_y.inverse_transform(scaled_prediction)\n",
    "print('\\n Expected Milk Production is ', prediction[0][0])\n",
    "```"
   ]
  }
 ],
 "metadata": {
  "kernelspec": {
   "display_name": "Python 3 (ipykernel)",
   "language": "python",
   "name": "python3"
  },
  "language_info": {
   "codemirror_mode": {
    "name": "ipython",
    "version": 3
   },
   "file_extension": ".py",
   "mimetype": "text/x-python",
   "name": "python",
   "nbconvert_exporter": "python",
   "pygments_lexer": "ipython3",
   "version": "3.8.12"
  },
  "toc": {
   "base_numbering": 1,
   "nav_menu": {},
   "number_sections": false,
   "sideBar": true,
   "skip_h1_title": false,
   "title_cell": "Table of Contents",
   "title_sidebar": "Contents",
   "toc_cell": false,
   "toc_position": {
    "height": "calc(100% - 180px)",
    "left": "10px",
    "top": "150px",
    "width": "375px"
   },
   "toc_section_display": true,
   "toc_window_display": true
  }
 },
 "nbformat": 4,
 "nbformat_minor": 5
}
