{
 "cells": [
  {
   "cell_type": "markdown",
   "id": "e73f5217",
   "metadata": {},
   "source": [
    "<style>\n",
    "*\n",
    "{\n",
    "\ttext-align: justify;\n",
    "\tline-height: 1.5;\n",
    "\tfont-family: \"Arial\", sans-serif;\n",
    "\tfont-size: 12px;\n",
    "}\n",
    "\n",
    "h2, h3, h4, h5, h6\n",
    "{\n",
    "\tfont-family: \"Arial\", sans-serif;\n",
    "\tfont-size: 12px;\n",
    "\tfont-weight: bold;\n",
    "}\n",
    "h2\n",
    "{\n",
    "\tfont-size: 14px;\n",
    "}\n",
    "h1\n",
    "{\n",
    "\tfont-family: \"Wingdings\", sans-serif;\n",
    "\tfont-size: 16px;\n",
    "}\n",
    "</style>"
   ]
  },
  {
   "cell_type": "markdown",
   "id": "bad5aeea",
   "metadata": {},
   "source": [
    "## Milk Production Prediction Model Builder"
   ]
  },
  {
   "cell_type": "markdown",
   "id": "12a36702",
   "metadata": {},
   "source": [
    "<!--\n",
    "import data_analytics.github as github\n",
    "print(github.create_jupyter_notebook_header(\"tahirawwad\", \"agriculture-data-analytics\", \"notebooks/notebook-5-03-ml-milk-production.ipynb\", \"master\"))\n",
    "-->\n",
    "<table style=\"margin: auto;\"><tr><td><a href=\"https://mybinder.org/v2/gh/tahirawwad/agriculture-data-analytics/master?filepath=notebooks/notebook-5-03-ml-milk-production.ipynb\" target=\"_parent\"><img src=\"https://mybinder.org/badge_logo.svg\" alt=\"Open In Binder\"/></a></td><td>online editors</td><td><a href=\"https://colab.research.google.com/github/tahirawwad/agriculture-data-analytics/blob/master/notebooks/notebook-5-03-ml-milk-production.ipynbynb\" target=\"_parent\"><img src=\"https://colab.research.google.com/assets/colab-badge.svg\" alt=\"Open In Colab\"/></a></td></tr></table>"
   ]
  },
  {
   "cell_type": "markdown",
   "id": "92ac96b5",
   "metadata": {},
   "source": [
    "### Objective\n",
    "Create the best machine learning model to predict Milk production value in Ireland according to the historical data from Central Statistics office AEA01 Value at Current Prices for Output, Input and Income in Agriculture."
   ]
  },
  {
   "cell_type": "markdown",
   "id": "55902df1",
   "metadata": {},
   "source": [
    "### Setup"
   ]
  },
  {
   "cell_type": "markdown",
   "id": "c1d65b56",
   "metadata": {},
   "source": [
    "Import required third party Python libraries, import supporting functions and sets up data source file paths."
   ]
  },
  {
   "cell_type": "code",
   "execution_count": 1,
   "id": "cae9ae61",
   "metadata": {
    "ExecuteTime": {
     "end_time": "2022-01-28T22:31:47.902482Z",
     "start_time": "2022-01-28T22:31:47.892481Z"
    }
   },
   "outputs": [],
   "source": [
    "# Local\n",
    "#!pip install -r script/requirements.txt\n",
    "# Remote option\n",
    "#!pip install -r https://raw.githubusercontent.com/tahirawwad/agriculture-data-analytics/requirements.txt\n",
    "#Options: --quiet --user"
   ]
  },
  {
   "cell_type": "code",
   "execution_count": 2,
   "id": "02c4ce3f",
   "metadata": {
    "ExecuteTime": {
     "end_time": "2022-01-28T22:31:58.643786Z",
     "start_time": "2022-01-28T22:31:47.906487Z"
    }
   },
   "outputs": [],
   "source": [
    "from keras_tuner.tuners import RandomSearch\n",
    "from pandas import read_csv, DataFrame\n",
    "from sklearn.ensemble import RandomForestRegressor\n",
    "from sklearn.impute import SimpleImputer\n",
    "from sklearn.metrics import mean_absolute_error\n",
    "from sklearn.model_selection import GridSearchCV\n",
    "from sklearn.model_selection import train_test_split\n",
    "from sklearn.preprocessing import MinMaxScaler\n",
    "from tensorflow import keras\n",
    "from tensorflow.keras import layers\n",
    "from xgboost import XGBRegressor\n",
    "import numpy as np\n",
    "import pandas \n",
    "import os\n",
    "import pickle\n",
    "import shutil"
   ]
  },
  {
   "cell_type": "code",
   "execution_count": 3,
   "id": "3ef32f49",
   "metadata": {
    "ExecuteTime": {
     "end_time": "2022-01-28T22:31:58.658788Z",
     "start_time": "2022-01-28T22:31:58.645786Z"
    }
   },
   "outputs": [],
   "source": [
    "pandas.options.display.float_format = '{:.5f}'.format"
   ]
  },
  {
   "cell_type": "code",
   "execution_count": 4,
   "id": "3e30b6c5",
   "metadata": {
    "ExecuteTime": {
     "end_time": "2022-01-28T22:31:58.674787Z",
     "start_time": "2022-01-28T22:31:58.662788Z"
    }
   },
   "outputs": [],
   "source": [
    "READ_BINARY = \"rb\"\n",
    "WRITE_BINARY = \"wb\""
   ]
  },
  {
   "cell_type": "code",
   "execution_count": 5,
   "id": "e13d9ab8",
   "metadata": {
    "ExecuteTime": {
     "end_time": "2022-01-28T22:31:58.690789Z",
     "start_time": "2022-01-28T22:31:58.677790Z"
    }
   },
   "outputs": [],
   "source": [
    "model_directory: str = \"milk-production-models\"\n",
    "directory: str = f'./../artifacts/{model_directory}/'"
   ]
  },
  {
   "cell_type": "markdown",
   "id": "39543089",
   "metadata": {},
   "source": [
    "### Load dataframe"
   ]
  },
  {
   "cell_type": "code",
   "execution_count": 28,
   "id": "99092f99",
   "metadata": {
    "ExecuteTime": {
     "end_time": "2022-01-28T22:42:04.827249Z",
     "start_time": "2022-01-28T22:42:04.802248Z"
    }
   },
   "outputs": [],
   "source": [
    "dataframe_filepath = \"./../artifacts/irish-milk-production-eda-output.csv\"\n",
    "dataframe: DataFrame = read_csv(dataframe_filepath)"
   ]
  },
  {
   "cell_type": "markdown",
   "id": "e86689fb",
   "metadata": {},
   "source": [
    "### Production of Milk"
   ]
  },
  {
   "cell_type": "markdown",
   "id": "43dce267",
   "metadata": {},
   "source": [
    "Extract the milk production features."
   ]
  },
  {
   "cell_type": "code",
   "execution_count": 29,
   "id": "a096f328",
   "metadata": {
    "ExecuteTime": {
     "end_time": "2022-01-28T22:42:06.214265Z",
     "start_time": "2022-01-28T22:42:06.176257Z"
    }
   },
   "outputs": [
    {
     "name": "stdout",
     "output_type": "stream",
     "text": [
      "Milk production dataset dimensions: 24 Columns, 31 Rows\n"
     ]
    },
    {
     "data": {
      "text/html": [
       "<div>\n",
       "<style scoped>\n",
       "    .dataframe tbody tr th:only-of-type {\n",
       "        vertical-align: middle;\n",
       "    }\n",
       "\n",
       "    .dataframe tbody tr th {\n",
       "        vertical-align: top;\n",
       "    }\n",
       "\n",
       "    .dataframe thead th {\n",
       "        text-align: right;\n",
       "    }\n",
       "</style>\n",
       "<table border=\"1\" class=\"dataframe\">\n",
       "  <thead>\n",
       "    <tr style=\"text-align: right;\">\n",
       "      <th></th>\n",
       "      <th>All Livestock Products - Milk</th>\n",
       "      <th>Taxes on Products</th>\n",
       "      <th>Subsidies on Products</th>\n",
       "      <th>Compensation of Employees</th>\n",
       "      <th>Contract Work</th>\n",
       "      <th>Entrepreneurial Income</th>\n",
       "      <th>Factor Income</th>\n",
       "      <th>Fixed Capital Consumption - Farm Buildings</th>\n",
       "      <th>Fixed Capital Consumption - Machinery, Equipment, etc</th>\n",
       "      <th>Interest less FISIM</th>\n",
       "      <th>...</th>\n",
       "      <th>Intermediate Consumption - Contract Work</th>\n",
       "      <th>Intermediate Consumption - Crop Protection Products</th>\n",
       "      <th>Intermediate Consumption - Energy and Lubricants</th>\n",
       "      <th>Intermediate Consumption - Feeding Stuffs</th>\n",
       "      <th>Intermediate Consumption - Fertilisers</th>\n",
       "      <th>Intermediate Consumption - Financial Intermediation Services Indirect</th>\n",
       "      <th>Intermediate Consumption - Forage Plants</th>\n",
       "      <th>Intermediate Consumption - Maintenance and Repairs</th>\n",
       "      <th>Intermediate Consumption - Veterinary Expenses</th>\n",
       "      <th>Intermediate Consumption - Other Goods and Services</th>\n",
       "    </tr>\n",
       "    <tr>\n",
       "      <th>Year</th>\n",
       "      <th></th>\n",
       "      <th></th>\n",
       "      <th></th>\n",
       "      <th></th>\n",
       "      <th></th>\n",
       "      <th></th>\n",
       "      <th></th>\n",
       "      <th></th>\n",
       "      <th></th>\n",
       "      <th></th>\n",
       "      <th></th>\n",
       "      <th></th>\n",
       "      <th></th>\n",
       "      <th></th>\n",
       "      <th></th>\n",
       "      <th></th>\n",
       "      <th></th>\n",
       "      <th></th>\n",
       "      <th></th>\n",
       "      <th></th>\n",
       "      <th></th>\n",
       "    </tr>\n",
       "  </thead>\n",
       "  <tbody>\n",
       "    <tr>\n",
       "      <th>1990</th>\n",
       "      <td>1316.30000</td>\n",
       "      <td>75.00000</td>\n",
       "      <td>408.90000</td>\n",
       "      <td>377.60000</td>\n",
       "      <td>180.70000</td>\n",
       "      <td>1577.20000</td>\n",
       "      <td>2321.10000</td>\n",
       "      <td>106.40000</td>\n",
       "      <td>325.50000</td>\n",
       "      <td>267.40000</td>\n",
       "      <td>...</td>\n",
       "      <td>180.70000</td>\n",
       "      <td>47.40000</td>\n",
       "      <td>165.00000</td>\n",
       "      <td>642.20000</td>\n",
       "      <td>326.00000</td>\n",
       "      <td>34.00000</td>\n",
       "      <td>553.10000</td>\n",
       "      <td>203.90000</td>\n",
       "      <td>85.20000</td>\n",
       "      <td>182.30000</td>\n",
       "    </tr>\n",
       "    <tr>\n",
       "      <th>1991</th>\n",
       "      <td>1258.90000</td>\n",
       "      <td>78.20000</td>\n",
       "      <td>357.30000</td>\n",
       "      <td>362.50000</td>\n",
       "      <td>172.00000</td>\n",
       "      <td>1440.20000</td>\n",
       "      <td>2136.50000</td>\n",
       "      <td>113.20000</td>\n",
       "      <td>331.70000</td>\n",
       "      <td>237.20000</td>\n",
       "      <td>...</td>\n",
       "      <td>172.00000</td>\n",
       "      <td>50.40000</td>\n",
       "      <td>164.80000</td>\n",
       "      <td>646.50000</td>\n",
       "      <td>319.10000</td>\n",
       "      <td>39.00000</td>\n",
       "      <td>525.60000</td>\n",
       "      <td>184.60000</td>\n",
       "      <td>91.90000</td>\n",
       "      <td>185.50000</td>\n",
       "    </tr>\n",
       "    <tr>\n",
       "      <th>1992</th>\n",
       "      <td>1373.10000</td>\n",
       "      <td>79.50000</td>\n",
       "      <td>446.00000</td>\n",
       "      <td>336.80000</td>\n",
       "      <td>179.80000</td>\n",
       "      <td>1842.60000</td>\n",
       "      <td>2516.20000</td>\n",
       "      <td>117.80000</td>\n",
       "      <td>332.40000</td>\n",
       "      <td>237.60000</td>\n",
       "      <td>...</td>\n",
       "      <td>179.80000</td>\n",
       "      <td>55.20000</td>\n",
       "      <td>155.40000</td>\n",
       "      <td>668.50000</td>\n",
       "      <td>305.10000</td>\n",
       "      <td>43.00000</td>\n",
       "      <td>533.80000</td>\n",
       "      <td>175.10000</td>\n",
       "      <td>93.70000</td>\n",
       "      <td>183.00000</td>\n",
       "    </tr>\n",
       "    <tr>\n",
       "      <th>1993</th>\n",
       "      <td>1439.00000</td>\n",
       "      <td>68.00000</td>\n",
       "      <td>466.40000</td>\n",
       "      <td>339.00000</td>\n",
       "      <td>199.50000</td>\n",
       "      <td>1985.60000</td>\n",
       "      <td>2586.90000</td>\n",
       "      <td>121.90000</td>\n",
       "      <td>335.50000</td>\n",
       "      <td>162.50000</td>\n",
       "      <td>...</td>\n",
       "      <td>199.50000</td>\n",
       "      <td>57.00000</td>\n",
       "      <td>158.90000</td>\n",
       "      <td>733.50000</td>\n",
       "      <td>301.20000</td>\n",
       "      <td>49.00000</td>\n",
       "      <td>572.90000</td>\n",
       "      <td>195.70000</td>\n",
       "      <td>100.20000</td>\n",
       "      <td>193.10000</td>\n",
       "    </tr>\n",
       "    <tr>\n",
       "      <th>1994</th>\n",
       "      <td>1446.20000</td>\n",
       "      <td>53.70000</td>\n",
       "      <td>666.00000</td>\n",
       "      <td>345.20000</td>\n",
       "      <td>205.30000</td>\n",
       "      <td>2051.70000</td>\n",
       "      <td>2623.70000</td>\n",
       "      <td>125.00000</td>\n",
       "      <td>346.50000</td>\n",
       "      <td>119.30000</td>\n",
       "      <td>...</td>\n",
       "      <td>205.30000</td>\n",
       "      <td>57.50000</td>\n",
       "      <td>158.80000</td>\n",
       "      <td>818.60000</td>\n",
       "      <td>316.30000</td>\n",
       "      <td>56.00000</td>\n",
       "      <td>604.60000</td>\n",
       "      <td>220.30000</td>\n",
       "      <td>108.70000</td>\n",
       "      <td>200.30000</td>\n",
       "    </tr>\n",
       "  </tbody>\n",
       "</table>\n",
       "<p>5 rows × 24 columns</p>\n",
       "</div>"
      ],
      "text/plain": [
       "      All Livestock Products - Milk  Taxes on Products  Subsidies on Products  \\\n",
       "Year                                                                            \n",
       "1990                     1316.30000           75.00000              408.90000   \n",
       "1991                     1258.90000           78.20000              357.30000   \n",
       "1992                     1373.10000           79.50000              446.00000   \n",
       "1993                     1439.00000           68.00000              466.40000   \n",
       "1994                     1446.20000           53.70000              666.00000   \n",
       "\n",
       "      Compensation of Employees  Contract Work  Entrepreneurial Income  \\\n",
       "Year                                                                     \n",
       "1990                  377.60000      180.70000              1577.20000   \n",
       "1991                  362.50000      172.00000              1440.20000   \n",
       "1992                  336.80000      179.80000              1842.60000   \n",
       "1993                  339.00000      199.50000              1985.60000   \n",
       "1994                  345.20000      205.30000              2051.70000   \n",
       "\n",
       "      Factor Income  Fixed Capital Consumption - Farm Buildings  \\\n",
       "Year                                                              \n",
       "1990     2321.10000                                   106.40000   \n",
       "1991     2136.50000                                   113.20000   \n",
       "1992     2516.20000                                   117.80000   \n",
       "1993     2586.90000                                   121.90000   \n",
       "1994     2623.70000                                   125.00000   \n",
       "\n",
       "      Fixed Capital Consumption - Machinery, Equipment, etc  \\\n",
       "Year                                                          \n",
       "1990                                          325.50000       \n",
       "1991                                          331.70000       \n",
       "1992                                          332.40000       \n",
       "1993                                          335.50000       \n",
       "1994                                          346.50000       \n",
       "\n",
       "      Interest less FISIM  ...  Intermediate Consumption - Contract Work  \\\n",
       "Year                       ...                                             \n",
       "1990            267.40000  ...                                 180.70000   \n",
       "1991            237.20000  ...                                 172.00000   \n",
       "1992            237.60000  ...                                 179.80000   \n",
       "1993            162.50000  ...                                 199.50000   \n",
       "1994            119.30000  ...                                 205.30000   \n",
       "\n",
       "      Intermediate Consumption - Crop Protection Products  \\\n",
       "Year                                                        \n",
       "1990                                           47.40000     \n",
       "1991                                           50.40000     \n",
       "1992                                           55.20000     \n",
       "1993                                           57.00000     \n",
       "1994                                           57.50000     \n",
       "\n",
       "      Intermediate Consumption - Energy and Lubricants  \\\n",
       "Year                                                     \n",
       "1990                                         165.00000   \n",
       "1991                                         164.80000   \n",
       "1992                                         155.40000   \n",
       "1993                                         158.90000   \n",
       "1994                                         158.80000   \n",
       "\n",
       "      Intermediate Consumption - Feeding Stuffs  \\\n",
       "Year                                              \n",
       "1990                                  642.20000   \n",
       "1991                                  646.50000   \n",
       "1992                                  668.50000   \n",
       "1993                                  733.50000   \n",
       "1994                                  818.60000   \n",
       "\n",
       "      Intermediate Consumption - Fertilisers  \\\n",
       "Year                                           \n",
       "1990                               326.00000   \n",
       "1991                               319.10000   \n",
       "1992                               305.10000   \n",
       "1993                               301.20000   \n",
       "1994                               316.30000   \n",
       "\n",
       "      Intermediate Consumption - Financial Intermediation Services Indirect  \\\n",
       "Year                                                                          \n",
       "1990                                           34.00000                       \n",
       "1991                                           39.00000                       \n",
       "1992                                           43.00000                       \n",
       "1993                                           49.00000                       \n",
       "1994                                           56.00000                       \n",
       "\n",
       "      Intermediate Consumption - Forage Plants  \\\n",
       "Year                                             \n",
       "1990                                 553.10000   \n",
       "1991                                 525.60000   \n",
       "1992                                 533.80000   \n",
       "1993                                 572.90000   \n",
       "1994                                 604.60000   \n",
       "\n",
       "      Intermediate Consumption - Maintenance and Repairs  \\\n",
       "Year                                                       \n",
       "1990                                          203.90000    \n",
       "1991                                          184.60000    \n",
       "1992                                          175.10000    \n",
       "1993                                          195.70000    \n",
       "1994                                          220.30000    \n",
       "\n",
       "      Intermediate Consumption - Veterinary Expenses  \\\n",
       "Year                                                   \n",
       "1990                                        85.20000   \n",
       "1991                                        91.90000   \n",
       "1992                                        93.70000   \n",
       "1993                                       100.20000   \n",
       "1994                                       108.70000   \n",
       "\n",
       "      Intermediate Consumption - Other Goods and Services  \n",
       "Year                                                       \n",
       "1990                                          182.30000    \n",
       "1991                                          185.50000    \n",
       "1992                                          183.00000    \n",
       "1993                                          193.10000    \n",
       "1994                                          200.30000    \n",
       "\n",
       "[5 rows x 24 columns]"
      ]
     },
     "execution_count": 29,
     "metadata": {},
     "output_type": "execute_result"
    }
   ],
   "source": [
    "feature_columns = [\n",
    "    'Year', \n",
    "    'All Livestock Products - Milk',\n",
    "    'Taxes on Products',\n",
    "    'Subsidies on Products', \n",
    "    'Compensation of Employees',\n",
    "    'Contract Work',\n",
    "    'Entrepreneurial Income',\n",
    "    'Factor Income',\n",
    "    'Fixed Capital Consumption - Farm Buildings',\n",
    "    'Fixed Capital Consumption - Machinery, Equipment, etc',\n",
    "    'Interest less FISIM', \n",
    "    'Operating Surplus', \n",
    "    'Livestock - Cattle',\n",
    "    'Livestock - Sheep', \n",
    "    'Land Rental',\n",
    "    'Intermediate Consumption - Contract Work',\n",
    "    'Intermediate Consumption - Crop Protection Products',\n",
    "    'Intermediate Consumption - Energy and Lubricants',\n",
    "    'Intermediate Consumption - Feeding Stuffs',\n",
    "    'Intermediate Consumption - Fertilisers',\n",
    "    'Intermediate Consumption - Financial Intermediation Services Indirect',\n",
    "    'Intermediate Consumption - Forage Plants',\n",
    "    'Intermediate Consumption - Maintenance and Repairs',\n",
    "#    'Intermediate Consumption - Seeds', 'Intermediate Consumption - Services',\n",
    "    'Intermediate Consumption - Veterinary Expenses',\n",
    "#   'Intermediate Consumption - Other Goods (Detergents, Small Tools, etc)',\n",
    "    'Intermediate Consumption - Other Goods and Services'\n",
    "]\n",
    "\n",
    "feature_columns1 = [\n",
    "    'Year',\n",
    "    'All Livestock Products - Milk',\n",
    "    'Intermediate Consumption - Energy and Lubricants',\n",
    "    'Intermediate Consumption - Feeding Stuffs',\n",
    "    'Intermediate Consumption - Fertilisers',\n",
    "    'Land Rental',\n",
    "    'Taxes on Products',\n",
    "]\n",
    "\n",
    "dataframe = dataframe[feature_columns]\n",
    "\n",
    "dataframe.set_index('Year', drop=True, inplace=True)\n",
    "\n",
    "print(f\"Milk production dataset dimensions: {dataframe.shape[1]} Columns, {dataframe.shape[0]} Rows\")\n",
    "\n",
    "dataframe.head()"
   ]
  },
  {
   "cell_type": "markdown",
   "id": "129cb429",
   "metadata": {},
   "source": [
    "### Prepare Model Data"
   ]
  },
  {
   "cell_type": "markdown",
   "id": "50450923",
   "metadata": {},
   "source": [
    "#### Select the feature set and the target"
   ]
  },
  {
   "cell_type": "markdown",
   "id": "938d45f2",
   "metadata": {},
   "source": [
    "Select the feature set and the target "
   ]
  },
  {
   "cell_type": "code",
   "execution_count": 9,
   "id": "3195a988",
   "metadata": {
    "ExecuteTime": {
     "end_time": "2022-01-28T22:31:58.878827Z",
     "start_time": "2022-01-28T22:31:58.865826Z"
    }
   },
   "outputs": [
    {
     "name": "stdout",
     "output_type": "stream",
     "text": [
      "Features dimension: 23 Columns, 31 Rows\n",
      "Target dimension:   1 Column,  31 Rows\n"
     ]
    }
   ],
   "source": [
    "feature_values = dataframe.iloc[:, 1:].values\n",
    "target_values = dataframe.iloc[:, 0].values.reshape(-1, 1)\n",
    "\n",
    "print(f'Features dimension: {np.shape(feature_values)[1]} Columns, {np.shape(feature_values)[0]} Rows')\n",
    "print(f'Target dimension:   {np.shape(target_values)[1]} Column,  {np.shape(target_values)[0]} Rows')"
   ]
  },
  {
   "cell_type": "markdown",
   "id": "b05b59fc",
   "metadata": {},
   "source": [
    "#### Define Training and Test Sets"
   ]
  },
  {
   "cell_type": "markdown",
   "id": "f4c3cd64",
   "metadata": {},
   "source": [
    "The data is liner data and should not be shuffled. Set test set size to 20%."
   ]
  },
  {
   "cell_type": "code",
   "execution_count": 10,
   "id": "bf5e71aa",
   "metadata": {
    "ExecuteTime": {
     "end_time": "2022-01-28T22:31:58.893825Z",
     "start_time": "2022-01-28T22:31:58.883827Z"
    }
   },
   "outputs": [],
   "source": [
    "test_size: float = 0.8\n",
    "X_train, X_test, Y_train, Y_test = train_test_split(feature_values,\n",
    "                                                    target_values,\n",
    "                                                    test_size=test_size,\n",
    "                                                    shuffle=False)"
   ]
  },
  {
   "cell_type": "markdown",
   "id": "77c420bb",
   "metadata": {},
   "source": [
    "#### Scale & Transform"
   ]
  },
  {
   "cell_type": "code",
   "execution_count": 11,
   "id": "dd7350dc",
   "metadata": {
    "ExecuteTime": {
     "end_time": "2022-01-28T22:31:58.909823Z",
     "start_time": "2022-01-28T22:31:58.897828Z"
    }
   },
   "outputs": [],
   "source": [
    "features_scaler = MinMaxScaler()\n",
    "\n",
    "features_scaler.fit(X_train)\n",
    "\n",
    "xtest_scale = features_scaler.transform(X_test)\n",
    "xtrain_scale = features_scaler.transform(X_train)"
   ]
  },
  {
   "cell_type": "code",
   "execution_count": 12,
   "id": "f4194ab2",
   "metadata": {
    "ExecuteTime": {
     "end_time": "2022-01-28T22:31:58.925825Z",
     "start_time": "2022-01-28T22:31:58.912829Z"
    }
   },
   "outputs": [],
   "source": [
    "target_scaler = MinMaxScaler()\n",
    "\n",
    "target_scaler.fit(Y_train)\n",
    "\n",
    "ytrain_scale = target_scaler.transform(Y_train)\n",
    "ytest_scale = target_scaler.transform(Y_test)"
   ]
  },
  {
   "cell_type": "markdown",
   "id": "98d53cdb",
   "metadata": {},
   "source": [
    "##### Save Scalers"
   ]
  },
  {
   "cell_type": "code",
   "execution_count": 13,
   "id": "a495e24e",
   "metadata": {
    "ExecuteTime": {
     "end_time": "2022-01-28T22:31:58.940829Z",
     "start_time": "2022-01-28T22:31:58.928834Z"
    }
   },
   "outputs": [],
   "source": [
    "filename: str = 'milk-features-scaler.pickle'\n",
    "features_scaler_filepath: str = f'{directory}{filename}'\n",
    "\n",
    "with open(features_scaler_filepath, WRITE_BINARY) as file:\n",
    "    pickle.dump(features_scaler, file)"
   ]
  },
  {
   "cell_type": "code",
   "execution_count": 14,
   "id": "d4ac4717",
   "metadata": {
    "ExecuteTime": {
     "end_time": "2022-01-28T22:31:58.957330Z",
     "start_time": "2022-01-28T22:31:58.942829Z"
    }
   },
   "outputs": [],
   "source": [
    "filename: str = 'milk-target-scaler.pickle'\n",
    "target_scaler_filepath: str = f'{directory}{filename}'\n",
    "\n",
    "with open(target_scaler_filepath, WRITE_BINARY) as file:\n",
    "    pickle.dump(target_scaler, file)"
   ]
  },
  {
   "cell_type": "markdown",
   "id": "ba3c3dce",
   "metadata": {},
   "source": [
    "### Model Testing"
   ]
  },
  {
   "cell_type": "markdown",
   "id": "58da80b0",
   "metadata": {},
   "source": [
    "#### Score Board"
   ]
  },
  {
   "cell_type": "code",
   "execution_count": 15,
   "id": "1d8a1eda",
   "metadata": {
    "ExecuteTime": {
     "end_time": "2022-01-28T22:31:58.972825Z",
     "start_time": "2022-01-28T22:31:58.960829Z"
    }
   },
   "outputs": [],
   "source": [
    "model_scores_dataframe = DataFrame(\n",
    "    columns=['Model', 'Mean Absolute Error Score(%)'])"
   ]
  },
  {
   "cell_type": "markdown",
   "id": "40f58f53",
   "metadata": {},
   "source": [
    "#### Random Forest Regressor"
   ]
  },
  {
   "cell_type": "markdown",
   "id": "664558ee",
   "metadata": {},
   "source": [
    "##### Train Model"
   ]
  },
  {
   "cell_type": "markdown",
   "id": "9b48e6e6",
   "metadata": {},
   "source": [
    "Hyper parameter tuning via Grid Search Cross Validation"
   ]
  },
  {
   "cell_type": "code",
   "execution_count": 16,
   "id": "fbe9bbff",
   "metadata": {
    "ExecuteTime": {
     "end_time": "2022-01-28T22:34:24.730972Z",
     "start_time": "2022-01-28T22:31:58.974828Z"
    }
   },
   "outputs": [
    {
     "name": "stderr",
     "output_type": "stream",
     "text": [
      "C:\\Users\\user\\AppData\\Roaming\\Python\\Python38\\site-packages\\sklearn\\model_selection\\_search.py:969: UserWarning: One or more of the test scores are non-finite: [nan nan nan nan nan nan nan nan nan nan nan nan nan nan nan nan nan nan\n",
      " nan nan nan nan nan nan nan nan nan nan nan nan nan nan nan nan nan nan\n",
      " nan nan nan nan nan nan nan nan nan nan nan nan nan nan nan nan nan nan\n",
      " nan nan nan nan nan nan nan nan nan nan nan nan nan nan nan nan nan nan\n",
      " nan nan nan nan nan nan nan nan nan nan nan nan nan nan nan nan nan nan\n",
      " nan nan nan nan nan nan nan nan nan nan nan nan nan nan nan nan nan nan\n",
      " nan nan nan nan nan nan nan nan nan nan nan nan nan nan nan nan nan nan\n",
      " nan nan nan nan nan nan nan nan nan nan nan nan nan nan nan nan nan nan\n",
      " nan nan nan nan nan nan nan nan nan nan nan nan nan nan nan nan nan nan]\n",
      "  warnings.warn(\n"
     ]
    },
    {
     "data": {
      "text/plain": [
       "GridSearchCV(cv=5, estimator=RandomForestRegressor(), n_jobs=-1,\n",
       "             param_grid={'bootstrap': [True, False],\n",
       "                         'criterion': ['squared_error', 'absolute_error',\n",
       "                                       'poisson'],\n",
       "                         'max_depth': [1, 3, 5],\n",
       "                         'max_features': ['auto', 'sqrt', 'log2'],\n",
       "                         'n_estimators': [100, 500, 800]})"
      ]
     },
     "execution_count": 16,
     "metadata": {},
     "output_type": "execute_result"
    }
   ],
   "source": [
    "random_forest_regressor = RandomForestRegressor()\n",
    "\n",
    "random_forest_regressor_paramaters_grid = {\n",
    "    'bootstrap': [True, False],\n",
    "    'criterion': ['squared_error', 'absolute_error', 'poisson'],\n",
    "    'max_depth': [1, 3, 5],\n",
    "    'max_features': [\"auto\", \"sqrt\", \"log2\"],\n",
    "    'n_estimators': [100, 500, 800],  # Number of trees\n",
    "}\n",
    "\n",
    "grid_search_cv = GridSearchCV(\n",
    "    estimator=random_forest_regressor,\n",
    "    param_grid=random_forest_regressor_paramaters_grid,\n",
    "    n_jobs=-1,  # Use all processors on CPU\n",
    "    cv=5)  #cross validation 5 fold of datasets\n",
    "\n",
    "grid_search_cv.fit(xtrain_scale, ytrain_scale.reshape(-1))"
   ]
  },
  {
   "cell_type": "markdown",
   "id": "446c6f92",
   "metadata": {},
   "source": [
    "##### Test and Score Model"
   ]
  },
  {
   "cell_type": "code",
   "execution_count": 17,
   "id": "68ceb025",
   "metadata": {
    "ExecuteTime": {
     "end_time": "2022-01-28T22:34:24.778492Z",
     "start_time": "2022-01-28T22:34:24.732974Z"
    }
   },
   "outputs": [
    {
     "name": "stdout",
     "output_type": "stream",
     "text": [
      "Best training model RandomForestRegressor(max_depth=1)\n",
      "Best training model score, coefficient of determination R squared nan\n"
     ]
    }
   ],
   "source": [
    "print('Best training model', grid_search_cv.best_estimator_)\n",
    "print('Best training model score, coefficient of determination R squared',\n",
    "      grid_search_cv.best_score_)\n",
    "\n",
    "y_predict = target_scaler.inverse_transform(\n",
    "    grid_search_cv.predict(xtest_scale).reshape(-1, 1))\n",
    "mae_score = mean_absolute_error(Y_test, y_predict)"
   ]
  },
  {
   "cell_type": "markdown",
   "id": "5d91acdc",
   "metadata": {},
   "source": [
    "##### Save Model Score"
   ]
  },
  {
   "cell_type": "code",
   "execution_count": 18,
   "id": "57ce9131",
   "metadata": {
    "ExecuteTime": {
     "end_time": "2022-01-28T22:34:24.809496Z",
     "start_time": "2022-01-28T22:34:24.782495Z"
    }
   },
   "outputs": [
    {
     "data": {
      "text/html": [
       "<div>\n",
       "<style scoped>\n",
       "    .dataframe tbody tr th:only-of-type {\n",
       "        vertical-align: middle;\n",
       "    }\n",
       "\n",
       "    .dataframe tbody tr th {\n",
       "        vertical-align: top;\n",
       "    }\n",
       "\n",
       "    .dataframe thead th {\n",
       "        text-align: right;\n",
       "    }\n",
       "</style>\n",
       "<table border=\"1\" class=\"dataframe\">\n",
       "  <thead>\n",
       "    <tr style=\"text-align: right;\">\n",
       "      <th></th>\n",
       "      <th>Model</th>\n",
       "      <th>Mean Absolute Error Score(%)</th>\n",
       "    </tr>\n",
       "  </thead>\n",
       "  <tbody>\n",
       "    <tr>\n",
       "      <th>0</th>\n",
       "      <td>Random Forest Regressor</td>\n",
       "      <td>347.43159</td>\n",
       "    </tr>\n",
       "  </tbody>\n",
       "</table>\n",
       "</div>"
      ],
      "text/plain": [
       "                     Model  Mean Absolute Error Score(%)\n",
       "0  Random Forest Regressor                     347.43159"
      ]
     },
     "execution_count": 18,
     "metadata": {},
     "output_type": "execute_result"
    }
   ],
   "source": [
    "values = ['Random Forest Regressor', mae_score]\n",
    "model_scores_dataframe.loc[len(model_scores_dataframe)] = values\n",
    "model_scores_dataframe.head()"
   ]
  },
  {
   "cell_type": "markdown",
   "id": "b4aab677",
   "metadata": {},
   "source": [
    "#### XGBOOST Regressor"
   ]
  },
  {
   "cell_type": "markdown",
   "id": "7c6eb8ab",
   "metadata": {},
   "source": [
    "##### Train Model"
   ]
  },
  {
   "cell_type": "code",
   "execution_count": 19,
   "id": "119a7167",
   "metadata": {
    "ExecuteTime": {
     "end_time": "2022-01-28T22:35:45.195991Z",
     "start_time": "2022-01-28T22:34:24.815495Z"
    }
   },
   "outputs": [
    {
     "name": "stdout",
     "output_type": "stream",
     "text": [
      "Fitting 5 folds for each of 144 candidates, totalling 720 fits\n",
      "Best training model  XGBRegressor(base_score=0.5, booster='gbtree', colsample_bylevel=1,\n",
      "             colsample_bynode=1, colsample_bytree=1, enable_categorical=False,\n",
      "             gamma=0.01, gpu_id=-1, importance_type=None,\n",
      "             interaction_constraints='', learning_rate=0.001, max_delta_step=0,\n",
      "             max_depth=3, min_child_weight=1, missing=nan,\n",
      "             monotone_constraints='()', n_estimators=20, n_jobs=8,\n",
      "             num_parallel_tree=1, predictor='auto', random_state=2021,\n",
      "             reg_alpha=0, reg_lambda=1, scale_pos_weight=1, subsample=1,\n",
      "             tree_method='exact', validate_parameters=1, verbosity=None)\n",
      "Best model Parameters {'gamma': 0.01, 'learning_rate': 0.001, 'max_depth': 3, 'n_estimators': 20}\n",
      "Best training model score, coefficient of determination R squared nan\n"
     ]
    },
    {
     "name": "stderr",
     "output_type": "stream",
     "text": [
      "C:\\Users\\user\\AppData\\Roaming\\Python\\Python38\\site-packages\\sklearn\\model_selection\\_search.py:969: UserWarning: One or more of the test scores are non-finite: [nan nan nan nan nan nan nan nan nan nan nan nan nan nan nan nan nan nan\n",
      " nan nan nan nan nan nan nan nan nan nan nan nan nan nan nan nan nan nan\n",
      " nan nan nan nan nan nan nan nan nan nan nan nan nan nan nan nan nan nan\n",
      " nan nan nan nan nan nan nan nan nan nan nan nan nan nan nan nan nan nan\n",
      " nan nan nan nan nan nan nan nan nan nan nan nan nan nan nan nan nan nan\n",
      " nan nan nan nan nan nan nan nan nan nan nan nan nan nan nan nan nan nan\n",
      " nan nan nan nan nan nan nan nan nan nan nan nan nan nan nan nan nan nan\n",
      " nan nan nan nan nan nan nan nan nan nan nan nan nan nan nan nan nan nan]\n",
      "  warnings.warn(\n"
     ]
    }
   ],
   "source": [
    "# define XGBRegressor\n",
    "xgb_regressor_milk = XGBRegressor(random_state=2021)\n",
    "\n",
    "# define parameters space to loop over\n",
    "params_xgb_milk = {\n",
    "    'n_estimators': [20, 40, 80, 160, 340, 500],\n",
    "    'max_depth': [3, 6, 9],\n",
    "    'gamma': [0.01, 0.1],\n",
    "    'learning_rate': [0.001, 0.01, 0.1, 1]\n",
    "}\n",
    "\n",
    "# Hyper parameter tuning via Grid Search Cross Validation\n",
    "grid_xgb_milk = GridSearchCV(\n",
    "    estimator=xgb_regressor_milk,\n",
    "    param_grid=params_xgb_milk,\n",
    "    #n_jobs=-1,\n",
    "    scoring=['r2', 'neg_root_mean_squared_error'],\n",
    "    refit='r2',\n",
    "    n_jobs=-1,\n",
    "    cv=5,\n",
    "    verbose=4)\n",
    "\n",
    "# fit grid to training scaled set\n",
    "grid_xgb_milk.fit(xtrain_scale, ytrain_scale)\n",
    "\n",
    "# print best training model & R squared score\n",
    "print('Best training model ', grid_xgb_milk.best_estimator_)\n",
    "print('Best model Parameters', grid_xgb_milk.best_params_)\n",
    "print('Best training model score, coefficient of determination R squared',\n",
    "      grid_xgb_milk.best_score_)"
   ]
  },
  {
   "cell_type": "markdown",
   "id": "6d49ff37",
   "metadata": {},
   "source": [
    "##### Test and Score Model"
   ]
  },
  {
   "cell_type": "code",
   "execution_count": 20,
   "id": "410a7574",
   "metadata": {
    "ExecuteTime": {
     "end_time": "2022-01-28T22:35:45.226990Z",
     "start_time": "2022-01-28T22:35:45.199995Z"
    }
   },
   "outputs": [],
   "source": [
    "y_predict = target_scaler.inverse_transform(\n",
    "    grid_xgb_milk.predict(xtest_scale).reshape(-1, 1))\n",
    "\n",
    "mae_score = mean_absolute_error(Y_test, y_predict)"
   ]
  },
  {
   "cell_type": "markdown",
   "id": "f87104a4",
   "metadata": {},
   "source": [
    "##### Save Model Score"
   ]
  },
  {
   "cell_type": "code",
   "execution_count": 21,
   "id": "fd170cd6",
   "metadata": {
    "ExecuteTime": {
     "end_time": "2022-01-28T22:35:45.273518Z",
     "start_time": "2022-01-28T22:35:45.230991Z"
    }
   },
   "outputs": [
    {
     "data": {
      "text/html": [
       "<div>\n",
       "<style scoped>\n",
       "    .dataframe tbody tr th:only-of-type {\n",
       "        vertical-align: middle;\n",
       "    }\n",
       "\n",
       "    .dataframe tbody tr th {\n",
       "        vertical-align: top;\n",
       "    }\n",
       "\n",
       "    .dataframe thead th {\n",
       "        text-align: right;\n",
       "    }\n",
       "</style>\n",
       "<table border=\"1\" class=\"dataframe\">\n",
       "  <thead>\n",
       "    <tr style=\"text-align: right;\">\n",
       "      <th></th>\n",
       "      <th>Model</th>\n",
       "      <th>Mean Absolute Error Score(%)</th>\n",
       "    </tr>\n",
       "  </thead>\n",
       "  <tbody>\n",
       "    <tr>\n",
       "      <th>0</th>\n",
       "      <td>Random Forest Regressor</td>\n",
       "      <td>347.43159</td>\n",
       "    </tr>\n",
       "    <tr>\n",
       "      <th>1</th>\n",
       "      <td>XGBOOST</td>\n",
       "      <td>373.67662</td>\n",
       "    </tr>\n",
       "  </tbody>\n",
       "</table>\n",
       "</div>"
      ],
      "text/plain": [
       "                     Model  Mean Absolute Error Score(%)\n",
       "0  Random Forest Regressor                     347.43159\n",
       "1                  XGBOOST                     373.67662"
      ]
     },
     "execution_count": 21,
     "metadata": {},
     "output_type": "execute_result"
    }
   ],
   "source": [
    "model_scores_dataframe.loc[len(model_scores_dataframe)] = ['XGBOOST', mae_score]\n",
    "model_scores_dataframe.head()"
   ]
  },
  {
   "cell_type": "markdown",
   "id": "a1eb8eb9",
   "metadata": {},
   "source": [
    "#### ANN Artificial Neural Network"
   ]
  },
  {
   "cell_type": "markdown",
   "id": "d01711cf",
   "metadata": {},
   "source": [
    "##### Train Model"
   ]
  },
  {
   "cell_type": "code",
   "execution_count": 22,
   "id": "6199a6b5",
   "metadata": {
    "ExecuteTime": {
     "end_time": "2022-01-28T22:36:49.319418Z",
     "start_time": "2022-01-28T22:35:45.277519Z"
    },
    "scrolled": true
   },
   "outputs": [
    {
     "name": "stdout",
     "output_type": "stream",
     "text": [
      "Trial 5 Complete [00h 00m 11s]\n",
      "val_mean_absolute_error: 0.9210455814997355\n",
      "\n",
      "Best val_mean_absolute_error So Far: 0.7721548080444336\n",
      "Total elapsed time: 00h 01m 00s\n",
      "INFO:tensorflow:Oracle triggered exit\n",
      "\n",
      "\n",
      "Results summary\n",
      "Results in ./../temp/ANN-tuner/Milk production\n",
      "Showing 10 best trials\n",
      "Objective(name='val_mean_absolute_error', direction='min')\n",
      "Trial summary\n",
      "Hyperparameters:\n",
      "num_layers: 7\n",
      "units_0: 183\n",
      "learning_rate: 0.001\n",
      "Score: 0.7721548080444336\n",
      "Trial summary\n",
      "Hyperparameters:\n",
      "num_layers: 22\n",
      "units_0: 311\n",
      "learning_rate: 0.0001\n",
      "Score: 0.9210455814997355\n",
      "Trial summary\n",
      "Hyperparameters:\n",
      "num_layers: 17\n",
      "units_0: 407\n",
      "learning_rate: 0.001\n",
      "Score: 1.0496629277865093\n",
      "Trial summary\n",
      "Hyperparameters:\n",
      "num_layers: 14\n",
      "units_0: 119\n",
      "learning_rate: 0.0001\n",
      "Score: 1.1782824993133545\n",
      "Trial summary\n",
      "Hyperparameters:\n",
      "num_layers: 20\n",
      "units_0: 215\n",
      "learning_rate: 0.0001\n",
      "Score: 1.730723222096761\n",
      "Epoch 1/50\n",
      "1/1 [==============================] - 1s 636ms/step - loss: 0.0969 - mean_absolute_error: 0.0969 - val_loss: 0.7758 - val_mean_absolute_error: 0.7758\n",
      "Epoch 2/50\n",
      "1/1 [==============================] - 0s 37ms/step - loss: 0.0548 - mean_absolute_error: 0.0548 - val_loss: 0.9514 - val_mean_absolute_error: 0.9514\n",
      "Epoch 3/50\n",
      "1/1 [==============================] - 0s 36ms/step - loss: 0.0542 - mean_absolute_error: 0.0542 - val_loss: 1.1185 - val_mean_absolute_error: 1.1185\n",
      "Epoch 4/50\n",
      "1/1 [==============================] - 0s 34ms/step - loss: 0.0832 - mean_absolute_error: 0.0832 - val_loss: 1.2912 - val_mean_absolute_error: 1.2912\n",
      "Epoch 5/50\n",
      "1/1 [==============================] - 0s 34ms/step - loss: 0.0998 - mean_absolute_error: 0.0998 - val_loss: 1.4048 - val_mean_absolute_error: 1.4048\n",
      "Epoch 6/50\n",
      "1/1 [==============================] - 0s 33ms/step - loss: 0.1056 - mean_absolute_error: 0.1056 - val_loss: 1.4562 - val_mean_absolute_error: 1.4562\n",
      "Epoch 7/50\n",
      "1/1 [==============================] - 0s 33ms/step - loss: 0.1017 - mean_absolute_error: 0.1017 - val_loss: 1.4507 - val_mean_absolute_error: 1.4507\n",
      "Epoch 8/50\n",
      "1/1 [==============================] - 0s 35ms/step - loss: 0.0894 - mean_absolute_error: 0.0894 - val_loss: 1.3966 - val_mean_absolute_error: 1.3966\n",
      "Epoch 9/50\n",
      "1/1 [==============================] - 0s 38ms/step - loss: 0.0697 - mean_absolute_error: 0.0697 - val_loss: 1.3035 - val_mean_absolute_error: 1.3035\n",
      "Epoch 10/50\n",
      "1/1 [==============================] - 0s 31ms/step - loss: 0.0492 - mean_absolute_error: 0.0492 - val_loss: 1.2111 - val_mean_absolute_error: 1.2111\n",
      "Epoch 11/50\n",
      "1/1 [==============================] - 0s 31ms/step - loss: 0.0363 - mean_absolute_error: 0.0363 - val_loss: 1.1215 - val_mean_absolute_error: 1.1215\n",
      "Epoch 12/50\n",
      "1/1 [==============================] - 0s 32ms/step - loss: 0.0422 - mean_absolute_error: 0.0422 - val_loss: 1.0761 - val_mean_absolute_error: 1.0761\n",
      "Epoch 13/50\n",
      "1/1 [==============================] - 0s 33ms/step - loss: 0.0521 - mean_absolute_error: 0.0521 - val_loss: 1.0620 - val_mean_absolute_error: 1.0620\n",
      "Epoch 14/50\n",
      "1/1 [==============================] - 0s 33ms/step - loss: 0.0570 - mean_absolute_error: 0.0570 - val_loss: 1.0628 - val_mean_absolute_error: 1.0628\n",
      "Epoch 15/50\n",
      "1/1 [==============================] - 0s 39ms/step - loss: 0.0580 - mean_absolute_error: 0.0580 - val_loss: 1.0775 - val_mean_absolute_error: 1.0775\n",
      "Epoch 16/50\n",
      "1/1 [==============================] - 0s 33ms/step - loss: 0.0517 - mean_absolute_error: 0.0517 - val_loss: 1.1053 - val_mean_absolute_error: 1.1053\n",
      "Epoch 17/50\n",
      "1/1 [==============================] - 0s 33ms/step - loss: 0.0388 - mean_absolute_error: 0.0388 - val_loss: 1.1535 - val_mean_absolute_error: 1.1535\n",
      "Epoch 18/50\n",
      "1/1 [==============================] - 0s 39ms/step - loss: 0.0228 - mean_absolute_error: 0.0228 - val_loss: 1.2490 - val_mean_absolute_error: 1.2490\n",
      "Epoch 19/50\n",
      "1/1 [==============================] - 0s 31ms/step - loss: 0.0179 - mean_absolute_error: 0.0179 - val_loss: 1.3334 - val_mean_absolute_error: 1.3334\n",
      "Epoch 20/50\n",
      "1/1 [==============================] - 0s 35ms/step - loss: 0.0249 - mean_absolute_error: 0.0249 - val_loss: 1.3617 - val_mean_absolute_error: 1.3617\n",
      "Epoch 21/50\n",
      "1/1 [==============================] - 0s 31ms/step - loss: 0.0332 - mean_absolute_error: 0.0332 - val_loss: 1.3342 - val_mean_absolute_error: 1.3342\n",
      "Epoch 22/50\n",
      "1/1 [==============================] - 0s 32ms/step - loss: 0.0341 - mean_absolute_error: 0.0341 - val_loss: 1.2853 - val_mean_absolute_error: 1.2853\n",
      "Epoch 23/50\n",
      "1/1 [==============================] - 0s 32ms/step - loss: 0.0289 - mean_absolute_error: 0.0289 - val_loss: 1.2206 - val_mean_absolute_error: 1.2206\n",
      "Epoch 24/50\n",
      "1/1 [==============================] - 0s 39ms/step - loss: 0.0238 - mean_absolute_error: 0.0238 - val_loss: 1.1790 - val_mean_absolute_error: 1.1790\n",
      "Epoch 25/50\n",
      "1/1 [==============================] - 0s 36ms/step - loss: 0.0237 - mean_absolute_error: 0.0237 - val_loss: 1.1755 - val_mean_absolute_error: 1.1755\n",
      "Epoch 26/50\n",
      "1/1 [==============================] - 0s 32ms/step - loss: 0.0226 - mean_absolute_error: 0.0226 - val_loss: 1.2040 - val_mean_absolute_error: 1.2040\n",
      "Epoch 27/50\n",
      "1/1 [==============================] - 0s 34ms/step - loss: 0.0173 - mean_absolute_error: 0.0173 - val_loss: 1.2617 - val_mean_absolute_error: 1.2617\n",
      "Epoch 28/50\n",
      "1/1 [==============================] - 0s 29ms/step - loss: 0.0143 - mean_absolute_error: 0.0143 - val_loss: 1.3426 - val_mean_absolute_error: 1.3426\n",
      "Epoch 29/50\n",
      "1/1 [==============================] - 0s 35ms/step - loss: 0.0149 - mean_absolute_error: 0.0149 - val_loss: 1.3793 - val_mean_absolute_error: 1.3793\n",
      "Epoch 30/50\n",
      "1/1 [==============================] - 0s 37ms/step - loss: 0.0174 - mean_absolute_error: 0.0174 - val_loss: 1.3621 - val_mean_absolute_error: 1.3621\n",
      "Epoch 31/50\n",
      "1/1 [==============================] - 0s 32ms/step - loss: 0.0162 - mean_absolute_error: 0.0162 - val_loss: 1.2993 - val_mean_absolute_error: 1.2993\n",
      "Epoch 32/50\n",
      "1/1 [==============================] - 0s 33ms/step - loss: 0.0149 - mean_absolute_error: 0.0149 - val_loss: 1.2503 - val_mean_absolute_error: 1.2503\n",
      "Epoch 33/50\n",
      "1/1 [==============================] - 0s 31ms/step - loss: 0.0125 - mean_absolute_error: 0.0125 - val_loss: 1.2109 - val_mean_absolute_error: 1.2109\n",
      "Epoch 34/50\n",
      "1/1 [==============================] - 0s 32ms/step - loss: 0.0097 - mean_absolute_error: 0.0097 - val_loss: 1.2042 - val_mean_absolute_error: 1.2042\n",
      "Epoch 35/50\n",
      "1/1 [==============================] - 0s 31ms/step - loss: 0.0075 - mean_absolute_error: 0.0075 - val_loss: 1.2232 - val_mean_absolute_error: 1.2232\n",
      "Epoch 36/50\n",
      "1/1 [==============================] - 0s 31ms/step - loss: 0.0135 - mean_absolute_error: 0.0135 - val_loss: 1.2157 - val_mean_absolute_error: 1.2157\n",
      "Epoch 37/50\n",
      "1/1 [==============================] - 0s 36ms/step - loss: 0.0128 - mean_absolute_error: 0.0128 - val_loss: 1.1836 - val_mean_absolute_error: 1.1836\n",
      "Epoch 38/50\n",
      "1/1 [==============================] - 0s 32ms/step - loss: 0.0058 - mean_absolute_error: 0.0058 - val_loss: 1.1789 - val_mean_absolute_error: 1.1789\n",
      "Epoch 39/50\n",
      "1/1 [==============================] - 0s 32ms/step - loss: 0.0063 - mean_absolute_error: 0.0063 - val_loss: 1.2481 - val_mean_absolute_error: 1.2481\n",
      "Epoch 40/50\n",
      "1/1 [==============================] - 0s 32ms/step - loss: 0.0050 - mean_absolute_error: 0.0050 - val_loss: 1.3302 - val_mean_absolute_error: 1.3302\n",
      "Epoch 41/50\n",
      "1/1 [==============================] - 0s 33ms/step - loss: 0.0163 - mean_absolute_error: 0.0163 - val_loss: 1.3266 - val_mean_absolute_error: 1.3266\n",
      "Epoch 42/50\n",
      "1/1 [==============================] - 0s 32ms/step - loss: 0.0144 - mean_absolute_error: 0.0144 - val_loss: 1.2478 - val_mean_absolute_error: 1.2478\n",
      "Epoch 43/50\n",
      "1/1 [==============================] - 0s 33ms/step - loss: 0.0090 - mean_absolute_error: 0.0090 - val_loss: 1.2040 - val_mean_absolute_error: 1.2040\n",
      "Epoch 44/50\n",
      "1/1 [==============================] - 0s 32ms/step - loss: 0.0095 - mean_absolute_error: 0.0095 - val_loss: 1.1900 - val_mean_absolute_error: 1.1900\n",
      "Epoch 45/50\n",
      "1/1 [==============================] - 0s 31ms/step - loss: 0.0079 - mean_absolute_error: 0.0079 - val_loss: 1.2126 - val_mean_absolute_error: 1.2126\n",
      "Epoch 46/50\n"
     ]
    },
    {
     "name": "stdout",
     "output_type": "stream",
     "text": [
      "1/1 [==============================] - 0s 38ms/step - loss: 0.0102 - mean_absolute_error: 0.0102 - val_loss: 1.2373 - val_mean_absolute_error: 1.2373\n",
      "Epoch 47/50\n",
      "1/1 [==============================] - 0s 32ms/step - loss: 0.0118 - mean_absolute_error: 0.0118 - val_loss: 1.2543 - val_mean_absolute_error: 1.2543\n",
      "Epoch 48/50\n",
      "1/1 [==============================] - 0s 35ms/step - loss: 0.0134 - mean_absolute_error: 0.0134 - val_loss: 1.2174 - val_mean_absolute_error: 1.2174\n",
      "Epoch 49/50\n",
      "1/1 [==============================] - 0s 30ms/step - loss: 0.0072 - mean_absolute_error: 0.0072 - val_loss: 1.1341 - val_mean_absolute_error: 1.1341\n",
      "Epoch 50/50\n",
      "1/1 [==============================] - 0s 32ms/step - loss: 0.0098 - mean_absolute_error: 0.0098 - val_loss: 1.1251 - val_mean_absolute_error: 1.1251\n"
     ]
    }
   ],
   "source": [
    "#Training & Keras Parameter Tuning\n",
    "\n",
    "temp_directory: str = './../temp/ANN-tuner/'\n",
    "\n",
    "\n",
    "# Define ANN model with Hyper parameter variable\n",
    "def build_model(hp):\n",
    "    model = keras.Sequential()\n",
    "    for i in range(hp.Int('num_layers', 2, 23)):\n",
    "        model.add(\n",
    "            layers.Dense(units=hp.Int('units_' + str(i),\n",
    "                                      min_value=23,\n",
    "                                      max_value=600,\n",
    "                                      step=32),\n",
    "                         activation='relu'))\n",
    "        model.add(layers.Dense(1, activation='linear'))\n",
    "        model.compile(optimizer=keras.optimizers.Adam(\n",
    "            hp.Choice('learning_rate', [1e-2, 1e-3, 1e-4])),\n",
    "                      loss='mean_absolute_error',\n",
    "                      metrics=['mean_absolute_error'])\n",
    "        return model\n",
    "\n",
    "\n",
    "if os.path.isdir(temp_directory):\n",
    "    try:\n",
    "        shutil.rmtree(temp_directory)\n",
    "    except OSError as exception:\n",
    "        print(f\"Error: {exception.filename} - {exception.strerror}.\")\n",
    "\n",
    "# create a directory to store each iteration of modelling\n",
    "tuner = RandomSearch(build_model,\n",
    "                     objective='val_mean_absolute_error',\n",
    "                     max_trials=5,\n",
    "                     executions_per_trial=3,\n",
    "                     directory=temp_directory,\n",
    "                     project_name='Milk production')\n",
    "\n",
    "# Defined parameter space to search in\n",
    "tuner.search_space_summary()\n",
    "\n",
    "# train trial models and compare with validation set\n",
    "tuner.search(xtrain_scale,\n",
    "             ytrain_scale,\n",
    "             epochs=50,\n",
    "             validation_data=(xtest_scale, ytest_scale))\n",
    "\n",
    "# print best 10 models according to val_mean_absolute_error\n",
    "print('\\n')\n",
    "tuner.results_summary()\n",
    "\n",
    "# get best model from training trials\n",
    "bestANNModel = tuner.get_best_models(num_models=1)[0]\n",
    "\n",
    "# fit best model to training scaled data and scaled test data\n",
    "bestANNModel.fit(xtrain_scale,\n",
    "                 ytrain_scale,\n",
    "                 epochs=50,\n",
    "                 validation_data=(xtest_scale, ytest_scale))\n",
    "#Clean up\n",
    "if os.path.isdir(temp_directory):\n",
    "    try:\n",
    "        shutil.rmtree(temp_directory)\n",
    "    except OSError as exception:\n",
    "        print(f\"Error: {exception.filename} - {exception.strerror}.\")"
   ]
  },
  {
   "cell_type": "markdown",
   "id": "7571c8b0",
   "metadata": {
    "ExecuteTime": {
     "end_time": "2022-01-28T08:39:39.920079Z",
     "start_time": "2022-01-28T08:39:39.911081Z"
    }
   },
   "source": [
    "##### Test and Score Model"
   ]
  },
  {
   "cell_type": "code",
   "execution_count": 23,
   "id": "1d7a7617",
   "metadata": {
    "ExecuteTime": {
     "end_time": "2022-01-28T22:36:49.616407Z",
     "start_time": "2022-01-28T22:36:49.321406Z"
    }
   },
   "outputs": [
    {
     "name": "stdout",
     "output_type": "stream",
     "text": [
      "predicted milk production values \n",
      " [[1460.6936]\n",
      " [1416.2872]\n",
      " [1423.9714]\n",
      " [1419.3169]\n",
      " [1479.3212]\n",
      " [1338.6945]\n",
      " [1366.9196]\n",
      " [1389.8002]\n",
      " [1458.1382]\n",
      " [1321.8748]\n",
      " [1261.327 ]\n",
      " [1322.0511]\n",
      " [1301.0972]\n",
      " [1177.6525]\n",
      " [1229.2344]\n",
      " [1150.2764]\n",
      " [1130.2648]\n",
      " [1196.225 ]\n",
      " [1098.541 ]\n",
      " [1529.9607]\n",
      " [1807.1439]\n",
      " [1950.9237]\n",
      " [1839.7607]\n",
      " [1769.7694]\n",
      " [2140.3806]]\n",
      "actual milk production values \n",
      " [[1536. ]\n",
      " [1414.5]\n",
      " [1431.2]\n",
      " [1408.8]\n",
      " [1447.1]\n",
      " [1566.1]\n",
      " [1413. ]\n",
      " [1431.3]\n",
      " [1417.8]\n",
      " [1342.1]\n",
      " [1332.5]\n",
      " [1667.5]\n",
      " [1628.1]\n",
      " [1106.5]\n",
      " [1541.9]\n",
      " [1834.8]\n",
      " [1629.8]\n",
      " [2073.4]\n",
      " [2093.1]\n",
      " [1881.1]\n",
      " [1790.8]\n",
      " [2594.1]\n",
      " [2556.7]\n",
      " [2608.6]\n",
      " [2752.7]]\n"
     ]
    }
   ],
   "source": [
    "# Predict Milk Production and un-scale back to original values\n",
    "\n",
    "y_predict = target_scaler.inverse_transform(\n",
    "    bestANNModel.predict(xtest_scale).reshape(-1, 1))\n",
    "\n",
    "print('predicted milk production values \\n', y_predict)\n",
    "print('actual milk production values \\n', Y_test)\n",
    "\n",
    "# Calculate Mean Absolute Error\n",
    "mae_score = mean_absolute_error(Y_test, y_predict)\n",
    "#print(MAE_xgb)"
   ]
  },
  {
   "cell_type": "markdown",
   "id": "c89cad3f",
   "metadata": {
    "ExecuteTime": {
     "end_time": "2022-01-28T08:38:45.856921Z",
     "start_time": "2022-01-28T08:38:45.819931Z"
    }
   },
   "source": [
    "##### Save Model Score"
   ]
  },
  {
   "cell_type": "code",
   "execution_count": 24,
   "id": "700e018e",
   "metadata": {
    "ExecuteTime": {
     "end_time": "2022-01-28T22:36:49.648408Z",
     "start_time": "2022-01-28T22:36:49.619409Z"
    }
   },
   "outputs": [
    {
     "data": {
      "text/html": [
       "<div>\n",
       "<style scoped>\n",
       "    .dataframe tbody tr th:only-of-type {\n",
       "        vertical-align: middle;\n",
       "    }\n",
       "\n",
       "    .dataframe tbody tr th {\n",
       "        vertical-align: top;\n",
       "    }\n",
       "\n",
       "    .dataframe thead th {\n",
       "        text-align: right;\n",
       "    }\n",
       "</style>\n",
       "<table border=\"1\" class=\"dataframe\">\n",
       "  <thead>\n",
       "    <tr style=\"text-align: right;\">\n",
       "      <th></th>\n",
       "      <th>Model</th>\n",
       "      <th>Mean Absolute Error Score(%)</th>\n",
       "    </tr>\n",
       "  </thead>\n",
       "  <tbody>\n",
       "    <tr>\n",
       "      <th>0</th>\n",
       "      <td>Random Forest Regressor</td>\n",
       "      <td>347.43159</td>\n",
       "    </tr>\n",
       "    <tr>\n",
       "      <th>1</th>\n",
       "      <td>XGBOOST</td>\n",
       "      <td>373.67662</td>\n",
       "    </tr>\n",
       "    <tr>\n",
       "      <th>2</th>\n",
       "      <td>ANN</td>\n",
       "      <td>314.58375</td>\n",
       "    </tr>\n",
       "  </tbody>\n",
       "</table>\n",
       "</div>"
      ],
      "text/plain": [
       "                     Model  Mean Absolute Error Score(%)\n",
       "0  Random Forest Regressor                     347.43159\n",
       "1                  XGBOOST                     373.67662\n",
       "2                      ANN                     314.58375"
      ]
     },
     "execution_count": 24,
     "metadata": {},
     "output_type": "execute_result"
    }
   ],
   "source": [
    "model_scores_dataframe.loc[len(model_scores_dataframe)] = ['ANN', mae_score]\n",
    "model_scores_dataframe.head()"
   ]
  },
  {
   "cell_type": "markdown",
   "id": "fe7a8b36",
   "metadata": {},
   "source": [
    "### Save Artifacts"
   ]
  },
  {
   "cell_type": "markdown",
   "id": "775ccd8f",
   "metadata": {},
   "source": [
    "Save trained model into binary pickle file to use the model later with new input data from web app"
   ]
  },
  {
   "cell_type": "markdown",
   "id": "235b8c3c",
   "metadata": {},
   "source": [
    "#### Save Models"
   ]
  },
  {
   "cell_type": "code",
   "execution_count": 25,
   "id": "ac5ad16b",
   "metadata": {
    "ExecuteTime": {
     "end_time": "2022-01-28T22:36:49.727409Z",
     "start_time": "2022-01-28T22:36:49.652410Z"
    }
   },
   "outputs": [],
   "source": [
    "filename: str = 'milk-ann-model.h5'\n",
    "ann_filepath: str = f'{directory}{filename}'\n",
    "bestANNModel.save(ann_filepath, save_format='h5')"
   ]
  },
  {
   "cell_type": "markdown",
   "id": "e65dd81a",
   "metadata": {
    "ExecuteTime": {
     "end_time": "2022-01-28T08:11:28.329156Z",
     "start_time": "2022-01-28T08:11:28.319156Z"
    }
   },
   "source": [
    "```py\n",
    "# fit and transform in one line\n",
    "scaler_x.fit_transform(X_train)\n",
    "# remeber to inverse the scaling on model output\n",
    "scaler_x.inverse_transform(xtest_scale)\n",
    "\n",
    "# Read pickle file into variable to use scaler\n",
    "scaler_x_pkl_ann = pickle.load(open(f'{directory}feature-scaler.pickle', 'rb'))\n",
    "\n",
    "with open(target_scaler_filepath, READ_BINARY) as file:\n",
    "    pickle.dump(scaler_y, file)\n",
    "# Read pickle file into variable to use scaler\n",
    "\n",
    "with open(target_scaler_filepath, READ_BINARY) as file:\n",
    "    target_scaler = pickle.load(file)\n",
    "\n",
    "print(type(target_scaler))\n",
    "\n",
    "with open(ann_filepath, WRITE_BINARY) as file:\n",
    "    pickle.dump(bestANNModel, file)\n",
    "    \n",
    "pickle.dump(bestANNModel, open(f'{directory}pkl_ann_milk', 'wb'))\n",
    "\n",
    "# Read pickle file into variable to use model\n",
    "model_pkl_ann = pickle.load(open(f'{directory}pkl_ann_milk', 'rb'))\n",
    "\n",
    "## Example using pickle file with saved ANN model\n",
    "\n",
    "# take input from source as array\n",
    "data_input_from_webapp = np.array([357.3, 362.5, 172., 1440.2, 2136.5])\n",
    "\n",
    "# scale input with same scaler as used in model\n",
    "scale_data_from_webapp = scaler_x.transform(\n",
    "    data_input_from_webapp.reshape(1, -1))\n",
    "\n",
    "# predict scaled value\n",
    "scaled_prediction = bestANNModel.predict(scale_data_from_webapp)\n",
    "\n",
    "# descale prediction back to normal value\n",
    "prediction = scaler_y.inverse_transform(scaled_prediction)\n",
    "print('\\n Expected Milk Production is ', prediction[0][0])\n",
    "```"
   ]
  },
  {
   "cell_type": "markdown",
   "id": "e7a28184",
   "metadata": {},
   "source": [
    "#### Fill missing values"
   ]
  },
  {
   "cell_type": "markdown",
   "id": "f96b87bc",
   "metadata": {
    "ExecuteTime": {
     "end_time": "2022-01-28T16:35:09.134305Z",
     "start_time": "2022-01-28T16:35:09.125306Z"
    }
   },
   "source": [
    "```py\n",
    "imp_mean = SimpleImputer(missing_values=np.nan, strategy='mean')\n",
    "feature_values = imp_mean.fit_transform(feature_values)\n",
    "target_values = imp_mean.fit_transform(target_values)\n",
    "```"
   ]
  }
 ],
 "metadata": {
  "kernelspec": {
   "display_name": "Python 3 (ipykernel)",
   "language": "python",
   "name": "python3"
  },
  "language_info": {
   "codemirror_mode": {
    "name": "ipython",
    "version": 3
   },
   "file_extension": ".py",
   "mimetype": "text/x-python",
   "name": "python",
   "nbconvert_exporter": "python",
   "pygments_lexer": "ipython3",
   "version": "3.8.12"
  },
  "toc": {
   "base_numbering": 1,
   "nav_menu": {},
   "number_sections": false,
   "sideBar": true,
   "skip_h1_title": false,
   "title_cell": "Table of Contents",
   "title_sidebar": "Contents",
   "toc_cell": false,
   "toc_position": {
    "height": "calc(100% - 180px)",
    "left": "10px",
    "top": "150px",
    "width": "375px"
   },
   "toc_section_display": true,
   "toc_window_display": true
  }
 },
 "nbformat": 4,
 "nbformat_minor": 5
}
