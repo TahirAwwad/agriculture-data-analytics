{
 "cells": [
  {
   "cell_type": "markdown",
   "id": "12a36702",
   "metadata": {},
   "source": [
    "<!--\n",
    "import data_analytics.github as github\n",
    "print(github.create_jupyter_notebook_header(\"markcrowe-com\", \"agriculture-data-analytics\", \"notebooks/notebook-3-03-ml-milk-production.ipynb\", \"master\"))\n",
    "-->\n",
    "<table style=\"margin: auto;\"><tr><td><a href=\"https://mybinder.org/v2/gh/markcrowe-com/agriculture-data-analytics/master?filepath=notebooks/notebook-3-03-ml-milk-production.ipynb\" target=\"_parent\"><img src=\"https://mybinder.org/badge_logo.svg\" alt=\"Open In Binder\"/></a></td><td>online editors</td><td><a href=\"https://colab.research.google.com/github/markcrowe-com/agriculture-data-analytics/blob/master/notebooks/notebook-3-03-ml-milk-production.ipynb\" target=\"_parent\"><img src=\"https://colab.research.google.com/assets/colab-badge.svg\" alt=\"Open In Colab\"/></a></td></tr></table>"
   ]
  },
  {
   "cell_type": "markdown",
   "id": "92ac96b5",
   "metadata": {},
   "source": [
    "# Objective\n",
    "       Create the best machine learning model to predict Milk production value in Ireland\n",
    "       according to the historical data from Central Statistics office CSO.\n",
    "       AEA01 Value at Current Prices for Output, Input and Income in Agriculture\n",
    "       Downloaded https://data.cso.ie/table/AEA01"
   ]
  },
  {
   "cell_type": "markdown",
   "id": "9256b0a4",
   "metadata": {},
   "source": [
    "# Contents\n",
    "    - Read data from Assets folder\n",
    "    - Split to training / testing sets\n",
    "    - Scale each set seperatly\n",
    "    - Run Models\n",
    "        - Define Hyper parameter tuning Cross Validation Grid or Random Search\n",
    "        - Random Forest Regressor\n",
    "        - XGBOOST Regressor\n",
    "        - ANN\n",
    "    - Save best model into Pickle file\n",
    "    - Next step: Deploy selected model on a Streamlit webapp"
   ]
  },
  {
   "cell_type": "markdown",
   "id": "55902df1",
   "metadata": {},
   "source": [
    "### Setup"
   ]
  },
  {
   "cell_type": "markdown",
   "id": "c1d65b56",
   "metadata": {},
   "source": [
    "Import required third party Python libraries, import supporting functions and sets up data source file paths."
   ]
  },
  {
   "cell_type": "code",
   "execution_count": 1,
   "id": "2782cd5a",
   "metadata": {},
   "outputs": [
    {
     "name": "stderr",
     "output_type": "stream",
     "text": [
      "/Users/admin/opt/anaconda3/lib/python3.8/site-packages/xgboost/compat.py:36: FutureWarning: pandas.Int64Index is deprecated and will be removed from pandas in a future version. Use pandas.Index with the appropriate dtype instead.\n",
      "  from pandas import MultiIndex, Int64Index\n"
     ]
    }
   ],
   "source": [
    "\n",
    "import pandas as pd\n",
    "import numpy as np\n",
    "from sklearn.model_selection import train_test_split\n",
    "from sklearn.impute import SimpleImputer\n",
    "from sklearn.preprocessing import MinMaxScaler\n",
    "from sklearn.model_selection import GridSearchCV\n",
    "from sklearn.ensemble import RandomForestRegressor\n",
    "from sklearn.metrics import mean_absolute_error, mean_squared_error\n",
    "from xgboost import XGBRegressor\n",
    "import tensorflow as tf\n",
    "from tensorflow import keras\n",
    "from tensorflow.keras import layers\n",
    "from keras_tuner.tuners import RandomSearch\n",
    "import pickle\n",
    "\n"
   ]
  },
  {
   "cell_type": "markdown",
   "id": "39543089",
   "metadata": {},
   "source": [
    "### Load dataframe"
   ]
  },
  {
   "cell_type": "code",
   "execution_count": 2,
   "id": "99092f99",
   "metadata": {},
   "outputs": [
    {
     "name": "stdout",
     "output_type": "stream",
     "text": [
      "data dimensions \n",
      " (32, 57)\n",
      "\n",
      "\n",
      "Data sample\n",
      "     Unnamed: 0  Year          UNIT  Agricultural Output at Basic Prices  \\\n",
      "17          17  2007  Euro Million                               5975.4   \n",
      "4            4  1994  Euro Million                               5781.5   \n",
      "25          25  2015  Euro Million                               7404.2   \n",
      "3            3  1993  Euro Million                               5625.9   \n",
      "16          16  2006  Euro Million                               5466.7   \n",
      "\n",
      "    All Cereals  All Crops  All Livestock  All Livestock Products  \\\n",
      "17        241.8     1632.7         2378.7                  1716.1   \n",
      "4         127.3     1157.0         2319.3                  1487.6   \n",
      "25        262.7     1737.3         3452.5                  1949.4   \n",
      "3         165.7     1101.7         2449.6                  1476.7   \n",
      "16        159.7     1461.3         2386.8                  1380.2   \n",
      "\n",
      "    All Livestock Products - Milk  \\\n",
      "17                         1667.5   \n",
      "4                          1446.2   \n",
      "25                         1881.1   \n",
      "3                          1439.0   \n",
      "16                         1332.5   \n",
      "\n",
      "    All Livestock Products Other Products (excluding Milk)  ...  \\\n",
      "17                                               48.6       ...   \n",
      "4                                                41.4       ...   \n",
      "25                                               68.3       ...   \n",
      "3                                                37.7       ...   \n",
      "16                                               47.7       ...   \n",
      "\n",
      "    Livestock - Horses  Livestock - Pig  Livestock - Poultry  \\\n",
      "17               269.3            288.6                133.0   \n",
      "4                 75.9            264.5                134.6   \n",
      "25               247.3            456.3                142.2   \n",
      "3                 84.5            257.9                116.0   \n",
      "16               263.5            321.5                114.3   \n",
      "\n",
      "    Livestock - Sheep  Net Value Added at Basic Prices  Operating Surplus  \\\n",
      "17              184.5                           1045.8             2442.0   \n",
      "4               230.2                           2513.7             2278.5   \n",
      "25              245.2                           1666.3             2587.2   \n",
      "3               232.4                           2560.6             2247.9   \n",
      "16              193.1                            784.0             2185.6   \n",
      "\n",
      "    Other Subsidies Less Taxes on Production  \\\n",
      "17                                    1844.9   \n",
      "4                                      110.0   \n",
      "25                                    1409.9   \n",
      "3                                       26.3   \n",
      "16                                    1826.9   \n",
      "\n",
      "    Subsidies less Taxes on Products  Subsidies on Products  Taxes on Products  \n",
      "17                             -40.4                    0.7               41.1  \n",
      "4                              612.3                  666.0               53.7  \n",
      "25                             -82.9                   43.2              126.2  \n",
      "3                              398.4                  466.4               68.0  \n",
      "16                             -33.1                    3.8               36.8  \n",
      "\n",
      "[5 rows x 57 columns]\n"
     ]
    }
   ],
   "source": [
    "df = pd.read_csv(\"./../artifacts/TA_inputoutputvalue_1990_2021_CSO.csv\")\n",
    "print(\"data dimensions \\n\",df.shape)\n",
    "print()\n",
    "#print(\"data column info \\n\",df.info)\n",
    "print()\n",
    "print('Data sample\\n',df.sample(5))\n"
   ]
  },
  {
   "cell_type": "markdown",
   "id": "43dce267",
   "metadata": {},
   "source": [
    "## Production of Milk"
   ]
  },
  {
   "cell_type": "code",
   "execution_count": 3,
   "id": "a096f328",
   "metadata": {},
   "outputs": [
    {
     "name": "stdout",
     "output_type": "stream",
     "text": [
      "Milk production dataset dimenssions \n",
      " (32, 7)\n",
      "Milk production dataset Sample \n",
      "       All Livestock Products - Milk  Taxes on Products  Subsidies on Products  \\\n",
      "Year                                                                            \n",
      "1990                         1316.3               75.0                  408.9   \n",
      "1991                         1258.9               78.2                  357.3   \n",
      "1992                         1373.1               79.5                  446.0   \n",
      "1993                         1439.0               68.0                  466.4   \n",
      "1994                         1446.2               53.7                  666.0   \n",
      "\n",
      "      Compensation of Employees  Contract Work  Entrepreneurial Income  \\\n",
      "Year                                                                     \n",
      "1990                      377.6          180.7                  1577.2   \n",
      "1991                      362.5          172.0                  1440.2   \n",
      "1992                      336.8          179.8                  1842.6   \n",
      "1993                      339.0          199.5                  1985.6   \n",
      "1994                      345.2          205.3                  2051.7   \n",
      "\n",
      "      Factor Income  \n",
      "Year                 \n",
      "1990         2321.1  \n",
      "1991         2136.5  \n",
      "1992         2516.2  \n",
      "1993         2586.9  \n",
      "1994         2623.7  \n"
     ]
    }
   ],
   "source": [
    "## Extract milk production dataset\n",
    "# drop redundunt columns\n",
    "df = df.drop('Unnamed: 0',axis = 1)\n",
    "\n",
    "# extract milk dataset\n",
    "df_milk = df[['Year',\n",
    "#              'UNIT',\n",
    "              'All Livestock Products - Milk',\n",
    "              'Taxes on Products',\n",
    "              'Subsidies on Products',\n",
    "              'Compensation of Employees',\n",
    "              'Contract Work',\n",
    "              'Entrepreneurial Income',\n",
    "              'Factor Income',\n",
    "              #'Fixed Capital Consumption - Farm Buildings',\n",
    "              #'Fixed Capital Consumption - Machinery, Equipment, etc',\n",
    "              #'Interest less FISIM',\n",
    "              #'Operating Surplus',\n",
    "              #'Livestock - Cattle',\n",
    "              #'Livestock - Sheep',\n",
    "              #'Land Rental',\n",
    "              #'Intermediate Consumption - Contract Work',\n",
    "              #'Intermediate Consumption - Crop Protection Products',\n",
    "              #'Intermediate Consumption - Energy and Lubricants',\n",
    "              #'Intermediate Consumption - Feeding Stuffs',\n",
    "              #'Intermediate Consumption - Fertilisers',\n",
    "              #'Intermediate Consumption - Financial Intermediation Services Indirect',\n",
    "              #'Intermediate Consumption - Forage Plants',\n",
    "              #'Intermediate Consumption - Maintenance and Repairs',\n",
    "              #'Intermediate Consumption - Seeds',\n",
    "              #'Intermediate Consumption - Services',\n",
    "              #'Intermediate Consumption - Veterinary Expenses',\n",
    "              #'Intermediate Consumption - Other Goods (Detergents, Small Tools, etc)',\n",
    "              #'Intermediate Consumption - Other Goods and Services'\n",
    "              \n",
    "             ]]\n",
    "# Assign year as index\n",
    "df_milk.set_index('Year',drop=True,inplace=True)\n",
    "\n",
    "print(\"Milk production dataset dimenssions \\n\", df_milk.shape)\n",
    "print(\"Milk production dataset Sample \\n\", df_milk.head())\n"
   ]
  },
  {
   "cell_type": "code",
   "execution_count": 4,
   "id": "3a418fbd",
   "metadata": {
    "scrolled": false
   },
   "outputs": [],
   "source": [
    "#eda_reports.print_dataframe_analysis_report(df_milk)\n"
   ]
  },
  {
   "cell_type": "markdown",
   "id": "b05b59fc",
   "metadata": {},
   "source": [
    "### Define 20% Training set 80% Test set"
   ]
  },
  {
   "cell_type": "code",
   "execution_count": 5,
   "id": "5a3fb066",
   "metadata": {},
   "outputs": [
    {
     "name": "stdout",
     "output_type": "stream",
     "text": [
      "features dimension  (32, 5)\n",
      "target dimension  (32, 1)\n",
      "\n",
      "x_train dimension  (25, 5)\n",
      "y_train dimension  (25, 1)\n",
      "\n",
      "x_test dimension  (7, 5)\n",
      "y_test dimension  (7, 1)\n"
     ]
    }
   ],
   "source": [
    "# define target & feature variables\n",
    "\n",
    "X = df_milk.iloc[:,2:].values\n",
    "Y = df_milk.iloc[:,1].values.reshape(-1,1)\n",
    "print('features dimension ',np.shape(X))\n",
    "print('target dimension ',np.shape(Y))\n",
    "\n",
    "# impute mean value for NA's\n",
    "#from sklearn.impute import SimpleImputer\n",
    "imp_mean = SimpleImputer(missing_values=np.nan, strategy='mean')\n",
    "X = imp_mean.fit_transform(X)\n",
    "Y = imp_mean.fit_transform(Y)\n",
    "\n",
    "\n",
    "# split train test split 20\n",
    "X_train, X_test,Y_train,Y_test = train_test_split(X,Y,test_size=0.2,random_state=2021)\n",
    "print()\n",
    "print('x_train dimension ', X_train.shape)\n",
    "print('y_train dimension ', Y_train.shape)\n",
    "print()\n",
    "print('x_test dimension ', X_test.shape)\n",
    "print('y_test dimension ', Y_test.shape)"
   ]
  },
  {
   "cell_type": "markdown",
   "id": "77c420bb",
   "metadata": {},
   "source": [
    "### Scale & Transform"
   ]
  },
  {
   "cell_type": "code",
   "execution_count": 6,
   "id": "1d8a1eda",
   "metadata": {},
   "outputs": [
    {
     "name": "stdout",
     "output_type": "stream",
     "text": [
      "Empty DataFrame\n",
      "Columns: []\n",
      "Index: []\n"
     ]
    }
   ],
   "source": [
    "# Scale raining set and test set seperatly\n",
    "scaler_x = MinMaxScaler()\n",
    "scaler_y = MinMaxScaler()\n",
    "\n",
    "# calculate mean and std of training set \n",
    "scaler_x.fit(X_train)\n",
    "scaler_y.fit(Y_train)\n",
    "scaler_x.fit(X_test)\n",
    "scaler_y.fit(Y_test)\n",
    "\n",
    "# apply scaler to data set\n",
    "xtrain_scale = scaler_x.transform(X_train)\n",
    "ytrain_scale = scaler_y.transform(Y_train)\n",
    "\n",
    "xtest_scale = scaler_x.transform(X_test)\n",
    "ytest_scale = scaler_y.transform(Y_test)\n",
    "\n",
    "# fit and transform in one line\n",
    "# scaler_x.fit_transform(X_train)\n",
    "\n",
    "# remeber to inverse the scaling on model output\n",
    "# scaler_x.inverse_transform(xtest_scale)\n",
    "\n",
    "# create a score dataframe to store model scores\n",
    "df_score = pd.DataFrame()\n",
    "print(df_score)"
   ]
  },
  {
   "cell_type": "markdown",
   "id": "40f58f53",
   "metadata": {},
   "source": [
    "### Model 1 RandomForest Regressor"
   ]
  },
  {
   "cell_type": "markdown",
   "id": "664558ee",
   "metadata": {},
   "source": [
    "#### Train RandomForest"
   ]
  },
  {
   "cell_type": "code",
   "execution_count": 7,
   "id": "fbe9bbff",
   "metadata": {},
   "outputs": [
    {
     "name": "stderr",
     "output_type": "stream",
     "text": [
      "/Users/admin/opt/anaconda3/lib/python3.8/site-packages/sklearn/model_selection/_search.py:918: UserWarning: One or more of the test scores are non-finite: [        nan         nan         nan         nan         nan         nan\n",
      "         nan         nan         nan         nan         nan         nan\n",
      "         nan         nan         nan         nan         nan         nan\n",
      " -1.0450721  -0.83367277 -0.87099947 -0.98844763 -0.70448105 -0.74458122\n",
      " -0.98844763 -0.70448105 -0.74458122         nan         nan         nan\n",
      "         nan         nan         nan         nan         nan         nan\n",
      "         nan         nan         nan         nan         nan         nan\n",
      "         nan         nan         nan -2.47023146 -2.64529758 -2.66275398\n",
      " -1.73231204 -1.78993888 -1.8049122  -1.73231204 -1.78993888 -1.8049122 ]\n",
      "  warnings.warn(\n"
     ]
    },
    {
     "name": "stdout",
     "output_type": "stream",
     "text": [
      "Best training model  RandomForestRegressor(criterion='poisson', max_features='sqrt',\n",
      "                      n_estimators=500, random_state=2021)\n",
      "Best training model score, coefficient of determination R squared -0.7044810495463668\n"
     ]
    }
   ],
   "source": [
    "# define Random Forest Regressor\n",
    "rf_regressor_milk = RandomForestRegressor(random_state=2021)\n",
    "\n",
    "# define list of Parameters\n",
    "params_rf_milk = {'n_estimators':[100,500,800],\n",
    "                  'criterion':['squared_error', 'absolute_error', 'poisson'],\n",
    "                  'max_features':[\"auto\", \"sqrt\", \"log2\"],\n",
    "                  \"bootstrap\": [True, False]\n",
    "                   }\n",
    "\n",
    "# Hyper parameter tuning via Grid Search Cross Validation \n",
    "grid_rf_milk = GridSearchCV(estimator= rf_regressor_milk,\n",
    "                          param_grid= params_rf_milk,\n",
    "                          n_jobs=-1,\n",
    "                          cv=5\n",
    "                     )\n",
    "\n",
    "# Fit the grid to scaled data\n",
    "grid_rf_milk.fit(xtrain_scale,ytrain_scale.reshape(-1))\n",
    "\n",
    "# print best training model & R squared score\n",
    "print('Best training model ',grid_rf_milk.best_estimator_)\n",
    "print('Best training model score, coefficient of determination R squared', grid_rf_milk.best_score_)"
   ]
  },
  {
   "cell_type": "markdown",
   "id": "446c6f92",
   "metadata": {},
   "source": [
    "#### Predict RandomForest"
   ]
  },
  {
   "cell_type": "code",
   "execution_count": 8,
   "id": "57ce9131",
   "metadata": {},
   "outputs": [
    {
     "name": "stdout",
     "output_type": "stream",
     "text": [
      "predicted milk production values \n",
      " [[46.885     ]\n",
      " [57.914     ]\n",
      " [40.0168    ]\n",
      " [58.0234    ]\n",
      " [43.8076    ]\n",
      " [43.3742    ]\n",
      " [59.48263226]]\n",
      "actual milk production values \n",
      " [[36.8]\n",
      " [39.3]\n",
      " [25. ]\n",
      " [53.7]\n",
      " [27.9]\n",
      " [39.4]\n",
      " [49.5]]\n",
      "                Model  Score MAE\n",
      "Model 1  RandomForest   11.12909\n"
     ]
    }
   ],
   "source": [
    "# Predict Milk Production and unscale back to original values\n",
    "y_predict = scaler_y.inverse_transform(grid_rf_milk.predict(xtest_scale).reshape(-1, 1))\n",
    "\n",
    "print('predicted milk production values \\n',y_predict)\n",
    "print('actual milk production values \\n',Y_test)\n",
    "\n",
    "# Calculate Mean Absolute Error\n",
    "MAE_rf = mean_absolute_error(Y_test,y_predict)\n",
    "#print(MAE_rf)\n",
    "\n",
    "# add model score to Score Dataframe\n",
    "df_score = pd.DataFrame(data={'Model':'RandomForest',\n",
    "                           'Score MAE':MAE_rf},index=['Model 1'])\n",
    "\n",
    "print(df_score)"
   ]
  },
  {
   "cell_type": "markdown",
   "id": "b4aab677",
   "metadata": {},
   "source": [
    "### Model 2 XGBOOST Regressor"
   ]
  },
  {
   "cell_type": "markdown",
   "id": "7c6eb8ab",
   "metadata": {},
   "source": [
    "#### Train XGBOOST"
   ]
  },
  {
   "cell_type": "code",
   "execution_count": 9,
   "id": "119a7167",
   "metadata": {},
   "outputs": [
    {
     "name": "stdout",
     "output_type": "stream",
     "text": [
      "Fitting 5 folds for each of 144 candidates, totalling 720 fits\n",
      "Best training model  XGBRegressor(base_score=0.5, booster='gbtree', colsample_bylevel=1,\n",
      "             colsample_bynode=1, colsample_bytree=1, enable_categorical=False,\n",
      "             gamma=0.1, gpu_id=-1, importance_type=None,\n",
      "             interaction_constraints='', learning_rate=0.01, max_delta_step=0,\n",
      "             max_depth=6, min_child_weight=1, missing=nan,\n",
      "             monotone_constraints='()', n_estimators=160, n_jobs=4,\n",
      "             num_parallel_tree=1, predictor='auto', random_state=2021,\n",
      "             reg_alpha=0, reg_lambda=1, scale_pos_weight=1, subsample=1,\n",
      "             tree_method='exact', validate_parameters=1, verbosity=None)\n",
      "Best model Parameters {'gamma': 0.1, 'learning_rate': 0.01, 'max_depth': 6, 'n_estimators': 160}\n",
      "Best training model score, coefficient of determination R squared -0.15271282786267798\n"
     ]
    }
   ],
   "source": [
    "# define XGBRegressor\n",
    "xgb_regressor_milk = XGBRegressor(random_state=2021)\n",
    "\n",
    "# define parameters space to loop over\n",
    "params_xgb_milk = {'n_estimators':[20,40,80,160,340,500],\n",
    "             'max_depth':[3,6,9],\n",
    "             'gamma':[0.01,0.1],\n",
    "             'learning_rate':[0.001,0.01,0.1,1]\n",
    "             }\n",
    "\n",
    "# Hyper parameter tuning via Grid Search Cross Validation \n",
    "grid_xgb_milk = GridSearchCV(estimator=xgb_regressor_milk,\n",
    "                     param_grid=params_xgb_milk,\n",
    "                     #n_jobs=-1,\n",
    "                     scoring=['r2','neg_root_mean_squared_error'],\n",
    "                     refit= 'r2',\n",
    "                     n_jobs=-1,\n",
    "                     cv=5,\n",
    "                     verbose=4\n",
    "                     )\n",
    "\n",
    "# fit grid to training scaled set\n",
    "grid_xgb_milk.fit(xtrain_scale,ytrain_scale);\n",
    "\n",
    "\n",
    "# print best training model & R squared score\n",
    "print('Best training model ',grid_xgb_milk.best_estimator_)\n",
    "print('Best model Parameters',grid_xgb_milk.best_params_)\n",
    "print('Best training model score, coefficient of determination R squared', grid_xgb_milk.best_score_)"
   ]
  },
  {
   "cell_type": "markdown",
   "id": "6d49ff37",
   "metadata": {},
   "source": [
    "#### Predict XGBOOST"
   ]
  },
  {
   "cell_type": "code",
   "execution_count": 10,
   "id": "fd170cd6",
   "metadata": {},
   "outputs": [
    {
     "name": "stdout",
     "output_type": "stream",
     "text": [
      "predicted milk production values \n",
      " [[45.5861  ]\n",
      " [45.99256 ]\n",
      " [50.727455]\n",
      " [59.506348]\n",
      " [50.727455]\n",
      " [35.886517]\n",
      " [48.685654]]\n",
      "actual milk production values \n",
      " [[36.8]\n",
      " [39.3]\n",
      " [25. ]\n",
      " [53.7]\n",
      " [27.9]\n",
      " [39.4]\n",
      " [49.5]]\n",
      "                Model  Score MAE\n",
      "Model 1  RandomForest  11.129090\n",
      "Model 2       XGBOOST  10.595393\n"
     ]
    }
   ],
   "source": [
    "# Predict Milk Production and unscale back to original values\n",
    "y_predict = scaler_y.inverse_transform(grid_xgb_milk.predict(xtest_scale).reshape(-1, 1))\n",
    "\n",
    "print('predicted milk production values \\n',y_predict)\n",
    "print('actual milk production values \\n',Y_test)\n",
    "\n",
    "# Calculate Mean Absolute Error\n",
    "MAE_xgb = mean_absolute_error(Y_test,y_predict)\n",
    "#print(MAE_xgb)\n",
    "\n",
    "# add model score to Score Dataframe\n",
    "df_score = pd.DataFrame(data = {'Model':['RandomForest','XGBOOST'],\n",
    "                                'Score MAE': [MAE_rf,MAE_xgb]},\n",
    "                        index=['Model 1','Model 2'])\n",
    "\n",
    "print(df_score)"
   ]
  },
  {
   "cell_type": "code",
   "execution_count": null,
   "id": "6537541a",
   "metadata": {},
   "outputs": [],
   "source": [
    "# write the Grid Search results to csv to choose best model with least resource consumption\n",
    "\n",
    "#GS_xgb_df_milk = pd.DataFrame(GS_xgb_milk.cv_results_)\n",
    "#GS_xgb_df_milk = GS_xgb_df_milk.sort_values('rank_test_r2')\n",
    "#GS_xgb_df_milk.to_csv('./../artifacts/grid-search-xgb-milk-results.csv')"
   ]
  },
  {
   "cell_type": "markdown",
   "id": "a1eb8eb9",
   "metadata": {},
   "source": [
    "## ANN Artificial Neural Network"
   ]
  },
  {
   "cell_type": "markdown",
   "id": "d01711cf",
   "metadata": {},
   "source": [
    "#### Training & Keras Parameter Tuning"
   ]
  },
  {
   "cell_type": "code",
   "execution_count": 11,
   "id": "6199a6b5",
   "metadata": {},
   "outputs": [
    {
     "name": "stdout",
     "output_type": "stream",
     "text": [
      "Trial 5 Complete [00h 00m 31s]\n",
      "val_mean_absolute_error: 0.23855210343996683\n",
      "\n",
      "Best val_mean_absolute_error So Far: 0.2281686911980311\n",
      "Total elapsed time: 00h 02m 26s\n",
      "INFO:tensorflow:Oracle triggered exit\n",
      "\n",
      "\n",
      "Results summary\n",
      "Results in ./../temp/ANN-tuner/Milk production\n",
      "Showing 10 best trials\n",
      "Objective(name='val_mean_absolute_error', direction='min')\n",
      "Trial summary\n",
      "Hyperparameters:\n",
      "num_layers: 6\n",
      "units_0: 343\n",
      "learning_rate: 0.01\n",
      "Score: 0.2281686911980311\n",
      "Trial summary\n",
      "Hyperparameters:\n",
      "num_layers: 4\n",
      "units_0: 439\n",
      "learning_rate: 0.001\n",
      "Score: 0.23235826194286346\n",
      "Trial summary\n",
      "Hyperparameters:\n",
      "num_layers: 20\n",
      "units_0: 183\n",
      "learning_rate: 0.001\n",
      "Score: 0.23855210343996683\n",
      "Trial summary\n",
      "Hyperparameters:\n",
      "num_layers: 3\n",
      "units_0: 375\n",
      "learning_rate: 0.0001\n",
      "Score: 0.33253511786460876\n",
      "Trial summary\n",
      "Hyperparameters:\n",
      "num_layers: 21\n",
      "units_0: 183\n",
      "learning_rate: 0.0001\n",
      "Score: 0.3743901749451955\n",
      "Epoch 1/50\n",
      "1/1 [==============================] - 1s 801ms/step - loss: 0.2543 - mean_absolute_error: 0.2543 - val_loss: 0.2198 - val_mean_absolute_error: 0.2198\n",
      "Epoch 2/50\n",
      "1/1 [==============================] - 0s 89ms/step - loss: 0.2490 - mean_absolute_error: 0.2490 - val_loss: 0.2580 - val_mean_absolute_error: 0.2580\n",
      "Epoch 3/50\n",
      "1/1 [==============================] - 0s 205ms/step - loss: 0.2488 - mean_absolute_error: 0.2488 - val_loss: 0.2980 - val_mean_absolute_error: 0.2980\n",
      "Epoch 4/50\n",
      "1/1 [==============================] - 0s 165ms/step - loss: 0.2440 - mean_absolute_error: 0.2440 - val_loss: 0.3267 - val_mean_absolute_error: 0.3267\n",
      "Epoch 5/50\n",
      "1/1 [==============================] - 0s 177ms/step - loss: 0.2399 - mean_absolute_error: 0.2399 - val_loss: 0.2876 - val_mean_absolute_error: 0.2876\n",
      "Epoch 6/50\n",
      "1/1 [==============================] - 0s 180ms/step - loss: 0.2331 - mean_absolute_error: 0.2331 - val_loss: 0.2808 - val_mean_absolute_error: 0.2808\n",
      "Epoch 7/50\n",
      "1/1 [==============================] - 0s 102ms/step - loss: 0.2371 - mean_absolute_error: 0.2371 - val_loss: 0.2893 - val_mean_absolute_error: 0.2893\n",
      "Epoch 8/50\n",
      "1/1 [==============================] - 0s 112ms/step - loss: 0.2354 - mean_absolute_error: 0.2354 - val_loss: 0.3387 - val_mean_absolute_error: 0.3387\n",
      "Epoch 9/50\n",
      "1/1 [==============================] - 0s 205ms/step - loss: 0.2266 - mean_absolute_error: 0.2266 - val_loss: 0.3584 - val_mean_absolute_error: 0.3584\n",
      "Epoch 10/50\n",
      "1/1 [==============================] - 0s 102ms/step - loss: 0.2308 - mean_absolute_error: 0.2308 - val_loss: 0.3364 - val_mean_absolute_error: 0.3364\n",
      "Epoch 11/50\n",
      "1/1 [==============================] - 0s 82ms/step - loss: 0.2271 - mean_absolute_error: 0.2271 - val_loss: 0.3335 - val_mean_absolute_error: 0.3335\n",
      "Epoch 12/50\n",
      "1/1 [==============================] - 0s 322ms/step - loss: 0.2258 - mean_absolute_error: 0.2258 - val_loss: 0.3601 - val_mean_absolute_error: 0.3601\n",
      "Epoch 13/50\n",
      "1/1 [==============================] - 0s 128ms/step - loss: 0.2255 - mean_absolute_error: 0.2255 - val_loss: 0.3397 - val_mean_absolute_error: 0.3397\n",
      "Epoch 14/50\n",
      "1/1 [==============================] - 0s 83ms/step - loss: 0.2223 - mean_absolute_error: 0.2223 - val_loss: 0.3464 - val_mean_absolute_error: 0.3464\n",
      "Epoch 15/50\n",
      "1/1 [==============================] - 0s 156ms/step - loss: 0.2199 - mean_absolute_error: 0.2199 - val_loss: 0.3542 - val_mean_absolute_error: 0.3542\n",
      "Epoch 16/50\n",
      "1/1 [==============================] - 0s 127ms/step - loss: 0.2224 - mean_absolute_error: 0.2224 - val_loss: 0.3118 - val_mean_absolute_error: 0.3118\n",
      "Epoch 17/50\n",
      "1/1 [==============================] - 0s 247ms/step - loss: 0.2220 - mean_absolute_error: 0.2220 - val_loss: 0.2864 - val_mean_absolute_error: 0.2864\n",
      "Epoch 18/50\n",
      "1/1 [==============================] - 0s 137ms/step - loss: 0.2248 - mean_absolute_error: 0.2248 - val_loss: 0.2997 - val_mean_absolute_error: 0.2997\n",
      "Epoch 19/50\n",
      "1/1 [==============================] - 0s 146ms/step - loss: 0.2191 - mean_absolute_error: 0.2191 - val_loss: 0.3468 - val_mean_absolute_error: 0.3468\n",
      "Epoch 20/50\n",
      "1/1 [==============================] - 0s 104ms/step - loss: 0.2273 - mean_absolute_error: 0.2273 - val_loss: 0.3264 - val_mean_absolute_error: 0.3264\n",
      "Epoch 21/50\n",
      "1/1 [==============================] - 0s 127ms/step - loss: 0.2194 - mean_absolute_error: 0.2194 - val_loss: 0.2662 - val_mean_absolute_error: 0.2662\n",
      "Epoch 22/50\n",
      "1/1 [==============================] - 0s 218ms/step - loss: 0.2247 - mean_absolute_error: 0.2247 - val_loss: 0.2566 - val_mean_absolute_error: 0.2566\n",
      "Epoch 23/50\n",
      "1/1 [==============================] - 0s 99ms/step - loss: 0.2254 - mean_absolute_error: 0.2254 - val_loss: 0.3031 - val_mean_absolute_error: 0.3031\n",
      "Epoch 24/50\n",
      "1/1 [==============================] - 0s 66ms/step - loss: 0.2220 - mean_absolute_error: 0.2220 - val_loss: 0.3425 - val_mean_absolute_error: 0.3425\n",
      "Epoch 25/50\n",
      "1/1 [==============================] - 0s 84ms/step - loss: 0.2276 - mean_absolute_error: 0.2276 - val_loss: 0.3422 - val_mean_absolute_error: 0.3422\n",
      "Epoch 26/50\n",
      "1/1 [==============================] - 0s 161ms/step - loss: 0.2222 - mean_absolute_error: 0.2222 - val_loss: 0.3065 - val_mean_absolute_error: 0.3065\n",
      "Epoch 27/50\n",
      "1/1 [==============================] - 0s 112ms/step - loss: 0.2155 - mean_absolute_error: 0.2155 - val_loss: 0.2856 - val_mean_absolute_error: 0.2856\n",
      "Epoch 28/50\n",
      "1/1 [==============================] - 0s 74ms/step - loss: 0.2224 - mean_absolute_error: 0.2224 - val_loss: 0.3009 - val_mean_absolute_error: 0.3009\n",
      "Epoch 29/50\n",
      "1/1 [==============================] - 0s 118ms/step - loss: 0.2182 - mean_absolute_error: 0.2182 - val_loss: 0.3379 - val_mean_absolute_error: 0.3379\n",
      "Epoch 30/50\n",
      "1/1 [==============================] - 0s 124ms/step - loss: 0.2179 - mean_absolute_error: 0.2179 - val_loss: 0.3314 - val_mean_absolute_error: 0.3314\n",
      "Epoch 31/50\n",
      "1/1 [==============================] - 0s 142ms/step - loss: 0.2159 - mean_absolute_error: 0.2159 - val_loss: 0.3059 - val_mean_absolute_error: 0.3059\n",
      "Epoch 32/50\n",
      "1/1 [==============================] - 0s 214ms/step - loss: 0.2199 - mean_absolute_error: 0.2199 - val_loss: 0.2907 - val_mean_absolute_error: 0.2907\n",
      "Epoch 33/50\n",
      "1/1 [==============================] - 0s 155ms/step - loss: 0.2184 - mean_absolute_error: 0.2184 - val_loss: 0.2929 - val_mean_absolute_error: 0.2929\n",
      "Epoch 34/50\n",
      "1/1 [==============================] - 0s 183ms/step - loss: 0.2136 - mean_absolute_error: 0.2136 - val_loss: 0.3272 - val_mean_absolute_error: 0.3272\n",
      "Epoch 35/50\n",
      "1/1 [==============================] - 0s 181ms/step - loss: 0.2166 - mean_absolute_error: 0.2166 - val_loss: 0.2973 - val_mean_absolute_error: 0.2973\n",
      "Epoch 36/50\n",
      "1/1 [==============================] - 0s 182ms/step - loss: 0.2113 - mean_absolute_error: 0.2113 - val_loss: 0.2819 - val_mean_absolute_error: 0.2819\n",
      "Epoch 37/50\n",
      "1/1 [==============================] - 0s 147ms/step - loss: 0.2102 - mean_absolute_error: 0.2102 - val_loss: 0.2800 - val_mean_absolute_error: 0.2800\n",
      "Epoch 38/50\n",
      "1/1 [==============================] - 0s 82ms/step - loss: 0.2097 - mean_absolute_error: 0.2097 - val_loss: 0.2857 - val_mean_absolute_error: 0.2857\n",
      "Epoch 39/50\n",
      "1/1 [==============================] - 0s 70ms/step - loss: 0.2133 - mean_absolute_error: 0.2133 - val_loss: 0.2681 - val_mean_absolute_error: 0.2681\n",
      "Epoch 40/50\n",
      "1/1 [==============================] - 0s 74ms/step - loss: 0.2098 - mean_absolute_error: 0.2098 - val_loss: 0.2831 - val_mean_absolute_error: 0.2831\n",
      "Epoch 41/50\n",
      "1/1 [==============================] - 0s 88ms/step - loss: 0.2092 - mean_absolute_error: 0.2092 - val_loss: 0.3205 - val_mean_absolute_error: 0.3205\n",
      "Epoch 42/50\n",
      "1/1 [==============================] - 0s 83ms/step - loss: 0.2160 - mean_absolute_error: 0.2160 - val_loss: 0.3005 - val_mean_absolute_error: 0.3005\n",
      "Epoch 43/50\n",
      "1/1 [==============================] - 0s 74ms/step - loss: 0.2055 - mean_absolute_error: 0.2055 - val_loss: 0.2572 - val_mean_absolute_error: 0.2572\n",
      "Epoch 44/50\n",
      "1/1 [==============================] - 0s 88ms/step - loss: 0.2173 - mean_absolute_error: 0.2173 - val_loss: 0.2758 - val_mean_absolute_error: 0.2758\n",
      "Epoch 45/50\n",
      "1/1 [==============================] - 0s 123ms/step - loss: 0.2183 - mean_absolute_error: 0.2183 - val_loss: 0.2885 - val_mean_absolute_error: 0.2885\n"
     ]
    },
    {
     "name": "stdout",
     "output_type": "stream",
     "text": [
      "Epoch 46/50\n",
      "1/1 [==============================] - 0s 57ms/step - loss: 0.2165 - mean_absolute_error: 0.2165 - val_loss: 0.2960 - val_mean_absolute_error: 0.2960\n",
      "Epoch 47/50\n",
      "1/1 [==============================] - 0s 68ms/step - loss: 0.2064 - mean_absolute_error: 0.2064 - val_loss: 0.3278 - val_mean_absolute_error: 0.3278\n",
      "Epoch 48/50\n",
      "1/1 [==============================] - 0s 99ms/step - loss: 0.2177 - mean_absolute_error: 0.2177 - val_loss: 0.3205 - val_mean_absolute_error: 0.3205\n",
      "Epoch 49/50\n",
      "1/1 [==============================] - 0s 75ms/step - loss: 0.2151 - mean_absolute_error: 0.2151 - val_loss: 0.2867 - val_mean_absolute_error: 0.2867\n",
      "Epoch 50/50\n",
      "1/1 [==============================] - 0s 84ms/step - loss: 0.2068 - mean_absolute_error: 0.2068 - val_loss: 0.2802 - val_mean_absolute_error: 0.2802\n"
     ]
    },
    {
     "data": {
      "text/plain": [
       "<keras.callbacks.History at 0x7fb3bc638430>"
      ]
     },
     "execution_count": 11,
     "metadata": {},
     "output_type": "execute_result"
    }
   ],
   "source": [
    "# Define ANN model with Hyper paramter variable \n",
    "def build_model(hp):\n",
    "    model= keras.Sequential()\n",
    "    for i in range(hp.Int('num_layers',2,23)):\n",
    "        model.add(layers.Dense(units=hp.Int('units_' + str(i),\n",
    "                                           min_value=23,\n",
    "                                           max_value=600,\n",
    "                                           step=32),\n",
    "                              activation='relu'))\n",
    "        model.add(layers.Dense(1,activation='linear'))\n",
    "        model.compile(\n",
    "            optimizer=keras.optimizers.Adam(\n",
    "                hp.Choice('learning_rate',[1e-2,1e-3,1e-4])),\n",
    "        loss='mean_absolute_error',\n",
    "        metrics=['mean_absolute_error'])\n",
    "        return model\n",
    "\n",
    "#import os\n",
    "#if os.path\n",
    "#    os.remove(\"\")\n",
    "\n",
    "\n",
    "# create a directory to store each iteration of modelling\n",
    "tuner = RandomSearch(\n",
    "        build_model,\n",
    "        objective='val_mean_absolute_error',\n",
    "        max_trials=5,\n",
    "        executions_per_trial=3,\n",
    "        directory='./../temp/ANN-tuner',\n",
    "        project_name='Milk production')\n",
    "\n",
    "# Defined parameter space to search in\n",
    "tuner.search_space_summary()\n",
    "\n",
    "# train trial models and compare with validation set\n",
    "tuner.search(xtrain_scale,ytrain_scale,epochs=50,validation_data=(xtest_scale,ytest_scale))\n",
    "\n",
    "# print best 10 models according to val_mean_absolute_error\n",
    "print('\\n')\n",
    "tuner.results_summary()\n",
    "\n",
    "# get best model from training trials\n",
    "bestANNModel = tuner.get_best_models(num_models=1)[0]\n",
    "\n",
    "# fit best model to training scaled data and scaled test data\n",
    "bestANNModel.fit(xtrain_scale,ytrain_scale,epochs=50,validation_data=(xtest_scale,ytest_scale))"
   ]
  },
  {
   "cell_type": "code",
   "execution_count": 12,
   "id": "700e018e",
   "metadata": {},
   "outputs": [
    {
     "name": "stdout",
     "output_type": "stream",
     "text": [
      "predicted milk production values \n",
      " [[53.984238]\n",
      " [46.17267 ]\n",
      " [33.18088 ]\n",
      " [60.097076]\n",
      " [35.928047]\n",
      " [41.634968]\n",
      " [56.884384]]\n",
      "actual milk production values \n",
      " [[36.8]\n",
      " [39.3]\n",
      " [25. ]\n",
      " [53.7]\n",
      " [27.9]\n",
      " [39.4]\n",
      " [49.5]]\n",
      "                Model  Score MAE\n",
      "Model 1  RandomForest  11.129090\n",
      "Model 2       XGBOOST  10.595393\n",
      "Model 3           ANN   8.040323\n"
     ]
    }
   ],
   "source": [
    "# Predict Milk Production and unscale back to original values\n",
    "y_predict = scaler_y.inverse_transform(bestANNModel.predict(xtest_scale).reshape(-1, 1))\n",
    "\n",
    "print('predicted milk production values \\n',y_predict)\n",
    "print('actual milk production values \\n',Y_test)\n",
    "\n",
    "# Calculate Mean Absolute Error\n",
    "MAE_ANN = mean_absolute_error(Y_test,y_predict)\n",
    "#print(MAE_xgb)\n",
    "\n",
    "# add model score to Score Dataframe\n",
    "df_score = pd.DataFrame(data = {'Model':['RandomForest','XGBOOST','ANN'],\n",
    "                                'Score MAE': [MAE_rf,MAE_xgb,MAE_ANN]},\n",
    "                        index=['Model 1','Model 2','Model 3'])\n",
    "\n",
    "print(df_score)"
   ]
  },
  {
   "cell_type": "markdown",
   "id": "775ccd8f",
   "metadata": {},
   "source": [
    "# Pickle file\n",
    "    Save trained model into binary pickle file to use the model later with new input data from web app"
   ]
  },
  {
   "cell_type": "code",
   "execution_count": null,
   "id": "d5572595",
   "metadata": {},
   "outputs": [],
   "source": [
    "model_name=\"milk-production\"\n",
    "directory = f'./../artifacts/{model_name}/'\n",
    "\n",
    "# Dump/write Scaler into binary pickle\n",
    "pickle.dump(scaler_x,open(f'{directory}pkl_scaler_x','wb'))\n",
    "\n",
    "# Read pickle file into variable to use scaler\n",
    "scaler_x_pkl_ann = pickle.load(open(f'{directory}pkl_scaler_x','rb'))\n",
    "\n",
    "# Dump/write Scaler into binary pickle\n",
    "pickle.dump(scaler_y,open(f'{directory}pkl_scaler_y','wb'))\n",
    "\n",
    "# Read pickle file into variable to use scaler\n",
    "scaler_y_pkl_ann = pickle.load(open(f'{directory}pkl_scaler_y','rb'))"
   ]
  },
  {
   "cell_type": "code",
   "execution_count": null,
   "id": "5cda16f1",
   "metadata": {},
   "outputs": [],
   "source": [
    "\n",
    "# Dump/write model into binary pickle file in the current notebook directory\n",
    "pickle.dump(bestANNModel,open(f'{directory}pkl_ann_milk','wb'))\n",
    "\n",
    "# Read pickle file into variable to use model\n",
    "model_pkl_ann = pickle.load(open(f'{directory}pkl_ann_milk','rb'))\n",
    "\n",
    "\n",
    "## Example using pickle file with saved ANN model\n",
    "\n",
    "# take input from source as array\n",
    "data_input_from_webapp = np.array([ 357.3,  362.5,  172. , 1440.2, 2136.5])\n",
    "\n",
    "# scale input with same scaler as used in model\n",
    "scale_data_from_webapp = scaler_x.transform(data_input_from_webapp.reshape(1, -1))\n",
    "\n",
    "# predict scaled value\n",
    "scaled_prediction = bestANNModel.predict(scale_data_from_webapp)\n",
    "\n",
    "# descale prediction back to normal value\n",
    "prediction = scaler_y.inverse_transform(scaled_prediction)\n",
    "print('\\n Expected Milk Production is ',prediction[0][0] )"
   ]
  },
  {
   "cell_type": "markdown",
   "id": "a6147b60",
   "metadata": {},
   "source": [
    "# Next step Model Deployment"
   ]
  }
 ],
 "metadata": {
  "kernelspec": {
   "display_name": "Python 3",
   "language": "python",
   "name": "python3"
  },
  "language_info": {
   "codemirror_mode": {
    "name": "ipython",
    "version": 3
   },
   "file_extension": ".py",
   "mimetype": "text/x-python",
   "name": "python",
   "nbconvert_exporter": "python",
   "pygments_lexer": "ipython3",
   "version": "3.8.8"
  },
  "toc": {
   "base_numbering": 1,
   "nav_menu": {},
   "number_sections": false,
   "sideBar": true,
   "skip_h1_title": false,
   "title_cell": "Table of Contents",
   "title_sidebar": "Contents",
   "toc_cell": false,
   "toc_position": {
    "height": "calc(100% - 180px)",
    "left": "10px",
    "top": "150px",
    "width": "384px"
   },
   "toc_section_display": true,
   "toc_window_display": true
  }
 },
 "nbformat": 4,
 "nbformat_minor": 5
}
