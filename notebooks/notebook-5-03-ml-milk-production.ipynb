{
 "cells": [
  {
   "cell_type": "markdown",
   "id": "e73f5217",
   "metadata": {},
   "source": [
    "<style>\n",
    "*\n",
    "{\n",
    "\ttext-align: justify;\n",
    "\tline-height: 1.5;\n",
    "\tfont-family: \"Arial\", sans-serif;\n",
    "\tfont-size: 12px;\n",
    "}\n",
    "\n",
    "h2, h3, h4, h5, h6\n",
    "{\n",
    "\tfont-family: \"Arial\", sans-serif;\n",
    "\tfont-size: 12px;\n",
    "\tfont-weight: bold;\n",
    "}\n",
    "h2\n",
    "{\n",
    "\tfont-size: 14px;\n",
    "}\n",
    "h1\n",
    "{\n",
    "\tfont-family: \"Wingdings\", sans-serif;\n",
    "\tfont-size: 16px;\n",
    "}\n",
    "</style>"
   ]
  },
  {
   "cell_type": "markdown",
   "id": "bad5aeea",
   "metadata": {},
   "source": [
    "## Milk Production Prediction Model Builder"
   ]
  },
  {
   "cell_type": "markdown",
   "id": "12a36702",
   "metadata": {},
   "source": [
    "<!--\n",
    "import data_analytics.github as github\n",
    "print(github.create_jupyter_notebook_header(\"tahirawwad\", \"agriculture-data-analytics\", \"notebooks/notebook-5-03-ml-milk-production.ipynb\", \"master\"))\n",
    "-->\n",
    "<table style=\"margin: auto;\"><tr><td><a href=\"https://mybinder.org/v2/gh/tahirawwad/agriculture-data-analytics/master?filepath=notebooks/notebook-5-03-ml-milk-production.ipynb\" target=\"_parent\"><img src=\"https://mybinder.org/badge_logo.svg\" alt=\"Open In Binder\"/></a></td><td>online editors</td><td><a href=\"https://colab.research.google.com/github/tahirawwad/agriculture-data-analytics/blob/master/notebooks/notebook-5-03-ml-milk-production.ipynbynb\" target=\"_parent\"><img src=\"https://colab.research.google.com/assets/colab-badge.svg\" alt=\"Open In Colab\"/></a></td></tr></table>"
   ]
  },
  {
   "cell_type": "markdown",
   "id": "92ac96b5",
   "metadata": {},
   "source": [
    "### Objective\n",
    "Create the best machine learning model to predict Milk production value in Ireland according to the historical data from Central Statistics office AEA01 Value at Current Prices for Output, Input and Income in Agriculture."
   ]
  },
  {
   "cell_type": "markdown",
   "id": "55902df1",
   "metadata": {},
   "source": [
    "### Setup"
   ]
  },
  {
   "cell_type": "markdown",
   "id": "c1d65b56",
   "metadata": {},
   "source": [
    "Import required third party Python libraries, import supporting functions and sets up data source file paths."
   ]
  },
  {
   "cell_type": "code",
   "execution_count": 1,
   "id": "cae9ae61",
   "metadata": {
    "ExecuteTime": {
     "end_time": "2022-01-28T16:49:41.930203Z",
     "start_time": "2022-01-28T16:49:41.913202Z"
    }
   },
   "outputs": [],
   "source": [
    "# Local\n",
    "#!pip install -r script/requirements.txt\n",
    "# Remote option\n",
    "#!pip install -r https://raw.githubusercontent.com/tahirawwad/agriculture-data-analytics/requirements.txt\n",
    "#Options: --quiet --user"
   ]
  },
  {
   "cell_type": "code",
   "execution_count": 2,
   "id": "f6baff3a",
   "metadata": {
    "ExecuteTime": {
     "end_time": "2022-01-28T16:49:48.969501Z",
     "start_time": "2022-01-28T16:49:41.941201Z"
    }
   },
   "outputs": [],
   "source": [
    "from keras_tuner.tuners import RandomSearch\n",
    "from pandas import read_csv, DataFrame\n",
    "from sklearn.ensemble import RandomForestRegressor\n",
    "from sklearn.impute import SimpleImputer\n",
    "from sklearn.metrics import mean_absolute_error\n",
    "from sklearn.model_selection import GridSearchCV\n",
    "from sklearn.model_selection import train_test_split\n",
    "from sklearn.preprocessing import MinMaxScaler\n",
    "from tensorflow import keras\n",
    "from tensorflow.keras import layers\n",
    "from xgboost import XGBRegressor\n",
    "import numpy as np\n",
    "import pandas \n",
    "import os\n",
    "import pickle\n",
    "import shutil"
   ]
  },
  {
   "cell_type": "code",
   "execution_count": 3,
   "id": "3ef32f49",
   "metadata": {
    "ExecuteTime": {
     "end_time": "2022-01-28T16:49:48.985499Z",
     "start_time": "2022-01-28T16:49:48.975500Z"
    }
   },
   "outputs": [],
   "source": [
    "pandas.options.display.float_format = '{:.5f}'.format"
   ]
  },
  {
   "cell_type": "code",
   "execution_count": 4,
   "id": "3e30b6c5",
   "metadata": {
    "ExecuteTime": {
     "end_time": "2022-01-28T16:49:49.033497Z",
     "start_time": "2022-01-28T16:49:49.020500Z"
    }
   },
   "outputs": [],
   "source": [
    "READ_BINARY = \"rb\"\n",
    "WRITE_BINARY = \"wb\""
   ]
  },
  {
   "cell_type": "code",
   "execution_count": 5,
   "id": "e13d9ab8",
   "metadata": {
    "ExecuteTime": {
     "end_time": "2022-01-28T16:49:49.048496Z",
     "start_time": "2022-01-28T16:49:49.036500Z"
    }
   },
   "outputs": [],
   "source": [
    "model_directory: str = \"milk-production-models\"\n",
    "directory: str = f'./../artifacts/{model_directory}/'"
   ]
  },
  {
   "cell_type": "markdown",
   "id": "39543089",
   "metadata": {},
   "source": [
    "### Load dataframe"
   ]
  },
  {
   "cell_type": "code",
   "execution_count": 6,
   "id": "99092f99",
   "metadata": {
    "ExecuteTime": {
     "end_time": "2022-01-28T16:49:49.079496Z",
     "start_time": "2022-01-28T16:49:49.051499Z"
    }
   },
   "outputs": [],
   "source": [
    "dataframe_filepath = \"./../artifacts/irish-milk-production-eda-output.csv\"\n",
    "dataframe: DataFrame = read_csv(dataframe_filepath)"
   ]
  },
  {
   "cell_type": "markdown",
   "id": "e86689fb",
   "metadata": {},
   "source": [
    "### Production of Milk"
   ]
  },
  {
   "cell_type": "markdown",
   "id": "43dce267",
   "metadata": {},
   "source": [
    "Extract the milk production features."
   ]
  },
  {
   "cell_type": "code",
   "execution_count": 7,
   "id": "a096f328",
   "metadata": {
    "ExecuteTime": {
     "end_time": "2022-01-28T16:49:49.126507Z",
     "start_time": "2022-01-28T16:49:49.081495Z"
    }
   },
   "outputs": [
    {
     "name": "stdout",
     "output_type": "stream",
     "text": [
      "Milk production dataset dimensions: 6 Columns, 31 Rows\n"
     ]
    },
    {
     "data": {
      "text/html": [
       "<div>\n",
       "<style scoped>\n",
       "    .dataframe tbody tr th:only-of-type {\n",
       "        vertical-align: middle;\n",
       "    }\n",
       "\n",
       "    .dataframe tbody tr th {\n",
       "        vertical-align: top;\n",
       "    }\n",
       "\n",
       "    .dataframe thead th {\n",
       "        text-align: right;\n",
       "    }\n",
       "</style>\n",
       "<table border=\"1\" class=\"dataframe\">\n",
       "  <thead>\n",
       "    <tr style=\"text-align: right;\">\n",
       "      <th></th>\n",
       "      <th>All Livestock Products - Milk</th>\n",
       "      <th>Intermediate Consumption - Energy and Lubricants</th>\n",
       "      <th>Intermediate Consumption - Feeding Stuffs</th>\n",
       "      <th>Intermediate Consumption - Fertilisers</th>\n",
       "      <th>Land Rental</th>\n",
       "      <th>Taxes on Products</th>\n",
       "    </tr>\n",
       "    <tr>\n",
       "      <th>Year</th>\n",
       "      <th></th>\n",
       "      <th></th>\n",
       "      <th></th>\n",
       "      <th></th>\n",
       "      <th></th>\n",
       "      <th></th>\n",
       "    </tr>\n",
       "  </thead>\n",
       "  <tbody>\n",
       "    <tr>\n",
       "      <th>1990</th>\n",
       "      <td>1316.30000</td>\n",
       "      <td>165.00000</td>\n",
       "      <td>642.20000</td>\n",
       "      <td>326.00000</td>\n",
       "      <td>98.80000</td>\n",
       "      <td>75.00000</td>\n",
       "    </tr>\n",
       "    <tr>\n",
       "      <th>1991</th>\n",
       "      <td>1258.90000</td>\n",
       "      <td>164.80000</td>\n",
       "      <td>646.50000</td>\n",
       "      <td>319.10000</td>\n",
       "      <td>96.50000</td>\n",
       "      <td>78.20000</td>\n",
       "    </tr>\n",
       "    <tr>\n",
       "      <th>1992</th>\n",
       "      <td>1373.10000</td>\n",
       "      <td>155.40000</td>\n",
       "      <td>668.50000</td>\n",
       "      <td>305.10000</td>\n",
       "      <td>99.20000</td>\n",
       "      <td>79.50000</td>\n",
       "    </tr>\n",
       "    <tr>\n",
       "      <th>1993</th>\n",
       "      <td>1439.00000</td>\n",
       "      <td>158.90000</td>\n",
       "      <td>733.50000</td>\n",
       "      <td>301.20000</td>\n",
       "      <td>99.70000</td>\n",
       "      <td>68.00000</td>\n",
       "    </tr>\n",
       "    <tr>\n",
       "      <th>1994</th>\n",
       "      <td>1446.20000</td>\n",
       "      <td>158.80000</td>\n",
       "      <td>818.60000</td>\n",
       "      <td>316.30000</td>\n",
       "      <td>107.50000</td>\n",
       "      <td>53.70000</td>\n",
       "    </tr>\n",
       "  </tbody>\n",
       "</table>\n",
       "</div>"
      ],
      "text/plain": [
       "      All Livestock Products - Milk  \\\n",
       "Year                                  \n",
       "1990                     1316.30000   \n",
       "1991                     1258.90000   \n",
       "1992                     1373.10000   \n",
       "1993                     1439.00000   \n",
       "1994                     1446.20000   \n",
       "\n",
       "      Intermediate Consumption - Energy and Lubricants  \\\n",
       "Year                                                     \n",
       "1990                                         165.00000   \n",
       "1991                                         164.80000   \n",
       "1992                                         155.40000   \n",
       "1993                                         158.90000   \n",
       "1994                                         158.80000   \n",
       "\n",
       "      Intermediate Consumption - Feeding Stuffs  \\\n",
       "Year                                              \n",
       "1990                                  642.20000   \n",
       "1991                                  646.50000   \n",
       "1992                                  668.50000   \n",
       "1993                                  733.50000   \n",
       "1994                                  818.60000   \n",
       "\n",
       "      Intermediate Consumption - Fertilisers  Land Rental  Taxes on Products  \n",
       "Year                                                                          \n",
       "1990                               326.00000     98.80000           75.00000  \n",
       "1991                               319.10000     96.50000           78.20000  \n",
       "1992                               305.10000     99.20000           79.50000  \n",
       "1993                               301.20000     99.70000           68.00000  \n",
       "1994                               316.30000    107.50000           53.70000  "
      ]
     },
     "execution_count": 7,
     "metadata": {},
     "output_type": "execute_result"
    }
   ],
   "source": [
    "feature_columns = [\n",
    "    'Year', \n",
    "    'All Livestock Products - Milk',\n",
    "    'Taxes on Products',\n",
    "    'Subsidies on Products', \n",
    "    'Compensation of Employees',\n",
    "    'Contract Work',\n",
    "    'Entrepreneurial Income',\n",
    "    'Factor Income',\n",
    "    'Fixed Capital Consumption - Farm Buildings',\n",
    "    'Fixed Capital Consumption - Machinery, Equipment, etc',\n",
    "    'Interest less FISIM', \n",
    "    'Operating Surplus', \n",
    "    'Livestock - Cattle',\n",
    "    'Livestock - Sheep', \n",
    "    'Land Rental',\n",
    "    'Intermediate Consumption - Contract Work',\n",
    "    'Intermediate Consumption - Crop Protection Products',\n",
    "    'Intermediate Consumption - Energy and Lubricants',\n",
    "    'Intermediate Consumption - Feeding Stuffs',\n",
    "    'Intermediate Consumption - Fertilisers',\n",
    "    'Intermediate Consumption - Financial Intermediation Services Indirect',\n",
    "    'Intermediate Consumption - Forage Plants',\n",
    "    'Intermediate Consumption - Maintenance and Repairs',\n",
    "    'Intermediate Consumption - Seeds', 'Intermediate Consumption - Services',\n",
    "    'Intermediate Consumption - Veterinary Expenses',\n",
    "    'Intermediate Consumption - Other Goods (Detergents, Small Tools, etc)',\n",
    "    'Intermediate Consumption - Other Goods and Services'\n",
    "]\n",
    "\n",
    "feature_columns = [\n",
    "    'Year',\n",
    "    'All Livestock Products - Milk',\n",
    "    'Intermediate Consumption - Energy and Lubricants',\n",
    "    'Intermediate Consumption - Feeding Stuffs',\n",
    "    'Intermediate Consumption - Fertilisers',\n",
    "    'Land Rental',\n",
    "    'Taxes on Products',\n",
    "]\n",
    "\n",
    "dataframe = dataframe[feature_columns]\n",
    "\n",
    "dataframe.set_index('Year', drop=True, inplace=True)\n",
    "\n",
    "print(f\"Milk production dataset dimensions: {dataframe.shape[1]} Columns, {dataframe.shape[0]} Rows\")\n",
    "\n",
    "dataframe.head()"
   ]
  },
  {
   "cell_type": "markdown",
   "id": "129cb429",
   "metadata": {},
   "source": [
    "### Prepare Model Data"
   ]
  },
  {
   "cell_type": "markdown",
   "id": "50450923",
   "metadata": {},
   "source": [
    "#### Select the feature set and the target"
   ]
  },
  {
   "cell_type": "markdown",
   "id": "938d45f2",
   "metadata": {},
   "source": [
    "Select the feature set and the target "
   ]
  },
  {
   "cell_type": "code",
   "execution_count": 8,
   "id": "3195a988",
   "metadata": {
    "ExecuteTime": {
     "end_time": "2022-01-28T16:49:49.190502Z",
     "start_time": "2022-01-28T16:49:49.179504Z"
    }
   },
   "outputs": [
    {
     "name": "stdout",
     "output_type": "stream",
     "text": [
      "Features dimension: 5 Columns, 31 Rows\n",
      "Target dimension:   1 Column,  31 Rows\n"
     ]
    }
   ],
   "source": [
    "feature_values = dataframe.iloc[:, 1:].values\n",
    "target_values = dataframe.iloc[:, 0].values.reshape(-1, 1)\n",
    "\n",
    "print(f'Features dimension: {np.shape(feature_values)[1]} Columns, {np.shape(feature_values)[0]} Rows')\n",
    "print(f'Target dimension:   {np.shape(target_values)[1]} Column,  {np.shape(target_values)[0]} Rows')"
   ]
  },
  {
   "cell_type": "markdown",
   "id": "e7a28184",
   "metadata": {},
   "source": [
    "#### Fill missing values"
   ]
  },
  {
   "cell_type": "markdown",
   "id": "35bd0faf",
   "metadata": {
    "ExecuteTime": {
     "end_time": "2022-01-28T16:35:09.134305Z",
     "start_time": "2022-01-28T16:35:09.125306Z"
    }
   },
   "source": [
    "```py\n",
    "imp_mean = SimpleImputer(missing_values=np.nan, strategy='mean')\n",
    "feature_values = imp_mean.fit_transform(feature_values)\n",
    "target_values = imp_mean.fit_transform(target_values)\n",
    "```"
   ]
  },
  {
   "cell_type": "markdown",
   "id": "b05b59fc",
   "metadata": {},
   "source": [
    "#### Define Training and Test Sets"
   ]
  },
  {
   "cell_type": "markdown",
   "id": "65570b3c",
   "metadata": {},
   "source": [
    "The data is liner data and should not be shuffled. Set test set size to 20%."
   ]
  },
  {
   "cell_type": "code",
   "execution_count": 9,
   "id": "f32d5173",
   "metadata": {
    "ExecuteTime": {
     "end_time": "2022-01-28T16:49:58.737116Z",
     "start_time": "2022-01-28T16:49:58.727115Z"
    }
   },
   "outputs": [],
   "source": [
    "test_size: float = 0.2\n",
    "X_train, X_test, Y_train, Y_test = train_test_split(feature_values,\n",
    "                                                    target_values,\n",
    "                                                    test_size=test_size,\n",
    "                                                    shuffle=False)"
   ]
  },
  {
   "cell_type": "markdown",
   "id": "77c420bb",
   "metadata": {},
   "source": [
    "#### Scale & Transform"
   ]
  },
  {
   "cell_type": "code",
   "execution_count": 10,
   "id": "dd7350dc",
   "metadata": {
    "ExecuteTime": {
     "end_time": "2022-01-28T16:50:01.702714Z",
     "start_time": "2022-01-28T16:50:01.685721Z"
    }
   },
   "outputs": [],
   "source": [
    "features_scaler = MinMaxScaler()\n",
    "\n",
    "features_scaler.fit(X_train)\n",
    "\n",
    "xtest_scale = features_scaler.transform(X_test)\n",
    "xtrain_scale = features_scaler.transform(X_train)"
   ]
  },
  {
   "cell_type": "code",
   "execution_count": 11,
   "id": "f4194ab2",
   "metadata": {
    "ExecuteTime": {
     "end_time": "2022-01-28T16:50:02.517305Z",
     "start_time": "2022-01-28T16:50:02.506304Z"
    }
   },
   "outputs": [],
   "source": [
    "target_scaler = MinMaxScaler()\n",
    "\n",
    "target_scaler.fit(Y_train)\n",
    "\n",
    "ytrain_scale = target_scaler.transform(Y_train)\n",
    "ytest_scale = target_scaler.transform(Y_test)"
   ]
  },
  {
   "cell_type": "markdown",
   "id": "98d53cdb",
   "metadata": {},
   "source": [
    "##### Save Scalers"
   ]
  },
  {
   "cell_type": "code",
   "execution_count": 12,
   "id": "a495e24e",
   "metadata": {
    "ExecuteTime": {
     "end_time": "2022-01-28T16:50:04.067800Z",
     "start_time": "2022-01-28T16:50:04.058800Z"
    }
   },
   "outputs": [],
   "source": [
    "filename: str = 'milk-features-scaler.pickle'\n",
    "features_scaler_filepath: str = f'{directory}{filename}'\n",
    "\n",
    "with open(features_scaler_filepath, WRITE_BINARY) as file:\n",
    "    pickle.dump(features_scaler, file)"
   ]
  },
  {
   "cell_type": "code",
   "execution_count": 13,
   "id": "d4ac4717",
   "metadata": {
    "ExecuteTime": {
     "end_time": "2022-01-28T16:50:05.098887Z",
     "start_time": "2022-01-28T16:50:05.082890Z"
    }
   },
   "outputs": [],
   "source": [
    "filename: str = 'milk-target-scaler.pickle'\n",
    "target_scaler_filepath: str = f'{directory}{filename}'\n",
    "\n",
    "with open(target_scaler_filepath, WRITE_BINARY) as file:\n",
    "    pickle.dump(target_scaler, file)"
   ]
  },
  {
   "cell_type": "markdown",
   "id": "ba3c3dce",
   "metadata": {},
   "source": [
    "### Model Testing"
   ]
  },
  {
   "cell_type": "markdown",
   "id": "58da80b0",
   "metadata": {},
   "source": [
    "#### Score Board"
   ]
  },
  {
   "cell_type": "code",
   "execution_count": 14,
   "id": "1d8a1eda",
   "metadata": {
    "ExecuteTime": {
     "end_time": "2022-01-28T16:50:07.404921Z",
     "start_time": "2022-01-28T16:50:07.390924Z"
    }
   },
   "outputs": [],
   "source": [
    "model_scores_dataframe = DataFrame(\n",
    "    columns=['Model', 'Mean Absolute Error Score(%)'])"
   ]
  },
  {
   "cell_type": "markdown",
   "id": "40f58f53",
   "metadata": {},
   "source": [
    "#### Random Forest Regressor"
   ]
  },
  {
   "cell_type": "markdown",
   "id": "664558ee",
   "metadata": {},
   "source": [
    "##### Train Model"
   ]
  },
  {
   "cell_type": "markdown",
   "id": "02cccc73",
   "metadata": {},
   "source": [
    "Hyper parameter tuning via Grid Search Cross Validation"
   ]
  },
  {
   "cell_type": "code",
   "execution_count": 15,
   "id": "fbe9bbff",
   "metadata": {
    "ExecuteTime": {
     "end_time": "2022-01-28T16:52:32.089801Z",
     "start_time": "2022-01-28T16:50:13.294685Z"
    }
   },
   "outputs": [
    {
     "data": {
      "text/plain": [
       "GridSearchCV(cv=5, estimator=RandomForestRegressor(), n_jobs=-1,\n",
       "             param_grid={'bootstrap': [True, False],\n",
       "                         'criterion': ['squared_error', 'absolute_error',\n",
       "                                       'poisson'],\n",
       "                         'max_depth': [1, 3, 5],\n",
       "                         'max_features': ['auto', 'sqrt', 'log2'],\n",
       "                         'n_estimators': [100, 500, 800]})"
      ]
     },
     "execution_count": 15,
     "metadata": {},
     "output_type": "execute_result"
    }
   ],
   "source": [
    "random_forest_regressor = RandomForestRegressor()\n",
    "\n",
    "random_forest_regressor_paramaters_grid = {\n",
    "    'bootstrap': [True, False],\n",
    "    'criterion': ['squared_error', 'absolute_error', 'poisson'],\n",
    "    'max_depth': [1, 3, 5],\n",
    "    'max_features': [\"auto\", \"sqrt\", \"log2\"],\n",
    "    'n_estimators': [100, 500, 800],  # Number of trees\n",
    "}\n",
    "\n",
    "grid_search_cv = GridSearchCV(\n",
    "    estimator=random_forest_regressor,\n",
    "    param_grid=random_forest_regressor_paramaters_grid,\n",
    "    n_jobs=-1,  # Use all processors on CPU\n",
    "    cv=5)  #cross validation 5 fold of datasets\n",
    "\n",
    "grid_search_cv.fit(xtrain_scale, ytrain_scale.reshape(-1))"
   ]
  },
  {
   "cell_type": "markdown",
   "id": "446c6f92",
   "metadata": {},
   "source": [
    "##### Test and Score Model"
   ]
  },
  {
   "cell_type": "code",
   "execution_count": 16,
   "id": "68ceb025",
   "metadata": {
    "ExecuteTime": {
     "end_time": "2022-01-28T16:52:32.576801Z",
     "start_time": "2022-01-28T16:52:32.478799Z"
    }
   },
   "outputs": [
    {
     "name": "stdout",
     "output_type": "stream",
     "text": [
      "Best training model RandomForestRegressor(bootstrap=False, criterion='poisson', max_depth=3,\n",
      "                      n_estimators=500)\n",
      "Best training model score, coefficient of determination R squared -0.3177062556644398\n"
     ]
    }
   ],
   "source": [
    "print('Best training model', grid_search_cv.best_estimator_)\n",
    "print('Best training model score, coefficient of determination R squared',\n",
    "      grid_search_cv.best_score_)\n",
    "\n",
    "y_predict = target_scaler.inverse_transform(\n",
    "    grid_search_cv.predict(xtest_scale).reshape(-1, 1))\n",
    "mae_score = mean_absolute_error(Y_test, y_predict)"
   ]
  },
  {
   "cell_type": "markdown",
   "id": "5d91acdc",
   "metadata": {},
   "source": [
    "##### Save Model Score"
   ]
  },
  {
   "cell_type": "code",
   "execution_count": 18,
   "id": "57ce9131",
   "metadata": {
    "ExecuteTime": {
     "end_time": "2022-01-28T16:52:42.137855Z",
     "start_time": "2022-01-28T16:52:42.110728Z"
    }
   },
   "outputs": [
    {
     "data": {
      "text/html": [
       "<div>\n",
       "<style scoped>\n",
       "    .dataframe tbody tr th:only-of-type {\n",
       "        vertical-align: middle;\n",
       "    }\n",
       "\n",
       "    .dataframe tbody tr th {\n",
       "        vertical-align: top;\n",
       "    }\n",
       "\n",
       "    .dataframe thead th {\n",
       "        text-align: right;\n",
       "    }\n",
       "</style>\n",
       "<table border=\"1\" class=\"dataframe\">\n",
       "  <thead>\n",
       "    <tr style=\"text-align: right;\">\n",
       "      <th></th>\n",
       "      <th>Model</th>\n",
       "      <th>Mean Absolute Error Score(%)</th>\n",
       "    </tr>\n",
       "  </thead>\n",
       "  <tbody>\n",
       "    <tr>\n",
       "      <th>0</th>\n",
       "      <td>Random Forest Regressor</td>\n",
       "      <td>506.98441</td>\n",
       "    </tr>\n",
       "    <tr>\n",
       "      <th>1</th>\n",
       "      <td>Random Forest Regressor</td>\n",
       "      <td>506.98441</td>\n",
       "    </tr>\n",
       "  </tbody>\n",
       "</table>\n",
       "</div>"
      ],
      "text/plain": [
       "                     Model  Mean Absolute Error Score(%)\n",
       "0  Random Forest Regressor                     506.98441\n",
       "1  Random Forest Regressor                     506.98441"
      ]
     },
     "execution_count": 18,
     "metadata": {},
     "output_type": "execute_result"
    }
   ],
   "source": [
    "values = ['Random Forest Regressor', mae_score]\n",
    "model_scores_dataframe.loc[len(model_scores_dataframe)] = values\n",
    "model_scores_dataframe.head()"
   ]
  },
  {
   "cell_type": "markdown",
   "id": "b4aab677",
   "metadata": {},
   "source": [
    "#### XGBOOST Regressor"
   ]
  },
  {
   "cell_type": "markdown",
   "id": "7c6eb8ab",
   "metadata": {},
   "source": [
    "##### Train Model"
   ]
  },
  {
   "cell_type": "code",
   "execution_count": 19,
   "id": "119a7167",
   "metadata": {
    "ExecuteTime": {
     "end_time": "2022-01-28T16:54:29.659883Z",
     "start_time": "2022-01-28T16:52:48.489659Z"
    }
   },
   "outputs": [
    {
     "name": "stdout",
     "output_type": "stream",
     "text": [
      "Fitting 5 folds for each of 144 candidates, totalling 720 fits\n",
      "Best training model  XGBRegressor(base_score=0.5, booster='gbtree', colsample_bylevel=1,\n",
      "             colsample_bynode=1, colsample_bytree=1, enable_categorical=False,\n",
      "             gamma=0.1, gpu_id=-1, importance_type=None,\n",
      "             interaction_constraints='', learning_rate=1, max_delta_step=0,\n",
      "             max_depth=3, min_child_weight=1, missing=nan,\n",
      "             monotone_constraints='()', n_estimators=20, n_jobs=8,\n",
      "             num_parallel_tree=1, predictor='auto', random_state=2021,\n",
      "             reg_alpha=0, reg_lambda=1, scale_pos_weight=1, subsample=1,\n",
      "             tree_method='exact', validate_parameters=1, verbosity=None)\n",
      "Best model Parameters {'gamma': 0.1, 'learning_rate': 1, 'max_depth': 3, 'n_estimators': 20}\n",
      "Best training model score, coefficient of determination R squared -0.8488100282656269\n"
     ]
    }
   ],
   "source": [
    "# define XGBRegressor\n",
    "xgb_regressor_milk = XGBRegressor(random_state=2021)\n",
    "\n",
    "# define parameters space to loop over\n",
    "params_xgb_milk = {\n",
    "    'n_estimators': [20, 40, 80, 160, 340, 500],\n",
    "    'max_depth': [3, 6, 9],\n",
    "    'gamma': [0.01, 0.1],\n",
    "    'learning_rate': [0.001, 0.01, 0.1, 1]\n",
    "}\n",
    "\n",
    "# Hyper parameter tuning via Grid Search Cross Validation\n",
    "grid_xgb_milk = GridSearchCV(\n",
    "    estimator=xgb_regressor_milk,\n",
    "    param_grid=params_xgb_milk,\n",
    "    #n_jobs=-1,\n",
    "    scoring=['r2', 'neg_root_mean_squared_error'],\n",
    "    refit='r2',\n",
    "    n_jobs=-1,\n",
    "    cv=5,\n",
    "    verbose=4)\n",
    "\n",
    "# fit grid to training scaled set\n",
    "grid_xgb_milk.fit(xtrain_scale, ytrain_scale)\n",
    "\n",
    "# print best training model & R squared score\n",
    "print('Best training model ', grid_xgb_milk.best_estimator_)\n",
    "print('Best model Parameters', grid_xgb_milk.best_params_)\n",
    "print('Best training model score, coefficient of determination R squared',\n",
    "      grid_xgb_milk.best_score_)"
   ]
  },
  {
   "cell_type": "markdown",
   "id": "6d49ff37",
   "metadata": {},
   "source": [
    "##### Test and Score Model"
   ]
  },
  {
   "cell_type": "code",
   "execution_count": 21,
   "id": "410a7574",
   "metadata": {
    "ExecuteTime": {
     "end_time": "2022-01-28T16:54:37.248069Z",
     "start_time": "2022-01-28T16:54:37.231067Z"
    }
   },
   "outputs": [],
   "source": [
    "y_predict = target_scaler.inverse_transform(\n",
    "    grid_xgb_milk.predict(xtest_scale).reshape(-1, 1))\n",
    "\n",
    "mae_score = mean_absolute_error(Y_test, y_predict)"
   ]
  },
  {
   "cell_type": "markdown",
   "id": "f87104a4",
   "metadata": {},
   "source": [
    "##### Save Model Score"
   ]
  },
  {
   "cell_type": "code",
   "execution_count": 23,
   "id": "fd170cd6",
   "metadata": {
    "ExecuteTime": {
     "end_time": "2022-01-28T16:54:47.186297Z",
     "start_time": "2022-01-28T16:54:47.165297Z"
    }
   },
   "outputs": [
    {
     "data": {
      "text/html": [
       "<div>\n",
       "<style scoped>\n",
       "    .dataframe tbody tr th:only-of-type {\n",
       "        vertical-align: middle;\n",
       "    }\n",
       "\n",
       "    .dataframe tbody tr th {\n",
       "        vertical-align: top;\n",
       "    }\n",
       "\n",
       "    .dataframe thead th {\n",
       "        text-align: right;\n",
       "    }\n",
       "</style>\n",
       "<table border=\"1\" class=\"dataframe\">\n",
       "  <thead>\n",
       "    <tr style=\"text-align: right;\">\n",
       "      <th></th>\n",
       "      <th>Model</th>\n",
       "      <th>Mean Absolute Error Score(%)</th>\n",
       "    </tr>\n",
       "  </thead>\n",
       "  <tbody>\n",
       "    <tr>\n",
       "      <th>0</th>\n",
       "      <td>Random Forest Regressor</td>\n",
       "      <td>506.98441</td>\n",
       "    </tr>\n",
       "    <tr>\n",
       "      <th>1</th>\n",
       "      <td>Random Forest Regressor</td>\n",
       "      <td>506.98441</td>\n",
       "    </tr>\n",
       "    <tr>\n",
       "      <th>2</th>\n",
       "      <td>XGBOOST</td>\n",
       "      <td>618.43159</td>\n",
       "    </tr>\n",
       "  </tbody>\n",
       "</table>\n",
       "</div>"
      ],
      "text/plain": [
       "                     Model  Mean Absolute Error Score(%)\n",
       "0  Random Forest Regressor                     506.98441\n",
       "1  Random Forest Regressor                     506.98441\n",
       "2                  XGBOOST                     618.43159"
      ]
     },
     "execution_count": 23,
     "metadata": {},
     "output_type": "execute_result"
    }
   ],
   "source": [
    "model_scores_dataframe.loc[len(model_scores_dataframe)] = ['XGBOOST', mae_score]\n",
    "model_scores_dataframe.head()"
   ]
  },
  {
   "cell_type": "markdown",
   "id": "a1eb8eb9",
   "metadata": {},
   "source": [
    "#### ANN Artificial Neural Network"
   ]
  },
  {
   "cell_type": "markdown",
   "id": "d01711cf",
   "metadata": {},
   "source": [
    "##### Train Model"
   ]
  },
  {
   "cell_type": "code",
   "execution_count": 24,
   "id": "6199a6b5",
   "metadata": {
    "ExecuteTime": {
     "end_time": "2022-01-28T16:56:09.610382Z",
     "start_time": "2022-01-28T16:55:01.103967Z"
    },
    "scrolled": true
   },
   "outputs": [
    {
     "name": "stdout",
     "output_type": "stream",
     "text": [
      "Trial 5 Complete [00h 00m 15s]\n",
      "val_mean_absolute_error: 0.6812149484952291\n",
      "\n",
      "Best val_mean_absolute_error So Far: 0.2942810654640198\n",
      "Total elapsed time: 00h 01m 04s\n",
      "INFO:tensorflow:Oracle triggered exit\n",
      "\n",
      "\n",
      "Results summary\n",
      "Results in ./../temp/ANN-tuner/Milk production\n",
      "Showing 10 best trials\n",
      "Objective(name='val_mean_absolute_error', direction='min')\n",
      "Trial summary\n",
      "Hyperparameters:\n",
      "num_layers: 22\n",
      "units_0: 183\n",
      "learning_rate: 0.01\n",
      "Score: 0.2942810654640198\n",
      "Trial summary\n",
      "Hyperparameters:\n",
      "num_layers: 2\n",
      "units_0: 119\n",
      "learning_rate: 0.01\n",
      "Score: 0.3366483747959137\n",
      "Trial summary\n",
      "Hyperparameters:\n",
      "num_layers: 3\n",
      "units_0: 279\n",
      "learning_rate: 0.01\n",
      "Score: 0.33972294131914776\n",
      "Trial summary\n",
      "Hyperparameters:\n",
      "num_layers: 7\n",
      "units_0: 567\n",
      "learning_rate: 0.0001\n",
      "Score: 0.6812149484952291\n",
      "Trial summary\n",
      "Hyperparameters:\n",
      "num_layers: 4\n",
      "units_0: 119\n",
      "learning_rate: 0.0001\n",
      "Score: 1.1306907733281453\n",
      "Epoch 1/50\n",
      "1/1 [==============================] - 1s 892ms/step - loss: 0.2455 - mean_absolute_error: 0.2455 - val_loss: 0.3382 - val_mean_absolute_error: 0.3382\n",
      "Epoch 2/50\n",
      "1/1 [==============================] - 0s 36ms/step - loss: 0.1621 - mean_absolute_error: 0.1621 - val_loss: 0.4562 - val_mean_absolute_error: 0.4562\n",
      "Epoch 3/50\n",
      "1/1 [==============================] - 0s 44ms/step - loss: 0.1185 - mean_absolute_error: 0.1185 - val_loss: 0.6806 - val_mean_absolute_error: 0.6806\n",
      "Epoch 4/50\n",
      "1/1 [==============================] - 0s 50ms/step - loss: 0.1378 - mean_absolute_error: 0.1378 - val_loss: 0.7572 - val_mean_absolute_error: 0.7572\n",
      "Epoch 5/50\n",
      "1/1 [==============================] - 0s 35ms/step - loss: 0.1709 - mean_absolute_error: 0.1709 - val_loss: 0.7232 - val_mean_absolute_error: 0.7232\n",
      "Epoch 6/50\n",
      "1/1 [==============================] - 0s 42ms/step - loss: 0.1589 - mean_absolute_error: 0.1589 - val_loss: 0.6094 - val_mean_absolute_error: 0.6094\n",
      "Epoch 7/50\n",
      "1/1 [==============================] - 0s 35ms/step - loss: 0.1218 - mean_absolute_error: 0.1218 - val_loss: 0.4630 - val_mean_absolute_error: 0.4630\n",
      "Epoch 8/50\n",
      "1/1 [==============================] - 0s 36ms/step - loss: 0.1113 - mean_absolute_error: 0.1113 - val_loss: 0.3905 - val_mean_absolute_error: 0.3905\n",
      "Epoch 9/50\n",
      "1/1 [==============================] - 0s 40ms/step - loss: 0.1143 - mean_absolute_error: 0.1143 - val_loss: 0.3496 - val_mean_absolute_error: 0.3496\n",
      "Epoch 10/50\n",
      "1/1 [==============================] - 0s 34ms/step - loss: 0.1282 - mean_absolute_error: 0.1282 - val_loss: 0.3382 - val_mean_absolute_error: 0.3382\n",
      "Epoch 11/50\n",
      "1/1 [==============================] - 0s 38ms/step - loss: 0.1335 - mean_absolute_error: 0.1335 - val_loss: 0.3511 - val_mean_absolute_error: 0.3511\n",
      "Epoch 12/50\n",
      "1/1 [==============================] - 0s 36ms/step - loss: 0.1255 - mean_absolute_error: 0.1255 - val_loss: 0.3838 - val_mean_absolute_error: 0.3838\n",
      "Epoch 13/50\n",
      "1/1 [==============================] - 0s 45ms/step - loss: 0.1116 - mean_absolute_error: 0.1116 - val_loss: 0.4236 - val_mean_absolute_error: 0.4236\n",
      "Epoch 14/50\n",
      "1/1 [==============================] - 0s 37ms/step - loss: 0.1020 - mean_absolute_error: 0.1020 - val_loss: 0.4711 - val_mean_absolute_error: 0.4711\n",
      "Epoch 15/50\n",
      "1/1 [==============================] - 0s 32ms/step - loss: 0.1020 - mean_absolute_error: 0.1020 - val_loss: 0.5156 - val_mean_absolute_error: 0.5156\n",
      "Epoch 16/50\n",
      "1/1 [==============================] - 0s 33ms/step - loss: 0.1045 - mean_absolute_error: 0.1045 - val_loss: 0.5412 - val_mean_absolute_error: 0.5412\n",
      "Epoch 17/50\n",
      "1/1 [==============================] - 0s 35ms/step - loss: 0.1084 - mean_absolute_error: 0.1084 - val_loss: 0.5366 - val_mean_absolute_error: 0.5366\n",
      "Epoch 18/50\n",
      "1/1 [==============================] - 0s 38ms/step - loss: 0.1052 - mean_absolute_error: 0.1052 - val_loss: 0.5118 - val_mean_absolute_error: 0.5118\n",
      "Epoch 19/50\n",
      "1/1 [==============================] - 0s 31ms/step - loss: 0.0986 - mean_absolute_error: 0.0986 - val_loss: 0.4796 - val_mean_absolute_error: 0.4796\n",
      "Epoch 20/50\n",
      "1/1 [==============================] - 0s 34ms/step - loss: 0.0943 - mean_absolute_error: 0.0943 - val_loss: 0.4469 - val_mean_absolute_error: 0.4469\n",
      "Epoch 21/50\n",
      "1/1 [==============================] - 0s 38ms/step - loss: 0.0944 - mean_absolute_error: 0.0944 - val_loss: 0.4315 - val_mean_absolute_error: 0.4315\n",
      "Epoch 22/50\n",
      "1/1 [==============================] - 0s 33ms/step - loss: 0.0958 - mean_absolute_error: 0.0958 - val_loss: 0.4257 - val_mean_absolute_error: 0.4257\n",
      "Epoch 23/50\n",
      "1/1 [==============================] - 0s 36ms/step - loss: 0.0963 - mean_absolute_error: 0.0963 - val_loss: 0.4328 - val_mean_absolute_error: 0.4328\n",
      "Epoch 24/50\n",
      "1/1 [==============================] - 0s 32ms/step - loss: 0.0932 - mean_absolute_error: 0.0932 - val_loss: 0.4469 - val_mean_absolute_error: 0.4469\n",
      "Epoch 25/50\n",
      "1/1 [==============================] - 0s 31ms/step - loss: 0.0887 - mean_absolute_error: 0.0887 - val_loss: 0.4728 - val_mean_absolute_error: 0.4728\n",
      "Epoch 26/50\n",
      "1/1 [==============================] - 0s 32ms/step - loss: 0.0860 - mean_absolute_error: 0.0860 - val_loss: 0.5023 - val_mean_absolute_error: 0.5023\n",
      "Epoch 27/50\n",
      "1/1 [==============================] - 0s 40ms/step - loss: 0.0845 - mean_absolute_error: 0.0845 - val_loss: 0.5308 - val_mean_absolute_error: 0.5308\n",
      "Epoch 28/50\n",
      "1/1 [==============================] - 0s 33ms/step - loss: 0.0855 - mean_absolute_error: 0.0855 - val_loss: 0.5415 - val_mean_absolute_error: 0.5415\n",
      "Epoch 29/50\n",
      "1/1 [==============================] - 0s 32ms/step - loss: 0.0851 - mean_absolute_error: 0.0851 - val_loss: 0.5314 - val_mean_absolute_error: 0.5314\n",
      "Epoch 30/50\n",
      "1/1 [==============================] - 0s 43ms/step - loss: 0.0809 - mean_absolute_error: 0.0809 - val_loss: 0.5060 - val_mean_absolute_error: 0.5060\n",
      "Epoch 31/50\n",
      "1/1 [==============================] - 0s 43ms/step - loss: 0.0781 - mean_absolute_error: 0.0781 - val_loss: 0.4883 - val_mean_absolute_error: 0.4883\n",
      "Epoch 32/50\n",
      "1/1 [==============================] - 0s 38ms/step - loss: 0.0823 - mean_absolute_error: 0.0823 - val_loss: 0.4970 - val_mean_absolute_error: 0.4970\n",
      "Epoch 33/50\n",
      "1/1 [==============================] - 0s 46ms/step - loss: 0.0788 - mean_absolute_error: 0.0788 - val_loss: 0.5229 - val_mean_absolute_error: 0.5229\n",
      "Epoch 34/50\n",
      "1/1 [==============================] - 0s 42ms/step - loss: 0.0765 - mean_absolute_error: 0.0765 - val_loss: 0.5341 - val_mean_absolute_error: 0.5341\n",
      "Epoch 35/50\n",
      "1/1 [==============================] - 0s 38ms/step - loss: 0.0800 - mean_absolute_error: 0.0800 - val_loss: 0.5289 - val_mean_absolute_error: 0.5289\n",
      "Epoch 36/50\n",
      "1/1 [==============================] - 0s 38ms/step - loss: 0.0797 - mean_absolute_error: 0.0797 - val_loss: 0.5067 - val_mean_absolute_error: 0.5067\n",
      "Epoch 37/50\n",
      "1/1 [==============================] - 0s 47ms/step - loss: 0.0750 - mean_absolute_error: 0.0750 - val_loss: 0.4796 - val_mean_absolute_error: 0.4796\n",
      "Epoch 38/50\n",
      "1/1 [==============================] - 0s 42ms/step - loss: 0.0760 - mean_absolute_error: 0.0760 - val_loss: 0.4736 - val_mean_absolute_error: 0.4736\n",
      "Epoch 39/50\n",
      "1/1 [==============================] - 0s 41ms/step - loss: 0.0767 - mean_absolute_error: 0.0767 - val_loss: 0.4901 - val_mean_absolute_error: 0.4901\n",
      "Epoch 40/50\n",
      "1/1 [==============================] - 0s 38ms/step - loss: 0.0723 - mean_absolute_error: 0.0723 - val_loss: 0.5097 - val_mean_absolute_error: 0.5097\n",
      "Epoch 41/50\n",
      "1/1 [==============================] - 0s 39ms/step - loss: 0.0730 - mean_absolute_error: 0.0730 - val_loss: 0.5118 - val_mean_absolute_error: 0.5118\n",
      "Epoch 42/50\n",
      "1/1 [==============================] - 0s 41ms/step - loss: 0.0730 - mean_absolute_error: 0.0730 - val_loss: 0.4960 - val_mean_absolute_error: 0.4960\n",
      "Epoch 43/50\n",
      "1/1 [==============================] - 0s 36ms/step - loss: 0.0701 - mean_absolute_error: 0.0701 - val_loss: 0.4670 - val_mean_absolute_error: 0.4670\n",
      "Epoch 44/50\n",
      "1/1 [==============================] - 0s 42ms/step - loss: 0.0728 - mean_absolute_error: 0.0728 - val_loss: 0.4583 - val_mean_absolute_error: 0.4583\n",
      "Epoch 45/50\n",
      "1/1 [==============================] - 0s 37ms/step - loss: 0.0713 - mean_absolute_error: 0.0713 - val_loss: 0.4621 - val_mean_absolute_error: 0.4621\n",
      "Epoch 46/50\n"
     ]
    },
    {
     "name": "stdout",
     "output_type": "stream",
     "text": [
      "1/1 [==============================] - 0s 40ms/step - loss: 0.0684 - mean_absolute_error: 0.0684 - val_loss: 0.4716 - val_mean_absolute_error: 0.4716\n",
      "Epoch 47/50\n",
      "1/1 [==============================] - 0s 40ms/step - loss: 0.0690 - mean_absolute_error: 0.0690 - val_loss: 0.4755 - val_mean_absolute_error: 0.4755\n",
      "Epoch 48/50\n",
      "1/1 [==============================] - 0s 39ms/step - loss: 0.0695 - mean_absolute_error: 0.0695 - val_loss: 0.4645 - val_mean_absolute_error: 0.4645\n",
      "Epoch 49/50\n",
      "1/1 [==============================] - 0s 41ms/step - loss: 0.0663 - mean_absolute_error: 0.0663 - val_loss: 0.4493 - val_mean_absolute_error: 0.4493\n",
      "Epoch 50/50\n",
      "1/1 [==============================] - 0s 34ms/step - loss: 0.0665 - mean_absolute_error: 0.0665 - val_loss: 0.4467 - val_mean_absolute_error: 0.4467\n"
     ]
    }
   ],
   "source": [
    "#Training & Keras Parameter Tuning\n",
    "\n",
    "temp_directory: str = './../temp/ANN-tuner/'\n",
    "\n",
    "\n",
    "# Define ANN model with Hyper parameter variable\n",
    "def build_model(hp):\n",
    "    model = keras.Sequential()\n",
    "    for i in range(hp.Int('num_layers', 2, 23)):\n",
    "        model.add(\n",
    "            layers.Dense(units=hp.Int('units_' + str(i),\n",
    "                                      min_value=23,\n",
    "                                      max_value=600,\n",
    "                                      step=32),\n",
    "                         activation='relu'))\n",
    "        model.add(layers.Dense(1, activation='linear'))\n",
    "        model.compile(optimizer=keras.optimizers.Adam(\n",
    "            hp.Choice('learning_rate', [1e-2, 1e-3, 1e-4])),\n",
    "                      loss='mean_absolute_error',\n",
    "                      metrics=['mean_absolute_error'])\n",
    "        return model\n",
    "\n",
    "\n",
    "if os.path.isdir(temp_directory):\n",
    "    try:\n",
    "        shutil.rmtree(temp_directory)\n",
    "    except OSError as exception:\n",
    "        print(f\"Error: {exception.filename} - {exception.strerror}.\")\n",
    "\n",
    "# create a directory to store each iteration of modelling\n",
    "tuner = RandomSearch(build_model,\n",
    "                     objective='val_mean_absolute_error',\n",
    "                     max_trials=5,\n",
    "                     executions_per_trial=3,\n",
    "                     directory=temp_directory,\n",
    "                     project_name='Milk production')\n",
    "\n",
    "# Defined parameter space to search in\n",
    "tuner.search_space_summary()\n",
    "\n",
    "# train trial models and compare with validation set\n",
    "tuner.search(xtrain_scale,\n",
    "             ytrain_scale,\n",
    "             epochs=50,\n",
    "             validation_data=(xtest_scale, ytest_scale))\n",
    "\n",
    "# print best 10 models according to val_mean_absolute_error\n",
    "print('\\n')\n",
    "tuner.results_summary()\n",
    "\n",
    "# get best model from training trials\n",
    "bestANNModel = tuner.get_best_models(num_models=1)[0]\n",
    "\n",
    "# fit best model to training scaled data and scaled test data\n",
    "bestANNModel.fit(xtrain_scale,\n",
    "                 ytrain_scale,\n",
    "                 epochs=50,\n",
    "                 validation_data=(xtest_scale, ytest_scale))\n",
    "#Clean up\n",
    "if os.path.isdir(temp_directory):\n",
    "    try:\n",
    "        shutil.rmtree(temp_directory)\n",
    "    except OSError as exception:\n",
    "        print(f\"Error: {exception.filename} - {exception.strerror}.\")"
   ]
  },
  {
   "cell_type": "markdown",
   "id": "7571c8b0",
   "metadata": {
    "ExecuteTime": {
     "end_time": "2022-01-28T08:39:39.920079Z",
     "start_time": "2022-01-28T08:39:39.911081Z"
    }
   },
   "source": [
    "##### Test and Score Model"
   ]
  },
  {
   "cell_type": "code",
   "execution_count": 25,
   "id": "6de7e646",
   "metadata": {
    "ExecuteTime": {
     "end_time": "2022-01-28T16:56:09.875559Z",
     "start_time": "2022-01-28T16:56:09.614386Z"
    }
   },
   "outputs": [
    {
     "name": "stdout",
     "output_type": "stream",
     "text": [
      "predicted milk production values \n",
      " [[1784.8356]\n",
      " [1978.9547]\n",
      " [1768.052 ]\n",
      " [1797.7661]\n",
      " [2068.2146]\n",
      " [2013.5726]\n",
      " [2037.7678]]\n",
      "actual milk production values \n",
      " [[2093.1]\n",
      " [1881.1]\n",
      " [1790.8]\n",
      " [2594.1]\n",
      " [2556.7]\n",
      " [2608.6]\n",
      " [2752.7]]\n"
     ]
    }
   ],
   "source": [
    "# Predict Milk Production and un-scale back to original values\n",
    "\n",
    "y_predict = target_scaler.inverse_transform(\n",
    "    bestANNModel.predict(xtest_scale).reshape(-1, 1))\n",
    "\n",
    "print('predicted milk production values \\n', y_predict)\n",
    "print('actual milk production values \\n', Y_test)\n",
    "\n",
    "# Calculate Mean Absolute Error\n",
    "mae_score = mean_absolute_error(Y_test, y_predict)\n",
    "#print(MAE_xgb)"
   ]
  },
  {
   "cell_type": "markdown",
   "id": "c89cad3f",
   "metadata": {
    "ExecuteTime": {
     "end_time": "2022-01-28T08:38:45.856921Z",
     "start_time": "2022-01-28T08:38:45.819931Z"
    }
   },
   "source": [
    "##### Save Model Score"
   ]
  },
  {
   "cell_type": "code",
   "execution_count": 26,
   "id": "700e018e",
   "metadata": {
    "ExecuteTime": {
     "end_time": "2022-01-28T16:56:09.907556Z",
     "start_time": "2022-01-28T16:56:09.878559Z"
    }
   },
   "outputs": [
    {
     "name": "stdout",
     "output_type": "stream",
     "text": [
      "                     Model  Mean Absolute Error Score(%)\n",
      "0  Random Forest Regressor                     506.98441\n",
      "1  Random Forest Regressor                     506.98441\n",
      "2                  XGBOOST                     618.43159\n",
      "3                      ANN                     431.94942\n"
     ]
    }
   ],
   "source": [
    "model_scores_dataframe.loc[len(model_scores_dataframe)] = ['ANN', mae_score]\n",
    "print(model_scores_dataframe)"
   ]
  },
  {
   "cell_type": "markdown",
   "id": "fe7a8b36",
   "metadata": {},
   "source": [
    "### Save Artifacts"
   ]
  },
  {
   "cell_type": "markdown",
   "id": "775ccd8f",
   "metadata": {},
   "source": [
    "Save trained model into binary pickle file to use the model later with new input data from web app"
   ]
  },
  {
   "cell_type": "markdown",
   "id": "235b8c3c",
   "metadata": {},
   "source": [
    "#### Save Models"
   ]
  },
  {
   "cell_type": "code",
   "execution_count": 27,
   "id": "ac5ad16b",
   "metadata": {
    "ExecuteTime": {
     "end_time": "2022-01-28T16:56:09.970563Z",
     "start_time": "2022-01-28T16:56:09.910557Z"
    }
   },
   "outputs": [],
   "source": [
    "filename: str = 'milk-ann-model.h5'\n",
    "ann_filepath: str = f'{directory}{filename}'\n",
    "bestANNModel.save(ann_filepath, save_format='h5')"
   ]
  },
  {
   "cell_type": "markdown",
   "id": "e65dd81a",
   "metadata": {
    "ExecuteTime": {
     "end_time": "2022-01-28T08:11:28.329156Z",
     "start_time": "2022-01-28T08:11:28.319156Z"
    }
   },
   "source": [
    "```py\n",
    "# fit and transform in one line\n",
    "scaler_x.fit_transform(X_train)\n",
    "# remeber to inverse the scaling on model output\n",
    "scaler_x.inverse_transform(xtest_scale)\n",
    "\n",
    "# Read pickle file into variable to use scaler\n",
    "scaler_x_pkl_ann = pickle.load(open(f'{directory}feature-scaler.pickle', 'rb'))\n",
    "\n",
    "with open(target_scaler_filepath, READ_BINARY) as file:\n",
    "    pickle.dump(scaler_y, file)\n",
    "# Read pickle file into variable to use scaler\n",
    "\n",
    "with open(target_scaler_filepath, READ_BINARY) as file:\n",
    "    target_scaler = pickle.load(file)\n",
    "\n",
    "print(type(target_scaler))\n",
    "\n",
    "with open(ann_filepath, WRITE_BINARY) as file:\n",
    "    pickle.dump(bestANNModel, file)\n",
    "    \n",
    "pickle.dump(bestANNModel, open(f'{directory}pkl_ann_milk', 'wb'))\n",
    "\n",
    "# Read pickle file into variable to use model\n",
    "model_pkl_ann = pickle.load(open(f'{directory}pkl_ann_milk', 'rb'))\n",
    "\n",
    "## Example using pickle file with saved ANN model\n",
    "\n",
    "# take input from source as array\n",
    "data_input_from_webapp = np.array([357.3, 362.5, 172., 1440.2, 2136.5])\n",
    "\n",
    "# scale input with same scaler as used in model\n",
    "scale_data_from_webapp = scaler_x.transform(\n",
    "    data_input_from_webapp.reshape(1, -1))\n",
    "\n",
    "# predict scaled value\n",
    "scaled_prediction = bestANNModel.predict(scale_data_from_webapp)\n",
    "\n",
    "# descale prediction back to normal value\n",
    "prediction = scaler_y.inverse_transform(scaled_prediction)\n",
    "print('\\n Expected Milk Production is ', prediction[0][0])\n",
    "```"
   ]
  }
 ],
 "metadata": {
  "kernelspec": {
   "display_name": "Python 3 (ipykernel)",
   "language": "python",
   "name": "python3"
  },
  "language_info": {
   "codemirror_mode": {
    "name": "ipython",
    "version": 3
   },
   "file_extension": ".py",
   "mimetype": "text/x-python",
   "name": "python",
   "nbconvert_exporter": "python",
   "pygments_lexer": "ipython3",
   "version": "3.8.12"
  },
  "toc": {
   "base_numbering": 1,
   "nav_menu": {},
   "number_sections": false,
   "sideBar": true,
   "skip_h1_title": false,
   "title_cell": "Table of Contents",
   "title_sidebar": "Contents",
   "toc_cell": false,
   "toc_position": {
    "height": "calc(100% - 180px)",
    "left": "10px",
    "top": "150px",
    "width": "375px"
   },
   "toc_section_display": true,
   "toc_window_display": true
  }
 },
 "nbformat": 4,
 "nbformat_minor": 5
}
