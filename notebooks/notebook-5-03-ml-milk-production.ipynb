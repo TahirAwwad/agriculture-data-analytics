{
 "cells": [
  {
   "cell_type": "markdown",
   "id": "12a36702",
   "metadata": {},
   "source": [
    "<!--\n",
    "import data_analytics.github as github\n",
    "print(github.create_jupyter_notebook_header(\"markcrowe-com\", \"agriculture-data-analytics\", \"notebooks/notebook-3-03-ml-milk-production.ipynb\", \"master\"))\n",
    "-->\n",
    "<table style=\"margin: auto;\"><tr><td><a href=\"https://mybinder.org/v2/gh/markcrowe-com/agriculture-data-analytics/master?filepath=notebooks/notebook-3-03-ml-milk-production.ipynb\" target=\"_parent\"><img src=\"https://mybinder.org/badge_logo.svg\" alt=\"Open In Binder\"/></a></td><td>online editors</td><td><a href=\"https://colab.research.google.com/github/markcrowe-com/agriculture-data-analytics/blob/master/notebooks/notebook-3-03-ml-milk-production.ipynb\" target=\"_parent\"><img src=\"https://colab.research.google.com/assets/colab-badge.svg\" alt=\"Open In Colab\"/></a></td></tr></table>"
   ]
  },
  {
   "cell_type": "markdown",
   "id": "92ac96b5",
   "metadata": {},
   "source": [
    "# Objective\n",
    "       Create the best machine learning model to predict Milk production value in Ireland\n",
    "       according to the historical data from Central Statistics office CSO.\n",
    "       AEA01 Value at Current Prices for Output, Input and Income in Agriculture\n",
    "       Downloaded https://data.cso.ie/table/AEA01"
   ]
  },
  {
   "cell_type": "markdown",
   "id": "9256b0a4",
   "metadata": {},
   "source": [
    "# Contents\n",
    "    - Read data from Assets folder\n",
    "    - Split to training / testing sets\n",
    "    - Scale each set seperatly\n",
    "    - Run Models\n",
    "        - Define Hyper parameter tuning Cross Validation Grid or Random Search\n",
    "        - Random Forest Regressor\n",
    "        - XGBOOST Regressor\n",
    "        - ANN\n",
    "    - Save best model into Pickle file\n",
    "    - Next step: Deploy selected model on a Streamlit webapp"
   ]
  },
  {
   "cell_type": "markdown",
   "id": "55902df1",
   "metadata": {},
   "source": [
    "### Setup"
   ]
  },
  {
   "cell_type": "markdown",
   "id": "c1d65b56",
   "metadata": {},
   "source": [
    "Import required third party Python libraries, import supporting functions and sets up data source file paths."
   ]
  },
  {
   "cell_type": "code",
   "execution_count": null,
   "id": "2782cd5a",
   "metadata": {},
   "outputs": [],
   "source": [
    "\n",
    "import pandas as pd\n",
    "import numpy as np\n",
    "from sklearn.model_selection import train_test_split\n",
    "from sklearn.impute import SimpleImputer\n",
    "from sklearn.preprocessing import MinMaxScaler\n",
    "from sklearn.model_selection import GridSearchCV\n",
    "from sklearn.ensemble import RandomForestRegressor\n",
    "from sklearn.metrics import mean_absolute_error, mean_squared_error\n",
    "from xgboost import XGBRegressor\n",
    "import tensorflow as tf\n",
    "from tensorflow import keras\n",
    "from tensorflow.keras import layers\n",
    "from keras_tuner.tuners import RandomSearch\n",
    "import pickle\n",
    "\n"
   ]
  },
  {
   "cell_type": "markdown",
   "id": "39543089",
   "metadata": {},
   "source": [
    "### Load dataframe"
   ]
  },
  {
   "cell_type": "code",
   "execution_count": null,
   "id": "99092f99",
   "metadata": {},
   "outputs": [],
   "source": [
    "df = pd.read_csv(\"./../artifacts/TA_inputoutputvalue_1990_2021_CSO.csv\")\n",
    "print(\"data dimensions \\n\",df.shape)\n",
    "print()\n",
    "#print(\"data column info \\n\",df.info)\n",
    "print()\n",
    "print('Data sample\\n',df.sample(5))\n"
   ]
  },
  {
   "cell_type": "markdown",
   "id": "43dce267",
   "metadata": {},
   "source": [
    "## Production of Milk"
   ]
  },
  {
   "cell_type": "code",
   "execution_count": null,
   "id": "a096f328",
   "metadata": {},
   "outputs": [],
   "source": [
    "## Extract milk production dataset\n",
    "# drop redundunt columns\n",
    "df = df.drop('Unnamed: 0',axis = 1)\n",
    "\n",
    "# extract milk dataset\n",
    "df_milk = df[['Year',\n",
    "#              'UNIT',\n",
    "              'All Livestock Products - Milk',\n",
    "              'Taxes on Products',\n",
    "              'Subsidies on Products',\n",
    "              'Compensation of Employees',\n",
    "              'Contract Work',\n",
    "              'Entrepreneurial Income',\n",
    "              'Factor Income',\n",
    "              #'Fixed Capital Consumption - Farm Buildings',\n",
    "              #'Fixed Capital Consumption - Machinery, Equipment, etc',\n",
    "              #'Interest less FISIM',\n",
    "              #'Operating Surplus',\n",
    "              #'Livestock - Cattle',\n",
    "              #'Livestock - Sheep',\n",
    "              #'Land Rental',\n",
    "              #'Intermediate Consumption - Contract Work',\n",
    "              #'Intermediate Consumption - Crop Protection Products',\n",
    "              #'Intermediate Consumption - Energy and Lubricants',\n",
    "              #'Intermediate Consumption - Feeding Stuffs',\n",
    "              #'Intermediate Consumption - Fertilisers',\n",
    "              #'Intermediate Consumption - Financial Intermediation Services Indirect',\n",
    "              #'Intermediate Consumption - Forage Plants',\n",
    "              #'Intermediate Consumption - Maintenance and Repairs',\n",
    "              #'Intermediate Consumption - Seeds',\n",
    "              #'Intermediate Consumption - Services',\n",
    "              #'Intermediate Consumption - Veterinary Expenses',\n",
    "              #'Intermediate Consumption - Other Goods (Detergents, Small Tools, etc)',\n",
    "              #'Intermediate Consumption - Other Goods and Services'\n",
    "              \n",
    "             ]]\n",
    "# Assign year as index\n",
    "df_milk.set_index('Year',drop=True,inplace=True)\n",
    "\n",
    "print(\"Milk production dataset dimenssions \\n\", df_milk.shape)\n",
    "print(\"Milk production dataset Sample \\n\", df_milk.head())\n"
   ]
  },
  {
   "cell_type": "code",
   "execution_count": null,
   "id": "3a418fbd",
   "metadata": {
    "scrolled": false
   },
   "outputs": [],
   "source": [
    "#eda_reports.print_dataframe_analysis_report(df_milk)\n"
   ]
  },
  {
   "cell_type": "markdown",
   "id": "b05b59fc",
   "metadata": {},
   "source": [
    "### Define 20% Training set 80% Test set"
   ]
  },
  {
   "cell_type": "code",
   "execution_count": null,
   "id": "5a3fb066",
   "metadata": {},
   "outputs": [],
   "source": [
    "# define target & feature variables\n",
    "\n",
    "X = df_milk.iloc[:,2:].values\n",
    "Y = df_milk.iloc[:,1].values.reshape(-1,1)\n",
    "print('features dimension ',np.shape(X))\n",
    "print('target dimension ',np.shape(Y))\n",
    "\n",
    "# impute mean value for NA's\n",
    "#from sklearn.impute import SimpleImputer\n",
    "imp_mean = SimpleImputer(missing_values=np.nan, strategy='mean')\n",
    "X = imp_mean.fit_transform(X)\n",
    "Y = imp_mean.fit_transform(Y)\n",
    "\n",
    "\n",
    "# split train test split 20\n",
    "X_train, X_test,Y_train,Y_test = train_test_split(X,Y,test_size=0.2,random_state=2021)\n",
    "print()\n",
    "print('x_train dimension ', X_train.shape)\n",
    "print('y_train dimension ', Y_train.shape)\n",
    "print()\n",
    "print('x_test dimension ', X_test.shape)\n",
    "print('y_test dimension ', Y_test.shape)"
   ]
  },
  {
   "cell_type": "markdown",
   "id": "77c420bb",
   "metadata": {},
   "source": [
    "### Scale & Transform"
   ]
  },
  {
   "cell_type": "code",
   "execution_count": null,
   "id": "1d8a1eda",
   "metadata": {},
   "outputs": [],
   "source": [
    "# Scale raining set and test set seperatly\n",
    "scaler_x = MinMaxScaler()\n",
    "scaler_y = MinMaxScaler()\n",
    "\n",
    "# calculate mean and std of training set \n",
    "scaler_x.fit(X_train)\n",
    "scaler_y.fit(Y_train)\n",
    "scaler_x.fit(X_test)\n",
    "scaler_y.fit(Y_test)\n",
    "\n",
    "# apply scaler to data set\n",
    "xtrain_scale = scaler_x.transform(X_train)\n",
    "ytrain_scale = scaler_y.transform(Y_train)\n",
    "\n",
    "xtest_scale = scaler_x.transform(X_test)\n",
    "ytest_scale = scaler_y.transform(Y_test)\n",
    "\n",
    "# fit and transform in one line\n",
    "# scaler_x.fit_transform(X_train)\n",
    "\n",
    "# remeber to inverse the scaling on model output\n",
    "# scaler_x.inverse_transform(xtest_scale)\n",
    "\n",
    "# create a score dataframe to store model scores\n",
    "df_score = pd.DataFrame()\n",
    "print(df_score)"
   ]
  },
  {
   "cell_type": "markdown",
   "id": "40f58f53",
   "metadata": {},
   "source": [
    "### Model 1 RandomForest Regressor"
   ]
  },
  {
   "cell_type": "markdown",
   "id": "664558ee",
   "metadata": {},
   "source": [
    "#### Train RandomForest"
   ]
  },
  {
   "cell_type": "code",
   "execution_count": null,
   "id": "fbe9bbff",
   "metadata": {},
   "outputs": [],
   "source": [
    "# define Random Forest Regressor\n",
    "rf_regressor_milk = RandomForestRegressor(random_state=2021)\n",
    "\n",
    "# define list of Parameters\n",
    "params_rf_milk = {'n_estimators':[100,500,800],\n",
    "                  'criterion':['squared_error', 'absolute_error', 'poisson'],\n",
    "                  'max_features':[\"auto\", \"sqrt\", \"log2\"],\n",
    "                  \"bootstrap\": [True, False]\n",
    "                   }\n",
    "\n",
    "# Hyper parameter tuning via Grid Search Cross Validation \n",
    "grid_rf_milk = GridSearchCV(estimator= rf_regressor_milk,\n",
    "                          param_grid= params_rf_milk,\n",
    "                          n_jobs=-1,\n",
    "                          cv=5\n",
    "                     )\n",
    "\n",
    "# Fit the grid to scaled data\n",
    "grid_rf_milk.fit(xtrain_scale,ytrain_scale.reshape(-1))\n",
    "\n",
    "# print best training model & R squared score\n",
    "print('Best training model ',grid_rf_milk.best_estimator_)\n",
    "print('Best training model score, coefficient of determination R squared', grid_rf_milk.best_score_)"
   ]
  },
  {
   "cell_type": "markdown",
   "id": "446c6f92",
   "metadata": {},
   "source": [
    "#### Predict RandomForest"
   ]
  },
  {
   "cell_type": "code",
   "execution_count": null,
   "id": "57ce9131",
   "metadata": {},
   "outputs": [],
   "source": [
    "# Predict Milk Production and unscale back to original values\n",
    "y_predict = scaler_y.inverse_transform(grid_rf_milk.predict(xtest_scale).reshape(-1, 1))\n",
    "\n",
    "print('predicted milk production values \\n',y_predict)\n",
    "print('actual milk production values \\n',Y_test)\n",
    "\n",
    "# Calculate Mean Absolute Error\n",
    "MAE_rf = mean_absolute_error(Y_test,y_predict)\n",
    "#print(MAE_rf)\n",
    "\n",
    "# add model score to Score Dataframe\n",
    "df_score = pd.DataFrame(data={'Model':'RandomForest',\n",
    "                           'Score MAE':MAE_rf},index=['Model 1'])\n",
    "\n",
    "print(df_score)"
   ]
  },
  {
   "cell_type": "markdown",
   "id": "b4aab677",
   "metadata": {},
   "source": [
    "### Model 2 XGBOOST Regressor"
   ]
  },
  {
   "cell_type": "markdown",
   "id": "7c6eb8ab",
   "metadata": {},
   "source": [
    "#### Train XGBOOST"
   ]
  },
  {
   "cell_type": "code",
   "execution_count": null,
   "id": "119a7167",
   "metadata": {},
   "outputs": [],
   "source": [
    "# define XGBRegressor\n",
    "xgb_regressor_milk = XGBRegressor(random_state=2021)\n",
    "\n",
    "# define parameters space to loop over\n",
    "params_xgb_milk = {'n_estimators':[20,40,80,160,340,500],\n",
    "             'max_depth':[3,6,9],\n",
    "             'gamma':[0.01,0.1],\n",
    "             'learning_rate':[0.001,0.01,0.1,1]\n",
    "             }\n",
    "\n",
    "# Hyper parameter tuning via Grid Search Cross Validation \n",
    "grid_xgb_milk = GridSearchCV(estimator=xgb_regressor_milk,\n",
    "                     param_grid=params_xgb_milk,\n",
    "                     #n_jobs=-1,\n",
    "                     scoring=['r2','neg_root_mean_squared_error'],\n",
    "                     refit= 'r2',\n",
    "                     n_jobs=-1,\n",
    "                     cv=5,\n",
    "                     verbose=4\n",
    "                     )\n",
    "\n",
    "# fit grid to training scaled set\n",
    "grid_xgb_milk.fit(xtrain_scale,ytrain_scale);\n",
    "\n",
    "\n",
    "# print best training model & R squared score\n",
    "print('Best training model ',grid_xgb_milk.best_estimator_)\n",
    "print('Best model Parameters',grid_xgb_milk.best_params_)\n",
    "print('Best training model score, coefficient of determination R squared', grid_xgb_milk.best_score_)"
   ]
  },
  {
   "cell_type": "markdown",
   "id": "6d49ff37",
   "metadata": {},
   "source": [
    "#### Predict XGBOOST"
   ]
  },
  {
   "cell_type": "code",
   "execution_count": null,
   "id": "fd170cd6",
   "metadata": {},
   "outputs": [],
   "source": [
    "# Predict Milk Production and unscale back to original values\n",
    "y_predict = scaler_y.inverse_transform(grid_xgb_milk.predict(xtest_scale).reshape(-1, 1))\n",
    "\n",
    "print('predicted milk production values \\n',y_predict)\n",
    "print('actual milk production values \\n',Y_test)\n",
    "\n",
    "# Calculate Mean Absolute Error\n",
    "MAE_xgb = mean_absolute_error(Y_test,y_predict)\n",
    "#print(MAE_xgb)\n",
    "\n",
    "# add model score to Score Dataframe\n",
    "df_score = pd.DataFrame(data = {'Model':['RandomForest','XGBOOST'],\n",
    "                                'Score MAE': [MAE_rf,MAE_xgb]},\n",
    "                        index=['Model 1','Model 2'])\n",
    "\n",
    "print(df_score)"
   ]
  },
  {
   "cell_type": "code",
   "execution_count": null,
   "id": "6537541a",
   "metadata": {},
   "outputs": [],
   "source": [
    "# write the Grid Search results to csv to choose best model with least resource consumption\n",
    "\n",
    "#GS_xgb_df_milk = pd.DataFrame(GS_xgb_milk.cv_results_)\n",
    "#GS_xgb_df_milk = GS_xgb_df_milk.sort_values('rank_test_r2')\n",
    "#GS_xgb_df_milk.to_csv('./../artifacts/grid-search-xgb-milk-results.csv')"
   ]
  },
  {
   "cell_type": "markdown",
   "id": "a1eb8eb9",
   "metadata": {},
   "source": [
    "## ANN Artificial Neural Network"
   ]
  },
  {
   "cell_type": "markdown",
   "id": "d01711cf",
   "metadata": {},
   "source": [
    "#### Training & Keras Parameter Tuning"
   ]
  },
  {
   "cell_type": "code",
   "execution_count": null,
   "id": "6199a6b5",
   "metadata": {},
   "outputs": [],
   "source": [
    "# Define ANN model with Hyper paramter variable \n",
    "def build_model(hp):\n",
    "    model= keras.Sequential()\n",
    "    for i in range(hp.Int('num_layers',2,23)):\n",
    "        model.add(layers.Dense(units=hp.Int('units_' + str(i),\n",
    "                                           min_value=23,\n",
    "                                           max_value=600,\n",
    "                                           step=32),\n",
    "                              activation='relu'))\n",
    "        model.add(layers.Dense(1,activation='linear'))\n",
    "        model.compile(\n",
    "            optimizer=keras.optimizers.Adam(\n",
    "                hp.Choice('learning_rate',[1e-2,1e-3,1e-4])),\n",
    "        loss='mean_absolute_error',\n",
    "        metrics=['mean_absolute_error'])\n",
    "        return model\n",
    "    \n",
    "# create a directory to store each iteration of modelling\n",
    "tuner = RandomSearch(\n",
    "        build_model,\n",
    "        objective='val_mean_absolute_error',\n",
    "        max_trials=5,\n",
    "        executions_per_trial=3,\n",
    "        directory='./../temp/ANN-tuner',\n",
    "        project_name='Milk production')\n",
    "\n",
    "# Defined parameter space to search in\n",
    "tuner.search_space_summary()\n",
    "\n",
    "# train trial models and compare with validation set\n",
    "tuner.search(xtrain_scale,ytrain_scale,epochs=50,validation_data=(xtest_scale,ytest_scale))\n",
    "\n",
    "# print best 10 models according to val_mean_absolute_error\n",
    "print('\\n')\n",
    "tuner.results_summary()\n",
    "\n",
    "# get best model from training trials\n",
    "bestANNModel = tuner.get_best_models(num_models=1)[0]\n",
    "\n",
    "# fit best model to training scaled data and scaled test data\n",
    "bestANNModel.fit(xtrain_scale,ytrain_scale,epochs=50,validation_data=(xtest_scale,ytest_scale))"
   ]
  },
  {
   "cell_type": "code",
   "execution_count": null,
   "id": "700e018e",
   "metadata": {},
   "outputs": [],
   "source": [
    "# Predict Milk Production and unscale back to original values\n",
    "y_predict = scaler_y.inverse_transform(bestANNModel.predict(xtest_scale).reshape(-1, 1))\n",
    "\n",
    "print('predicted milk production values \\n',y_predict)\n",
    "print('actual milk production values \\n',Y_test)\n",
    "\n",
    "# Calculate Mean Absolute Error\n",
    "MAE_ANN = mean_absolute_error(Y_test,y_predict)\n",
    "#print(MAE_xgb)\n",
    "\n",
    "# add model score to Score Dataframe\n",
    "df_score = pd.DataFrame(data = {'Model':['RandomForest','XGBOOST','ANN'],\n",
    "                                'Score MAE': [MAE_rf,MAE_xgb,MAE_ANN]},\n",
    "                        index=['Model 1','Model 2','Model 3'])\n",
    "\n",
    "print(df_score)"
   ]
  },
  {
   "cell_type": "markdown",
   "id": "775ccd8f",
   "metadata": {},
   "source": [
    "# Pickle file\n",
    "    Save trained model into binary pickle file to use the model later with new input data from web app"
   ]
  },
  {
   "cell_type": "code",
   "execution_count": null,
   "id": "d5572595",
   "metadata": {},
   "outputs": [],
   "source": [
    "# Dump/write Scaler into binary pickle\n",
    "pickle.dump(scaler_x,open('./../artifacts/pkl_scaler_x','wb'))\n",
    "\n",
    "# Read pickle file into variable to use scaler\n",
    "scaler_x_pkl_ann = pickle.load(open('./../artifacts/pkl_scaler_x','rb'))\n",
    "\n",
    "# Dump/write Scaler into binary pickle\n",
    "pickle.dump(scaler_y,open('./../artifacts/pkl_scaler_y','wb'))\n",
    "\n",
    "# Read pickle file into variable to use scaler\n",
    "scaler_y_pkl_ann = pickle.load(open('./../artifacts/pkl_scaler_y','rb'))"
   ]
  },
  {
   "cell_type": "code",
   "execution_count": null,
   "id": "5cda16f1",
   "metadata": {},
   "outputs": [],
   "source": [
    "\n",
    "# Dump/write model into binary pickle file in the current notebook directory\n",
    "pickle.dump(bestANNModel,open('./../artifacts/pkl_ann_milk','wb'))\n",
    "\n",
    "# Read pickle file into variable to use model\n",
    "model_pkl_ann = pickle.load(open('./../artifacts/pkl_ann_milk','rb'))\n",
    "\n",
    "\n",
    "## Example using pickle file with saved ANN model\n",
    "\n",
    "# take input from source as array\n",
    "data_input_from_webapp = np.array([ 357.3,  362.5,  172. , 1440.2, 2136.5])\n",
    "\n",
    "# scale input with same scaler as used in model\n",
    "scale_data_from_webapp = scaler_x.transform(data_input_from_webapp.reshape(1, -1))\n",
    "\n",
    "# predict scaled value\n",
    "scaled_prediction = bestANNModel.predict(scale_data_from_webapp)\n",
    "\n",
    "# descale prediction back to normal value\n",
    "prediction = scaler_y.inverse_transform(scaled_prediction)\n",
    "print('\\n Expected Milk Production is ',prediction[0][0] )"
   ]
  },
  {
   "cell_type": "markdown",
   "id": "a6147b60",
   "metadata": {},
   "source": [
    "# Next step Model Deployment"
   ]
  }
 ],
 "metadata": {
  "kernelspec": {
   "display_name": "Python 3",
   "language": "python",
   "name": "python3"
  },
  "language_info": {
   "codemirror_mode": {
    "name": "ipython",
    "version": 3
   },
   "file_extension": ".py",
   "mimetype": "text/x-python",
   "name": "python",
   "nbconvert_exporter": "python",
   "pygments_lexer": "ipython3",
   "version": "3.8.8"
  },
  "toc": {
   "base_numbering": 1,
   "nav_menu": {},
   "number_sections": false,
   "sideBar": true,
   "skip_h1_title": false,
   "title_cell": "Table of Contents",
   "title_sidebar": "Contents",
   "toc_cell": false,
   "toc_position": {
    "height": "calc(100% - 180px)",
    "left": "10px",
    "top": "150px",
    "width": "384px"
   },
   "toc_section_display": true,
   "toc_window_display": true
  }
 },
 "nbformat": 4,
 "nbformat_minor": 5
}
