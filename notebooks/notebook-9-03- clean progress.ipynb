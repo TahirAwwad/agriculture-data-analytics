{
 "cells": [
  {
   "cell_type": "code",
   "execution_count": 3,
   "id": "32ad5784",
   "metadata": {},
   "outputs": [],
   "source": [
    "import pandas as pd\n",
    "import numpy as np\n",
    "from textblob import TextBlob\n",
    "\n",
    "import spacy\n",
    "from pprint import pprint\n",
    "\n",
    "nlp = spacy.load('en_core_web_sm')\n",
    "from nltk.corpus import stopwords\n",
    "\n",
    "#from spellchecker import SpellChecke\n",
    "\n",
    "\n"
   ]
  },
  {
   "cell_type": "code",
   "execution_count": 18,
   "id": "40b7bf8b",
   "metadata": {},
   "outputs": [
    {
     "name": "stdout",
     "output_type": "stream",
     "text": [
      "test\n",
      "t\n"
     ]
    }
   ],
   "source": [
    "#loading of the csv\n",
    "df = pd.read_csv(r\"C:\\Users\\Swazy\\agriculture_ie.csv\")\n",
    "\n",
    "print('test')                 \n",
    "\n",
    "\n",
    "\n",
    "\n",
    "#Text preprocessing \n",
    "\n",
    "df[\"text\"] = df[\"text\"].str.lower()\n",
    "\n",
    "def preprocess(CleanText):\n",
    "    CleanText = CleanText.str.replace(\"(<br/>)\", \"\", regex=True)\n",
    "    CleanText = CleanText.str.replace('(<a).*(>).*(</a>)', '', regex=True)\n",
    "    CleanText = CleanText.str.replace('(&amp)', '', regex=True)\n",
    "    CleanText = CleanText.str.replace('(&gt)', '', regex=True)\n",
    "    CleanText = CleanText.str.replace('(&lt)', '',regex=True)\n",
    "    CleanText = CleanText.str.replace('(\\xa0)', ' ',regex=True)  \n",
    "    return CleanText\n",
    "\n",
    "df['text'] = preprocess(df['text'])\n",
    "\n",
    "\n",
    "#Lower Casing\n",
    "\n",
    "df[\"text\"] = df[\"text\"].str.lower()\n",
    "\n",
    "\n",
    "##loading spacy english language for spacy\n",
    "nlp = spacy.load('en_core_web_sm')\n",
    "\n",
    "#spacy function that removes unwanted words from Twitter posts\n",
    "\n",
    "def spacy_clean(panda):  \n",
    "        delete=['NUM','INTJ','CONJ','ADV','PUNCT','PART','DET','ADP','SPACE','PRON','SYM','x']\n",
    "        list = []\n",
    "        doc= nlp(panda)\n",
    "        for token in doc:\n",
    "            if token.is_stop == False and token.is_alpha and len(token)>2 and token.pos_ not in delete:\n",
    "                group = token.lemma_\n",
    "                list.append(group)\n",
    "        return list\n",
    "\n",
    "df['clean_text']=df['text'].apply(lambda x:spacy_clean(x))\n",
    "\n",
    "#df['clean_text'] = [' '.join(map(str, l)) for l in df['text']]\n",
    "\n",
    "\n",
    "\n",
    "df = df.dropna()\n",
    "\n",
    "#changing tokens into strings\n",
    "\n",
    "\n",
    "print('t')\n",
    "\n",
    "#processed file save\n",
    "df.to_csv(\"C:/Users/Swazy/agriculture_ie_clean.csv\")"
   ]
  },
  {
   "cell_type": "code",
   "execution_count": null,
   "id": "221b0901",
   "metadata": {},
   "outputs": [],
   "source": []
  }
 ],
 "metadata": {
  "kernelspec": {
   "display_name": "Python 3 (ipykernel)",
   "language": "python",
   "name": "python3"
  },
  "language_info": {
   "codemirror_mode": {
    "name": "ipython",
    "version": 3
   },
   "file_extension": ".py",
   "mimetype": "text/x-python",
   "name": "python",
   "nbconvert_exporter": "python",
   "pygments_lexer": "ipython3",
   "version": "3.8.12"
  },
  "toc": {
   "base_numbering": 1,
   "nav_menu": {},
   "number_sections": false,
   "sideBar": true,
   "skip_h1_title": false,
   "title_cell": "Table of Contents",
   "title_sidebar": "Contents",
   "toc_cell": false,
   "toc_position": {},
   "toc_section_display": true,
   "toc_window_display": false
  }
 },
 "nbformat": 4,
 "nbformat_minor": 5
}
