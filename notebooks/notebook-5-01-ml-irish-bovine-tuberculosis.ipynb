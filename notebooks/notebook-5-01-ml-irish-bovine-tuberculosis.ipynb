{
 "cells": [
  {
   "cell_type": "markdown",
   "id": "e73f5217",
   "metadata": {},
   "source": [
    "<style>\n",
    "*\n",
    "{\n",
    "\ttext-align: justify;\n",
    "\tline-height: 1.5;\n",
    "\tfont-family: \"Arial\", sans-serif;\n",
    "\tfont-size: 12px;\n",
    "}\n",
    "\n",
    "h2, h3, h4, h5, h6\n",
    "{\n",
    "\tfont-family: \"Arial\", sans-serif;\n",
    "\tfont-size: 12px;\n",
    "\tfont-weight: bold;\n",
    "}\n",
    "h2\n",
    "{\n",
    "\tfont-size: 14px;\n",
    "}\n",
    "h1\n",
    "{\n",
    "\tfont-family: \"Wingdings\", sans-serif;\n",
    "\tfont-size: 16px;\n",
    "}\n",
    "</style>"
   ]
  },
  {
   "cell_type": "markdown",
   "id": "bad5aeea",
   "metadata": {},
   "source": [
    "## Bovine Tuberculosis Herd Rate Prediction Model Builder"
   ]
  },
  {
   "cell_type": "markdown",
   "id": "12a36702",
   "metadata": {},
   "source": [
    "<!--\n",
    "import data_analytics.github as github\n",
    "print(github.create_jupyter_notebook_header(\"tahirawwad\", \"agriculture-data-analytics\", \"notebooks/notebook-5-01-ml-irish-bovine-tuberculosis.ipynb\", \"master\"))\n",
    "-->\n",
    "<table style=\"margin: auto;\"><tr><td><a href=\"https://mybinder.org/v2/gh/tahirawwad/agriculture-data-analytics/master?filepath=notebooks/notebook-5-01-ml-irish-bovine-tuberculosis.ipynb\" target=\"_parent\"><img src=\"https://mybinder.org/badge_logo.svg\" alt=\"Open In Binder\"/></a></td><td>online editors</td><td><a href=\"https://colab.research.google.com/github/tahirawwad/agriculture-data-analytics/blob/master/notebooks/notebook-5-01-ml-irish-bovine-tuberculosis.ipynbynb\" target=\"_parent\"><img src=\"https://colab.research.google.com/assets/colab-badge.svg\" alt=\"Open In Colab\"/></a></td></tr></table>"
   ]
  },
  {
   "cell_type": "markdown",
   "id": "92ac96b5",
   "metadata": {},
   "source": [
    "### Objective\n",
    "Create a machine learning model to predict rate of Herd Tuberculosis."
   ]
  },
  {
   "cell_type": "markdown",
   "id": "55902df1",
   "metadata": {},
   "source": [
    "### Setup"
   ]
  },
  {
   "cell_type": "markdown",
   "id": "c1d65b56",
   "metadata": {},
   "source": [
    "Import required third party Python libraries, import supporting functions and sets up data source file paths."
   ]
  },
  {
   "cell_type": "code",
   "execution_count": 1,
   "id": "cae9ae61",
   "metadata": {
    "ExecuteTime": {
     "end_time": "2022-01-29T04:43:24.178299Z",
     "start_time": "2022-01-29T04:43:24.166294Z"
    }
   },
   "outputs": [],
   "source": [
    "# Local\n",
    "#!pip install -r script/requirements.txt\n",
    "# Remote option\n",
    "#!pip install -r https://raw.githubusercontent.com/tahirawwad/agriculture-data-analytics/requirements.txt\n",
    "#Options: --quiet --user"
   ]
  },
  {
   "cell_type": "code",
   "execution_count": 2,
   "id": "02c4ce3f",
   "metadata": {
    "ExecuteTime": {
     "end_time": "2022-01-29T04:43:40.352100Z",
     "start_time": "2022-01-29T04:43:24.181293Z"
    }
   },
   "outputs": [],
   "source": [
    "from agriculture_data_analytics.project_manager import *\n",
    "from agriculture_data_analytics.dataframe_labels import *\n",
    "from keras_tuner.tuners import RandomSearch\n",
    "from pandas import read_csv, DataFrame\n",
    "from sklearn.ensemble import RandomForestRegressor\n",
    "from sklearn.impute import SimpleImputer\n",
    "from sklearn.metrics import mean_absolute_error\n",
    "from sklearn.model_selection import GridSearchCV\n",
    "from sklearn.model_selection import train_test_split\n",
    "from sklearn.preprocessing import MinMaxScaler\n",
    "from tensorflow import keras\n",
    "from tensorflow.keras import layers\n",
    "from xgboost import XGBRegressor\n",
    "from data_analytics import github\n",
    "import numpy as np\n",
    "import os\n",
    "import pandas\n",
    "import pickle\n",
    "import shutil"
   ]
  },
  {
   "cell_type": "code",
   "execution_count": 3,
   "id": "3ef32f49",
   "metadata": {
    "ExecuteTime": {
     "end_time": "2022-01-29T04:43:40.377897Z",
     "start_time": "2022-01-29T04:43:40.356140Z"
    }
   },
   "outputs": [],
   "source": [
    "pandas.options.display.float_format = '{:.5f}'.format"
   ]
  },
  {
   "cell_type": "code",
   "execution_count": 4,
   "id": "3e30b6c5",
   "metadata": {
    "ExecuteTime": {
     "end_time": "2022-01-29T04:43:40.393799Z",
     "start_time": "2022-01-29T04:43:40.382803Z"
    }
   },
   "outputs": [],
   "source": [
    "READ_BINARY = \"rb\"\n",
    "WRITE_BINARY = \"wb\""
   ]
  },
  {
   "cell_type": "code",
   "execution_count": 5,
   "id": "e13d9ab8",
   "metadata": {
    "ExecuteTime": {
     "end_time": "2022-01-29T04:43:40.409797Z",
     "start_time": "2022-01-29T04:43:40.400801Z"
    }
   },
   "outputs": [],
   "source": [
    "model_directory: str = \"county-bovine-tb-models\"\n",
    "directory: str = f'./../artifacts/{model_directory}/'"
   ]
  },
  {
   "cell_type": "code",
   "execution_count": 6,
   "id": "7108fa0b",
   "metadata": {
    "ExecuteTime": {
     "end_time": "2022-01-29T04:43:40.441800Z",
     "start_time": "2022-01-29T04:43:40.413800Z"
    }
   },
   "outputs": [
    {
     "data": {
      "text/html": [
       "<strong>Data Sources</strong>"
      ],
      "text/plain": [
       "<IPython.core.display.HTML object>"
      ]
     },
     "metadata": {},
     "output_type": "display_data"
    },
    {
     "data": {
      "text/html": [
       "<p>Data Sources available at</p>"
      ],
      "text/plain": [
       "<IPython.core.display.HTML object>"
      ]
     },
     "metadata": {},
     "output_type": "display_data"
    },
    {
     "name": "stdout",
     "output_type": "stream",
     "text": [
      "https://github.com/markcrowe-com/agriculture-data-analytics/artifacts/county-bovine-tuberculosis-eda-output.csv?raw=true\n"
     ]
    }
   ],
   "source": [
    "artifact_manager: ProjectArtifactManager = ProjectArtifactManager()\n",
    "artifact_manager.is_remote = True\n",
    "github.display_jupyter_notebook_data_sources(\n",
    "    [artifact_manager.get_county_bovine_tuberculosis_eda_filepath()])\n",
    "artifact_manager.is_remote = False"
   ]
  },
  {
   "cell_type": "markdown",
   "id": "39543089",
   "metadata": {},
   "source": [
    "### Load dataframe"
   ]
  },
  {
   "cell_type": "code",
   "execution_count": 7,
   "id": "99092f99",
   "metadata": {
    "ExecuteTime": {
     "end_time": "2022-01-29T04:43:40.473801Z",
     "start_time": "2022-01-29T04:43:40.444797Z"
    }
   },
   "outputs": [],
   "source": [
    "dataframe_filepath: str = artifact_manager.get_county_bovine_tuberculosis_eda_filepath()\n",
    "dataframe: DataFrame = read_csv(dataframe_filepath)"
   ]
  },
  {
   "cell_type": "code",
   "execution_count": 8,
   "id": "412ca78f",
   "metadata": {
    "ExecuteTime": {
     "end_time": "2022-01-29T04:43:40.489799Z",
     "start_time": "2022-01-29T04:43:40.477800Z"
    }
   },
   "outputs": [
    {
     "name": "stdout",
     "output_type": "stream",
     "text": [
      "Row, Column Count: (319, 11)\n"
     ]
    }
   ],
   "source": [
    "print(\"Row, Column Count:\", dataframe.shape)"
   ]
  },
  {
   "cell_type": "code",
   "execution_count": 9,
   "id": "dea845ed",
   "metadata": {
    "ExecuteTime": {
     "end_time": "2022-01-29T04:43:40.547263Z",
     "start_time": "2022-01-29T04:43:40.497800Z"
    }
   },
   "outputs": [
    {
     "data": {
      "text/html": [
       "<div>\n",
       "<style scoped>\n",
       "    .dataframe tbody tr th:only-of-type {\n",
       "        vertical-align: middle;\n",
       "    }\n",
       "\n",
       "    .dataframe tbody tr th {\n",
       "        vertical-align: top;\n",
       "    }\n",
       "\n",
       "    .dataframe thead th {\n",
       "        text-align: right;\n",
       "    }\n",
       "</style>\n",
       "<table border=\"1\" class=\"dataframe\">\n",
       "  <thead>\n",
       "    <tr style=\"text-align: right;\">\n",
       "      <th></th>\n",
       "      <th>Year</th>\n",
       "      <th>Veterinary Office</th>\n",
       "      <th>Animal Count</th>\n",
       "      <th>Herd Incidence Rate</th>\n",
       "      <th>Restricted Herds at end of Year</th>\n",
       "      <th>Restricted Herds at start of Year</th>\n",
       "      <th>Herds Tested</th>\n",
       "      <th>Herds Count</th>\n",
       "      <th>Reactors per 1000 Tests A.P.T.</th>\n",
       "      <th>Reactors to date</th>\n",
       "      <th>Tests on Animals</th>\n",
       "    </tr>\n",
       "  </thead>\n",
       "  <tbody>\n",
       "    <tr>\n",
       "      <th>0</th>\n",
       "      <td>2010</td>\n",
       "      <td>Carlow</td>\n",
       "      <td>86258.00000</td>\n",
       "      <td>4.02000</td>\n",
       "      <td>28.00000</td>\n",
       "      <td>52.00000</td>\n",
       "      <td>1295.00000</td>\n",
       "      <td>1353.00000</td>\n",
       "      <td>1.14000</td>\n",
       "      <td>124.00000</td>\n",
       "      <td>108584.00000</td>\n",
       "    </tr>\n",
       "    <tr>\n",
       "      <th>1</th>\n",
       "      <td>2010</td>\n",
       "      <td>Cavan</td>\n",
       "      <td>202119.00000</td>\n",
       "      <td>5.32000</td>\n",
       "      <td>124.00000</td>\n",
       "      <td>257.00000</td>\n",
       "      <td>4832.00000</td>\n",
       "      <td>4915.00000</td>\n",
       "      <td>3.13000</td>\n",
       "      <td>981.00000</td>\n",
       "      <td>313822.00000</td>\n",
       "    </tr>\n",
       "    <tr>\n",
       "      <th>2</th>\n",
       "      <td>2010</td>\n",
       "      <td>Clare</td>\n",
       "      <td>237260.00000</td>\n",
       "      <td>5.71000</td>\n",
       "      <td>175.00000</td>\n",
       "      <td>350.00000</td>\n",
       "      <td>6134.00000</td>\n",
       "      <td>6282.00000</td>\n",
       "      <td>5.05000</td>\n",
       "      <td>1947.00000</td>\n",
       "      <td>385705.00000</td>\n",
       "    </tr>\n",
       "    <tr>\n",
       "      <th>3</th>\n",
       "      <td>2010</td>\n",
       "      <td>Cork North</td>\n",
       "      <td>462707.00000</td>\n",
       "      <td>4.43000</td>\n",
       "      <td>119.00000</td>\n",
       "      <td>259.00000</td>\n",
       "      <td>5849.00000</td>\n",
       "      <td>5986.00000</td>\n",
       "      <td>1.62000</td>\n",
       "      <td>1078.00000</td>\n",
       "      <td>664648.00000</td>\n",
       "    </tr>\n",
       "    <tr>\n",
       "      <th>4</th>\n",
       "      <td>2010</td>\n",
       "      <td>Cork South</td>\n",
       "      <td>417478.00000</td>\n",
       "      <td>6.30000</td>\n",
       "      <td>216.00000</td>\n",
       "      <td>385.00000</td>\n",
       "      <td>6107.00000</td>\n",
       "      <td>6310.00000</td>\n",
       "      <td>2.72000</td>\n",
       "      <td>1592.00000</td>\n",
       "      <td>586105.00000</td>\n",
       "    </tr>\n",
       "    <tr>\n",
       "      <th>...</th>\n",
       "      <td>...</td>\n",
       "      <td>...</td>\n",
       "      <td>...</td>\n",
       "      <td>...</td>\n",
       "      <td>...</td>\n",
       "      <td>...</td>\n",
       "      <td>...</td>\n",
       "      <td>...</td>\n",
       "      <td>...</td>\n",
       "      <td>...</td>\n",
       "      <td>...</td>\n",
       "    </tr>\n",
       "    <tr>\n",
       "      <th>314</th>\n",
       "      <td>2020</td>\n",
       "      <td>Waterford</td>\n",
       "      <td>272528.00000</td>\n",
       "      <td>2.62000</td>\n",
       "      <td>42.00000</td>\n",
       "      <td>56.00000</td>\n",
       "      <td>2141.00000</td>\n",
       "      <td>2189.00000</td>\n",
       "      <td>0.52000</td>\n",
       "      <td>196.00000</td>\n",
       "      <td>287221.00000</td>\n",
       "    </tr>\n",
       "    <tr>\n",
       "      <th>315</th>\n",
       "      <td>2020</td>\n",
       "      <td>Westmeath</td>\n",
       "      <td>214210.00000</td>\n",
       "      <td>6.77000</td>\n",
       "      <td>115.00000</td>\n",
       "      <td>203.00000</td>\n",
       "      <td>2998.00000</td>\n",
       "      <td>3047.00000</td>\n",
       "      <td>3.26000</td>\n",
       "      <td>1192.00000</td>\n",
       "      <td>304207.00000</td>\n",
       "    </tr>\n",
       "    <tr>\n",
       "      <th>316</th>\n",
       "      <td>2020</td>\n",
       "      <td>Wexford</td>\n",
       "      <td>310311.00000</td>\n",
       "      <td>4.54000</td>\n",
       "      <td>63.00000</td>\n",
       "      <td>137.00000</td>\n",
       "      <td>3016.00000</td>\n",
       "      <td>3088.00000</td>\n",
       "      <td>1.48000</td>\n",
       "      <td>701.00000</td>\n",
       "      <td>366765.00000</td>\n",
       "    </tr>\n",
       "    <tr>\n",
       "      <th>317</th>\n",
       "      <td>2020</td>\n",
       "      <td>Wicklow E</td>\n",
       "      <td>80707.00000</td>\n",
       "      <td>9.11000</td>\n",
       "      <td>47.00000</td>\n",
       "      <td>96.00000</td>\n",
       "      <td>1054.00000</td>\n",
       "      <td>1070.00000</td>\n",
       "      <td>3.85000</td>\n",
       "      <td>648.00000</td>\n",
       "      <td>131187.00000</td>\n",
       "    </tr>\n",
       "    <tr>\n",
       "      <th>318</th>\n",
       "      <td>2020</td>\n",
       "      <td>Wicklow W</td>\n",
       "      <td>44743.00000</td>\n",
       "      <td>14.46000</td>\n",
       "      <td>46.00000</td>\n",
       "      <td>73.00000</td>\n",
       "      <td>505.00000</td>\n",
       "      <td>513.00000</td>\n",
       "      <td>5.54000</td>\n",
       "      <td>576.00000</td>\n",
       "      <td>76298.00000</td>\n",
       "    </tr>\n",
       "  </tbody>\n",
       "</table>\n",
       "<p>319 rows × 11 columns</p>\n",
       "</div>"
      ],
      "text/plain": [
       "     Year Veterinary Office  Animal Count  Herd Incidence Rate  \\\n",
       "0    2010            Carlow   86258.00000              4.02000   \n",
       "1    2010             Cavan  202119.00000              5.32000   \n",
       "2    2010             Clare  237260.00000              5.71000   \n",
       "3    2010        Cork North  462707.00000              4.43000   \n",
       "4    2010        Cork South  417478.00000              6.30000   \n",
       "..    ...               ...           ...                  ...   \n",
       "314  2020         Waterford  272528.00000              2.62000   \n",
       "315  2020         Westmeath  214210.00000              6.77000   \n",
       "316  2020           Wexford  310311.00000              4.54000   \n",
       "317  2020         Wicklow E   80707.00000              9.11000   \n",
       "318  2020         Wicklow W   44743.00000             14.46000   \n",
       "\n",
       "     Restricted Herds at end of Year  Restricted Herds at start of Year  \\\n",
       "0                           28.00000                           52.00000   \n",
       "1                          124.00000                          257.00000   \n",
       "2                          175.00000                          350.00000   \n",
       "3                          119.00000                          259.00000   \n",
       "4                          216.00000                          385.00000   \n",
       "..                               ...                                ...   \n",
       "314                         42.00000                           56.00000   \n",
       "315                        115.00000                          203.00000   \n",
       "316                         63.00000                          137.00000   \n",
       "317                         47.00000                           96.00000   \n",
       "318                         46.00000                           73.00000   \n",
       "\n",
       "     Herds Tested  Herds Count  Reactors per 1000 Tests A.P.T.  \\\n",
       "0      1295.00000   1353.00000                         1.14000   \n",
       "1      4832.00000   4915.00000                         3.13000   \n",
       "2      6134.00000   6282.00000                         5.05000   \n",
       "3      5849.00000   5986.00000                         1.62000   \n",
       "4      6107.00000   6310.00000                         2.72000   \n",
       "..            ...          ...                             ...   \n",
       "314    2141.00000   2189.00000                         0.52000   \n",
       "315    2998.00000   3047.00000                         3.26000   \n",
       "316    3016.00000   3088.00000                         1.48000   \n",
       "317    1054.00000   1070.00000                         3.85000   \n",
       "318     505.00000    513.00000                         5.54000   \n",
       "\n",
       "     Reactors to date  Tests on Animals  \n",
       "0           124.00000      108584.00000  \n",
       "1           981.00000      313822.00000  \n",
       "2          1947.00000      385705.00000  \n",
       "3          1078.00000      664648.00000  \n",
       "4          1592.00000      586105.00000  \n",
       "..                ...               ...  \n",
       "314         196.00000      287221.00000  \n",
       "315        1192.00000      304207.00000  \n",
       "316         701.00000      366765.00000  \n",
       "317         648.00000      131187.00000  \n",
       "318         576.00000       76298.00000  \n",
       "\n",
       "[319 rows x 11 columns]"
      ]
     },
     "execution_count": 9,
     "metadata": {},
     "output_type": "execute_result"
    }
   ],
   "source": [
    "dataframe"
   ]
  },
  {
   "cell_type": "markdown",
   "id": "84a29dbf",
   "metadata": {},
   "source": [
    "### Check the types for machine learning"
   ]
  },
  {
   "cell_type": "code",
   "execution_count": 10,
   "id": "57264e26",
   "metadata": {
    "ExecuteTime": {
     "end_time": "2022-01-29T04:43:40.578265Z",
     "start_time": "2022-01-29T04:43:40.551266Z"
    }
   },
   "outputs": [
    {
     "data": {
      "text/plain": [
       "Year                                   int64\n",
       "Veterinary Office                     object\n",
       "Animal Count                         float64\n",
       "Herd Incidence Rate                  float64\n",
       "Restricted Herds at end of Year      float64\n",
       "Restricted Herds at start of Year    float64\n",
       "Herds Tested                         float64\n",
       "Herds Count                          float64\n",
       "Reactors per 1000 Tests A.P.T.       float64\n",
       "Reactors to date                     float64\n",
       "Tests on Animals                     float64\n",
       "dtype: object"
      ]
     },
     "execution_count": 10,
     "metadata": {},
     "output_type": "execute_result"
    }
   ],
   "source": [
    "dataframe.dtypes"
   ]
  },
  {
   "cell_type": "markdown",
   "id": "37a1cdb4",
   "metadata": {},
   "source": [
    "Veterinary Office is an object, specifically a string. We must encode it as a number for machine learning."
   ]
  },
  {
   "cell_type": "code",
   "execution_count": 11,
   "id": "41dc29a4",
   "metadata": {
    "ExecuteTime": {
     "end_time": "2022-01-29T04:43:40.609499Z",
     "start_time": "2022-01-29T04:43:40.581498Z"
    }
   },
   "outputs": [],
   "source": [
    "dummy_values_dataframe = dataframe[[\n",
    "    \"Veterinary Office\"\n",
    "]]\n",
    "\n",
    "dataframe.drop('Veterinary Office',\n",
    "                                          axis=1,\n",
    "                                          inplace=True)\n",
    "\n",
    "dummy_values_dataframe = pandas.get_dummies(dummy_values_dataframe,\n",
    "                                            columns=[\"Veterinary Office\"],\n",
    "                                            prefix=[\"Veterinary Office \"])"
   ]
  },
  {
   "cell_type": "code",
   "execution_count": 12,
   "id": "64b5477f",
   "metadata": {
    "ExecuteTime": {
     "end_time": "2022-01-29T04:43:40.625501Z",
     "start_time": "2022-01-29T04:43:40.613499Z"
    }
   },
   "outputs": [],
   "source": [
    "dataframe = dataframe.join(dummy_values_dataframe)"
   ]
  },
  {
   "cell_type": "markdown",
   "id": "e86689fb",
   "metadata": {},
   "source": [
    "### Set Year as Index"
   ]
  },
  {
   "cell_type": "code",
   "execution_count": 13,
   "id": "fc1fa183",
   "metadata": {
    "ExecuteTime": {
     "end_time": "2022-01-29T04:43:40.671497Z",
     "start_time": "2022-01-29T04:43:40.628502Z"
    }
   },
   "outputs": [
    {
     "data": {
      "text/html": [
       "<div>\n",
       "<style scoped>\n",
       "    .dataframe tbody tr th:only-of-type {\n",
       "        vertical-align: middle;\n",
       "    }\n",
       "\n",
       "    .dataframe tbody tr th {\n",
       "        vertical-align: top;\n",
       "    }\n",
       "\n",
       "    .dataframe thead th {\n",
       "        text-align: right;\n",
       "    }\n",
       "</style>\n",
       "<table border=\"1\" class=\"dataframe\">\n",
       "  <thead>\n",
       "    <tr style=\"text-align: right;\">\n",
       "      <th></th>\n",
       "      <th>Animal Count</th>\n",
       "      <th>Herd Incidence Rate</th>\n",
       "      <th>Restricted Herds at end of Year</th>\n",
       "      <th>Restricted Herds at start of Year</th>\n",
       "      <th>Herds Tested</th>\n",
       "      <th>Herds Count</th>\n",
       "      <th>Reactors per 1000 Tests A.P.T.</th>\n",
       "      <th>Reactors to date</th>\n",
       "      <th>Tests on Animals</th>\n",
       "      <th>Veterinary Office _Carlow</th>\n",
       "      <th>...</th>\n",
       "      <th>Veterinary Office _Offaly</th>\n",
       "      <th>Veterinary Office _Roscommon</th>\n",
       "      <th>Veterinary Office _Sligo</th>\n",
       "      <th>Veterinary Office _Tipperary North</th>\n",
       "      <th>Veterinary Office _Tipperary South</th>\n",
       "      <th>Veterinary Office _Waterford</th>\n",
       "      <th>Veterinary Office _Westmeath</th>\n",
       "      <th>Veterinary Office _Wexford</th>\n",
       "      <th>Veterinary Office _Wicklow E</th>\n",
       "      <th>Veterinary Office _Wicklow W</th>\n",
       "    </tr>\n",
       "    <tr>\n",
       "      <th>Year</th>\n",
       "      <th></th>\n",
       "      <th></th>\n",
       "      <th></th>\n",
       "      <th></th>\n",
       "      <th></th>\n",
       "      <th></th>\n",
       "      <th></th>\n",
       "      <th></th>\n",
       "      <th></th>\n",
       "      <th></th>\n",
       "      <th></th>\n",
       "      <th></th>\n",
       "      <th></th>\n",
       "      <th></th>\n",
       "      <th></th>\n",
       "      <th></th>\n",
       "      <th></th>\n",
       "      <th></th>\n",
       "      <th></th>\n",
       "      <th></th>\n",
       "      <th></th>\n",
       "    </tr>\n",
       "  </thead>\n",
       "  <tbody>\n",
       "    <tr>\n",
       "      <th>2010</th>\n",
       "      <td>86258.00000</td>\n",
       "      <td>4.02000</td>\n",
       "      <td>28.00000</td>\n",
       "      <td>52.00000</td>\n",
       "      <td>1295.00000</td>\n",
       "      <td>1353.00000</td>\n",
       "      <td>1.14000</td>\n",
       "      <td>124.00000</td>\n",
       "      <td>108584.00000</td>\n",
       "      <td>1</td>\n",
       "      <td>...</td>\n",
       "      <td>0</td>\n",
       "      <td>0</td>\n",
       "      <td>0</td>\n",
       "      <td>0</td>\n",
       "      <td>0</td>\n",
       "      <td>0</td>\n",
       "      <td>0</td>\n",
       "      <td>0</td>\n",
       "      <td>0</td>\n",
       "      <td>0</td>\n",
       "    </tr>\n",
       "    <tr>\n",
       "      <th>2010</th>\n",
       "      <td>202119.00000</td>\n",
       "      <td>5.32000</td>\n",
       "      <td>124.00000</td>\n",
       "      <td>257.00000</td>\n",
       "      <td>4832.00000</td>\n",
       "      <td>4915.00000</td>\n",
       "      <td>3.13000</td>\n",
       "      <td>981.00000</td>\n",
       "      <td>313822.00000</td>\n",
       "      <td>0</td>\n",
       "      <td>...</td>\n",
       "      <td>0</td>\n",
       "      <td>0</td>\n",
       "      <td>0</td>\n",
       "      <td>0</td>\n",
       "      <td>0</td>\n",
       "      <td>0</td>\n",
       "      <td>0</td>\n",
       "      <td>0</td>\n",
       "      <td>0</td>\n",
       "      <td>0</td>\n",
       "    </tr>\n",
       "    <tr>\n",
       "      <th>2010</th>\n",
       "      <td>237260.00000</td>\n",
       "      <td>5.71000</td>\n",
       "      <td>175.00000</td>\n",
       "      <td>350.00000</td>\n",
       "      <td>6134.00000</td>\n",
       "      <td>6282.00000</td>\n",
       "      <td>5.05000</td>\n",
       "      <td>1947.00000</td>\n",
       "      <td>385705.00000</td>\n",
       "      <td>0</td>\n",
       "      <td>...</td>\n",
       "      <td>0</td>\n",
       "      <td>0</td>\n",
       "      <td>0</td>\n",
       "      <td>0</td>\n",
       "      <td>0</td>\n",
       "      <td>0</td>\n",
       "      <td>0</td>\n",
       "      <td>0</td>\n",
       "      <td>0</td>\n",
       "      <td>0</td>\n",
       "    </tr>\n",
       "    <tr>\n",
       "      <th>2010</th>\n",
       "      <td>462707.00000</td>\n",
       "      <td>4.43000</td>\n",
       "      <td>119.00000</td>\n",
       "      <td>259.00000</td>\n",
       "      <td>5849.00000</td>\n",
       "      <td>5986.00000</td>\n",
       "      <td>1.62000</td>\n",
       "      <td>1078.00000</td>\n",
       "      <td>664648.00000</td>\n",
       "      <td>0</td>\n",
       "      <td>...</td>\n",
       "      <td>0</td>\n",
       "      <td>0</td>\n",
       "      <td>0</td>\n",
       "      <td>0</td>\n",
       "      <td>0</td>\n",
       "      <td>0</td>\n",
       "      <td>0</td>\n",
       "      <td>0</td>\n",
       "      <td>0</td>\n",
       "      <td>0</td>\n",
       "    </tr>\n",
       "    <tr>\n",
       "      <th>2010</th>\n",
       "      <td>417478.00000</td>\n",
       "      <td>6.30000</td>\n",
       "      <td>216.00000</td>\n",
       "      <td>385.00000</td>\n",
       "      <td>6107.00000</td>\n",
       "      <td>6310.00000</td>\n",
       "      <td>2.72000</td>\n",
       "      <td>1592.00000</td>\n",
       "      <td>586105.00000</td>\n",
       "      <td>0</td>\n",
       "      <td>...</td>\n",
       "      <td>0</td>\n",
       "      <td>0</td>\n",
       "      <td>0</td>\n",
       "      <td>0</td>\n",
       "      <td>0</td>\n",
       "      <td>0</td>\n",
       "      <td>0</td>\n",
       "      <td>0</td>\n",
       "      <td>0</td>\n",
       "      <td>0</td>\n",
       "    </tr>\n",
       "  </tbody>\n",
       "</table>\n",
       "<p>5 rows × 38 columns</p>\n",
       "</div>"
      ],
      "text/plain": [
       "      Animal Count  Herd Incidence Rate  Restricted Herds at end of Year  \\\n",
       "Year                                                                       \n",
       "2010   86258.00000              4.02000                         28.00000   \n",
       "2010  202119.00000              5.32000                        124.00000   \n",
       "2010  237260.00000              5.71000                        175.00000   \n",
       "2010  462707.00000              4.43000                        119.00000   \n",
       "2010  417478.00000              6.30000                        216.00000   \n",
       "\n",
       "      Restricted Herds at start of Year  Herds Tested  Herds Count  \\\n",
       "Year                                                                 \n",
       "2010                           52.00000    1295.00000   1353.00000   \n",
       "2010                          257.00000    4832.00000   4915.00000   \n",
       "2010                          350.00000    6134.00000   6282.00000   \n",
       "2010                          259.00000    5849.00000   5986.00000   \n",
       "2010                          385.00000    6107.00000   6310.00000   \n",
       "\n",
       "      Reactors per 1000 Tests A.P.T.  Reactors to date  Tests on Animals  \\\n",
       "Year                                                                       \n",
       "2010                         1.14000         124.00000      108584.00000   \n",
       "2010                         3.13000         981.00000      313822.00000   \n",
       "2010                         5.05000        1947.00000      385705.00000   \n",
       "2010                         1.62000        1078.00000      664648.00000   \n",
       "2010                         2.72000        1592.00000      586105.00000   \n",
       "\n",
       "      Veterinary Office _Carlow  ...  Veterinary Office _Offaly  \\\n",
       "Year                             ...                              \n",
       "2010                          1  ...                          0   \n",
       "2010                          0  ...                          0   \n",
       "2010                          0  ...                          0   \n",
       "2010                          0  ...                          0   \n",
       "2010                          0  ...                          0   \n",
       "\n",
       "      Veterinary Office _Roscommon  Veterinary Office _Sligo  \\\n",
       "Year                                                           \n",
       "2010                             0                         0   \n",
       "2010                             0                         0   \n",
       "2010                             0                         0   \n",
       "2010                             0                         0   \n",
       "2010                             0                         0   \n",
       "\n",
       "      Veterinary Office _Tipperary North  Veterinary Office _Tipperary South  \\\n",
       "Year                                                                           \n",
       "2010                                   0                                   0   \n",
       "2010                                   0                                   0   \n",
       "2010                                   0                                   0   \n",
       "2010                                   0                                   0   \n",
       "2010                                   0                                   0   \n",
       "\n",
       "      Veterinary Office _Waterford  Veterinary Office _Westmeath  \\\n",
       "Year                                                               \n",
       "2010                             0                             0   \n",
       "2010                             0                             0   \n",
       "2010                             0                             0   \n",
       "2010                             0                             0   \n",
       "2010                             0                             0   \n",
       "\n",
       "      Veterinary Office _Wexford  Veterinary Office _Wicklow E  \\\n",
       "Year                                                             \n",
       "2010                           0                             0   \n",
       "2010                           0                             0   \n",
       "2010                           0                             0   \n",
       "2010                           0                             0   \n",
       "2010                           0                             0   \n",
       "\n",
       "      Veterinary Office _Wicklow W  \n",
       "Year                                \n",
       "2010                             0  \n",
       "2010                             0  \n",
       "2010                             0  \n",
       "2010                             0  \n",
       "2010                             0  \n",
       "\n",
       "[5 rows x 38 columns]"
      ]
     },
     "execution_count": 13,
     "metadata": {},
     "output_type": "execute_result"
    }
   ],
   "source": [
    "dataframe.set_index(YEAR, drop=True, inplace=True)\n",
    "dataframe.head()"
   ]
  },
  {
   "cell_type": "code",
   "execution_count": 14,
   "id": "a096f328",
   "metadata": {
    "ExecuteTime": {
     "end_time": "2022-01-29T04:43:40.686499Z",
     "start_time": "2022-01-29T04:43:40.674499Z"
    }
   },
   "outputs": [
    {
     "data": {
      "text/plain": [
       "Animal Count                          float64\n",
       "Herd Incidence Rate                   float64\n",
       "Restricted Herds at end of Year       float64\n",
       "Restricted Herds at start of Year     float64\n",
       "Herds Tested                          float64\n",
       "Herds Count                           float64\n",
       "Reactors per 1000 Tests A.P.T.        float64\n",
       "Reactors to date                      float64\n",
       "Tests on Animals                      float64\n",
       "Veterinary Office _Carlow               uint8\n",
       "Veterinary Office _Cavan                uint8\n",
       "Veterinary Office _Clare                uint8\n",
       "Veterinary Office _Cork North           uint8\n",
       "Veterinary Office _Cork South           uint8\n",
       "Veterinary Office _Donegal              uint8\n",
       "Veterinary Office _Dublin               uint8\n",
       "Veterinary Office _Galway               uint8\n",
       "Veterinary Office _Kerry                uint8\n",
       "Veterinary Office _Kildare              uint8\n",
       "Veterinary Office _Kilkenny             uint8\n",
       "Veterinary Office _Laois                uint8\n",
       "Veterinary Office _Leitrim              uint8\n",
       "Veterinary Office _Limerick             uint8\n",
       "Veterinary Office _Longford             uint8\n",
       "Veterinary Office _Louth                uint8\n",
       "Veterinary Office _Mayo                 uint8\n",
       "Veterinary Office _Meath                uint8\n",
       "Veterinary Office _Monaghan             uint8\n",
       "Veterinary Office _Offaly               uint8\n",
       "Veterinary Office _Roscommon            uint8\n",
       "Veterinary Office _Sligo                uint8\n",
       "Veterinary Office _Tipperary North      uint8\n",
       "Veterinary Office _Tipperary South      uint8\n",
       "Veterinary Office _Waterford            uint8\n",
       "Veterinary Office _Westmeath            uint8\n",
       "Veterinary Office _Wexford              uint8\n",
       "Veterinary Office _Wicklow E            uint8\n",
       "Veterinary Office _Wicklow W            uint8\n",
       "dtype: object"
      ]
     },
     "execution_count": 14,
     "metadata": {},
     "output_type": "execute_result"
    }
   ],
   "source": [
    "dataframe.dtypes"
   ]
  },
  {
   "cell_type": "code",
   "execution_count": 15,
   "id": "a521da17",
   "metadata": {
    "ExecuteTime": {
     "end_time": "2022-01-29T04:43:40.718501Z",
     "start_time": "2022-01-29T04:43:40.689499Z"
    }
   },
   "outputs": [
    {
     "data": {
      "text/plain": [
       "Animal Count                          0\n",
       "Herd Incidence Rate                   0\n",
       "Restricted Herds at end of Year       0\n",
       "Restricted Herds at start of Year     0\n",
       "Herds Tested                          0\n",
       "Herds Count                           0\n",
       "Reactors per 1000 Tests A.P.T.        0\n",
       "Reactors to date                      0\n",
       "Tests on Animals                      0\n",
       "Veterinary Office _Carlow             0\n",
       "Veterinary Office _Cavan              0\n",
       "Veterinary Office _Clare              0\n",
       "Veterinary Office _Cork North         0\n",
       "Veterinary Office _Cork South         0\n",
       "Veterinary Office _Donegal            0\n",
       "Veterinary Office _Dublin             0\n",
       "Veterinary Office _Galway             0\n",
       "Veterinary Office _Kerry              0\n",
       "Veterinary Office _Kildare            0\n",
       "Veterinary Office _Kilkenny           0\n",
       "Veterinary Office _Laois              0\n",
       "Veterinary Office _Leitrim            0\n",
       "Veterinary Office _Limerick           0\n",
       "Veterinary Office _Longford           0\n",
       "Veterinary Office _Louth              0\n",
       "Veterinary Office _Mayo               0\n",
       "Veterinary Office _Meath              0\n",
       "Veterinary Office _Monaghan           0\n",
       "Veterinary Office _Offaly             0\n",
       "Veterinary Office _Roscommon          0\n",
       "Veterinary Office _Sligo              0\n",
       "Veterinary Office _Tipperary North    0\n",
       "Veterinary Office _Tipperary South    0\n",
       "Veterinary Office _Waterford          0\n",
       "Veterinary Office _Westmeath          0\n",
       "Veterinary Office _Wexford            0\n",
       "Veterinary Office _Wicklow E          0\n",
       "Veterinary Office _Wicklow W          0\n",
       "dtype: int64"
      ]
     },
     "execution_count": 15,
     "metadata": {},
     "output_type": "execute_result"
    }
   ],
   "source": [
    "dataframe.isnull().sum()"
   ]
  },
  {
   "cell_type": "code",
   "execution_count": 16,
   "id": "4f3120e9",
   "metadata": {
    "ExecuteTime": {
     "end_time": "2022-01-29T04:43:40.733501Z",
     "start_time": "2022-01-29T04:43:40.721499Z"
    }
   },
   "outputs": [
    {
     "name": "stdout",
     "output_type": "stream",
     "text": [
      "dataset dimensions (319, 38)\n"
     ]
    }
   ],
   "source": [
    "print(\"dataset dimensions\", dataframe.shape)"
   ]
  },
  {
   "cell_type": "markdown",
   "id": "129cb429",
   "metadata": {},
   "source": [
    "### Prepare Model Data"
   ]
  },
  {
   "cell_type": "markdown",
   "id": "50450923",
   "metadata": {},
   "source": [
    "#### Select the feature set and the target"
   ]
  },
  {
   "cell_type": "markdown",
   "id": "938d45f2",
   "metadata": {},
   "source": [
    "Select the feature set and the target "
   ]
  },
  {
   "cell_type": "code",
   "execution_count": 17,
   "id": "3195a988",
   "metadata": {
    "ExecuteTime": {
     "end_time": "2022-01-29T04:43:40.764498Z",
     "start_time": "2022-01-29T04:43:40.737502Z"
    }
   },
   "outputs": [
    {
     "name": "stdout",
     "output_type": "stream",
     "text": [
      "Features dimension: 37 Columns, 319 Rows\n",
      "Target dimension:   1 Column,  319 Rows\n"
     ]
    }
   ],
   "source": [
    "feature_values = dataframe.drop(columns=['Herd Incidence Rate']).values\n",
    "target_values = dataframe['Herd Incidence Rate'].values.reshape(-1, 1)\n",
    "\n",
    "print(f'Features dimension: {np.shape(feature_values)[1]} Columns, {np.shape(feature_values)[0]} Rows')\n",
    "print(f'Target dimension:   {np.shape(target_values)[1]} Column,  {np.shape(target_values)[0]} Rows')"
   ]
  },
  {
   "cell_type": "markdown",
   "id": "b05b59fc",
   "metadata": {},
   "source": [
    "#### Define Training and Test Sets"
   ]
  },
  {
   "cell_type": "markdown",
   "id": "f4c3cd64",
   "metadata": {},
   "source": [
    "The data is liner data and should not be shuffled. Set test set size to 20%."
   ]
  },
  {
   "cell_type": "code",
   "execution_count": 18,
   "id": "bf5e71aa",
   "metadata": {
    "ExecuteTime": {
     "end_time": "2022-01-29T04:43:40.780500Z",
     "start_time": "2022-01-29T04:43:40.767498Z"
    }
   },
   "outputs": [],
   "source": [
    "test_size: float = 0.8\n",
    "X_train, X_test, Y_train, Y_test = train_test_split(feature_values,\n",
    "                                                    target_values,\n",
    "                                                    test_size=test_size,\n",
    "                                                    shuffle=False)"
   ]
  },
  {
   "cell_type": "markdown",
   "id": "77c420bb",
   "metadata": {},
   "source": [
    "#### Scale & Transform"
   ]
  },
  {
   "cell_type": "code",
   "execution_count": 19,
   "id": "dd7350dc",
   "metadata": {
    "ExecuteTime": {
     "end_time": "2022-01-29T04:43:40.796500Z",
     "start_time": "2022-01-29T04:43:40.784499Z"
    }
   },
   "outputs": [],
   "source": [
    "features_scaler = MinMaxScaler()\n",
    "\n",
    "features_scaler.fit(X_train)\n",
    "\n",
    "xtest_scale = features_scaler.transform(X_test)\n",
    "xtrain_scale = features_scaler.transform(X_train)"
   ]
  },
  {
   "cell_type": "code",
   "execution_count": 20,
   "id": "f4194ab2",
   "metadata": {
    "ExecuteTime": {
     "end_time": "2022-01-29T04:43:40.812501Z",
     "start_time": "2022-01-29T04:43:40.800500Z"
    }
   },
   "outputs": [],
   "source": [
    "target_scaler = MinMaxScaler()\n",
    "\n",
    "target_scaler.fit(Y_train)\n",
    "\n",
    "ytrain_scale = target_scaler.transform(Y_train)\n",
    "ytest_scale = target_scaler.transform(Y_test)"
   ]
  },
  {
   "cell_type": "markdown",
   "id": "98d53cdb",
   "metadata": {},
   "source": [
    "##### Save Scalers"
   ]
  },
  {
   "cell_type": "code",
   "execution_count": 21,
   "id": "a495e24e",
   "metadata": {
    "ExecuteTime": {
     "end_time": "2022-01-29T04:43:40.828502Z",
     "start_time": "2022-01-29T04:43:40.817502Z"
    }
   },
   "outputs": [],
   "source": [
    "filename: str = 'features-scaler.pickle'\n",
    "features_scaler_filepath: str = f'{directory}{filename}'\n",
    "\n",
    "with open(features_scaler_filepath, WRITE_BINARY) as file:\n",
    "    pickle.dump(features_scaler, file)"
   ]
  },
  {
   "cell_type": "code",
   "execution_count": 22,
   "id": "d4ac4717",
   "metadata": {
    "ExecuteTime": {
     "end_time": "2022-01-29T04:43:40.844499Z",
     "start_time": "2022-01-29T04:43:40.832501Z"
    }
   },
   "outputs": [],
   "source": [
    "filename: str = 'target-scaler.pickle'\n",
    "target_scaler_filepath: str = f'{directory}{filename}'\n",
    "\n",
    "with open(target_scaler_filepath, WRITE_BINARY) as file:\n",
    "    pickle.dump(target_scaler, file)"
   ]
  },
  {
   "cell_type": "markdown",
   "id": "ba3c3dce",
   "metadata": {},
   "source": [
    "### Model Testing"
   ]
  },
  {
   "cell_type": "markdown",
   "id": "58da80b0",
   "metadata": {},
   "source": [
    "#### Score Board"
   ]
  },
  {
   "cell_type": "code",
   "execution_count": 23,
   "id": "1d8a1eda",
   "metadata": {
    "ExecuteTime": {
     "end_time": "2022-01-29T04:43:40.860502Z",
     "start_time": "2022-01-29T04:43:40.847503Z"
    }
   },
   "outputs": [],
   "source": [
    "model_scores_dataframe = DataFrame(\n",
    "    columns=['Model', 'Mean Absolute Error Score(%)'])"
   ]
  },
  {
   "cell_type": "markdown",
   "id": "40f58f53",
   "metadata": {},
   "source": [
    "#### Random Forest Regressor"
   ]
  },
  {
   "cell_type": "markdown",
   "id": "664558ee",
   "metadata": {},
   "source": [
    "##### Train Model"
   ]
  },
  {
   "cell_type": "markdown",
   "id": "9b48e6e6",
   "metadata": {},
   "source": [
    "Hyper parameter tuning via Grid Search Cross Validation"
   ]
  },
  {
   "cell_type": "code",
   "execution_count": 24,
   "id": "8e2f41f6",
   "metadata": {
    "ExecuteTime": {
     "end_time": "2022-01-29T04:43:40.876500Z",
     "start_time": "2022-01-29T04:43:40.864504Z"
    }
   },
   "outputs": [
    {
     "data": {
      "text/plain": [
       "array([[0.13938889, 0.07655502, 0.07013575, ..., 0.        , 0.        ,\n",
       "        0.        ],\n",
       "       [0.38183374, 0.53588517, 0.53393665, ..., 0.        , 0.        ,\n",
       "        0.        ],\n",
       "       [0.45536802, 0.77990431, 0.74434389, ..., 0.        , 0.        ,\n",
       "        0.        ],\n",
       "       ...,\n",
       "       [0.49287905, 0.66507177, 0.65384615, ..., 0.        , 0.        ,\n",
       "        0.        ],\n",
       "       [1.        , 0.73205742, 0.60859729, ..., 0.        , 0.        ,\n",
       "        0.        ],\n",
       "       [0.88034594, 1.        , 0.78280543, ..., 0.        , 0.        ,\n",
       "        0.        ]])"
      ]
     },
     "execution_count": 24,
     "metadata": {},
     "output_type": "execute_result"
    }
   ],
   "source": [
    "xtrain_scale"
   ]
  },
  {
   "cell_type": "code",
   "execution_count": 25,
   "id": "fbe9bbff",
   "metadata": {
    "ExecuteTime": {
     "end_time": "2022-01-29T04:46:59.273296Z",
     "start_time": "2022-01-29T04:43:40.880501Z"
    }
   },
   "outputs": [
    {
     "data": {
      "text/plain": [
       "GridSearchCV(cv=5, estimator=RandomForestRegressor(), n_jobs=-1,\n",
       "             param_grid={'bootstrap': [True, False],\n",
       "                         'criterion': ['squared_error', 'absolute_error',\n",
       "                                       'poisson'],\n",
       "                         'max_depth': [1, 3, 5],\n",
       "                         'max_features': ['auto', 'sqrt', 'log2'],\n",
       "                         'n_estimators': [100, 500, 800]})"
      ]
     },
     "execution_count": 25,
     "metadata": {},
     "output_type": "execute_result"
    }
   ],
   "source": [
    "random_forest_regressor = RandomForestRegressor()\n",
    "\n",
    "random_forest_regressor_paramaters_grid = {\n",
    "    'bootstrap': [True, False],\n",
    "    'criterion': ['squared_error', 'absolute_error', 'poisson'],\n",
    "    'max_depth': [1, 3, 5],\n",
    "    'max_features': [\"auto\", \"sqrt\", \"log2\"],\n",
    "    'n_estimators': [100, 500, 800],  # Number of trees\n",
    "}\n",
    "\n",
    "grid_search_cv = GridSearchCV(\n",
    "    estimator=random_forest_regressor,\n",
    "    param_grid=random_forest_regressor_paramaters_grid,\n",
    "    n_jobs=-1,  # Use all processors on CPU\n",
    "    cv=5)  #cross validation 5 fold of datasets\n",
    "\n",
    "grid_search_cv.fit(xtrain_scale, ytrain_scale.reshape(-1))"
   ]
  },
  {
   "cell_type": "markdown",
   "id": "446c6f92",
   "metadata": {},
   "source": [
    "##### Test and Score Model"
   ]
  },
  {
   "cell_type": "code",
   "execution_count": 26,
   "id": "68ceb025",
   "metadata": {
    "ExecuteTime": {
     "end_time": "2022-01-29T04:46:59.337213Z",
     "start_time": "2022-01-29T04:46:59.278301Z"
    }
   },
   "outputs": [
    {
     "name": "stdout",
     "output_type": "stream",
     "text": [
      "Best training model RandomForestRegressor(bootstrap=False, max_depth=5, max_features='sqrt')\n",
      "Best training model score, coefficient of determination R squared 0.6665846814994858\n"
     ]
    }
   ],
   "source": [
    "print('Best training model', grid_search_cv.best_estimator_)\n",
    "print('Best training model score, coefficient of determination R squared',\n",
    "      grid_search_cv.best_score_)\n",
    "\n",
    "y_predict = target_scaler.inverse_transform(\n",
    "    grid_search_cv.predict(xtest_scale).reshape(-1, 1))\n",
    "mae_score = mean_absolute_error(Y_test, y_predict)"
   ]
  },
  {
   "cell_type": "markdown",
   "id": "5d91acdc",
   "metadata": {},
   "source": [
    "##### Save Model Score"
   ]
  },
  {
   "cell_type": "code",
   "execution_count": 27,
   "id": "57ce9131",
   "metadata": {
    "ExecuteTime": {
     "end_time": "2022-01-29T04:46:59.401215Z",
     "start_time": "2022-01-29T04:46:59.357216Z"
    }
   },
   "outputs": [
    {
     "data": {
      "text/html": [
       "<div>\n",
       "<style scoped>\n",
       "    .dataframe tbody tr th:only-of-type {\n",
       "        vertical-align: middle;\n",
       "    }\n",
       "\n",
       "    .dataframe tbody tr th {\n",
       "        vertical-align: top;\n",
       "    }\n",
       "\n",
       "    .dataframe thead th {\n",
       "        text-align: right;\n",
       "    }\n",
       "</style>\n",
       "<table border=\"1\" class=\"dataframe\">\n",
       "  <thead>\n",
       "    <tr style=\"text-align: right;\">\n",
       "      <th></th>\n",
       "      <th>Model</th>\n",
       "      <th>Mean Absolute Error Score(%)</th>\n",
       "    </tr>\n",
       "  </thead>\n",
       "  <tbody>\n",
       "    <tr>\n",
       "      <th>0</th>\n",
       "      <td>Random Forest Regressor</td>\n",
       "      <td>1.07759</td>\n",
       "    </tr>\n",
       "  </tbody>\n",
       "</table>\n",
       "</div>"
      ],
      "text/plain": [
       "                     Model  Mean Absolute Error Score(%)\n",
       "0  Random Forest Regressor                       1.07759"
      ]
     },
     "execution_count": 27,
     "metadata": {},
     "output_type": "execute_result"
    }
   ],
   "source": [
    "values = ['Random Forest Regressor', mae_score]\n",
    "model_scores_dataframe.loc[len(model_scores_dataframe)] = values\n",
    "model_scores_dataframe.head()"
   ]
  },
  {
   "cell_type": "markdown",
   "id": "b4aab677",
   "metadata": {},
   "source": [
    "#### XGBOOST Regressor"
   ]
  },
  {
   "cell_type": "markdown",
   "id": "7c6eb8ab",
   "metadata": {},
   "source": [
    "##### Train Model"
   ]
  },
  {
   "cell_type": "code",
   "execution_count": 28,
   "id": "119a7167",
   "metadata": {
    "ExecuteTime": {
     "end_time": "2022-01-29T04:50:32.113668Z",
     "start_time": "2022-01-29T04:46:59.408216Z"
    }
   },
   "outputs": [
    {
     "name": "stdout",
     "output_type": "stream",
     "text": [
      "Fitting 5 folds for each of 144 candidates, totalling 720 fits\n",
      "Best training model  XGBRegressor(base_score=0.5, booster='gbtree', colsample_bylevel=1,\n",
      "             colsample_bynode=1, colsample_bytree=1, enable_categorical=False,\n",
      "             gamma=0.01, gpu_id=-1, importance_type=None,\n",
      "             interaction_constraints='', learning_rate=0.1, max_delta_step=0,\n",
      "             max_depth=3, min_child_weight=1, missing=nan,\n",
      "             monotone_constraints='()', n_estimators=340, n_jobs=8,\n",
      "             num_parallel_tree=1, predictor='auto', random_state=2021,\n",
      "             reg_alpha=0, reg_lambda=1, scale_pos_weight=1, subsample=1,\n",
      "             tree_method='exact', validate_parameters=1, verbosity=None)\n",
      "Best model Parameters {'gamma': 0.01, 'learning_rate': 0.1, 'max_depth': 3, 'n_estimators': 340}\n",
      "Best training model score, coefficient of determination R squared 0.4370026552468394\n"
     ]
    }
   ],
   "source": [
    "# define XGBRegressor\n",
    "xgb_regressor_milk = XGBRegressor(random_state=2021)\n",
    "\n",
    "# define parameters space to loop over\n",
    "params_xgb_milk = {\n",
    "    'n_estimators': [20, 40, 80, 160, 340, 500],\n",
    "    'max_depth': [3, 6, 9],\n",
    "    'gamma': [0.01, 0.1],\n",
    "    'learning_rate': [0.001, 0.01, 0.1, 1]\n",
    "}\n",
    "\n",
    "# Hyper parameter tuning via Grid Search Cross Validation\n",
    "grid_xgb_milk = GridSearchCV(\n",
    "    estimator=xgb_regressor_milk,\n",
    "    param_grid=params_xgb_milk,\n",
    "    #n_jobs=-1,\n",
    "    scoring=['r2', 'neg_root_mean_squared_error'],\n",
    "    refit='r2',\n",
    "    n_jobs=-1,\n",
    "    cv=5,\n",
    "    verbose=4)\n",
    "\n",
    "# fit grid to training scaled set\n",
    "grid_xgb_milk.fit(xtrain_scale, ytrain_scale)\n",
    "\n",
    "# print best training model & R squared score\n",
    "print('Best training model ', grid_xgb_milk.best_estimator_)\n",
    "print('Best model Parameters', grid_xgb_milk.best_params_)\n",
    "print('Best training model score, coefficient of determination R squared',\n",
    "      grid_xgb_milk.best_score_)"
   ]
  },
  {
   "cell_type": "markdown",
   "id": "6d49ff37",
   "metadata": {},
   "source": [
    "##### Test and Score Model"
   ]
  },
  {
   "cell_type": "code",
   "execution_count": 29,
   "id": "410a7574",
   "metadata": {
    "ExecuteTime": {
     "end_time": "2022-01-29T04:50:32.145665Z",
     "start_time": "2022-01-29T04:50:32.121668Z"
    }
   },
   "outputs": [],
   "source": [
    "y_predict = target_scaler.inverse_transform(\n",
    "    grid_xgb_milk.predict(xtest_scale).reshape(-1, 1))\n",
    "\n",
    "mae_score = mean_absolute_error(Y_test, y_predict)"
   ]
  },
  {
   "cell_type": "markdown",
   "id": "f87104a4",
   "metadata": {},
   "source": [
    "##### Save Model Score"
   ]
  },
  {
   "cell_type": "code",
   "execution_count": 30,
   "id": "fd170cd6",
   "metadata": {
    "ExecuteTime": {
     "end_time": "2022-01-29T04:50:32.224662Z",
     "start_time": "2022-01-29T04:50:32.156673Z"
    }
   },
   "outputs": [
    {
     "data": {
      "text/html": [
       "<div>\n",
       "<style scoped>\n",
       "    .dataframe tbody tr th:only-of-type {\n",
       "        vertical-align: middle;\n",
       "    }\n",
       "\n",
       "    .dataframe tbody tr th {\n",
       "        vertical-align: top;\n",
       "    }\n",
       "\n",
       "    .dataframe thead th {\n",
       "        text-align: right;\n",
       "    }\n",
       "</style>\n",
       "<table border=\"1\" class=\"dataframe\">\n",
       "  <thead>\n",
       "    <tr style=\"text-align: right;\">\n",
       "      <th></th>\n",
       "      <th>Model</th>\n",
       "      <th>Mean Absolute Error Score(%)</th>\n",
       "    </tr>\n",
       "  </thead>\n",
       "  <tbody>\n",
       "    <tr>\n",
       "      <th>0</th>\n",
       "      <td>Random Forest Regressor</td>\n",
       "      <td>1.07759</td>\n",
       "    </tr>\n",
       "    <tr>\n",
       "      <th>1</th>\n",
       "      <td>XGBOOST</td>\n",
       "      <td>1.16595</td>\n",
       "    </tr>\n",
       "  </tbody>\n",
       "</table>\n",
       "</div>"
      ],
      "text/plain": [
       "                     Model  Mean Absolute Error Score(%)\n",
       "0  Random Forest Regressor                       1.07759\n",
       "1                  XGBOOST                       1.16595"
      ]
     },
     "execution_count": 30,
     "metadata": {},
     "output_type": "execute_result"
    }
   ],
   "source": [
    "model_scores_dataframe.loc[len(model_scores_dataframe)] = ['XGBOOST', mae_score]\n",
    "model_scores_dataframe.head()"
   ]
  },
  {
   "cell_type": "markdown",
   "id": "a1eb8eb9",
   "metadata": {},
   "source": [
    "#### ANN Artificial Neural Network"
   ]
  },
  {
   "cell_type": "markdown",
   "id": "d01711cf",
   "metadata": {},
   "source": [
    "##### Train Model"
   ]
  },
  {
   "cell_type": "code",
   "execution_count": 31,
   "id": "6199a6b5",
   "metadata": {
    "ExecuteTime": {
     "end_time": "2022-01-29T04:52:11.443428Z",
     "start_time": "2022-01-29T04:50:32.228664Z"
    },
    "scrolled": true
   },
   "outputs": [
    {
     "name": "stdout",
     "output_type": "stream",
     "text": [
      "Trial 5 Complete [00h 00m 17s]\n",
      "val_mean_absolute_error: 0.08171459039052327\n",
      "\n",
      "Best val_mean_absolute_error So Far: 0.061815693974494934\n",
      "Total elapsed time: 00h 01m 34s\n",
      "INFO:tensorflow:Oracle triggered exit\n",
      "\n",
      "\n",
      "Results summary\n",
      "Results in ./../temp/ANN-tuner/Milk production\n",
      "Showing 10 best trials\n",
      "Objective(name='val_mean_absolute_error', direction='min')\n",
      "Trial summary\n",
      "Hyperparameters:\n",
      "num_layers: 3\n",
      "units_0: 535\n",
      "learning_rate: 0.001\n",
      "Score: 0.061815693974494934\n",
      "Trial summary\n",
      "Hyperparameters:\n",
      "num_layers: 18\n",
      "units_0: 279\n",
      "learning_rate: 0.001\n",
      "Score: 0.068784994383653\n",
      "Trial summary\n",
      "Hyperparameters:\n",
      "num_layers: 22\n",
      "units_0: 311\n",
      "learning_rate: 0.0001\n",
      "Score: 0.07565981646378835\n",
      "Trial summary\n",
      "Hyperparameters:\n",
      "num_layers: 15\n",
      "units_0: 375\n",
      "learning_rate: 0.0001\n",
      "Score: 0.08171459039052327\n",
      "Trial summary\n",
      "Hyperparameters:\n",
      "num_layers: 9\n",
      "units_0: 247\n",
      "learning_rate: 0.0001\n",
      "Score: 0.09422232210636139\n",
      "Epoch 1/50\n",
      "2/2 [==============================] - 1s 228ms/step - loss: 0.0234 - mean_absolute_error: 0.0234 - val_loss: 0.0671 - val_mean_absolute_error: 0.0671\n",
      "Epoch 2/50\n",
      "2/2 [==============================] - 0s 66ms/step - loss: 0.0258 - mean_absolute_error: 0.0258 - val_loss: 0.0606 - val_mean_absolute_error: 0.0606\n",
      "Epoch 3/50\n",
      "2/2 [==============================] - 0s 39ms/step - loss: 0.0208 - mean_absolute_error: 0.0208 - val_loss: 0.0581 - val_mean_absolute_error: 0.0581\n",
      "Epoch 4/50\n",
      "2/2 [==============================] - 0s 40ms/step - loss: 0.0237 - mean_absolute_error: 0.0237 - val_loss: 0.0597 - val_mean_absolute_error: 0.0597\n",
      "Epoch 5/50\n",
      "2/2 [==============================] - 0s 47ms/step - loss: 0.0213 - mean_absolute_error: 0.0213 - val_loss: 0.0584 - val_mean_absolute_error: 0.0584\n",
      "Epoch 6/50\n",
      "2/2 [==============================] - 0s 49ms/step - loss: 0.0208 - mean_absolute_error: 0.0208 - val_loss: 0.0566 - val_mean_absolute_error: 0.0566\n",
      "Epoch 7/50\n",
      "2/2 [==============================] - 0s 54ms/step - loss: 0.0200 - mean_absolute_error: 0.0200 - val_loss: 0.0578 - val_mean_absolute_error: 0.0578\n",
      "Epoch 8/50\n",
      "2/2 [==============================] - 0s 52ms/step - loss: 0.0204 - mean_absolute_error: 0.0204 - val_loss: 0.0573 - val_mean_absolute_error: 0.0573\n",
      "Epoch 9/50\n",
      "2/2 [==============================] - 0s 48ms/step - loss: 0.0202 - mean_absolute_error: 0.0202 - val_loss: 0.0584 - val_mean_absolute_error: 0.0584\n",
      "Epoch 10/50\n",
      "2/2 [==============================] - 0s 47ms/step - loss: 0.0207 - mean_absolute_error: 0.0207 - val_loss: 0.0579 - val_mean_absolute_error: 0.0579\n",
      "Epoch 11/50\n",
      "2/2 [==============================] - 0s 44ms/step - loss: 0.0203 - mean_absolute_error: 0.0203 - val_loss: 0.0572 - val_mean_absolute_error: 0.0572\n",
      "Epoch 12/50\n",
      "2/2 [==============================] - 0s 53ms/step - loss: 0.0204 - mean_absolute_error: 0.0204 - val_loss: 0.0587 - val_mean_absolute_error: 0.0587\n",
      "Epoch 13/50\n",
      "2/2 [==============================] - 0s 48ms/step - loss: 0.0195 - mean_absolute_error: 0.0195 - val_loss: 0.0580 - val_mean_absolute_error: 0.0580\n",
      "Epoch 14/50\n",
      "2/2 [==============================] - 0s 47ms/step - loss: 0.0205 - mean_absolute_error: 0.0205 - val_loss: 0.0589 - val_mean_absolute_error: 0.0589\n",
      "Epoch 15/50\n",
      "2/2 [==============================] - 0s 49ms/step - loss: 0.0196 - mean_absolute_error: 0.0196 - val_loss: 0.0590 - val_mean_absolute_error: 0.0590\n",
      "Epoch 16/50\n",
      "2/2 [==============================] - 0s 46ms/step - loss: 0.0207 - mean_absolute_error: 0.0207 - val_loss: 0.0560 - val_mean_absolute_error: 0.0560\n",
      "Epoch 17/50\n",
      "2/2 [==============================] - 0s 45ms/step - loss: 0.0200 - mean_absolute_error: 0.0200 - val_loss: 0.0572 - val_mean_absolute_error: 0.0572\n",
      "Epoch 18/50\n",
      "2/2 [==============================] - 0s 46ms/step - loss: 0.0185 - mean_absolute_error: 0.0185 - val_loss: 0.0561 - val_mean_absolute_error: 0.0561\n",
      "Epoch 19/50\n",
      "2/2 [==============================] - 0s 37ms/step - loss: 0.0190 - mean_absolute_error: 0.0190 - val_loss: 0.0563 - val_mean_absolute_error: 0.0563\n",
      "Epoch 20/50\n",
      "2/2 [==============================] - 0s 53ms/step - loss: 0.0185 - mean_absolute_error: 0.0185 - val_loss: 0.0571 - val_mean_absolute_error: 0.0571\n",
      "Epoch 21/50\n",
      "2/2 [==============================] - 0s 45ms/step - loss: 0.0206 - mean_absolute_error: 0.0206 - val_loss: 0.0563 - val_mean_absolute_error: 0.0563\n",
      "Epoch 22/50\n",
      "2/2 [==============================] - 0s 36ms/step - loss: 0.0171 - mean_absolute_error: 0.0171 - val_loss: 0.0585 - val_mean_absolute_error: 0.0585\n",
      "Epoch 23/50\n",
      "2/2 [==============================] - 0s 37ms/step - loss: 0.0186 - mean_absolute_error: 0.0186 - val_loss: 0.0568 - val_mean_absolute_error: 0.0568\n",
      "Epoch 24/50\n",
      "2/2 [==============================] - 0s 43ms/step - loss: 0.0204 - mean_absolute_error: 0.0204 - val_loss: 0.0562 - val_mean_absolute_error: 0.0562\n",
      "Epoch 25/50\n",
      "2/2 [==============================] - 0s 43ms/step - loss: 0.0190 - mean_absolute_error: 0.0190 - val_loss: 0.0582 - val_mean_absolute_error: 0.0582\n",
      "Epoch 26/50\n",
      "2/2 [==============================] - 0s 47ms/step - loss: 0.0177 - mean_absolute_error: 0.0177 - val_loss: 0.0568 - val_mean_absolute_error: 0.0568\n",
      "Epoch 27/50\n",
      "2/2 [==============================] - 0s 52ms/step - loss: 0.0223 - mean_absolute_error: 0.0223 - val_loss: 0.0564 - val_mean_absolute_error: 0.0564\n",
      "Epoch 28/50\n",
      "2/2 [==============================] - 0s 46ms/step - loss: 0.0180 - mean_absolute_error: 0.0180 - val_loss: 0.0613 - val_mean_absolute_error: 0.0613\n",
      "Epoch 29/50\n",
      "2/2 [==============================] - 0s 43ms/step - loss: 0.0228 - mean_absolute_error: 0.0228 - val_loss: 0.0561 - val_mean_absolute_error: 0.0561\n",
      "Epoch 30/50\n",
      "2/2 [==============================] - 0s 43ms/step - loss: 0.0234 - mean_absolute_error: 0.0234 - val_loss: 0.0564 - val_mean_absolute_error: 0.0564\n",
      "Epoch 31/50\n",
      "2/2 [==============================] - 0s 46ms/step - loss: 0.0207 - mean_absolute_error: 0.0207 - val_loss: 0.0581 - val_mean_absolute_error: 0.0581\n",
      "Epoch 32/50\n",
      "2/2 [==============================] - 0s 46ms/step - loss: 0.0224 - mean_absolute_error: 0.0224 - val_loss: 0.0553 - val_mean_absolute_error: 0.0553\n",
      "Epoch 33/50\n",
      "2/2 [==============================] - 0s 42ms/step - loss: 0.0200 - mean_absolute_error: 0.0200 - val_loss: 0.0570 - val_mean_absolute_error: 0.0570\n",
      "Epoch 34/50\n",
      "2/2 [==============================] - 0s 45ms/step - loss: 0.0225 - mean_absolute_error: 0.0225 - val_loss: 0.0572 - val_mean_absolute_error: 0.0572\n",
      "Epoch 35/50\n",
      "2/2 [==============================] - 0s 73ms/step - loss: 0.0235 - mean_absolute_error: 0.0235 - val_loss: 0.0597 - val_mean_absolute_error: 0.0597\n",
      "Epoch 36/50\n",
      "2/2 [==============================] - 0s 61ms/step - loss: 0.0205 - mean_absolute_error: 0.0205 - val_loss: 0.0568 - val_mean_absolute_error: 0.0568\n",
      "Epoch 37/50\n",
      "2/2 [==============================] - 0s 50ms/step - loss: 0.0235 - mean_absolute_error: 0.0235 - val_loss: 0.0550 - val_mean_absolute_error: 0.0550\n",
      "Epoch 38/50\n",
      "2/2 [==============================] - 0s 50ms/step - loss: 0.0184 - mean_absolute_error: 0.0184 - val_loss: 0.0587 - val_mean_absolute_error: 0.0587\n",
      "Epoch 39/50\n",
      "2/2 [==============================] - 0s 37ms/step - loss: 0.0210 - mean_absolute_error: 0.0210 - val_loss: 0.0561 - val_mean_absolute_error: 0.0561\n",
      "Epoch 40/50\n",
      "2/2 [==============================] - 0s 45ms/step - loss: 0.0171 - mean_absolute_error: 0.0171 - val_loss: 0.0566 - val_mean_absolute_error: 0.0566\n",
      "Epoch 41/50\n",
      "2/2 [==============================] - 0s 43ms/step - loss: 0.0198 - mean_absolute_error: 0.0198 - val_loss: 0.0558 - val_mean_absolute_error: 0.0558\n",
      "Epoch 42/50\n",
      "2/2 [==============================] - 0s 40ms/step - loss: 0.0191 - mean_absolute_error: 0.0191 - val_loss: 0.0550 - val_mean_absolute_error: 0.0550\n",
      "Epoch 43/50\n",
      "2/2 [==============================] - 0s 40ms/step - loss: 0.0156 - mean_absolute_error: 0.0156 - val_loss: 0.0575 - val_mean_absolute_error: 0.0575\n",
      "Epoch 44/50\n",
      "2/2 [==============================] - 0s 52ms/step - loss: 0.0191 - mean_absolute_error: 0.0191 - val_loss: 0.0574 - val_mean_absolute_error: 0.0574\n",
      "Epoch 45/50\n",
      "2/2 [==============================] - 0s 33ms/step - loss: 0.0192 - mean_absolute_error: 0.0192 - val_loss: 0.0584 - val_mean_absolute_error: 0.0584\n",
      "Epoch 46/50\n"
     ]
    },
    {
     "name": "stdout",
     "output_type": "stream",
     "text": [
      "2/2 [==============================] - 0s 30ms/step - loss: 0.0196 - mean_absolute_error: 0.0196 - val_loss: 0.0561 - val_mean_absolute_error: 0.0561\n",
      "Epoch 47/50\n",
      "2/2 [==============================] - 0s 33ms/step - loss: 0.0201 - mean_absolute_error: 0.0201 - val_loss: 0.0557 - val_mean_absolute_error: 0.0557\n",
      "Epoch 48/50\n",
      "2/2 [==============================] - 0s 30ms/step - loss: 0.0217 - mean_absolute_error: 0.0217 - val_loss: 0.0556 - val_mean_absolute_error: 0.0556\n",
      "Epoch 49/50\n",
      "2/2 [==============================] - 0s 21ms/step - loss: 0.0181 - mean_absolute_error: 0.0181 - val_loss: 0.0551 - val_mean_absolute_error: 0.0551\n",
      "Epoch 50/50\n",
      "2/2 [==============================] - 0s 22ms/step - loss: 0.0194 - mean_absolute_error: 0.0194 - val_loss: 0.0551 - val_mean_absolute_error: 0.0551\n"
     ]
    }
   ],
   "source": [
    "#Training & Keras Parameter Tuning\n",
    "\n",
    "temp_directory: str = './../temp/ANN-tuner/'\n",
    "\n",
    "\n",
    "# Define ANN model with Hyper parameter variable\n",
    "def build_model(hp):\n",
    "    model = keras.Sequential()\n",
    "    for i in range(hp.Int('num_layers', 2, 23)):\n",
    "        model.add(\n",
    "            layers.Dense(units=hp.Int('units_' + str(i),\n",
    "                                      min_value=23,\n",
    "                                      max_value=600,\n",
    "                                      step=32),\n",
    "                         activation='relu'))\n",
    "        model.add(layers.Dense(1, activation='linear'))\n",
    "        model.compile(optimizer=keras.optimizers.Adam(\n",
    "            hp.Choice('learning_rate', [1e-2, 1e-3, 1e-4])),\n",
    "                      loss='mean_absolute_error',\n",
    "                      metrics=['mean_absolute_error'])\n",
    "        return model\n",
    "\n",
    "\n",
    "if os.path.isdir(temp_directory):\n",
    "    try:\n",
    "        shutil.rmtree(temp_directory)\n",
    "    except OSError as exception:\n",
    "        print(f\"Error: {exception.filename} - {exception.strerror}.\")\n",
    "\n",
    "# create a directory to store each iteration of modelling\n",
    "tuner = RandomSearch(build_model,\n",
    "                     objective='val_mean_absolute_error',\n",
    "                     max_trials=5,\n",
    "                     executions_per_trial=3,\n",
    "                     directory=temp_directory,\n",
    "                     project_name='Milk production')\n",
    "\n",
    "# Defined parameter space to search in\n",
    "tuner.search_space_summary()\n",
    "\n",
    "# train trial models and compare with validation set\n",
    "tuner.search(xtrain_scale,\n",
    "             ytrain_scale,\n",
    "             epochs=50,\n",
    "             validation_data=(xtest_scale, ytest_scale))\n",
    "\n",
    "# print best 10 models according to val_mean_absolute_error\n",
    "print('\\n')\n",
    "tuner.results_summary()\n",
    "\n",
    "# get best model from training trials\n",
    "bestANNModel = tuner.get_best_models(num_models=1)[0]\n",
    "\n",
    "# fit best model to training scaled data and scaled test data\n",
    "bestANNModel.fit(xtrain_scale,\n",
    "                 ytrain_scale,\n",
    "                 epochs=50,\n",
    "                 validation_data=(xtest_scale, ytest_scale))\n",
    "#Clean up\n",
    "if os.path.isdir(temp_directory):\n",
    "    try:\n",
    "        shutil.rmtree(temp_directory)\n",
    "    except OSError as exception:\n",
    "        print(f\"Error: {exception.filename} - {exception.strerror}.\")"
   ]
  },
  {
   "cell_type": "markdown",
   "id": "7571c8b0",
   "metadata": {
    "ExecuteTime": {
     "end_time": "2022-01-28T08:39:39.920079Z",
     "start_time": "2022-01-28T08:39:39.911081Z"
    }
   },
   "source": [
    "##### Test and Score Model"
   ]
  },
  {
   "cell_type": "code",
   "execution_count": 32,
   "id": "1d7a7617",
   "metadata": {
    "ExecuteTime": {
     "end_time": "2022-01-29T04:52:11.750042Z",
     "start_time": "2022-01-29T04:52:11.443428Z"
    }
   },
   "outputs": [
    {
     "name": "stdout",
     "output_type": "stream",
     "text": [
      "predicted milk production values \n",
      " [[ 4.927619 ]\n",
      " [ 5.7589717]\n",
      " [ 2.0756621]\n",
      " [ 2.1440258]\n",
      " [ 4.6133747]\n",
      " [ 6.7420864]\n",
      " [ 4.8885236]\n",
      " [ 2.210798 ]\n",
      " [ 3.5160246]\n",
      " [ 3.7206604]\n",
      " [ 3.364041 ]\n",
      " [ 1.9036118]\n",
      " [ 7.5358305]\n",
      " [ 3.0092685]\n",
      " [ 4.7812166]\n",
      " [ 4.8427615]\n",
      " [ 3.6660023]\n",
      " [ 4.859888 ]\n",
      " [ 3.3133144]\n",
      " [ 4.8776445]\n",
      " [ 5.925457 ]\n",
      " [ 7.222612 ]\n",
      " [13.28186  ]\n",
      " [ 5.6706347]\n",
      " [ 3.466308 ]\n",
      " [ 4.584647 ]\n",
      " [ 4.8685937]\n",
      " [ 4.9592466]\n",
      " [ 4.839867 ]\n",
      " [ 3.677101 ]\n",
      " [ 6.0074153]\n",
      " [ 2.3084297]\n",
      " [ 2.301007 ]\n",
      " [ 4.503135 ]\n",
      " [ 5.7834525]\n",
      " [ 4.2195334]\n",
      " [ 2.26514  ]\n",
      " [ 3.1408901]\n",
      " [ 3.272616 ]\n",
      " [ 3.5010407]\n",
      " [ 1.9479272]\n",
      " [ 6.917227 ]\n",
      " [ 3.517059 ]\n",
      " [ 4.7086034]\n",
      " [ 4.4885683]\n",
      " [ 2.8016632]\n",
      " [ 5.133378 ]\n",
      " [ 2.971101 ]\n",
      " [ 4.5676517]\n",
      " [ 4.936998 ]\n",
      " [ 7.507519 ]\n",
      " [11.889173 ]\n",
      " [ 5.0295925]\n",
      " [ 3.2811985]\n",
      " [ 3.7052226]\n",
      " [ 4.964939 ]\n",
      " [ 4.8182845]\n",
      " [ 3.8208137]\n",
      " [ 2.6725144]\n",
      " [ 5.72781  ]\n",
      " [ 2.544787 ]\n",
      " [ 2.358849 ]\n",
      " [ 4.856531 ]\n",
      " [ 5.1281066]\n",
      " [ 4.0243993]\n",
      " [ 2.7225494]\n",
      " [ 2.5043452]\n",
      " [ 3.0541692]\n",
      " [ 2.9468064]\n",
      " [ 1.0737513]\n",
      " [ 6.1769404]\n",
      " [ 2.7574787]\n",
      " [ 4.6874843]\n",
      " [ 4.1445155]\n",
      " [ 3.3502758]\n",
      " [ 4.069446 ]\n",
      " [ 3.0414674]\n",
      " [ 4.0530186]\n",
      " [ 5.5830398]\n",
      " [ 6.954098 ]\n",
      " [14.25368  ]\n",
      " [ 5.446173 ]\n",
      " [ 4.664912 ]\n",
      " [ 4.314533 ]\n",
      " [ 4.1654434]\n",
      " [ 3.9377081]\n",
      " [ 4.0405936]\n",
      " [ 1.9439546]\n",
      " [ 6.1516547]\n",
      " [ 2.0226789]\n",
      " [ 1.4161439]\n",
      " [ 4.946217 ]\n",
      " [ 5.1916695]\n",
      " [ 4.6504154]\n",
      " [ 2.4101048]\n",
      " [ 2.2736676]\n",
      " [ 3.2126856]\n",
      " [ 3.1244063]\n",
      " [ 1.0568626]\n",
      " [ 6.256005 ]\n",
      " [ 3.2193658]\n",
      " [ 5.0096164]\n",
      " [ 2.9781017]\n",
      " [ 3.1590478]\n",
      " [ 3.6294193]\n",
      " [ 3.2882926]\n",
      " [ 4.015571 ]\n",
      " [ 5.014129 ]\n",
      " [ 6.2888117]\n",
      " [11.517748 ]\n",
      " [ 8.05877  ]\n",
      " [ 3.5715904]\n",
      " [ 3.3531551]\n",
      " [ 4.1184697]\n",
      " [ 4.5232635]\n",
      " [ 3.0637167]\n",
      " [ 1.9965996]\n",
      " [ 5.883075 ]\n",
      " [ 1.9720849]\n",
      " [ 2.0218203]\n",
      " [ 4.7242   ]\n",
      " [ 4.671071 ]\n",
      " [ 4.7123713]\n",
      " [ 1.5268718]\n",
      " [ 2.4977047]\n",
      " [ 3.0343497]\n",
      " [ 3.737983 ]\n",
      " [ 1.3790544]\n",
      " [ 6.737087 ]\n",
      " [ 4.1502433]\n",
      " [ 4.759059 ]\n",
      " [ 2.5776255]\n",
      " [ 2.4447553]\n",
      " [ 4.2418947]\n",
      " [ 3.250676 ]\n",
      " [ 4.0299053]\n",
      " [ 4.393094 ]\n",
      " [ 5.1967177]\n",
      " [12.008005 ]\n",
      " [ 6.8581605]\n",
      " [ 3.601189 ]\n",
      " [ 6.2983627]\n",
      " [ 3.6286726]\n",
      " [ 4.9807153]\n",
      " [ 3.4060156]\n",
      " [ 1.5414318]\n",
      " [ 6.3397713]\n",
      " [ 1.9547198]\n",
      " [ 2.1359756]\n",
      " [ 4.771411 ]\n",
      " [ 4.293028 ]\n",
      " [ 4.265776 ]\n",
      " [ 2.886903 ]\n",
      " [ 2.2203658]\n",
      " [ 3.000225 ]\n",
      " [ 3.530552 ]\n",
      " [ 2.3168716]\n",
      " [ 6.542349 ]\n",
      " [ 5.1649513]\n",
      " [ 4.1402707]\n",
      " [ 2.87811  ]\n",
      " [ 3.0232637]\n",
      " [ 4.132205 ]\n",
      " [ 3.3241484]\n",
      " [ 3.5701072]\n",
      " [ 6.0359097]\n",
      " [ 5.4399314]\n",
      " [ 9.935061 ]\n",
      " [ 6.056741 ]\n",
      " [ 3.63626  ]\n",
      " [ 4.3028603]\n",
      " [ 3.9481637]\n",
      " [ 6.0494266]\n",
      " [ 2.2898426]\n",
      " [ 1.4032362]\n",
      " [ 7.351335 ]\n",
      " [ 1.301555 ]\n",
      " [ 1.9819679]\n",
      " [ 4.8203187]\n",
      " [ 4.282686 ]\n",
      " [ 4.43608  ]\n",
      " [ 1.9435426]\n",
      " [ 2.0459602]\n",
      " [ 3.0246694]\n",
      " [ 3.185156 ]\n",
      " [ 2.2041996]\n",
      " [ 6.3041983]\n",
      " [ 8.557432 ]\n",
      " [ 4.3649325]\n",
      " [ 2.5529404]\n",
      " [ 3.6724808]\n",
      " [ 5.1652703]\n",
      " [ 3.147526 ]\n",
      " [ 3.9981625]\n",
      " [ 4.9308147]\n",
      " [ 5.155137 ]\n",
      " [11.84449  ]\n",
      " [ 6.214759 ]\n",
      " [ 3.4560237]\n",
      " [ 4.390337 ]\n",
      " [ 4.4051247]\n",
      " [ 6.674923 ]\n",
      " [ 2.710845 ]\n",
      " [ 1.8321513]\n",
      " [ 7.119781 ]\n",
      " [ 2.2837882]\n",
      " [ 2.1428893]\n",
      " [ 4.7985024]\n",
      " [ 5.1206837]\n",
      " [ 4.5636725]\n",
      " [ 2.5226457]\n",
      " [ 2.0241885]\n",
      " [ 2.9587226]\n",
      " [ 3.7865124]\n",
      " [ 1.433144 ]\n",
      " [ 6.4478974]\n",
      " [ 5.988045 ]\n",
      " [ 5.4186773]\n",
      " [ 2.908992 ]\n",
      " [ 2.5347788]\n",
      " [ 3.95954  ]\n",
      " [ 3.3778841]\n",
      " [ 3.834143 ]\n",
      " [ 5.1821575]\n",
      " [ 5.2453065]\n",
      " [12.970973 ]\n",
      " [ 6.205717 ]\n",
      " [ 3.8215685]\n",
      " [ 5.4631042]\n",
      " [ 4.0268126]\n",
      " [ 8.284506 ]\n",
      " [ 3.3244786]\n",
      " [ 1.5305082]\n",
      " [ 7.1657257]\n",
      " [ 2.712029 ]\n",
      " [ 1.8182682]\n",
      " [ 5.0979347]\n",
      " [ 4.6883454]\n",
      " [ 5.3568544]\n",
      " [ 1.9011683]\n",
      " [ 2.3111029]\n",
      " [ 3.601542 ]\n",
      " [ 4.731937 ]\n",
      " [ 2.869731 ]\n",
      " [ 7.63642  ]\n",
      " [ 6.2611265]\n",
      " [ 5.6088357]\n",
      " [ 2.6533198]\n",
      " [ 3.6208186]\n",
      " [ 6.5335155]\n",
      " [ 5.5813303]\n",
      " [ 4.009131 ]\n",
      " [ 6.301402 ]\n",
      " [ 5.019142 ]\n",
      " [10.970043 ]\n",
      " [ 6.6991696]]\n",
      "actual milk production values \n",
      " [[ 4.28]\n",
      " [ 6.63]\n",
      " [ 2.53]\n",
      " [ 2.66]\n",
      " [ 4.21]\n",
      " [ 6.62]\n",
      " [ 4.91]\n",
      " [ 2.27]\n",
      " [ 4.06]\n",
      " [ 3.47]\n",
      " [ 4.7 ]\n",
      " [ 2.01]\n",
      " [ 7.39]\n",
      " [ 2.73]\n",
      " [ 4.51]\n",
      " [ 4.65]\n",
      " [ 3.5 ]\n",
      " [ 5.5 ]\n",
      " [ 3.5 ]\n",
      " [ 4.7 ]\n",
      " [ 5.66]\n",
      " [ 7.82]\n",
      " [10.64]\n",
      " [ 9.64]\n",
      " [ 2.53]\n",
      " [ 4.41]\n",
      " [ 4.83]\n",
      " [ 4.5 ]\n",
      " [ 5.04]\n",
      " [ 3.95]\n",
      " [ 8.09]\n",
      " [ 2.71]\n",
      " [ 2.8 ]\n",
      " [ 3.71]\n",
      " [ 5.35]\n",
      " [ 3.37]\n",
      " [ 2.32]\n",
      " [ 3.01]\n",
      " [ 2.66]\n",
      " [ 5.12]\n",
      " [ 1.92]\n",
      " [ 6.09]\n",
      " [ 3.15]\n",
      " [ 4.13]\n",
      " [ 4.42]\n",
      " [ 2.91]\n",
      " [ 5.09]\n",
      " [ 2.92]\n",
      " [ 3.53]\n",
      " [ 5.04]\n",
      " [ 8.44]\n",
      " [ 8.18]\n",
      " [ 7.46]\n",
      " [ 1.99]\n",
      " [ 3.76]\n",
      " [ 4.87]\n",
      " [ 4.62]\n",
      " [ 4.24]\n",
      " [ 2.85]\n",
      " [ 7.29]\n",
      " [ 2.83]\n",
      " [ 3.02]\n",
      " [ 4.5 ]\n",
      " [ 4.42]\n",
      " [ 3.23]\n",
      " [ 2.98]\n",
      " [ 2.52]\n",
      " [ 2.12]\n",
      " [ 3.73]\n",
      " [ 1.39]\n",
      " [ 5.48]\n",
      " [ 2.54]\n",
      " [ 4.8 ]\n",
      " [ 4.31]\n",
      " [ 3.09]\n",
      " [ 4.31]\n",
      " [ 3.21]\n",
      " [ 2.75]\n",
      " [ 6.16]\n",
      " [ 6.95]\n",
      " [ 8.15]\n",
      " [ 8.47]\n",
      " [ 4.39]\n",
      " [ 3.93]\n",
      " [ 4.1 ]\n",
      " [ 3.6 ]\n",
      " [ 3.83]\n",
      " [ 1.98]\n",
      " [ 7.14]\n",
      " [ 2.57]\n",
      " [ 2.05]\n",
      " [ 4.31]\n",
      " [ 4.23]\n",
      " [ 4.34]\n",
      " [ 2.9 ]\n",
      " [ 1.92]\n",
      " [ 2.55]\n",
      " [ 3.95]\n",
      " [ 1.45]\n",
      " [ 5.37]\n",
      " [ 3.1 ]\n",
      " [ 5.2 ]\n",
      " [ 3.03]\n",
      " [ 3.51]\n",
      " [ 4.1 ]\n",
      " [ 3.13]\n",
      " [ 2.68]\n",
      " [ 4.95]\n",
      " [ 6.29]\n",
      " [ 6.78]\n",
      " [12.89]\n",
      " [ 2.52]\n",
      " [ 3.27]\n",
      " [ 3.84]\n",
      " [ 4.36]\n",
      " [ 3.56]\n",
      " [ 2.21]\n",
      " [ 7.05]\n",
      " [ 2.6 ]\n",
      " [ 2.48]\n",
      " [ 3.56]\n",
      " [ 3.65]\n",
      " [ 4.2 ]\n",
      " [ 1.56]\n",
      " [ 2.43]\n",
      " [ 2.35]\n",
      " [ 3.9 ]\n",
      " [ 1.57]\n",
      " [ 5.6 ]\n",
      " [ 4.01]\n",
      " [ 4.79]\n",
      " [ 2.58]\n",
      " [ 2.62]\n",
      " [ 4.33]\n",
      " [ 2.99]\n",
      " [ 2.69]\n",
      " [ 4.51]\n",
      " [ 4.54]\n",
      " [ 7.26]\n",
      " [12.52]\n",
      " [ 3.55]\n",
      " [ 5.53]\n",
      " [ 3.37]\n",
      " [ 4.72]\n",
      " [ 4.1 ]\n",
      " [ 2.  ]\n",
      " [ 5.57]\n",
      " [ 2.59]\n",
      " [ 2.7 ]\n",
      " [ 3.64]\n",
      " [ 3.24]\n",
      " [ 3.28]\n",
      " [ 2.87]\n",
      " [ 2.26]\n",
      " [ 2.21]\n",
      " [ 4.01]\n",
      " [ 2.2 ]\n",
      " [ 5.77]\n",
      " [ 4.94]\n",
      " [ 3.66]\n",
      " [ 2.71]\n",
      " [ 3.04]\n",
      " [ 4.26]\n",
      " [ 3.27]\n",
      " [ 1.66]\n",
      " [ 5.72]\n",
      " [ 4.57]\n",
      " [ 5.97]\n",
      " [11.05]\n",
      " [ 2.75]\n",
      " [ 4.19]\n",
      " [ 3.77]\n",
      " [ 5.66]\n",
      " [ 2.72]\n",
      " [ 1.7 ]\n",
      " [ 8.4 ]\n",
      " [ 2.23]\n",
      " [ 2.62]\n",
      " [ 3.52]\n",
      " [ 2.92]\n",
      " [ 3.6 ]\n",
      " [ 2.02]\n",
      " [ 1.79]\n",
      " [ 1.97]\n",
      " [ 4.88]\n",
      " [ 2.2 ]\n",
      " [ 5.39]\n",
      " [ 8.91]\n",
      " [ 3.96]\n",
      " [ 2.72]\n",
      " [ 3.94]\n",
      " [ 4.85]\n",
      " [ 2.86]\n",
      " [ 2.78]\n",
      " [ 4.82]\n",
      " [ 4.33]\n",
      " [ 9.51]\n",
      " [ 8.6 ]\n",
      " [ 2.91]\n",
      " [ 4.55]\n",
      " [ 4.67]\n",
      " [ 6.12]\n",
      " [ 3.12]\n",
      " [ 2.32]\n",
      " [ 5.34]\n",
      " [ 2.79]\n",
      " [ 2.83]\n",
      " [ 3.24]\n",
      " [ 4.33]\n",
      " [ 4.25]\n",
      " [ 2.57]\n",
      " [ 2.06]\n",
      " [ 2.21]\n",
      " [ 5.52]\n",
      " [ 1.63]\n",
      " [ 5.56]\n",
      " [ 7.02]\n",
      " [ 5.08]\n",
      " [ 3.05]\n",
      " [ 2.91]\n",
      " [ 4.21]\n",
      " [ 2.84]\n",
      " [ 2.39]\n",
      " [ 5.21]\n",
      " [ 4.88]\n",
      " [ 9.6 ]\n",
      " [12.33]\n",
      " [ 3.43]\n",
      " [ 5.54]\n",
      " [ 4.53]\n",
      " [ 8.02]\n",
      " [ 3.99]\n",
      " [ 1.73]\n",
      " [ 8.  ]\n",
      " [ 3.28]\n",
      " [ 2.58]\n",
      " [ 4.36]\n",
      " [ 3.68]\n",
      " [ 5.52]\n",
      " [ 2.12]\n",
      " [ 2.81]\n",
      " [ 3.33]\n",
      " [ 7.64]\n",
      " [ 2.59]\n",
      " [ 7.65]\n",
      " [ 7.35]\n",
      " [ 5.54]\n",
      " [ 2.92]\n",
      " [ 3.97]\n",
      " [ 6.67]\n",
      " [ 4.81]\n",
      " [ 2.62]\n",
      " [ 6.77]\n",
      " [ 4.54]\n",
      " [ 9.11]\n",
      " [14.46]]\n"
     ]
    }
   ],
   "source": [
    "# Predict Milk Production and un-scale back to original values\n",
    "\n",
    "y_predict = target_scaler.inverse_transform(\n",
    "    bestANNModel.predict(xtest_scale).reshape(-1, 1))\n",
    "\n",
    "print('predicted milk production values \\n', y_predict)\n",
    "print('actual milk production values \\n', Y_test)\n",
    "\n",
    "# Calculate Mean Absolute Error\n",
    "mae_score = mean_absolute_error(Y_test, y_predict)\n",
    "#print(MAE_xgb)"
   ]
  },
  {
   "cell_type": "markdown",
   "id": "c89cad3f",
   "metadata": {
    "ExecuteTime": {
     "end_time": "2022-01-28T08:38:45.856921Z",
     "start_time": "2022-01-28T08:38:45.819931Z"
    }
   },
   "source": [
    "##### Save Model Score"
   ]
  },
  {
   "cell_type": "code",
   "execution_count": 33,
   "id": "700e018e",
   "metadata": {
    "ExecuteTime": {
     "end_time": "2022-01-29T04:52:11.781044Z",
     "start_time": "2022-01-29T04:52:11.754047Z"
    }
   },
   "outputs": [
    {
     "data": {
      "text/html": [
       "<div>\n",
       "<style scoped>\n",
       "    .dataframe tbody tr th:only-of-type {\n",
       "        vertical-align: middle;\n",
       "    }\n",
       "\n",
       "    .dataframe tbody tr th {\n",
       "        vertical-align: top;\n",
       "    }\n",
       "\n",
       "    .dataframe thead th {\n",
       "        text-align: right;\n",
       "    }\n",
       "</style>\n",
       "<table border=\"1\" class=\"dataframe\">\n",
       "  <thead>\n",
       "    <tr style=\"text-align: right;\">\n",
       "      <th></th>\n",
       "      <th>Model</th>\n",
       "      <th>Mean Absolute Error Score(%)</th>\n",
       "    </tr>\n",
       "  </thead>\n",
       "  <tbody>\n",
       "    <tr>\n",
       "      <th>0</th>\n",
       "      <td>Random Forest Regressor</td>\n",
       "      <td>1.07759</td>\n",
       "    </tr>\n",
       "    <tr>\n",
       "      <th>1</th>\n",
       "      <td>XGBOOST</td>\n",
       "      <td>1.16595</td>\n",
       "    </tr>\n",
       "    <tr>\n",
       "      <th>2</th>\n",
       "      <td>ANN</td>\n",
       "      <td>0.76291</td>\n",
       "    </tr>\n",
       "  </tbody>\n",
       "</table>\n",
       "</div>"
      ],
      "text/plain": [
       "                     Model  Mean Absolute Error Score(%)\n",
       "0  Random Forest Regressor                       1.07759\n",
       "1                  XGBOOST                       1.16595\n",
       "2                      ANN                       0.76291"
      ]
     },
     "execution_count": 33,
     "metadata": {},
     "output_type": "execute_result"
    }
   ],
   "source": [
    "model_scores_dataframe.loc[len(model_scores_dataframe)] = ['ANN', mae_score]\n",
    "model_scores_dataframe.head()"
   ]
  },
  {
   "cell_type": "markdown",
   "id": "fe7a8b36",
   "metadata": {},
   "source": [
    "### Save Artifacts"
   ]
  },
  {
   "cell_type": "markdown",
   "id": "775ccd8f",
   "metadata": {},
   "source": [
    "Save trained model into binary pickle file to use the model later with new input data from web app"
   ]
  },
  {
   "cell_type": "markdown",
   "id": "235b8c3c",
   "metadata": {},
   "source": [
    "#### Save Models"
   ]
  },
  {
   "cell_type": "code",
   "execution_count": 34,
   "id": "ac5ad16b",
   "metadata": {
    "ExecuteTime": {
     "end_time": "2022-01-29T04:52:11.860042Z",
     "start_time": "2022-01-29T04:52:11.786047Z"
    }
   },
   "outputs": [],
   "source": [
    "filename: str = 'ann-model.h5'\n",
    "ann_filepath: str = f'{directory}{filename}'\n",
    "bestANNModel.save(ann_filepath, save_format='h5')"
   ]
  }
 ],
 "metadata": {
  "kernelspec": {
   "display_name": "Python 3 (ipykernel)",
   "language": "python",
   "name": "python3"
  },
  "language_info": {
   "codemirror_mode": {
    "name": "ipython",
    "version": 3
   },
   "file_extension": ".py",
   "mimetype": "text/x-python",
   "name": "python",
   "nbconvert_exporter": "python",
   "pygments_lexer": "ipython3",
   "version": "3.8.12"
  },
  "toc": {
   "base_numbering": 1,
   "nav_menu": {},
   "number_sections": false,
   "sideBar": true,
   "skip_h1_title": false,
   "title_cell": "Table of Contents",
   "title_sidebar": "Contents",
   "toc_cell": false,
   "toc_position": {
    "height": "calc(100% - 180px)",
    "left": "10px",
    "top": "150px",
    "width": "375px"
   },
   "toc_section_display": true,
   "toc_window_display": true
  }
 },
 "nbformat": 4,
 "nbformat_minor": 5
}
