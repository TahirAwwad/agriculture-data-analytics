{
 "cells": [
  {
   "cell_type": "code",
   "execution_count": 11,
   "id": "afb242e6",
   "metadata": {},
   "outputs": [],
   "source": [
    "import pandas as pd\n",
    "import tweepy\n",
    "import csv #Import csv\n",
    "from pandas import DataFrame\n",
    "\n"
   ]
  },
  {
   "cell_type": "markdown",
   "id": "1e9d8ecf",
   "metadata": {},
   "source": [
    "Irish Accounts\n",
    "\n",
    "Dept of Agriculture, Food and the Marine\n",
    "@agriculture_ie\n",
    "Leading the sustainable development of Ireland’s agri-food, forestry and marine sectors.\n",
    "\n",
    "Irish Farmers' Association\n",
    "@IFAmedia\n",
    "IFA has protected and defended the interests of Irish farmers and their families at home and in Europe for more than 65 years. \n",
    "\n",
    "Irish Farmers Journal\n",
    "@farmersjournal\n",
    "Ireland's largest selling farming & rural living publication | Readership: 321,400 weekly print readers on the Island of Ireland. Source: Kantar 2021 TGI Survey\n",
    "\n",
    "Teagasc\n",
    "@teagasc\n",
    "Teagasc – Providing research, advisory & training services to the agriculture and food industry & rural communities.\n",
    "\n",
    "thatsfarming.com\n",
    "@thatsfarming\n",
    "Latest news on all things Farming. If you send us a tweet, you consent to letting http://Thatsfarming.com use & showcase it in any media.\n",
    "\n",
    "Agriland\n",
    "@AgrilandIreland\n",
    "Ireland’s largest farming news portal. Daily updates covering all agricultural sectors.\n",
    "\n",
    "\n",
    "\n",
    "\n",
    "US and World\n",
    "\n",
    "\n",
    "@USDA (131,000+ followers). Stay up-to-date with the latest news and information from the USDA, including links to the USDA Blog, recent videos and commentary from Secretary of Agriculture Tom Vilsack. @USDA also live tweets from industry events.\n",
    "\n",
    "@MonsantoCo (24,000+). Monsanto provides regular updates on the company’s latest innovation and news, as well as access to the company’s blog, Beyond the Rows. The blog is updated by Monsanto employees who write about the company’s business, the ag industry, the farmer and more.\n",
    "\n",
    "@nationalffa (24,000+). Formerly the Future Farmers of America, the National FFA Organization uses Twitter as a great way to keep its followers (and members) current on activities such as awards programs, outreach efforts and career opportunities.\n",
    "\n",
    "@farmbureau (18,000+). American Farm Bureau is the nation’s largest farm organization, comprised of and directed by farm and ranch families who engage in all types of food and fiber production. @farmbureau gives followers access to its newsletter (Foodie News) and podcast (FoodieCast), which offer the latest in food trends.\n",
    "\n",
    "@farmingfirst (16,500+). Farming First is a global coalition that calls on world leaders to increase agricultural output in a sustainable and socially responsible manner. Many tweets include links to content found on FarmingFirst.org, which features blogs, case studies, video and more.\n",
    "\n",
    "@rodaleinstitute (15,500+). A leader in the organics industry since 1947, Rodale Institute has a strong following on Twitter. The institute shares its latest research on the best practices of organic agriculture with farmers and scientists throughout the world.\n",
    "\n",
    "\n"
   ]
  },
  {
   "cell_type": "code",
   "execution_count": 12,
   "id": "7d05a356",
   "metadata": {},
   "outputs": [],
   "source": [
    "consumer_key = input('enter your token')\n",
    "consumer_secret = input('enter your token')\n",
    "access_token = input('enter your token')\n",
    "access_token_secret = input('enter your token')\n",
    "auth = tweepy.OAuthHandler(consumer_key, consumer_secret)\n",
    "auth.set_access_token(access_token, access_token_secret)\n",
    "api = tweepy.API(auth,wait_on_rate_limit=True)"
   ]
  },
  {
   "cell_type": "code",
   "execution_count": 13,
   "id": "0344703c",
   "metadata": {},
   "outputs": [],
   "source": [
    "#Dept of Agriculture, Food and the Marine\n",
    "#Leading the sustainable development of Ireland’s agri-food, forestry and marine sectors.\n",
    "userID = \"agriculture_ie\""
   ]
  },
  {
   "cell_type": "code",
   "execution_count": 14,
   "id": "86975311",
   "metadata": {},
   "outputs": [],
   "source": [
    "tweets = api.user_timeline(screen_name=userID, \n",
    "                           # 200 is the maximum allowed count\n",
    "                           count=200,\n",
    "                           include_rts = False,\n",
    "                           # Necessary to keep full_text \n",
    "                           # otherwise only the first 140 words are extracted\n",
    "                           tweet_mode = 'extended'\n",
    "                           )"
   ]
  },
  {
   "cell_type": "code",
   "execution_count": 15,
   "id": "ea075597",
   "metadata": {},
   "outputs": [
    {
     "name": "stdout",
     "output_type": "stream",
     "text": [
      "ID: 1472550028916912129\n",
      "2021-12-19 12:51:00+00:00\n",
      "It is mandatory to house your birds to help prevent #BirdFlu outbreaks\n",
      "\n",
      "Poultry or captive bird owners must apply these measures 🦆🐔\n",
      "\n",
      "📕⚖️Learn how to help prevent #avianinfluenza at https://t.co/y7fIA8a4sd\n",
      "\n",
      "\n",
      "ID: 1472189654484930562\n",
      "2021-12-18 12:59:00+00:00\n",
      "How to spot #birdflu in your flock 🐓\n",
      "Symptoms include:\n",
      "🐔swollen head\n",
      "🦆discolouration of neck and throat\n",
      "🐤loss of appetite\n",
      "🦃respiratory distress\n",
      "🐓diarrhoea\n",
      "🥚fewer eggs laid\n",
      "These symptoms vary between species\n",
      "Learn more on how to prevent #birdflu at https://t.co/y7fIA7StAF\n",
      "\n",
      "\n",
      "ID: 1471908735337512973\n",
      "2021-12-17 18:22:43+00:00\n",
      "Minister @pippa_hackett said \"The @mopsorganic project shows how growers can adapt to market demand and increase the supply of Irish organic vegetables and fruit. This is really vital evidence given our ambition for the sector.\"\n",
      "\n",
      "\n"
     ]
    }
   ],
   "source": [
    "for info in tweets[:3]:\n",
    "     print(\"ID: {}\".format(info.id))\n",
    "     print(info.created_at)\n",
    "     print(info.full_text)\n",
    "     print(\"\\n\")"
   ]
  },
  {
   "cell_type": "code",
   "execution_count": 16,
   "id": "9aba06fe",
   "metadata": {},
   "outputs": [
    {
     "name": "stdout",
     "output_type": "stream",
     "text": [
      "N of tweets downloaded till now 260\n",
      "N of tweets downloaded till now 414\n",
      "N of tweets downloaded till now 553\n",
      "N of tweets downloaded till now 712\n",
      "N of tweets downloaded till now 867\n",
      "N of tweets downloaded till now 1048\n",
      "N of tweets downloaded till now 1214\n",
      "N of tweets downloaded till now 1366\n",
      "N of tweets downloaded till now 1475\n",
      "N of tweets downloaded till now 1602\n",
      "N of tweets downloaded till now 1712\n",
      "N of tweets downloaded till now 1823\n",
      "N of tweets downloaded till now 1945\n",
      "N of tweets downloaded till now 2057\n",
      "N of tweets downloaded till now 2187\n",
      "N of tweets downloaded till now 2223\n"
     ]
    }
   ],
   "source": [
    "#extract additional tweets\n",
    "\n",
    "all_tweets = []\n",
    "all_tweets.extend(tweets)\n",
    "oldest_id = tweets[-1].id\n",
    "while True:\n",
    "    tweets = api.user_timeline(screen_name=userID, \n",
    "                           # 200 is the maximum allowed count\n",
    "                           count=200,\n",
    "                           include_rts = False,\n",
    "                           max_id = oldest_id - 1,\n",
    "                           # Necessary to keep full_text \n",
    "                           # otherwise only the first 140 words are extracted\n",
    "                           tweet_mode = 'extended'\n",
    "                           )\n",
    "    if len(tweets) == 0:\n",
    "        break\n",
    "    oldest_id = tweets[-1].id\n",
    "    all_tweets.extend(tweets)\n",
    "    print('N of tweets downloaded till now {}'.format(len(all_tweets)))"
   ]
  },
  {
   "cell_type": "markdown",
   "id": "fd8105be",
   "metadata": {},
   "source": [
    "outtweets = [[tweet.id_str, \n",
    "              tweet.created_at, \n",
    "              tweet.favorite_count, \n",
    "              tweet.retweet_count, \n",
    "              tweet.full_text.encode(\"utf-8\").decode(\"utf-8\")] \n",
    "             for idx,tweet in enumerate(all_tweets)]\n",
    "df = DataFrame(outtweets,columns=[\"id\",\"created_at\",\"favorite_count\",\"retweet_count\", \"text\"])\n",
    "df.to_csv('%s"
   ]
  },
  {
   "cell_type": "code",
   "execution_count": 20,
   "id": "0a0ad812",
   "metadata": {},
   "outputs": [
    {
     "data": {
      "text/html": [
       "<div>\n",
       "<style scoped>\n",
       "    .dataframe tbody tr th:only-of-type {\n",
       "        vertical-align: middle;\n",
       "    }\n",
       "\n",
       "    .dataframe tbody tr th {\n",
       "        vertical-align: top;\n",
       "    }\n",
       "\n",
       "    .dataframe thead th {\n",
       "        text-align: right;\n",
       "    }\n",
       "</style>\n",
       "<table border=\"1\" class=\"dataframe\">\n",
       "  <thead>\n",
       "    <tr style=\"text-align: right;\">\n",
       "      <th></th>\n",
       "      <th>id</th>\n",
       "      <th>created_at</th>\n",
       "      <th>favorite_count</th>\n",
       "      <th>retweet_count</th>\n",
       "      <th>text</th>\n",
       "    </tr>\n",
       "  </thead>\n",
       "  <tbody>\n",
       "    <tr>\n",
       "      <th>0</th>\n",
       "      <td>1472550028916912129</td>\n",
       "      <td>2021-12-19 12:51:00+00:00</td>\n",
       "      <td>8</td>\n",
       "      <td>5</td>\n",
       "      <td>It is mandatory to house your birds to help pr...</td>\n",
       "    </tr>\n",
       "    <tr>\n",
       "      <th>1</th>\n",
       "      <td>1472189654484930562</td>\n",
       "      <td>2021-12-18 12:59:00+00:00</td>\n",
       "      <td>1</td>\n",
       "      <td>1</td>\n",
       "      <td>How to spot #birdflu in your flock 🐓\\nSymptoms...</td>\n",
       "    </tr>\n",
       "    <tr>\n",
       "      <th>2</th>\n",
       "      <td>1471908735337512973</td>\n",
       "      <td>2021-12-17 18:22:43+00:00</td>\n",
       "      <td>5</td>\n",
       "      <td>2</td>\n",
       "      <td>Minister @pippa_hackett said \"The @mopsorganic...</td>\n",
       "    </tr>\n",
       "  </tbody>\n",
       "</table>\n",
       "</div>"
      ],
      "text/plain": [
       "                    id                created_at  favorite_count  \\\n",
       "0  1472550028916912129 2021-12-19 12:51:00+00:00               8   \n",
       "1  1472189654484930562 2021-12-18 12:59:00+00:00               1   \n",
       "2  1471908735337512973 2021-12-17 18:22:43+00:00               5   \n",
       "\n",
       "   retweet_count                                               text  \n",
       "0              5  It is mandatory to house your birds to help pr...  \n",
       "1              1  How to spot #birdflu in your flock 🐓\\nSymptoms...  \n",
       "2              2  Minister @pippa_hackett said \"The @mopsorganic...  "
      ]
     },
     "execution_count": 20,
     "metadata": {},
     "output_type": "execute_result"
    }
   ],
   "source": [
    "outtweets = [[tweet.id_str, \n",
    "              tweet.created_at, \n",
    "              tweet.favorite_count, \n",
    "              tweet.retweet_count, \n",
    "              tweet.full_text.encode(\"utf-8\").decode(\"utf-8\")] \n",
    "             for idx,tweet in enumerate(all_tweets)]\n",
    "df = DataFrame(outtweets,columns=[\"id\",\"created_at\",\"favorite_count\",\"retweet_count\", \"text\"])\n",
    "df.to_csv('./../artifacts/agriculture_ie.csv',index=False)\n",
    "df.head(3)\n"
   ]
  },
  {
   "cell_type": "code",
   "execution_count": null,
   "id": "0c099462",
   "metadata": {},
   "outputs": [],
   "source": []
  }
 ],
 "metadata": {
  "kernelspec": {
   "display_name": "Python 3",
   "language": "python",
   "name": "python3"
  },
  "language_info": {
   "codemirror_mode": {
    "name": "ipython",
    "version": 3
   },
   "file_extension": ".py",
   "mimetype": "text/x-python",
   "name": "python",
   "nbconvert_exporter": "python",
   "pygments_lexer": "ipython3",
   "version": "3.8.8"
  }
 },
 "nbformat": 4,
 "nbformat_minor": 5
}
