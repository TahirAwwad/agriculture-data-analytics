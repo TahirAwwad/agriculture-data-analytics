{
 "cells": [
  {
   "cell_type": "markdown",
   "id": "f0ab0e3b",
   "metadata": {},
   "source": [
    "## Download Twitter Data"
   ]
  },
  {
   "cell_type": "markdown",
   "id": "d2f5058f",
   "metadata": {},
   "source": [
    "<!--\n",
    "import data_analytics.github as github\n",
    "print(github.create_jupyter_notebook_header(\"markcrowe-com\", \"agriculture-data-analytics\", \"notebooks/notebook-3-01-get-farming-tweets.ipynb\", \"master\")\n",
    "-->\n",
    "<table style=\"margin: auto;\"><tr><td><a href=\"https://mybinder.org/v2/gh/markcrowe-com/agriculture-data-analytics/master?filepath=notebooks/notebook-3-01-get-farming-tweets.ipynb\" target=\"_parent\"><img src=\"https://mybinder.org/badge_logo.svg\" alt=\"Open In Binder\"/></a></td><td>online editors</td><td><a href=\"https://colab.research.google.com/github/markcrowe-com/agriculture-data-analytics/blob/master/notebooks/notebook-3-01-get-farming-tweets.ipynb\" target=\"_parent\"><img src=\"https://colab.research.google.com/assets/colab-badge.svg\" alt=\"Open In Colab\"/></a></td></tr></table>"
   ]
  },
  {
   "cell_type": "markdown",
   "id": "f81a6fd8",
   "metadata": {},
   "source": [
    "### Setup\n",
    "Import required third party Python libraries, import supporting functions and sets up data source file paths."
   ]
  },
  {
   "cell_type": "code",
   "execution_count": 1,
   "id": "9a5530b8",
   "metadata": {},
   "outputs": [],
   "source": [
    "# Local\n",
    "#!pip install -r script/requirements.txt --quiet\n",
    "# Remote option\n",
    "#!pip install -r https://github.com/tahirawwad/agriculture-data-analytics/blob/master/notebooks/script/requirements.txt --quiet"
   ]
  },
  {
   "cell_type": "code",
   "execution_count": 2,
   "id": "afb242e6",
   "metadata": {},
   "outputs": [],
   "source": [
    "from pandas import DataFrame\n",
    "from configparser import ConfigParser\n",
    "import csv\n",
    "import pandas\n",
    "import tweepy"
   ]
  },
  {
   "cell_type": "markdown",
   "id": "1e9d8ecf",
   "metadata": {},
   "source": [
    "### Twitter\n",
    "#### Irish Farming Accounts\n",
    "\n",
    "Dept of Agriculture, Food and the Marine:  <a href=\"https://twitter.com/agriculture_ie\" target=\"_new\">@agriculture_ie</a>  \n",
    "Leading the sustainable development of Ireland’s agri-food, forestry and marine sectors.  \n",
    "\n",
    "Irish Farmers' Association: <a href=\"https://twitter.com/ifamedia\" target=\"_new\">@ifamedia</a>  \n",
    "IFA has protected and defended the interests of Irish farmers and their families at home and in Europe for more than 65 years.  \n",
    "\n",
    "Irish Farmers Journal : <a href=\"https://twitter.com/farmersjournal\" target=\"_new\">@farmersjournal</a>  \n",
    "Ireland's largest selling farming & rural living publication | Readership: 321,400 weekly print readers on the Island of Ireland. Source: Kantar 2021 TGI Survey\n",
    "\n",
    "<a href=\"https://twitter.com/teagasc\" target=\"_new\">@Teagasc</a>  \n",
    "Teagasc - Providing research, advisory & training services to the agriculture and food industry & rural communities.\n",
    "\n",
    "<a href=\"https://twitter.com/thatsfarming\" target=\"_new\">@thatsfarming.com</a>  \n",
    "Latest news on all things Farming. If you send us a tweet, you consent to letting http://Thatsfarming.com use & showcase it in any media.\n",
    "\n",
    "<a href=\"https://twitter.com/agrilandireland\" target=\"_new\">@AgrilandIreland</a>  \n",
    "Ireland’s largest farming news portal. Daily updates covering all agricultural sectors.\n",
    "\n",
    "#### US and World Accounts\n",
    "\n",
    "<a href=\"https://twitter.com/USDA\" target=\"_new\">@USDA</a> (131,000+ followers). Stay up-to-date with the latest news and information from the USDA, including links to the USDA Blog, recent videos and commentary from Secretary of Agriculture Tom Vilsack. @USDA also live tweets from industry events.\n",
    "\n",
    "<a href=\"https://twitter.com/MonsantoCo\" target=\"_new\">@MonsantoCo</a> (24,000+). Monsanto provides regular updates on the company’s latest innovation and news, as well as access to the company’s blog, Beyond the Rows. The blog is updated by Monsanto employees who write about the company’s business, the ag industry, the farmer and more.\n",
    "\n",
    "<a href=\"https://twitter.com/nationalffa\" target=\"_new\">@nationalffa</a> (24,000+). Formerly the Future Farmers of America, the National FFA Organization uses Twitter as a great way to keep its followers (and members) current on activities such as awards programs, outreach efforts and career opportunities.\n",
    "\n",
    "<a href=\"https://twitter.com/farmbureau\" target=\"_new\">@farmbureau</a> (18,000+). American Farm Bureau is the nation’s largest farm organization, comprised of and directed by farm and ranch families who engage in all types of food and fiber production. @farmbureau gives followers access to its newsletter (Foodie News) and podcast (FoodieCast), which offer the latest in food trends.\n",
    "\n",
    "<a href=\"https://twitter.com/farmingfirst\" target=\"_new\">@farmingfirst</a> (16,500+). Farming First is a global coalition that calls on world leaders to increase agricultural output in a sustainable and socially responsible manner. Many tweets include links to content found on FarmingFirst.org, which features blogs, case studies, video and more.\n",
    "\n",
    "<a href=\"https://twitter.com/rodaleinstitute\" target=\"_new\">@rodaleinstitute</a> (15,500+). A leader in the organics industry since 1947, Rodale Institute has a strong following on Twitter. The institute shares its latest research on the best practices of organic agriculture with farmers and scientists throughout the world."
   ]
  },
  {
   "cell_type": "code",
   "execution_count": 3,
   "id": "082f7f56",
   "metadata": {},
   "outputs": [],
   "source": [
    "config_filepath = \"config.ini\"\n",
    "config_parser = ConfigParser()\n",
    "config_parser.read(config_filepath)\n",
    "\n",
    "access_token = config_parser[\"Twitter\"][\"AccessToken\"]\n",
    "access_token_secret = config_parser[\"Twitter\"][\"AccessTokenSecret\"]\n",
    "consumer_key = config_parser[\"Twitter\"][\"ApiKey\"]\n",
    "consumer_secret = config_parser[\"Twitter\"][\"ApiKeySecret\"]"
   ]
  },
  {
   "cell_type": "markdown",
   "id": "fe2d8448",
   "metadata": {},
   "source": [
    "<https://python-twitter.readthedocs.io/en/latest/getting_started.html>  \n",
    "\n",
    "\n",
    "You need to have a developer account: <https://developer.twitter.com/en/portal/petition/essential/basic-info>\n",
    "\n",
    "And apply for elevated access.\n",
    "<https://developer.twitter.com/en/portal/products/elevated>"
   ]
  },
  {
   "cell_type": "code",
   "execution_count": 4,
   "id": "585cbf26",
   "metadata": {},
   "outputs": [],
   "source": [
    "o_auth_handler = tweepy.OAuthHandler(consumer_key, consumer_secret)\n",
    "o_auth_handler.set_access_token(access_token, access_token_secret)\n",
    "tweepy_api = tweepy.API(o_auth_handler, wait_on_rate_limit=True)"
   ]
  },
  {
   "cell_type": "code",
   "execution_count": 5,
   "id": "0344703c",
   "metadata": {},
   "outputs": [],
   "source": [
    "#Dept of Agriculture, Food and the Marine\n",
    "screen_name = \"agriculture_ie\""
   ]
  },
  {
   "cell_type": "code",
   "execution_count": 6,
   "id": "86975311",
   "metadata": {},
   "outputs": [],
   "source": [
    "tweets = tweepy_api.user_timeline(\n",
    "    screen_name=screen_name, \n",
    "    count=200, # 200 is the maximum allowed count\n",
    "    include_rts = False,\n",
    "    tweet_mode = \"extended\") # Necessary to keep full_text otherwise only the first 140 words are extracted"
   ]
  },
  {
   "cell_type": "code",
   "execution_count": 7,
   "id": "ea075597",
   "metadata": {},
   "outputs": [
    {
     "name": "stdout",
     "output_type": "stream",
     "text": [
      "ID: 1479016695171850244\n",
      "2022-01-06 09:07:13+00:00\n",
      "Minister @McConalogue talks on how the Irish family farm model has lasted the test of time; the benefits of @EU membership for supports and access to the European Single Market; and on #FoodVision2030 at @oxfordfarming #ORFC22 \n",
      "\n",
      "📍https://t.co/gnbrahBBba \n",
      "\n",
      "https://t.co/3QaCqCWY6v\n",
      "\n",
      "\n",
      "ID: 1478777431871864839\n",
      "2022-01-05 17:16:28+00:00\n",
      "Here’s #BeWinterReady tips for farms:\n",
      "\n",
      "💡Ensure farm is well lit\n",
      "⚙️Get trained on how to use equipment correctly\n",
      "📱Always carry a mobile\n",
      "🗒Plan your work\n",
      "🧒Supervise kids on farms\n",
      "✔️Look after your wellbeing\n",
      "🚜Ensure vehicles are serviced\n",
      "\n",
      "➡️Learn more at https://t.co/osS8toedar https://t.co/x2vAYOlsOA\n",
      "\n",
      "\n",
      "ID: 1478305852868251653\n",
      "2022-01-04 10:02:35+00:00\n",
      "Extensions have been announced for a number of European Innovation Partnership (#EIP) projects including @DuncannonEIP, @CaomhnuArann,  @CurlewEIP and MacGillycuddy Reeks @ForumEip to continue work until the start of the next #CAP Strategic Plan in 2023\n",
      "\n",
      "➡️https://t.co/QrFlEjDS00 https://t.co/HATpSHHzRi\n",
      "\n",
      "\n"
     ]
    }
   ],
   "source": [
    "for info in tweets[:3]:\n",
    "     print(\"ID: {}\".format(info.id))\n",
    "     print(info.created_at)\n",
    "     print(info.full_text)\n",
    "     print(\"\\n\")"
   ]
  },
  {
   "cell_type": "code",
   "execution_count": 8,
   "id": "9aba06fe",
   "metadata": {},
   "outputs": [
    {
     "name": "stdout",
     "output_type": "stream",
     "text": [
      "N of tweets downloaded till now 263\n",
      "N of tweets downloaded till now 414\n",
      "N of tweets downloaded till now 548\n",
      "N of tweets downloaded till now 704\n",
      "N of tweets downloaded till now 860\n",
      "N of tweets downloaded till now 1026\n",
      "N of tweets downloaded till now 1202\n",
      "N of tweets downloaded till now 1375\n",
      "N of tweets downloaded till now 1469\n",
      "N of tweets downloaded till now 1605\n",
      "N of tweets downloaded till now 1710\n",
      "N of tweets downloaded till now 1828\n",
      "N of tweets downloaded till now 1944\n",
      "N of tweets downloaded till now 2055\n",
      "N of tweets downloaded till now 2172\n",
      "N of tweets downloaded till now 2222\n"
     ]
    }
   ],
   "source": [
    "#extract additional tweets\n",
    "\n",
    "all_tweets = []\n",
    "all_tweets.extend(tweets)\n",
    "oldest_id = tweets[-1].id\n",
    "while True:\n",
    "    tweets = tweepy_api.user_timeline(screen_name=screen_name, \n",
    "                           # 200 is the maximum allowed count\n",
    "                           count=200,\n",
    "                           include_rts = False,\n",
    "                           max_id = oldest_id - 1,\n",
    "                           # Necessary to keep full_text \n",
    "                           # otherwise only the first 140 words are extracted\n",
    "                           tweet_mode = 'extended'\n",
    "                           )\n",
    "    if len(tweets) == 0:\n",
    "        break\n",
    "    oldest_id = tweets[-1].id\n",
    "    all_tweets.extend(tweets)\n",
    "    print('N of tweets downloaded till now {}'.format(len(all_tweets)))"
   ]
  },
  {
   "cell_type": "code",
   "execution_count": 9,
   "id": "e5a1e684",
   "metadata": {},
   "outputs": [],
   "source": [
    "outtweets = [[tweet.id_str, \n",
    "              tweet.created_at, \n",
    "              tweet.favorite_count, \n",
    "              tweet.retweet_count, \n",
    "              tweet.full_text.encode(\"utf-8\").decode(\"utf-8\")\n",
    "             ] \n",
    "             for idx,tweet in enumerate(all_tweets)]"
   ]
  },
  {
   "cell_type": "code",
   "execution_count": 10,
   "id": "0a0ad812",
   "metadata": {},
   "outputs": [
    {
     "data": {
      "text/html": [
       "<div>\n",
       "<style scoped>\n",
       "    .dataframe tbody tr th:only-of-type {\n",
       "        vertical-align: middle;\n",
       "    }\n",
       "\n",
       "    .dataframe tbody tr th {\n",
       "        vertical-align: top;\n",
       "    }\n",
       "\n",
       "    .dataframe thead th {\n",
       "        text-align: right;\n",
       "    }\n",
       "</style>\n",
       "<table border=\"1\" class=\"dataframe\">\n",
       "  <thead>\n",
       "    <tr style=\"text-align: right;\">\n",
       "      <th></th>\n",
       "      <th>id</th>\n",
       "      <th>created_at</th>\n",
       "      <th>favorite_count</th>\n",
       "      <th>retweet_count</th>\n",
       "      <th>text</th>\n",
       "    </tr>\n",
       "  </thead>\n",
       "  <tbody>\n",
       "    <tr>\n",
       "      <th>0</th>\n",
       "      <td>1479016695171850244</td>\n",
       "      <td>2022-01-06 09:07:13+00:00</td>\n",
       "      <td>3</td>\n",
       "      <td>2</td>\n",
       "      <td>Minister @McConalogue talks on how the Irish f...</td>\n",
       "    </tr>\n",
       "    <tr>\n",
       "      <th>1</th>\n",
       "      <td>1478777431871864839</td>\n",
       "      <td>2022-01-05 17:16:28+00:00</td>\n",
       "      <td>5</td>\n",
       "      <td>4</td>\n",
       "      <td>Here’s #BeWinterReady tips for farms:\\n\\n💡Ensu...</td>\n",
       "    </tr>\n",
       "    <tr>\n",
       "      <th>2</th>\n",
       "      <td>1478305852868251653</td>\n",
       "      <td>2022-01-04 10:02:35+00:00</td>\n",
       "      <td>7</td>\n",
       "      <td>2</td>\n",
       "      <td>Extensions have been announced for a number of...</td>\n",
       "    </tr>\n",
       "  </tbody>\n",
       "</table>\n",
       "</div>"
      ],
      "text/plain": [
       "                    id                created_at  favorite_count  \\\n",
       "0  1479016695171850244 2022-01-06 09:07:13+00:00               3   \n",
       "1  1478777431871864839 2022-01-05 17:16:28+00:00               5   \n",
       "2  1478305852868251653 2022-01-04 10:02:35+00:00               7   \n",
       "\n",
       "   retweet_count                                               text  \n",
       "0              2  Minister @McConalogue talks on how the Irish f...  \n",
       "1              4  Here’s #BeWinterReady tips for farms:\\n\\n💡Ensu...  \n",
       "2              2  Extensions have been announced for a number of...  "
      ]
     },
     "execution_count": 10,
     "metadata": {},
     "output_type": "execute_result"
    }
   ],
   "source": [
    "dataframe = DataFrame(outtweets, columns=[\"id\", \"created_at\", \"favorite_count\", \"retweet_count\", \"text\"])\n",
    "dataframe.to_csv('./../assets/agriculture-ie.csv', index=False)\n",
    "dataframe.head(3)"
   ]
  }
 ],
 "metadata": {
  "kernelspec": {
   "display_name": "Python 3 (ipykernel)",
   "language": "python",
   "name": "python3"
  },
  "language_info": {
   "codemirror_mode": {
    "name": "ipython",
    "version": 3
   },
   "file_extension": ".py",
   "mimetype": "text/x-python",
   "name": "python",
   "nbconvert_exporter": "python",
   "pygments_lexer": "ipython3",
   "version": "3.8.12"
  }
 },
 "nbformat": 4,
 "nbformat_minor": 5
}
