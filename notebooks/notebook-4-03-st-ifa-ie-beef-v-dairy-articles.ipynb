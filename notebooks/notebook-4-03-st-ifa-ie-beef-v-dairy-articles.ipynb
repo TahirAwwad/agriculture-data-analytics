{
 "cells": [
  {
   "cell_type": "code",
   "execution_count": 1,
   "id": "ebb1ec0d",
   "metadata": {
    "ExecuteTime": {
     "end_time": "2022-01-30T22:35:43.297322Z",
     "start_time": "2022-01-30T22:35:21.264507Z"
    },
    "scrolled": true
   },
   "outputs": [],
   "source": [
    "from bokeh.io import output_notebook\n",
    "from IPython.core.interactiveshell import InteractiveShell\n",
    "from nltk.corpus import stopwords\n",
    "import cufflinks\n",
    "import matplotlib\n",
    "import matplotlib.pyplot as plt\n",
    "import nltk\n",
    "import numpy as np\n",
    "import pandas as pd\n",
    "import seaborn as sns\n",
    "import spacy\n",
    "import warnings \n",
    "\n",
    "from vaderSentiment.vaderSentiment import SentimentIntensityAnalyzer\n",
    "from sklearn.feature_extraction import DictVectorizer\n",
    "\n",
    "\n",
    "from scipy import stats ## Needed for stats test\n",
    "import statsmodels.api as sm\n",
    "from wordcloud import WordCloud, STOPWORDS\n",
    "\n",
    "from matplotlib import pyplot as plt\n"
   ]
  },
  {
   "cell_type": "code",
   "execution_count": 2,
   "id": "1e45266e",
   "metadata": {
    "ExecuteTime": {
     "end_time": "2022-01-30T22:35:43.313322Z",
     "start_time": "2022-01-30T22:35:43.300327Z"
    }
   },
   "outputs": [],
   "source": [
    "get_ipython().run_line_magic('matplotlib', 'inline')\n",
    "InteractiveShell.ast_node_interactivity = 'all'\n",
    "matplotlib.rcParams['figure.figsize'] = (10.0, 6.0)"
   ]
  },
  {
   "cell_type": "code",
   "execution_count": 3,
   "id": "b7708a7c",
   "metadata": {
    "ExecuteTime": {
     "end_time": "2022-01-30T22:35:43.328323Z",
     "start_time": "2022-01-30T22:35:43.316327Z"
    }
   },
   "outputs": [],
   "source": [
    "#warnings.filterwarnings('ignore')"
   ]
  },
  {
   "cell_type": "code",
   "execution_count": 4,
   "id": "447e4c9b",
   "metadata": {
    "ExecuteTime": {
     "end_time": "2022-01-30T22:35:43.359330Z",
     "start_time": "2022-01-30T22:35:43.335328Z"
    }
   },
   "outputs": [
    {
     "data": {
      "text/html": [
       "\n",
       "    <div class=\"bk-root\">\n",
       "        <a href=\"https://bokeh.org\" target=\"_blank\" class=\"bk-logo bk-logo-small bk-logo-notebook\"></a>\n",
       "        <span id=\"1001\">Loading BokehJS ...</span>\n",
       "    </div>"
      ]
     },
     "metadata": {},
     "output_type": "display_data"
    },
    {
     "data": {
      "application/javascript": [
       "\n",
       "(function(root) {\n",
       "  function now() {\n",
       "    return new Date();\n",
       "  }\n",
       "\n",
       "  const force = true;\n",
       "\n",
       "  if (typeof root._bokeh_onload_callbacks === \"undefined\" || force === true) {\n",
       "    root._bokeh_onload_callbacks = [];\n",
       "    root._bokeh_is_loading = undefined;\n",
       "  }\n",
       "\n",
       "  const JS_MIME_TYPE = 'application/javascript';\n",
       "  const HTML_MIME_TYPE = 'text/html';\n",
       "  const EXEC_MIME_TYPE = 'application/vnd.bokehjs_exec.v0+json';\n",
       "  const CLASS_NAME = 'output_bokeh rendered_html';\n",
       "\n",
       "  /**\n",
       "   * Render data to the DOM node\n",
       "   */\n",
       "  function render(props, node) {\n",
       "    const script = document.createElement(\"script\");\n",
       "    node.appendChild(script);\n",
       "  }\n",
       "\n",
       "  /**\n",
       "   * Handle when an output is cleared or removed\n",
       "   */\n",
       "  function handleClearOutput(event, handle) {\n",
       "    const cell = handle.cell;\n",
       "\n",
       "    const id = cell.output_area._bokeh_element_id;\n",
       "    const server_id = cell.output_area._bokeh_server_id;\n",
       "    // Clean up Bokeh references\n",
       "    if (id != null && id in Bokeh.index) {\n",
       "      Bokeh.index[id].model.document.clear();\n",
       "      delete Bokeh.index[id];\n",
       "    }\n",
       "\n",
       "    if (server_id !== undefined) {\n",
       "      // Clean up Bokeh references\n",
       "      const cmd_clean = \"from bokeh.io.state import curstate; print(curstate().uuid_to_server['\" + server_id + \"'].get_sessions()[0].document.roots[0]._id)\";\n",
       "      cell.notebook.kernel.execute(cmd_clean, {\n",
       "        iopub: {\n",
       "          output: function(msg) {\n",
       "            const id = msg.content.text.trim();\n",
       "            if (id in Bokeh.index) {\n",
       "              Bokeh.index[id].model.document.clear();\n",
       "              delete Bokeh.index[id];\n",
       "            }\n",
       "          }\n",
       "        }\n",
       "      });\n",
       "      // Destroy server and session\n",
       "      const cmd_destroy = \"import bokeh.io.notebook as ion; ion.destroy_server('\" + server_id + \"')\";\n",
       "      cell.notebook.kernel.execute(cmd_destroy);\n",
       "    }\n",
       "  }\n",
       "\n",
       "  /**\n",
       "   * Handle when a new output is added\n",
       "   */\n",
       "  function handleAddOutput(event, handle) {\n",
       "    const output_area = handle.output_area;\n",
       "    const output = handle.output;\n",
       "\n",
       "    // limit handleAddOutput to display_data with EXEC_MIME_TYPE content only\n",
       "    if ((output.output_type != \"display_data\") || (!Object.prototype.hasOwnProperty.call(output.data, EXEC_MIME_TYPE))) {\n",
       "      return\n",
       "    }\n",
       "\n",
       "    const toinsert = output_area.element.find(\".\" + CLASS_NAME.split(' ')[0]);\n",
       "\n",
       "    if (output.metadata[EXEC_MIME_TYPE][\"id\"] !== undefined) {\n",
       "      toinsert[toinsert.length - 1].firstChild.textContent = output.data[JS_MIME_TYPE];\n",
       "      // store reference to embed id on output_area\n",
       "      output_area._bokeh_element_id = output.metadata[EXEC_MIME_TYPE][\"id\"];\n",
       "    }\n",
       "    if (output.metadata[EXEC_MIME_TYPE][\"server_id\"] !== undefined) {\n",
       "      const bk_div = document.createElement(\"div\");\n",
       "      bk_div.innerHTML = output.data[HTML_MIME_TYPE];\n",
       "      const script_attrs = bk_div.children[0].attributes;\n",
       "      for (let i = 0; i < script_attrs.length; i++) {\n",
       "        toinsert[toinsert.length - 1].firstChild.setAttribute(script_attrs[i].name, script_attrs[i].value);\n",
       "        toinsert[toinsert.length - 1].firstChild.textContent = bk_div.children[0].textContent\n",
       "      }\n",
       "      // store reference to server id on output_area\n",
       "      output_area._bokeh_server_id = output.metadata[EXEC_MIME_TYPE][\"server_id\"];\n",
       "    }\n",
       "  }\n",
       "\n",
       "  function register_renderer(events, OutputArea) {\n",
       "\n",
       "    function append_mime(data, metadata, element) {\n",
       "      // create a DOM node to render to\n",
       "      const toinsert = this.create_output_subarea(\n",
       "        metadata,\n",
       "        CLASS_NAME,\n",
       "        EXEC_MIME_TYPE\n",
       "      );\n",
       "      this.keyboard_manager.register_events(toinsert);\n",
       "      // Render to node\n",
       "      const props = {data: data, metadata: metadata[EXEC_MIME_TYPE]};\n",
       "      render(props, toinsert[toinsert.length - 1]);\n",
       "      element.append(toinsert);\n",
       "      return toinsert\n",
       "    }\n",
       "\n",
       "    /* Handle when an output is cleared or removed */\n",
       "    events.on('clear_output.CodeCell', handleClearOutput);\n",
       "    events.on('delete.Cell', handleClearOutput);\n",
       "\n",
       "    /* Handle when a new output is added */\n",
       "    events.on('output_added.OutputArea', handleAddOutput);\n",
       "\n",
       "    /**\n",
       "     * Register the mime type and append_mime function with output_area\n",
       "     */\n",
       "    OutputArea.prototype.register_mime_type(EXEC_MIME_TYPE, append_mime, {\n",
       "      /* Is output safe? */\n",
       "      safe: true,\n",
       "      /* Index of renderer in `output_area.display_order` */\n",
       "      index: 0\n",
       "    });\n",
       "  }\n",
       "\n",
       "  // register the mime type if in Jupyter Notebook environment and previously unregistered\n",
       "  if (root.Jupyter !== undefined) {\n",
       "    const events = require('base/js/events');\n",
       "    const OutputArea = require('notebook/js/outputarea').OutputArea;\n",
       "\n",
       "    if (OutputArea.prototype.mime_types().indexOf(EXEC_MIME_TYPE) == -1) {\n",
       "      register_renderer(events, OutputArea);\n",
       "    }\n",
       "  }\n",
       "\n",
       "  \n",
       "  if (typeof (root._bokeh_timeout) === \"undefined\" || force === true) {\n",
       "    root._bokeh_timeout = Date.now() + 5000;\n",
       "    root._bokeh_failed_load = false;\n",
       "  }\n",
       "\n",
       "  const NB_LOAD_WARNING = {'data': {'text/html':\n",
       "     \"<div style='background-color: #fdd'>\\n\"+\n",
       "     \"<p>\\n\"+\n",
       "     \"BokehJS does not appear to have successfully loaded. If loading BokehJS from CDN, this \\n\"+\n",
       "     \"may be due to a slow or bad network connection. Possible fixes:\\n\"+\n",
       "     \"</p>\\n\"+\n",
       "     \"<ul>\\n\"+\n",
       "     \"<li>re-rerun `output_notebook()` to attempt to load from CDN again, or</li>\\n\"+\n",
       "     \"<li>use INLINE resources instead, as so:</li>\\n\"+\n",
       "     \"</ul>\\n\"+\n",
       "     \"<code>\\n\"+\n",
       "     \"from bokeh.resources import INLINE\\n\"+\n",
       "     \"output_notebook(resources=INLINE)\\n\"+\n",
       "     \"</code>\\n\"+\n",
       "     \"</div>\"}};\n",
       "\n",
       "  function display_loaded() {\n",
       "    const el = document.getElementById(\"1001\");\n",
       "    if (el != null) {\n",
       "      el.textContent = \"BokehJS is loading...\";\n",
       "    }\n",
       "    if (root.Bokeh !== undefined) {\n",
       "      if (el != null) {\n",
       "        el.textContent = \"BokehJS \" + root.Bokeh.version + \" successfully loaded.\";\n",
       "      }\n",
       "    } else if (Date.now() < root._bokeh_timeout) {\n",
       "      setTimeout(display_loaded, 100)\n",
       "    }\n",
       "  }\n",
       "\n",
       "\n",
       "  function run_callbacks() {\n",
       "    try {\n",
       "      root._bokeh_onload_callbacks.forEach(function(callback) {\n",
       "        if (callback != null)\n",
       "          callback();\n",
       "      });\n",
       "    } finally {\n",
       "      delete root._bokeh_onload_callbacks\n",
       "    }\n",
       "    console.debug(\"Bokeh: all callbacks have finished\");\n",
       "  }\n",
       "\n",
       "  function load_libs(css_urls, js_urls, callback) {\n",
       "    if (css_urls == null) css_urls = [];\n",
       "    if (js_urls == null) js_urls = [];\n",
       "\n",
       "    root._bokeh_onload_callbacks.push(callback);\n",
       "    if (root._bokeh_is_loading > 0) {\n",
       "      console.debug(\"Bokeh: BokehJS is being loaded, scheduling callback at\", now());\n",
       "      return null;\n",
       "    }\n",
       "    if (js_urls == null || js_urls.length === 0) {\n",
       "      run_callbacks();\n",
       "      return null;\n",
       "    }\n",
       "    console.debug(\"Bokeh: BokehJS not loaded, scheduling load and callback at\", now());\n",
       "    root._bokeh_is_loading = css_urls.length + js_urls.length;\n",
       "\n",
       "    function on_load() {\n",
       "      root._bokeh_is_loading--;\n",
       "      if (root._bokeh_is_loading === 0) {\n",
       "        console.debug(\"Bokeh: all BokehJS libraries/stylesheets loaded\");\n",
       "        run_callbacks()\n",
       "      }\n",
       "    }\n",
       "\n",
       "    function on_error(url) {\n",
       "      console.error(\"failed to load \" + url);\n",
       "    }\n",
       "\n",
       "    for (let i = 0; i < css_urls.length; i++) {\n",
       "      const url = css_urls[i];\n",
       "      const element = document.createElement(\"link\");\n",
       "      element.onload = on_load;\n",
       "      element.onerror = on_error.bind(null, url);\n",
       "      element.rel = \"stylesheet\";\n",
       "      element.type = \"text/css\";\n",
       "      element.href = url;\n",
       "      console.debug(\"Bokeh: injecting link tag for BokehJS stylesheet: \", url);\n",
       "      document.body.appendChild(element);\n",
       "    }\n",
       "\n",
       "    for (let i = 0; i < js_urls.length; i++) {\n",
       "      const url = js_urls[i];\n",
       "      const element = document.createElement('script');\n",
       "      element.onload = on_load;\n",
       "      element.onerror = on_error.bind(null, url);\n",
       "      element.async = false;\n",
       "      element.src = url;\n",
       "      console.debug(\"Bokeh: injecting script tag for BokehJS library: \", url);\n",
       "      document.head.appendChild(element);\n",
       "    }\n",
       "  };\n",
       "\n",
       "  function inject_raw_css(css) {\n",
       "    const element = document.createElement(\"style\");\n",
       "    element.appendChild(document.createTextNode(css));\n",
       "    document.body.appendChild(element);\n",
       "  }\n",
       "\n",
       "  \n",
       "  const js_urls = [\"https://cdn.bokeh.org/bokeh/release/bokeh-2.4.2.min.js\", \"https://cdn.bokeh.org/bokeh/release/bokeh-gl-2.4.2.min.js\", \"https://cdn.bokeh.org/bokeh/release/bokeh-widgets-2.4.2.min.js\", \"https://cdn.bokeh.org/bokeh/release/bokeh-tables-2.4.2.min.js\", \"https://cdn.bokeh.org/bokeh/release/bokeh-mathjax-2.4.2.min.js\"];\n",
       "  const css_urls = [];\n",
       "  \n",
       "\n",
       "  const inline_js = [\n",
       "    function(Bokeh) {\n",
       "      Bokeh.set_log_level(\"info\");\n",
       "    },\n",
       "    function(Bokeh) {\n",
       "    \n",
       "    \n",
       "    }\n",
       "  ];\n",
       "\n",
       "  function run_inline_js() {\n",
       "    \n",
       "    if (root.Bokeh !== undefined || force === true) {\n",
       "      \n",
       "    for (let i = 0; i < inline_js.length; i++) {\n",
       "      inline_js[i].call(root, root.Bokeh);\n",
       "    }\n",
       "    if (force === true) {\n",
       "        display_loaded();\n",
       "      }} else if (Date.now() < root._bokeh_timeout) {\n",
       "      setTimeout(run_inline_js, 100);\n",
       "    } else if (!root._bokeh_failed_load) {\n",
       "      console.log(\"Bokeh: BokehJS failed to load within specified timeout.\");\n",
       "      root._bokeh_failed_load = true;\n",
       "    } else if (force !== true) {\n",
       "      const cell = $(document.getElementById(\"1001\")).parents('.cell').data().cell;\n",
       "      cell.output_area.append_execute_result(NB_LOAD_WARNING)\n",
       "    }\n",
       "\n",
       "  }\n",
       "\n",
       "  if (root._bokeh_is_loading === 0) {\n",
       "    console.debug(\"Bokeh: BokehJS loaded, going straight to plotting\");\n",
       "    run_inline_js();\n",
       "  } else {\n",
       "    load_libs(css_urls, js_urls, function() {\n",
       "      console.debug(\"Bokeh: BokehJS plotting callback run at\", now());\n",
       "      run_inline_js();\n",
       "    });\n",
       "  }\n",
       "}(window));"
      ],
      "application/vnd.bokehjs_load.v0+json": "\n(function(root) {\n  function now() {\n    return new Date();\n  }\n\n  const force = true;\n\n  if (typeof root._bokeh_onload_callbacks === \"undefined\" || force === true) {\n    root._bokeh_onload_callbacks = [];\n    root._bokeh_is_loading = undefined;\n  }\n\n  \n\n  \n  if (typeof (root._bokeh_timeout) === \"undefined\" || force === true) {\n    root._bokeh_timeout = Date.now() + 5000;\n    root._bokeh_failed_load = false;\n  }\n\n  const NB_LOAD_WARNING = {'data': {'text/html':\n     \"<div style='background-color: #fdd'>\\n\"+\n     \"<p>\\n\"+\n     \"BokehJS does not appear to have successfully loaded. If loading BokehJS from CDN, this \\n\"+\n     \"may be due to a slow or bad network connection. Possible fixes:\\n\"+\n     \"</p>\\n\"+\n     \"<ul>\\n\"+\n     \"<li>re-rerun `output_notebook()` to attempt to load from CDN again, or</li>\\n\"+\n     \"<li>use INLINE resources instead, as so:</li>\\n\"+\n     \"</ul>\\n\"+\n     \"<code>\\n\"+\n     \"from bokeh.resources import INLINE\\n\"+\n     \"output_notebook(resources=INLINE)\\n\"+\n     \"</code>\\n\"+\n     \"</div>\"}};\n\n  function display_loaded() {\n    const el = document.getElementById(\"1001\");\n    if (el != null) {\n      el.textContent = \"BokehJS is loading...\";\n    }\n    if (root.Bokeh !== undefined) {\n      if (el != null) {\n        el.textContent = \"BokehJS \" + root.Bokeh.version + \" successfully loaded.\";\n      }\n    } else if (Date.now() < root._bokeh_timeout) {\n      setTimeout(display_loaded, 100)\n    }\n  }\n\n\n  function run_callbacks() {\n    try {\n      root._bokeh_onload_callbacks.forEach(function(callback) {\n        if (callback != null)\n          callback();\n      });\n    } finally {\n      delete root._bokeh_onload_callbacks\n    }\n    console.debug(\"Bokeh: all callbacks have finished\");\n  }\n\n  function load_libs(css_urls, js_urls, callback) {\n    if (css_urls == null) css_urls = [];\n    if (js_urls == null) js_urls = [];\n\n    root._bokeh_onload_callbacks.push(callback);\n    if (root._bokeh_is_loading > 0) {\n      console.debug(\"Bokeh: BokehJS is being loaded, scheduling callback at\", now());\n      return null;\n    }\n    if (js_urls == null || js_urls.length === 0) {\n      run_callbacks();\n      return null;\n    }\n    console.debug(\"Bokeh: BokehJS not loaded, scheduling load and callback at\", now());\n    root._bokeh_is_loading = css_urls.length + js_urls.length;\n\n    function on_load() {\n      root._bokeh_is_loading--;\n      if (root._bokeh_is_loading === 0) {\n        console.debug(\"Bokeh: all BokehJS libraries/stylesheets loaded\");\n        run_callbacks()\n      }\n    }\n\n    function on_error(url) {\n      console.error(\"failed to load \" + url);\n    }\n\n    for (let i = 0; i < css_urls.length; i++) {\n      const url = css_urls[i];\n      const element = document.createElement(\"link\");\n      element.onload = on_load;\n      element.onerror = on_error.bind(null, url);\n      element.rel = \"stylesheet\";\n      element.type = \"text/css\";\n      element.href = url;\n      console.debug(\"Bokeh: injecting link tag for BokehJS stylesheet: \", url);\n      document.body.appendChild(element);\n    }\n\n    for (let i = 0; i < js_urls.length; i++) {\n      const url = js_urls[i];\n      const element = document.createElement('script');\n      element.onload = on_load;\n      element.onerror = on_error.bind(null, url);\n      element.async = false;\n      element.src = url;\n      console.debug(\"Bokeh: injecting script tag for BokehJS library: \", url);\n      document.head.appendChild(element);\n    }\n  };\n\n  function inject_raw_css(css) {\n    const element = document.createElement(\"style\");\n    element.appendChild(document.createTextNode(css));\n    document.body.appendChild(element);\n  }\n\n  \n  const js_urls = [\"https://cdn.bokeh.org/bokeh/release/bokeh-2.4.2.min.js\", \"https://cdn.bokeh.org/bokeh/release/bokeh-gl-2.4.2.min.js\", \"https://cdn.bokeh.org/bokeh/release/bokeh-widgets-2.4.2.min.js\", \"https://cdn.bokeh.org/bokeh/release/bokeh-tables-2.4.2.min.js\", \"https://cdn.bokeh.org/bokeh/release/bokeh-mathjax-2.4.2.min.js\"];\n  const css_urls = [];\n  \n\n  const inline_js = [\n    function(Bokeh) {\n      Bokeh.set_log_level(\"info\");\n    },\n    function(Bokeh) {\n    \n    \n    }\n  ];\n\n  function run_inline_js() {\n    \n    if (root.Bokeh !== undefined || force === true) {\n      \n    for (let i = 0; i < inline_js.length; i++) {\n      inline_js[i].call(root, root.Bokeh);\n    }\n    if (force === true) {\n        display_loaded();\n      }} else if (Date.now() < root._bokeh_timeout) {\n      setTimeout(run_inline_js, 100);\n    } else if (!root._bokeh_failed_load) {\n      console.log(\"Bokeh: BokehJS failed to load within specified timeout.\");\n      root._bokeh_failed_load = true;\n    } else if (force !== true) {\n      const cell = $(document.getElementById(\"1001\")).parents('.cell').data().cell;\n      cell.output_area.append_execute_result(NB_LOAD_WARNING)\n    }\n\n  }\n\n  if (root._bokeh_is_loading === 0) {\n    console.debug(\"Bokeh: BokehJS loaded, going straight to plotting\");\n    run_inline_js();\n  } else {\n    load_libs(css_urls, js_urls, function() {\n      console.debug(\"Bokeh: BokehJS plotting callback run at\", now());\n      run_inline_js();\n    });\n  }\n}(window));"
     },
     "metadata": {},
     "output_type": "display_data"
    }
   ],
   "source": [
    "output_notebook()"
   ]
  },
  {
   "cell_type": "code",
   "execution_count": 5,
   "id": "a489c019",
   "metadata": {
    "ExecuteTime": {
     "end_time": "2022-01-30T22:35:45.088225Z",
     "start_time": "2022-01-30T22:35:43.363326Z"
    }
   },
   "outputs": [
    {
     "data": {
      "text/html": [
       "        <script type=\"text/javascript\">\n",
       "        window.PlotlyConfig = {MathJaxConfig: 'local'};\n",
       "        if (window.MathJax) {MathJax.Hub.Config({SVG: {font: \"STIX-Web\"}});}\n",
       "        if (typeof require !== 'undefined') {\n",
       "        require.undef(\"plotly\");\n",
       "        requirejs.config({\n",
       "            paths: {\n",
       "                'plotly': ['https://cdn.plot.ly/plotly-2.8.3.min']\n",
       "            }\n",
       "        });\n",
       "        require(['plotly'], function(Plotly) {\n",
       "            window._Plotly = Plotly;\n",
       "        });\n",
       "        }\n",
       "        </script>\n",
       "        "
      ]
     },
     "metadata": {},
     "output_type": "display_data"
    }
   ],
   "source": [
    "cufflinks.go_offline()\n",
    "cufflinks.set_config_file(world_readable=True, theme='pearl')\n",
    "\n",
    "nlp = spacy.load('en_core_web_sm')"
   ]
  },
  {
   "cell_type": "code",
   "execution_count": 6,
   "id": "f3d2f11f",
   "metadata": {
    "ExecuteTime": {
     "end_time": "2022-01-30T22:35:45.529523Z",
     "start_time": "2022-01-30T22:35:45.106227Z"
    },
    "scrolled": true
   },
   "outputs": [
    {
     "name": "stderr",
     "output_type": "stream",
     "text": [
      "[nltk_data] Downloading package words to\n",
      "[nltk_data]     C:\\Users\\user\\AppData\\Roaming\\nltk_data...\n",
      "[nltk_data]   Package words is already up-to-date!\n"
     ]
    },
    {
     "data": {
      "text/plain": [
       "True"
      ]
     },
     "execution_count": 6,
     "metadata": {},
     "output_type": "execute_result"
    }
   ],
   "source": [
    "nltk.download('words')"
   ]
  },
  {
   "cell_type": "code",
   "execution_count": 7,
   "id": "d3ce8b7b",
   "metadata": {
    "ExecuteTime": {
     "end_time": "2022-01-30T22:35:45.798520Z",
     "start_time": "2022-01-30T22:35:45.533521Z"
    }
   },
   "outputs": [],
   "source": [
    "words = set(nltk.corpus.words.words())"
   ]
  },
  {
   "cell_type": "code",
   "execution_count": 8,
   "id": "f2f663f9",
   "metadata": {
    "ExecuteTime": {
     "end_time": "2022-01-30T22:35:45.989526Z",
     "start_time": "2022-01-30T22:35:45.801520Z"
    },
    "scrolled": true
   },
   "outputs": [
    {
     "data": {
      "text/plain": [
       "Index(['URL', 'Heading', 'Date', 'Trend', 'Text', 'HTML Content', 'clean_text',\n",
       "       'polarity_tokens', 'review_len', 'word_count'],\n",
       "      dtype='object')"
      ]
     },
     "execution_count": 8,
     "metadata": {},
     "output_type": "execute_result"
    }
   ],
   "source": [
    "filename: str = \"./../artifacts/ifa-ie-articles.csv\"\n",
    "df = pd.read_csv(filename)\n",
    "\n",
    "df.columns "
   ]
  },
  {
   "cell_type": "code",
   "execution_count": 9,
   "id": "8c50e84a",
   "metadata": {
    "ExecuteTime": {
     "end_time": "2022-01-30T22:35:46.020522Z",
     "start_time": "2022-01-30T22:35:45.991520Z"
    }
   },
   "outputs": [
    {
     "name": "stdout",
     "output_type": "stream",
     "text": [
      "<class 'pandas.core.frame.DataFrame'>\n",
      "RangeIndex: 872 entries, 0 to 871\n",
      "Data columns (total 10 columns):\n",
      " #   Column           Non-Null Count  Dtype  \n",
      "---  ------           --------------  -----  \n",
      " 0   URL              872 non-null    object \n",
      " 1   Heading          872 non-null    object \n",
      " 2   Date             872 non-null    object \n",
      " 3   Trend            872 non-null    object \n",
      " 4   Text             872 non-null    object \n",
      " 5   HTML Content     872 non-null    object \n",
      " 6   clean_text       872 non-null    object \n",
      " 7   polarity_tokens  872 non-null    float64\n",
      " 8   review_len       872 non-null    int64  \n",
      " 9   word_count       872 non-null    int64  \n",
      "dtypes: float64(1), int64(2), object(7)\n",
      "memory usage: 68.2+ KB\n"
     ]
    }
   ],
   "source": [
    "df.info()"
   ]
  },
  {
   "cell_type": "code",
   "execution_count": 10,
   "id": "082961f6",
   "metadata": {
    "ExecuteTime": {
     "end_time": "2022-01-30T22:35:46.052520Z",
     "start_time": "2022-01-30T22:35:46.023522Z"
    }
   },
   "outputs": [
    {
     "data": {
      "text/html": [
       "<div>\n",
       "<style scoped>\n",
       "    .dataframe tbody tr th:only-of-type {\n",
       "        vertical-align: middle;\n",
       "    }\n",
       "\n",
       "    .dataframe tbody tr th {\n",
       "        vertical-align: top;\n",
       "    }\n",
       "\n",
       "    .dataframe thead th {\n",
       "        text-align: right;\n",
       "    }\n",
       "</style>\n",
       "<table border=\"1\" class=\"dataframe\">\n",
       "  <thead>\n",
       "    <tr style=\"text-align: right;\">\n",
       "      <th></th>\n",
       "      <th>URL</th>\n",
       "      <th>Heading</th>\n",
       "      <th>Date</th>\n",
       "      <th>Trend</th>\n",
       "      <th>Text</th>\n",
       "      <th>HTML Content</th>\n",
       "      <th>clean_text</th>\n",
       "      <th>polarity_tokens</th>\n",
       "      <th>review_len</th>\n",
       "      <th>word_count</th>\n",
       "    </tr>\n",
       "  </thead>\n",
       "  <tbody>\n",
       "    <tr>\n",
       "      <th>0</th>\n",
       "      <td>https://www.ifa.ie/markets-and-prices/weekly-c...</td>\n",
       "      <td>Weekly Cattle Prices 26th January</td>\n",
       "      <td>26 January 2022</td>\n",
       "      <td>cattle</td>\n",
       "      <td>\\r\\nPrices reported as quoted or paid to IFA M...</td>\n",
       "      <td>&lt;div class=\"single-content\"&gt;\\r\\n&lt;p&gt;Prices repo...</td>\n",
       "      <td>price report quote pay ifa member strong deman...</td>\n",
       "      <td>-0.203214</td>\n",
       "      <td>329</td>\n",
       "      <td>52</td>\n",
       "    </tr>\n",
       "    <tr>\n",
       "      <th>1</th>\n",
       "      <td>https://www.ifa.ie/regional/wexford-ifa-fertil...</td>\n",
       "      <td>Wexford IFA Fertiliser Seminar 24th January</td>\n",
       "      <td>25 January 2022</td>\n",
       "      <td>cattle</td>\n",
       "      <td>\\r\\nWexford IFA held an online public open mee...</td>\n",
       "      <td>&lt;div class=\"single-content\"&gt;\\r\\n&lt;p&gt;Wexford IFA...</td>\n",
       "      <td>wexford ifa hold online public open meeting cu...</td>\n",
       "      <td>0.000000</td>\n",
       "      <td>465</td>\n",
       "      <td>60</td>\n",
       "    </tr>\n",
       "    <tr>\n",
       "      <th>2</th>\n",
       "      <td>https://www.ifa.ie/markets-and-prices/beef-she...</td>\n",
       "      <td>Beef &amp; Sheep Update 21st January</td>\n",
       "      <td>22 January 2022</td>\n",
       "      <td>cattle</td>\n",
       "      <td>\\r\\nBeef Update\\r\\nIFA Livestock chairman Bren...</td>\n",
       "      <td>&lt;div class=\"single-content\"&gt;\\r\\n&lt;h2&gt;Beef Updat...</td>\n",
       "      <td>beef update ifa livestock chairman brendan gol...</td>\n",
       "      <td>0.031870</td>\n",
       "      <td>1615</td>\n",
       "      <td>242</td>\n",
       "    </tr>\n",
       "    <tr>\n",
       "      <th>3</th>\n",
       "      <td>https://www.ifa.ie/campaigns/key-amendments-on...</td>\n",
       "      <td>Key Amendments on Animal Transport Carried, Bu...</td>\n",
       "      <td>20 January 2022</td>\n",
       "      <td>cattle</td>\n",
       "      <td>\\r\\nIFA President Tim Cullinan said the voting...</td>\n",
       "      <td>&lt;div class=\"single-content\"&gt;\\r\\n&lt;p&gt;IFA Preside...</td>\n",
       "      <td>ifa president tim cullinan say voting key amen...</td>\n",
       "      <td>0.044190</td>\n",
       "      <td>930</td>\n",
       "      <td>128</td>\n",
       "    </tr>\n",
       "    <tr>\n",
       "      <th>4</th>\n",
       "      <td>https://www.ifa.ie/markets-and-prices/weekly-c...</td>\n",
       "      <td>Weekly Cattle Prices 19th January</td>\n",
       "      <td>19 January 2022</td>\n",
       "      <td>cattle</td>\n",
       "      <td>\\r\\nPrices reported as quoted or paid to IFA M...</td>\n",
       "      <td>&lt;div class=\"single-content\"&gt;\\r\\n&lt;p&gt;Prices repo...</td>\n",
       "      <td>price report quote pay ifa member strong deman...</td>\n",
       "      <td>-0.203214</td>\n",
       "      <td>318</td>\n",
       "      <td>50</td>\n",
       "    </tr>\n",
       "  </tbody>\n",
       "</table>\n",
       "</div>"
      ],
      "text/plain": [
       "                                                 URL  \\\n",
       "0  https://www.ifa.ie/markets-and-prices/weekly-c...   \n",
       "1  https://www.ifa.ie/regional/wexford-ifa-fertil...   \n",
       "2  https://www.ifa.ie/markets-and-prices/beef-she...   \n",
       "3  https://www.ifa.ie/campaigns/key-amendments-on...   \n",
       "4  https://www.ifa.ie/markets-and-prices/weekly-c...   \n",
       "\n",
       "                                             Heading             Date   Trend  \\\n",
       "0                  Weekly Cattle Prices 26th January  26 January 2022  cattle   \n",
       "1        Wexford IFA Fertiliser Seminar 24th January  25 January 2022  cattle   \n",
       "2                   Beef & Sheep Update 21st January  22 January 2022  cattle   \n",
       "3  Key Amendments on Animal Transport Carried, Bu...  20 January 2022  cattle   \n",
       "4                  Weekly Cattle Prices 19th January  19 January 2022  cattle   \n",
       "\n",
       "                                                Text  \\\n",
       "0  \\r\\nPrices reported as quoted or paid to IFA M...   \n",
       "1  \\r\\nWexford IFA held an online public open mee...   \n",
       "2  \\r\\nBeef Update\\r\\nIFA Livestock chairman Bren...   \n",
       "3  \\r\\nIFA President Tim Cullinan said the voting...   \n",
       "4  \\r\\nPrices reported as quoted or paid to IFA M...   \n",
       "\n",
       "                                        HTML Content  \\\n",
       "0  <div class=\"single-content\">\\r\\n<p>Prices repo...   \n",
       "1  <div class=\"single-content\">\\r\\n<p>Wexford IFA...   \n",
       "2  <div class=\"single-content\">\\r\\n<h2>Beef Updat...   \n",
       "3  <div class=\"single-content\">\\r\\n<p>IFA Preside...   \n",
       "4  <div class=\"single-content\">\\r\\n<p>Prices repo...   \n",
       "\n",
       "                                          clean_text  polarity_tokens  \\\n",
       "0  price report quote pay ifa member strong deman...        -0.203214   \n",
       "1  wexford ifa hold online public open meeting cu...         0.000000   \n",
       "2  beef update ifa livestock chairman brendan gol...         0.031870   \n",
       "3  ifa president tim cullinan say voting key amen...         0.044190   \n",
       "4  price report quote pay ifa member strong deman...        -0.203214   \n",
       "\n",
       "   review_len  word_count  \n",
       "0         329          52  \n",
       "1         465          60  \n",
       "2        1615         242  \n",
       "3         930         128  \n",
       "4         318          50  "
      ]
     },
     "execution_count": 10,
     "metadata": {},
     "output_type": "execute_result"
    }
   ],
   "source": [
    "df.head(5)"
   ]
  },
  {
   "cell_type": "code",
   "execution_count": 11,
   "id": "3c6303cd",
   "metadata": {
    "ExecuteTime": {
     "end_time": "2022-01-30T22:35:46.068523Z",
     "start_time": "2022-01-30T22:35:46.055519Z"
    }
   },
   "outputs": [],
   "source": [
    "def vader_scorer(df):\n",
    "    '''Compute vaderSentiment scores for each article\n",
    "    Args: Dataframe containing a 'text' column\n",
    "    Returns: Dataframe of vader scores\n",
    "    '''\n",
    "    analyzer = SentimentIntensityAnalyzer()\n",
    "    vader_scores = df.loc[:,'Text'].map(analyzer.polarity_scores)\n",
    "\n",
    "    dvec = DictVectorizer()\n",
    "    vader_scores = dvec.fit_transform(vader_scores)\n",
    "    \n",
    "    vader_scores = pd.DataFrame(vader_scores.toarray(),columns=dvec.feature_names_)\n",
    "    return vader_scores"
   ]
  },
  {
   "cell_type": "code",
   "execution_count": 12,
   "id": "06c2b5bb",
   "metadata": {
    "ExecuteTime": {
     "end_time": "2022-01-30T22:35:57.435533Z",
     "start_time": "2022-01-30T22:35:46.073525Z"
    }
   },
   "outputs": [
    {
     "data": {
      "text/html": [
       "<div>\n",
       "<style scoped>\n",
       "    .dataframe tbody tr th:only-of-type {\n",
       "        vertical-align: middle;\n",
       "    }\n",
       "\n",
       "    .dataframe tbody tr th {\n",
       "        vertical-align: top;\n",
       "    }\n",
       "\n",
       "    .dataframe thead th {\n",
       "        text-align: right;\n",
       "    }\n",
       "</style>\n",
       "<table border=\"1\" class=\"dataframe\">\n",
       "  <thead>\n",
       "    <tr style=\"text-align: right;\">\n",
       "      <th></th>\n",
       "      <th>URL</th>\n",
       "      <th>Heading</th>\n",
       "      <th>Date</th>\n",
       "      <th>Trend</th>\n",
       "      <th>Text</th>\n",
       "      <th>HTML Content</th>\n",
       "      <th>clean_text</th>\n",
       "      <th>polarity_tokens</th>\n",
       "      <th>review_len</th>\n",
       "      <th>word_count</th>\n",
       "      <th>compound</th>\n",
       "      <th>neg</th>\n",
       "      <th>neu</th>\n",
       "      <th>pos</th>\n",
       "    </tr>\n",
       "  </thead>\n",
       "  <tbody>\n",
       "    <tr>\n",
       "      <th>0</th>\n",
       "      <td>https://www.ifa.ie/markets-and-prices/weekly-c...</td>\n",
       "      <td>Weekly Cattle Prices 26th January</td>\n",
       "      <td>26 January 2022</td>\n",
       "      <td>cattle</td>\n",
       "      <td>\\r\\nPrices reported as quoted or paid to IFA M...</td>\n",
       "      <td>&lt;div class=\"single-content\"&gt;\\r\\n&lt;p&gt;Prices repo...</td>\n",
       "      <td>price report quote pay ifa member strong deman...</td>\n",
       "      <td>-0.203214</td>\n",
       "      <td>329</td>\n",
       "      <td>52</td>\n",
       "      <td>0.8689</td>\n",
       "      <td>0.012</td>\n",
       "      <td>0.908</td>\n",
       "      <td>0.080</td>\n",
       "    </tr>\n",
       "    <tr>\n",
       "      <th>1</th>\n",
       "      <td>https://www.ifa.ie/regional/wexford-ifa-fertil...</td>\n",
       "      <td>Wexford IFA Fertiliser Seminar 24th January</td>\n",
       "      <td>25 January 2022</td>\n",
       "      <td>cattle</td>\n",
       "      <td>\\r\\nWexford IFA held an online public open mee...</td>\n",
       "      <td>&lt;div class=\"single-content\"&gt;\\r\\n&lt;p&gt;Wexford IFA...</td>\n",
       "      <td>wexford ifa hold online public open meeting cu...</td>\n",
       "      <td>0.000000</td>\n",
       "      <td>465</td>\n",
       "      <td>60</td>\n",
       "      <td>-0.6249</td>\n",
       "      <td>0.046</td>\n",
       "      <td>0.954</td>\n",
       "      <td>0.000</td>\n",
       "    </tr>\n",
       "    <tr>\n",
       "      <th>2</th>\n",
       "      <td>https://www.ifa.ie/markets-and-prices/beef-she...</td>\n",
       "      <td>Beef &amp; Sheep Update 21st January</td>\n",
       "      <td>22 January 2022</td>\n",
       "      <td>cattle</td>\n",
       "      <td>\\r\\nBeef Update\\r\\nIFA Livestock chairman Bren...</td>\n",
       "      <td>&lt;div class=\"single-content\"&gt;\\r\\n&lt;h2&gt;Beef Updat...</td>\n",
       "      <td>beef update ifa livestock chairman brendan gol...</td>\n",
       "      <td>0.031870</td>\n",
       "      <td>1615</td>\n",
       "      <td>242</td>\n",
       "      <td>0.9501</td>\n",
       "      <td>0.037</td>\n",
       "      <td>0.897</td>\n",
       "      <td>0.065</td>\n",
       "    </tr>\n",
       "    <tr>\n",
       "      <th>3</th>\n",
       "      <td>https://www.ifa.ie/campaigns/key-amendments-on...</td>\n",
       "      <td>Key Amendments on Animal Transport Carried, Bu...</td>\n",
       "      <td>20 January 2022</td>\n",
       "      <td>cattle</td>\n",
       "      <td>\\r\\nIFA President Tim Cullinan said the voting...</td>\n",
       "      <td>&lt;div class=\"single-content\"&gt;\\r\\n&lt;p&gt;IFA Preside...</td>\n",
       "      <td>ifa president tim cullinan say voting key amen...</td>\n",
       "      <td>0.044190</td>\n",
       "      <td>930</td>\n",
       "      <td>128</td>\n",
       "      <td>0.8193</td>\n",
       "      <td>0.048</td>\n",
       "      <td>0.862</td>\n",
       "      <td>0.090</td>\n",
       "    </tr>\n",
       "    <tr>\n",
       "      <th>4</th>\n",
       "      <td>https://www.ifa.ie/markets-and-prices/weekly-c...</td>\n",
       "      <td>Weekly Cattle Prices 19th January</td>\n",
       "      <td>19 January 2022</td>\n",
       "      <td>cattle</td>\n",
       "      <td>\\r\\nPrices reported as quoted or paid to IFA M...</td>\n",
       "      <td>&lt;div class=\"single-content\"&gt;\\r\\n&lt;p&gt;Prices repo...</td>\n",
       "      <td>price report quote pay ifa member strong deman...</td>\n",
       "      <td>-0.203214</td>\n",
       "      <td>318</td>\n",
       "      <td>50</td>\n",
       "      <td>0.8689</td>\n",
       "      <td>0.012</td>\n",
       "      <td>0.907</td>\n",
       "      <td>0.081</td>\n",
       "    </tr>\n",
       "    <tr>\n",
       "      <th>...</th>\n",
       "      <td>...</td>\n",
       "      <td>...</td>\n",
       "      <td>...</td>\n",
       "      <td>...</td>\n",
       "      <td>...</td>\n",
       "      <td>...</td>\n",
       "      <td>...</td>\n",
       "      <td>...</td>\n",
       "      <td>...</td>\n",
       "      <td>...</td>\n",
       "      <td>...</td>\n",
       "      <td>...</td>\n",
       "      <td>...</td>\n",
       "      <td>...</td>\n",
       "    </tr>\n",
       "    <tr>\n",
       "      <th>867</th>\n",
       "      <td>https://www.ifa.ie/farm-sectors/any-march-milk...</td>\n",
       "      <td>Any March Milk Price Cut Will Be Interpreted a...</td>\n",
       "      <td>10 April 2018</td>\n",
       "      <td>dairy</td>\n",
       "      <td>\\r\\nIFA National Dairy Committee Chairman Tom ...</td>\n",
       "      <td>&lt;div class=\"single-content\"&gt;\\r\\n&lt;p&gt;IFA Nationa...</td>\n",
       "      <td>ifa national dairy committee chairman tom phel...</td>\n",
       "      <td>0.024123</td>\n",
       "      <td>860</td>\n",
       "      <td>131</td>\n",
       "      <td>-0.6810</td>\n",
       "      <td>0.122</td>\n",
       "      <td>0.771</td>\n",
       "      <td>0.108</td>\n",
       "    </tr>\n",
       "    <tr>\n",
       "      <th>868</th>\n",
       "      <td>https://www.ifa.ie/farm-sectors/minister-must-...</td>\n",
       "      <td>Minister Must Treat Fodder Crisis as National ...</td>\n",
       "      <td>6 April 2018</td>\n",
       "      <td>dairy</td>\n",
       "      <td>\\r\\nWith a further Met Eireann yellow alert si...</td>\n",
       "      <td>&lt;div class=\"single-content\"&gt;\\r\\n&lt;p&gt;With a furt...</td>\n",
       "      <td>meet eireann yellow alert situation today emer...</td>\n",
       "      <td>0.122794</td>\n",
       "      <td>1390</td>\n",
       "      <td>195</td>\n",
       "      <td>0.2500</td>\n",
       "      <td>0.061</td>\n",
       "      <td>0.869</td>\n",
       "      <td>0.071</td>\n",
       "    </tr>\n",
       "    <tr>\n",
       "      <th>869</th>\n",
       "      <td>https://www.ifa.ie/policy-areas/weather-crisis...</td>\n",
       "      <td>Weather Crisis Requires Emergency Action Initi...</td>\n",
       "      <td>3 April 2018</td>\n",
       "      <td>dairy</td>\n",
       "      <td>\\r\\nIFA President Joe Healy has insisted Minis...</td>\n",
       "      <td>&lt;div class=\"single-content\"&gt;\\r\\n&lt;p&gt;IFA Preside...</td>\n",
       "      <td>ifa president joe healy insist minister agricu...</td>\n",
       "      <td>0.064167</td>\n",
       "      <td>963</td>\n",
       "      <td>137</td>\n",
       "      <td>-0.9716</td>\n",
       "      <td>0.122</td>\n",
       "      <td>0.820</td>\n",
       "      <td>0.058</td>\n",
       "    </tr>\n",
       "    <tr>\n",
       "      <th>870</th>\n",
       "      <td>https://www.ifa.ie/farm-sectors/teagasc-fodder...</td>\n",
       "      <td>Teagasc Fodder Support</td>\n",
       "      <td>3 April 2018</td>\n",
       "      <td>dairy</td>\n",
       "      <td>\\r\\nTeagasc has established a Forage Register ...</td>\n",
       "      <td>&lt;div class=\"single-content\"&gt;\\r\\n&lt;p&gt;Teagasc has...</td>\n",
       "      <td>teagasc establish forage register help farmer ...</td>\n",
       "      <td>0.180000</td>\n",
       "      <td>513</td>\n",
       "      <td>71</td>\n",
       "      <td>0.6597</td>\n",
       "      <td>0.000</td>\n",
       "      <td>0.960</td>\n",
       "      <td>0.040</td>\n",
       "    </tr>\n",
       "    <tr>\n",
       "      <th>871</th>\n",
       "      <td>https://www.ifa.ie/farm-sectors/co-ops-must-be...</td>\n",
       "      <td>Co-ops Must Be Ready to Invest in Farmers’ Eco...</td>\n",
       "      <td>3 April 2018</td>\n",
       "      <td>dairy</td>\n",
       "      <td>\\r\\n“The milk price decisions some co-ops took...</td>\n",
       "      <td>&lt;div class=\"single-content\"&gt;\\r\\n&lt;p&gt;“The milk p...</td>\n",
       "      <td>milk price decision op take february milk show...</td>\n",
       "      <td>-0.099292</td>\n",
       "      <td>1139</td>\n",
       "      <td>166</td>\n",
       "      <td>0.3415</td>\n",
       "      <td>0.053</td>\n",
       "      <td>0.877</td>\n",
       "      <td>0.071</td>\n",
       "    </tr>\n",
       "  </tbody>\n",
       "</table>\n",
       "<p>872 rows × 14 columns</p>\n",
       "</div>"
      ],
      "text/plain": [
       "                                                   URL  \\\n",
       "0    https://www.ifa.ie/markets-and-prices/weekly-c...   \n",
       "1    https://www.ifa.ie/regional/wexford-ifa-fertil...   \n",
       "2    https://www.ifa.ie/markets-and-prices/beef-she...   \n",
       "3    https://www.ifa.ie/campaigns/key-amendments-on...   \n",
       "4    https://www.ifa.ie/markets-and-prices/weekly-c...   \n",
       "..                                                 ...   \n",
       "867  https://www.ifa.ie/farm-sectors/any-march-milk...   \n",
       "868  https://www.ifa.ie/farm-sectors/minister-must-...   \n",
       "869  https://www.ifa.ie/policy-areas/weather-crisis...   \n",
       "870  https://www.ifa.ie/farm-sectors/teagasc-fodder...   \n",
       "871  https://www.ifa.ie/farm-sectors/co-ops-must-be...   \n",
       "\n",
       "                                               Heading             Date  \\\n",
       "0                    Weekly Cattle Prices 26th January  26 January 2022   \n",
       "1          Wexford IFA Fertiliser Seminar 24th January  25 January 2022   \n",
       "2                     Beef & Sheep Update 21st January  22 January 2022   \n",
       "3    Key Amendments on Animal Transport Carried, Bu...  20 January 2022   \n",
       "4                    Weekly Cattle Prices 19th January  19 January 2022   \n",
       "..                                                 ...              ...   \n",
       "867  Any March Milk Price Cut Will Be Interpreted a...    10 April 2018   \n",
       "868  Minister Must Treat Fodder Crisis as National ...     6 April 2018   \n",
       "869  Weather Crisis Requires Emergency Action Initi...     3 April 2018   \n",
       "870                             Teagasc Fodder Support     3 April 2018   \n",
       "871  Co-ops Must Be Ready to Invest in Farmers’ Eco...     3 April 2018   \n",
       "\n",
       "      Trend                                               Text  \\\n",
       "0    cattle  \\r\\nPrices reported as quoted or paid to IFA M...   \n",
       "1    cattle  \\r\\nWexford IFA held an online public open mee...   \n",
       "2    cattle  \\r\\nBeef Update\\r\\nIFA Livestock chairman Bren...   \n",
       "3    cattle  \\r\\nIFA President Tim Cullinan said the voting...   \n",
       "4    cattle  \\r\\nPrices reported as quoted or paid to IFA M...   \n",
       "..      ...                                                ...   \n",
       "867   dairy  \\r\\nIFA National Dairy Committee Chairman Tom ...   \n",
       "868   dairy  \\r\\nWith a further Met Eireann yellow alert si...   \n",
       "869   dairy  \\r\\nIFA President Joe Healy has insisted Minis...   \n",
       "870   dairy  \\r\\nTeagasc has established a Forage Register ...   \n",
       "871   dairy  \\r\\n“The milk price decisions some co-ops took...   \n",
       "\n",
       "                                          HTML Content  \\\n",
       "0    <div class=\"single-content\">\\r\\n<p>Prices repo...   \n",
       "1    <div class=\"single-content\">\\r\\n<p>Wexford IFA...   \n",
       "2    <div class=\"single-content\">\\r\\n<h2>Beef Updat...   \n",
       "3    <div class=\"single-content\">\\r\\n<p>IFA Preside...   \n",
       "4    <div class=\"single-content\">\\r\\n<p>Prices repo...   \n",
       "..                                                 ...   \n",
       "867  <div class=\"single-content\">\\r\\n<p>IFA Nationa...   \n",
       "868  <div class=\"single-content\">\\r\\n<p>With a furt...   \n",
       "869  <div class=\"single-content\">\\r\\n<p>IFA Preside...   \n",
       "870  <div class=\"single-content\">\\r\\n<p>Teagasc has...   \n",
       "871  <div class=\"single-content\">\\r\\n<p>“The milk p...   \n",
       "\n",
       "                                            clean_text  polarity_tokens  \\\n",
       "0    price report quote pay ifa member strong deman...        -0.203214   \n",
       "1    wexford ifa hold online public open meeting cu...         0.000000   \n",
       "2    beef update ifa livestock chairman brendan gol...         0.031870   \n",
       "3    ifa president tim cullinan say voting key amen...         0.044190   \n",
       "4    price report quote pay ifa member strong deman...        -0.203214   \n",
       "..                                                 ...              ...   \n",
       "867  ifa national dairy committee chairman tom phel...         0.024123   \n",
       "868  meet eireann yellow alert situation today emer...         0.122794   \n",
       "869  ifa president joe healy insist minister agricu...         0.064167   \n",
       "870  teagasc establish forage register help farmer ...         0.180000   \n",
       "871  milk price decision op take february milk show...        -0.099292   \n",
       "\n",
       "     review_len  word_count  compound    neg    neu    pos  \n",
       "0           329          52    0.8689  0.012  0.908  0.080  \n",
       "1           465          60   -0.6249  0.046  0.954  0.000  \n",
       "2          1615         242    0.9501  0.037  0.897  0.065  \n",
       "3           930         128    0.8193  0.048  0.862  0.090  \n",
       "4           318          50    0.8689  0.012  0.907  0.081  \n",
       "..          ...         ...       ...    ...    ...    ...  \n",
       "867         860         131   -0.6810  0.122  0.771  0.108  \n",
       "868        1390         195    0.2500  0.061  0.869  0.071  \n",
       "869         963         137   -0.9716  0.122  0.820  0.058  \n",
       "870         513          71    0.6597  0.000  0.960  0.040  \n",
       "871        1139         166    0.3415  0.053  0.877  0.071  \n",
       "\n",
       "[872 rows x 14 columns]"
      ]
     },
     "execution_count": 12,
     "metadata": {},
     "output_type": "execute_result"
    }
   ],
   "source": [
    "vader_scores = vader_scorer(df)\n",
    "df = pd.concat([df,vader_scores], axis=1)\n",
    "df"
   ]
  },
  {
   "cell_type": "code",
   "execution_count": 13,
   "id": "77d7acea",
   "metadata": {
    "ExecuteTime": {
     "end_time": "2022-01-30T22:36:10.903126Z",
     "start_time": "2022-01-30T22:36:10.680129Z"
    }
   },
   "outputs": [],
   "source": [
    "df.to_csv(filename, index=None)"
   ]
  },
  {
   "cell_type": "code",
   "execution_count": 14,
   "id": "35f511a6",
   "metadata": {
    "ExecuteTime": {
     "end_time": "2022-01-29T22:15:58.434154Z",
     "start_time": "2022-01-29T22:15:56.710113Z"
    }
   },
   "outputs": [
    {
     "data": {
      "application/vnd.plotly.v1+json": {
       "config": {
        "linkText": "Export to plot.ly",
        "plotlyServerURL": "https://plot.ly",
        "showLink": true
       },
       "data": [
        {
         "histfunc": "count",
         "histnorm": "",
         "marker": {
          "color": "rgba(255, 153, 51, 1.0)",
          "line": {
           "color": "#000000",
           "width": 1.3
          }
         },
         "name": "compound",
         "nbinsx": 50,
         "opacity": 0.8,
         "orientation": "v",
         "type": "histogram",
         "x": [
          0.8689,
          -0.6249,
          0.9501,
          0.8193,
          0.8689,
          -0.9495,
          0.8689,
          0.8668,
          0.9799,
          0.8689,
          0.9466,
          0.8689,
          0.9766,
          0.8689,
          -0.5256,
          0.8689,
          0.1955,
          -0.7867,
          0.8689,
          0.9928,
          0.8248,
          -0.6956,
          0.7906,
          0.9589,
          0.7906,
          0.9669,
          0.9684,
          0.7906,
          0.9485,
          0.7906,
          0.9309,
          0.7906,
          0.9814,
          0.6705,
          0.9095,
          0.8689,
          0.9818,
          0.9903,
          0.79,
          0.8689,
          0.8671,
          0.8689,
          0.9381,
          0.8689,
          0.9817,
          0.8689,
          0.6808,
          0.8689,
          0.962,
          0.8689,
          0.9665,
          0.9427,
          0.743,
          0.7906,
          0.6355,
          0.836,
          0.9136,
          0.9231,
          -0.3818,
          0.9136,
          0.951,
          0.926,
          0.9136,
          0.9413,
          0.9382,
          0.9493,
          0.9726,
          0.9382,
          0.9022,
          0.9382,
          0.6649,
          0.9136,
          0.73,
          0,
          -0.9058,
          0.9134,
          0.9136,
          0.7264,
          0.7269,
          0.9136,
          0.9432,
          0.9136,
          0.5106,
          0.9382,
          0.8271,
          0.9382,
          0,
          0.791,
          -0.9913,
          0.9493,
          0.9393,
          0.9382,
          -0.6597,
          0.875,
          0.4201,
          0.7579,
          0.9382,
          -0.1513,
          0.5106,
          0.9382,
          0.977,
          0.945,
          0.836,
          0.9382,
          0.9382,
          0.5106,
          0.2892,
          0.9382,
          0.9538,
          0.5106,
          0.9571,
          0.9382,
          0.8957,
          0.5106,
          0.9786,
          0.9741,
          0.5106,
          0.9382,
          0.9856,
          0.975,
          0.9837,
          0.813,
          0.8408,
          -0.4149,
          0.8689,
          0.9774,
          0.5106,
          0.9832,
          0.8689,
          0.9443,
          -0.1202,
          -0.8445,
          0,
          0.8689,
          -0.6765,
          0.3612,
          -0.1078,
          0,
          0.7906,
          -0.5837,
          0.9325,
          0.7472,
          -0.923,
          0.0289,
          0.7906,
          0.9789,
          0.9584,
          0.7906,
          0.9661,
          0.9231,
          0.9702,
          0.7906,
          0.856,
          0.955,
          0.7843,
          0.4215,
          0.9423,
          0.9001,
          0.719,
          0.5023,
          0.913,
          0.7906,
          0,
          0.7906,
          0.8942,
          0.9517,
          0.8689,
          0.891,
          -0.9555,
          0.9648,
          0.7906,
          0.9291,
          0.931,
          0,
          0.9612,
          0.825,
          0.982,
          0.9432,
          0.9062,
          0.9001,
          0.8442,
          0.9175,
          0.4215,
          0.9627,
          0.4186,
          0.9851,
          0.9485,
          0.8689,
          0.9959,
          0.9698,
          0.5106,
          0.936,
          0.7363,
          0.9381,
          0.5106,
          0.807,
          0.7951,
          0.3532,
          0.8689,
          0,
          0.8689,
          0.9187,
          0,
          0.9136,
          0.63,
          0.7851,
          0.7357,
          -0.5313,
          0,
          0.7906,
          0.9615,
          -0.2263,
          0.9445,
          0.6177,
          0.993,
          0.9545,
          0.7906,
          0.8644,
          0,
          -0.5984,
          0.9885,
          0.9549,
          -0.25,
          0,
          0.7906,
          0.6369,
          -0.0516,
          0,
          0.1454,
          0,
          0.8689,
          0.0736,
          0.9451,
          -0.5844,
          0,
          0,
          0,
          0.8558,
          0,
          0.7906,
          0,
          0.1045,
          0.8689,
          0.9694,
          0.9452,
          0,
          0.8689,
          0,
          0.4215,
          0.7184,
          -0.4588,
          0.9498,
          -0.4588,
          0.8316,
          0.8982,
          -0.4588,
          0.9869,
          -0.4588,
          0.8931,
          -0.4404,
          0.9544,
          0.9601,
          -0.6369,
          0.9314,
          0.8931,
          0.7778,
          -0.4404,
          0.9953,
          -0.704,
          -0.8225,
          -0.9735,
          0.8931,
          0.0772,
          0.9931,
          0.9509,
          -0.3612,
          0.7906,
          0.7184,
          -0.3818,
          0.5829,
          -0.6908,
          0.7906,
          0,
          0.9822,
          0.8051,
          0.7906,
          0.7571,
          0.862,
          0.9969,
          0.9118,
          0.9869,
          0.9235,
          0.9118,
          0.9782,
          0.8689,
          0.9808,
          0.8689,
          0.7096,
          0.5256,
          0.8689,
          -0.8176,
          0.9311,
          -0.9582,
          0.7906,
          0.9865,
          0.967,
          0.1685,
          0.9703,
          0.9118,
          -0.4787,
          0.9824,
          0.5994,
          0.7768,
          0.9118,
          0.9403,
          0.8689,
          -0.9522,
          0.9572,
          0.939,
          0.7003,
          0.7906,
          -0.9164,
          -0.6593,
          0.8689,
          0.4653,
          0.9677,
          -0.9722,
          0.9972,
          0.8553,
          0.9837,
          0.9841,
          0.8689,
          -0.9447,
          -0.7831,
          -0.4404,
          -0.3182,
          -0.1945,
          0.7506,
          0.9146,
          -0.4678,
          0.9022,
          0.9787,
          0.8772,
          0.9413,
          0.8689,
          0.9692,
          0.9501,
          0.7579,
          0.8689,
          0.5994,
          0.2673,
          0.9531,
          0.8689,
          0.9769,
          -0.8793,
          0.9852,
          0.25,
          0.8689,
          0.8689,
          0.9123,
          0.909,
          0.761,
          0.9123,
          0.9409,
          0.9042,
          0.9166,
          0.9118,
          0.9118,
          0.9201,
          0.7717,
          0.9907,
          -0.94,
          0.7783,
          0.7096,
          0.8442,
          -0.08,
          0.8689,
          0.7964,
          -0.25,
          0.8689,
          0.9532,
          0.8907,
          -0.9178,
          -0.9178,
          0.967,
          0.5204,
          0.987,
          0.7717,
          -0.0685,
          0.8775,
          0.9808,
          0.8689,
          0.8689,
          0.6689,
          0.9744,
          0.8689,
          0.946,
          0.8689,
          0.961,
          0.9721,
          0.8689,
          0.9766,
          0.936,
          0.8078,
          0.8689,
          0.3958,
          0.8689,
          -0.9648,
          0.743,
          0.7269,
          0.9904,
          0.2105,
          0.9528,
          0.9099,
          0.9954,
          0.9465,
          0.8743,
          0.8627,
          -0.1882,
          0.9964,
          0.7351,
          0.2944,
          0.9914,
          -0.7085,
          -0.8807,
          -0.6249,
          0.7351,
          0,
          0.6879,
          -0.5636,
          0.9864,
          0.7351,
          0.9726,
          0.9904,
          0.6213,
          0.7351,
          0.7964,
          0.9949,
          -0.7433,
          0.9265,
          -0.5582,
          0.7351,
          0.8089,
          -0.9898,
          0.7351,
          -0.9705,
          -0.9347,
          -0.2782,
          0.7351,
          -0.3818,
          0.5267,
          -0.9456,
          -0.8113,
          -0.9612,
          0.5849,
          -0.875,
          0.7351,
          -0.3818,
          0.7351,
          -0.9435,
          0.7351,
          0.8405,
          -0.9068,
          -0.9887,
          -0.8957,
          -0.9666,
          0.7879,
          0.5267,
          0.9437,
          -0.9692,
          -0.5176,
          -0.9205,
          0.8347,
          0.5267,
          0.8647,
          0.5267,
          0.3182,
          -0.4542,
          -0.8353,
          0.7351,
          0.8467,
          -0.5833,
          -0.8481,
          -0.8387,
          0.8176,
          -0.7351,
          0.9783,
          -0.9392,
          -0.1662,
          0.7375,
          -0.8911,
          -0.936,
          0.5267,
          -0.1779,
          0.7351,
          0.8446,
          0.9929,
          0.5267,
          0.9823,
          0.5267,
          0.5789,
          -0.8834,
          0.5267,
          -0.9848,
          0.1163,
          0.9398,
          0.5267,
          0.9489,
          0.5267,
          0.9948,
          -0.5849,
          0.7003,
          -0.3596,
          0.6705,
          -0.979,
          0.9008,
          0.9805,
          0.5267,
          0.9029,
          0.9029,
          -0.926,
          0.5423,
          0.9914,
          0.5423,
          0.0196,
          0.1779,
          0.9561,
          0.1779,
          0.9518,
          0.5267,
          0.5423,
          -0.7184,
          0.2484,
          0.5423,
          0.4939,
          0.9574,
          0.5423,
          0.6369,
          -0.9064,
          0.5423,
          0.9843,
          0.8419,
          -0.9947,
          0.5423,
          0.5677,
          0.5423,
          0.2263,
          0.8858,
          0.871,
          0.9004,
          -0.3536,
          0.5848,
          0.9827,
          0.7644,
          0.743,
          0.7453,
          0.9601,
          0.9601,
          0.5423,
          0.9892,
          0.6808,
          -0.9633,
          0.7251,
          -0.7935,
          0.7906,
          0.5106,
          -0.2133,
          0.9099,
          -0.9722,
          0.7371,
          0.5423,
          0.8981,
          0.5423,
          0.5423,
          0.7713,
          0.9337,
          0.9081,
          0.9928,
          0.7269,
          0.9332,
          0.9272,
          0.5423,
          -0.8442,
          0.7845,
          -0.9603,
          0.7845,
          -0.8984,
          -0.9766,
          0.7845,
          0.9944,
          0.5346,
          -0.2389,
          0.8058,
          0.0498,
          0.4019,
          0.9038,
          0.7845,
          0.9847,
          -0.5994,
          0.8658,
          0.7375,
          0.9133,
          0.9831,
          0.911,
          0.8979,
          -0.915,
          0.9577,
          0.7574,
          0.9954,
          0.9745,
          0.8601,
          0.8399,
          0.7375,
          0.9701,
          -0.6542,
          0.7184,
          -0.9539,
          0.6786,
          0.7363,
          0.9665,
          0.8442,
          0.4437,
          0.7375,
          0.25,
          0.9871,
          0.7351,
          -0.9716,
          0.6597,
          0.9173,
          0.9896
         ]
        }
       ],
       "layout": {
        "barmode": "overlay",
        "legend": {
         "bgcolor": "#F5F6F9",
         "font": {
          "color": "#4D5663"
         }
        },
        "paper_bgcolor": "#F5F6F9",
        "plot_bgcolor": "#F5F6F9",
        "template": {
         "data": {
          "bar": [
           {
            "error_x": {
             "color": "#2a3f5f"
            },
            "error_y": {
             "color": "#2a3f5f"
            },
            "marker": {
             "line": {
              "color": "#E5ECF6",
              "width": 0.5
             },
             "pattern": {
              "fillmode": "overlay",
              "size": 10,
              "solidity": 0.2
             }
            },
            "type": "bar"
           }
          ],
          "barpolar": [
           {
            "marker": {
             "line": {
              "color": "#E5ECF6",
              "width": 0.5
             },
             "pattern": {
              "fillmode": "overlay",
              "size": 10,
              "solidity": 0.2
             }
            },
            "type": "barpolar"
           }
          ],
          "carpet": [
           {
            "aaxis": {
             "endlinecolor": "#2a3f5f",
             "gridcolor": "white",
             "linecolor": "white",
             "minorgridcolor": "white",
             "startlinecolor": "#2a3f5f"
            },
            "baxis": {
             "endlinecolor": "#2a3f5f",
             "gridcolor": "white",
             "linecolor": "white",
             "minorgridcolor": "white",
             "startlinecolor": "#2a3f5f"
            },
            "type": "carpet"
           }
          ],
          "choropleth": [
           {
            "colorbar": {
             "outlinewidth": 0,
             "ticks": ""
            },
            "type": "choropleth"
           }
          ],
          "contour": [
           {
            "colorbar": {
             "outlinewidth": 0,
             "ticks": ""
            },
            "colorscale": [
             [
              0,
              "#0d0887"
             ],
             [
              0.1111111111111111,
              "#46039f"
             ],
             [
              0.2222222222222222,
              "#7201a8"
             ],
             [
              0.3333333333333333,
              "#9c179e"
             ],
             [
              0.4444444444444444,
              "#bd3786"
             ],
             [
              0.5555555555555556,
              "#d8576b"
             ],
             [
              0.6666666666666666,
              "#ed7953"
             ],
             [
              0.7777777777777778,
              "#fb9f3a"
             ],
             [
              0.8888888888888888,
              "#fdca26"
             ],
             [
              1,
              "#f0f921"
             ]
            ],
            "type": "contour"
           }
          ],
          "contourcarpet": [
           {
            "colorbar": {
             "outlinewidth": 0,
             "ticks": ""
            },
            "type": "contourcarpet"
           }
          ],
          "heatmap": [
           {
            "colorbar": {
             "outlinewidth": 0,
             "ticks": ""
            },
            "colorscale": [
             [
              0,
              "#0d0887"
             ],
             [
              0.1111111111111111,
              "#46039f"
             ],
             [
              0.2222222222222222,
              "#7201a8"
             ],
             [
              0.3333333333333333,
              "#9c179e"
             ],
             [
              0.4444444444444444,
              "#bd3786"
             ],
             [
              0.5555555555555556,
              "#d8576b"
             ],
             [
              0.6666666666666666,
              "#ed7953"
             ],
             [
              0.7777777777777778,
              "#fb9f3a"
             ],
             [
              0.8888888888888888,
              "#fdca26"
             ],
             [
              1,
              "#f0f921"
             ]
            ],
            "type": "heatmap"
           }
          ],
          "heatmapgl": [
           {
            "colorbar": {
             "outlinewidth": 0,
             "ticks": ""
            },
            "colorscale": [
             [
              0,
              "#0d0887"
             ],
             [
              0.1111111111111111,
              "#46039f"
             ],
             [
              0.2222222222222222,
              "#7201a8"
             ],
             [
              0.3333333333333333,
              "#9c179e"
             ],
             [
              0.4444444444444444,
              "#bd3786"
             ],
             [
              0.5555555555555556,
              "#d8576b"
             ],
             [
              0.6666666666666666,
              "#ed7953"
             ],
             [
              0.7777777777777778,
              "#fb9f3a"
             ],
             [
              0.8888888888888888,
              "#fdca26"
             ],
             [
              1,
              "#f0f921"
             ]
            ],
            "type": "heatmapgl"
           }
          ],
          "histogram": [
           {
            "marker": {
             "pattern": {
              "fillmode": "overlay",
              "size": 10,
              "solidity": 0.2
             }
            },
            "type": "histogram"
           }
          ],
          "histogram2d": [
           {
            "colorbar": {
             "outlinewidth": 0,
             "ticks": ""
            },
            "colorscale": [
             [
              0,
              "#0d0887"
             ],
             [
              0.1111111111111111,
              "#46039f"
             ],
             [
              0.2222222222222222,
              "#7201a8"
             ],
             [
              0.3333333333333333,
              "#9c179e"
             ],
             [
              0.4444444444444444,
              "#bd3786"
             ],
             [
              0.5555555555555556,
              "#d8576b"
             ],
             [
              0.6666666666666666,
              "#ed7953"
             ],
             [
              0.7777777777777778,
              "#fb9f3a"
             ],
             [
              0.8888888888888888,
              "#fdca26"
             ],
             [
              1,
              "#f0f921"
             ]
            ],
            "type": "histogram2d"
           }
          ],
          "histogram2dcontour": [
           {
            "colorbar": {
             "outlinewidth": 0,
             "ticks": ""
            },
            "colorscale": [
             [
              0,
              "#0d0887"
             ],
             [
              0.1111111111111111,
              "#46039f"
             ],
             [
              0.2222222222222222,
              "#7201a8"
             ],
             [
              0.3333333333333333,
              "#9c179e"
             ],
             [
              0.4444444444444444,
              "#bd3786"
             ],
             [
              0.5555555555555556,
              "#d8576b"
             ],
             [
              0.6666666666666666,
              "#ed7953"
             ],
             [
              0.7777777777777778,
              "#fb9f3a"
             ],
             [
              0.8888888888888888,
              "#fdca26"
             ],
             [
              1,
              "#f0f921"
             ]
            ],
            "type": "histogram2dcontour"
           }
          ],
          "mesh3d": [
           {
            "colorbar": {
             "outlinewidth": 0,
             "ticks": ""
            },
            "type": "mesh3d"
           }
          ],
          "parcoords": [
           {
            "line": {
             "colorbar": {
              "outlinewidth": 0,
              "ticks": ""
             }
            },
            "type": "parcoords"
           }
          ],
          "pie": [
           {
            "automargin": true,
            "type": "pie"
           }
          ],
          "scatter": [
           {
            "marker": {
             "colorbar": {
              "outlinewidth": 0,
              "ticks": ""
             }
            },
            "type": "scatter"
           }
          ],
          "scatter3d": [
           {
            "line": {
             "colorbar": {
              "outlinewidth": 0,
              "ticks": ""
             }
            },
            "marker": {
             "colorbar": {
              "outlinewidth": 0,
              "ticks": ""
             }
            },
            "type": "scatter3d"
           }
          ],
          "scattercarpet": [
           {
            "marker": {
             "colorbar": {
              "outlinewidth": 0,
              "ticks": ""
             }
            },
            "type": "scattercarpet"
           }
          ],
          "scattergeo": [
           {
            "marker": {
             "colorbar": {
              "outlinewidth": 0,
              "ticks": ""
             }
            },
            "type": "scattergeo"
           }
          ],
          "scattergl": [
           {
            "marker": {
             "colorbar": {
              "outlinewidth": 0,
              "ticks": ""
             }
            },
            "type": "scattergl"
           }
          ],
          "scattermapbox": [
           {
            "marker": {
             "colorbar": {
              "outlinewidth": 0,
              "ticks": ""
             }
            },
            "type": "scattermapbox"
           }
          ],
          "scatterpolar": [
           {
            "marker": {
             "colorbar": {
              "outlinewidth": 0,
              "ticks": ""
             }
            },
            "type": "scatterpolar"
           }
          ],
          "scatterpolargl": [
           {
            "marker": {
             "colorbar": {
              "outlinewidth": 0,
              "ticks": ""
             }
            },
            "type": "scatterpolargl"
           }
          ],
          "scatterternary": [
           {
            "marker": {
             "colorbar": {
              "outlinewidth": 0,
              "ticks": ""
             }
            },
            "type": "scatterternary"
           }
          ],
          "surface": [
           {
            "colorbar": {
             "outlinewidth": 0,
             "ticks": ""
            },
            "colorscale": [
             [
              0,
              "#0d0887"
             ],
             [
              0.1111111111111111,
              "#46039f"
             ],
             [
              0.2222222222222222,
              "#7201a8"
             ],
             [
              0.3333333333333333,
              "#9c179e"
             ],
             [
              0.4444444444444444,
              "#bd3786"
             ],
             [
              0.5555555555555556,
              "#d8576b"
             ],
             [
              0.6666666666666666,
              "#ed7953"
             ],
             [
              0.7777777777777778,
              "#fb9f3a"
             ],
             [
              0.8888888888888888,
              "#fdca26"
             ],
             [
              1,
              "#f0f921"
             ]
            ],
            "type": "surface"
           }
          ],
          "table": [
           {
            "cells": {
             "fill": {
              "color": "#EBF0F8"
             },
             "line": {
              "color": "white"
             }
            },
            "header": {
             "fill": {
              "color": "#C8D4E3"
             },
             "line": {
              "color": "white"
             }
            },
            "type": "table"
           }
          ]
         },
         "layout": {
          "annotationdefaults": {
           "arrowcolor": "#2a3f5f",
           "arrowhead": 0,
           "arrowwidth": 1
          },
          "autotypenumbers": "strict",
          "coloraxis": {
           "colorbar": {
            "outlinewidth": 0,
            "ticks": ""
           }
          },
          "colorscale": {
           "diverging": [
            [
             0,
             "#8e0152"
            ],
            [
             0.1,
             "#c51b7d"
            ],
            [
             0.2,
             "#de77ae"
            ],
            [
             0.3,
             "#f1b6da"
            ],
            [
             0.4,
             "#fde0ef"
            ],
            [
             0.5,
             "#f7f7f7"
            ],
            [
             0.6,
             "#e6f5d0"
            ],
            [
             0.7,
             "#b8e186"
            ],
            [
             0.8,
             "#7fbc41"
            ],
            [
             0.9,
             "#4d9221"
            ],
            [
             1,
             "#276419"
            ]
           ],
           "sequential": [
            [
             0,
             "#0d0887"
            ],
            [
             0.1111111111111111,
             "#46039f"
            ],
            [
             0.2222222222222222,
             "#7201a8"
            ],
            [
             0.3333333333333333,
             "#9c179e"
            ],
            [
             0.4444444444444444,
             "#bd3786"
            ],
            [
             0.5555555555555556,
             "#d8576b"
            ],
            [
             0.6666666666666666,
             "#ed7953"
            ],
            [
             0.7777777777777778,
             "#fb9f3a"
            ],
            [
             0.8888888888888888,
             "#fdca26"
            ],
            [
             1,
             "#f0f921"
            ]
           ],
           "sequentialminus": [
            [
             0,
             "#0d0887"
            ],
            [
             0.1111111111111111,
             "#46039f"
            ],
            [
             0.2222222222222222,
             "#7201a8"
            ],
            [
             0.3333333333333333,
             "#9c179e"
            ],
            [
             0.4444444444444444,
             "#bd3786"
            ],
            [
             0.5555555555555556,
             "#d8576b"
            ],
            [
             0.6666666666666666,
             "#ed7953"
            ],
            [
             0.7777777777777778,
             "#fb9f3a"
            ],
            [
             0.8888888888888888,
             "#fdca26"
            ],
            [
             1,
             "#f0f921"
            ]
           ]
          },
          "colorway": [
           "#636efa",
           "#EF553B",
           "#00cc96",
           "#ab63fa",
           "#FFA15A",
           "#19d3f3",
           "#FF6692",
           "#B6E880",
           "#FF97FF",
           "#FECB52"
          ],
          "font": {
           "color": "#2a3f5f"
          },
          "geo": {
           "bgcolor": "white",
           "lakecolor": "white",
           "landcolor": "#E5ECF6",
           "showlakes": true,
           "showland": true,
           "subunitcolor": "white"
          },
          "hoverlabel": {
           "align": "left"
          },
          "hovermode": "closest",
          "mapbox": {
           "style": "light"
          },
          "paper_bgcolor": "white",
          "plot_bgcolor": "#E5ECF6",
          "polar": {
           "angularaxis": {
            "gridcolor": "white",
            "linecolor": "white",
            "ticks": ""
           },
           "bgcolor": "#E5ECF6",
           "radialaxis": {
            "gridcolor": "white",
            "linecolor": "white",
            "ticks": ""
           }
          },
          "scene": {
           "xaxis": {
            "backgroundcolor": "#E5ECF6",
            "gridcolor": "white",
            "gridwidth": 2,
            "linecolor": "white",
            "showbackground": true,
            "ticks": "",
            "zerolinecolor": "white"
           },
           "yaxis": {
            "backgroundcolor": "#E5ECF6",
            "gridcolor": "white",
            "gridwidth": 2,
            "linecolor": "white",
            "showbackground": true,
            "ticks": "",
            "zerolinecolor": "white"
           },
           "zaxis": {
            "backgroundcolor": "#E5ECF6",
            "gridcolor": "white",
            "gridwidth": 2,
            "linecolor": "white",
            "showbackground": true,
            "ticks": "",
            "zerolinecolor": "white"
           }
          },
          "shapedefaults": {
           "line": {
            "color": "#2a3f5f"
           }
          },
          "ternary": {
           "aaxis": {
            "gridcolor": "white",
            "linecolor": "white",
            "ticks": ""
           },
           "baxis": {
            "gridcolor": "white",
            "linecolor": "white",
            "ticks": ""
           },
           "bgcolor": "#E5ECF6",
           "caxis": {
            "gridcolor": "white",
            "linecolor": "white",
            "ticks": ""
           }
          },
          "title": {
           "x": 0.05
          },
          "xaxis": {
           "automargin": true,
           "gridcolor": "white",
           "linecolor": "white",
           "ticks": "",
           "title": {
            "standoff": 15
           },
           "zerolinecolor": "white",
           "zerolinewidth": 2
          },
          "yaxis": {
           "automargin": true,
           "gridcolor": "white",
           "linecolor": "white",
           "ticks": "",
           "title": {
            "standoff": 15
           },
           "zerolinecolor": "white",
           "zerolinewidth": 2
          }
         }
        },
        "title": {
         "font": {
          "color": "#4D5663"
         },
         "text": "Token Polarity Distribution Of The Cattle Articles"
        },
        "xaxis": {
         "gridcolor": "#E1E5ED",
         "linecolor": "black",
         "showgrid": true,
         "tickfont": {
          "color": "#4D5663"
         },
         "title": {
          "font": {
           "color": "#4D5663"
          },
          "text": "Sentiment Score"
         },
         "zerolinecolor": "#E1E5ED"
        },
        "yaxis": {
         "gridcolor": "#E1E5ED",
         "linecolor": "black",
         "showgrid": true,
         "tickfont": {
          "color": "#4D5663"
         },
         "title": {
          "font": {
           "color": "#4D5663"
          },
          "text": "count"
         },
         "zerolinecolor": "#E1E5ED"
        }
       }
      },
      "text/html": [
       "<div>                            <div id=\"c89cecda-63f2-4e42-b346-ec1f71808e7e\" class=\"plotly-graph-div\" style=\"height:525px; width:100%;\"></div>            <script type=\"text/javascript\">                require([\"plotly\"], function(Plotly) {                    window.PLOTLYENV=window.PLOTLYENV || {};\n",
       "                    window.PLOTLYENV.BASE_URL='https://plot.ly';                                    if (document.getElementById(\"c89cecda-63f2-4e42-b346-ec1f71808e7e\")) {                    Plotly.newPlot(                        \"c89cecda-63f2-4e42-b346-ec1f71808e7e\",                        [{\"histfunc\":\"count\",\"histnorm\":\"\",\"marker\":{\"color\":\"rgba(255, 153, 51, 1.0)\",\"line\":{\"color\":\"#000000\",\"width\":1.3}},\"name\":\"compound\",\"nbinsx\":50,\"opacity\":0.8,\"orientation\":\"v\",\"x\":[0.8689,-0.6249,0.9501,0.8193,0.8689,-0.9495,0.8689,0.8668,0.9799,0.8689,0.9466,0.8689,0.9766,0.8689,-0.5256,0.8689,0.1955,-0.7867,0.8689,0.9928,0.8248,-0.6956,0.7906,0.9589,0.7906,0.9669,0.9684,0.7906,0.9485,0.7906,0.9309,0.7906,0.9814,0.6705,0.9095,0.8689,0.9818,0.9903,0.79,0.8689,0.8671,0.8689,0.9381,0.8689,0.9817,0.8689,0.6808,0.8689,0.962,0.8689,0.9665,0.9427,0.743,0.7906,0.6355,0.836,0.9136,0.9231,-0.3818,0.9136,0.951,0.926,0.9136,0.9413,0.9382,0.9493,0.9726,0.9382,0.9022,0.9382,0.6649,0.9136,0.73,0.0,-0.9058,0.9134,0.9136,0.7264,0.7269,0.9136,0.9432,0.9136,0.5106,0.9382,0.8271,0.9382,0.0,0.791,-0.9913,0.9493,0.9393,0.9382,-0.6597,0.875,0.4201,0.7579,0.9382,-0.1513,0.5106,0.9382,0.977,0.945,0.836,0.9382,0.9382,0.5106,0.2892,0.9382,0.9538,0.5106,0.9571,0.9382,0.8957,0.5106,0.9786,0.9741,0.5106,0.9382,0.9856,0.975,0.9837,0.813,0.8408,-0.4149,0.8689,0.9774,0.5106,0.9832,0.8689,0.9443,-0.1202,-0.8445,0.0,0.8689,-0.6765,0.3612,-0.1078,0.0,0.7906,-0.5837,0.9325,0.7472,-0.923,0.0289,0.7906,0.9789,0.9584,0.7906,0.9661,0.9231,0.9702,0.7906,0.856,0.955,0.7843,0.4215,0.9423,0.9001,0.719,0.5023,0.913,0.7906,0.0,0.7906,0.8942,0.9517,0.8689,0.891,-0.9555,0.9648,0.7906,0.9291,0.931,0.0,0.9612,0.825,0.982,0.9432,0.9062,0.9001,0.8442,0.9175,0.4215,0.9627,0.4186,0.9851,0.9485,0.8689,0.9959,0.9698,0.5106,0.936,0.7363,0.9381,0.5106,0.807,0.7951,0.3532,0.8689,0.0,0.8689,0.9187,0.0,0.9136,0.63,0.7851,0.7357,-0.5313,0.0,0.7906,0.9615,-0.2263,0.9445,0.6177,0.993,0.9545,0.7906,0.8644,0.0,-0.5984,0.9885,0.9549,-0.25,0.0,0.7906,0.6369,-0.0516,0.0,0.1454,0.0,0.8689,0.0736,0.9451,-0.5844,0.0,0.0,0.0,0.8558,0.0,0.7906,0.0,0.1045,0.8689,0.9694,0.9452,0.0,0.8689,0.0,0.4215,0.7184,-0.4588,0.9498,-0.4588,0.8316,0.8982,-0.4588,0.9869,-0.4588,0.8931,-0.4404,0.9544,0.9601,-0.6369,0.9314,0.8931,0.7778,-0.4404,0.9953,-0.704,-0.8225,-0.9735,0.8931,0.0772,0.9931,0.9509,-0.3612,0.7906,0.7184,-0.3818,0.5829,-0.6908,0.7906,0.0,0.9822,0.8051,0.7906,0.7571,0.862,0.9969,0.9118,0.9869,0.9235,0.9118,0.9782,0.8689,0.9808,0.8689,0.7096,0.5256,0.8689,-0.8176,0.9311,-0.9582,0.7906,0.9865,0.967,0.1685,0.9703,0.9118,-0.4787,0.9824,0.5994,0.7768,0.9118,0.9403,0.8689,-0.9522,0.9572,0.939,0.7003,0.7906,-0.9164,-0.6593,0.8689,0.4653,0.9677,-0.9722,0.9972,0.8553,0.9837,0.9841,0.8689,-0.9447,-0.7831,-0.4404,-0.3182,-0.1945,0.7506,0.9146,-0.4678,0.9022,0.9787,0.8772,0.9413,0.8689,0.9692,0.9501,0.7579,0.8689,0.5994,0.2673,0.9531,0.8689,0.9769,-0.8793,0.9852,0.25,0.8689,0.8689,0.9123,0.909,0.761,0.9123,0.9409,0.9042,0.9166,0.9118,0.9118,0.9201,0.7717,0.9907,-0.94,0.7783,0.7096,0.8442,-0.08,0.8689,0.7964,-0.25,0.8689,0.9532,0.8907,-0.9178,-0.9178,0.967,0.5204,0.987,0.7717,-0.0685,0.8775,0.9808,0.8689,0.8689,0.6689,0.9744,0.8689,0.946,0.8689,0.961,0.9721,0.8689,0.9766,0.936,0.8078,0.8689,0.3958,0.8689,-0.9648,0.743,0.7269,0.9904,0.2105,0.9528,0.9099,0.9954,0.9465,0.8743,0.8627,-0.1882,0.9964,0.7351,0.2944,0.9914,-0.7085,-0.8807,-0.6249,0.7351,0.0,0.6879,-0.5636,0.9864,0.7351,0.9726,0.9904,0.6213,0.7351,0.7964,0.9949,-0.7433,0.9265,-0.5582,0.7351,0.8089,-0.9898,0.7351,-0.9705,-0.9347,-0.2782,0.7351,-0.3818,0.5267,-0.9456,-0.8113,-0.9612,0.5849,-0.875,0.7351,-0.3818,0.7351,-0.9435,0.7351,0.8405,-0.9068,-0.9887,-0.8957,-0.9666,0.7879,0.5267,0.9437,-0.9692,-0.5176,-0.9205,0.8347,0.5267,0.8647,0.5267,0.3182,-0.4542,-0.8353,0.7351,0.8467,-0.5833,-0.8481,-0.8387,0.8176,-0.7351,0.9783,-0.9392,-0.1662,0.7375,-0.8911,-0.936,0.5267,-0.1779,0.7351,0.8446,0.9929,0.5267,0.9823,0.5267,0.5789,-0.8834,0.5267,-0.9848,0.1163,0.9398,0.5267,0.9489,0.5267,0.9948,-0.5849,0.7003,-0.3596,0.6705,-0.979,0.9008,0.9805,0.5267,0.9029,0.9029,-0.926,0.5423,0.9914,0.5423,0.0196,0.1779,0.9561,0.1779,0.9518,0.5267,0.5423,-0.7184,0.2484,0.5423,0.4939,0.9574,0.5423,0.6369,-0.9064,0.5423,0.9843,0.8419,-0.9947,0.5423,0.5677,0.5423,0.2263,0.8858,0.871,0.9004,-0.3536,0.5848,0.9827,0.7644,0.743,0.7453,0.9601,0.9601,0.5423,0.9892,0.6808,-0.9633,0.7251,-0.7935,0.7906,0.5106,-0.2133,0.9099,-0.9722,0.7371,0.5423,0.8981,0.5423,0.5423,0.7713,0.9337,0.9081,0.9928,0.7269,0.9332,0.9272,0.5423,-0.8442,0.7845,-0.9603,0.7845,-0.8984,-0.9766,0.7845,0.9944,0.5346,-0.2389,0.8058,0.0498,0.4019,0.9038,0.7845,0.9847,-0.5994,0.8658,0.7375,0.9133,0.9831,0.911,0.8979,-0.915,0.9577,0.7574,0.9954,0.9745,0.8601,0.8399,0.7375,0.9701,-0.6542,0.7184,-0.9539,0.6786,0.7363,0.9665,0.8442,0.4437,0.7375,0.25,0.9871,0.7351,-0.9716,0.6597,0.9173,0.9896],\"type\":\"histogram\"}],                        {\"barmode\":\"overlay\",\"legend\":{\"bgcolor\":\"#F5F6F9\",\"font\":{\"color\":\"#4D5663\"}},\"paper_bgcolor\":\"#F5F6F9\",\"plot_bgcolor\":\"#F5F6F9\",\"template\":{\"data\":{\"barpolar\":[{\"marker\":{\"line\":{\"color\":\"#E5ECF6\",\"width\":0.5},\"pattern\":{\"fillmode\":\"overlay\",\"size\":10,\"solidity\":0.2}},\"type\":\"barpolar\"}],\"bar\":[{\"error_x\":{\"color\":\"#2a3f5f\"},\"error_y\":{\"color\":\"#2a3f5f\"},\"marker\":{\"line\":{\"color\":\"#E5ECF6\",\"width\":0.5},\"pattern\":{\"fillmode\":\"overlay\",\"size\":10,\"solidity\":0.2}},\"type\":\"bar\"}],\"carpet\":[{\"aaxis\":{\"endlinecolor\":\"#2a3f5f\",\"gridcolor\":\"white\",\"linecolor\":\"white\",\"minorgridcolor\":\"white\",\"startlinecolor\":\"#2a3f5f\"},\"baxis\":{\"endlinecolor\":\"#2a3f5f\",\"gridcolor\":\"white\",\"linecolor\":\"white\",\"minorgridcolor\":\"white\",\"startlinecolor\":\"#2a3f5f\"},\"type\":\"carpet\"}],\"choropleth\":[{\"colorbar\":{\"outlinewidth\":0,\"ticks\":\"\"},\"type\":\"choropleth\"}],\"contourcarpet\":[{\"colorbar\":{\"outlinewidth\":0,\"ticks\":\"\"},\"type\":\"contourcarpet\"}],\"contour\":[{\"colorbar\":{\"outlinewidth\":0,\"ticks\":\"\"},\"colorscale\":[[0.0,\"#0d0887\"],[0.1111111111111111,\"#46039f\"],[0.2222222222222222,\"#7201a8\"],[0.3333333333333333,\"#9c179e\"],[0.4444444444444444,\"#bd3786\"],[0.5555555555555556,\"#d8576b\"],[0.6666666666666666,\"#ed7953\"],[0.7777777777777778,\"#fb9f3a\"],[0.8888888888888888,\"#fdca26\"],[1.0,\"#f0f921\"]],\"type\":\"contour\"}],\"heatmapgl\":[{\"colorbar\":{\"outlinewidth\":0,\"ticks\":\"\"},\"colorscale\":[[0.0,\"#0d0887\"],[0.1111111111111111,\"#46039f\"],[0.2222222222222222,\"#7201a8\"],[0.3333333333333333,\"#9c179e\"],[0.4444444444444444,\"#bd3786\"],[0.5555555555555556,\"#d8576b\"],[0.6666666666666666,\"#ed7953\"],[0.7777777777777778,\"#fb9f3a\"],[0.8888888888888888,\"#fdca26\"],[1.0,\"#f0f921\"]],\"type\":\"heatmapgl\"}],\"heatmap\":[{\"colorbar\":{\"outlinewidth\":0,\"ticks\":\"\"},\"colorscale\":[[0.0,\"#0d0887\"],[0.1111111111111111,\"#46039f\"],[0.2222222222222222,\"#7201a8\"],[0.3333333333333333,\"#9c179e\"],[0.4444444444444444,\"#bd3786\"],[0.5555555555555556,\"#d8576b\"],[0.6666666666666666,\"#ed7953\"],[0.7777777777777778,\"#fb9f3a\"],[0.8888888888888888,\"#fdca26\"],[1.0,\"#f0f921\"]],\"type\":\"heatmap\"}],\"histogram2dcontour\":[{\"colorbar\":{\"outlinewidth\":0,\"ticks\":\"\"},\"colorscale\":[[0.0,\"#0d0887\"],[0.1111111111111111,\"#46039f\"],[0.2222222222222222,\"#7201a8\"],[0.3333333333333333,\"#9c179e\"],[0.4444444444444444,\"#bd3786\"],[0.5555555555555556,\"#d8576b\"],[0.6666666666666666,\"#ed7953\"],[0.7777777777777778,\"#fb9f3a\"],[0.8888888888888888,\"#fdca26\"],[1.0,\"#f0f921\"]],\"type\":\"histogram2dcontour\"}],\"histogram2d\":[{\"colorbar\":{\"outlinewidth\":0,\"ticks\":\"\"},\"colorscale\":[[0.0,\"#0d0887\"],[0.1111111111111111,\"#46039f\"],[0.2222222222222222,\"#7201a8\"],[0.3333333333333333,\"#9c179e\"],[0.4444444444444444,\"#bd3786\"],[0.5555555555555556,\"#d8576b\"],[0.6666666666666666,\"#ed7953\"],[0.7777777777777778,\"#fb9f3a\"],[0.8888888888888888,\"#fdca26\"],[1.0,\"#f0f921\"]],\"type\":\"histogram2d\"}],\"histogram\":[{\"marker\":{\"pattern\":{\"fillmode\":\"overlay\",\"size\":10,\"solidity\":0.2}},\"type\":\"histogram\"}],\"mesh3d\":[{\"colorbar\":{\"outlinewidth\":0,\"ticks\":\"\"},\"type\":\"mesh3d\"}],\"parcoords\":[{\"line\":{\"colorbar\":{\"outlinewidth\":0,\"ticks\":\"\"}},\"type\":\"parcoords\"}],\"pie\":[{\"automargin\":true,\"type\":\"pie\"}],\"scatter3d\":[{\"line\":{\"colorbar\":{\"outlinewidth\":0,\"ticks\":\"\"}},\"marker\":{\"colorbar\":{\"outlinewidth\":0,\"ticks\":\"\"}},\"type\":\"scatter3d\"}],\"scattercarpet\":[{\"marker\":{\"colorbar\":{\"outlinewidth\":0,\"ticks\":\"\"}},\"type\":\"scattercarpet\"}],\"scattergeo\":[{\"marker\":{\"colorbar\":{\"outlinewidth\":0,\"ticks\":\"\"}},\"type\":\"scattergeo\"}],\"scattergl\":[{\"marker\":{\"colorbar\":{\"outlinewidth\":0,\"ticks\":\"\"}},\"type\":\"scattergl\"}],\"scattermapbox\":[{\"marker\":{\"colorbar\":{\"outlinewidth\":0,\"ticks\":\"\"}},\"type\":\"scattermapbox\"}],\"scatterpolargl\":[{\"marker\":{\"colorbar\":{\"outlinewidth\":0,\"ticks\":\"\"}},\"type\":\"scatterpolargl\"}],\"scatterpolar\":[{\"marker\":{\"colorbar\":{\"outlinewidth\":0,\"ticks\":\"\"}},\"type\":\"scatterpolar\"}],\"scatter\":[{\"marker\":{\"colorbar\":{\"outlinewidth\":0,\"ticks\":\"\"}},\"type\":\"scatter\"}],\"scatterternary\":[{\"marker\":{\"colorbar\":{\"outlinewidth\":0,\"ticks\":\"\"}},\"type\":\"scatterternary\"}],\"surface\":[{\"colorbar\":{\"outlinewidth\":0,\"ticks\":\"\"},\"colorscale\":[[0.0,\"#0d0887\"],[0.1111111111111111,\"#46039f\"],[0.2222222222222222,\"#7201a8\"],[0.3333333333333333,\"#9c179e\"],[0.4444444444444444,\"#bd3786\"],[0.5555555555555556,\"#d8576b\"],[0.6666666666666666,\"#ed7953\"],[0.7777777777777778,\"#fb9f3a\"],[0.8888888888888888,\"#fdca26\"],[1.0,\"#f0f921\"]],\"type\":\"surface\"}],\"table\":[{\"cells\":{\"fill\":{\"color\":\"#EBF0F8\"},\"line\":{\"color\":\"white\"}},\"header\":{\"fill\":{\"color\":\"#C8D4E3\"},\"line\":{\"color\":\"white\"}},\"type\":\"table\"}]},\"layout\":{\"annotationdefaults\":{\"arrowcolor\":\"#2a3f5f\",\"arrowhead\":0,\"arrowwidth\":1},\"autotypenumbers\":\"strict\",\"coloraxis\":{\"colorbar\":{\"outlinewidth\":0,\"ticks\":\"\"}},\"colorscale\":{\"diverging\":[[0,\"#8e0152\"],[0.1,\"#c51b7d\"],[0.2,\"#de77ae\"],[0.3,\"#f1b6da\"],[0.4,\"#fde0ef\"],[0.5,\"#f7f7f7\"],[0.6,\"#e6f5d0\"],[0.7,\"#b8e186\"],[0.8,\"#7fbc41\"],[0.9,\"#4d9221\"],[1,\"#276419\"]],\"sequential\":[[0.0,\"#0d0887\"],[0.1111111111111111,\"#46039f\"],[0.2222222222222222,\"#7201a8\"],[0.3333333333333333,\"#9c179e\"],[0.4444444444444444,\"#bd3786\"],[0.5555555555555556,\"#d8576b\"],[0.6666666666666666,\"#ed7953\"],[0.7777777777777778,\"#fb9f3a\"],[0.8888888888888888,\"#fdca26\"],[1.0,\"#f0f921\"]],\"sequentialminus\":[[0.0,\"#0d0887\"],[0.1111111111111111,\"#46039f\"],[0.2222222222222222,\"#7201a8\"],[0.3333333333333333,\"#9c179e\"],[0.4444444444444444,\"#bd3786\"],[0.5555555555555556,\"#d8576b\"],[0.6666666666666666,\"#ed7953\"],[0.7777777777777778,\"#fb9f3a\"],[0.8888888888888888,\"#fdca26\"],[1.0,\"#f0f921\"]]},\"colorway\":[\"#636efa\",\"#EF553B\",\"#00cc96\",\"#ab63fa\",\"#FFA15A\",\"#19d3f3\",\"#FF6692\",\"#B6E880\",\"#FF97FF\",\"#FECB52\"],\"font\":{\"color\":\"#2a3f5f\"},\"geo\":{\"bgcolor\":\"white\",\"lakecolor\":\"white\",\"landcolor\":\"#E5ECF6\",\"showlakes\":true,\"showland\":true,\"subunitcolor\":\"white\"},\"hoverlabel\":{\"align\":\"left\"},\"hovermode\":\"closest\",\"mapbox\":{\"style\":\"light\"},\"paper_bgcolor\":\"white\",\"plot_bgcolor\":\"#E5ECF6\",\"polar\":{\"angularaxis\":{\"gridcolor\":\"white\",\"linecolor\":\"white\",\"ticks\":\"\"},\"bgcolor\":\"#E5ECF6\",\"radialaxis\":{\"gridcolor\":\"white\",\"linecolor\":\"white\",\"ticks\":\"\"}},\"scene\":{\"xaxis\":{\"backgroundcolor\":\"#E5ECF6\",\"gridcolor\":\"white\",\"gridwidth\":2,\"linecolor\":\"white\",\"showbackground\":true,\"ticks\":\"\",\"zerolinecolor\":\"white\"},\"yaxis\":{\"backgroundcolor\":\"#E5ECF6\",\"gridcolor\":\"white\",\"gridwidth\":2,\"linecolor\":\"white\",\"showbackground\":true,\"ticks\":\"\",\"zerolinecolor\":\"white\"},\"zaxis\":{\"backgroundcolor\":\"#E5ECF6\",\"gridcolor\":\"white\",\"gridwidth\":2,\"linecolor\":\"white\",\"showbackground\":true,\"ticks\":\"\",\"zerolinecolor\":\"white\"}},\"shapedefaults\":{\"line\":{\"color\":\"#2a3f5f\"}},\"ternary\":{\"aaxis\":{\"gridcolor\":\"white\",\"linecolor\":\"white\",\"ticks\":\"\"},\"baxis\":{\"gridcolor\":\"white\",\"linecolor\":\"white\",\"ticks\":\"\"},\"bgcolor\":\"#E5ECF6\",\"caxis\":{\"gridcolor\":\"white\",\"linecolor\":\"white\",\"ticks\":\"\"}},\"title\":{\"x\":0.05},\"xaxis\":{\"automargin\":true,\"gridcolor\":\"white\",\"linecolor\":\"white\",\"ticks\":\"\",\"title\":{\"standoff\":15},\"zerolinecolor\":\"white\",\"zerolinewidth\":2},\"yaxis\":{\"automargin\":true,\"gridcolor\":\"white\",\"linecolor\":\"white\",\"ticks\":\"\",\"title\":{\"standoff\":15},\"zerolinecolor\":\"white\",\"zerolinewidth\":2}}},\"title\":{\"font\":{\"color\":\"#4D5663\"},\"text\":\"Token Polarity Distribution Of The Cattle Articles\"},\"xaxis\":{\"gridcolor\":\"#E1E5ED\",\"linecolor\":\"black\",\"showgrid\":true,\"tickfont\":{\"color\":\"#4D5663\"},\"title\":{\"font\":{\"color\":\"#4D5663\"},\"text\":\"Sentiment Score\"},\"zerolinecolor\":\"#E1E5ED\"},\"yaxis\":{\"gridcolor\":\"#E1E5ED\",\"linecolor\":\"black\",\"showgrid\":true,\"tickfont\":{\"color\":\"#4D5663\"},\"title\":{\"font\":{\"color\":\"#4D5663\"},\"text\":\"count\"},\"zerolinecolor\":\"#E1E5ED\"}},                        {\"showLink\": true, \"linkText\": \"Export to plot.ly\", \"plotlyServerURL\": \"https://plot.ly\", \"responsive\": true}                    ).then(function(){\n",
       "                            \n",
       "var gd = document.getElementById('c89cecda-63f2-4e42-b346-ec1f71808e7e');\n",
       "var x = new MutationObserver(function (mutations, observer) {{\n",
       "        var display = window.getComputedStyle(gd).display;\n",
       "        if (!display || display === 'none') {{\n",
       "            console.log([gd, 'removed!']);\n",
       "            Plotly.purge(gd);\n",
       "            observer.disconnect();\n",
       "        }}\n",
       "}});\n",
       "\n",
       "// Listen for the removal of the full notebook cells\n",
       "var notebookContainer = gd.closest('#notebook-container');\n",
       "if (notebookContainer) {{\n",
       "    x.observe(notebookContainer, {childList: true});\n",
       "}}\n",
       "\n",
       "// Listen for the clearing of the current output cell\n",
       "var outputEl = gd.closest('.output');\n",
       "if (outputEl) {{\n",
       "    x.observe(outputEl, {childList: true});\n",
       "}}\n",
       "\n",
       "                        })                };                });            </script>        </div>"
      ]
     },
     "metadata": {},
     "output_type": "display_data"
    }
   ],
   "source": [
    "df['compound'][df['Trend'] == 'cattle'].iplot(\n",
    "    kind='hist',\n",
    "    bins=50,\n",
    "    xTitle='Sentiment Score',\n",
    "    linecolor='black',\n",
    "    yTitle='count',\n",
    "    title='Token Polarity Distribution Of The Cattle Articles')"
   ]
  },
  {
   "cell_type": "code",
   "execution_count": 15,
   "id": "4325fd01",
   "metadata": {
    "ExecuteTime": {
     "end_time": "2022-01-29T22:15:58.687008Z",
     "start_time": "2022-01-29T22:15:58.442150Z"
    },
    "scrolled": true
   },
   "outputs": [
    {
     "data": {
      "application/vnd.plotly.v1+json": {
       "config": {
        "linkText": "Export to plot.ly",
        "plotlyServerURL": "https://plot.ly",
        "showLink": true
       },
       "data": [
        {
         "histfunc": "count",
         "histnorm": "",
         "marker": {
          "color": "rgba(255, 153, 51, 1.0)",
          "line": {
           "color": "#000000",
           "width": 1.3
          }
         },
         "name": "compound",
         "nbinsx": 50,
         "opacity": 0.8,
         "orientation": "v",
         "type": "histogram",
         "x": [
          0.7717,
          -0.6249,
          0.9201,
          0.8193,
          0.9799,
          0.9223,
          0.9681,
          0.9287,
          0.8465,
          0.9762,
          0.936,
          0.4286,
          0.9656,
          -0.2006,
          0.7184,
          0.9324,
          0.5574,
          0.25,
          -0.6176,
          -0.7096,
          0.9359,
          0.9831,
          0.4696,
          0.9201,
          0.2263,
          0.7883,
          0.9741,
          0.0258,
          0.9246,
          -0.1882,
          0.9259,
          0.9705,
          -0.7637,
          -0.2263,
          0.9657,
          0.6992,
          0.9524,
          0.9459,
          0.7785,
          0,
          0.9325,
          -0.5423,
          -0.8271,
          0.719,
          0.9552,
          0.9517,
          0.9062,
          -0.9555,
          0.7184,
          0.9291,
          0.993,
          0.825,
          0.982,
          0.9485,
          0.7574,
          0.9495,
          0.2846,
          0.9975,
          0.8644,
          0.9885,
          0.9549,
          0.965,
          0.959,
          0.9451,
          -0.5844,
          0.9678,
          0.9705,
          0.9545,
          0.9842,
          0.9723,
          0.9932,
          0.8083,
          0.1531,
          0.0314,
          0.9741,
          0.9207,
          0.5859,
          0.9773,
          0.9969,
          0.7506,
          0.9879,
          0.9875,
          0.9732,
          -0.0164,
          0.9992,
          0.765,
          0.9119,
          -0.7214,
          0.9681,
          -0.6593,
          -0.3341,
          -0.9447,
          0.9753,
          0.9007,
          0.9181,
          -0.4678,
          0.9022,
          0.9572,
          0.9787,
          0.9413,
          0.2673,
          0.9735,
          0.6862,
          -0.1935,
          0.9339,
          0.25,
          0.909,
          0.9892,
          0.9923,
          0.6809,
          0.5499,
          0.9042,
          0.7221,
          0.9891,
          0.9378,
          0.5106,
          -0.7003,
          0.988,
          0.2996,
          0.9927,
          -0.2989,
          0.9471,
          0.9876,
          0.9273,
          0.9988,
          0.9829,
          0.961,
          0.9721,
          0.9599,
          0.872,
          0.8078,
          0.959,
          0.8686,
          0.3958,
          0.7233,
          0.9931,
          0.7929,
          -0.9477,
          0.09,
          0.9189,
          0.9729,
          -0.5636,
          -0.5116,
          0.9265,
          0.9719,
          -0.8439,
          0.9524,
          0.9964,
          0.5528,
          0,
          0.7964,
          0.8647,
          0.8931,
          0.8467,
          0.9783,
          0.9866,
          0.9824,
          0.8857,
          -0.8911,
          -0.936,
          0.9902,
          0.6124,
          0.9328,
          0.9929,
          0.7689,
          0.9823,
          0.9899,
          -0.9656,
          0.1163,
          0.9967,
          0.9398,
          0.9783,
          0.9489,
          0.9948,
          -0.3596,
          0.7003,
          0.9921,
          -0.228,
          0.9914,
          0.9561,
          0.9099,
          -0.7184,
          0.4939,
          0.9791,
          -0.9064,
          0.8402,
          0.7805,
          0.8077,
          0.9641,
          -0.5178,
          0.6812,
          -0.9163,
          0.9943,
          -0.9163,
          0.9529,
          0.9571,
          0.9885,
          0.9955,
          0.9099,
          0.8807,
          0.9325,
          0.8073,
          0.9883,
          0.921,
          0.9001,
          0.9735,
          0.9081,
          0.9928,
          0.9773,
          0.9723,
          0.9773,
          0.9172,
          0.914,
          0.9779,
          0.9468,
          0.9884,
          -0.2836,
          0.7713,
          0.4019,
          0.9978,
          0.919,
          0.9792,
          0.9716,
          0.984,
          0.9502,
          0.9831,
          0.9805,
          0.9461,
          0.8165,
          0.1963,
          -0.6249,
          0.9814,
          -0.9518,
          -0.6542,
          0.946,
          0.9489,
          0.8701,
          -0.681,
          0.25,
          -0.9716,
          0.6597,
          0.3415
         ]
        }
       ],
       "layout": {
        "barmode": "overlay",
        "legend": {
         "bgcolor": "#F5F6F9",
         "font": {
          "color": "#4D5663"
         }
        },
        "paper_bgcolor": "#F5F6F9",
        "plot_bgcolor": "#F5F6F9",
        "template": {
         "data": {
          "bar": [
           {
            "error_x": {
             "color": "#2a3f5f"
            },
            "error_y": {
             "color": "#2a3f5f"
            },
            "marker": {
             "line": {
              "color": "#E5ECF6",
              "width": 0.5
             },
             "pattern": {
              "fillmode": "overlay",
              "size": 10,
              "solidity": 0.2
             }
            },
            "type": "bar"
           }
          ],
          "barpolar": [
           {
            "marker": {
             "line": {
              "color": "#E5ECF6",
              "width": 0.5
             },
             "pattern": {
              "fillmode": "overlay",
              "size": 10,
              "solidity": 0.2
             }
            },
            "type": "barpolar"
           }
          ],
          "carpet": [
           {
            "aaxis": {
             "endlinecolor": "#2a3f5f",
             "gridcolor": "white",
             "linecolor": "white",
             "minorgridcolor": "white",
             "startlinecolor": "#2a3f5f"
            },
            "baxis": {
             "endlinecolor": "#2a3f5f",
             "gridcolor": "white",
             "linecolor": "white",
             "minorgridcolor": "white",
             "startlinecolor": "#2a3f5f"
            },
            "type": "carpet"
           }
          ],
          "choropleth": [
           {
            "colorbar": {
             "outlinewidth": 0,
             "ticks": ""
            },
            "type": "choropleth"
           }
          ],
          "contour": [
           {
            "colorbar": {
             "outlinewidth": 0,
             "ticks": ""
            },
            "colorscale": [
             [
              0,
              "#0d0887"
             ],
             [
              0.1111111111111111,
              "#46039f"
             ],
             [
              0.2222222222222222,
              "#7201a8"
             ],
             [
              0.3333333333333333,
              "#9c179e"
             ],
             [
              0.4444444444444444,
              "#bd3786"
             ],
             [
              0.5555555555555556,
              "#d8576b"
             ],
             [
              0.6666666666666666,
              "#ed7953"
             ],
             [
              0.7777777777777778,
              "#fb9f3a"
             ],
             [
              0.8888888888888888,
              "#fdca26"
             ],
             [
              1,
              "#f0f921"
             ]
            ],
            "type": "contour"
           }
          ],
          "contourcarpet": [
           {
            "colorbar": {
             "outlinewidth": 0,
             "ticks": ""
            },
            "type": "contourcarpet"
           }
          ],
          "heatmap": [
           {
            "colorbar": {
             "outlinewidth": 0,
             "ticks": ""
            },
            "colorscale": [
             [
              0,
              "#0d0887"
             ],
             [
              0.1111111111111111,
              "#46039f"
             ],
             [
              0.2222222222222222,
              "#7201a8"
             ],
             [
              0.3333333333333333,
              "#9c179e"
             ],
             [
              0.4444444444444444,
              "#bd3786"
             ],
             [
              0.5555555555555556,
              "#d8576b"
             ],
             [
              0.6666666666666666,
              "#ed7953"
             ],
             [
              0.7777777777777778,
              "#fb9f3a"
             ],
             [
              0.8888888888888888,
              "#fdca26"
             ],
             [
              1,
              "#f0f921"
             ]
            ],
            "type": "heatmap"
           }
          ],
          "heatmapgl": [
           {
            "colorbar": {
             "outlinewidth": 0,
             "ticks": ""
            },
            "colorscale": [
             [
              0,
              "#0d0887"
             ],
             [
              0.1111111111111111,
              "#46039f"
             ],
             [
              0.2222222222222222,
              "#7201a8"
             ],
             [
              0.3333333333333333,
              "#9c179e"
             ],
             [
              0.4444444444444444,
              "#bd3786"
             ],
             [
              0.5555555555555556,
              "#d8576b"
             ],
             [
              0.6666666666666666,
              "#ed7953"
             ],
             [
              0.7777777777777778,
              "#fb9f3a"
             ],
             [
              0.8888888888888888,
              "#fdca26"
             ],
             [
              1,
              "#f0f921"
             ]
            ],
            "type": "heatmapgl"
           }
          ],
          "histogram": [
           {
            "marker": {
             "pattern": {
              "fillmode": "overlay",
              "size": 10,
              "solidity": 0.2
             }
            },
            "type": "histogram"
           }
          ],
          "histogram2d": [
           {
            "colorbar": {
             "outlinewidth": 0,
             "ticks": ""
            },
            "colorscale": [
             [
              0,
              "#0d0887"
             ],
             [
              0.1111111111111111,
              "#46039f"
             ],
             [
              0.2222222222222222,
              "#7201a8"
             ],
             [
              0.3333333333333333,
              "#9c179e"
             ],
             [
              0.4444444444444444,
              "#bd3786"
             ],
             [
              0.5555555555555556,
              "#d8576b"
             ],
             [
              0.6666666666666666,
              "#ed7953"
             ],
             [
              0.7777777777777778,
              "#fb9f3a"
             ],
             [
              0.8888888888888888,
              "#fdca26"
             ],
             [
              1,
              "#f0f921"
             ]
            ],
            "type": "histogram2d"
           }
          ],
          "histogram2dcontour": [
           {
            "colorbar": {
             "outlinewidth": 0,
             "ticks": ""
            },
            "colorscale": [
             [
              0,
              "#0d0887"
             ],
             [
              0.1111111111111111,
              "#46039f"
             ],
             [
              0.2222222222222222,
              "#7201a8"
             ],
             [
              0.3333333333333333,
              "#9c179e"
             ],
             [
              0.4444444444444444,
              "#bd3786"
             ],
             [
              0.5555555555555556,
              "#d8576b"
             ],
             [
              0.6666666666666666,
              "#ed7953"
             ],
             [
              0.7777777777777778,
              "#fb9f3a"
             ],
             [
              0.8888888888888888,
              "#fdca26"
             ],
             [
              1,
              "#f0f921"
             ]
            ],
            "type": "histogram2dcontour"
           }
          ],
          "mesh3d": [
           {
            "colorbar": {
             "outlinewidth": 0,
             "ticks": ""
            },
            "type": "mesh3d"
           }
          ],
          "parcoords": [
           {
            "line": {
             "colorbar": {
              "outlinewidth": 0,
              "ticks": ""
             }
            },
            "type": "parcoords"
           }
          ],
          "pie": [
           {
            "automargin": true,
            "type": "pie"
           }
          ],
          "scatter": [
           {
            "marker": {
             "colorbar": {
              "outlinewidth": 0,
              "ticks": ""
             }
            },
            "type": "scatter"
           }
          ],
          "scatter3d": [
           {
            "line": {
             "colorbar": {
              "outlinewidth": 0,
              "ticks": ""
             }
            },
            "marker": {
             "colorbar": {
              "outlinewidth": 0,
              "ticks": ""
             }
            },
            "type": "scatter3d"
           }
          ],
          "scattercarpet": [
           {
            "marker": {
             "colorbar": {
              "outlinewidth": 0,
              "ticks": ""
             }
            },
            "type": "scattercarpet"
           }
          ],
          "scattergeo": [
           {
            "marker": {
             "colorbar": {
              "outlinewidth": 0,
              "ticks": ""
             }
            },
            "type": "scattergeo"
           }
          ],
          "scattergl": [
           {
            "marker": {
             "colorbar": {
              "outlinewidth": 0,
              "ticks": ""
             }
            },
            "type": "scattergl"
           }
          ],
          "scattermapbox": [
           {
            "marker": {
             "colorbar": {
              "outlinewidth": 0,
              "ticks": ""
             }
            },
            "type": "scattermapbox"
           }
          ],
          "scatterpolar": [
           {
            "marker": {
             "colorbar": {
              "outlinewidth": 0,
              "ticks": ""
             }
            },
            "type": "scatterpolar"
           }
          ],
          "scatterpolargl": [
           {
            "marker": {
             "colorbar": {
              "outlinewidth": 0,
              "ticks": ""
             }
            },
            "type": "scatterpolargl"
           }
          ],
          "scatterternary": [
           {
            "marker": {
             "colorbar": {
              "outlinewidth": 0,
              "ticks": ""
             }
            },
            "type": "scatterternary"
           }
          ],
          "surface": [
           {
            "colorbar": {
             "outlinewidth": 0,
             "ticks": ""
            },
            "colorscale": [
             [
              0,
              "#0d0887"
             ],
             [
              0.1111111111111111,
              "#46039f"
             ],
             [
              0.2222222222222222,
              "#7201a8"
             ],
             [
              0.3333333333333333,
              "#9c179e"
             ],
             [
              0.4444444444444444,
              "#bd3786"
             ],
             [
              0.5555555555555556,
              "#d8576b"
             ],
             [
              0.6666666666666666,
              "#ed7953"
             ],
             [
              0.7777777777777778,
              "#fb9f3a"
             ],
             [
              0.8888888888888888,
              "#fdca26"
             ],
             [
              1,
              "#f0f921"
             ]
            ],
            "type": "surface"
           }
          ],
          "table": [
           {
            "cells": {
             "fill": {
              "color": "#EBF0F8"
             },
             "line": {
              "color": "white"
             }
            },
            "header": {
             "fill": {
              "color": "#C8D4E3"
             },
             "line": {
              "color": "white"
             }
            },
            "type": "table"
           }
          ]
         },
         "layout": {
          "annotationdefaults": {
           "arrowcolor": "#2a3f5f",
           "arrowhead": 0,
           "arrowwidth": 1
          },
          "autotypenumbers": "strict",
          "coloraxis": {
           "colorbar": {
            "outlinewidth": 0,
            "ticks": ""
           }
          },
          "colorscale": {
           "diverging": [
            [
             0,
             "#8e0152"
            ],
            [
             0.1,
             "#c51b7d"
            ],
            [
             0.2,
             "#de77ae"
            ],
            [
             0.3,
             "#f1b6da"
            ],
            [
             0.4,
             "#fde0ef"
            ],
            [
             0.5,
             "#f7f7f7"
            ],
            [
             0.6,
             "#e6f5d0"
            ],
            [
             0.7,
             "#b8e186"
            ],
            [
             0.8,
             "#7fbc41"
            ],
            [
             0.9,
             "#4d9221"
            ],
            [
             1,
             "#276419"
            ]
           ],
           "sequential": [
            [
             0,
             "#0d0887"
            ],
            [
             0.1111111111111111,
             "#46039f"
            ],
            [
             0.2222222222222222,
             "#7201a8"
            ],
            [
             0.3333333333333333,
             "#9c179e"
            ],
            [
             0.4444444444444444,
             "#bd3786"
            ],
            [
             0.5555555555555556,
             "#d8576b"
            ],
            [
             0.6666666666666666,
             "#ed7953"
            ],
            [
             0.7777777777777778,
             "#fb9f3a"
            ],
            [
             0.8888888888888888,
             "#fdca26"
            ],
            [
             1,
             "#f0f921"
            ]
           ],
           "sequentialminus": [
            [
             0,
             "#0d0887"
            ],
            [
             0.1111111111111111,
             "#46039f"
            ],
            [
             0.2222222222222222,
             "#7201a8"
            ],
            [
             0.3333333333333333,
             "#9c179e"
            ],
            [
             0.4444444444444444,
             "#bd3786"
            ],
            [
             0.5555555555555556,
             "#d8576b"
            ],
            [
             0.6666666666666666,
             "#ed7953"
            ],
            [
             0.7777777777777778,
             "#fb9f3a"
            ],
            [
             0.8888888888888888,
             "#fdca26"
            ],
            [
             1,
             "#f0f921"
            ]
           ]
          },
          "colorway": [
           "#636efa",
           "#EF553B",
           "#00cc96",
           "#ab63fa",
           "#FFA15A",
           "#19d3f3",
           "#FF6692",
           "#B6E880",
           "#FF97FF",
           "#FECB52"
          ],
          "font": {
           "color": "#2a3f5f"
          },
          "geo": {
           "bgcolor": "white",
           "lakecolor": "white",
           "landcolor": "#E5ECF6",
           "showlakes": true,
           "showland": true,
           "subunitcolor": "white"
          },
          "hoverlabel": {
           "align": "left"
          },
          "hovermode": "closest",
          "mapbox": {
           "style": "light"
          },
          "paper_bgcolor": "white",
          "plot_bgcolor": "#E5ECF6",
          "polar": {
           "angularaxis": {
            "gridcolor": "white",
            "linecolor": "white",
            "ticks": ""
           },
           "bgcolor": "#E5ECF6",
           "radialaxis": {
            "gridcolor": "white",
            "linecolor": "white",
            "ticks": ""
           }
          },
          "scene": {
           "xaxis": {
            "backgroundcolor": "#E5ECF6",
            "gridcolor": "white",
            "gridwidth": 2,
            "linecolor": "white",
            "showbackground": true,
            "ticks": "",
            "zerolinecolor": "white"
           },
           "yaxis": {
            "backgroundcolor": "#E5ECF6",
            "gridcolor": "white",
            "gridwidth": 2,
            "linecolor": "white",
            "showbackground": true,
            "ticks": "",
            "zerolinecolor": "white"
           },
           "zaxis": {
            "backgroundcolor": "#E5ECF6",
            "gridcolor": "white",
            "gridwidth": 2,
            "linecolor": "white",
            "showbackground": true,
            "ticks": "",
            "zerolinecolor": "white"
           }
          },
          "shapedefaults": {
           "line": {
            "color": "#2a3f5f"
           }
          },
          "ternary": {
           "aaxis": {
            "gridcolor": "white",
            "linecolor": "white",
            "ticks": ""
           },
           "baxis": {
            "gridcolor": "white",
            "linecolor": "white",
            "ticks": ""
           },
           "bgcolor": "#E5ECF6",
           "caxis": {
            "gridcolor": "white",
            "linecolor": "white",
            "ticks": ""
           }
          },
          "title": {
           "x": 0.05
          },
          "xaxis": {
           "automargin": true,
           "gridcolor": "white",
           "linecolor": "white",
           "ticks": "",
           "title": {
            "standoff": 15
           },
           "zerolinecolor": "white",
           "zerolinewidth": 2
          },
          "yaxis": {
           "automargin": true,
           "gridcolor": "white",
           "linecolor": "white",
           "ticks": "",
           "title": {
            "standoff": 15
           },
           "zerolinecolor": "white",
           "zerolinewidth": 2
          }
         }
        },
        "title": {
         "font": {
          "color": "#4D5663"
         },
         "text": "Token Polarity Distribution Of The Dairy Articles"
        },
        "xaxis": {
         "gridcolor": "#E1E5ED",
         "linecolor": "black",
         "showgrid": true,
         "tickfont": {
          "color": "#4D5663"
         },
         "title": {
          "font": {
           "color": "#4D5663"
          },
          "text": "Sentiment Score"
         },
         "zerolinecolor": "#E1E5ED"
        },
        "yaxis": {
         "gridcolor": "#E1E5ED",
         "linecolor": "black",
         "showgrid": true,
         "tickfont": {
          "color": "#4D5663"
         },
         "title": {
          "font": {
           "color": "#4D5663"
          },
          "text": "count"
         },
         "zerolinecolor": "#E1E5ED"
        }
       }
      },
      "text/html": [
       "<div>                            <div id=\"fdc15724-27e8-4cc2-9dbd-b5d64bf7f3e0\" class=\"plotly-graph-div\" style=\"height:525px; width:100%;\"></div>            <script type=\"text/javascript\">                require([\"plotly\"], function(Plotly) {                    window.PLOTLYENV=window.PLOTLYENV || {};\n",
       "                    window.PLOTLYENV.BASE_URL='https://plot.ly';                                    if (document.getElementById(\"fdc15724-27e8-4cc2-9dbd-b5d64bf7f3e0\")) {                    Plotly.newPlot(                        \"fdc15724-27e8-4cc2-9dbd-b5d64bf7f3e0\",                        [{\"histfunc\":\"count\",\"histnorm\":\"\",\"marker\":{\"color\":\"rgba(255, 153, 51, 1.0)\",\"line\":{\"color\":\"#000000\",\"width\":1.3}},\"name\":\"compound\",\"nbinsx\":50,\"opacity\":0.8,\"orientation\":\"v\",\"x\":[0.7717,-0.6249,0.9201,0.8193,0.9799,0.9223,0.9681,0.9287,0.8465,0.9762,0.936,0.4286,0.9656,-0.2006,0.7184,0.9324,0.5574,0.25,-0.6176,-0.7096,0.9359,0.9831,0.4696,0.9201,0.2263,0.7883,0.9741,0.0258,0.9246,-0.1882,0.9259,0.9705,-0.7637,-0.2263,0.9657,0.6992,0.9524,0.9459,0.7785,0.0,0.9325,-0.5423,-0.8271,0.719,0.9552,0.9517,0.9062,-0.9555,0.7184,0.9291,0.993,0.825,0.982,0.9485,0.7574,0.9495,0.2846,0.9975,0.8644,0.9885,0.9549,0.965,0.959,0.9451,-0.5844,0.9678,0.9705,0.9545,0.9842,0.9723,0.9932,0.8083,0.1531,0.0314,0.9741,0.9207,0.5859,0.9773,0.9969,0.7506,0.9879,0.9875,0.9732,-0.0164,0.9992,0.765,0.9119,-0.7214,0.9681,-0.6593,-0.3341,-0.9447,0.9753,0.9007,0.9181,-0.4678,0.9022,0.9572,0.9787,0.9413,0.2673,0.9735,0.6862,-0.1935,0.9339,0.25,0.909,0.9892,0.9923,0.6809,0.5499,0.9042,0.7221,0.9891,0.9378,0.5106,-0.7003,0.988,0.2996,0.9927,-0.2989,0.9471,0.9876,0.9273,0.9988,0.9829,0.961,0.9721,0.9599,0.872,0.8078,0.959,0.8686,0.3958,0.7233,0.9931,0.7929,-0.9477,0.09,0.9189,0.9729,-0.5636,-0.5116,0.9265,0.9719,-0.8439,0.9524,0.9964,0.5528,0.0,0.7964,0.8647,0.8931,0.8467,0.9783,0.9866,0.9824,0.8857,-0.8911,-0.936,0.9902,0.6124,0.9328,0.9929,0.7689,0.9823,0.9899,-0.9656,0.1163,0.9967,0.9398,0.9783,0.9489,0.9948,-0.3596,0.7003,0.9921,-0.228,0.9914,0.9561,0.9099,-0.7184,0.4939,0.9791,-0.9064,0.8402,0.7805,0.8077,0.9641,-0.5178,0.6812,-0.9163,0.9943,-0.9163,0.9529,0.9571,0.9885,0.9955,0.9099,0.8807,0.9325,0.8073,0.9883,0.921,0.9001,0.9735,0.9081,0.9928,0.9773,0.9723,0.9773,0.9172,0.914,0.9779,0.9468,0.9884,-0.2836,0.7713,0.4019,0.9978,0.919,0.9792,0.9716,0.984,0.9502,0.9831,0.9805,0.9461,0.8165,0.1963,-0.6249,0.9814,-0.9518,-0.6542,0.946,0.9489,0.8701,-0.681,0.25,-0.9716,0.6597,0.3415],\"type\":\"histogram\"}],                        {\"barmode\":\"overlay\",\"legend\":{\"bgcolor\":\"#F5F6F9\",\"font\":{\"color\":\"#4D5663\"}},\"paper_bgcolor\":\"#F5F6F9\",\"plot_bgcolor\":\"#F5F6F9\",\"template\":{\"data\":{\"barpolar\":[{\"marker\":{\"line\":{\"color\":\"#E5ECF6\",\"width\":0.5},\"pattern\":{\"fillmode\":\"overlay\",\"size\":10,\"solidity\":0.2}},\"type\":\"barpolar\"}],\"bar\":[{\"error_x\":{\"color\":\"#2a3f5f\"},\"error_y\":{\"color\":\"#2a3f5f\"},\"marker\":{\"line\":{\"color\":\"#E5ECF6\",\"width\":0.5},\"pattern\":{\"fillmode\":\"overlay\",\"size\":10,\"solidity\":0.2}},\"type\":\"bar\"}],\"carpet\":[{\"aaxis\":{\"endlinecolor\":\"#2a3f5f\",\"gridcolor\":\"white\",\"linecolor\":\"white\",\"minorgridcolor\":\"white\",\"startlinecolor\":\"#2a3f5f\"},\"baxis\":{\"endlinecolor\":\"#2a3f5f\",\"gridcolor\":\"white\",\"linecolor\":\"white\",\"minorgridcolor\":\"white\",\"startlinecolor\":\"#2a3f5f\"},\"type\":\"carpet\"}],\"choropleth\":[{\"colorbar\":{\"outlinewidth\":0,\"ticks\":\"\"},\"type\":\"choropleth\"}],\"contourcarpet\":[{\"colorbar\":{\"outlinewidth\":0,\"ticks\":\"\"},\"type\":\"contourcarpet\"}],\"contour\":[{\"colorbar\":{\"outlinewidth\":0,\"ticks\":\"\"},\"colorscale\":[[0.0,\"#0d0887\"],[0.1111111111111111,\"#46039f\"],[0.2222222222222222,\"#7201a8\"],[0.3333333333333333,\"#9c179e\"],[0.4444444444444444,\"#bd3786\"],[0.5555555555555556,\"#d8576b\"],[0.6666666666666666,\"#ed7953\"],[0.7777777777777778,\"#fb9f3a\"],[0.8888888888888888,\"#fdca26\"],[1.0,\"#f0f921\"]],\"type\":\"contour\"}],\"heatmapgl\":[{\"colorbar\":{\"outlinewidth\":0,\"ticks\":\"\"},\"colorscale\":[[0.0,\"#0d0887\"],[0.1111111111111111,\"#46039f\"],[0.2222222222222222,\"#7201a8\"],[0.3333333333333333,\"#9c179e\"],[0.4444444444444444,\"#bd3786\"],[0.5555555555555556,\"#d8576b\"],[0.6666666666666666,\"#ed7953\"],[0.7777777777777778,\"#fb9f3a\"],[0.8888888888888888,\"#fdca26\"],[1.0,\"#f0f921\"]],\"type\":\"heatmapgl\"}],\"heatmap\":[{\"colorbar\":{\"outlinewidth\":0,\"ticks\":\"\"},\"colorscale\":[[0.0,\"#0d0887\"],[0.1111111111111111,\"#46039f\"],[0.2222222222222222,\"#7201a8\"],[0.3333333333333333,\"#9c179e\"],[0.4444444444444444,\"#bd3786\"],[0.5555555555555556,\"#d8576b\"],[0.6666666666666666,\"#ed7953\"],[0.7777777777777778,\"#fb9f3a\"],[0.8888888888888888,\"#fdca26\"],[1.0,\"#f0f921\"]],\"type\":\"heatmap\"}],\"histogram2dcontour\":[{\"colorbar\":{\"outlinewidth\":0,\"ticks\":\"\"},\"colorscale\":[[0.0,\"#0d0887\"],[0.1111111111111111,\"#46039f\"],[0.2222222222222222,\"#7201a8\"],[0.3333333333333333,\"#9c179e\"],[0.4444444444444444,\"#bd3786\"],[0.5555555555555556,\"#d8576b\"],[0.6666666666666666,\"#ed7953\"],[0.7777777777777778,\"#fb9f3a\"],[0.8888888888888888,\"#fdca26\"],[1.0,\"#f0f921\"]],\"type\":\"histogram2dcontour\"}],\"histogram2d\":[{\"colorbar\":{\"outlinewidth\":0,\"ticks\":\"\"},\"colorscale\":[[0.0,\"#0d0887\"],[0.1111111111111111,\"#46039f\"],[0.2222222222222222,\"#7201a8\"],[0.3333333333333333,\"#9c179e\"],[0.4444444444444444,\"#bd3786\"],[0.5555555555555556,\"#d8576b\"],[0.6666666666666666,\"#ed7953\"],[0.7777777777777778,\"#fb9f3a\"],[0.8888888888888888,\"#fdca26\"],[1.0,\"#f0f921\"]],\"type\":\"histogram2d\"}],\"histogram\":[{\"marker\":{\"pattern\":{\"fillmode\":\"overlay\",\"size\":10,\"solidity\":0.2}},\"type\":\"histogram\"}],\"mesh3d\":[{\"colorbar\":{\"outlinewidth\":0,\"ticks\":\"\"},\"type\":\"mesh3d\"}],\"parcoords\":[{\"line\":{\"colorbar\":{\"outlinewidth\":0,\"ticks\":\"\"}},\"type\":\"parcoords\"}],\"pie\":[{\"automargin\":true,\"type\":\"pie\"}],\"scatter3d\":[{\"line\":{\"colorbar\":{\"outlinewidth\":0,\"ticks\":\"\"}},\"marker\":{\"colorbar\":{\"outlinewidth\":0,\"ticks\":\"\"}},\"type\":\"scatter3d\"}],\"scattercarpet\":[{\"marker\":{\"colorbar\":{\"outlinewidth\":0,\"ticks\":\"\"}},\"type\":\"scattercarpet\"}],\"scattergeo\":[{\"marker\":{\"colorbar\":{\"outlinewidth\":0,\"ticks\":\"\"}},\"type\":\"scattergeo\"}],\"scattergl\":[{\"marker\":{\"colorbar\":{\"outlinewidth\":0,\"ticks\":\"\"}},\"type\":\"scattergl\"}],\"scattermapbox\":[{\"marker\":{\"colorbar\":{\"outlinewidth\":0,\"ticks\":\"\"}},\"type\":\"scattermapbox\"}],\"scatterpolargl\":[{\"marker\":{\"colorbar\":{\"outlinewidth\":0,\"ticks\":\"\"}},\"type\":\"scatterpolargl\"}],\"scatterpolar\":[{\"marker\":{\"colorbar\":{\"outlinewidth\":0,\"ticks\":\"\"}},\"type\":\"scatterpolar\"}],\"scatter\":[{\"marker\":{\"colorbar\":{\"outlinewidth\":0,\"ticks\":\"\"}},\"type\":\"scatter\"}],\"scatterternary\":[{\"marker\":{\"colorbar\":{\"outlinewidth\":0,\"ticks\":\"\"}},\"type\":\"scatterternary\"}],\"surface\":[{\"colorbar\":{\"outlinewidth\":0,\"ticks\":\"\"},\"colorscale\":[[0.0,\"#0d0887\"],[0.1111111111111111,\"#46039f\"],[0.2222222222222222,\"#7201a8\"],[0.3333333333333333,\"#9c179e\"],[0.4444444444444444,\"#bd3786\"],[0.5555555555555556,\"#d8576b\"],[0.6666666666666666,\"#ed7953\"],[0.7777777777777778,\"#fb9f3a\"],[0.8888888888888888,\"#fdca26\"],[1.0,\"#f0f921\"]],\"type\":\"surface\"}],\"table\":[{\"cells\":{\"fill\":{\"color\":\"#EBF0F8\"},\"line\":{\"color\":\"white\"}},\"header\":{\"fill\":{\"color\":\"#C8D4E3\"},\"line\":{\"color\":\"white\"}},\"type\":\"table\"}]},\"layout\":{\"annotationdefaults\":{\"arrowcolor\":\"#2a3f5f\",\"arrowhead\":0,\"arrowwidth\":1},\"autotypenumbers\":\"strict\",\"coloraxis\":{\"colorbar\":{\"outlinewidth\":0,\"ticks\":\"\"}},\"colorscale\":{\"diverging\":[[0,\"#8e0152\"],[0.1,\"#c51b7d\"],[0.2,\"#de77ae\"],[0.3,\"#f1b6da\"],[0.4,\"#fde0ef\"],[0.5,\"#f7f7f7\"],[0.6,\"#e6f5d0\"],[0.7,\"#b8e186\"],[0.8,\"#7fbc41\"],[0.9,\"#4d9221\"],[1,\"#276419\"]],\"sequential\":[[0.0,\"#0d0887\"],[0.1111111111111111,\"#46039f\"],[0.2222222222222222,\"#7201a8\"],[0.3333333333333333,\"#9c179e\"],[0.4444444444444444,\"#bd3786\"],[0.5555555555555556,\"#d8576b\"],[0.6666666666666666,\"#ed7953\"],[0.7777777777777778,\"#fb9f3a\"],[0.8888888888888888,\"#fdca26\"],[1.0,\"#f0f921\"]],\"sequentialminus\":[[0.0,\"#0d0887\"],[0.1111111111111111,\"#46039f\"],[0.2222222222222222,\"#7201a8\"],[0.3333333333333333,\"#9c179e\"],[0.4444444444444444,\"#bd3786\"],[0.5555555555555556,\"#d8576b\"],[0.6666666666666666,\"#ed7953\"],[0.7777777777777778,\"#fb9f3a\"],[0.8888888888888888,\"#fdca26\"],[1.0,\"#f0f921\"]]},\"colorway\":[\"#636efa\",\"#EF553B\",\"#00cc96\",\"#ab63fa\",\"#FFA15A\",\"#19d3f3\",\"#FF6692\",\"#B6E880\",\"#FF97FF\",\"#FECB52\"],\"font\":{\"color\":\"#2a3f5f\"},\"geo\":{\"bgcolor\":\"white\",\"lakecolor\":\"white\",\"landcolor\":\"#E5ECF6\",\"showlakes\":true,\"showland\":true,\"subunitcolor\":\"white\"},\"hoverlabel\":{\"align\":\"left\"},\"hovermode\":\"closest\",\"mapbox\":{\"style\":\"light\"},\"paper_bgcolor\":\"white\",\"plot_bgcolor\":\"#E5ECF6\",\"polar\":{\"angularaxis\":{\"gridcolor\":\"white\",\"linecolor\":\"white\",\"ticks\":\"\"},\"bgcolor\":\"#E5ECF6\",\"radialaxis\":{\"gridcolor\":\"white\",\"linecolor\":\"white\",\"ticks\":\"\"}},\"scene\":{\"xaxis\":{\"backgroundcolor\":\"#E5ECF6\",\"gridcolor\":\"white\",\"gridwidth\":2,\"linecolor\":\"white\",\"showbackground\":true,\"ticks\":\"\",\"zerolinecolor\":\"white\"},\"yaxis\":{\"backgroundcolor\":\"#E5ECF6\",\"gridcolor\":\"white\",\"gridwidth\":2,\"linecolor\":\"white\",\"showbackground\":true,\"ticks\":\"\",\"zerolinecolor\":\"white\"},\"zaxis\":{\"backgroundcolor\":\"#E5ECF6\",\"gridcolor\":\"white\",\"gridwidth\":2,\"linecolor\":\"white\",\"showbackground\":true,\"ticks\":\"\",\"zerolinecolor\":\"white\"}},\"shapedefaults\":{\"line\":{\"color\":\"#2a3f5f\"}},\"ternary\":{\"aaxis\":{\"gridcolor\":\"white\",\"linecolor\":\"white\",\"ticks\":\"\"},\"baxis\":{\"gridcolor\":\"white\",\"linecolor\":\"white\",\"ticks\":\"\"},\"bgcolor\":\"#E5ECF6\",\"caxis\":{\"gridcolor\":\"white\",\"linecolor\":\"white\",\"ticks\":\"\"}},\"title\":{\"x\":0.05},\"xaxis\":{\"automargin\":true,\"gridcolor\":\"white\",\"linecolor\":\"white\",\"ticks\":\"\",\"title\":{\"standoff\":15},\"zerolinecolor\":\"white\",\"zerolinewidth\":2},\"yaxis\":{\"automargin\":true,\"gridcolor\":\"white\",\"linecolor\":\"white\",\"ticks\":\"\",\"title\":{\"standoff\":15},\"zerolinecolor\":\"white\",\"zerolinewidth\":2}}},\"title\":{\"font\":{\"color\":\"#4D5663\"},\"text\":\"Token Polarity Distribution Of The Dairy Articles\"},\"xaxis\":{\"gridcolor\":\"#E1E5ED\",\"linecolor\":\"black\",\"showgrid\":true,\"tickfont\":{\"color\":\"#4D5663\"},\"title\":{\"font\":{\"color\":\"#4D5663\"},\"text\":\"Sentiment Score\"},\"zerolinecolor\":\"#E1E5ED\"},\"yaxis\":{\"gridcolor\":\"#E1E5ED\",\"linecolor\":\"black\",\"showgrid\":true,\"tickfont\":{\"color\":\"#4D5663\"},\"title\":{\"font\":{\"color\":\"#4D5663\"},\"text\":\"count\"},\"zerolinecolor\":\"#E1E5ED\"}},                        {\"showLink\": true, \"linkText\": \"Export to plot.ly\", \"plotlyServerURL\": \"https://plot.ly\", \"responsive\": true}                    ).then(function(){\n",
       "                            \n",
       "var gd = document.getElementById('fdc15724-27e8-4cc2-9dbd-b5d64bf7f3e0');\n",
       "var x = new MutationObserver(function (mutations, observer) {{\n",
       "        var display = window.getComputedStyle(gd).display;\n",
       "        if (!display || display === 'none') {{\n",
       "            console.log([gd, 'removed!']);\n",
       "            Plotly.purge(gd);\n",
       "            observer.disconnect();\n",
       "        }}\n",
       "}});\n",
       "\n",
       "// Listen for the removal of the full notebook cells\n",
       "var notebookContainer = gd.closest('#notebook-container');\n",
       "if (notebookContainer) {{\n",
       "    x.observe(notebookContainer, {childList: true});\n",
       "}}\n",
       "\n",
       "// Listen for the clearing of the current output cell\n",
       "var outputEl = gd.closest('.output');\n",
       "if (outputEl) {{\n",
       "    x.observe(outputEl, {childList: true});\n",
       "}}\n",
       "\n",
       "                        })                };                });            </script>        </div>"
      ]
     },
     "metadata": {},
     "output_type": "display_data"
    }
   ],
   "source": [
    "df['compound'][df['Trend'] == 'dairy'].iplot(\n",
    "    kind='hist',\n",
    "    bins=50,\n",
    "    xTitle='Sentiment Score',\n",
    "    linecolor='black',\n",
    "    yTitle='count',\n",
    "    title='Token Polarity Distribution Of The Dairy Articles')"
   ]
  },
  {
   "cell_type": "code",
   "execution_count": 16,
   "id": "3b5d58e9",
   "metadata": {
    "ExecuteTime": {
     "end_time": "2022-01-29T22:15:58.718993Z",
     "start_time": "2022-01-29T22:15:58.691006Z"
    }
   },
   "outputs": [
    {
     "name": "stdout",
     "output_type": "stream",
     "text": [
      "<class 'pandas.core.frame.DataFrame'>\n",
      "RangeIndex: 872 entries, 0 to 871\n",
      "Data columns (total 14 columns):\n",
      " #   Column           Non-Null Count  Dtype  \n",
      "---  ------           --------------  -----  \n",
      " 0   URL              872 non-null    object \n",
      " 1   Heading          872 non-null    object \n",
      " 2   Date             872 non-null    object \n",
      " 3   Trend            872 non-null    object \n",
      " 4   Text             872 non-null    object \n",
      " 5   HTML Content     872 non-null    object \n",
      " 6   clean_text       872 non-null    object \n",
      " 7   polarity_tokens  872 non-null    float64\n",
      " 8   review_len       872 non-null    int64  \n",
      " 9   word_count       872 non-null    int64  \n",
      " 10  compound         872 non-null    float64\n",
      " 11  neg              872 non-null    float64\n",
      " 12  neu              872 non-null    float64\n",
      " 13  pos              872 non-null    float64\n",
      "dtypes: float64(5), int64(2), object(7)\n",
      "memory usage: 95.5+ KB\n"
     ]
    }
   ],
   "source": [
    "df.info()"
   ]
  },
  {
   "cell_type": "code",
   "execution_count": 17,
   "id": "72460240",
   "metadata": {
    "ExecuteTime": {
     "end_time": "2022-01-29T22:15:58.765965Z",
     "start_time": "2022-01-29T22:15:58.723993Z"
    }
   },
   "outputs": [
    {
     "data": {
      "text/html": [
       "<div>\n",
       "<style scoped>\n",
       "    .dataframe tbody tr th:only-of-type {\n",
       "        vertical-align: middle;\n",
       "    }\n",
       "\n",
       "    .dataframe tbody tr th {\n",
       "        vertical-align: top;\n",
       "    }\n",
       "\n",
       "    .dataframe thead th {\n",
       "        text-align: right;\n",
       "    }\n",
       "</style>\n",
       "<table border=\"1\" class=\"dataframe\">\n",
       "  <thead>\n",
       "    <tr style=\"text-align: right;\">\n",
       "      <th></th>\n",
       "      <th>URL</th>\n",
       "      <th>Heading</th>\n",
       "      <th>Date</th>\n",
       "      <th>Trend</th>\n",
       "      <th>Text</th>\n",
       "      <th>HTML Content</th>\n",
       "      <th>clean_text</th>\n",
       "      <th>polarity_tokens</th>\n",
       "      <th>review_len</th>\n",
       "      <th>word_count</th>\n",
       "      <th>compound</th>\n",
       "      <th>neg</th>\n",
       "      <th>neu</th>\n",
       "      <th>pos</th>\n",
       "    </tr>\n",
       "  </thead>\n",
       "  <tbody>\n",
       "    <tr>\n",
       "      <th>0</th>\n",
       "      <td>https://www.ifa.ie/markets-and-prices/weekly-c...</td>\n",
       "      <td>Weekly Cattle Prices 26th January</td>\n",
       "      <td>26 January 2022</td>\n",
       "      <td>cattle</td>\n",
       "      <td>\\r\\nPrices reported as quoted or paid to IFA M...</td>\n",
       "      <td>&lt;div class=\"single-content\"&gt;\\r\\n&lt;p&gt;Prices repo...</td>\n",
       "      <td>price report quote pay ifa member strong deman...</td>\n",
       "      <td>-0.203214</td>\n",
       "      <td>329</td>\n",
       "      <td>52</td>\n",
       "      <td>0.8689</td>\n",
       "      <td>0.012</td>\n",
       "      <td>0.908</td>\n",
       "      <td>0.080</td>\n",
       "    </tr>\n",
       "    <tr>\n",
       "      <th>1</th>\n",
       "      <td>https://www.ifa.ie/regional/wexford-ifa-fertil...</td>\n",
       "      <td>Wexford IFA Fertiliser Seminar 24th January</td>\n",
       "      <td>25 January 2022</td>\n",
       "      <td>cattle</td>\n",
       "      <td>\\r\\nWexford IFA held an online public open mee...</td>\n",
       "      <td>&lt;div class=\"single-content\"&gt;\\r\\n&lt;p&gt;Wexford IFA...</td>\n",
       "      <td>wexford ifa hold online public open meeting cu...</td>\n",
       "      <td>0.000000</td>\n",
       "      <td>465</td>\n",
       "      <td>60</td>\n",
       "      <td>-0.6249</td>\n",
       "      <td>0.046</td>\n",
       "      <td>0.954</td>\n",
       "      <td>0.000</td>\n",
       "    </tr>\n",
       "    <tr>\n",
       "      <th>2</th>\n",
       "      <td>https://www.ifa.ie/markets-and-prices/beef-she...</td>\n",
       "      <td>Beef &amp; Sheep Update 21st January</td>\n",
       "      <td>22 January 2022</td>\n",
       "      <td>cattle</td>\n",
       "      <td>\\r\\nBeef Update\\r\\nIFA Livestock chairman Bren...</td>\n",
       "      <td>&lt;div class=\"single-content\"&gt;\\r\\n&lt;h2&gt;Beef Updat...</td>\n",
       "      <td>beef update ifa livestock chairman brendan gol...</td>\n",
       "      <td>0.031870</td>\n",
       "      <td>1615</td>\n",
       "      <td>242</td>\n",
       "      <td>0.9501</td>\n",
       "      <td>0.037</td>\n",
       "      <td>0.897</td>\n",
       "      <td>0.065</td>\n",
       "    </tr>\n",
       "    <tr>\n",
       "      <th>3</th>\n",
       "      <td>https://www.ifa.ie/campaigns/key-amendments-on...</td>\n",
       "      <td>Key Amendments on Animal Transport Carried, Bu...</td>\n",
       "      <td>20 January 2022</td>\n",
       "      <td>cattle</td>\n",
       "      <td>\\r\\nIFA President Tim Cullinan said the voting...</td>\n",
       "      <td>&lt;div class=\"single-content\"&gt;\\r\\n&lt;p&gt;IFA Preside...</td>\n",
       "      <td>ifa president tim cullinan say voting key amen...</td>\n",
       "      <td>0.044190</td>\n",
       "      <td>930</td>\n",
       "      <td>128</td>\n",
       "      <td>0.8193</td>\n",
       "      <td>0.048</td>\n",
       "      <td>0.862</td>\n",
       "      <td>0.090</td>\n",
       "    </tr>\n",
       "    <tr>\n",
       "      <th>4</th>\n",
       "      <td>https://www.ifa.ie/markets-and-prices/weekly-c...</td>\n",
       "      <td>Weekly Cattle Prices 19th January</td>\n",
       "      <td>19 January 2022</td>\n",
       "      <td>cattle</td>\n",
       "      <td>\\r\\nPrices reported as quoted or paid to IFA M...</td>\n",
       "      <td>&lt;div class=\"single-content\"&gt;\\r\\n&lt;p&gt;Prices repo...</td>\n",
       "      <td>price report quote pay ifa member strong deman...</td>\n",
       "      <td>-0.203214</td>\n",
       "      <td>318</td>\n",
       "      <td>50</td>\n",
       "      <td>0.8689</td>\n",
       "      <td>0.012</td>\n",
       "      <td>0.907</td>\n",
       "      <td>0.081</td>\n",
       "    </tr>\n",
       "  </tbody>\n",
       "</table>\n",
       "</div>"
      ],
      "text/plain": [
       "                                                 URL  \\\n",
       "0  https://www.ifa.ie/markets-and-prices/weekly-c...   \n",
       "1  https://www.ifa.ie/regional/wexford-ifa-fertil...   \n",
       "2  https://www.ifa.ie/markets-and-prices/beef-she...   \n",
       "3  https://www.ifa.ie/campaigns/key-amendments-on...   \n",
       "4  https://www.ifa.ie/markets-and-prices/weekly-c...   \n",
       "\n",
       "                                             Heading             Date   Trend  \\\n",
       "0                  Weekly Cattle Prices 26th January  26 January 2022  cattle   \n",
       "1        Wexford IFA Fertiliser Seminar 24th January  25 January 2022  cattle   \n",
       "2                   Beef & Sheep Update 21st January  22 January 2022  cattle   \n",
       "3  Key Amendments on Animal Transport Carried, Bu...  20 January 2022  cattle   \n",
       "4                  Weekly Cattle Prices 19th January  19 January 2022  cattle   \n",
       "\n",
       "                                                Text  \\\n",
       "0  \\r\\nPrices reported as quoted or paid to IFA M...   \n",
       "1  \\r\\nWexford IFA held an online public open mee...   \n",
       "2  \\r\\nBeef Update\\r\\nIFA Livestock chairman Bren...   \n",
       "3  \\r\\nIFA President Tim Cullinan said the voting...   \n",
       "4  \\r\\nPrices reported as quoted or paid to IFA M...   \n",
       "\n",
       "                                        HTML Content  \\\n",
       "0  <div class=\"single-content\">\\r\\n<p>Prices repo...   \n",
       "1  <div class=\"single-content\">\\r\\n<p>Wexford IFA...   \n",
       "2  <div class=\"single-content\">\\r\\n<h2>Beef Updat...   \n",
       "3  <div class=\"single-content\">\\r\\n<p>IFA Preside...   \n",
       "4  <div class=\"single-content\">\\r\\n<p>Prices repo...   \n",
       "\n",
       "                                          clean_text  polarity_tokens  \\\n",
       "0  price report quote pay ifa member strong deman...        -0.203214   \n",
       "1  wexford ifa hold online public open meeting cu...         0.000000   \n",
       "2  beef update ifa livestock chairman brendan gol...         0.031870   \n",
       "3  ifa president tim cullinan say voting key amen...         0.044190   \n",
       "4  price report quote pay ifa member strong deman...        -0.203214   \n",
       "\n",
       "   review_len  word_count  compound    neg    neu    pos  \n",
       "0         329          52    0.8689  0.012  0.908  0.080  \n",
       "1         465          60   -0.6249  0.046  0.954  0.000  \n",
       "2        1615         242    0.9501  0.037  0.897  0.065  \n",
       "3         930         128    0.8193  0.048  0.862  0.090  \n",
       "4         318          50    0.8689  0.012  0.907  0.081  "
      ]
     },
     "execution_count": 17,
     "metadata": {},
     "output_type": "execute_result"
    }
   ],
   "source": [
    "df.head(5)"
   ]
  },
  {
   "cell_type": "code",
   "execution_count": 18,
   "id": "18285326",
   "metadata": {
    "ExecuteTime": {
     "end_time": "2022-01-29T22:16:00.106197Z",
     "start_time": "2022-01-29T22:15:58.770960Z"
    }
   },
   "outputs": [
    {
     "data": {
      "text/plain": [
       "<AxesSubplot:>"
      ]
     },
     "execution_count": 18,
     "metadata": {},
     "output_type": "execute_result"
    },
    {
     "data": {
      "text/plain": [
       "<AxesSubplot:>"
      ]
     },
     "execution_count": 18,
     "metadata": {},
     "output_type": "execute_result"
    },
    {
     "data": {
      "text/plain": [
       "Text(0.5, 0, 'Cattle')"
      ]
     },
     "execution_count": 18,
     "metadata": {},
     "output_type": "execute_result"
    },
    {
     "data": {
      "text/plain": [
       "Text(0.5, 0, 'Dairy')"
      ]
     },
     "execution_count": 18,
     "metadata": {},
     "output_type": "execute_result"
    },
    {
     "data": {
      "image/png": "[encoded data removed]",
      "text/plain": [
       "<Figure size 864x288 with 2 Axes>"
      ]
     },
     "metadata": {
      "needs_background": "light"
     },
     "output_type": "display_data"
    }
   ],
   "source": [
    "fig, ax = plt.subplots(ncols=2, figsize=(12,4))\n",
    "df[df.Trend=='cattle']['compound'].hist(ax=ax[0], bins=50)\n",
    "df[df.Trend=='dairy']['compound'].hist(ax=ax[1], bins=50)\n",
    "ax[0].set_xlabel('Cattle')\n",
    "ax[1].set_xlabel('Dairy')\n",
    "plt.show()"
   ]
  },
  {
   "cell_type": "markdown",
   "id": "7faa12fd",
   "metadata": {},
   "source": [
    "Hypothesis:\n",
    "Null Hypothesis is that sentiment for the beef and the dairy was the same"
   ]
  },
  {
   "cell_type": "code",
   "execution_count": 19,
   "id": "fa5e4e94",
   "metadata": {
    "ExecuteTime": {
     "end_time": "2022-01-29T22:16:00.851770Z",
     "start_time": "2022-01-29T22:16:00.116192Z"
    },
    "scrolled": true
   },
   "outputs": [
    {
     "data": {
      "text/plain": [
       "<AxesSubplot:xlabel='Trend', ylabel='compound'>"
      ]
     },
     "execution_count": 19,
     "metadata": {},
     "output_type": "execute_result"
    },
    {
     "data": {
      "text/plain": [
       "<AxesSubplot:xlabel='Trend', ylabel='compound'>"
      ]
     },
     "execution_count": 19,
     "metadata": {},
     "output_type": "execute_result"
    },
    {
     "data": {
      "image/png": "[encoded data removed]",
      "text/plain": [
       "<Figure size 720x288 with 2 Axes>"
      ]
     },
     "metadata": {
      "needs_background": "light"
     },
     "output_type": "display_data"
    }
   ],
   "source": [
    "fig, ax = plt.subplots(ncols=2, figsize=(10,4))\n",
    "sns.violinplot(y='compound', x='Trend', data=df[df.Trend != ''], ax=ax[0])\n",
    "sns.boxplot(y='compound', x='Trend', data=df[df.Trend != ''], ax=ax[1])\n",
    "plt.tight_layout()\n",
    "plt.show()"
   ]
  },
  {
   "cell_type": "code",
   "execution_count": 20,
   "id": "d58c23a0",
   "metadata": {
    "ExecuteTime": {
     "end_time": "2022-01-29T22:16:00.883753Z",
     "start_time": "2022-01-29T22:16:00.854770Z"
    }
   },
   "outputs": [
    {
     "data": {
      "text/plain": [
       "0.49992936507936475"
      ]
     },
     "execution_count": 20,
     "metadata": {},
     "output_type": "execute_result"
    },
    {
     "data": {
      "text/plain": [
       "0.5972123966942151"
      ]
     },
     "execution_count": 20,
     "metadata": {},
     "output_type": "execute_result"
    }
   ],
   "source": [
    "np.mean(df[df.Trend == 'cattle']['compound'])\n",
    "np.mean(df[df.Trend == 'dairy']['compound'])"
   ]
  },
  {
   "cell_type": "code",
   "execution_count": 61,
   "id": "25655cfe",
   "metadata": {
    "ExecuteTime": {
     "end_time": "2022-01-28T18:51:10.652257Z",
     "start_time": "2022-01-28T18:51:10.612281Z"
    }
   },
   "outputs": [
    {
     "name": "stdout",
     "output_type": "stream",
     "text": [
      "StDev of beef sentiment 0.6208893387928167\n",
      "StDev of dairy sentiment 0.5937943328827562\n"
     ]
    }
   ],
   "source": [
    "print('StDev of beef sentiment',np.std(df[df.Trend == 'cattle']['compound']))\n",
    "print('StDev of dairy sentiment',np.std(df[df.Trend == 'dairy']['compound']))"
   ]
  },
  {
   "cell_type": "markdown",
   "id": "f32ebdb0",
   "metadata": {},
   "source": [
    "Running SciPy's t-test:"
   ]
  },
  {
   "cell_type": "code",
   "execution_count": null,
   "id": "25a477d6",
   "metadata": {},
   "outputs": [],
   "source": []
  },
  {
   "cell_type": "code",
   "execution_count": 62,
   "id": "2a0bdce6",
   "metadata": {
    "ExecuteTime": {
     "end_time": "2022-01-28T18:51:14.507874Z",
     "start_time": "2022-01-28T18:51:14.465898Z"
    }
   },
   "outputs": [
    {
     "data": {
      "text/plain": [
       "Ttest_indResult(statistic=-2.094357544561826, pvalue=0.03651693332379792)"
      ]
     },
     "execution_count": 62,
     "metadata": {},
     "output_type": "execute_result"
    }
   ],
   "source": [
    "stats.ttest_ind(df[df.Trend == 'cattle']['compound'],\n",
    "                df[df.Trend == 'dairy']['compound'], equal_var=True)"
   ]
  },
  {
   "cell_type": "markdown",
   "id": "b9a9060a",
   "metadata": {},
   "source": [
    "Alternatively could have run Statsmodel API's ztest:"
   ]
  },
  {
   "cell_type": "code",
   "execution_count": 39,
   "id": "5b0d82f4",
   "metadata": {
    "ExecuteTime": {
     "end_time": "2022-01-28T18:36:49.911828Z",
     "start_time": "2022-01-28T18:36:49.856859Z"
    }
   },
   "outputs": [
    {
     "data": {
      "text/plain": [
       "(array([-2.09435754, -2.09435754]), array([0.03622814, 0.03622814]))"
      ]
     },
     "execution_count": 39,
     "metadata": {},
     "output_type": "execute_result"
    }
   ],
   "source": [
    "sm.stats.ztest(df[df.Trend == 'cattle']['compound'],\n",
    "               df[df.Trend == 'dairy']['compound'])"
   ]
  },
  {
   "cell_type": "markdown",
   "id": "1b5ef77b",
   "metadata": {},
   "source": [
    "So p-value is 3.6%, which says that if null hypothesis is assumed to be true, then there is 3.62% chance of observing what we've just observed as the alternate hypothesis.If the null was true there is no chance that the alternative hypthesis is true.\n",
    "The 95% confidence interval can be constructed"
   ]
  },
  {
   "cell_type": "code",
   "execution_count": 40,
   "id": "1bb77ce1",
   "metadata": {
    "ExecuteTime": {
     "end_time": "2022-01-28T18:37:19.760000Z",
     "start_time": "2022-01-28T18:37:19.713028Z"
    }
   },
   "outputs": [],
   "source": [
    "p_bf = np.mean(df[df.Trend == 'cattle']['compound'])\n",
    "p_dr = np.mean(df[df.Trend == 'dairy']['compound'])\n",
    "\n",
    "num_bf = len(df[df.Trend == 'cattle'])\n",
    "num_dr = len(df[df.Trend == 'dairy'])"
   ]
  },
  {
   "cell_type": "markdown",
   "id": "9b4ad662",
   "metadata": {},
   "source": [
    "The s.e. for each population is sigma / sqrt(n)"
   ]
  },
  {
   "cell_type": "code",
   "execution_count": 41,
   "id": "79287224",
   "metadata": {
    "ExecuteTime": {
     "end_time": "2022-01-28T18:37:22.125282Z",
     "start_time": "2022-01-28T18:37:22.077345Z"
    }
   },
   "outputs": [],
   "source": [
    "se_bf = np.std(df[df.Trend == 'cattle']['compound']) / np.sqrt(num_bf)\n",
    "se_dr = np.std(df[df.Trend == 'dairy']['compound']) / np.sqrt(num_dr)"
   ]
  },
  {
   "cell_type": "markdown",
   "id": "a696eddf",
   "metadata": {},
   "source": [
    "Alternatively, statsmodels has a standard error function of the mean of a distribution:"
   ]
  },
  {
   "cell_type": "code",
   "execution_count": 42,
   "id": "1c93e985",
   "metadata": {
    "ExecuteTime": {
     "end_time": "2022-01-28T18:37:28.609412Z",
     "start_time": "2022-01-28T18:37:28.563413Z"
    }
   },
   "outputs": [
    {
     "name": "stdout",
     "output_type": "stream",
     "text": [
      "beef sentiment s.e. 0.017498520782293928\n",
      "dairy sentiment s.e. 0.02701857768061431\n"
     ]
    }
   ],
   "source": [
    "print('beef sentiment s.e.', stats.sem(df[df.Trend == 'cattle']['compound'], axis=None))\n",
    "print('dairy sentiment s.e.', stats.sem(df[df.Trend == 'dairy']['compound'], axis=None))"
   ]
  },
  {
   "cell_type": "code",
   "execution_count": 43,
   "id": "dbefcce9",
   "metadata": {
    "ExecuteTime": {
     "end_time": "2022-01-28T18:37:36.043831Z",
     "start_time": "2022-01-28T18:37:36.017833Z"
    }
   },
   "outputs": [],
   "source": [
    "se_diff = np.sqrt(se_bf**2 + se_dr**2) # Was se_br**2 + se_dr**2"
   ]
  },
  {
   "cell_type": "code",
   "execution_count": 44,
   "id": "92780110",
   "metadata": {
    "ExecuteTime": {
     "end_time": "2022-01-28T18:37:36.721802Z",
     "start_time": "2022-01-28T18:37:36.681825Z"
    }
   },
   "outputs": [
    {
     "data": {
      "text/plain": [
       "(compound   -0.186434\n",
       " compound   -0.186434\n",
       " dtype: float64,\n",
       " compound   -0.008132\n",
       " compound   -0.008132\n",
       " dtype: float64)"
      ]
     },
     "execution_count": 44,
     "metadata": {},
     "output_type": "execute_result"
    }
   ],
   "source": [
    "diff = p_bf - p_dr\n",
    "lcb = diff - (1.96 * se_diff)\n",
    "ucb = diff + (1.96 * se_diff)\n",
    "(lcb, ucb)"
   ]
  },
  {
   "cell_type": "markdown",
   "id": "623413dc",
   "metadata": {},
   "source": [
    "Visualise sentiment\n",
    "Can we visualise what type of sentiment ifi had for the beef vs the dairy? Let's look at the words that were being used to better understand how the ifi described each entity:"
   ]
  },
  {
   "cell_type": "code",
   "execution_count": 15,
   "id": "50360b49",
   "metadata": {
    "ExecuteTime": {
     "end_time": "2022-01-30T22:50:15.172461Z",
     "start_time": "2022-01-30T22:50:12.846738Z"
    }
   },
   "outputs": [
    {
     "data": {
      "image/png": "[encoded data removed]",
      "text/plain": [
       "<Figure size 720x720 with 2 Axes>"
      ]
     },
     "metadata": {
      "needs_background": "light"
     },
     "output_type": "display_data"
    }
   ],
   "source": [
    "beef_text = \" \".join(art for art in df.clean_text[df.Trend=='cattle']) # Changed to cattle\n",
    "dairy_text = \" \".join(art for art in df.clean_text[df.Trend=='dairy'])\n",
    "\n",
    "stopwords = set(STOPWORDS)\n",
    "stopwords.update(['http', 'https', 'www', 'amp', 'ly', 'bit','beef','steer','heifer',\n",
    "                  'farmer','ifa','member','livestock','chairman','irish',\n",
    "                  'cattle','say','brendan','golden','bull','young','angus','wood',\n",
    "                  'joe', 'healy','milk','dairy','tom','phelan','week','year','month','cow'])\n",
    "\n",
    "beef_wordcloud = WordCloud(stopwords=stopwords).generate(beef_text)\n",
    "dairy_wordcloud = WordCloud(stopwords=stopwords).generate(dairy_text)\n",
    "\n",
    "fig, ax = plt.subplots(nrows=2, figsize=(10,10))\n",
    "ax[0].imshow(beef_wordcloud)\n",
    "ax[0].set_title('beef')\n",
    "ax[0].axis('off')\n",
    "ax[1].imshow(dairy_wordcloud)\n",
    "ax[1].set_title('dairy')\n",
    "ax[1].axis('off')\n",
    "plt.tight_layout()\n",
    "plt.show;"
   ]
  },
  {
   "cell_type": "code",
   "execution_count": 21,
   "id": "ac31dae7",
   "metadata": {
    "ExecuteTime": {
     "end_time": "2022-01-30T22:51:38.689689Z",
     "start_time": "2022-01-30T22:51:38.210691Z"
    },
    "scrolled": false
   },
   "outputs": [
    {
     "name": "stderr",
     "output_type": "stream",
     "text": [
      "C:\\ProgramData\\Anaconda3\\lib\\site-packages\\seaborn\\distributions.py:2619: FutureWarning:\n",
      "\n",
      "`distplot` is a deprecated function and will be removed in a future version. Please adapt your code to use either `displot` (a figure-level function with similar flexibility) or `histplot` (an axes-level function for histograms).\n",
      "\n",
      "C:\\ProgramData\\Anaconda3\\lib\\site-packages\\seaborn\\distributions.py:2619: FutureWarning:\n",
      "\n",
      "`distplot` is a deprecated function and will be removed in a future version. Please adapt your code to use either `displot` (a figure-level function with similar flexibility) or `histplot` (an axes-level function for histograms).\n",
      "\n"
     ]
    },
    {
     "data": {
      "image/png": "[encoded data removed]",
      "text/plain": [
       "<Figure size 720x432 with 1 Axes>"
      ]
     },
     "metadata": {
      "needs_background": "light"
     },
     "output_type": "display_data"
    }
   ],
   "source": [
    "sns.distplot(df[df.Trend == 'cattle']['compound'], label='cattle')\n",
    "sns.distplot(df[df.Trend == 'dairy']['compound'], label='dairy')\n",
    "plt.legend()\n",
    "plt.show();"
   ]
  },
  {
   "cell_type": "code",
   "execution_count": null,
   "id": "63e6b498",
   "metadata": {},
   "outputs": [],
   "source": []
  }
 ],
 "metadata": {
  "kernelspec": {
   "display_name": "Python 3 (ipykernel)",
   "language": "python",
   "name": "python3"
  },
  "language_info": {
   "codemirror_mode": {
    "name": "ipython",
    "version": 3
   },
   "file_extension": ".py",
   "mimetype": "text/x-python",
   "name": "python",
   "nbconvert_exporter": "python",
   "pygments_lexer": "ipython3",
   "version": "3.8.12"
  },
  "toc": {
   "base_numbering": 1,
   "nav_menu": {},
   "number_sections": false,
   "sideBar": true,
   "skip_h1_title": false,
   "title_cell": "Table of Contents",
   "title_sidebar": "Contents",
   "toc_cell": false,
   "toc_position": {
    "height": "calc(100% - 180px)",
    "left": "10px",
    "top": "150px",
    "width": "384px"
   },
   "toc_section_display": true,
   "toc_window_display": true
  }
 },
 "nbformat": 4,
 "nbformat_minor": 5
}
