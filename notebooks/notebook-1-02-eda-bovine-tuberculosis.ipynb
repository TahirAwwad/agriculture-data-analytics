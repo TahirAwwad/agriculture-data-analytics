{
 "cells": [
  {
   "cell_type": "markdown",
   "id": "f10f1dea",
   "metadata": {},
   "source": [
    "<style>\n",
    "*\n",
    "{\n",
    "\ttext-align: justify;\n",
    "\tline-height: 1.5;\n",
    "\tfont-family: \"Arial\", sans-serif;\n",
    "\tfont-size: 12px;\n",
    "}\n",
    "\n",
    "h2, h3, h4, h5, h6\n",
    "{\n",
    "\tfont-family: \"Arial\", sans-serif;\n",
    "\tfont-size: 12px;\n",
    "\tfont-weight: bold;\n",
    "}\n",
    "h2\n",
    "{\n",
    "\tfont-size: 14px;\n",
    "}\n",
    "h1\n",
    "{\n",
    "\tfont-family: \"Wingdings\", sans-serif;\n",
    "\tfont-size: 16px;\n",
    "}\n",
    "</style>"
   ]
  },
  {
   "cell_type": "markdown",
   "id": "bc595d50",
   "metadata": {},
   "source": [
    "## EDA of Bovine Tuberculosis"
   ]
  },
  {
   "cell_type": "markdown",
   "id": "7a5bb8dc",
   "metadata": {},
   "source": [
    "<!--\n",
    "import data_analytics.github as github\n",
    "print(github.create_jupyter_notebook_header(\"markcrowe-com\", \"agriculture-data-analytics\", \"notebooks/notebook-1-01-eda-irish-beef-exports.ipynb\", \"master\"))\n",
    "-->\n",
    "<table style=\"margin: auto;\"><tr><td><a href=\"https://mybinder.org/v2/gh/markcrowe-com/agriculture-data-analytics/master?filepath=notebooks/notebook-1-01-eda-irish-beef-exports.ipynb\" target=\"_parent\"><img src=\"https://mybinder.org/badge_logo.svg\" alt=\"Open In Binder\"/></a></td><td>online editors</td><td><a href=\"https://colab.research.google.com/github/markcrowe-com/agriculture-data-analytics/blob/master/notebooks/notebook-1-01-eda-irish-beef-exports.ipynb\" target=\"_parent\"><img src=\"https://colab.research.google.com/assets/colab-badge.svg\" alt=\"Open In Colab\"/></a></td></tr></table>"
   ]
  },
  {
   "cell_type": "markdown",
   "id": "036f5aad",
   "metadata": {},
   "source": [
    "### Objective"
   ]
  },
  {
   "cell_type": "markdown",
   "id": "9cd4be9b",
   "metadata": {},
   "source": [
    "The objective is to provide an Exploratory Data Analysis (EDA) of the `cso-daa01-bovine-tuberculosis-2022-01-Jan-15.csv` file provided by the <a href=\"https://data.cso.ie/table/DAA01\" target=\"_new\">CSO: DAA01 Table</a>. The EDA is performed to investigate and clean the data, to spot anomalies.  "
   ]
  },
  {
   "cell_type": "markdown",
   "id": "ff1ab85e",
   "metadata": {},
   "source": [
    "### Setup"
   ]
  },
  {
   "cell_type": "markdown",
   "id": "1caa871c",
   "metadata": {},
   "source": [
    "Import required third party Python libraries, import supporting functions and sets up data source file paths."
   ]
  },
  {
   "cell_type": "code",
   "execution_count": 1,
   "id": "9e3fdeee",
   "metadata": {},
   "outputs": [],
   "source": [
    "# Local\n",
    "#!pip install -r script/requirements.txt --quiet --user\n",
    "# Remote option\n",
    "#!pip install -r \"https://github.com/markcrowe-com/data-analytics-project-template/blob/master/notebooks/script/requirements.txt?raw=true\" --quiet --user"
   ]
  },
  {
   "cell_type": "code",
   "execution_count": 2,
   "id": "56370af1",
   "metadata": {},
   "outputs": [],
   "source": [
    "from agriculture_data_analytics.project_manager import *\n",
    "from agriculture_data_analytics.dataframe_labels import *\n",
    "from pandas import DataFrame\n",
    "import data_analytics.exploratory_data_analysis_reports as eda_reports\n",
    "import data_analytics.github as github\n",
    "import os\n",
    "import pandas"
   ]
  },
  {
   "cell_type": "code",
   "execution_count": 3,
   "id": "4d846147",
   "metadata": {},
   "outputs": [
    {
     "data": {
      "text/html": [
       "<strong>Data Sources</strong>"
      ],
      "text/plain": [
       "<IPython.core.display.HTML object>"
      ]
     },
     "metadata": {},
     "output_type": "display_data"
    },
    {
     "data": {
      "text/html": [
       "<p>Data Sources available at</p>"
      ],
      "text/plain": [
       "<IPython.core.display.HTML object>"
      ]
     },
     "metadata": {},
     "output_type": "display_data"
    },
    {
     "name": "stdout",
     "output_type": "stream",
     "text": [
      "https://github.com/markcrowe-com/agriculture-data-analytics/assets/cso-daa01-bovine-tuberculosis-2022-01-Jan-15.csv?raw=true\n"
     ]
    }
   ],
   "source": [
    "artifact_manager: ProjectArtifactManager = ProjectArtifactManager()\n",
    "asset_manager: ProjectAssetManager = ProjectAssetManager()\n",
    "artifact_manager.is_remote = asset_manager.is_remote = True\n",
    "github.display_jupyter_notebook_data_sources(\n",
    "    [asset_manager.get_bovine_tuberculosis_filepath()])\n",
    "artifact_manager.is_remote = asset_manager.is_remote = False"
   ]
  },
  {
   "cell_type": "markdown",
   "id": "59e82839",
   "metadata": {},
   "source": [
    "### Working with population estimates CSV file"
   ]
  },
  {
   "cell_type": "markdown",
   "id": "123516fd",
   "metadata": {},
   "source": [
    "#### Create Data Frames"
   ]
  },
  {
   "cell_type": "code",
   "execution_count": 4,
   "id": "c2385c72",
   "metadata": {},
   "outputs": [],
   "source": [
    "filepath: str = asset_manager.get_bovine_tuberculosis_filepath()\n",
    "bovine_tuberculosis_dataframe: DataFrame = pandas.read_csv(filepath)"
   ]
  },
  {
   "cell_type": "markdown",
   "id": "110223b5",
   "metadata": {},
   "source": [
    "#### Renaming Columns"
   ]
  },
  {
   "cell_type": "code",
   "execution_count": 5,
   "id": "a3211836",
   "metadata": {},
   "outputs": [
    {
     "data": {
      "text/html": [
       "<div>\n",
       "<style scoped>\n",
       "    .dataframe tbody tr th:only-of-type {\n",
       "        vertical-align: middle;\n",
       "    }\n",
       "\n",
       "    .dataframe tbody tr th {\n",
       "        vertical-align: top;\n",
       "    }\n",
       "\n",
       "    .dataframe thead th {\n",
       "        text-align: right;\n",
       "    }\n",
       "</style>\n",
       "<table border=\"1\" class=\"dataframe\">\n",
       "  <thead>\n",
       "    <tr style=\"text-align: right;\">\n",
       "      <th></th>\n",
       "      <th>Statistic</th>\n",
       "      <th>Year</th>\n",
       "      <th>Veterinary Office</th>\n",
       "      <th>Unit</th>\n",
       "      <th>Value</th>\n",
       "    </tr>\n",
       "  </thead>\n",
       "  <tbody>\n",
       "  </tbody>\n",
       "</table>\n",
       "</div>"
      ],
      "text/plain": [
       "Empty DataFrame\n",
       "Columns: [Statistic, Year, Veterinary Office, Unit, Value]\n",
       "Index: []"
      ]
     },
     "execution_count": 5,
     "metadata": {},
     "output_type": "execute_result"
    }
   ],
   "source": [
    "old_to_new_column_names_dictionary = {\n",
    "    \"Regional Veterinary Offices\": VETERINARY_OFFICE,\n",
    "    \"Herds in County\": HERDS_COUNT,\n",
    "    \"Animals in County\": ANIMAL_COUNT,\n",
    "    \"Herds Restricted since 1st of January\": RESTRICTED_HERDS_AT_START_OF_YEAR,\n",
    "    \"Herds Restricted by 31st of December\": RESTRICTED_HERDS_AT_END_OF_YEAR,\n",
    "    \"Herds Tested\": HERDS_TESTED,\n",
    "    \"Herd Incidence\": HERD_INCIDENCE_RATE,\n",
    "    \"Tests on Animals\": TESTS_ON_ANIMALS,\n",
    "    \"Reactors per 1000 Tests A.P.T.\": REACTORS_PER_1000_TESTS_APT,\n",
    "    \"Reactors to date\": REACTORS_TO_DATE,\n",
    "    UNIT.upper(): UNIT,\n",
    "    VALUE.upper(): VALUE,\n",
    "}\n",
    "bovine_tuberculosis_dataframe = bovine_tuberculosis_dataframe.rename(\n",
    "    columns=old_to_new_column_names_dictionary)\n",
    "bovine_tuberculosis_dataframe.head(0)"
   ]
  },
  {
   "cell_type": "markdown",
   "id": "a045d14d",
   "metadata": {},
   "source": [
    "### Data Type Analysis Quick View"
   ]
  },
  {
   "cell_type": "markdown",
   "id": "e1c59e56",
   "metadata": {},
   "source": [
    "Print an analysis report of each dataset.  \n",
    "- Show the top five rows of the data frame as a quick sample.\n",
    "- Show the data types of each column.\n",
    "- Report the count of any duplicate rows.\n",
    "- Report the counts of any missing values."
   ]
  },
  {
   "cell_type": "code",
   "execution_count": 6,
   "id": "aae771a0",
   "metadata": {},
   "outputs": [
    {
     "data": {
      "text/html": [
       "<h4>cso-daa01-bovine-tuberculosis-2022-01-Jan-15.csv</h4>"
      ],
      "text/plain": [
       "<IPython.core.display.HTML object>"
      ]
     },
     "metadata": {},
     "output_type": "display_data"
    },
    {
     "data": {
      "text/html": [
       "<p>Row, Column Count: (2970, 5)</p>"
      ],
      "text/plain": [
       "<IPython.core.display.HTML object>"
      ]
     },
     "metadata": {},
     "output_type": "display_data"
    },
    {
     "data": {
      "text/html": [
       "<h5>Sample: Top five rows</h5>"
      ],
      "text/plain": [
       "<IPython.core.display.HTML object>"
      ]
     },
     "metadata": {},
     "output_type": "display_data"
    },
    {
     "data": {
      "text/html": [
       "<div>\n",
       "<style scoped>\n",
       "    .dataframe tbody tr th:only-of-type {\n",
       "        vertical-align: middle;\n",
       "    }\n",
       "\n",
       "    .dataframe tbody tr th {\n",
       "        vertical-align: top;\n",
       "    }\n",
       "\n",
       "    .dataframe thead th {\n",
       "        text-align: right;\n",
       "    }\n",
       "</style>\n",
       "<table border=\"1\" class=\"dataframe\">\n",
       "  <thead>\n",
       "    <tr style=\"text-align: right;\">\n",
       "      <th></th>\n",
       "      <th>Statistic</th>\n",
       "      <th>Year</th>\n",
       "      <th>Veterinary Office</th>\n",
       "      <th>Unit</th>\n",
       "      <th>Value</th>\n",
       "    </tr>\n",
       "  </thead>\n",
       "  <tbody>\n",
       "    <tr>\n",
       "      <th>0</th>\n",
       "      <td>Herds in County</td>\n",
       "      <td>2010</td>\n",
       "      <td>State</td>\n",
       "      <td>Number</td>\n",
       "      <td>116815.0</td>\n",
       "    </tr>\n",
       "    <tr>\n",
       "      <th>1</th>\n",
       "      <td>Herds in County</td>\n",
       "      <td>2010</td>\n",
       "      <td>Carlow</td>\n",
       "      <td>Number</td>\n",
       "      <td>1353.0</td>\n",
       "    </tr>\n",
       "    <tr>\n",
       "      <th>2</th>\n",
       "      <td>Herds in County</td>\n",
       "      <td>2010</td>\n",
       "      <td>Cavan</td>\n",
       "      <td>Number</td>\n",
       "      <td>4915.0</td>\n",
       "    </tr>\n",
       "    <tr>\n",
       "      <th>3</th>\n",
       "      <td>Herds in County</td>\n",
       "      <td>2010</td>\n",
       "      <td>Clare</td>\n",
       "      <td>Number</td>\n",
       "      <td>6282.0</td>\n",
       "    </tr>\n",
       "    <tr>\n",
       "      <th>4</th>\n",
       "      <td>Herds in County</td>\n",
       "      <td>2010</td>\n",
       "      <td>Cork North</td>\n",
       "      <td>Number</td>\n",
       "      <td>5986.0</td>\n",
       "    </tr>\n",
       "  </tbody>\n",
       "</table>\n",
       "</div>"
      ],
      "text/plain": [
       "         Statistic  Year Veterinary Office    Unit     Value\n",
       "0  Herds in County  2010             State  Number  116815.0\n",
       "1  Herds in County  2010            Carlow  Number    1353.0\n",
       "2  Herds in County  2010             Cavan  Number    4915.0\n",
       "3  Herds in County  2010             Clare  Number    6282.0\n",
       "4  Herds in County  2010        Cork North  Number    5986.0"
      ]
     },
     "metadata": {},
     "output_type": "display_data"
    },
    {
     "data": {
      "text/html": [
       "<h5>Data Types</h5>"
      ],
      "text/plain": [
       "<IPython.core.display.HTML object>"
      ]
     },
     "metadata": {},
     "output_type": "display_data"
    },
    {
     "data": {
      "text/plain": [
       "Statistic             object\n",
       "Year                   int64\n",
       "Veterinary Office     object\n",
       "Unit                  object\n",
       "Value                float64\n",
       "dtype: object"
      ]
     },
     "metadata": {},
     "output_type": "display_data"
    },
    {
     "data": {
      "text/html": [
       "<h5>Duplicates</h5>"
      ],
      "text/plain": [
       "<IPython.core.display.HTML object>"
      ]
     },
     "metadata": {},
     "output_type": "display_data"
    },
    {
     "data": {
      "text/html": [
       "<p>Number of duplicate rows: 0</p>"
      ],
      "text/plain": [
       "<IPython.core.display.HTML object>"
      ]
     },
     "metadata": {},
     "output_type": "display_data"
    },
    {
     "data": {
      "text/html": [
       "<h5>Null Values</h5>"
      ],
      "text/plain": [
       "<IPython.core.display.HTML object>"
      ]
     },
     "metadata": {},
     "output_type": "display_data"
    },
    {
     "name": "stdout",
     "output_type": "stream",
     "text": [
      "Statistic            0\n",
      "Year                 0\n",
      "Veterinary Office    0\n",
      "Unit                 0\n",
      "Value                0\n",
      "dtype: int64\n"
     ]
    },
    {
     "data": {
      "text/html": [
       "<h5>Single Value Columns</h5>"
      ],
      "text/plain": [
       "<IPython.core.display.HTML object>"
      ]
     },
     "metadata": {},
     "output_type": "display_data"
    },
    {
     "data": {
      "text/html": [
       "<p>No single value columns found.</p>"
      ],
      "text/plain": [
       "<IPython.core.display.HTML object>"
      ]
     },
     "metadata": {},
     "output_type": "display_data"
    },
    {
     "data": {
      "text/html": [
       "<h5>Columns: Unique value counts</h5>"
      ],
      "text/plain": [
       "<IPython.core.display.HTML object>"
      ]
     },
     "metadata": {},
     "output_type": "display_data"
    },
    {
     "data": {
      "text/html": [
       "<ul><li>The column \"Statistic\" has 9 unique values.</li><li>The column \"Year\" has 11 unique values.</li><li>The column \"Veterinary Office\" has 30 unique values.</li><li>The column \"Unit\" has 2 unique values.</li><li>The column \"Value\" has 2139 unique values.</li></ul>"
      ],
      "text/plain": [
       "<IPython.core.display.HTML object>"
      ]
     },
     "metadata": {},
     "output_type": "display_data"
    },
    {
     "data": {
      "text/html": [
       "<h5>Outlier Analysis</h5>"
      ],
      "text/plain": [
       "<IPython.core.display.HTML object>"
      ]
     },
     "metadata": {},
     "output_type": "display_data"
    },
    {
     "data": {
      "text/html": [
       "<ul><li>The column \"Value\" has 689 outliers. Recommend removing outliers.</li></ul>"
      ],
      "text/plain": [
       "<IPython.core.display.HTML object>"
      ]
     },
     "metadata": {},
     "output_type": "display_data"
    }
   ],
   "source": [
    "filename: str = os.path.basename(filepath)\n",
    "eda_reports.print_dataframe_analysis_report(bovine_tuberculosis_dataframe, filename)"
   ]
  },
  {
   "cell_type": "markdown",
   "id": "5646f3a6",
   "metadata": {},
   "source": [
    "### Normalizing the table"
   ]
  },
  {
   "cell_type": "code",
   "execution_count": 7,
   "id": "6f3ec0e2",
   "metadata": {},
   "outputs": [],
   "source": [
    "bovine_tuberculosis_dataframe = bovine_tuberculosis_dataframe.set_index(\n",
    "    [YEAR, VETERINARY_OFFICE, STATISTIC])[VALUE].unstack().reset_index()\n",
    "bovine_tuberculosis_dataframe.columns = bovine_tuberculosis_dataframe.columns.tolist()\n",
    "bovine_tuberculosis_dataframe = bovine_tuberculosis_dataframe.rename(\n",
    "    columns=old_to_new_column_names_dictionary)"
   ]
  },
  {
   "cell_type": "code",
   "execution_count": 8,
   "id": "b24f3ea5",
   "metadata": {},
   "outputs": [
    {
     "data": {
      "text/html": [
       "<div>\n",
       "<style scoped>\n",
       "    .dataframe tbody tr th:only-of-type {\n",
       "        vertical-align: middle;\n",
       "    }\n",
       "\n",
       "    .dataframe tbody tr th {\n",
       "        vertical-align: top;\n",
       "    }\n",
       "\n",
       "    .dataframe thead th {\n",
       "        text-align: right;\n",
       "    }\n",
       "</style>\n",
       "<table border=\"1\" class=\"dataframe\">\n",
       "  <thead>\n",
       "    <tr style=\"text-align: right;\">\n",
       "      <th></th>\n",
       "      <th>Year</th>\n",
       "      <th>Veterinary Office</th>\n",
       "      <th>Animal Count</th>\n",
       "      <th>Herd Incidence Rate</th>\n",
       "      <th>Restricted Herds at end of Year</th>\n",
       "      <th>Restricted Herds at start of Year</th>\n",
       "      <th>Herds Tested</th>\n",
       "      <th>Herds Count</th>\n",
       "      <th>Reactors per 1000 Tests A.P.T.</th>\n",
       "      <th>Reactors to date</th>\n",
       "      <th>Tests on Animals</th>\n",
       "    </tr>\n",
       "  </thead>\n",
       "  <tbody>\n",
       "    <tr>\n",
       "      <th>0</th>\n",
       "      <td>2010</td>\n",
       "      <td>Carlow</td>\n",
       "      <td>86258.0</td>\n",
       "      <td>4.02</td>\n",
       "      <td>28.0</td>\n",
       "      <td>52.0</td>\n",
       "      <td>1295.0</td>\n",
       "      <td>1353.0</td>\n",
       "      <td>1.14</td>\n",
       "      <td>124.0</td>\n",
       "      <td>108584.0</td>\n",
       "    </tr>\n",
       "    <tr>\n",
       "      <th>1</th>\n",
       "      <td>2010</td>\n",
       "      <td>Cavan</td>\n",
       "      <td>202119.0</td>\n",
       "      <td>5.32</td>\n",
       "      <td>124.0</td>\n",
       "      <td>257.0</td>\n",
       "      <td>4832.0</td>\n",
       "      <td>4915.0</td>\n",
       "      <td>3.13</td>\n",
       "      <td>981.0</td>\n",
       "      <td>313822.0</td>\n",
       "    </tr>\n",
       "    <tr>\n",
       "      <th>2</th>\n",
       "      <td>2010</td>\n",
       "      <td>Clare</td>\n",
       "      <td>237260.0</td>\n",
       "      <td>5.71</td>\n",
       "      <td>175.0</td>\n",
       "      <td>350.0</td>\n",
       "      <td>6134.0</td>\n",
       "      <td>6282.0</td>\n",
       "      <td>5.05</td>\n",
       "      <td>1947.0</td>\n",
       "      <td>385705.0</td>\n",
       "    </tr>\n",
       "    <tr>\n",
       "      <th>3</th>\n",
       "      <td>2010</td>\n",
       "      <td>Cork North</td>\n",
       "      <td>462707.0</td>\n",
       "      <td>4.43</td>\n",
       "      <td>119.0</td>\n",
       "      <td>259.0</td>\n",
       "      <td>5849.0</td>\n",
       "      <td>5986.0</td>\n",
       "      <td>1.62</td>\n",
       "      <td>1078.0</td>\n",
       "      <td>664648.0</td>\n",
       "    </tr>\n",
       "    <tr>\n",
       "      <th>4</th>\n",
       "      <td>2010</td>\n",
       "      <td>Cork South</td>\n",
       "      <td>417478.0</td>\n",
       "      <td>6.30</td>\n",
       "      <td>216.0</td>\n",
       "      <td>385.0</td>\n",
       "      <td>6107.0</td>\n",
       "      <td>6310.0</td>\n",
       "      <td>2.72</td>\n",
       "      <td>1592.0</td>\n",
       "      <td>586105.0</td>\n",
       "    </tr>\n",
       "  </tbody>\n",
       "</table>\n",
       "</div>"
      ],
      "text/plain": [
       "   Year Veterinary Office  Animal Count  Herd Incidence Rate  \\\n",
       "0  2010            Carlow       86258.0                 4.02   \n",
       "1  2010             Cavan      202119.0                 5.32   \n",
       "2  2010             Clare      237260.0                 5.71   \n",
       "3  2010        Cork North      462707.0                 4.43   \n",
       "4  2010        Cork South      417478.0                 6.30   \n",
       "\n",
       "   Restricted Herds at end of Year  Restricted Herds at start of Year  \\\n",
       "0                             28.0                               52.0   \n",
       "1                            124.0                              257.0   \n",
       "2                            175.0                              350.0   \n",
       "3                            119.0                              259.0   \n",
       "4                            216.0                              385.0   \n",
       "\n",
       "   Herds Tested  Herds Count  Reactors per 1000 Tests A.P.T.  \\\n",
       "0        1295.0       1353.0                            1.14   \n",
       "1        4832.0       4915.0                            3.13   \n",
       "2        6134.0       6282.0                            5.05   \n",
       "3        5849.0       5986.0                            1.62   \n",
       "4        6107.0       6310.0                            2.72   \n",
       "\n",
       "   Reactors to date  Tests on Animals  \n",
       "0             124.0          108584.0  \n",
       "1             981.0          313822.0  \n",
       "2            1947.0          385705.0  \n",
       "3            1078.0          664648.0  \n",
       "4            1592.0          586105.0  "
      ]
     },
     "execution_count": 8,
     "metadata": {},
     "output_type": "execute_result"
    }
   ],
   "source": [
    "bovine_tuberculosis_dataframe.head()"
   ]
  },
  {
   "cell_type": "markdown",
   "id": "46b999db",
   "metadata": {},
   "source": [
    "### Data Type Analysis Quick View"
   ]
  },
  {
   "cell_type": "code",
   "execution_count": 9,
   "id": "1e9b8b91",
   "metadata": {},
   "outputs": [
    {
     "data": {
      "text/html": [
       "<h4>cso-daa01-bovine-tuberculosis-2022-01-Jan-15.csv</h4>"
      ],
      "text/plain": [
       "<IPython.core.display.HTML object>"
      ]
     },
     "metadata": {},
     "output_type": "display_data"
    },
    {
     "data": {
      "text/html": [
       "<p>Row, Column Count: (330, 11)</p>"
      ],
      "text/plain": [
       "<IPython.core.display.HTML object>"
      ]
     },
     "metadata": {},
     "output_type": "display_data"
    },
    {
     "data": {
      "text/html": [
       "<h5>Sample: Top five rows</h5>"
      ],
      "text/plain": [
       "<IPython.core.display.HTML object>"
      ]
     },
     "metadata": {},
     "output_type": "display_data"
    },
    {
     "data": {
      "text/html": [
       "<div>\n",
       "<style scoped>\n",
       "    .dataframe tbody tr th:only-of-type {\n",
       "        vertical-align: middle;\n",
       "    }\n",
       "\n",
       "    .dataframe tbody tr th {\n",
       "        vertical-align: top;\n",
       "    }\n",
       "\n",
       "    .dataframe thead th {\n",
       "        text-align: right;\n",
       "    }\n",
       "</style>\n",
       "<table border=\"1\" class=\"dataframe\">\n",
       "  <thead>\n",
       "    <tr style=\"text-align: right;\">\n",
       "      <th></th>\n",
       "      <th>Year</th>\n",
       "      <th>Veterinary Office</th>\n",
       "      <th>Animal Count</th>\n",
       "      <th>Herd Incidence Rate</th>\n",
       "      <th>Restricted Herds at end of Year</th>\n",
       "      <th>Restricted Herds at start of Year</th>\n",
       "      <th>Herds Tested</th>\n",
       "      <th>Herds Count</th>\n",
       "      <th>Reactors per 1000 Tests A.P.T.</th>\n",
       "      <th>Reactors to date</th>\n",
       "      <th>Tests on Animals</th>\n",
       "    </tr>\n",
       "  </thead>\n",
       "  <tbody>\n",
       "    <tr>\n",
       "      <th>0</th>\n",
       "      <td>2010</td>\n",
       "      <td>Carlow</td>\n",
       "      <td>86258.0</td>\n",
       "      <td>4.02</td>\n",
       "      <td>28.0</td>\n",
       "      <td>52.0</td>\n",
       "      <td>1295.0</td>\n",
       "      <td>1353.0</td>\n",
       "      <td>1.14</td>\n",
       "      <td>124.0</td>\n",
       "      <td>108584.0</td>\n",
       "    </tr>\n",
       "    <tr>\n",
       "      <th>1</th>\n",
       "      <td>2010</td>\n",
       "      <td>Cavan</td>\n",
       "      <td>202119.0</td>\n",
       "      <td>5.32</td>\n",
       "      <td>124.0</td>\n",
       "      <td>257.0</td>\n",
       "      <td>4832.0</td>\n",
       "      <td>4915.0</td>\n",
       "      <td>3.13</td>\n",
       "      <td>981.0</td>\n",
       "      <td>313822.0</td>\n",
       "    </tr>\n",
       "    <tr>\n",
       "      <th>2</th>\n",
       "      <td>2010</td>\n",
       "      <td>Clare</td>\n",
       "      <td>237260.0</td>\n",
       "      <td>5.71</td>\n",
       "      <td>175.0</td>\n",
       "      <td>350.0</td>\n",
       "      <td>6134.0</td>\n",
       "      <td>6282.0</td>\n",
       "      <td>5.05</td>\n",
       "      <td>1947.0</td>\n",
       "      <td>385705.0</td>\n",
       "    </tr>\n",
       "    <tr>\n",
       "      <th>3</th>\n",
       "      <td>2010</td>\n",
       "      <td>Cork North</td>\n",
       "      <td>462707.0</td>\n",
       "      <td>4.43</td>\n",
       "      <td>119.0</td>\n",
       "      <td>259.0</td>\n",
       "      <td>5849.0</td>\n",
       "      <td>5986.0</td>\n",
       "      <td>1.62</td>\n",
       "      <td>1078.0</td>\n",
       "      <td>664648.0</td>\n",
       "    </tr>\n",
       "    <tr>\n",
       "      <th>4</th>\n",
       "      <td>2010</td>\n",
       "      <td>Cork South</td>\n",
       "      <td>417478.0</td>\n",
       "      <td>6.30</td>\n",
       "      <td>216.0</td>\n",
       "      <td>385.0</td>\n",
       "      <td>6107.0</td>\n",
       "      <td>6310.0</td>\n",
       "      <td>2.72</td>\n",
       "      <td>1592.0</td>\n",
       "      <td>586105.0</td>\n",
       "    </tr>\n",
       "  </tbody>\n",
       "</table>\n",
       "</div>"
      ],
      "text/plain": [
       "   Year Veterinary Office  Animal Count  Herd Incidence Rate  \\\n",
       "0  2010            Carlow       86258.0                 4.02   \n",
       "1  2010             Cavan      202119.0                 5.32   \n",
       "2  2010             Clare      237260.0                 5.71   \n",
       "3  2010        Cork North      462707.0                 4.43   \n",
       "4  2010        Cork South      417478.0                 6.30   \n",
       "\n",
       "   Restricted Herds at end of Year  Restricted Herds at start of Year  \\\n",
       "0                             28.0                               52.0   \n",
       "1                            124.0                              257.0   \n",
       "2                            175.0                              350.0   \n",
       "3                            119.0                              259.0   \n",
       "4                            216.0                              385.0   \n",
       "\n",
       "   Herds Tested  Herds Count  Reactors per 1000 Tests A.P.T.  \\\n",
       "0        1295.0       1353.0                            1.14   \n",
       "1        4832.0       4915.0                            3.13   \n",
       "2        6134.0       6282.0                            5.05   \n",
       "3        5849.0       5986.0                            1.62   \n",
       "4        6107.0       6310.0                            2.72   \n",
       "\n",
       "   Reactors to date  Tests on Animals  \n",
       "0             124.0          108584.0  \n",
       "1             981.0          313822.0  \n",
       "2            1947.0          385705.0  \n",
       "3            1078.0          664648.0  \n",
       "4            1592.0          586105.0  "
      ]
     },
     "metadata": {},
     "output_type": "display_data"
    },
    {
     "data": {
      "text/html": [
       "<h5>Data Types</h5>"
      ],
      "text/plain": [
       "<IPython.core.display.HTML object>"
      ]
     },
     "metadata": {},
     "output_type": "display_data"
    },
    {
     "data": {
      "text/plain": [
       "Year                                   int64\n",
       "Veterinary Office                     object\n",
       "Animal Count                         float64\n",
       "Herd Incidence Rate                  float64\n",
       "Restricted Herds at end of Year      float64\n",
       "Restricted Herds at start of Year    float64\n",
       "Herds Tested                         float64\n",
       "Herds Count                          float64\n",
       "Reactors per 1000 Tests A.P.T.       float64\n",
       "Reactors to date                     float64\n",
       "Tests on Animals                     float64\n",
       "dtype: object"
      ]
     },
     "metadata": {},
     "output_type": "display_data"
    },
    {
     "data": {
      "text/html": [
       "<h5>Duplicates</h5>"
      ],
      "text/plain": [
       "<IPython.core.display.HTML object>"
      ]
     },
     "metadata": {},
     "output_type": "display_data"
    },
    {
     "data": {
      "text/html": [
       "<p>Number of duplicate rows: 0</p>"
      ],
      "text/plain": [
       "<IPython.core.display.HTML object>"
      ]
     },
     "metadata": {},
     "output_type": "display_data"
    },
    {
     "data": {
      "text/html": [
       "<h5>Null Values</h5>"
      ],
      "text/plain": [
       "<IPython.core.display.HTML object>"
      ]
     },
     "metadata": {},
     "output_type": "display_data"
    },
    {
     "name": "stdout",
     "output_type": "stream",
     "text": [
      "Year                                 0\n",
      "Veterinary Office                    0\n",
      "Animal Count                         0\n",
      "Herd Incidence Rate                  0\n",
      "Restricted Herds at end of Year      0\n",
      "Restricted Herds at start of Year    0\n",
      "Herds Tested                         0\n",
      "Herds Count                          0\n",
      "Reactors per 1000 Tests A.P.T.       0\n",
      "Reactors to date                     0\n",
      "Tests on Animals                     0\n",
      "dtype: int64\n"
     ]
    },
    {
     "data": {
      "text/html": [
       "<h5>Single Value Columns</h5>"
      ],
      "text/plain": [
       "<IPython.core.display.HTML object>"
      ]
     },
     "metadata": {},
     "output_type": "display_data"
    },
    {
     "data": {
      "text/html": [
       "<p>No single value columns found.</p>"
      ],
      "text/plain": [
       "<IPython.core.display.HTML object>"
      ]
     },
     "metadata": {},
     "output_type": "display_data"
    },
    {
     "data": {
      "text/html": [
       "<h5>Columns: Unique value counts</h5>"
      ],
      "text/plain": [
       "<IPython.core.display.HTML object>"
      ]
     },
     "metadata": {},
     "output_type": "display_data"
    },
    {
     "data": {
      "text/html": [
       "<ul><li>The column \"Year\" has 11 unique values.</li><li>The column \"Veterinary Office\" has 30 unique values.</li><li>The column \"Animal Count\" has 330 unique values.</li><li>The column \"Herd Incidence Rate\" has 254 unique values.</li><li>The column \"Restricted Herds at end of Year\" has 149 unique values.</li><li>The column \"Restricted Herds at start of Year\" has 199 unique values.</li><li>The column \"Herds Tested\" has 310 unique values.</li><li>The column \"Herds Count\" has 316 unique values.</li><li>The column \"Reactors per 1000 Tests A.P.T.\" has 209 unique values.</li><li>The column \"Reactors to date\" has 295 unique values.</li><li>The column \"Tests on Animals\" has 330 unique values.</li></ul>"
      ],
      "text/plain": [
       "<IPython.core.display.HTML object>"
      ]
     },
     "metadata": {},
     "output_type": "display_data"
    },
    {
     "data": {
      "text/html": [
       "<h5>Outlier Analysis</h5>"
      ],
      "text/plain": [
       "<IPython.core.display.HTML object>"
      ]
     },
     "metadata": {},
     "output_type": "display_data"
    },
    {
     "data": {
      "text/html": [
       "<ul><li>The column \"Animal Count\" has 12 outliers. Recommend removing outliers.</li><li>The column \"Herd Incidence Rate\" has 14 outliers. Recommend removing outliers.</li><li>The column \"Restricted Herds at end of Year\" has 16 outliers. Recommend removing outliers.</li><li>The column \"Restricted Herds at start of Year\" has 13 outliers. Recommend removing outliers.</li><li>The column \"Herds Tested\" has 22 outliers. Recommend removing outliers.</li><li>The column \"Herds Count\" has 22 outliers. Recommend removing outliers.</li><li>The column \"Reactors per 1000 Tests A.P.T.\" has 22 outliers. Recommend removing outliers.</li><li>The column \"Reactors to date\" has 15 outliers. Recommend removing outliers.</li><li>The column \"Tests on Animals\" has 12 outliers. Recommend removing outliers.</li></ul>"
      ],
      "text/plain": [
       "<IPython.core.display.HTML object>"
      ]
     },
     "metadata": {},
     "output_type": "display_data"
    }
   ],
   "source": [
    "eda_reports.print_dataframe_analysis_report(bovine_tuberculosis_dataframe, filename)"
   ]
  },
  {
   "cell_type": "markdown",
   "id": "7ecd54e1",
   "metadata": {},
   "source": [
    "The table contains both data for county level and state level an aggregate of the county level data"
   ]
  },
  {
   "cell_type": "code",
   "execution_count": 10,
   "id": "cd549d9b",
   "metadata": {},
   "outputs": [
    {
     "data": {
      "text/html": [
       "<h4>cso-daa01-bovine-tuberculosis-2022-01-Jan-15.csv</h4>"
      ],
      "text/plain": [
       "<IPython.core.display.HTML object>"
      ]
     },
     "metadata": {},
     "output_type": "display_data"
    },
    {
     "data": {
      "text/html": [
       "<p>Row, Column Count: (319, 11)</p>"
      ],
      "text/plain": [
       "<IPython.core.display.HTML object>"
      ]
     },
     "metadata": {},
     "output_type": "display_data"
    },
    {
     "data": {
      "text/html": [
       "<h5>Sample: Top five rows</h5>"
      ],
      "text/plain": [
       "<IPython.core.display.HTML object>"
      ]
     },
     "metadata": {},
     "output_type": "display_data"
    },
    {
     "data": {
      "text/html": [
       "<div>\n",
       "<style scoped>\n",
       "    .dataframe tbody tr th:only-of-type {\n",
       "        vertical-align: middle;\n",
       "    }\n",
       "\n",
       "    .dataframe tbody tr th {\n",
       "        vertical-align: top;\n",
       "    }\n",
       "\n",
       "    .dataframe thead th {\n",
       "        text-align: right;\n",
       "    }\n",
       "</style>\n",
       "<table border=\"1\" class=\"dataframe\">\n",
       "  <thead>\n",
       "    <tr style=\"text-align: right;\">\n",
       "      <th></th>\n",
       "      <th>Year</th>\n",
       "      <th>Veterinary Office</th>\n",
       "      <th>Animal Count</th>\n",
       "      <th>Herd Incidence Rate</th>\n",
       "      <th>Restricted Herds at end of Year</th>\n",
       "      <th>Restricted Herds at start of Year</th>\n",
       "      <th>Herds Tested</th>\n",
       "      <th>Herds Count</th>\n",
       "      <th>Reactors per 1000 Tests A.P.T.</th>\n",
       "      <th>Reactors to date</th>\n",
       "      <th>Tests on Animals</th>\n",
       "    </tr>\n",
       "  </thead>\n",
       "  <tbody>\n",
       "    <tr>\n",
       "      <th>0</th>\n",
       "      <td>2010</td>\n",
       "      <td>Carlow</td>\n",
       "      <td>86258.0</td>\n",
       "      <td>4.02</td>\n",
       "      <td>28.0</td>\n",
       "      <td>52.0</td>\n",
       "      <td>1295.0</td>\n",
       "      <td>1353.0</td>\n",
       "      <td>1.14</td>\n",
       "      <td>124.0</td>\n",
       "      <td>108584.0</td>\n",
       "    </tr>\n",
       "    <tr>\n",
       "      <th>1</th>\n",
       "      <td>2010</td>\n",
       "      <td>Cavan</td>\n",
       "      <td>202119.0</td>\n",
       "      <td>5.32</td>\n",
       "      <td>124.0</td>\n",
       "      <td>257.0</td>\n",
       "      <td>4832.0</td>\n",
       "      <td>4915.0</td>\n",
       "      <td>3.13</td>\n",
       "      <td>981.0</td>\n",
       "      <td>313822.0</td>\n",
       "    </tr>\n",
       "    <tr>\n",
       "      <th>2</th>\n",
       "      <td>2010</td>\n",
       "      <td>Clare</td>\n",
       "      <td>237260.0</td>\n",
       "      <td>5.71</td>\n",
       "      <td>175.0</td>\n",
       "      <td>350.0</td>\n",
       "      <td>6134.0</td>\n",
       "      <td>6282.0</td>\n",
       "      <td>5.05</td>\n",
       "      <td>1947.0</td>\n",
       "      <td>385705.0</td>\n",
       "    </tr>\n",
       "    <tr>\n",
       "      <th>3</th>\n",
       "      <td>2010</td>\n",
       "      <td>Cork North</td>\n",
       "      <td>462707.0</td>\n",
       "      <td>4.43</td>\n",
       "      <td>119.0</td>\n",
       "      <td>259.0</td>\n",
       "      <td>5849.0</td>\n",
       "      <td>5986.0</td>\n",
       "      <td>1.62</td>\n",
       "      <td>1078.0</td>\n",
       "      <td>664648.0</td>\n",
       "    </tr>\n",
       "    <tr>\n",
       "      <th>4</th>\n",
       "      <td>2010</td>\n",
       "      <td>Cork South</td>\n",
       "      <td>417478.0</td>\n",
       "      <td>6.30</td>\n",
       "      <td>216.0</td>\n",
       "      <td>385.0</td>\n",
       "      <td>6107.0</td>\n",
       "      <td>6310.0</td>\n",
       "      <td>2.72</td>\n",
       "      <td>1592.0</td>\n",
       "      <td>586105.0</td>\n",
       "    </tr>\n",
       "  </tbody>\n",
       "</table>\n",
       "</div>"
      ],
      "text/plain": [
       "   Year Veterinary Office  Animal Count  Herd Incidence Rate  \\\n",
       "0  2010            Carlow       86258.0                 4.02   \n",
       "1  2010             Cavan      202119.0                 5.32   \n",
       "2  2010             Clare      237260.0                 5.71   \n",
       "3  2010        Cork North      462707.0                 4.43   \n",
       "4  2010        Cork South      417478.0                 6.30   \n",
       "\n",
       "   Restricted Herds at end of Year  Restricted Herds at start of Year  \\\n",
       "0                             28.0                               52.0   \n",
       "1                            124.0                              257.0   \n",
       "2                            175.0                              350.0   \n",
       "3                            119.0                              259.0   \n",
       "4                            216.0                              385.0   \n",
       "\n",
       "   Herds Tested  Herds Count  Reactors per 1000 Tests A.P.T.  \\\n",
       "0        1295.0       1353.0                            1.14   \n",
       "1        4832.0       4915.0                            3.13   \n",
       "2        6134.0       6282.0                            5.05   \n",
       "3        5849.0       5986.0                            1.62   \n",
       "4        6107.0       6310.0                            2.72   \n",
       "\n",
       "   Reactors to date  Tests on Animals  \n",
       "0             124.0          108584.0  \n",
       "1             981.0          313822.0  \n",
       "2            1947.0          385705.0  \n",
       "3            1078.0          664648.0  \n",
       "4            1592.0          586105.0  "
      ]
     },
     "metadata": {},
     "output_type": "display_data"
    },
    {
     "data": {
      "text/html": [
       "<h5>Data Types</h5>"
      ],
      "text/plain": [
       "<IPython.core.display.HTML object>"
      ]
     },
     "metadata": {},
     "output_type": "display_data"
    },
    {
     "data": {
      "text/plain": [
       "Year                                   int64\n",
       "Veterinary Office                     object\n",
       "Animal Count                         float64\n",
       "Herd Incidence Rate                  float64\n",
       "Restricted Herds at end of Year      float64\n",
       "Restricted Herds at start of Year    float64\n",
       "Herds Tested                         float64\n",
       "Herds Count                          float64\n",
       "Reactors per 1000 Tests A.P.T.       float64\n",
       "Reactors to date                     float64\n",
       "Tests on Animals                     float64\n",
       "dtype: object"
      ]
     },
     "metadata": {},
     "output_type": "display_data"
    },
    {
     "data": {
      "text/html": [
       "<h5>Duplicates</h5>"
      ],
      "text/plain": [
       "<IPython.core.display.HTML object>"
      ]
     },
     "metadata": {},
     "output_type": "display_data"
    },
    {
     "data": {
      "text/html": [
       "<p>Number of duplicate rows: 0</p>"
      ],
      "text/plain": [
       "<IPython.core.display.HTML object>"
      ]
     },
     "metadata": {},
     "output_type": "display_data"
    },
    {
     "data": {
      "text/html": [
       "<h5>Null Values</h5>"
      ],
      "text/plain": [
       "<IPython.core.display.HTML object>"
      ]
     },
     "metadata": {},
     "output_type": "display_data"
    },
    {
     "name": "stdout",
     "output_type": "stream",
     "text": [
      "Year                                 0\n",
      "Veterinary Office                    0\n",
      "Animal Count                         0\n",
      "Herd Incidence Rate                  0\n",
      "Restricted Herds at end of Year      0\n",
      "Restricted Herds at start of Year    0\n",
      "Herds Tested                         0\n",
      "Herds Count                          0\n",
      "Reactors per 1000 Tests A.P.T.       0\n",
      "Reactors to date                     0\n",
      "Tests on Animals                     0\n",
      "dtype: int64\n"
     ]
    },
    {
     "data": {
      "text/html": [
       "<h5>Single Value Columns</h5>"
      ],
      "text/plain": [
       "<IPython.core.display.HTML object>"
      ]
     },
     "metadata": {},
     "output_type": "display_data"
    },
    {
     "data": {
      "text/html": [
       "<p>No single value columns found.</p>"
      ],
      "text/plain": [
       "<IPython.core.display.HTML object>"
      ]
     },
     "metadata": {},
     "output_type": "display_data"
    },
    {
     "data": {
      "text/html": [
       "<h5>Columns: Unique value counts</h5>"
      ],
      "text/plain": [
       "<IPython.core.display.HTML object>"
      ]
     },
     "metadata": {},
     "output_type": "display_data"
    },
    {
     "data": {
      "text/html": [
       "<ul><li>The column \"Year\" has 11 unique values.</li><li>The column \"Veterinary Office\" has 29 unique values.</li><li>The column \"Animal Count\" has 319 unique values.</li><li>The column \"Herd Incidence Rate\" has 250 unique values.</li><li>The column \"Restricted Herds at end of Year\" has 138 unique values.</li><li>The column \"Restricted Herds at start of Year\" has 188 unique values.</li><li>The column \"Herds Tested\" has 299 unique values.</li><li>The column \"Herds Count\" has 305 unique values.</li><li>The column \"Reactors per 1000 Tests A.P.T.\" has 207 unique values.</li><li>The column \"Reactors to date\" has 284 unique values.</li><li>The column \"Tests on Animals\" has 319 unique values.</li></ul>"
      ],
      "text/plain": [
       "<IPython.core.display.HTML object>"
      ]
     },
     "metadata": {},
     "output_type": "display_data"
    },
    {
     "data": {
      "text/html": [
       "<h5>Outlier Analysis</h5>"
      ],
      "text/plain": [
       "<IPython.core.display.HTML object>"
      ]
     },
     "metadata": {},
     "output_type": "display_data"
    },
    {
     "data": {
      "text/html": [
       "<ul><li>The column \"Animal Count\" has 1 outlier. Recommend removing outlier.</li><li>The column \"Herd Incidence Rate\" has 12 outliers. Recommend removing outliers.</li><li>The column \"Restricted Herds at end of Year\" has 7 outliers. Recommend removing outliers.</li><li>The column \"Restricted Herds at start of Year\" has 4 outliers. Recommend removing outliers.</li><li>The column \"Herds Tested\" has 11 outliers. Recommend removing outliers.</li><li>The column \"Herds Count\" has 11 outliers. Recommend removing outliers.</li><li>The column \"Reactors per 1000 Tests A.P.T.\" has 22 outliers. Recommend removing outliers.</li><li>The column \"Reactors to date\" has 4 outliers. Recommend removing outliers.</li><li>The column \"Tests on Animals\" has 2 outliers. Recommend removing outliers.</li></ul>"
      ],
      "text/plain": [
       "<IPython.core.display.HTML object>"
      ]
     },
     "metadata": {},
     "output_type": "display_data"
    }
   ],
   "source": [
    "county_bovine_tuberculosis_dataframe = bovine_tuberculosis_dataframe.drop(bovine_tuberculosis_dataframe[(bovine_tuberculosis_dataframe[VETERINARY_OFFICE] == \"State\")].index)\n",
    "eda_reports.print_dataframe_analysis_report(county_bovine_tuberculosis_dataframe, filename)"
   ]
  },
  {
   "cell_type": "code",
   "execution_count": 11,
   "id": "af8517e1",
   "metadata": {},
   "outputs": [
    {
     "data": {
      "text/html": [
       "<h4>cso-daa01-bovine-tuberculosis-2022-01-Jan-15.csv</h4>"
      ],
      "text/plain": [
       "<IPython.core.display.HTML object>"
      ]
     },
     "metadata": {},
     "output_type": "display_data"
    },
    {
     "data": {
      "text/html": [
       "<p>Row, Column Count: (11, 11)</p>"
      ],
      "text/plain": [
       "<IPython.core.display.HTML object>"
      ]
     },
     "metadata": {},
     "output_type": "display_data"
    },
    {
     "data": {
      "text/html": [
       "<h5>Sample: Top five rows</h5>"
      ],
      "text/plain": [
       "<IPython.core.display.HTML object>"
      ]
     },
     "metadata": {},
     "output_type": "display_data"
    },
    {
     "data": {
      "text/html": [
       "<div>\n",
       "<style scoped>\n",
       "    .dataframe tbody tr th:only-of-type {\n",
       "        vertical-align: middle;\n",
       "    }\n",
       "\n",
       "    .dataframe tbody tr th {\n",
       "        vertical-align: top;\n",
       "    }\n",
       "\n",
       "    .dataframe thead th {\n",
       "        text-align: right;\n",
       "    }\n",
       "</style>\n",
       "<table border=\"1\" class=\"dataframe\">\n",
       "  <thead>\n",
       "    <tr style=\"text-align: right;\">\n",
       "      <th></th>\n",
       "      <th>Year</th>\n",
       "      <th>Veterinary Office</th>\n",
       "      <th>Animal Count</th>\n",
       "      <th>Herd Incidence Rate</th>\n",
       "      <th>Restricted Herds at end of Year</th>\n",
       "      <th>Restricted Herds at start of Year</th>\n",
       "      <th>Herds Tested</th>\n",
       "      <th>Herds Count</th>\n",
       "      <th>Reactors per 1000 Tests A.P.T.</th>\n",
       "      <th>Reactors to date</th>\n",
       "      <th>Tests on Animals</th>\n",
       "    </tr>\n",
       "  </thead>\n",
       "  <tbody>\n",
       "    <tr>\n",
       "      <th>22</th>\n",
       "      <td>2010</td>\n",
       "      <td>State</td>\n",
       "      <td>5751564.0</td>\n",
       "      <td>4.65</td>\n",
       "      <td>2849.0</td>\n",
       "      <td>5304.0</td>\n",
       "      <td>114011.0</td>\n",
       "      <td>116815.0</td>\n",
       "      <td>2.41</td>\n",
       "      <td>20211.0</td>\n",
       "      <td>8390750.0</td>\n",
       "    </tr>\n",
       "    <tr>\n",
       "      <th>52</th>\n",
       "      <td>2011</td>\n",
       "      <td>State</td>\n",
       "      <td>5819281.0</td>\n",
       "      <td>4.18</td>\n",
       "      <td>2578.0</td>\n",
       "      <td>4780.0</td>\n",
       "      <td>114333.0</td>\n",
       "      <td>116061.0</td>\n",
       "      <td>2.22</td>\n",
       "      <td>18531.0</td>\n",
       "      <td>8332285.0</td>\n",
       "    </tr>\n",
       "    <tr>\n",
       "      <th>82</th>\n",
       "      <td>2012</td>\n",
       "      <td>State</td>\n",
       "      <td>6145469.0</td>\n",
       "      <td>4.26</td>\n",
       "      <td>2665.0</td>\n",
       "      <td>4856.0</td>\n",
       "      <td>113887.0</td>\n",
       "      <td>115787.0</td>\n",
       "      <td>2.16</td>\n",
       "      <td>18476.0</td>\n",
       "      <td>8534677.0</td>\n",
       "    </tr>\n",
       "    <tr>\n",
       "      <th>112</th>\n",
       "      <td>2013</td>\n",
       "      <td>State</td>\n",
       "      <td>6146958.0</td>\n",
       "      <td>3.88</td>\n",
       "      <td>2512.0</td>\n",
       "      <td>4430.0</td>\n",
       "      <td>114051.0</td>\n",
       "      <td>115765.0</td>\n",
       "      <td>1.84</td>\n",
       "      <td>15612.0</td>\n",
       "      <td>8474961.0</td>\n",
       "    </tr>\n",
       "    <tr>\n",
       "      <th>142</th>\n",
       "      <td>2014</td>\n",
       "      <td>State</td>\n",
       "      <td>6115528.0</td>\n",
       "      <td>3.64</td>\n",
       "      <td>2177.0</td>\n",
       "      <td>4111.0</td>\n",
       "      <td>112937.0</td>\n",
       "      <td>114508.0</td>\n",
       "      <td>1.91</td>\n",
       "      <td>16145.0</td>\n",
       "      <td>8445262.0</td>\n",
       "    </tr>\n",
       "  </tbody>\n",
       "</table>\n",
       "</div>"
      ],
      "text/plain": [
       "     Year Veterinary Office  Animal Count  Herd Incidence Rate  \\\n",
       "22   2010             State     5751564.0                 4.65   \n",
       "52   2011             State     5819281.0                 4.18   \n",
       "82   2012             State     6145469.0                 4.26   \n",
       "112  2013             State     6146958.0                 3.88   \n",
       "142  2014             State     6115528.0                 3.64   \n",
       "\n",
       "     Restricted Herds at end of Year  Restricted Herds at start of Year  \\\n",
       "22                            2849.0                             5304.0   \n",
       "52                            2578.0                             4780.0   \n",
       "82                            2665.0                             4856.0   \n",
       "112                           2512.0                             4430.0   \n",
       "142                           2177.0                             4111.0   \n",
       "\n",
       "     Herds Tested  Herds Count  Reactors per 1000 Tests A.P.T.  \\\n",
       "22       114011.0     116815.0                            2.41   \n",
       "52       114333.0     116061.0                            2.22   \n",
       "82       113887.0     115787.0                            2.16   \n",
       "112      114051.0     115765.0                            1.84   \n",
       "142      112937.0     114508.0                            1.91   \n",
       "\n",
       "     Reactors to date  Tests on Animals  \n",
       "22            20211.0         8390750.0  \n",
       "52            18531.0         8332285.0  \n",
       "82            18476.0         8534677.0  \n",
       "112           15612.0         8474961.0  \n",
       "142           16145.0         8445262.0  "
      ]
     },
     "metadata": {},
     "output_type": "display_data"
    },
    {
     "data": {
      "text/html": [
       "<h5>Data Types</h5>"
      ],
      "text/plain": [
       "<IPython.core.display.HTML object>"
      ]
     },
     "metadata": {},
     "output_type": "display_data"
    },
    {
     "data": {
      "text/plain": [
       "Year                                   int64\n",
       "Veterinary Office                     object\n",
       "Animal Count                         float64\n",
       "Herd Incidence Rate                  float64\n",
       "Restricted Herds at end of Year      float64\n",
       "Restricted Herds at start of Year    float64\n",
       "Herds Tested                         float64\n",
       "Herds Count                          float64\n",
       "Reactors per 1000 Tests A.P.T.       float64\n",
       "Reactors to date                     float64\n",
       "Tests on Animals                     float64\n",
       "dtype: object"
      ]
     },
     "metadata": {},
     "output_type": "display_data"
    },
    {
     "data": {
      "text/html": [
       "<h5>Duplicates</h5>"
      ],
      "text/plain": [
       "<IPython.core.display.HTML object>"
      ]
     },
     "metadata": {},
     "output_type": "display_data"
    },
    {
     "data": {
      "text/html": [
       "<p>Number of duplicate rows: 0</p>"
      ],
      "text/plain": [
       "<IPython.core.display.HTML object>"
      ]
     },
     "metadata": {},
     "output_type": "display_data"
    },
    {
     "data": {
      "text/html": [
       "<h5>Null Values</h5>"
      ],
      "text/plain": [
       "<IPython.core.display.HTML object>"
      ]
     },
     "metadata": {},
     "output_type": "display_data"
    },
    {
     "name": "stdout",
     "output_type": "stream",
     "text": [
      "Year                                 0\n",
      "Veterinary Office                    0\n",
      "Animal Count                         0\n",
      "Herd Incidence Rate                  0\n",
      "Restricted Herds at end of Year      0\n",
      "Restricted Herds at start of Year    0\n",
      "Herds Tested                         0\n",
      "Herds Count                          0\n",
      "Reactors per 1000 Tests A.P.T.       0\n",
      "Reactors to date                     0\n",
      "Tests on Animals                     0\n",
      "dtype: int64\n"
     ]
    },
    {
     "data": {
      "text/html": [
       "<h5>Single Value Columns</h5>"
      ],
      "text/plain": [
       "<IPython.core.display.HTML object>"
      ]
     },
     "metadata": {},
     "output_type": "display_data"
    },
    {
     "data": {
      "text/html": [
       "<ul><li>The column `Veterinary Office` has only one value. Recommend removing.</li></ul>"
      ],
      "text/plain": [
       "<IPython.core.display.HTML object>"
      ]
     },
     "metadata": {},
     "output_type": "display_data"
    },
    {
     "data": {
      "text/html": [
       "<h5>Columns: Unique value counts</h5>"
      ],
      "text/plain": [
       "<IPython.core.display.HTML object>"
      ]
     },
     "metadata": {},
     "output_type": "display_data"
    },
    {
     "data": {
      "text/html": [
       "<ul><li>The column \"Year\" has 11 unique values.</li><li>The column \"Veterinary Office\" has 1 unique values.</li><li>The column \"Animal Count\" has 11 unique values.</li><li>The column \"Herd Incidence Rate\" has 11 unique values.</li><li>The column \"Restricted Herds at end of Year\" has 11 unique values.</li><li>The column \"Restricted Herds at start of Year\" has 11 unique values.</li><li>The column \"Herds Tested\" has 11 unique values.</li><li>The column \"Herds Count\" has 11 unique values.</li><li>The column \"Reactors per 1000 Tests A.P.T.\" has 10 unique values.</li><li>The column \"Reactors to date\" has 11 unique values.</li><li>The column \"Tests on Animals\" has 11 unique values.</li></ul>"
      ],
      "text/plain": [
       "<IPython.core.display.HTML object>"
      ]
     },
     "metadata": {},
     "output_type": "display_data"
    },
    {
     "data": {
      "text/html": [
       "<h5>Outlier Analysis</h5>"
      ],
      "text/plain": [
       "<IPython.core.display.HTML object>"
      ]
     },
     "metadata": {},
     "output_type": "display_data"
    },
    {
     "data": {
      "text/html": [
       "<ul><li>The column \"Animal Count\" has 1 outlier. Recommend removing outlier.</li><li>The column \"Reactors per 1000 Tests A.P.T.\" has 1 outlier. Recommend removing outlier.</li><li>The column \"Reactors to date\" has 1 outlier. Recommend removing outlier.</li></ul>"
      ],
      "text/plain": [
       "<IPython.core.display.HTML object>"
      ]
     },
     "metadata": {},
     "output_type": "display_data"
    }
   ],
   "source": [
    "bovine_tuberculosis_dataframe = bovine_tuberculosis_dataframe.drop(bovine_tuberculosis_dataframe[(bovine_tuberculosis_dataframe[VETERINARY_OFFICE] != \"State\")].index)\n",
    "eda_reports.print_dataframe_analysis_report(bovine_tuberculosis_dataframe, filename)"
   ]
  },
  {
   "cell_type": "markdown",
   "id": "edc39f61",
   "metadata": {},
   "source": [
    "### Save Artifacts"
   ]
  },
  {
   "cell_type": "markdown",
   "id": "74be102e",
   "metadata": {},
   "source": [
    "Saving the output of the notebook."
   ]
  },
  {
   "cell_type": "code",
   "execution_count": 12,
   "id": "117503dc",
   "metadata": {},
   "outputs": [],
   "source": [
    "bovine_tuberculosis_dataframe.to_csv(\n",
    "    artifact_manager.get_bovine_tuberculosis_eda_filepath(), index=None)\n",
    "county_bovine_tuberculosis_dataframe.to_csv(\n",
    "    artifact_manager.get_county_bovine_tuberculosis_eda_filepath(), index=None)"
   ]
  },
  {
   "cell_type": "markdown",
   "id": "4ddde460",
   "metadata": {},
   "source": [
    "Author &copy; 2021 <a href=\"https://github.com/markcrowe-com\" target=\"_parent\">Mark Crowe</a>. All rights reserved."
   ]
  }
 ],
 "metadata": {
  "kernelspec": {
   "display_name": "Python 3 (ipykernel)",
   "language": "python",
   "name": "python3"
  },
  "language_info": {
   "codemirror_mode": {
    "name": "ipython",
    "version": 3
   },
   "file_extension": ".py",
   "mimetype": "text/x-python",
   "name": "python",
   "nbconvert_exporter": "python",
   "pygments_lexer": "ipython3",
   "version": "3.8.12"
  },
  "toc": {
   "base_numbering": 1,
   "nav_menu": {
    "height": "204px",
    "width": "371px"
   },
   "number_sections": false,
   "sideBar": true,
   "skip_h1_title": false,
   "title_cell": "Table of Contents",
   "title_sidebar": "Contents",
   "toc_cell": false,
   "toc_position": {
    "height": "calc(100% - 180px)",
    "left": "10px",
    "top": "150px",
    "width": "333px"
   },
   "toc_section_display": true,
   "toc_window_display": true
  }
 },
 "nbformat": 4,
 "nbformat_minor": 5
}
