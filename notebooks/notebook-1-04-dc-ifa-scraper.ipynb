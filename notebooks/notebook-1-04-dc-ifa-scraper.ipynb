{
 "cells": [
  {
   "cell_type": "markdown",
   "id": "9082566a",
   "metadata": {},
   "source": [
    "## Parse Irish Farmers Association"
   ]
  },
  {
   "cell_type": "markdown",
   "id": "c7087a81",
   "metadata": {},
   "source": [
    "<!--\n",
    "import data_analytics.github as github\n",
    "print(github.create_jupyter_notebook_header(\"markcrowe-com\", \"agriculture-data-analytics\", \"notebooks/notebook-1-04-dc-ifa-scraper.ipynb\", \"master\"))\n",
    "-->\n",
    "<table style=\"margin: auto;\"><tr><td><a href=\"https://mybinder.org/v2/gh/markcrowe-com/agriculture-data-analytics/master?filepath=notebooks/notebook-1-04-dc-ifa-scraper.ipynb\" target=\"_parent\"><img src=\"https://mybinder.org/badge_logo.svg\" alt=\"Open In Binder\"/></a></td><td>online editors</td><td><a href=\"https://colab.research.google.com/github/markcrowe-com/agriculture-data-analytics/blob/master/notebooks/notebook-1-04-dc-ifa-scraper.ipynb\" target=\"_parent\"><img src=\"https://colab.research.google.com/assets/colab-badge.svg\" alt=\"Open In Colab\"/></a></td></tr></table>"
   ]
  },
  {
   "cell_type": "markdown",
   "id": "56febeee",
   "metadata": {},
   "source": [
    "### Objective"
   ]
  },
  {
   "cell_type": "markdown",
   "id": "7f54667f",
   "metadata": {},
   "source": [
    "The objective is to download the contents of the articles on the [Irish Farmers Association](https://www.ifa.ie/) and create a dataset.  "
   ]
  },
  {
   "cell_type": "markdown",
   "id": "61d9db23",
   "metadata": {},
   "source": [
    "### Setup"
   ]
  },
  {
   "cell_type": "markdown",
   "id": "97f765e1",
   "metadata": {},
   "source": [
    "Import required third party Python libraries, import supporting functions and sets up data source file paths."
   ]
  },
  {
   "cell_type": "code",
   "execution_count": 1,
   "id": "274eed0d",
   "metadata": {},
   "outputs": [],
   "source": [
    "# Local\n",
    "#!pip install -r script/requirements.txt \n",
    "# Remote option\n",
    "#!pip install -r https://raw.githubusercontent.com/markcrowe-com/agriculture-data-analytics/requirements.txt\n",
    "#Options: --quiet --user"
   ]
  },
  {
   "cell_type": "code",
   "execution_count": 2,
   "id": "6dbc0ff2",
   "metadata": {},
   "outputs": [],
   "source": [
    "from agriculture_data_analytics.project_manager import ProjectAssetManager\n",
    "from agriculture_data_analytics.dataframe_labels import *\n",
    "from bs4 import BeautifulSoup\n",
    "from pandas import DataFrame\n",
    "from pandas import DataFrame\n",
    "import data_analytics.github as github\n",
    "import pandas\n",
    "import requests"
   ]
  },
  {
   "cell_type": "markdown",
   "id": "cf278a9e",
   "metadata": {},
   "source": [
    "### Download"
   ]
  },
  {
   "cell_type": "code",
   "execution_count": 3,
   "id": "0ca15e5d",
   "metadata": {},
   "outputs": [],
   "source": [
    "asset_manager: ProjectAssetManager = ProjectAssetManager()\n",
    "asset_manager.is_remote = False"
   ]
  },
  {
   "cell_type": "code",
   "execution_count": 4,
   "id": "a3ab0255",
   "metadata": {},
   "outputs": [
    {
     "name": "stdout",
     "output_type": "stream",
     "text": [
      "Downloaded 80 pages.\n"
     ]
    }
   ],
   "source": [
    "with requests.Session() as session:\n",
    "    session.headers = {\n",
    "        \"User-Agent\":\n",
    "        \"Mozilla/5.0 (Windows NT 10.0; Win64; x64) AppleWebKit/537.36 (KHTML, like Gecko) Chrome/70.0.3538.110 Safari/537.36\",\n",
    "        \"Accept-Encoding\": \"gzip, deflate\",\n",
    "        \"Accept\":\n",
    "        \"text/html,application/xhtml+xml,application/xml;q=0.9,image/webp,image/png,*/*;q=0.8\",\n",
    "        \"Accept-Language\": \"en\"\n",
    "    }\n",
    "post_data: dict = {\n",
    "    'query':\n",
    "    '{\"sector\":\"cattle\",\"error\":\"\",\"m\":\"\",\"p\":0,\"post_parent\":\"\",\"subpost\":\"\",\"subpost_id\":\"\",\"attachment\":\"\",\"attachment_id\":0,\"name\":\"\",\"pagename\":\"\",\"page_id\":0,\"second\":\"\",\"minute\":\"\",\"hour\":\"\",\"day\":0,\"monthnum\":0,\"year\":0,\"w\":0,\"category_name\":\"\",\"tag\":\"\",\"cat\":\"\",\"tag_id\":\"\",\"author\":\"\",\"author_name\":\"\",\"feed\":\"\",\"tb\":\"\",\"paged\":0,\"meta_key\":\"\",\"meta_value\":\"\",\"preview\":\"\",\"s\":\"\",\"sentence\":\"\",\"title\":\"\",\"fields\":\"\",\"menu_order\":\"\",\"embed\":\"\",\"category__in\":[],\"category__not_in\":[],\"category__and\":[],\"post__in\":[],\"post__not_in\":[],\"post_name__in\":[],\"tag__in\":[],\"tag__not_in\":[],\"tag__and\":[],\"tag_slug__in\":[],\"tag_slug__and\":[],\"post_parent__in\":[],\"post_parent__not_in\":[],\"author__in\":[],\"author__not_in\":[],\"ignore_sticky_posts\":false,\"suppress_filters\":false,\"cache_results\":true,\"update_post_term_cache\":true,\"lazy_load_term_meta\":true,\"update_post_meta_cache\":true,\"post_type\":\"\",\"posts_per_page\":130,\"nopaging\":false,\"comments_per_page\":\"50\",\"no_found_rows\":false,\"taxonomy\":\"sector\",\"term\":\"cattle\",\"order\":\"DESC\"}',\n",
    "    'action': 'loadmore',\n",
    "    'page': '',\n",
    "}\n",
    "url: str = \"https://www.ifa.ie/wp-admin/admin-ajax.php/\"\n",
    "\n",
    "page_number: int = 0\n",
    "data: str = \"\"\n",
    "receiving_data: bool = True\n",
    "while receiving_data:\n",
    "    post_data['page'] = page_number\n",
    "    text: str = session.post(url, post_data).text\n",
    "    if not text: receiving_data = False\n",
    "    data += text\n",
    "    page_number += 1\n",
    "\n",
    "print(f\"Downloaded {page_number} pages.\")"
   ]
  },
  {
   "cell_type": "code",
   "execution_count": 5,
   "id": "59606fd8",
   "metadata": {},
   "outputs": [
    {
     "name": "stdout",
     "output_type": "stream",
     "text": [
      "Article Links found: 628\n"
     ]
    }
   ],
   "source": [
    "beautiful_soup = BeautifulSoup(data, 'html.parser')\n",
    "links = beautiful_soup.find_all(\"a\", {\"class\": \"\"}, href=True)\n",
    "print(\"Article Links found:\", len(links))"
   ]
  },
  {
   "cell_type": "code",
   "execution_count": 6,
   "id": "3ab7d629",
   "metadata": {},
   "outputs": [],
   "source": [
    "page_list:list = []\n",
    "\n",
    "for link in links:\n",
    "    url:str = link['href']\n",
    "    response:str = session.get(url)\n",
    "    beautiful_soup = BeautifulSoup(response.content, 'html.parser')\n",
    "    heading = beautiful_soup.find('h1').text\n",
    "    date = beautiful_soup.find('time').text\n",
    "    html_content = beautiful_soup.find(\"div\", {\"class\": \"single-content\"})\n",
    "    page_list.append([url, heading, date, html_content, html_content.text])"
   ]
  },
  {
   "cell_type": "markdown",
   "id": "b2966806",
   "metadata": {},
   "source": [
    "### Save Artifact"
   ]
  },
  {
   "cell_type": "markdown",
   "id": "a1f6145b",
   "metadata": {},
   "source": [
    "Saving the output of the notebook."
   ]
  },
  {
   "cell_type": "code",
   "execution_count": 7,
   "id": "949b12d8",
   "metadata": {
    "scrolled": true
   },
   "outputs": [
    {
     "name": "stdout",
     "output_type": "stream",
     "text": [
      "Dataframe saved to assets/ifa-ie-beef-articles.csv\n"
     ]
    }
   ],
   "source": [
    "dataframe = DataFrame(page_list, columns=[\"URL\", \"Heading\", \"Date\", \"HTML Content\", \"Text\"])\n",
    "dataframe.to_csv('./../assets/ifa-ie-beef-articles.csv', index=False)\n",
    "\n",
    "print(\"Dataframe saved to assets/ifa-ie-beef-articles.csv\")"
   ]
  },
  {
   "cell_type": "markdown",
   "id": "b5da5665",
   "metadata": {},
   "source": [
    "Author &copy; 2021 <a href=\"https://github.com/markcrowe-com\" target=\"_parent\">Mark Crowe</a>. All rights reserved."
   ]
  },
  {
   "cell_type": "code",
   "execution_count": 8,
   "id": "776ba3f8",
   "metadata": {},
   "outputs": [
    {
     "data": {
      "text/html": [
       "<div>\n",
       "<style scoped>\n",
       "    .dataframe tbody tr th:only-of-type {\n",
       "        vertical-align: middle;\n",
       "    }\n",
       "\n",
       "    .dataframe tbody tr th {\n",
       "        vertical-align: top;\n",
       "    }\n",
       "\n",
       "    .dataframe thead th {\n",
       "        text-align: right;\n",
       "    }\n",
       "</style>\n",
       "<table border=\"1\" class=\"dataframe\">\n",
       "  <thead>\n",
       "    <tr style=\"text-align: right;\">\n",
       "      <th></th>\n",
       "      <th>URL</th>\n",
       "      <th>Heading</th>\n",
       "      <th>Date</th>\n",
       "      <th>HTML Content</th>\n",
       "      <th>Text</th>\n",
       "    </tr>\n",
       "  </thead>\n",
       "  <tbody>\n",
       "    <tr>\n",
       "      <th>0</th>\n",
       "      <td>https://www.ifa.ie/markets-and-prices/beef-she...</td>\n",
       "      <td>Beef &amp; Sheep Update 21st January</td>\n",
       "      <td>22 January 2022</td>\n",
       "      <td>[\\n, [Beef Update], \\n, [IFA Livestock chairma...</td>\n",
       "      <td>\\nBeef Update\\nIFA Livestock chairman Brendan ...</td>\n",
       "    </tr>\n",
       "    <tr>\n",
       "      <th>1</th>\n",
       "      <td>https://www.ifa.ie/campaigns/key-amendments-on...</td>\n",
       "      <td>Key Amendments on Animal Transport Carried, Bu...</td>\n",
       "      <td>20 January 2022</td>\n",
       "      <td>[\\n, [IFA President Tim Cullinan said the voti...</td>\n",
       "      <td>\\nIFA President Tim Cullinan said the voting t...</td>\n",
       "    </tr>\n",
       "    <tr>\n",
       "      <th>2</th>\n",
       "      <td>https://www.ifa.ie/markets-and-prices/weekly-c...</td>\n",
       "      <td>Weekly Cattle Prices 19th January</td>\n",
       "      <td>19 January 2022</td>\n",
       "      <td>[\\n, [Prices reported as quoted or paid to IFA...</td>\n",
       "      <td>\\nPrices reported as quoted or paid to IFA Mem...</td>\n",
       "    </tr>\n",
       "    <tr>\n",
       "      <th>3</th>\n",
       "      <td>https://www.ifa.ie/markets-and-prices/beef-she...</td>\n",
       "      <td>Beef &amp; Sheep Update 14th January</td>\n",
       "      <td>14 January 2022</td>\n",
       "      <td>[\\n, [Beef Update], \\n, [IFA livestock chairma...</td>\n",
       "      <td>\\nBeef Update\\nIFA livestock chairman Brendan ...</td>\n",
       "    </tr>\n",
       "    <tr>\n",
       "      <th>4</th>\n",
       "      <td>https://www.ifa.ie/markets-and-prices/weekly-c...</td>\n",
       "      <td>Weekly Cattle Prices 12th January</td>\n",
       "      <td>12 January 2022</td>\n",
       "      <td>[\\n, [Prices reported as quoted or paid to IFA...</td>\n",
       "      <td>\\nPrices reported as quoted or paid to IFA Mem...</td>\n",
       "    </tr>\n",
       "  </tbody>\n",
       "</table>\n",
       "</div>"
      ],
      "text/plain": [
       "                                                 URL  \\\n",
       "0  https://www.ifa.ie/markets-and-prices/beef-she...   \n",
       "1  https://www.ifa.ie/campaigns/key-amendments-on...   \n",
       "2  https://www.ifa.ie/markets-and-prices/weekly-c...   \n",
       "3  https://www.ifa.ie/markets-and-prices/beef-she...   \n",
       "4  https://www.ifa.ie/markets-and-prices/weekly-c...   \n",
       "\n",
       "                                             Heading             Date  \\\n",
       "0                   Beef & Sheep Update 21st January  22 January 2022   \n",
       "1  Key Amendments on Animal Transport Carried, Bu...  20 January 2022   \n",
       "2                  Weekly Cattle Prices 19th January  19 January 2022   \n",
       "3                   Beef & Sheep Update 14th January  14 January 2022   \n",
       "4                  Weekly Cattle Prices 12th January  12 January 2022   \n",
       "\n",
       "                                        HTML Content  \\\n",
       "0  [\\n, [Beef Update], \\n, [IFA Livestock chairma...   \n",
       "1  [\\n, [IFA President Tim Cullinan said the voti...   \n",
       "2  [\\n, [Prices reported as quoted or paid to IFA...   \n",
       "3  [\\n, [Beef Update], \\n, [IFA livestock chairma...   \n",
       "4  [\\n, [Prices reported as quoted or paid to IFA...   \n",
       "\n",
       "                                                Text  \n",
       "0  \\nBeef Update\\nIFA Livestock chairman Brendan ...  \n",
       "1  \\nIFA President Tim Cullinan said the voting t...  \n",
       "2  \\nPrices reported as quoted or paid to IFA Mem...  \n",
       "3  \\nBeef Update\\nIFA livestock chairman Brendan ...  \n",
       "4  \\nPrices reported as quoted or paid to IFA Mem...  "
      ]
     },
     "execution_count": 8,
     "metadata": {},
     "output_type": "execute_result"
    }
   ],
   "source": [
    "dataframe.head()"
   ]
  }
 ],
 "metadata": {
  "kernelspec": {
   "display_name": "Python 3 (ipykernel)",
   "language": "python",
   "name": "python3"
  },
  "language_info": {
   "codemirror_mode": {
    "name": "ipython",
    "version": 3
   },
   "file_extension": ".py",
   "mimetype": "text/x-python",
   "name": "python",
   "nbconvert_exporter": "python",
   "pygments_lexer": "ipython3",
   "version": "3.8.12"
  },
  "toc": {
   "base_numbering": 1,
   "nav_menu": {},
   "number_sections": false,
   "sideBar": true,
   "skip_h1_title": false,
   "title_cell": "Table of Contents",
   "title_sidebar": "Contents",
   "toc_cell": false,
   "toc_position": {
    "height": "calc(100% - 180px)",
    "left": "10px",
    "top": "150px",
    "width": "384px"
   },
   "toc_section_display": true,
   "toc_window_display": true
  }
 },
 "nbformat": 4,
 "nbformat_minor": 5
}
