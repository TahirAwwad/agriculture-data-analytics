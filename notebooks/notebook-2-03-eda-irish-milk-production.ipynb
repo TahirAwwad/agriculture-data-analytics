{
 "cells": [
  {
   "cell_type": "markdown",
   "id": "f10f1dea",
   "metadata": {},
   "source": [
    "<style>\n",
    "*\n",
    "{\n",
    "\ttext-align: justify;\n",
    "\tline-height: 1.5;\n",
    "\tfont-family: \"Arial\", sans-serif;\n",
    "\tfont-size: 12px;\n",
    "}\n",
    "\n",
    "h2, h3, h4, h5, h6\n",
    "{\n",
    "\tfont-family: \"Arial\", sans-serif;\n",
    "\tfont-size: 12px;\n",
    "\tfont-weight: bold;\n",
    "}\n",
    "h2\n",
    "{\n",
    "\tfont-size: 14px;\n",
    "}\n",
    "h1\n",
    "{\n",
    "\tfont-family: \"Wingdings\", sans-serif;\n",
    "\tfont-size: 16px;\n",
    "}\n",
    "</style>"
   ]
  },
  {
   "cell_type": "markdown",
   "id": "bc595d50",
   "metadata": {},
   "source": [
    "## EDA of Irish agriculture output, input, income values at current prices."
   ]
  },
  {
   "cell_type": "markdown",
   "id": "7a5bb8dc",
   "metadata": {},
   "source": [
    "<!--\n",
    "import data_analytics.github as github\n",
    "print(github.create_jupyter_notebook_header(\"tahirawwad\", \"agriculture-data-analytics\", \"notebooks/notebook-2-03-eda-irish-milk-production.ipynb\", \"master\"))\n",
    "-->\n",
    "<table style=\"margin: auto;\"><tr><td><a href=\"https://mybinder.org/v2/gh/tahirawwad/agriculture-data-analytics/master?filepath=notebooks/notebook-2-03-eda-irish-milk-production.ipynb\" target=\"_parent\"><img src=\"https://mybinder.org/badge_logo.svg\" alt=\"Open In Binder\"/></a></td><td>online editors</td><td><a href=\"https://colab.research.google.com/github/tahirawwad/agriculture-data-analytics/blob/master/notebooks/notebook-2-03-eda-irish-milk-production.ipynb\" target=\"_parent\"><img src=\"https://colab.research.google.com/assets/colab-badge.svg\" alt=\"Open In Colab\"/></a></td></tr></table>"
   ]
  },
  {
   "cell_type": "markdown",
   "id": "036f5aad",
   "metadata": {},
   "source": [
    "### Objective"
   ]
  },
  {
   "cell_type": "markdown",
   "id": "9cd4be9b",
   "metadata": {},
   "source": [
    "The objective is to provide an Exploratory Data Analysis (EDA) of the [cso-aea01-value-at-current-prices-for-output-input-and-income-in-agriculture.csv](./../assets/cso-aea01-value-at-current-prices-for-output-input-and-income-in-agriculture.csv) file provided by the <a href=\"https://data.cso.ie/table/AEA01\" target=\"_new\">CSO: AEA01 Table</a>. The EDA is performed to investigate and clean the data, to spot anomalies.  "
   ]
  },
  {
   "cell_type": "markdown",
   "id": "ff1ab85e",
   "metadata": {},
   "source": [
    "### Setup"
   ]
  },
  {
   "cell_type": "markdown",
   "id": "1caa871c",
   "metadata": {},
   "source": [
    "Import required third party Python libraries, import supporting functions and sets up data source file paths."
   ]
  },
  {
   "cell_type": "code",
   "execution_count": 1,
   "id": "9e3fdeee",
   "metadata": {
    "ExecuteTime": {
     "end_time": "2022-01-27T04:11:34.360700Z",
     "start_time": "2022-01-27T04:11:34.342703Z"
    }
   },
   "outputs": [],
   "source": [
    "# Local\n",
    "#!pip install -r script/requirements.txt\n",
    "# Remote option\n",
    "#!pip install -r https://raw.githubusercontent.com/tahirawwad/agriculture-data-analytics/requirements.txt\n",
    "#Options: --quiet --user"
   ]
  },
  {
   "cell_type": "code",
   "execution_count": 2,
   "id": "56370af1",
   "metadata": {
    "ExecuteTime": {
     "end_time": "2022-01-27T04:11:35.114699Z",
     "start_time": "2022-01-27T04:11:34.364702Z"
    }
   },
   "outputs": [],
   "source": [
    "from agriculture_data_analytics.project_manager import *\n",
    "from agriculture_data_analytics.dataframe_labels import *\n",
    "from pandas import DataFrame\n",
    "import data_analytics.exploratory_data_analysis as eda\n",
    "import data_analytics.exploratory_data_analysis_reports as eda_reports\n",
    "import data_analytics.github as github\n",
    "import os\n",
    "import pandas"
   ]
  },
  {
   "cell_type": "code",
   "execution_count": 3,
   "id": "4d846147",
   "metadata": {
    "ExecuteTime": {
     "end_time": "2022-01-27T04:11:35.144698Z",
     "start_time": "2022-01-27T04:11:35.116699Z"
    }
   },
   "outputs": [
    {
     "data": {
      "text/html": [
       "<strong>Data Sources</strong>"
      ],
      "text/plain": [
       "<IPython.core.display.HTML object>"
      ]
     },
     "metadata": {},
     "output_type": "display_data"
    },
    {
     "data": {
      "text/html": [
       "<p>Data Sources available at</p>"
      ],
      "text/plain": [
       "<IPython.core.display.HTML object>"
      ]
     },
     "metadata": {},
     "output_type": "display_data"
    },
    {
     "name": "stdout",
     "output_type": "stream",
     "text": [
      "https://github.com/markcrowe-com/agriculture-data-analytics/assets/cso-daa01-bovine-tuberculosis-2022-01-Jan-15.csv?raw=true\n"
     ]
    }
   ],
   "source": [
    "artifact_manager: ProjectArtifactManager = ProjectArtifactManager()\n",
    "asset_manager: ProjectAssetManager = ProjectAssetManager()\n",
    "artifact_manager.is_remote = asset_manager.is_remote = True\n",
    "github.display_jupyter_notebook_data_sources(\n",
    "    [asset_manager.get_bovine_tuberculosis_filepath()])\n",
    "artifact_manager.is_remote = asset_manager.is_remote = False"
   ]
  },
  {
   "cell_type": "markdown",
   "id": "59e82839",
   "metadata": {},
   "source": [
    "### Loading the CSV file"
   ]
  },
  {
   "cell_type": "markdown",
   "id": "123516fd",
   "metadata": {},
   "source": [
    "#### Create Data Frames"
   ]
  },
  {
   "cell_type": "code",
   "execution_count": 4,
   "id": "c2385c72",
   "metadata": {
    "ExecuteTime": {
     "end_time": "2022-01-27T04:11:35.174699Z",
     "start_time": "2022-01-27T04:11:35.147702Z"
    }
   },
   "outputs": [],
   "source": [
    "filepath: str = './../assets/cso-aea01-value-at-current-prices-for-output-input-and-income-in-agriculture.csv'\n",
    "agriculture_prices_dataframe: DataFrame = pandas.read_csv(filepath)"
   ]
  },
  {
   "cell_type": "markdown",
   "id": "110223b5",
   "metadata": {},
   "source": [
    "#### Renaming Columns"
   ]
  },
  {
   "cell_type": "code",
   "execution_count": 5,
   "id": "a3211836",
   "metadata": {
    "ExecuteTime": {
     "end_time": "2022-01-27T04:11:35.205700Z",
     "start_time": "2022-01-27T04:11:35.178703Z"
    }
   },
   "outputs": [
    {
     "data": {
      "text/html": [
       "<div>\n",
       "<style scoped>\n",
       "    .dataframe tbody tr th:only-of-type {\n",
       "        vertical-align: middle;\n",
       "    }\n",
       "\n",
       "    .dataframe tbody tr th {\n",
       "        vertical-align: top;\n",
       "    }\n",
       "\n",
       "    .dataframe thead th {\n",
       "        text-align: right;\n",
       "    }\n",
       "</style>\n",
       "<table border=\"1\" class=\"dataframe\">\n",
       "  <thead>\n",
       "    <tr style=\"text-align: right;\">\n",
       "      <th></th>\n",
       "      <th>Statistic</th>\n",
       "      <th>Year</th>\n",
       "      <th>State</th>\n",
       "      <th>Unit</th>\n",
       "      <th>Value</th>\n",
       "    </tr>\n",
       "  </thead>\n",
       "  <tbody>\n",
       "  </tbody>\n",
       "</table>\n",
       "</div>"
      ],
      "text/plain": [
       "Empty DataFrame\n",
       "Columns: [Statistic, Year, State, Unit, Value]\n",
       "Index: []"
      ]
     },
     "execution_count": 5,
     "metadata": {},
     "output_type": "execute_result"
    }
   ],
   "source": [
    "old_to_new_column_names_dictionary = {\n",
    "    UNIT.upper(): UNIT,\n",
    "    VALUE.upper(): VALUE,\n",
    "}\n",
    "agriculture_prices_dataframe = agriculture_prices_dataframe.rename(\n",
    "    columns=old_to_new_column_names_dictionary)\n",
    "agriculture_prices_dataframe.head(0)"
   ]
  },
  {
   "cell_type": "markdown",
   "id": "a045d14d",
   "metadata": {},
   "source": [
    "#### Data Type Analysis Quick View"
   ]
  },
  {
   "cell_type": "markdown",
   "id": "e1c59e56",
   "metadata": {},
   "source": [
    "Print an analysis report of each dataset.  \n",
    "- Show the top five rows of the data frame as a quick sample.\n",
    "- Show the data types of each column.\n",
    "- Report the count of any duplicate rows.\n",
    "- Report the counts of any missing values."
   ]
  },
  {
   "cell_type": "code",
   "execution_count": 6,
   "id": "aae771a0",
   "metadata": {
    "ExecuteTime": {
     "end_time": "2022-01-27T04:11:35.299704Z",
     "start_time": "2022-01-27T04:11:35.207701Z"
    }
   },
   "outputs": [
    {
     "data": {
      "text/html": [
       "<h4>cso-aea01-value-at-current-prices-for-output-input-and-income-in-agriculture.csv</h4>"
      ],
      "text/plain": [
       "<IPython.core.display.HTML object>"
      ]
     },
     "metadata": {},
     "output_type": "display_data"
    },
    {
     "data": {
      "text/html": [
       "<p>Row, Column Count: (1728, 5)</p>"
      ],
      "text/plain": [
       "<IPython.core.display.HTML object>"
      ]
     },
     "metadata": {},
     "output_type": "display_data"
    },
    {
     "data": {
      "text/html": [
       "<h5>Sample: Top five rows</h5>"
      ],
      "text/plain": [
       "<IPython.core.display.HTML object>"
      ]
     },
     "metadata": {},
     "output_type": "display_data"
    },
    {
     "data": {
      "text/html": [
       "<div>\n",
       "<style scoped>\n",
       "    .dataframe tbody tr th:only-of-type {\n",
       "        vertical-align: middle;\n",
       "    }\n",
       "\n",
       "    .dataframe tbody tr th {\n",
       "        vertical-align: top;\n",
       "    }\n",
       "\n",
       "    .dataframe thead th {\n",
       "        text-align: right;\n",
       "    }\n",
       "</style>\n",
       "<table border=\"1\" class=\"dataframe\">\n",
       "  <thead>\n",
       "    <tr style=\"text-align: right;\">\n",
       "      <th></th>\n",
       "      <th>Statistic</th>\n",
       "      <th>Year</th>\n",
       "      <th>State</th>\n",
       "      <th>Unit</th>\n",
       "      <th>Value</th>\n",
       "    </tr>\n",
       "  </thead>\n",
       "  <tbody>\n",
       "    <tr>\n",
       "      <th>1418</th>\n",
       "      <td>Fixed Capital Consumption - Machinery, Equipme...</td>\n",
       "      <td>2000</td>\n",
       "      <td>State</td>\n",
       "      <td>Euro Million</td>\n",
       "      <td>422.3</td>\n",
       "    </tr>\n",
       "    <tr>\n",
       "      <th>149</th>\n",
       "      <td>Livestock - Horses</td>\n",
       "      <td>2011</td>\n",
       "      <td>State</td>\n",
       "      <td>Euro Million</td>\n",
       "      <td>135.6</td>\n",
       "    </tr>\n",
       "    <tr>\n",
       "      <th>414</th>\n",
       "      <td>Crops - Wheat</td>\n",
       "      <td>2020</td>\n",
       "      <td>State</td>\n",
       "      <td>Euro Million</td>\n",
       "      <td>45.6</td>\n",
       "    </tr>\n",
       "    <tr>\n",
       "      <th>539</th>\n",
       "      <td>Crops - Mushrooms</td>\n",
       "      <td>2017</td>\n",
       "      <td>State</td>\n",
       "      <td>Euro Million</td>\n",
       "      <td>118.2</td>\n",
       "    </tr>\n",
       "    <tr>\n",
       "      <th>1013</th>\n",
       "      <td>Intermediate Consumption - Financial Intermedi...</td>\n",
       "      <td>2011</td>\n",
       "      <td>State</td>\n",
       "      <td>Euro Million</td>\n",
       "      <td>62.8</td>\n",
       "    </tr>\n",
       "  </tbody>\n",
       "</table>\n",
       "</div>"
      ],
      "text/plain": [
       "                                              Statistic  Year  State  \\\n",
       "1418  Fixed Capital Consumption - Machinery, Equipme...  2000  State   \n",
       "149                                  Livestock - Horses  2011  State   \n",
       "414                                       Crops - Wheat  2020  State   \n",
       "539                                   Crops - Mushrooms  2017  State   \n",
       "1013  Intermediate Consumption - Financial Intermedi...  2011  State   \n",
       "\n",
       "              Unit  Value  \n",
       "1418  Euro Million  422.3  \n",
       "149   Euro Million  135.6  \n",
       "414   Euro Million   45.6  \n",
       "539   Euro Million  118.2  \n",
       "1013  Euro Million   62.8  "
      ]
     },
     "metadata": {},
     "output_type": "display_data"
    },
    {
     "data": {
      "text/html": [
       "<h5>Data Types</h5>"
      ],
      "text/plain": [
       "<IPython.core.display.HTML object>"
      ]
     },
     "metadata": {},
     "output_type": "display_data"
    },
    {
     "data": {
      "text/plain": [
       "Statistic     object\n",
       "Year           int64\n",
       "State         object\n",
       "Unit          object\n",
       "Value        float64\n",
       "dtype: object"
      ]
     },
     "metadata": {},
     "output_type": "display_data"
    },
    {
     "data": {
      "text/html": [
       "<h5>Duplicates</h5>"
      ],
      "text/plain": [
       "<IPython.core.display.HTML object>"
      ]
     },
     "metadata": {},
     "output_type": "display_data"
    },
    {
     "data": {
      "text/html": [
       "<p>Number of duplicate rows: 0</p>"
      ],
      "text/plain": [
       "<IPython.core.display.HTML object>"
      ]
     },
     "metadata": {},
     "output_type": "display_data"
    },
    {
     "data": {
      "text/html": [
       "<h5>Null Values</h5>"
      ],
      "text/plain": [
       "<IPython.core.display.HTML object>"
      ]
     },
     "metadata": {},
     "output_type": "display_data"
    },
    {
     "data": {
      "text/html": [
       "<div>\n",
       "<style scoped>\n",
       "    .dataframe tbody tr th:only-of-type {\n",
       "        vertical-align: middle;\n",
       "    }\n",
       "\n",
       "    .dataframe tbody tr th {\n",
       "        vertical-align: top;\n",
       "    }\n",
       "\n",
       "    .dataframe thead th {\n",
       "        text-align: right;\n",
       "    }\n",
       "</style>\n",
       "<table border=\"1\" class=\"dataframe\">\n",
       "  <thead>\n",
       "    <tr style=\"text-align: right;\">\n",
       "      <th></th>\n",
       "      <th>Missing</th>\n",
       "      <th>% Missing</th>\n",
       "    </tr>\n",
       "  </thead>\n",
       "  <tbody>\n",
       "    <tr>\n",
       "      <th>Value</th>\n",
       "      <td>60</td>\n",
       "      <td>3.472222</td>\n",
       "    </tr>\n",
       "  </tbody>\n",
       "</table>\n",
       "</div>"
      ],
      "text/plain": [
       "       Missing  % Missing\n",
       "Value       60   3.472222"
      ]
     },
     "metadata": {},
     "output_type": "display_data"
    },
    {
     "data": {
      "text/html": [
       "<h5>Single Value Columns</h5>"
      ],
      "text/plain": [
       "<IPython.core.display.HTML object>"
      ]
     },
     "metadata": {},
     "output_type": "display_data"
    },
    {
     "data": {
      "text/html": [
       "<ul><li>The column `State` has only one value. Recommend removing.</li><li>The column `Unit` has only one value. Recommend removing.</li></ul>"
      ],
      "text/plain": [
       "<IPython.core.display.HTML object>"
      ]
     },
     "metadata": {},
     "output_type": "display_data"
    },
    {
     "data": {
      "text/html": [
       "<h5>Columns: Unique value counts</h5>"
      ],
      "text/plain": [
       "<IPython.core.display.HTML object>"
      ]
     },
     "metadata": {},
     "output_type": "display_data"
    },
    {
     "data": {
      "text/html": [
       "<ul><li>The column \"Statistic\" has 54 unique values.</li><li>The column \"Year\" has 32 unique values.</li><li>The column \"State\" has 1 unique values.</li><li>The column \"Unit\" has 1 unique values.</li><li>The column \"Value\" has 1489 unique values.</li></ul>"
      ],
      "text/plain": [
       "<IPython.core.display.HTML object>"
      ]
     },
     "metadata": {},
     "output_type": "display_data"
    },
    {
     "data": {
      "text/html": [
       "<h5>Outlier Analysis</h5>"
      ],
      "text/plain": [
       "<IPython.core.display.HTML object>"
      ]
     },
     "metadata": {},
     "output_type": "display_data"
    },
    {
     "data": {
      "text/html": [
       "<ul><li>The column \"Value\" has 113 outliers. Recommend removing outliers.</li></ul>"
      ],
      "text/plain": [
       "<IPython.core.display.HTML object>"
      ]
     },
     "metadata": {},
     "output_type": "display_data"
    }
   ],
   "source": [
    "filename: str = os.path.basename(filepath)\n",
    "eda_reports.print_dataframe_analysis_report(agriculture_prices_dataframe, filename)"
   ]
  },
  {
   "cell_type": "code",
   "execution_count": 7,
   "id": "3af4728f",
   "metadata": {
    "ExecuteTime": {
     "end_time": "2022-01-27T04:11:35.331704Z",
     "start_time": "2022-01-27T04:11:35.312700Z"
    }
   },
   "outputs": [],
   "source": [
    "agriculture_prices_dataframe.drop([STATE, UNIT], axis=1, inplace=True)"
   ]
  },
  {
   "cell_type": "code",
   "execution_count": 8,
   "id": "ce8e373c",
   "metadata": {
    "ExecuteTime": {
     "end_time": "2022-01-27T04:11:35.363697Z",
     "start_time": "2022-01-27T04:11:35.334703Z"
    }
   },
   "outputs": [
    {
     "data": {
      "text/html": [
       "<div>\n",
       "<style scoped>\n",
       "    .dataframe tbody tr th:only-of-type {\n",
       "        vertical-align: middle;\n",
       "    }\n",
       "\n",
       "    .dataframe tbody tr th {\n",
       "        vertical-align: top;\n",
       "    }\n",
       "\n",
       "    .dataframe thead th {\n",
       "        text-align: right;\n",
       "    }\n",
       "</style>\n",
       "<table border=\"1\" class=\"dataframe\">\n",
       "  <thead>\n",
       "    <tr style=\"text-align: right;\">\n",
       "      <th></th>\n",
       "      <th>Statistic</th>\n",
       "      <th>Year</th>\n",
       "      <th>Value</th>\n",
       "    </tr>\n",
       "  </thead>\n",
       "  <tbody>\n",
       "    <tr>\n",
       "      <th>989</th>\n",
       "      <td>Intermediate Consumption - Fertilisers</td>\n",
       "      <td>2019</td>\n",
       "      <td>578.3</td>\n",
       "    </tr>\n",
       "  </tbody>\n",
       "</table>\n",
       "</div>"
      ],
      "text/plain": [
       "                                  Statistic  Year  Value\n",
       "989  Intermediate Consumption - Fertilisers  2019  578.3"
      ]
     },
     "execution_count": 8,
     "metadata": {},
     "output_type": "execute_result"
    }
   ],
   "source": [
    "agriculture_prices_dataframe.sample()"
   ]
  },
  {
   "cell_type": "markdown",
   "id": "5646f3a6",
   "metadata": {},
   "source": [
    "### Normalizing the table"
   ]
  },
  {
   "cell_type": "code",
   "execution_count": 9,
   "id": "6f3ec0e2",
   "metadata": {
    "ExecuteTime": {
     "end_time": "2022-01-27T04:11:35.395705Z",
     "start_time": "2022-01-27T04:11:35.367702Z"
    }
   },
   "outputs": [],
   "source": [
    "agriculture_prices_dataframe = agriculture_prices_dataframe.pivot_table(\n",
    "    columns=STATISTIC, index=[YEAR], values=VALUE,\n",
    "    dropna=True).reset_index().rename_axis(None, axis=1)"
   ]
  },
  {
   "cell_type": "code",
   "execution_count": 10,
   "id": "f0fea931",
   "metadata": {
    "ExecuteTime": {
     "end_time": "2022-01-27T04:11:35.475697Z",
     "start_time": "2022-01-27T04:11:35.398701Z"
    }
   },
   "outputs": [
    {
     "data": {
      "text/html": [
       "<div>\n",
       "<style scoped>\n",
       "    .dataframe tbody tr th:only-of-type {\n",
       "        vertical-align: middle;\n",
       "    }\n",
       "\n",
       "    .dataframe tbody tr th {\n",
       "        vertical-align: top;\n",
       "    }\n",
       "\n",
       "    .dataframe thead th {\n",
       "        text-align: right;\n",
       "    }\n",
       "</style>\n",
       "<table border=\"1\" class=\"dataframe\">\n",
       "  <thead>\n",
       "    <tr style=\"text-align: right;\">\n",
       "      <th></th>\n",
       "      <th>Year</th>\n",
       "      <th>Agricultural Output at Basic Prices</th>\n",
       "      <th>All Cereals</th>\n",
       "      <th>All Crops</th>\n",
       "      <th>All Livestock</th>\n",
       "      <th>All Livestock Products</th>\n",
       "      <th>All Livestock Products - Milk</th>\n",
       "      <th>All Livestock Products Other Products (excluding Milk)</th>\n",
       "      <th>Compensation of Employees</th>\n",
       "      <th>Contract Work</th>\n",
       "      <th>...</th>\n",
       "      <th>Livestock - Horses</th>\n",
       "      <th>Livestock - Pig</th>\n",
       "      <th>Livestock - Poultry</th>\n",
       "      <th>Livestock - Sheep</th>\n",
       "      <th>Net Value Added at Basic Prices</th>\n",
       "      <th>Operating Surplus</th>\n",
       "      <th>Other Subsidies Less Taxes on Production</th>\n",
       "      <th>Subsidies less Taxes on Products</th>\n",
       "      <th>Subsidies on Products</th>\n",
       "      <th>Taxes on Products</th>\n",
       "    </tr>\n",
       "  </thead>\n",
       "  <tbody>\n",
       "    <tr>\n",
       "      <th>19</th>\n",
       "      <td>2009</td>\n",
       "      <td>5014.0</td>\n",
       "      <td>107.0</td>\n",
       "      <td>1377.9</td>\n",
       "      <td>2222.8</td>\n",
       "      <td>1153.9</td>\n",
       "      <td>1106.5</td>\n",
       "      <td>47.4</td>\n",
       "      <td>427.7</td>\n",
       "      <td>268.7</td>\n",
       "      <td>...</td>\n",
       "      <td>172.7</td>\n",
       "      <td>300.0</td>\n",
       "      <td>115.1</td>\n",
       "      <td>159.4</td>\n",
       "      <td>43.8</td>\n",
       "      <td>1429.0</td>\n",
       "      <td>1812.9</td>\n",
       "      <td>-9.3</td>\n",
       "      <td>30.0</td>\n",
       "      <td>39.3</td>\n",
       "    </tr>\n",
       "  </tbody>\n",
       "</table>\n",
       "<p>1 rows × 55 columns</p>\n",
       "</div>"
      ],
      "text/plain": [
       "    Year  Agricultural Output at Basic Prices  All Cereals  All Crops  \\\n",
       "19  2009                               5014.0        107.0     1377.9   \n",
       "\n",
       "    All Livestock  All Livestock Products  All Livestock Products - Milk  \\\n",
       "19         2222.8                  1153.9                         1106.5   \n",
       "\n",
       "    All Livestock Products Other Products (excluding Milk)  \\\n",
       "19                                               47.4        \n",
       "\n",
       "    Compensation of Employees  Contract Work  ...  Livestock - Horses  \\\n",
       "19                      427.7          268.7  ...               172.7   \n",
       "\n",
       "    Livestock - Pig  Livestock - Poultry  Livestock - Sheep  \\\n",
       "19            300.0                115.1              159.4   \n",
       "\n",
       "    Net Value Added at Basic Prices  Operating Surplus  \\\n",
       "19                             43.8             1429.0   \n",
       "\n",
       "    Other Subsidies Less Taxes on Production  \\\n",
       "19                                    1812.9   \n",
       "\n",
       "    Subsidies less Taxes on Products  Subsidies on Products  Taxes on Products  \n",
       "19                              -9.3                   30.0               39.3  \n",
       "\n",
       "[1 rows x 55 columns]"
      ]
     },
     "execution_count": 10,
     "metadata": {},
     "output_type": "execute_result"
    }
   ],
   "source": [
    "agriculture_prices_dataframe.sample()"
   ]
  },
  {
   "cell_type": "markdown",
   "id": "46b999db",
   "metadata": {},
   "source": [
    "#### Data Type Analysis Quick View"
   ]
  },
  {
   "cell_type": "code",
   "execution_count": 11,
   "id": "1e9b8b91",
   "metadata": {
    "ExecuteTime": {
     "end_time": "2022-01-27T04:11:35.792703Z",
     "start_time": "2022-01-27T04:11:35.477700Z"
    },
    "scrolled": false
   },
   "outputs": [
    {
     "data": {
      "text/html": [
       "<h4>cso-aea01-value-at-current-prices-for-output-input-and-income-in-agriculture.csv</h4>"
      ],
      "text/plain": [
       "<IPython.core.display.HTML object>"
      ]
     },
     "metadata": {},
     "output_type": "display_data"
    },
    {
     "data": {
      "text/html": [
       "<p>Row, Column Count: (32, 55)</p>"
      ],
      "text/plain": [
       "<IPython.core.display.HTML object>"
      ]
     },
     "metadata": {},
     "output_type": "display_data"
    },
    {
     "data": {
      "text/html": [
       "<h5>Sample: Top five rows</h5>"
      ],
      "text/plain": [
       "<IPython.core.display.HTML object>"
      ]
     },
     "metadata": {},
     "output_type": "display_data"
    },
    {
     "data": {
      "text/html": [
       "<div>\n",
       "<style scoped>\n",
       "    .dataframe tbody tr th:only-of-type {\n",
       "        vertical-align: middle;\n",
       "    }\n",
       "\n",
       "    .dataframe tbody tr th {\n",
       "        vertical-align: top;\n",
       "    }\n",
       "\n",
       "    .dataframe thead th {\n",
       "        text-align: right;\n",
       "    }\n",
       "</style>\n",
       "<table border=\"1\" class=\"dataframe\">\n",
       "  <thead>\n",
       "    <tr style=\"text-align: right;\">\n",
       "      <th></th>\n",
       "      <th>Year</th>\n",
       "      <th>Agricultural Output at Basic Prices</th>\n",
       "      <th>All Cereals</th>\n",
       "      <th>All Crops</th>\n",
       "      <th>All Livestock</th>\n",
       "      <th>All Livestock Products</th>\n",
       "      <th>All Livestock Products - Milk</th>\n",
       "      <th>All Livestock Products Other Products (excluding Milk)</th>\n",
       "      <th>Compensation of Employees</th>\n",
       "      <th>Contract Work</th>\n",
       "      <th>...</th>\n",
       "      <th>Livestock - Horses</th>\n",
       "      <th>Livestock - Pig</th>\n",
       "      <th>Livestock - Poultry</th>\n",
       "      <th>Livestock - Sheep</th>\n",
       "      <th>Net Value Added at Basic Prices</th>\n",
       "      <th>Operating Surplus</th>\n",
       "      <th>Other Subsidies Less Taxes on Production</th>\n",
       "      <th>Subsidies less Taxes on Products</th>\n",
       "      <th>Subsidies on Products</th>\n",
       "      <th>Taxes on Products</th>\n",
       "    </tr>\n",
       "  </thead>\n",
       "  <tbody>\n",
       "    <tr>\n",
       "      <th>30</th>\n",
       "      <td>2020</td>\n",
       "      <td>8908.3</td>\n",
       "      <td>289.5</td>\n",
       "      <td>1942.9</td>\n",
       "      <td>3591.8</td>\n",
       "      <td>2832.0</td>\n",
       "      <td>2752.7</td>\n",
       "      <td>79.2</td>\n",
       "      <td>617.5</td>\n",
       "      <td>447.0</td>\n",
       "      <td>...</td>\n",
       "      <td>216.1</td>\n",
       "      <td>601.9</td>\n",
       "      <td>180.0</td>\n",
       "      <td>303.3</td>\n",
       "      <td>2233.8</td>\n",
       "      <td>3262.8</td>\n",
       "      <td>1646.5</td>\n",
       "      <td>94.6</td>\n",
       "      <td>147.2</td>\n",
       "      <td>52.6</td>\n",
       "    </tr>\n",
       "    <tr>\n",
       "      <th>6</th>\n",
       "      <td>1996</td>\n",
       "      <td>6134.7</td>\n",
       "      <td>200.9</td>\n",
       "      <td>1268.7</td>\n",
       "      <td>2318.2</td>\n",
       "      <td>1573.9</td>\n",
       "      <td>1536.0</td>\n",
       "      <td>37.9</td>\n",
       "      <td>343.2</td>\n",
       "      <td>220.9</td>\n",
       "      <td>...</td>\n",
       "      <td>96.9</td>\n",
       "      <td>356.5</td>\n",
       "      <td>140.4</td>\n",
       "      <td>241.8</td>\n",
       "      <td>2518.5</td>\n",
       "      <td>2423.2</td>\n",
       "      <td>247.9</td>\n",
       "      <td>753.0</td>\n",
       "      <td>806.0</td>\n",
       "      <td>53.0</td>\n",
       "    </tr>\n",
       "    <tr>\n",
       "      <th>9</th>\n",
       "      <td>1999</td>\n",
       "      <td>5651.4</td>\n",
       "      <td>164.1</td>\n",
       "      <td>1184.3</td>\n",
       "      <td>2067.9</td>\n",
       "      <td>1438.1</td>\n",
       "      <td>1408.8</td>\n",
       "      <td>29.3</td>\n",
       "      <td>375.0</td>\n",
       "      <td>245.4</td>\n",
       "      <td>...</td>\n",
       "      <td>150.0</td>\n",
       "      <td>251.4</td>\n",
       "      <td>137.8</td>\n",
       "      <td>198.0</td>\n",
       "      <td>1973.9</td>\n",
       "      <td>1930.5</td>\n",
       "      <td>331.6</td>\n",
       "      <td>715.8</td>\n",
       "      <td>743.7</td>\n",
       "      <td>27.9</td>\n",
       "    </tr>\n",
       "    <tr>\n",
       "      <th>19</th>\n",
       "      <td>2009</td>\n",
       "      <td>5014.0</td>\n",
       "      <td>107.0</td>\n",
       "      <td>1377.9</td>\n",
       "      <td>2222.8</td>\n",
       "      <td>1153.9</td>\n",
       "      <td>1106.5</td>\n",
       "      <td>47.4</td>\n",
       "      <td>427.7</td>\n",
       "      <td>268.7</td>\n",
       "      <td>...</td>\n",
       "      <td>172.7</td>\n",
       "      <td>300.0</td>\n",
       "      <td>115.1</td>\n",
       "      <td>159.4</td>\n",
       "      <td>43.8</td>\n",
       "      <td>1429.0</td>\n",
       "      <td>1812.9</td>\n",
       "      <td>-9.3</td>\n",
       "      <td>30.0</td>\n",
       "      <td>39.3</td>\n",
       "    </tr>\n",
       "    <tr>\n",
       "      <th>27</th>\n",
       "      <td>2017</td>\n",
       "      <td>8476.4</td>\n",
       "      <td>237.2</td>\n",
       "      <td>1824.6</td>\n",
       "      <td>3592.4</td>\n",
       "      <td>2668.7</td>\n",
       "      <td>2594.1</td>\n",
       "      <td>74.6</td>\n",
       "      <td>525.6</td>\n",
       "      <td>379.8</td>\n",
       "      <td>...</td>\n",
       "      <td>287.4</td>\n",
       "      <td>516.8</td>\n",
       "      <td>163.1</td>\n",
       "      <td>262.9</td>\n",
       "      <td>2309.2</td>\n",
       "      <td>3422.1</td>\n",
       "      <td>1638.5</td>\n",
       "      <td>11.0</td>\n",
       "      <td>60.5</td>\n",
       "      <td>49.5</td>\n",
       "    </tr>\n",
       "  </tbody>\n",
       "</table>\n",
       "<p>5 rows × 55 columns</p>\n",
       "</div>"
      ],
      "text/plain": [
       "    Year  Agricultural Output at Basic Prices  All Cereals  All Crops  \\\n",
       "30  2020                               8908.3        289.5     1942.9   \n",
       "6   1996                               6134.7        200.9     1268.7   \n",
       "9   1999                               5651.4        164.1     1184.3   \n",
       "19  2009                               5014.0        107.0     1377.9   \n",
       "27  2017                               8476.4        237.2     1824.6   \n",
       "\n",
       "    All Livestock  All Livestock Products  All Livestock Products - Milk  \\\n",
       "30         3591.8                  2832.0                         2752.7   \n",
       "6          2318.2                  1573.9                         1536.0   \n",
       "9          2067.9                  1438.1                         1408.8   \n",
       "19         2222.8                  1153.9                         1106.5   \n",
       "27         3592.4                  2668.7                         2594.1   \n",
       "\n",
       "    All Livestock Products Other Products (excluding Milk)  \\\n",
       "30                                               79.2        \n",
       "6                                                37.9        \n",
       "9                                                29.3        \n",
       "19                                               47.4        \n",
       "27                                               74.6        \n",
       "\n",
       "    Compensation of Employees  Contract Work  ...  Livestock - Horses  \\\n",
       "30                      617.5          447.0  ...               216.1   \n",
       "6                       343.2          220.9  ...                96.9   \n",
       "9                       375.0          245.4  ...               150.0   \n",
       "19                      427.7          268.7  ...               172.7   \n",
       "27                      525.6          379.8  ...               287.4   \n",
       "\n",
       "    Livestock - Pig  Livestock - Poultry  Livestock - Sheep  \\\n",
       "30            601.9                180.0              303.3   \n",
       "6             356.5                140.4              241.8   \n",
       "9             251.4                137.8              198.0   \n",
       "19            300.0                115.1              159.4   \n",
       "27            516.8                163.1              262.9   \n",
       "\n",
       "    Net Value Added at Basic Prices  Operating Surplus  \\\n",
       "30                           2233.8             3262.8   \n",
       "6                            2518.5             2423.2   \n",
       "9                            1973.9             1930.5   \n",
       "19                             43.8             1429.0   \n",
       "27                           2309.2             3422.1   \n",
       "\n",
       "    Other Subsidies Less Taxes on Production  \\\n",
       "30                                    1646.5   \n",
       "6                                      247.9   \n",
       "9                                      331.6   \n",
       "19                                    1812.9   \n",
       "27                                    1638.5   \n",
       "\n",
       "    Subsidies less Taxes on Products  Subsidies on Products  Taxes on Products  \n",
       "30                              94.6                  147.2               52.6  \n",
       "6                              753.0                  806.0               53.0  \n",
       "9                              715.8                  743.7               27.9  \n",
       "19                              -9.3                   30.0               39.3  \n",
       "27                              11.0                   60.5               49.5  \n",
       "\n",
       "[5 rows x 55 columns]"
      ]
     },
     "metadata": {},
     "output_type": "display_data"
    },
    {
     "data": {
      "text/html": [
       "<h5>Data Types</h5>"
      ],
      "text/plain": [
       "<IPython.core.display.HTML object>"
      ]
     },
     "metadata": {},
     "output_type": "display_data"
    },
    {
     "data": {
      "text/plain": [
       "Year                                                                       int64\n",
       "Agricultural Output at Basic Prices                                      float64\n",
       "All Cereals                                                              float64\n",
       "All Crops                                                                float64\n",
       "All Livestock                                                            float64\n",
       "All Livestock Products                                                   float64\n",
       "All Livestock Products - Milk                                            float64\n",
       "All Livestock Products Other Products (excluding Milk)                   float64\n",
       "Compensation of Employees                                                float64\n",
       "Contract Work                                                            float64\n",
       "Crops - Barley                                                           float64\n",
       "Crops - Forage Plants                                                    float64\n",
       "Crops - Fresh Fruit                                                      float64\n",
       "Crops - Mushrooms                                                        float64\n",
       "Crops - Oats                                                             float64\n",
       "Crops - Other Crops                                                      float64\n",
       "Crops - Other Fresh Vegetables                                           float64\n",
       "Crops - Potatoes                                                         float64\n",
       "Crops - Sugar Beet                                                       float64\n",
       "Crops - Turf                                                             float64\n",
       "Crops - Wheat                                                            float64\n",
       "Entrepreneurial Income                                                   float64\n",
       "Factor Income                                                            float64\n",
       "Fixed Capital Consumption                                                float64\n",
       "Fixed Capital Consumption - Farm Buildings                               float64\n",
       "Fixed Capital Consumption - Machinery, Equipment, etc                    float64\n",
       "Goods Output at Producer Prices                                          float64\n",
       "Gross Value Added at Basic Prices                                        float64\n",
       "Interest less FISIM                                                      float64\n",
       "Intermediate Consumption                                                 float64\n",
       "Intermediate Consumption - Contract Work                                 float64\n",
       "Intermediate Consumption - Crop Protection Products                      float64\n",
       "Intermediate Consumption - Energy and Lubricants                         float64\n",
       "Intermediate Consumption - Feeding Stuffs                                float64\n",
       "Intermediate Consumption - Fertilisers                                   float64\n",
       "Intermediate Consumption - Financial Intermediation Services Indirect    float64\n",
       "Intermediate Consumption - Forage Plants                                 float64\n",
       "Intermediate Consumption - Maintenance and Repairs                       float64\n",
       "Intermediate Consumption - Other Goods (Detergents, Small Tools, etc)    float64\n",
       "Intermediate Consumption - Other Goods and Services                      float64\n",
       "Intermediate Consumption - Seeds                                         float64\n",
       "Intermediate Consumption - Services                                      float64\n",
       "Intermediate Consumption - Veterinary Expenses                           float64\n",
       "Land Rental                                                              float64\n",
       "Livestock - Cattle                                                       float64\n",
       "Livestock - Horses                                                       float64\n",
       "Livestock - Pig                                                          float64\n",
       "Livestock - Poultry                                                      float64\n",
       "Livestock - Sheep                                                        float64\n",
       "Net Value Added at Basic Prices                                          float64\n",
       "Operating Surplus                                                        float64\n",
       "Other Subsidies Less Taxes on Production                                 float64\n",
       "Subsidies less Taxes on Products                                         float64\n",
       "Subsidies on Products                                                    float64\n",
       "Taxes on Products                                                        float64\n",
       "dtype: object"
      ]
     },
     "metadata": {},
     "output_type": "display_data"
    },
    {
     "data": {
      "text/html": [
       "<h5>Duplicates</h5>"
      ],
      "text/plain": [
       "<IPython.core.display.HTML object>"
      ]
     },
     "metadata": {},
     "output_type": "display_data"
    },
    {
     "data": {
      "text/html": [
       "<p>Number of duplicate rows: 0</p>"
      ],
      "text/plain": [
       "<IPython.core.display.HTML object>"
      ]
     },
     "metadata": {},
     "output_type": "display_data"
    },
    {
     "data": {
      "text/html": [
       "<h5>Null Values</h5>"
      ],
      "text/plain": [
       "<IPython.core.display.HTML object>"
      ]
     },
     "metadata": {},
     "output_type": "display_data"
    },
    {
     "data": {
      "text/html": [
       "<div>\n",
       "<style scoped>\n",
       "    .dataframe tbody tr th:only-of-type {\n",
       "        vertical-align: middle;\n",
       "    }\n",
       "\n",
       "    .dataframe tbody tr th {\n",
       "        vertical-align: top;\n",
       "    }\n",
       "\n",
       "    .dataframe thead th {\n",
       "        text-align: right;\n",
       "    }\n",
       "</style>\n",
       "<table border=\"1\" class=\"dataframe\">\n",
       "  <thead>\n",
       "    <tr style=\"text-align: right;\">\n",
       "      <th></th>\n",
       "      <th>Missing</th>\n",
       "      <th>% Missing</th>\n",
       "    </tr>\n",
       "  </thead>\n",
       "  <tbody>\n",
       "    <tr>\n",
       "      <th>Intermediate Consumption - Services</th>\n",
       "      <td>17</td>\n",
       "      <td>53.125</td>\n",
       "    </tr>\n",
       "    <tr>\n",
       "      <th>Intermediate Consumption - Other Goods (Detergents, Small Tools, etc)</th>\n",
       "      <td>17</td>\n",
       "      <td>53.125</td>\n",
       "    </tr>\n",
       "    <tr>\n",
       "      <th>Crops - Turf</th>\n",
       "      <td>7</td>\n",
       "      <td>21.875</td>\n",
       "    </tr>\n",
       "    <tr>\n",
       "      <th>Crops - Barley</th>\n",
       "      <td>1</td>\n",
       "      <td>3.125</td>\n",
       "    </tr>\n",
       "    <tr>\n",
       "      <th>Intermediate Consumption - Crop Protection Products</th>\n",
       "      <td>1</td>\n",
       "      <td>3.125</td>\n",
       "    </tr>\n",
       "    <tr>\n",
       "      <th>Subsidies on Products</th>\n",
       "      <td>1</td>\n",
       "      <td>3.125</td>\n",
       "    </tr>\n",
       "    <tr>\n",
       "      <th>Intermediate Consumption - Veterinary Expenses</th>\n",
       "      <td>1</td>\n",
       "      <td>3.125</td>\n",
       "    </tr>\n",
       "    <tr>\n",
       "      <th>Intermediate Consumption - Seeds</th>\n",
       "      <td>1</td>\n",
       "      <td>3.125</td>\n",
       "    </tr>\n",
       "    <tr>\n",
       "      <th>Intermediate Consumption - Other Goods and Services</th>\n",
       "      <td>1</td>\n",
       "      <td>3.125</td>\n",
       "    </tr>\n",
       "    <tr>\n",
       "      <th>Intermediate Consumption - Maintenance and Repairs</th>\n",
       "      <td>1</td>\n",
       "      <td>3.125</td>\n",
       "    </tr>\n",
       "    <tr>\n",
       "      <th>Intermediate Consumption - Financial Intermediation Services Indirect</th>\n",
       "      <td>1</td>\n",
       "      <td>3.125</td>\n",
       "    </tr>\n",
       "    <tr>\n",
       "      <th>Fixed Capital Consumption - Machinery, Equipment, etc</th>\n",
       "      <td>1</td>\n",
       "      <td>3.125</td>\n",
       "    </tr>\n",
       "    <tr>\n",
       "      <th>Crops - Fresh Fruit</th>\n",
       "      <td>1</td>\n",
       "      <td>3.125</td>\n",
       "    </tr>\n",
       "    <tr>\n",
       "      <th>Fixed Capital Consumption - Farm Buildings</th>\n",
       "      <td>1</td>\n",
       "      <td>3.125</td>\n",
       "    </tr>\n",
       "    <tr>\n",
       "      <th>Crops - Wheat</th>\n",
       "      <td>1</td>\n",
       "      <td>3.125</td>\n",
       "    </tr>\n",
       "    <tr>\n",
       "      <th>Crops - Sugar Beet</th>\n",
       "      <td>1</td>\n",
       "      <td>3.125</td>\n",
       "    </tr>\n",
       "    <tr>\n",
       "      <th>Crops - Potatoes</th>\n",
       "      <td>1</td>\n",
       "      <td>3.125</td>\n",
       "    </tr>\n",
       "    <tr>\n",
       "      <th>Crops - Other Fresh Vegetables</th>\n",
       "      <td>1</td>\n",
       "      <td>3.125</td>\n",
       "    </tr>\n",
       "    <tr>\n",
       "      <th>Crops - Other Crops</th>\n",
       "      <td>1</td>\n",
       "      <td>3.125</td>\n",
       "    </tr>\n",
       "    <tr>\n",
       "      <th>Crops - Oats</th>\n",
       "      <td>1</td>\n",
       "      <td>3.125</td>\n",
       "    </tr>\n",
       "    <tr>\n",
       "      <th>Crops - Mushrooms</th>\n",
       "      <td>1</td>\n",
       "      <td>3.125</td>\n",
       "    </tr>\n",
       "    <tr>\n",
       "      <th>Taxes on Products</th>\n",
       "      <td>1</td>\n",
       "      <td>3.125</td>\n",
       "    </tr>\n",
       "  </tbody>\n",
       "</table>\n",
       "</div>"
      ],
      "text/plain": [
       "                                                    Missing  % Missing\n",
       "Intermediate Consumption - Services                      17     53.125\n",
       "Intermediate Consumption - Other Goods (Deterge...       17     53.125\n",
       "Crops - Turf                                              7     21.875\n",
       "Crops - Barley                                            1      3.125\n",
       "Intermediate Consumption - Crop Protection Prod...        1      3.125\n",
       "Subsidies on Products                                     1      3.125\n",
       "Intermediate Consumption - Veterinary Expenses            1      3.125\n",
       "Intermediate Consumption - Seeds                          1      3.125\n",
       "Intermediate Consumption - Other Goods and Serv...        1      3.125\n",
       "Intermediate Consumption - Maintenance and Repairs        1      3.125\n",
       "Intermediate Consumption - Financial Intermedia...        1      3.125\n",
       "Fixed Capital Consumption - Machinery, Equipmen...        1      3.125\n",
       "Crops - Fresh Fruit                                       1      3.125\n",
       "Fixed Capital Consumption - Farm Buildings                1      3.125\n",
       "Crops - Wheat                                             1      3.125\n",
       "Crops - Sugar Beet                                        1      3.125\n",
       "Crops - Potatoes                                          1      3.125\n",
       "Crops - Other Fresh Vegetables                            1      3.125\n",
       "Crops - Other Crops                                       1      3.125\n",
       "Crops - Oats                                              1      3.125\n",
       "Crops - Mushrooms                                         1      3.125\n",
       "Taxes on Products                                         1      3.125"
      ]
     },
     "metadata": {},
     "output_type": "display_data"
    },
    {
     "data": {
      "text/html": [
       "<h5>Single Value Columns</h5>"
      ],
      "text/plain": [
       "<IPython.core.display.HTML object>"
      ]
     },
     "metadata": {},
     "output_type": "display_data"
    },
    {
     "data": {
      "text/html": [
       "<p>No single value columns found.</p>"
      ],
      "text/plain": [
       "<IPython.core.display.HTML object>"
      ]
     },
     "metadata": {},
     "output_type": "display_data"
    },
    {
     "data": {
      "text/html": [
       "<h5>Columns: Unique value counts</h5>"
      ],
      "text/plain": [
       "<IPython.core.display.HTML object>"
      ]
     },
     "metadata": {},
     "output_type": "display_data"
    },
    {
     "data": {
      "text/html": [
       "<ul><li>The column \"Year\" has 32 unique values.</li><li>The column \"Agricultural Output at Basic Prices\" has 32 unique values.</li><li>The column \"All Cereals\" has 32 unique values.</li><li>The column \"All Crops\" has 32 unique values.</li><li>The column \"All Livestock\" has 32 unique values.</li><li>The column \"All Livestock Products\" has 32 unique values.</li><li>The column \"All Livestock Products - Milk\" has 32 unique values.</li><li>The column \"All Livestock Products Other Products (excluding Milk)\" has 31 unique values.</li><li>The column \"Compensation of Employees\" has 32 unique values.</li><li>The column \"Contract Work\" has 31 unique values.</li><li>The column \"Crops - Barley\" has 31 unique values.</li><li>The column \"Crops - Forage Plants\" has 32 unique values.</li><li>The column \"Crops - Fresh Fruit\" has 31 unique values.</li><li>The column \"Crops - Mushrooms\" has 31 unique values.</li><li>The column \"Crops - Oats\" has 27 unique values.</li><li>The column \"Crops - Other Crops\" has 30 unique values.</li><li>The column \"Crops - Other Fresh Vegetables\" has 31 unique values.</li><li>The column \"Crops - Potatoes\" has 31 unique values.</li><li>The column \"Crops - Sugar Beet\" has 16 unique values.</li><li>The column \"Crops - Turf\" has 23 unique values.</li><li>The column \"Crops - Wheat\" has 31 unique values.</li><li>The column \"Entrepreneurial Income\" has 32 unique values.</li><li>The column \"Factor Income\" has 32 unique values.</li><li>The column \"Fixed Capital Consumption\" has 31 unique values.</li><li>The column \"Fixed Capital Consumption - Farm Buildings\" has 31 unique values.</li><li>The column \"Fixed Capital Consumption - Machinery, Equipment, etc\" has 31 unique values.</li><li>The column \"Goods Output at Producer Prices\" has 32 unique values.</li><li>The column \"Gross Value Added at Basic Prices\" has 32 unique values.</li><li>The column \"Interest less FISIM\" has 32 unique values.</li><li>The column \"Intermediate Consumption\" has 32 unique values.</li><li>The column \"Intermediate Consumption - Contract Work\" has 31 unique values.</li><li>The column \"Intermediate Consumption - Crop Protection Products\" has 31 unique values.</li><li>The column \"Intermediate Consumption - Energy and Lubricants\" has 32 unique values.</li><li>The column \"Intermediate Consumption - Feeding Stuffs\" has 32 unique values.</li><li>The column \"Intermediate Consumption - Fertilisers\" has 32 unique values.</li><li>The column \"Intermediate Consumption - Financial Intermediation Services Indirect\" has 28 unique values.</li><li>The column \"Intermediate Consumption - Forage Plants\" has 32 unique values.</li><li>The column \"Intermediate Consumption - Maintenance and Repairs\" has 31 unique values.</li><li>The column \"Intermediate Consumption - Other Goods (Detergents, Small Tools, etc)\" has 15 unique values.</li><li>The column \"Intermediate Consumption - Other Goods and Services\" has 31 unique values.</li><li>The column \"Intermediate Consumption - Seeds\" has 31 unique values.</li><li>The column \"Intermediate Consumption - Services\" has 15 unique values.</li><li>The column \"Intermediate Consumption - Veterinary Expenses\" has 31 unique values.</li><li>The column \"Land Rental\" has 31 unique values.</li><li>The column \"Livestock - Cattle\" has 32 unique values.</li><li>The column \"Livestock - Horses\" has 32 unique values.</li><li>The column \"Livestock - Pig\" has 32 unique values.</li><li>The column \"Livestock - Poultry\" has 31 unique values.</li><li>The column \"Livestock - Sheep\" has 32 unique values.</li><li>The column \"Net Value Added at Basic Prices\" has 32 unique values.</li><li>The column \"Operating Surplus\" has 32 unique values.</li><li>The column \"Other Subsidies Less Taxes on Production\" has 32 unique values.</li><li>The column \"Subsidies less Taxes on Products\" has 32 unique values.</li><li>The column \"Subsidies on Products\" has 31 unique values.</li><li>The column \"Taxes on Products\" has 31 unique values.</li></ul>"
      ],
      "text/plain": [
       "<IPython.core.display.HTML object>"
      ]
     },
     "metadata": {},
     "output_type": "display_data"
    },
    {
     "data": {
      "text/html": [
       "<h5>Outlier Analysis</h5>"
      ],
      "text/plain": [
       "<IPython.core.display.HTML object>"
      ]
     },
     "metadata": {},
     "output_type": "display_data"
    },
    {
     "data": {
      "text/html": [
       "<ul><li>The column \"Agricultural Output at Basic Prices\" has 1 outlier. Recommend removing outlier.</li><li>The column \"All Livestock Products\" has 5 outliers. Recommend removing outliers.</li><li>The column \"All Livestock Products - Milk\" has 5 outliers. Recommend removing outliers.</li><li>The column \"Crops - Mushrooms\" has 4 outliers. Recommend removing outliers.</li><li>The column \"Crops - Potatoes\" has 1 outlier. Recommend removing outlier.</li><li>The column \"Crops - Turf\" has 4 outliers. Recommend removing outliers.</li><li>The column \"Crops - Wheat\" has 3 outliers. Recommend removing outliers.</li><li>The column \"Entrepreneurial Income\" has 4 outliers. Recommend removing outliers.</li><li>The column \"Factor Income\" has 3 outliers. Recommend removing outliers.</li><li>The column \"Intermediate Consumption - Seeds\" has 1 outlier. Recommend removing outlier.</li><li>The column \"Land Rental\" has 2 outliers. Recommend removing outliers.</li><li>The column \"Livestock - Poultry\" has 1 outlier. Recommend removing outlier.</li><li>The column \"Livestock - Sheep\" has 1 outlier. Recommend removing outlier.</li><li>The column \"Operating Surplus\" has 4 outliers. Recommend removing outliers.</li><li>The column \"Taxes on Products\" has 1 outlier. Recommend removing outlier.</li></ul>"
      ],
      "text/plain": [
       "<IPython.core.display.HTML object>"
      ]
     },
     "metadata": {},
     "output_type": "display_data"
    }
   ],
   "source": [
    "eda_reports.print_dataframe_analysis_report(agriculture_prices_dataframe, filename)"
   ]
  },
  {
   "cell_type": "markdown",
   "id": "635e0242",
   "metadata": {},
   "source": [
    "#### Examine the null values"
   ]
  },
  {
   "cell_type": "code",
   "execution_count": 12,
   "id": "488f7233",
   "metadata": {
    "ExecuteTime": {
     "end_time": "2022-01-27T04:11:35.887702Z",
     "start_time": "2022-01-27T04:11:35.794700Z"
    }
   },
   "outputs": [
    {
     "data": {
      "text/html": [
       "<div>\n",
       "<style scoped>\n",
       "    .dataframe tbody tr th:only-of-type {\n",
       "        vertical-align: middle;\n",
       "    }\n",
       "\n",
       "    .dataframe tbody tr th {\n",
       "        vertical-align: top;\n",
       "    }\n",
       "\n",
       "    .dataframe thead th {\n",
       "        text-align: right;\n",
       "    }\n",
       "</style>\n",
       "<table border=\"1\" class=\"dataframe\">\n",
       "  <thead>\n",
       "    <tr style=\"text-align: right;\">\n",
       "      <th></th>\n",
       "      <th>Year</th>\n",
       "      <th>Crops - Barley</th>\n",
       "      <th>Crops - Fresh Fruit</th>\n",
       "      <th>Crops - Mushrooms</th>\n",
       "      <th>Crops - Oats</th>\n",
       "      <th>Crops - Other Crops</th>\n",
       "      <th>Crops - Other Fresh Vegetables</th>\n",
       "      <th>Crops - Potatoes</th>\n",
       "      <th>Crops - Sugar Beet</th>\n",
       "      <th>Crops - Turf</th>\n",
       "      <th>...</th>\n",
       "      <th>Intermediate Consumption - Crop Protection Products</th>\n",
       "      <th>Intermediate Consumption - Financial Intermediation Services Indirect</th>\n",
       "      <th>Intermediate Consumption - Maintenance and Repairs</th>\n",
       "      <th>Intermediate Consumption - Other Goods (Detergents, Small Tools, etc)</th>\n",
       "      <th>Intermediate Consumption - Other Goods and Services</th>\n",
       "      <th>Intermediate Consumption - Seeds</th>\n",
       "      <th>Intermediate Consumption - Services</th>\n",
       "      <th>Intermediate Consumption - Veterinary Expenses</th>\n",
       "      <th>Subsidies on Products</th>\n",
       "      <th>Taxes on Products</th>\n",
       "    </tr>\n",
       "  </thead>\n",
       "  <tbody>\n",
       "    <tr>\n",
       "      <th>15</th>\n",
       "      <td>2005</td>\n",
       "      <td>67.2</td>\n",
       "      <td>34.0</td>\n",
       "      <td>110.0</td>\n",
       "      <td>6.9</td>\n",
       "      <td>51.5</td>\n",
       "      <td>89.3</td>\n",
       "      <td>78.8</td>\n",
       "      <td>66.7</td>\n",
       "      <td>32.7</td>\n",
       "      <td>...</td>\n",
       "      <td>55.9</td>\n",
       "      <td>91.0</td>\n",
       "      <td>369.4</td>\n",
       "      <td>NaN</td>\n",
       "      <td>357.9</td>\n",
       "      <td>85.5</td>\n",
       "      <td>NaN</td>\n",
       "      <td>209.5</td>\n",
       "      <td>453.4</td>\n",
       "      <td>54.2</td>\n",
       "    </tr>\n",
       "    <tr>\n",
       "      <th>16</th>\n",
       "      <td>2006</td>\n",
       "      <td>85.1</td>\n",
       "      <td>40.8</td>\n",
       "      <td>99.9</td>\n",
       "      <td>12.8</td>\n",
       "      <td>53.7</td>\n",
       "      <td>89.6</td>\n",
       "      <td>104.2</td>\n",
       "      <td>0.0</td>\n",
       "      <td>35.9</td>\n",
       "      <td>...</td>\n",
       "      <td>46.4</td>\n",
       "      <td>110.0</td>\n",
       "      <td>377.7</td>\n",
       "      <td>NaN</td>\n",
       "      <td>361.8</td>\n",
       "      <td>92.6</td>\n",
       "      <td>NaN</td>\n",
       "      <td>220.5</td>\n",
       "      <td>3.8</td>\n",
       "      <td>36.8</td>\n",
       "    </tr>\n",
       "    <tr>\n",
       "      <th>17</th>\n",
       "      <td>2007</td>\n",
       "      <td>137.7</td>\n",
       "      <td>33.0</td>\n",
       "      <td>99.6</td>\n",
       "      <td>20.6</td>\n",
       "      <td>62.7</td>\n",
       "      <td>94.8</td>\n",
       "      <td>103.9</td>\n",
       "      <td>0.0</td>\n",
       "      <td>32.8</td>\n",
       "      <td>...</td>\n",
       "      <td>50.9</td>\n",
       "      <td>111.0</td>\n",
       "      <td>393.3</td>\n",
       "      <td>NaN</td>\n",
       "      <td>370.6</td>\n",
       "      <td>105.6</td>\n",
       "      <td>NaN</td>\n",
       "      <td>225.5</td>\n",
       "      <td>0.7</td>\n",
       "      <td>41.1</td>\n",
       "    </tr>\n",
       "    <tr>\n",
       "      <th>18</th>\n",
       "      <td>2008</td>\n",
       "      <td>113.6</td>\n",
       "      <td>33.2</td>\n",
       "      <td>102.8</td>\n",
       "      <td>11.2</td>\n",
       "      <td>62.8</td>\n",
       "      <td>94.7</td>\n",
       "      <td>79.9</td>\n",
       "      <td>0.0</td>\n",
       "      <td>33.2</td>\n",
       "      <td>...</td>\n",
       "      <td>56.7</td>\n",
       "      <td>124.0</td>\n",
       "      <td>400.5</td>\n",
       "      <td>NaN</td>\n",
       "      <td>386.8</td>\n",
       "      <td>110.5</td>\n",
       "      <td>NaN</td>\n",
       "      <td>224.2</td>\n",
       "      <td>32.4</td>\n",
       "      <td>50.7</td>\n",
       "    </tr>\n",
       "    <tr>\n",
       "      <th>19</th>\n",
       "      <td>2009</td>\n",
       "      <td>63.9</td>\n",
       "      <td>32.5</td>\n",
       "      <td>98.8</td>\n",
       "      <td>9.2</td>\n",
       "      <td>57.3</td>\n",
       "      <td>108.4</td>\n",
       "      <td>86.6</td>\n",
       "      <td>0.0</td>\n",
       "      <td>34.8</td>\n",
       "      <td>...</td>\n",
       "      <td>47.6</td>\n",
       "      <td>87.0</td>\n",
       "      <td>399.7</td>\n",
       "      <td>NaN</td>\n",
       "      <td>416.3</td>\n",
       "      <td>86.7</td>\n",
       "      <td>NaN</td>\n",
       "      <td>237.0</td>\n",
       "      <td>30.0</td>\n",
       "      <td>39.3</td>\n",
       "    </tr>\n",
       "    <tr>\n",
       "      <th>20</th>\n",
       "      <td>2010</td>\n",
       "      <td>118.3</td>\n",
       "      <td>35.2</td>\n",
       "      <td>98.5</td>\n",
       "      <td>14.6</td>\n",
       "      <td>58.4</td>\n",
       "      <td>87.9</td>\n",
       "      <td>117.6</td>\n",
       "      <td>0.0</td>\n",
       "      <td>34.2</td>\n",
       "      <td>...</td>\n",
       "      <td>54.1</td>\n",
       "      <td>53.0</td>\n",
       "      <td>418.5</td>\n",
       "      <td>NaN</td>\n",
       "      <td>440.0</td>\n",
       "      <td>51.7</td>\n",
       "      <td>NaN</td>\n",
       "      <td>232.7</td>\n",
       "      <td>31.8</td>\n",
       "      <td>42.3</td>\n",
       "    </tr>\n",
       "    <tr>\n",
       "      <th>21</th>\n",
       "      <td>2011</td>\n",
       "      <td>163.2</td>\n",
       "      <td>34.9</td>\n",
       "      <td>100.2</td>\n",
       "      <td>20.7</td>\n",
       "      <td>72.1</td>\n",
       "      <td>90.7</td>\n",
       "      <td>85.5</td>\n",
       "      <td>0.0</td>\n",
       "      <td>35.0</td>\n",
       "      <td>...</td>\n",
       "      <td>58.3</td>\n",
       "      <td>62.8</td>\n",
       "      <td>428.3</td>\n",
       "      <td>NaN</td>\n",
       "      <td>450.7</td>\n",
       "      <td>56.3</td>\n",
       "      <td>NaN</td>\n",
       "      <td>250.9</td>\n",
       "      <td>31.0</td>\n",
       "      <td>42.0</td>\n",
       "    </tr>\n",
       "    <tr>\n",
       "      <th>22</th>\n",
       "      <td>2012</td>\n",
       "      <td>209.7</td>\n",
       "      <td>46.4</td>\n",
       "      <td>111.9</td>\n",
       "      <td>24.4</td>\n",
       "      <td>64.3</td>\n",
       "      <td>83.5</td>\n",
       "      <td>103.2</td>\n",
       "      <td>0.0</td>\n",
       "      <td>32.6</td>\n",
       "      <td>...</td>\n",
       "      <td>66.2</td>\n",
       "      <td>58.0</td>\n",
       "      <td>445.8</td>\n",
       "      <td>NaN</td>\n",
       "      <td>444.4</td>\n",
       "      <td>63.6</td>\n",
       "      <td>NaN</td>\n",
       "      <td>282.6</td>\n",
       "      <td>28.5</td>\n",
       "      <td>56.7</td>\n",
       "    </tr>\n",
       "    <tr>\n",
       "      <th>23</th>\n",
       "      <td>2013</td>\n",
       "      <td>207.3</td>\n",
       "      <td>48.9</td>\n",
       "      <td>121.5</td>\n",
       "      <td>24.9</td>\n",
       "      <td>60.1</td>\n",
       "      <td>87.7</td>\n",
       "      <td>164.3</td>\n",
       "      <td>0.0</td>\n",
       "      <td>0.0</td>\n",
       "      <td>...</td>\n",
       "      <td>59.0</td>\n",
       "      <td>52.7</td>\n",
       "      <td>441.4</td>\n",
       "      <td>NaN</td>\n",
       "      <td>453.5</td>\n",
       "      <td>75.5</td>\n",
       "      <td>NaN</td>\n",
       "      <td>285.1</td>\n",
       "      <td>9.4</td>\n",
       "      <td>49.8</td>\n",
       "    </tr>\n",
       "    <tr>\n",
       "      <th>24</th>\n",
       "      <td>2014</td>\n",
       "      <td>196.3</td>\n",
       "      <td>49.9</td>\n",
       "      <td>133.2</td>\n",
       "      <td>14.8</td>\n",
       "      <td>59.0</td>\n",
       "      <td>93.9</td>\n",
       "      <td>89.2</td>\n",
       "      <td>0.0</td>\n",
       "      <td>0.0</td>\n",
       "      <td>...</td>\n",
       "      <td>69.2</td>\n",
       "      <td>59.1</td>\n",
       "      <td>452.3</td>\n",
       "      <td>NaN</td>\n",
       "      <td>473.1</td>\n",
       "      <td>67.2</td>\n",
       "      <td>NaN</td>\n",
       "      <td>286.0</td>\n",
       "      <td>28.8</td>\n",
       "      <td>62.5</td>\n",
       "    </tr>\n",
       "    <tr>\n",
       "      <th>25</th>\n",
       "      <td>2015</td>\n",
       "      <td>174.0</td>\n",
       "      <td>50.8</td>\n",
       "      <td>137.0</td>\n",
       "      <td>25.5</td>\n",
       "      <td>65.2</td>\n",
       "      <td>100.0</td>\n",
       "      <td>117.7</td>\n",
       "      <td>0.0</td>\n",
       "      <td>NaN</td>\n",
       "      <td>...</td>\n",
       "      <td>74.8</td>\n",
       "      <td>116.5</td>\n",
       "      <td>431.0</td>\n",
       "      <td>NaN</td>\n",
       "      <td>482.0</td>\n",
       "      <td>68.3</td>\n",
       "      <td>NaN</td>\n",
       "      <td>268.9</td>\n",
       "      <td>43.2</td>\n",
       "      <td>126.2</td>\n",
       "    </tr>\n",
       "    <tr>\n",
       "      <th>26</th>\n",
       "      <td>2016</td>\n",
       "      <td>146.9</td>\n",
       "      <td>51.1</td>\n",
       "      <td>121.7</td>\n",
       "      <td>20.8</td>\n",
       "      <td>72.1</td>\n",
       "      <td>106.3</td>\n",
       "      <td>136.0</td>\n",
       "      <td>0.0</td>\n",
       "      <td>NaN</td>\n",
       "      <td>...</td>\n",
       "      <td>68.8</td>\n",
       "      <td>157.6</td>\n",
       "      <td>451.4</td>\n",
       "      <td>NaN</td>\n",
       "      <td>512.1</td>\n",
       "      <td>70.2</td>\n",
       "      <td>NaN</td>\n",
       "      <td>289.9</td>\n",
       "      <td>55.9</td>\n",
       "      <td>48.8</td>\n",
       "    </tr>\n",
       "    <tr>\n",
       "      <th>27</th>\n",
       "      <td>2017</td>\n",
       "      <td>150.1</td>\n",
       "      <td>54.4</td>\n",
       "      <td>118.2</td>\n",
       "      <td>21.3</td>\n",
       "      <td>79.2</td>\n",
       "      <td>103.4</td>\n",
       "      <td>126.5</td>\n",
       "      <td>0.0</td>\n",
       "      <td>NaN</td>\n",
       "      <td>...</td>\n",
       "      <td>82.6</td>\n",
       "      <td>164.5</td>\n",
       "      <td>473.5</td>\n",
       "      <td>NaN</td>\n",
       "      <td>517.8</td>\n",
       "      <td>67.4</td>\n",
       "      <td>NaN</td>\n",
       "      <td>303.0</td>\n",
       "      <td>60.5</td>\n",
       "      <td>49.5</td>\n",
       "    </tr>\n",
       "    <tr>\n",
       "      <th>28</th>\n",
       "      <td>2018</td>\n",
       "      <td>197.2</td>\n",
       "      <td>51.3</td>\n",
       "      <td>117.1</td>\n",
       "      <td>21.6</td>\n",
       "      <td>80.5</td>\n",
       "      <td>109.1</td>\n",
       "      <td>139.3</td>\n",
       "      <td>0.0</td>\n",
       "      <td>NaN</td>\n",
       "      <td>...</td>\n",
       "      <td>73.3</td>\n",
       "      <td>132.7</td>\n",
       "      <td>474.0</td>\n",
       "      <td>NaN</td>\n",
       "      <td>515.2</td>\n",
       "      <td>74.6</td>\n",
       "      <td>NaN</td>\n",
       "      <td>308.5</td>\n",
       "      <td>65.1</td>\n",
       "      <td>51.2</td>\n",
       "    </tr>\n",
       "    <tr>\n",
       "      <th>29</th>\n",
       "      <td>2019</td>\n",
       "      <td>218.7</td>\n",
       "      <td>55.1</td>\n",
       "      <td>119.2</td>\n",
       "      <td>31.1</td>\n",
       "      <td>82.3</td>\n",
       "      <td>108.1</td>\n",
       "      <td>156.3</td>\n",
       "      <td>0.0</td>\n",
       "      <td>NaN</td>\n",
       "      <td>...</td>\n",
       "      <td>80.7</td>\n",
       "      <td>134.6</td>\n",
       "      <td>489.9</td>\n",
       "      <td>NaN</td>\n",
       "      <td>553.4</td>\n",
       "      <td>85.6</td>\n",
       "      <td>NaN</td>\n",
       "      <td>309.2</td>\n",
       "      <td>150.6</td>\n",
       "      <td>51.1</td>\n",
       "    </tr>\n",
       "    <tr>\n",
       "      <th>30</th>\n",
       "      <td>2020</td>\n",
       "      <td>215.9</td>\n",
       "      <td>56.1</td>\n",
       "      <td>123.8</td>\n",
       "      <td>28.1</td>\n",
       "      <td>96.7</td>\n",
       "      <td>115.5</td>\n",
       "      <td>118.3</td>\n",
       "      <td>0.0</td>\n",
       "      <td>NaN</td>\n",
       "      <td>...</td>\n",
       "      <td>76.9</td>\n",
       "      <td>114.5</td>\n",
       "      <td>539.2</td>\n",
       "      <td>NaN</td>\n",
       "      <td>518.4</td>\n",
       "      <td>74.5</td>\n",
       "      <td>NaN</td>\n",
       "      <td>325.8</td>\n",
       "      <td>147.2</td>\n",
       "      <td>52.6</td>\n",
       "    </tr>\n",
       "    <tr>\n",
       "      <th>31</th>\n",
       "      <td>2021</td>\n",
       "      <td>NaN</td>\n",
       "      <td>NaN</td>\n",
       "      <td>NaN</td>\n",
       "      <td>NaN</td>\n",
       "      <td>NaN</td>\n",
       "      <td>NaN</td>\n",
       "      <td>NaN</td>\n",
       "      <td>NaN</td>\n",
       "      <td>NaN</td>\n",
       "      <td>...</td>\n",
       "      <td>NaN</td>\n",
       "      <td>NaN</td>\n",
       "      <td>NaN</td>\n",
       "      <td>NaN</td>\n",
       "      <td>NaN</td>\n",
       "      <td>NaN</td>\n",
       "      <td>NaN</td>\n",
       "      <td>NaN</td>\n",
       "      <td>NaN</td>\n",
       "      <td>NaN</td>\n",
       "    </tr>\n",
       "  </tbody>\n",
       "</table>\n",
       "<p>17 rows × 23 columns</p>\n",
       "</div>"
      ],
      "text/plain": [
       "    Year  Crops - Barley  Crops - Fresh Fruit  Crops - Mushrooms  \\\n",
       "15  2005            67.2                 34.0              110.0   \n",
       "16  2006            85.1                 40.8               99.9   \n",
       "17  2007           137.7                 33.0               99.6   \n",
       "18  2008           113.6                 33.2              102.8   \n",
       "19  2009            63.9                 32.5               98.8   \n",
       "20  2010           118.3                 35.2               98.5   \n",
       "21  2011           163.2                 34.9              100.2   \n",
       "22  2012           209.7                 46.4              111.9   \n",
       "23  2013           207.3                 48.9              121.5   \n",
       "24  2014           196.3                 49.9              133.2   \n",
       "25  2015           174.0                 50.8              137.0   \n",
       "26  2016           146.9                 51.1              121.7   \n",
       "27  2017           150.1                 54.4              118.2   \n",
       "28  2018           197.2                 51.3              117.1   \n",
       "29  2019           218.7                 55.1              119.2   \n",
       "30  2020           215.9                 56.1              123.8   \n",
       "31  2021             NaN                  NaN                NaN   \n",
       "\n",
       "    Crops - Oats  Crops - Other Crops  Crops - Other Fresh Vegetables  \\\n",
       "15           6.9                 51.5                            89.3   \n",
       "16          12.8                 53.7                            89.6   \n",
       "17          20.6                 62.7                            94.8   \n",
       "18          11.2                 62.8                            94.7   \n",
       "19           9.2                 57.3                           108.4   \n",
       "20          14.6                 58.4                            87.9   \n",
       "21          20.7                 72.1                            90.7   \n",
       "22          24.4                 64.3                            83.5   \n",
       "23          24.9                 60.1                            87.7   \n",
       "24          14.8                 59.0                            93.9   \n",
       "25          25.5                 65.2                           100.0   \n",
       "26          20.8                 72.1                           106.3   \n",
       "27          21.3                 79.2                           103.4   \n",
       "28          21.6                 80.5                           109.1   \n",
       "29          31.1                 82.3                           108.1   \n",
       "30          28.1                 96.7                           115.5   \n",
       "31           NaN                  NaN                             NaN   \n",
       "\n",
       "    Crops - Potatoes  Crops - Sugar Beet  Crops - Turf  ...  \\\n",
       "15              78.8                66.7          32.7  ...   \n",
       "16             104.2                 0.0          35.9  ...   \n",
       "17             103.9                 0.0          32.8  ...   \n",
       "18              79.9                 0.0          33.2  ...   \n",
       "19              86.6                 0.0          34.8  ...   \n",
       "20             117.6                 0.0          34.2  ...   \n",
       "21              85.5                 0.0          35.0  ...   \n",
       "22             103.2                 0.0          32.6  ...   \n",
       "23             164.3                 0.0           0.0  ...   \n",
       "24              89.2                 0.0           0.0  ...   \n",
       "25             117.7                 0.0           NaN  ...   \n",
       "26             136.0                 0.0           NaN  ...   \n",
       "27             126.5                 0.0           NaN  ...   \n",
       "28             139.3                 0.0           NaN  ...   \n",
       "29             156.3                 0.0           NaN  ...   \n",
       "30             118.3                 0.0           NaN  ...   \n",
       "31               NaN                 NaN           NaN  ...   \n",
       "\n",
       "    Intermediate Consumption - Crop Protection Products  \\\n",
       "15                                               55.9     \n",
       "16                                               46.4     \n",
       "17                                               50.9     \n",
       "18                                               56.7     \n",
       "19                                               47.6     \n",
       "20                                               54.1     \n",
       "21                                               58.3     \n",
       "22                                               66.2     \n",
       "23                                               59.0     \n",
       "24                                               69.2     \n",
       "25                                               74.8     \n",
       "26                                               68.8     \n",
       "27                                               82.6     \n",
       "28                                               73.3     \n",
       "29                                               80.7     \n",
       "30                                               76.9     \n",
       "31                                                NaN     \n",
       "\n",
       "    Intermediate Consumption - Financial Intermediation Services Indirect  \\\n",
       "15                                               91.0                       \n",
       "16                                              110.0                       \n",
       "17                                              111.0                       \n",
       "18                                              124.0                       \n",
       "19                                               87.0                       \n",
       "20                                               53.0                       \n",
       "21                                               62.8                       \n",
       "22                                               58.0                       \n",
       "23                                               52.7                       \n",
       "24                                               59.1                       \n",
       "25                                              116.5                       \n",
       "26                                              157.6                       \n",
       "27                                              164.5                       \n",
       "28                                              132.7                       \n",
       "29                                              134.6                       \n",
       "30                                              114.5                       \n",
       "31                                                NaN                       \n",
       "\n",
       "    Intermediate Consumption - Maintenance and Repairs  \\\n",
       "15                                              369.4    \n",
       "16                                              377.7    \n",
       "17                                              393.3    \n",
       "18                                              400.5    \n",
       "19                                              399.7    \n",
       "20                                              418.5    \n",
       "21                                              428.3    \n",
       "22                                              445.8    \n",
       "23                                              441.4    \n",
       "24                                              452.3    \n",
       "25                                              431.0    \n",
       "26                                              451.4    \n",
       "27                                              473.5    \n",
       "28                                              474.0    \n",
       "29                                              489.9    \n",
       "30                                              539.2    \n",
       "31                                                NaN    \n",
       "\n",
       "    Intermediate Consumption - Other Goods (Detergents, Small Tools, etc)  \\\n",
       "15                                                NaN                       \n",
       "16                                                NaN                       \n",
       "17                                                NaN                       \n",
       "18                                                NaN                       \n",
       "19                                                NaN                       \n",
       "20                                                NaN                       \n",
       "21                                                NaN                       \n",
       "22                                                NaN                       \n",
       "23                                                NaN                       \n",
       "24                                                NaN                       \n",
       "25                                                NaN                       \n",
       "26                                                NaN                       \n",
       "27                                                NaN                       \n",
       "28                                                NaN                       \n",
       "29                                                NaN                       \n",
       "30                                                NaN                       \n",
       "31                                                NaN                       \n",
       "\n",
       "    Intermediate Consumption - Other Goods and Services  \\\n",
       "15                                              357.9     \n",
       "16                                              361.8     \n",
       "17                                              370.6     \n",
       "18                                              386.8     \n",
       "19                                              416.3     \n",
       "20                                              440.0     \n",
       "21                                              450.7     \n",
       "22                                              444.4     \n",
       "23                                              453.5     \n",
       "24                                              473.1     \n",
       "25                                              482.0     \n",
       "26                                              512.1     \n",
       "27                                              517.8     \n",
       "28                                              515.2     \n",
       "29                                              553.4     \n",
       "30                                              518.4     \n",
       "31                                                NaN     \n",
       "\n",
       "    Intermediate Consumption - Seeds  Intermediate Consumption - Services  \\\n",
       "15                              85.5                                  NaN   \n",
       "16                              92.6                                  NaN   \n",
       "17                             105.6                                  NaN   \n",
       "18                             110.5                                  NaN   \n",
       "19                              86.7                                  NaN   \n",
       "20                              51.7                                  NaN   \n",
       "21                              56.3                                  NaN   \n",
       "22                              63.6                                  NaN   \n",
       "23                              75.5                                  NaN   \n",
       "24                              67.2                                  NaN   \n",
       "25                              68.3                                  NaN   \n",
       "26                              70.2                                  NaN   \n",
       "27                              67.4                                  NaN   \n",
       "28                              74.6                                  NaN   \n",
       "29                              85.6                                  NaN   \n",
       "30                              74.5                                  NaN   \n",
       "31                               NaN                                  NaN   \n",
       "\n",
       "    Intermediate Consumption - Veterinary Expenses  Subsidies on Products  \\\n",
       "15                                           209.5                  453.4   \n",
       "16                                           220.5                    3.8   \n",
       "17                                           225.5                    0.7   \n",
       "18                                           224.2                   32.4   \n",
       "19                                           237.0                   30.0   \n",
       "20                                           232.7                   31.8   \n",
       "21                                           250.9                   31.0   \n",
       "22                                           282.6                   28.5   \n",
       "23                                           285.1                    9.4   \n",
       "24                                           286.0                   28.8   \n",
       "25                                           268.9                   43.2   \n",
       "26                                           289.9                   55.9   \n",
       "27                                           303.0                   60.5   \n",
       "28                                           308.5                   65.1   \n",
       "29                                           309.2                  150.6   \n",
       "30                                           325.8                  147.2   \n",
       "31                                             NaN                    NaN   \n",
       "\n",
       "    Taxes on Products  \n",
       "15               54.2  \n",
       "16               36.8  \n",
       "17               41.1  \n",
       "18               50.7  \n",
       "19               39.3  \n",
       "20               42.3  \n",
       "21               42.0  \n",
       "22               56.7  \n",
       "23               49.8  \n",
       "24               62.5  \n",
       "25              126.2  \n",
       "26               48.8  \n",
       "27               49.5  \n",
       "28               51.2  \n",
       "29               51.1  \n",
       "30               52.6  \n",
       "31                NaN  \n",
       "\n",
       "[17 rows x 23 columns]"
      ]
     },
     "metadata": {},
     "output_type": "display_data"
    }
   ],
   "source": [
    "eda_reports.print_columns_rows_with_missing_values(agriculture_prices_dataframe, [YEAR])"
   ]
  },
  {
   "cell_type": "markdown",
   "id": "78931d92",
   "metadata": {},
   "source": [
    "The record for the year 2021 seems to be largely incomplete. "
   ]
  },
  {
   "cell_type": "code",
   "execution_count": 13,
   "id": "aaf76a95",
   "metadata": {
    "ExecuteTime": {
     "end_time": "2022-01-27T04:11:35.903700Z",
     "start_time": "2022-01-27T04:11:35.890709Z"
    }
   },
   "outputs": [],
   "source": [
    "agriculture_prices1_dataframe = agriculture_prices_dataframe[(agriculture_prices_dataframe[YEAR] != 2021)]"
   ]
  },
  {
   "cell_type": "code",
   "execution_count": 14,
   "id": "8303b1c7",
   "metadata": {
    "ExecuteTime": {
     "end_time": "2022-01-27T04:11:35.935697Z",
     "start_time": "2022-01-27T04:11:35.905699Z"
    },
    "scrolled": true
   },
   "outputs": [
    {
     "data": {
      "text/html": [
       "<h5>Null Values</h5>"
      ],
      "text/plain": [
       "<IPython.core.display.HTML object>"
      ]
     },
     "metadata": {},
     "output_type": "display_data"
    },
    {
     "data": {
      "text/html": [
       "<div>\n",
       "<style scoped>\n",
       "    .dataframe tbody tr th:only-of-type {\n",
       "        vertical-align: middle;\n",
       "    }\n",
       "\n",
       "    .dataframe tbody tr th {\n",
       "        vertical-align: top;\n",
       "    }\n",
       "\n",
       "    .dataframe thead th {\n",
       "        text-align: right;\n",
       "    }\n",
       "</style>\n",
       "<table border=\"1\" class=\"dataframe\">\n",
       "  <thead>\n",
       "    <tr style=\"text-align: right;\">\n",
       "      <th></th>\n",
       "      <th>Missing</th>\n",
       "      <th>% Missing</th>\n",
       "    </tr>\n",
       "  </thead>\n",
       "  <tbody>\n",
       "    <tr>\n",
       "      <th>Intermediate Consumption - Other Goods (Detergents, Small Tools, etc)</th>\n",
       "      <td>16</td>\n",
       "      <td>51.612903</td>\n",
       "    </tr>\n",
       "    <tr>\n",
       "      <th>Intermediate Consumption - Services</th>\n",
       "      <td>16</td>\n",
       "      <td>51.612903</td>\n",
       "    </tr>\n",
       "    <tr>\n",
       "      <th>Crops - Turf</th>\n",
       "      <td>6</td>\n",
       "      <td>19.354839</td>\n",
       "    </tr>\n",
       "  </tbody>\n",
       "</table>\n",
       "</div>"
      ],
      "text/plain": [
       "                                                    Missing  % Missing\n",
       "Intermediate Consumption - Other Goods (Deterge...       16  51.612903\n",
       "Intermediate Consumption - Services                      16  51.612903\n",
       "Crops - Turf                                              6  19.354839"
      ]
     },
     "metadata": {},
     "output_type": "display_data"
    }
   ],
   "source": [
    "eda_reports.report_missing_values(agriculture_prices1_dataframe)"
   ]
  },
  {
   "cell_type": "code",
   "execution_count": 15,
   "id": "5e493973",
   "metadata": {
    "ExecuteTime": {
     "end_time": "2022-01-27T04:11:35.967700Z",
     "start_time": "2022-01-27T04:11:35.937701Z"
    }
   },
   "outputs": [
    {
     "data": {
      "text/html": [
       "<div>\n",
       "<style scoped>\n",
       "    .dataframe tbody tr th:only-of-type {\n",
       "        vertical-align: middle;\n",
       "    }\n",
       "\n",
       "    .dataframe tbody tr th {\n",
       "        vertical-align: top;\n",
       "    }\n",
       "\n",
       "    .dataframe thead th {\n",
       "        text-align: right;\n",
       "    }\n",
       "</style>\n",
       "<table border=\"1\" class=\"dataframe\">\n",
       "  <thead>\n",
       "    <tr style=\"text-align: right;\">\n",
       "      <th></th>\n",
       "      <th>Year</th>\n",
       "      <th>Crops - Turf</th>\n",
       "      <th>Intermediate Consumption - Other Goods (Detergents, Small Tools, etc)</th>\n",
       "      <th>Intermediate Consumption - Services</th>\n",
       "    </tr>\n",
       "  </thead>\n",
       "  <tbody>\n",
       "    <tr>\n",
       "      <th>15</th>\n",
       "      <td>2005</td>\n",
       "      <td>32.7</td>\n",
       "      <td>NaN</td>\n",
       "      <td>NaN</td>\n",
       "    </tr>\n",
       "    <tr>\n",
       "      <th>16</th>\n",
       "      <td>2006</td>\n",
       "      <td>35.9</td>\n",
       "      <td>NaN</td>\n",
       "      <td>NaN</td>\n",
       "    </tr>\n",
       "    <tr>\n",
       "      <th>17</th>\n",
       "      <td>2007</td>\n",
       "      <td>32.8</td>\n",
       "      <td>NaN</td>\n",
       "      <td>NaN</td>\n",
       "    </tr>\n",
       "    <tr>\n",
       "      <th>18</th>\n",
       "      <td>2008</td>\n",
       "      <td>33.2</td>\n",
       "      <td>NaN</td>\n",
       "      <td>NaN</td>\n",
       "    </tr>\n",
       "    <tr>\n",
       "      <th>19</th>\n",
       "      <td>2009</td>\n",
       "      <td>34.8</td>\n",
       "      <td>NaN</td>\n",
       "      <td>NaN</td>\n",
       "    </tr>\n",
       "    <tr>\n",
       "      <th>20</th>\n",
       "      <td>2010</td>\n",
       "      <td>34.2</td>\n",
       "      <td>NaN</td>\n",
       "      <td>NaN</td>\n",
       "    </tr>\n",
       "    <tr>\n",
       "      <th>21</th>\n",
       "      <td>2011</td>\n",
       "      <td>35.0</td>\n",
       "      <td>NaN</td>\n",
       "      <td>NaN</td>\n",
       "    </tr>\n",
       "    <tr>\n",
       "      <th>22</th>\n",
       "      <td>2012</td>\n",
       "      <td>32.6</td>\n",
       "      <td>NaN</td>\n",
       "      <td>NaN</td>\n",
       "    </tr>\n",
       "    <tr>\n",
       "      <th>23</th>\n",
       "      <td>2013</td>\n",
       "      <td>0.0</td>\n",
       "      <td>NaN</td>\n",
       "      <td>NaN</td>\n",
       "    </tr>\n",
       "    <tr>\n",
       "      <th>24</th>\n",
       "      <td>2014</td>\n",
       "      <td>0.0</td>\n",
       "      <td>NaN</td>\n",
       "      <td>NaN</td>\n",
       "    </tr>\n",
       "    <tr>\n",
       "      <th>25</th>\n",
       "      <td>2015</td>\n",
       "      <td>NaN</td>\n",
       "      <td>NaN</td>\n",
       "      <td>NaN</td>\n",
       "    </tr>\n",
       "    <tr>\n",
       "      <th>26</th>\n",
       "      <td>2016</td>\n",
       "      <td>NaN</td>\n",
       "      <td>NaN</td>\n",
       "      <td>NaN</td>\n",
       "    </tr>\n",
       "    <tr>\n",
       "      <th>27</th>\n",
       "      <td>2017</td>\n",
       "      <td>NaN</td>\n",
       "      <td>NaN</td>\n",
       "      <td>NaN</td>\n",
       "    </tr>\n",
       "    <tr>\n",
       "      <th>28</th>\n",
       "      <td>2018</td>\n",
       "      <td>NaN</td>\n",
       "      <td>NaN</td>\n",
       "      <td>NaN</td>\n",
       "    </tr>\n",
       "    <tr>\n",
       "      <th>29</th>\n",
       "      <td>2019</td>\n",
       "      <td>NaN</td>\n",
       "      <td>NaN</td>\n",
       "      <td>NaN</td>\n",
       "    </tr>\n",
       "    <tr>\n",
       "      <th>30</th>\n",
       "      <td>2020</td>\n",
       "      <td>NaN</td>\n",
       "      <td>NaN</td>\n",
       "      <td>NaN</td>\n",
       "    </tr>\n",
       "  </tbody>\n",
       "</table>\n",
       "</div>"
      ],
      "text/plain": [
       "    Year  Crops - Turf  \\\n",
       "15  2005          32.7   \n",
       "16  2006          35.9   \n",
       "17  2007          32.8   \n",
       "18  2008          33.2   \n",
       "19  2009          34.8   \n",
       "20  2010          34.2   \n",
       "21  2011          35.0   \n",
       "22  2012          32.6   \n",
       "23  2013           0.0   \n",
       "24  2014           0.0   \n",
       "25  2015           NaN   \n",
       "26  2016           NaN   \n",
       "27  2017           NaN   \n",
       "28  2018           NaN   \n",
       "29  2019           NaN   \n",
       "30  2020           NaN   \n",
       "\n",
       "    Intermediate Consumption - Other Goods (Detergents, Small Tools, etc)  \\\n",
       "15                                                NaN                       \n",
       "16                                                NaN                       \n",
       "17                                                NaN                       \n",
       "18                                                NaN                       \n",
       "19                                                NaN                       \n",
       "20                                                NaN                       \n",
       "21                                                NaN                       \n",
       "22                                                NaN                       \n",
       "23                                                NaN                       \n",
       "24                                                NaN                       \n",
       "25                                                NaN                       \n",
       "26                                                NaN                       \n",
       "27                                                NaN                       \n",
       "28                                                NaN                       \n",
       "29                                                NaN                       \n",
       "30                                                NaN                       \n",
       "\n",
       "    Intermediate Consumption - Services  \n",
       "15                                  NaN  \n",
       "16                                  NaN  \n",
       "17                                  NaN  \n",
       "18                                  NaN  \n",
       "19                                  NaN  \n",
       "20                                  NaN  \n",
       "21                                  NaN  \n",
       "22                                  NaN  \n",
       "23                                  NaN  \n",
       "24                                  NaN  \n",
       "25                                  NaN  \n",
       "26                                  NaN  \n",
       "27                                  NaN  \n",
       "28                                  NaN  \n",
       "29                                  NaN  \n",
       "30                                  NaN  "
      ]
     },
     "metadata": {},
     "output_type": "display_data"
    }
   ],
   "source": [
    "eda_reports.print_columns_rows_with_missing_values(agriculture_prices1_dataframe, [YEAR])"
   ]
  },
  {
   "cell_type": "markdown",
   "id": "585ba19a",
   "metadata": {},
   "source": [
    "#### Data Type Analysis Quick View"
   ]
  },
  {
   "cell_type": "code",
   "execution_count": 16,
   "id": "d7390406",
   "metadata": {
    "ExecuteTime": {
     "end_time": "2022-01-27T04:11:36.281713Z",
     "start_time": "2022-01-27T04:11:35.969703Z"
    },
    "scrolled": false
   },
   "outputs": [
    {
     "data": {
      "text/html": [
       "<h4>cso-aea01-value-at-current-prices-for-output-input-and-income-in-agriculture.csv</h4>"
      ],
      "text/plain": [
       "<IPython.core.display.HTML object>"
      ]
     },
     "metadata": {},
     "output_type": "display_data"
    },
    {
     "data": {
      "text/html": [
       "<p>Row, Column Count: (31, 55)</p>"
      ],
      "text/plain": [
       "<IPython.core.display.HTML object>"
      ]
     },
     "metadata": {},
     "output_type": "display_data"
    },
    {
     "data": {
      "text/html": [
       "<h5>Sample: Top five rows</h5>"
      ],
      "text/plain": [
       "<IPython.core.display.HTML object>"
      ]
     },
     "metadata": {},
     "output_type": "display_data"
    },
    {
     "data": {
      "text/html": [
       "<div>\n",
       "<style scoped>\n",
       "    .dataframe tbody tr th:only-of-type {\n",
       "        vertical-align: middle;\n",
       "    }\n",
       "\n",
       "    .dataframe tbody tr th {\n",
       "        vertical-align: top;\n",
       "    }\n",
       "\n",
       "    .dataframe thead th {\n",
       "        text-align: right;\n",
       "    }\n",
       "</style>\n",
       "<table border=\"1\" class=\"dataframe\">\n",
       "  <thead>\n",
       "    <tr style=\"text-align: right;\">\n",
       "      <th></th>\n",
       "      <th>Year</th>\n",
       "      <th>Agricultural Output at Basic Prices</th>\n",
       "      <th>All Cereals</th>\n",
       "      <th>All Crops</th>\n",
       "      <th>All Livestock</th>\n",
       "      <th>All Livestock Products</th>\n",
       "      <th>All Livestock Products - Milk</th>\n",
       "      <th>All Livestock Products Other Products (excluding Milk)</th>\n",
       "      <th>Compensation of Employees</th>\n",
       "      <th>Contract Work</th>\n",
       "      <th>...</th>\n",
       "      <th>Livestock - Horses</th>\n",
       "      <th>Livestock - Pig</th>\n",
       "      <th>Livestock - Poultry</th>\n",
       "      <th>Livestock - Sheep</th>\n",
       "      <th>Net Value Added at Basic Prices</th>\n",
       "      <th>Operating Surplus</th>\n",
       "      <th>Other Subsidies Less Taxes on Production</th>\n",
       "      <th>Subsidies less Taxes on Products</th>\n",
       "      <th>Subsidies on Products</th>\n",
       "      <th>Taxes on Products</th>\n",
       "    </tr>\n",
       "  </thead>\n",
       "  <tbody>\n",
       "    <tr>\n",
       "      <th>25</th>\n",
       "      <td>2015</td>\n",
       "      <td>7404.2</td>\n",
       "      <td>262.7</td>\n",
       "      <td>1737.3</td>\n",
       "      <td>3452.5</td>\n",
       "      <td>1949.4</td>\n",
       "      <td>1881.1</td>\n",
       "      <td>68.3</td>\n",
       "      <td>489.0</td>\n",
       "      <td>348.0</td>\n",
       "      <td>...</td>\n",
       "      <td>247.3</td>\n",
       "      <td>456.3</td>\n",
       "      <td>142.2</td>\n",
       "      <td>245.2</td>\n",
       "      <td>1666.3</td>\n",
       "      <td>2587.2</td>\n",
       "      <td>1409.9</td>\n",
       "      <td>-82.9</td>\n",
       "      <td>43.2</td>\n",
       "      <td>126.2</td>\n",
       "    </tr>\n",
       "    <tr>\n",
       "      <th>11</th>\n",
       "      <td>2001</td>\n",
       "      <td>6066.8</td>\n",
       "      <td>169.8</td>\n",
       "      <td>1322.5</td>\n",
       "      <td>2175.1</td>\n",
       "      <td>1604.2</td>\n",
       "      <td>1566.1</td>\n",
       "      <td>38.1</td>\n",
       "      <td>371.5</td>\n",
       "      <td>279.3</td>\n",
       "      <td>...</td>\n",
       "      <td>146.5</td>\n",
       "      <td>346.1</td>\n",
       "      <td>137.7</td>\n",
       "      <td>284.4</td>\n",
       "      <td>1979.6</td>\n",
       "      <td>2177.1</td>\n",
       "      <td>569.0</td>\n",
       "      <td>685.8</td>\n",
       "      <td>710.8</td>\n",
       "      <td>25.0</td>\n",
       "    </tr>\n",
       "    <tr>\n",
       "      <th>24</th>\n",
       "      <td>2014</td>\n",
       "      <td>7293.9</td>\n",
       "      <td>280.5</td>\n",
       "      <td>1747.5</td>\n",
       "      <td>3070.1</td>\n",
       "      <td>2151.3</td>\n",
       "      <td>2093.1</td>\n",
       "      <td>58.2</td>\n",
       "      <td>495.7</td>\n",
       "      <td>358.7</td>\n",
       "      <td>...</td>\n",
       "      <td>221.7</td>\n",
       "      <td>471.3</td>\n",
       "      <td>133.3</td>\n",
       "      <td>231.6</td>\n",
       "      <td>1411.1</td>\n",
       "      <td>2441.2</td>\n",
       "      <td>1525.8</td>\n",
       "      <td>-33.7</td>\n",
       "      <td>28.8</td>\n",
       "      <td>62.5</td>\n",
       "    </tr>\n",
       "    <tr>\n",
       "      <th>17</th>\n",
       "      <td>2007</td>\n",
       "      <td>5975.4</td>\n",
       "      <td>241.8</td>\n",
       "      <td>1632.7</td>\n",
       "      <td>2378.7</td>\n",
       "      <td>1716.1</td>\n",
       "      <td>1667.5</td>\n",
       "      <td>48.6</td>\n",
       "      <td>448.6</td>\n",
       "      <td>288.3</td>\n",
       "      <td>...</td>\n",
       "      <td>269.3</td>\n",
       "      <td>288.6</td>\n",
       "      <td>133.0</td>\n",
       "      <td>184.5</td>\n",
       "      <td>1045.8</td>\n",
       "      <td>2442.0</td>\n",
       "      <td>1844.9</td>\n",
       "      <td>-40.4</td>\n",
       "      <td>0.7</td>\n",
       "      <td>41.1</td>\n",
       "    </tr>\n",
       "    <tr>\n",
       "      <th>20</th>\n",
       "      <td>2010</td>\n",
       "      <td>5822.1</td>\n",
       "      <td>192.9</td>\n",
       "      <td>1670.0</td>\n",
       "      <td>2259.6</td>\n",
       "      <td>1583.9</td>\n",
       "      <td>1541.9</td>\n",
       "      <td>42.0</td>\n",
       "      <td>464.7</td>\n",
       "      <td>319.1</td>\n",
       "      <td>...</td>\n",
       "      <td>145.9</td>\n",
       "      <td>333.7</td>\n",
       "      <td>112.2</td>\n",
       "      <td>165.6</td>\n",
       "      <td>654.9</td>\n",
       "      <td>1841.5</td>\n",
       "      <td>1651.3</td>\n",
       "      <td>-10.5</td>\n",
       "      <td>31.8</td>\n",
       "      <td>42.3</td>\n",
       "    </tr>\n",
       "  </tbody>\n",
       "</table>\n",
       "<p>5 rows × 55 columns</p>\n",
       "</div>"
      ],
      "text/plain": [
       "    Year  Agricultural Output at Basic Prices  All Cereals  All Crops  \\\n",
       "25  2015                               7404.2        262.7     1737.3   \n",
       "11  2001                               6066.8        169.8     1322.5   \n",
       "24  2014                               7293.9        280.5     1747.5   \n",
       "17  2007                               5975.4        241.8     1632.7   \n",
       "20  2010                               5822.1        192.9     1670.0   \n",
       "\n",
       "    All Livestock  All Livestock Products  All Livestock Products - Milk  \\\n",
       "25         3452.5                  1949.4                         1881.1   \n",
       "11         2175.1                  1604.2                         1566.1   \n",
       "24         3070.1                  2151.3                         2093.1   \n",
       "17         2378.7                  1716.1                         1667.5   \n",
       "20         2259.6                  1583.9                         1541.9   \n",
       "\n",
       "    All Livestock Products Other Products (excluding Milk)  \\\n",
       "25                                               68.3        \n",
       "11                                               38.1        \n",
       "24                                               58.2        \n",
       "17                                               48.6        \n",
       "20                                               42.0        \n",
       "\n",
       "    Compensation of Employees  Contract Work  ...  Livestock - Horses  \\\n",
       "25                      489.0          348.0  ...               247.3   \n",
       "11                      371.5          279.3  ...               146.5   \n",
       "24                      495.7          358.7  ...               221.7   \n",
       "17                      448.6          288.3  ...               269.3   \n",
       "20                      464.7          319.1  ...               145.9   \n",
       "\n",
       "    Livestock - Pig  Livestock - Poultry  Livestock - Sheep  \\\n",
       "25            456.3                142.2              245.2   \n",
       "11            346.1                137.7              284.4   \n",
       "24            471.3                133.3              231.6   \n",
       "17            288.6                133.0              184.5   \n",
       "20            333.7                112.2              165.6   \n",
       "\n",
       "    Net Value Added at Basic Prices  Operating Surplus  \\\n",
       "25                           1666.3             2587.2   \n",
       "11                           1979.6             2177.1   \n",
       "24                           1411.1             2441.2   \n",
       "17                           1045.8             2442.0   \n",
       "20                            654.9             1841.5   \n",
       "\n",
       "    Other Subsidies Less Taxes on Production  \\\n",
       "25                                    1409.9   \n",
       "11                                     569.0   \n",
       "24                                    1525.8   \n",
       "17                                    1844.9   \n",
       "20                                    1651.3   \n",
       "\n",
       "    Subsidies less Taxes on Products  Subsidies on Products  Taxes on Products  \n",
       "25                             -82.9                   43.2              126.2  \n",
       "11                             685.8                  710.8               25.0  \n",
       "24                             -33.7                   28.8               62.5  \n",
       "17                             -40.4                    0.7               41.1  \n",
       "20                             -10.5                   31.8               42.3  \n",
       "\n",
       "[5 rows x 55 columns]"
      ]
     },
     "metadata": {},
     "output_type": "display_data"
    },
    {
     "data": {
      "text/html": [
       "<h5>Data Types</h5>"
      ],
      "text/plain": [
       "<IPython.core.display.HTML object>"
      ]
     },
     "metadata": {},
     "output_type": "display_data"
    },
    {
     "data": {
      "text/plain": [
       "Year                                                                       int64\n",
       "Agricultural Output at Basic Prices                                      float64\n",
       "All Cereals                                                              float64\n",
       "All Crops                                                                float64\n",
       "All Livestock                                                            float64\n",
       "All Livestock Products                                                   float64\n",
       "All Livestock Products - Milk                                            float64\n",
       "All Livestock Products Other Products (excluding Milk)                   float64\n",
       "Compensation of Employees                                                float64\n",
       "Contract Work                                                            float64\n",
       "Crops - Barley                                                           float64\n",
       "Crops - Forage Plants                                                    float64\n",
       "Crops - Fresh Fruit                                                      float64\n",
       "Crops - Mushrooms                                                        float64\n",
       "Crops - Oats                                                             float64\n",
       "Crops - Other Crops                                                      float64\n",
       "Crops - Other Fresh Vegetables                                           float64\n",
       "Crops - Potatoes                                                         float64\n",
       "Crops - Sugar Beet                                                       float64\n",
       "Crops - Turf                                                             float64\n",
       "Crops - Wheat                                                            float64\n",
       "Entrepreneurial Income                                                   float64\n",
       "Factor Income                                                            float64\n",
       "Fixed Capital Consumption                                                float64\n",
       "Fixed Capital Consumption - Farm Buildings                               float64\n",
       "Fixed Capital Consumption - Machinery, Equipment, etc                    float64\n",
       "Goods Output at Producer Prices                                          float64\n",
       "Gross Value Added at Basic Prices                                        float64\n",
       "Interest less FISIM                                                      float64\n",
       "Intermediate Consumption                                                 float64\n",
       "Intermediate Consumption - Contract Work                                 float64\n",
       "Intermediate Consumption - Crop Protection Products                      float64\n",
       "Intermediate Consumption - Energy and Lubricants                         float64\n",
       "Intermediate Consumption - Feeding Stuffs                                float64\n",
       "Intermediate Consumption - Fertilisers                                   float64\n",
       "Intermediate Consumption - Financial Intermediation Services Indirect    float64\n",
       "Intermediate Consumption - Forage Plants                                 float64\n",
       "Intermediate Consumption - Maintenance and Repairs                       float64\n",
       "Intermediate Consumption - Other Goods (Detergents, Small Tools, etc)    float64\n",
       "Intermediate Consumption - Other Goods and Services                      float64\n",
       "Intermediate Consumption - Seeds                                         float64\n",
       "Intermediate Consumption - Services                                      float64\n",
       "Intermediate Consumption - Veterinary Expenses                           float64\n",
       "Land Rental                                                              float64\n",
       "Livestock - Cattle                                                       float64\n",
       "Livestock - Horses                                                       float64\n",
       "Livestock - Pig                                                          float64\n",
       "Livestock - Poultry                                                      float64\n",
       "Livestock - Sheep                                                        float64\n",
       "Net Value Added at Basic Prices                                          float64\n",
       "Operating Surplus                                                        float64\n",
       "Other Subsidies Less Taxes on Production                                 float64\n",
       "Subsidies less Taxes on Products                                         float64\n",
       "Subsidies on Products                                                    float64\n",
       "Taxes on Products                                                        float64\n",
       "dtype: object"
      ]
     },
     "metadata": {},
     "output_type": "display_data"
    },
    {
     "data": {
      "text/html": [
       "<h5>Duplicates</h5>"
      ],
      "text/plain": [
       "<IPython.core.display.HTML object>"
      ]
     },
     "metadata": {},
     "output_type": "display_data"
    },
    {
     "data": {
      "text/html": [
       "<p>Number of duplicate rows: 0</p>"
      ],
      "text/plain": [
       "<IPython.core.display.HTML object>"
      ]
     },
     "metadata": {},
     "output_type": "display_data"
    },
    {
     "data": {
      "text/html": [
       "<h5>Null Values</h5>"
      ],
      "text/plain": [
       "<IPython.core.display.HTML object>"
      ]
     },
     "metadata": {},
     "output_type": "display_data"
    },
    {
     "data": {
      "text/html": [
       "<div>\n",
       "<style scoped>\n",
       "    .dataframe tbody tr th:only-of-type {\n",
       "        vertical-align: middle;\n",
       "    }\n",
       "\n",
       "    .dataframe tbody tr th {\n",
       "        vertical-align: top;\n",
       "    }\n",
       "\n",
       "    .dataframe thead th {\n",
       "        text-align: right;\n",
       "    }\n",
       "</style>\n",
       "<table border=\"1\" class=\"dataframe\">\n",
       "  <thead>\n",
       "    <tr style=\"text-align: right;\">\n",
       "      <th></th>\n",
       "      <th>Missing</th>\n",
       "      <th>% Missing</th>\n",
       "    </tr>\n",
       "  </thead>\n",
       "  <tbody>\n",
       "    <tr>\n",
       "      <th>Intermediate Consumption - Other Goods (Detergents, Small Tools, etc)</th>\n",
       "      <td>16</td>\n",
       "      <td>51.612903</td>\n",
       "    </tr>\n",
       "    <tr>\n",
       "      <th>Intermediate Consumption - Services</th>\n",
       "      <td>16</td>\n",
       "      <td>51.612903</td>\n",
       "    </tr>\n",
       "    <tr>\n",
       "      <th>Crops - Turf</th>\n",
       "      <td>6</td>\n",
       "      <td>19.354839</td>\n",
       "    </tr>\n",
       "  </tbody>\n",
       "</table>\n",
       "</div>"
      ],
      "text/plain": [
       "                                                    Missing  % Missing\n",
       "Intermediate Consumption - Other Goods (Deterge...       16  51.612903\n",
       "Intermediate Consumption - Services                      16  51.612903\n",
       "Crops - Turf                                              6  19.354839"
      ]
     },
     "metadata": {},
     "output_type": "display_data"
    },
    {
     "data": {
      "text/html": [
       "<h5>Single Value Columns</h5>"
      ],
      "text/plain": [
       "<IPython.core.display.HTML object>"
      ]
     },
     "metadata": {},
     "output_type": "display_data"
    },
    {
     "data": {
      "text/html": [
       "<p>No single value columns found.</p>"
      ],
      "text/plain": [
       "<IPython.core.display.HTML object>"
      ]
     },
     "metadata": {},
     "output_type": "display_data"
    },
    {
     "data": {
      "text/html": [
       "<h5>Columns: Unique value counts</h5>"
      ],
      "text/plain": [
       "<IPython.core.display.HTML object>"
      ]
     },
     "metadata": {},
     "output_type": "display_data"
    },
    {
     "data": {
      "text/html": [
       "<ul><li>The column \"Year\" has 31 unique values.</li><li>The column \"Agricultural Output at Basic Prices\" has 31 unique values.</li><li>The column \"All Cereals\" has 31 unique values.</li><li>The column \"All Crops\" has 31 unique values.</li><li>The column \"All Livestock\" has 31 unique values.</li><li>The column \"All Livestock Products\" has 31 unique values.</li><li>The column \"All Livestock Products - Milk\" has 31 unique values.</li><li>The column \"All Livestock Products Other Products (excluding Milk)\" has 30 unique values.</li><li>The column \"Compensation of Employees\" has 31 unique values.</li><li>The column \"Contract Work\" has 31 unique values.</li><li>The column \"Crops - Barley\" has 31 unique values.</li><li>The column \"Crops - Forage Plants\" has 31 unique values.</li><li>The column \"Crops - Fresh Fruit\" has 31 unique values.</li><li>The column \"Crops - Mushrooms\" has 31 unique values.</li><li>The column \"Crops - Oats\" has 27 unique values.</li><li>The column \"Crops - Other Crops\" has 30 unique values.</li><li>The column \"Crops - Other Fresh Vegetables\" has 31 unique values.</li><li>The column \"Crops - Potatoes\" has 31 unique values.</li><li>The column \"Crops - Sugar Beet\" has 16 unique values.</li><li>The column \"Crops - Turf\" has 23 unique values.</li><li>The column \"Crops - Wheat\" has 31 unique values.</li><li>The column \"Entrepreneurial Income\" has 31 unique values.</li><li>The column \"Factor Income\" has 31 unique values.</li><li>The column \"Fixed Capital Consumption\" has 31 unique values.</li><li>The column \"Fixed Capital Consumption - Farm Buildings\" has 31 unique values.</li><li>The column \"Fixed Capital Consumption - Machinery, Equipment, etc\" has 31 unique values.</li><li>The column \"Goods Output at Producer Prices\" has 31 unique values.</li><li>The column \"Gross Value Added at Basic Prices\" has 31 unique values.</li><li>The column \"Interest less FISIM\" has 31 unique values.</li><li>The column \"Intermediate Consumption\" has 31 unique values.</li><li>The column \"Intermediate Consumption - Contract Work\" has 31 unique values.</li><li>The column \"Intermediate Consumption - Crop Protection Products\" has 31 unique values.</li><li>The column \"Intermediate Consumption - Energy and Lubricants\" has 31 unique values.</li><li>The column \"Intermediate Consumption - Feeding Stuffs\" has 31 unique values.</li><li>The column \"Intermediate Consumption - Fertilisers\" has 31 unique values.</li><li>The column \"Intermediate Consumption - Financial Intermediation Services Indirect\" has 28 unique values.</li><li>The column \"Intermediate Consumption - Forage Plants\" has 31 unique values.</li><li>The column \"Intermediate Consumption - Maintenance and Repairs\" has 31 unique values.</li><li>The column \"Intermediate Consumption - Other Goods (Detergents, Small Tools, etc)\" has 15 unique values.</li><li>The column \"Intermediate Consumption - Other Goods and Services\" has 31 unique values.</li><li>The column \"Intermediate Consumption - Seeds\" has 31 unique values.</li><li>The column \"Intermediate Consumption - Services\" has 15 unique values.</li><li>The column \"Intermediate Consumption - Veterinary Expenses\" has 31 unique values.</li><li>The column \"Land Rental\" has 31 unique values.</li><li>The column \"Livestock - Cattle\" has 31 unique values.</li><li>The column \"Livestock - Horses\" has 31 unique values.</li><li>The column \"Livestock - Pig\" has 31 unique values.</li><li>The column \"Livestock - Poultry\" has 30 unique values.</li><li>The column \"Livestock - Sheep\" has 31 unique values.</li><li>The column \"Net Value Added at Basic Prices\" has 31 unique values.</li><li>The column \"Operating Surplus\" has 31 unique values.</li><li>The column \"Other Subsidies Less Taxes on Production\" has 31 unique values.</li><li>The column \"Subsidies less Taxes on Products\" has 31 unique values.</li><li>The column \"Subsidies on Products\" has 31 unique values.</li><li>The column \"Taxes on Products\" has 31 unique values.</li></ul>"
      ],
      "text/plain": [
       "<IPython.core.display.HTML object>"
      ]
     },
     "metadata": {},
     "output_type": "display_data"
    },
    {
     "data": {
      "text/html": [
       "<h5>Outlier Analysis</h5>"
      ],
      "text/plain": [
       "<IPython.core.display.HTML object>"
      ]
     },
     "metadata": {},
     "output_type": "display_data"
    },
    {
     "data": {
      "text/html": [
       "<ul><li>The column \"All Livestock Products\" has 4 outliers. Recommend removing outliers.</li><li>The column \"All Livestock Products - Milk\" has 4 outliers. Recommend removing outliers.</li><li>The column \"Crops - Mushrooms\" has 4 outliers. Recommend removing outliers.</li><li>The column \"Crops - Potatoes\" has 1 outlier. Recommend removing outlier.</li><li>The column \"Crops - Turf\" has 4 outliers. Recommend removing outliers.</li><li>The column \"Crops - Wheat\" has 3 outliers. Recommend removing outliers.</li><li>The column \"Entrepreneurial Income\" has 3 outliers. Recommend removing outliers.</li><li>The column \"Factor Income\" has 3 outliers. Recommend removing outliers.</li><li>The column \"Intermediate Consumption - Seeds\" has 1 outlier. Recommend removing outlier.</li><li>The column \"Land Rental\" has 1 outlier. Recommend removing outlier.</li><li>The column \"Livestock - Poultry\" has 1 outlier. Recommend removing outlier.</li><li>The column \"Operating Surplus\" has 3 outliers. Recommend removing outliers.</li><li>The column \"Taxes on Products\" has 1 outlier. Recommend removing outlier.</li></ul>"
      ],
      "text/plain": [
       "<IPython.core.display.HTML object>"
      ]
     },
     "metadata": {},
     "output_type": "display_data"
    }
   ],
   "source": [
    "eda_reports.print_dataframe_analysis_report(agriculture_prices1_dataframe, filename)"
   ]
  },
  {
   "cell_type": "markdown",
   "id": "edc39f61",
   "metadata": {},
   "source": [
    "### Save Artifact"
   ]
  },
  {
   "cell_type": "markdown",
   "id": "74be102e",
   "metadata": {},
   "source": [
    "Saving the output of the notebook."
   ]
  },
  {
   "cell_type": "code",
   "execution_count": 17,
   "id": "117503dc",
   "metadata": {
    "ExecuteTime": {
     "end_time": "2022-01-27T04:11:36.312716Z",
     "start_time": "2022-01-27T04:11:36.283699Z"
    }
   },
   "outputs": [],
   "source": [
    "agriculture_prices1_dataframe.to_csv(\n",
    "    './../artifacts/irish-milk-production-eda-output.csv', index=None)"
   ]
  },
  {
   "cell_type": "markdown",
   "id": "4ddde460",
   "metadata": {},
   "source": [
    "Author &copy; 2021 <a href=\"https://github.com/markcrowe-com\" target=\"_parent\">Mark Crowe</a>. All rights reserved."
   ]
  },
  {
   "cell_type": "code",
   "execution_count": null,
   "id": "2c5f90d0",
   "metadata": {},
   "outputs": [],
   "source": []
  }
 ],
 "metadata": {
  "kernelspec": {
   "display_name": "Python 3",
   "language": "python",
   "name": "python3"
  },
  "language_info": {
   "codemirror_mode": {
    "name": "ipython",
    "version": 3
   },
   "file_extension": ".py",
   "mimetype": "text/x-python",
   "name": "python",
   "nbconvert_exporter": "python",
   "pygments_lexer": "ipython3",
   "version": "3.8.8"
  },
  "toc": {
   "base_numbering": 1,
   "nav_menu": {
    "height": "204px",
    "width": "371px"
   },
   "number_sections": false,
   "sideBar": true,
   "skip_h1_title": false,
   "title_cell": "Table of Contents",
   "title_sidebar": "Contents",
   "toc_cell": false,
   "toc_position": {
    "height": "calc(100% - 180px)",
    "left": "10px",
    "top": "150px",
    "width": "327px"
   },
   "toc_section_display": true,
   "toc_window_display": true
  }
 },
 "nbformat": 4,
 "nbformat_minor": 5
}
